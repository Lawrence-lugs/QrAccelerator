{
 "cells": [
  {
   "cell_type": "code",
   "execution_count": null,
   "id": "7cf480d4",
   "metadata": {},
   "outputs": [],
   "source": [
    "%load_ext autoreload\n",
    "%autoreload 2\n",
    "\n",
    "import pandas as pd\n",
    "import seaborn as sns\n",
    "import numpy as np\n",
    "from parse_reports import *\n",
    "import matplotlib.pyplot as plt\n",
    "sns.set_theme(style=\"whitegrid\")\n",
    "import pandas as pd\n"
   ]
  },
  {
   "cell_type": "code",
   "execution_count": null,
   "id": "c9fa2124",
   "metadata": {},
   "outputs": [],
   "source": [
    "module_name_dict = {\n",
    "    \"Activation Memory\" : \"activation\",\n",
    "    \"Feature Loader\"    : \"feature\",\n",
    "    \"Output Aligner\"    : \"mm\",\n",
    "    \"Output Scaler\"  : \"output\",\n",
    "    \"Padding Module\" : \"padder\",\n",
    "    \"Write Queue\"   : \"piso\",\n",
    "    \"Controller\"    : \"qracc\",\n",
    "    \"SeqAcc (Digital)\" : \"seq\",\n",
    "    \"WSAcc\": \"wsacc\",\n",
    "}\n",
    "\n",
    "module_name_dict_full = {\n",
    "    'u_activation_buffer': 'Activation Memory',\n",
    "    'u_csr': 'Controller',\n",
    "    'u_feature_loader': 'Feature Loader',\n",
    "    'u_mm_output_aligner': 'Output Aligner',\n",
    "    'u_output_scaler_set': 'Output Scaler',\n",
    "    'u_padder': 'Padding Module',\n",
    "    'u_piso_write_queue': 'Write Queue',\n",
    "    'u_qracc_controller': 'Controller',\n",
    "    'u_seq_acc': 'SeqAcc (Digital)',\n",
    "    'u_wsacc': 'WSAcc',\n",
    "}"
   ]
  },
  {
   "cell_type": "code",
   "execution_count": null,
   "id": "ae950db1",
   "metadata": {},
   "outputs": [],
   "source": [
    "\n",
    "# --- Power Report ---\n",
    "power_report_path = \"/home/lquizon/lawrence-workspace/SRAM_test/qrAcc2/qr_acc_2_digital/results/base_with_sram_1/reports/power_qr_acc_top.txt\"\n",
    "df_power = parse_report(power_report_path)\n",
    "# Clean up the hierarchy names\n",
    "df_power['hierarchy_clean'] = df_power['hierarchy'].replace(module_name_dict_full)\n",
    "df_power_level1 = df_power[df_power['hierarchy_level'] == 1]\n",
    "\n",
    "# --- Area Report ---\n",
    "area_report_path = \"/home/lquizon/lawrence-workspace/SRAM_test/qrAcc2/qr_acc_2_digital/results/base_with_sram_1/reports/area_qr_acc_top.txt\"\n",
    "df_area = parse_report(area_report_path)\n",
    "df_area['hierarchy_clean'] = df_area['hierarchy'].replace(module_name_dict_full)\n",
    "df_area_level1 = df_area[df_area['hierarchy_level'] == 1]"
   ]
  },
  {
   "cell_type": "code",
   "execution_count": null,
   "id": "d0b1a4b9",
   "metadata": {},
   "outputs": [],
   "source": [
    "plot_power_pie(df_power_level1)\n",
    "plt.savefig('power_pie.svg', bbox_inches='tight')"
   ]
  },
  {
   "cell_type": "code",
   "execution_count": null,
   "id": "b5a5d709",
   "metadata": {},
   "outputs": [],
   "source": [
    "plot_power_report(df_power_level1)\n",
    "plt.savefig('power_bar.svg', bbox_inches='tight')"
   ]
  },
  {
   "cell_type": "code",
   "execution_count": null,
   "id": "b0edb3f2",
   "metadata": {},
   "outputs": [],
   "source": [
    "dfa = parse_area_report(\"/home/lquizon/lawrence-workspace/SRAM_test/qrAcc2/qr_acc_2_digital/results/base_with_sram_1/reports/area_qr_acc_top.txt\")\n",
    "dfa_level1 = dfa[dfa['hierarchy_level'] == 1]\n",
    "dfa_level1"
   ]
  },
  {
   "cell_type": "code",
   "execution_count": null,
   "id": "7314a88b",
   "metadata": {},
   "outputs": [],
   "source": [
    "fig, ax = plt.subplots(figsize=(4, 2), dpi=300)\n",
    "plot_area_report(df_area_level1, ax=ax)\n",
    "plt.savefig('area_bar.svg', bbox_inches='tight')"
   ]
  },
  {
   "cell_type": "code",
   "execution_count": null,
   "id": "187eac5d",
   "metadata": {},
   "outputs": [],
   "source": [
    "plot_area_pie(df_area_level1,-30)\n",
    "plt.savefig('area_pie.svg', bbox_inches='tight')"
   ]
  },
  {
   "cell_type": "markdown",
   "id": "2c445d9b",
   "metadata": {},
   "source": [
    "# Per-state Power"
   ]
  },
  {
   "cell_type": "code",
   "execution_count": null,
   "id": "55366390",
   "metadata": {},
   "outputs": [],
   "source": [
    "power_path_dicts = {\n",
    "    'Compute Analog': 'per_state_primetime/power/computeanalog_power_pt.rpt',\n",
    "    'Compute Digital': 'per_state_primetime/power/computedigital_power_pt.rpt',\n",
    "    'Idle': 'per_state_primetime/power/idle_power_pt.rpt',\n",
    "    'Load Acts': 'per_state_primetime/power/loadacts_power_pt.rpt',\n",
    "    'Load Bias': 'per_state_primetime/power/loadbias_power_pt.rpt',\n",
    "    'Load Scalers': 'per_state_primetime/power/loadscaler_power_pt.rpt',\n",
    "    'Load Weights': 'per_state_primetime/power/loadweights_power_pt.rpt',\n",
    "    'Load Weights (WSAcc)': 'per_state_primetime/power/loadweightsdigital_power_pt.rpt',\n",
    "    'Read Acts': 'per_state_primetime/power/readacts_power_pt.rpt',\n",
    "}\n",
    "\n",
    "# Parse the power reports for each state into a single DataFrame\n",
    "df_power_states = pd.DataFrame()\n",
    "for state, path in power_path_dicts.items():\n",
    "    state_df = parse_report(path)\n",
    "    state_df['state'] = state\n",
    "    df_power_states = pd.concat([df_power_states, state_df], ignore_index=True)\n",
    "df_power_states.to_csv('per_state_power.csv', index=False)"
   ]
  },
  {
   "cell_type": "code",
   "execution_count": null,
   "id": "82ca09ab",
   "metadata": {},
   "outputs": [],
   "source": [
    "# Get the clean CSV for the manuscript\n",
    "# CSV contains only module name, state, and the 4 power columns\n",
    "# Also includes only hierarchy level 1\n",
    "\n",
    "# Clean the names of the columns\n",
    "column_dict = {\n",
    "    'Module': 'module_name',\n",
    "    'State': 'state',\n",
    "    'Internal Power': 'int_power',\n",
    "    'Switching Power': 'switch_power',\n",
    "    'Leakage Power': 'leak_power',\n",
    "    'Total Power': 'total_power'\n",
    "}\n",
    "\n",
    "module_name_dict = {\n",
    "    \"Activation Memory\" : \"activation\",\n",
    "    \"Feature Loader\"    : \"feature\",\n",
    "    \"Output Aligner\"    : \"mm\",\n",
    "    \"Output Scaler\"  : \"output\",\n",
    "    \"Padding Module\" : \"padder\",\n",
    "    \"Write Queue\"   : \"piso\",\n",
    "    \"Controller\"    : \"qracc\",\n",
    "    \"SeqAcc (Digital)\" : \"seq\",\n",
    "    \"WSAcc\": \"wsacc\",\n",
    "}\n",
    "\n",
    "# Reverse the entries of the dictionary\n",
    "module_name_dict = {v: k for k, v in module_name_dict.items()}\n",
    "\n",
    "df_power_states_clean = df_power_states[df_power_states['hierarchy_level'] == 1]\n",
    "df_power_states_clean = df_power_states_clean[['module_name', 'state', 'total_power']]\n",
    "# Use engineering format\n",
    "# df_power_states_clean['total_power'] = df_power_states_clean['total_power'].apply(lambda x: np.around(x, 2)) \n",
    "# Use module name as index, and state as columns\n",
    "# If there are duplicate (module_name, state) pairs, aggregate them (e.g., sum or mean)\n",
    "df_power_states_clean = df_power_states_clean.groupby(['module_name', 'state'], as_index=False).agg({'total_power': 'first'})\n",
    "df_power_states_clean = df_power_states_clean.pivot(index='module_name', columns='state', values='total_power')\n",
    "# Rename index to 'Module'\n",
    "df_power_states_clean.index.name = 'Module'\n",
    "# Add total power row\n",
    "# Rename the index to the module names\n",
    "df_power_states_clean.index = df_power_states_clean.index.map(module_name_dict)\n",
    "df_power_states_clean.loc['Total Power'] = df_power_states_clean.sum(numeric_only=True)\n",
    "\n",
    "# Add a column for the average power of each module\n",
    "df_power_states_clean.to_csv('per_state_power_clean.csv')\n",
    "df_power_states_clean['Average Power'] = df_power_states_clean.mean(axis=1)\n",
    "\n",
    "df_power_states_clean.to_csv('per_state_power_clean_withavg.csv')\n",
    "df_power_states_clean"
   ]
  },
  {
   "cell_type": "code",
   "execution_count": null,
   "id": "ec7fcd34",
   "metadata": {},
   "outputs": [],
   "source": [
    "# Stacked bar plot of the per-state power\n",
    "df_power_states_clean = pd.read_csv('per_state_power_clean.csv', index_col=0)\n",
    "df_power_states_clean = df_power_states_clean.drop('Total Power')\n",
    "df_power_states_clean = df_power_states_clean.T\n",
    "fig = plt.figure(figsize=(5, 3), dpi=300)\n",
    "ax = fig.add_subplot(111)\n",
    "df_power_states_clean.plot(kind='bar', stacked=True,\n",
    "                          title='Per-State Power Consumption',\n",
    "                          ylabel='Power (W)',\n",
    "                          xlabel='State',\n",
    "                          colormap='tab20',\n",
    "                          width=0.8,\n",
    "                          ax=ax)\n",
    "# set legend outside the plot\n",
    "plt.legend(loc='upper left', bbox_to_anchor=(1, 1), title='Module')\n",
    "# Use engformatter for y-axis\n",
    "from matplotlib.ticker import EngFormatter\n",
    "eng_format = EngFormatter()\n",
    "ax.yaxis.set_major_formatter(eng_format)\n",
    "plt.xticks(rotation=30, ha='right')"
   ]
  },
  {
   "cell_type": "code",
   "execution_count": null,
   "id": "d0edbc8d",
   "metadata": {},
   "outputs": [],
   "source": [
    "# Bar plot of the average power of each module\n",
    "df_power_states_clean = pd.read_csv('per_state_power_clean_withavg.csv', index_col=0)\n",
    "df_power_states_clean = df_power_states_clean.drop('Total Power')\n",
    "df_power_states_clean = df_power_states_clean.sort_values(by='Average Power', ascending=False)\n",
    "fig = plt.figure(figsize=(5, 3), dpi=300)\n",
    "ax = fig.add_subplot(111)\n",
    "# turn index into a column\n",
    "df_power_states_clean = df_power_states_clean.reset_index()\n",
    "df_power_states_clean['hierarchy_clean'] = df_power_states_clean['Module']\n",
    "df_power_states_clean['total_power'] = df_power_states_clean['Average Power']\n",
    "# Add a percentage column\n",
    "df_power_states_clean['percentage'] = df_power_states_clean['Average Power'] / df_power_states_clean['Average Power'].sum() * 100\n",
    "\n",
    "plot_power_report(df_power_states_clean, ax=ax)"
   ]
  },
  {
   "cell_type": "code",
   "execution_count": null,
   "id": "dc7d89c9",
   "metadata": {},
   "outputs": [],
   "source": [
    "plot_power_pie(df_power_states_clean, 45)"
   ]
  }
 ],
 "metadata": {
  "kernelspec": {
   "display_name": "ic_dec",
   "language": "python",
   "name": "python3"
  },
  "language_info": {
   "codemirror_mode": {
    "name": "ipython",
    "version": 3
   },
   "file_extension": ".py",
   "mimetype": "text/x-python",
   "name": "python",
   "nbconvert_exporter": "python",
   "pygments_lexer": "ipython3",
   "version": "3.12.2"
  }
 },
 "nbformat": 4,
 "nbformat_minor": 5
}
