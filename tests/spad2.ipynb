{
 "cells": [
  {
   "cell_type": "code",
   "execution_count": 1,
   "metadata": {},
   "outputs": [],
   "source": [
    "%load_ext autoreload\n",
    "%autoreload 2\n",
    "\n",
    "import hwacctools.quantization.quant as q\n",
    "from stim_lib.stimulus_gen import generate_qracc_inputs\n",
    "import numpy as np\n",
    "import plotly.express as px\n",
    "import seaborn as sns\n",
    "import pandas as pd\n",
    "import plotly.subplots as sp\n",
    "\n",
    "df = pd.DataFrame\n",
    "sns.set_theme()"
   ]
  },
  {
   "cell_type": "code",
   "execution_count": 2,
   "metadata": {},
   "outputs": [
    {
     "name": "stdout",
     "output_type": "stream",
     "text": [
      "[STIM_GEN] Generating random weights\n"
     ]
    }
   ],
   "source": [
    "w,x,wxb = generate_qracc_inputs(\n",
    "    wDimX = 32, #nColumns\n",
    "    wDimY = 128, #nRows\n",
    "    xBatches = 10,\n",
    "    xTrits = 7,\n",
    "    outBits = 4,\n",
    "    seed = 0,\n",
    "    weight_mode = 'bipolar',\n",
    "    col_symmetric=False,\n",
    "    clip_output = False\n",
    ")"
   ]
  },
  {
   "cell_type": "code",
   "execution_count": 3,
   "metadata": {},
   "outputs": [
    {
     "data": {
      "text/html": [
       "<div>\n",
       "<style scoped>\n",
       "    .dataframe tbody tr th:only-of-type {\n",
       "        vertical-align: middle;\n",
       "    }\n",
       "\n",
       "    .dataframe tbody tr th {\n",
       "        vertical-align: top;\n",
       "    }\n",
       "\n",
       "    .dataframe thead th {\n",
       "        text-align: right;\n",
       "    }\n",
       "</style>\n",
       "<table border=\"1\" class=\"dataframe\">\n",
       "  <thead>\n",
       "    <tr style=\"text-align: right;\">\n",
       "      <th></th>\n",
       "      <th>0</th>\n",
       "      <th>1</th>\n",
       "      <th>2</th>\n",
       "      <th>3</th>\n",
       "      <th>4</th>\n",
       "      <th>5</th>\n",
       "      <th>6</th>\n",
       "      <th>7</th>\n",
       "      <th>8</th>\n",
       "      <th>9</th>\n",
       "      <th>...</th>\n",
       "      <th>22</th>\n",
       "      <th>23</th>\n",
       "      <th>24</th>\n",
       "      <th>25</th>\n",
       "      <th>26</th>\n",
       "      <th>27</th>\n",
       "      <th>28</th>\n",
       "      <th>29</th>\n",
       "      <th>30</th>\n",
       "      <th>31</th>\n",
       "    </tr>\n",
       "  </thead>\n",
       "  <tbody>\n",
       "    <tr>\n",
       "      <th>0</th>\n",
       "      <td>-995</td>\n",
       "      <td>779</td>\n",
       "      <td>-475</td>\n",
       "      <td>-995</td>\n",
       "      <td>321</td>\n",
       "      <td>-443</td>\n",
       "      <td>531</td>\n",
       "      <td>-215</td>\n",
       "      <td>963</td>\n",
       "      <td>-425</td>\n",
       "      <td>...</td>\n",
       "      <td>-981</td>\n",
       "      <td>751</td>\n",
       "      <td>-607</td>\n",
       "      <td>-707</td>\n",
       "      <td>1895</td>\n",
       "      <td>-425</td>\n",
       "      <td>99</td>\n",
       "      <td>57</td>\n",
       "      <td>765</td>\n",
       "      <td>-611</td>\n",
       "    </tr>\n",
       "    <tr>\n",
       "      <th>1</th>\n",
       "      <td>588</td>\n",
       "      <td>472</td>\n",
       "      <td>2166</td>\n",
       "      <td>374</td>\n",
       "      <td>-56</td>\n",
       "      <td>-404</td>\n",
       "      <td>-1208</td>\n",
       "      <td>-144</td>\n",
       "      <td>780</td>\n",
       "      <td>-664</td>\n",
       "      <td>...</td>\n",
       "      <td>-566</td>\n",
       "      <td>-536</td>\n",
       "      <td>-1298</td>\n",
       "      <td>474</td>\n",
       "      <td>756</td>\n",
       "      <td>1072</td>\n",
       "      <td>-766</td>\n",
       "      <td>1610</td>\n",
       "      <td>-218</td>\n",
       "      <td>1294</td>\n",
       "    </tr>\n",
       "    <tr>\n",
       "      <th>2</th>\n",
       "      <td>-1373</td>\n",
       "      <td>521</td>\n",
       "      <td>991</td>\n",
       "      <td>-1109</td>\n",
       "      <td>-339</td>\n",
       "      <td>1141</td>\n",
       "      <td>-555</td>\n",
       "      <td>-167</td>\n",
       "      <td>73</td>\n",
       "      <td>-71</td>\n",
       "      <td>...</td>\n",
       "      <td>-525</td>\n",
       "      <td>813</td>\n",
       "      <td>399</td>\n",
       "      <td>-423</td>\n",
       "      <td>581</td>\n",
       "      <td>-1035</td>\n",
       "      <td>1005</td>\n",
       "      <td>-905</td>\n",
       "      <td>-701</td>\n",
       "      <td>299</td>\n",
       "    </tr>\n",
       "    <tr>\n",
       "      <th>3</th>\n",
       "      <td>-1354</td>\n",
       "      <td>-410</td>\n",
       "      <td>1474</td>\n",
       "      <td>826</td>\n",
       "      <td>1228</td>\n",
       "      <td>-750</td>\n",
       "      <td>700</td>\n",
       "      <td>-614</td>\n",
       "      <td>-724</td>\n",
       "      <td>592</td>\n",
       "      <td>...</td>\n",
       "      <td>-372</td>\n",
       "      <td>-278</td>\n",
       "      <td>-474</td>\n",
       "      <td>292</td>\n",
       "      <td>-1200</td>\n",
       "      <td>220</td>\n",
       "      <td>-266</td>\n",
       "      <td>-880</td>\n",
       "      <td>-708</td>\n",
       "      <td>208</td>\n",
       "    </tr>\n",
       "    <tr>\n",
       "      <th>4</th>\n",
       "      <td>887</td>\n",
       "      <td>627</td>\n",
       "      <td>-235</td>\n",
       "      <td>267</td>\n",
       "      <td>197</td>\n",
       "      <td>-911</td>\n",
       "      <td>-37</td>\n",
       "      <td>137</td>\n",
       "      <td>-367</td>\n",
       "      <td>-31</td>\n",
       "      <td>...</td>\n",
       "      <td>519</td>\n",
       "      <td>-177</td>\n",
       "      <td>-155</td>\n",
       "      <td>773</td>\n",
       "      <td>-221</td>\n",
       "      <td>339</td>\n",
       "      <td>-527</td>\n",
       "      <td>323</td>\n",
       "      <td>-783</td>\n",
       "      <td>1377</td>\n",
       "    </tr>\n",
       "    <tr>\n",
       "      <th>5</th>\n",
       "      <td>894</td>\n",
       "      <td>-628</td>\n",
       "      <td>100</td>\n",
       "      <td>306</td>\n",
       "      <td>-1690</td>\n",
       "      <td>-312</td>\n",
       "      <td>-356</td>\n",
       "      <td>-878</td>\n",
       "      <td>-486</td>\n",
       "      <td>-590</td>\n",
       "      <td>...</td>\n",
       "      <td>-1322</td>\n",
       "      <td>-592</td>\n",
       "      <td>702</td>\n",
       "      <td>-342</td>\n",
       "      <td>-414</td>\n",
       "      <td>232</td>\n",
       "      <td>18</td>\n",
       "      <td>-194</td>\n",
       "      <td>-272</td>\n",
       "      <td>542</td>\n",
       "    </tr>\n",
       "    <tr>\n",
       "      <th>6</th>\n",
       "      <td>526</td>\n",
       "      <td>140</td>\n",
       "      <td>-906</td>\n",
       "      <td>210</td>\n",
       "      <td>806</td>\n",
       "      <td>2582</td>\n",
       "      <td>-828</td>\n",
       "      <td>842</td>\n",
       "      <td>-1862</td>\n",
       "      <td>-212</td>\n",
       "      <td>...</td>\n",
       "      <td>-954</td>\n",
       "      <td>-986</td>\n",
       "      <td>-50</td>\n",
       "      <td>28</td>\n",
       "      <td>-678</td>\n",
       "      <td>-432</td>\n",
       "      <td>-414</td>\n",
       "      <td>1186</td>\n",
       "      <td>-1672</td>\n",
       "      <td>744</td>\n",
       "    </tr>\n",
       "    <tr>\n",
       "      <th>7</th>\n",
       "      <td>-703</td>\n",
       "      <td>111</td>\n",
       "      <td>-1237</td>\n",
       "      <td>-1037</td>\n",
       "      <td>227</td>\n",
       "      <td>961</td>\n",
       "      <td>-1181</td>\n",
       "      <td>-845</td>\n",
       "      <td>117</td>\n",
       "      <td>-529</td>\n",
       "      <td>...</td>\n",
       "      <td>-947</td>\n",
       "      <td>-59</td>\n",
       "      <td>-691</td>\n",
       "      <td>-543</td>\n",
       "      <td>223</td>\n",
       "      <td>-1637</td>\n",
       "      <td>1217</td>\n",
       "      <td>1103</td>\n",
       "      <td>577</td>\n",
       "      <td>805</td>\n",
       "    </tr>\n",
       "    <tr>\n",
       "      <th>8</th>\n",
       "      <td>377</td>\n",
       "      <td>495</td>\n",
       "      <td>309</td>\n",
       "      <td>1937</td>\n",
       "      <td>-439</td>\n",
       "      <td>305</td>\n",
       "      <td>-727</td>\n",
       "      <td>-429</td>\n",
       "      <td>-37</td>\n",
       "      <td>651</td>\n",
       "      <td>...</td>\n",
       "      <td>25</td>\n",
       "      <td>1101</td>\n",
       "      <td>-5</td>\n",
       "      <td>-1999</td>\n",
       "      <td>-419</td>\n",
       "      <td>-1927</td>\n",
       "      <td>-963</td>\n",
       "      <td>-99</td>\n",
       "      <td>1707</td>\n",
       "      <td>1021</td>\n",
       "    </tr>\n",
       "    <tr>\n",
       "      <th>9</th>\n",
       "      <td>-128</td>\n",
       "      <td>74</td>\n",
       "      <td>706</td>\n",
       "      <td>824</td>\n",
       "      <td>1054</td>\n",
       "      <td>-248</td>\n",
       "      <td>-766</td>\n",
       "      <td>200</td>\n",
       "      <td>-552</td>\n",
       "      <td>-606</td>\n",
       "      <td>...</td>\n",
       "      <td>-392</td>\n",
       "      <td>-654</td>\n",
       "      <td>-336</td>\n",
       "      <td>-244</td>\n",
       "      <td>-836</td>\n",
       "      <td>38</td>\n",
       "      <td>220</td>\n",
       "      <td>378</td>\n",
       "      <td>-244</td>\n",
       "      <td>-314</td>\n",
       "    </tr>\n",
       "  </tbody>\n",
       "</table>\n",
       "<p>10 rows × 32 columns</p>\n",
       "</div>"
      ],
      "text/plain": [
       "     0    1     2     3     4     5     6    7     8    9   ...    22    23  \\\n",
       "0  -995  779  -475  -995   321  -443   531 -215   963 -425  ...  -981   751   \n",
       "1   588  472  2166   374   -56  -404 -1208 -144   780 -664  ...  -566  -536   \n",
       "2 -1373  521   991 -1109  -339  1141  -555 -167    73  -71  ...  -525   813   \n",
       "3 -1354 -410  1474   826  1228  -750   700 -614  -724  592  ...  -372  -278   \n",
       "4   887  627  -235   267   197  -911   -37  137  -367  -31  ...   519  -177   \n",
       "5   894 -628   100   306 -1690  -312  -356 -878  -486 -590  ... -1322  -592   \n",
       "6   526  140  -906   210   806  2582  -828  842 -1862 -212  ...  -954  -986   \n",
       "7  -703  111 -1237 -1037   227   961 -1181 -845   117 -529  ...  -947   -59   \n",
       "8   377  495   309  1937  -439   305  -727 -429   -37  651  ...    25  1101   \n",
       "9  -128   74   706   824  1054  -248  -766  200  -552 -606  ...  -392  -654   \n",
       "\n",
       "     24    25    26    27    28    29    30    31  \n",
       "0  -607  -707  1895  -425    99    57   765  -611  \n",
       "1 -1298   474   756  1072  -766  1610  -218  1294  \n",
       "2   399  -423   581 -1035  1005  -905  -701   299  \n",
       "3  -474   292 -1200   220  -266  -880  -708   208  \n",
       "4  -155   773  -221   339  -527   323  -783  1377  \n",
       "5   702  -342  -414   232    18  -194  -272   542  \n",
       "6   -50    28  -678  -432  -414  1186 -1672   744  \n",
       "7  -691  -543   223 -1637  1217  1103   577   805  \n",
       "8    -5 -1999  -419 -1927  -963   -99  1707  1021  \n",
       "9  -336  -244  -836    38   220   378  -244  -314  \n",
       "\n",
       "[10 rows x 32 columns]"
      ]
     },
     "execution_count": 3,
     "metadata": {},
     "output_type": "execute_result"
    }
   ],
   "source": [
    "df(wxb)"
   ]
  },
  {
   "cell_type": "code",
   "execution_count": 4,
   "metadata": {},
   "outputs": [
    {
     "ename": "NameError",
     "evalue": "name 'rtl' is not defined",
     "output_type": "error",
     "traceback": [
      "\u001b[0;31m---------------------------------------------------------------------------\u001b[0m",
      "\u001b[0;31mNameError\u001b[0m                                 Traceback (most recent call last)",
      "Cell \u001b[0;32mIn[4], line 1\u001b[0m\n\u001b[0;32m----> 1\u001b[0m df(\u001b[43mrtl\u001b[49m)\n",
      "\u001b[0;31mNameError\u001b[0m: name 'rtl' is not defined"
     ]
    }
   ],
   "source": [
    "df(rtl)"
   ]
  },
  {
   "cell_type": "code",
   "execution_count": 6,
   "metadata": {},
   "outputs": [
    {
     "data": {
      "application/vnd.plotly.v1+json": {
       "config": {
        "plotlyServerURL": "https://plot.ly"
       },
       "data": [
        {
         "hovertemplate": "RTL=%{x}<br>Python=%{y}<extra></extra>",
         "legendgroup": "",
         "marker": {
          "color": "#636efa",
          "symbol": "circle"
         },
         "mode": "markers",
         "name": "",
         "orientation": "v",
         "showlegend": false,
         "type": "scatter",
         "x": [
          -534,
          441,
          57,
          99,
          -415,
          857,
          -557,
          -591,
          685,
          -883,
          151,
          787,
          889,
          637,
          -133,
          -347,
          883,
          -134,
          437,
          175,
          -62,
          877,
          -449,
          803,
          -279,
          527,
          -447,
          289,
          -606,
          -472,
          571,
          -488,
          889,
          -221,
          814,
          -614,
          724,
          687,
          381,
          -770,
          -520,
          -470,
          -586,
          294,
          -542,
          456,
          889,
          725,
          268,
          -920,
          190,
          -704,
          -654,
          -42,
          -368,
          563,
          -144,
          -884,
          -308,
          -56,
          374,
          889,
          160,
          534,
          293,
          -581,
          -889,
          747,
          -699,
          453,
          -423,
          367,
          737,
          -525,
          669,
          25,
          99,
          97,
          575,
          -311,
          335,
          -928,
          -251,
          719,
          -411,
          -983,
          -103,
          73,
          -128,
          -555,
          695,
          -339,
          -933,
          825,
          319,
          -669,
          204,
          -446,
          -736,
          -270,
          217,
          -882,
          228,
          -543,
          -278,
          -346,
          -62,
          250,
          -3,
          -38,
          526,
          724,
          804,
          626,
          -518,
          286,
          238,
          503,
          528,
          -676,
          -438,
          508,
          -614,
          816,
          717,
          766,
          -402,
          -816,
          673,
          -751,
          187,
          -510,
          315,
          -217,
          613,
          -155,
          -177,
          457,
          543,
          -339,
          -661,
          503,
          621,
          -183,
          -378,
          595,
          377,
          90,
          641,
          -920,
          -31,
          -367,
          129,
          -37,
          -783,
          177,
          267,
          -218,
          581,
          687,
          529,
          -272,
          -126,
          18,
          192,
          -194,
          -284,
          605,
          -592,
          -916,
          -842,
          481,
          586,
          284,
          461,
          653,
          -684,
          529,
          -562,
          490,
          889,
          210,
          -360,
          -486,
          -554,
          -338,
          -234,
          -1016,
          298,
          220,
          -612,
          849,
          684,
          -1012,
          691,
          -414,
          -432,
          -560,
          28,
          -50,
          -930,
          -760,
          873,
          740,
          107,
          504,
          339,
          706,
          -218,
          822,
          689,
          284,
          172,
          -886,
          -176,
          -984,
          527,
          -650,
          889,
          528,
          226,
          -680,
          148,
          370,
          745,
          449,
          745,
          857,
          -971,
          226,
          -447,
          -656,
          -59,
          -852,
          89,
          41,
          389,
          357,
          203,
          -63,
          47,
          -1016,
          -527,
          675,
          -273,
          345,
          -405,
          131,
          -645,
          -634,
          785,
          203,
          -589,
          -967,
          45,
          -655,
          669,
          873,
          -99,
          -864,
          -1012,
          -403,
          -983,
          -21,
          811,
          37,
          -537,
          -549,
          -61,
          -988,
          -1011,
          -707,
          -267,
          851,
          -407,
          -653,
          -548,
          -179,
          524,
          -61,
          -405,
          -711,
          305,
          -436,
          819,
          265,
          247,
          185,
          -314,
          -248,
          210,
          216,
          56,
          -818,
          -238,
          -334,
          -650,
          -358,
          -426,
          46,
          -84,
          164,
          -888,
          -730,
          -656,
          -122,
          -172,
          580,
          -2,
          -298,
          -580,
          -550,
          208,
          -518,
          -284,
          853,
          745,
          494,
          50,
          -122
         ],
         "xaxis": "x",
         "y": [
          -611,
          765,
          57,
          99,
          -425,
          1895,
          -707,
          -607,
          751,
          -981,
          175,
          1595,
          2093,
          637,
          -1,
          -355,
          1223,
          -327,
          541,
          175,
          -63,
          1387,
          -425,
          963,
          -215,
          531,
          -443,
          321,
          -995,
          -475,
          779,
          -995,
          1294,
          -218,
          1610,
          -766,
          1072,
          756,
          474,
          -1298,
          -536,
          -566,
          -586,
          508,
          -554,
          584,
          1922,
          1236,
          272,
          -1240,
          192,
          -768,
          -942,
          -94,
          -664,
          780,
          -144,
          -1208,
          -404,
          -56,
          374,
          2166,
          472,
          588,
          299,
          -701,
          -905,
          1005,
          -1035,
          581,
          -423,
          399,
          813,
          -525,
          885,
          25,
          139,
          17,
          703,
          -319,
          391,
          -1385,
          -249,
          1013,
          -411,
          -1267,
          -71,
          73,
          -167,
          -555,
          1141,
          -339,
          -1109,
          991,
          521,
          -1373,
          208,
          -708,
          -880,
          -266,
          220,
          -1200,
          292,
          -474,
          -278,
          -372,
          -160,
          276,
          90,
          -38,
          846,
          1640,
          1028,
          754,
          -518,
          478,
          214,
          648,
          592,
          -724,
          -614,
          700,
          -750,
          1228,
          826,
          1474,
          -410,
          -1354,
          1377,
          -783,
          323,
          -527,
          339,
          -221,
          773,
          -155,
          -177,
          519,
          1227,
          -279,
          -853,
          695,
          661,
          -121,
          -379,
          661,
          447,
          41,
          961,
          -1785,
          -31,
          -367,
          137,
          -37,
          -911,
          197,
          267,
          -235,
          627,
          887,
          542,
          -272,
          -194,
          18,
          232,
          -414,
          -342,
          702,
          -592,
          -1322,
          -1162,
          1034,
          810,
          284,
          502,
          790,
          -940,
          686,
          -882,
          490,
          1812,
          444,
          -590,
          -486,
          -878,
          -356,
          -312,
          -1690,
          306,
          100,
          -628,
          894,
          744,
          -1672,
          1186,
          -414,
          -432,
          -678,
          28,
          -50,
          -986,
          -954,
          1496,
          940,
          108,
          612,
          346,
          940,
          -210,
          990,
          726,
          300,
          164,
          -1046,
          -212,
          -1862,
          842,
          -828,
          2582,
          806,
          210,
          -906,
          140,
          526,
          805,
          577,
          1103,
          1217,
          -1637,
          223,
          -543,
          -691,
          -59,
          -947,
          49,
          41,
          901,
          369,
          203,
          -95,
          47,
          -2305,
          -815,
          771,
          -277,
          161,
          -529,
          117,
          -845,
          -1181,
          961,
          227,
          -1037,
          -1237,
          111,
          -703,
          1021,
          1707,
          -99,
          -963,
          -1927,
          -419,
          -1999,
          -5,
          1101,
          25,
          -609,
          -703,
          -13,
          -1695,
          -2031,
          -971,
          -283,
          1297,
          -415,
          -685,
          -839,
          -163,
          651,
          -37,
          -429,
          -727,
          305,
          -439,
          1937,
          309,
          495,
          377,
          -314,
          -244,
          378,
          220,
          38,
          -836,
          -244,
          -336,
          -654,
          -392,
          -426,
          66,
          -72,
          168,
          -1116,
          -730,
          -664,
          -122,
          -188,
          580,
          2,
          -162,
          -606,
          -552,
          200,
          -766,
          -248,
          1054,
          824,
          706,
          74,
          -128
         ],
         "yaxis": "y"
        }
       ],
       "layout": {
        "height": 400,
        "legend": {
         "tracegroupgap": 0
        },
        "template": {
         "data": {
          "bar": [
           {
            "error_x": {
             "color": "#2a3f5f"
            },
            "error_y": {
             "color": "#2a3f5f"
            },
            "marker": {
             "line": {
              "color": "#E5ECF6",
              "width": 0.5
             },
             "pattern": {
              "fillmode": "overlay",
              "size": 10,
              "solidity": 0.2
             }
            },
            "type": "bar"
           }
          ],
          "barpolar": [
           {
            "marker": {
             "line": {
              "color": "#E5ECF6",
              "width": 0.5
             },
             "pattern": {
              "fillmode": "overlay",
              "size": 10,
              "solidity": 0.2
             }
            },
            "type": "barpolar"
           }
          ],
          "carpet": [
           {
            "aaxis": {
             "endlinecolor": "#2a3f5f",
             "gridcolor": "white",
             "linecolor": "white",
             "minorgridcolor": "white",
             "startlinecolor": "#2a3f5f"
            },
            "baxis": {
             "endlinecolor": "#2a3f5f",
             "gridcolor": "white",
             "linecolor": "white",
             "minorgridcolor": "white",
             "startlinecolor": "#2a3f5f"
            },
            "type": "carpet"
           }
          ],
          "choropleth": [
           {
            "colorbar": {
             "outlinewidth": 0,
             "ticks": ""
            },
            "type": "choropleth"
           }
          ],
          "contour": [
           {
            "colorbar": {
             "outlinewidth": 0,
             "ticks": ""
            },
            "colorscale": [
             [
              0,
              "#0d0887"
             ],
             [
              0.1111111111111111,
              "#46039f"
             ],
             [
              0.2222222222222222,
              "#7201a8"
             ],
             [
              0.3333333333333333,
              "#9c179e"
             ],
             [
              0.4444444444444444,
              "#bd3786"
             ],
             [
              0.5555555555555556,
              "#d8576b"
             ],
             [
              0.6666666666666666,
              "#ed7953"
             ],
             [
              0.7777777777777778,
              "#fb9f3a"
             ],
             [
              0.8888888888888888,
              "#fdca26"
             ],
             [
              1,
              "#f0f921"
             ]
            ],
            "type": "contour"
           }
          ],
          "contourcarpet": [
           {
            "colorbar": {
             "outlinewidth": 0,
             "ticks": ""
            },
            "type": "contourcarpet"
           }
          ],
          "heatmap": [
           {
            "colorbar": {
             "outlinewidth": 0,
             "ticks": ""
            },
            "colorscale": [
             [
              0,
              "#0d0887"
             ],
             [
              0.1111111111111111,
              "#46039f"
             ],
             [
              0.2222222222222222,
              "#7201a8"
             ],
             [
              0.3333333333333333,
              "#9c179e"
             ],
             [
              0.4444444444444444,
              "#bd3786"
             ],
             [
              0.5555555555555556,
              "#d8576b"
             ],
             [
              0.6666666666666666,
              "#ed7953"
             ],
             [
              0.7777777777777778,
              "#fb9f3a"
             ],
             [
              0.8888888888888888,
              "#fdca26"
             ],
             [
              1,
              "#f0f921"
             ]
            ],
            "type": "heatmap"
           }
          ],
          "heatmapgl": [
           {
            "colorbar": {
             "outlinewidth": 0,
             "ticks": ""
            },
            "colorscale": [
             [
              0,
              "#0d0887"
             ],
             [
              0.1111111111111111,
              "#46039f"
             ],
             [
              0.2222222222222222,
              "#7201a8"
             ],
             [
              0.3333333333333333,
              "#9c179e"
             ],
             [
              0.4444444444444444,
              "#bd3786"
             ],
             [
              0.5555555555555556,
              "#d8576b"
             ],
             [
              0.6666666666666666,
              "#ed7953"
             ],
             [
              0.7777777777777778,
              "#fb9f3a"
             ],
             [
              0.8888888888888888,
              "#fdca26"
             ],
             [
              1,
              "#f0f921"
             ]
            ],
            "type": "heatmapgl"
           }
          ],
          "histogram": [
           {
            "marker": {
             "pattern": {
              "fillmode": "overlay",
              "size": 10,
              "solidity": 0.2
             }
            },
            "type": "histogram"
           }
          ],
          "histogram2d": [
           {
            "colorbar": {
             "outlinewidth": 0,
             "ticks": ""
            },
            "colorscale": [
             [
              0,
              "#0d0887"
             ],
             [
              0.1111111111111111,
              "#46039f"
             ],
             [
              0.2222222222222222,
              "#7201a8"
             ],
             [
              0.3333333333333333,
              "#9c179e"
             ],
             [
              0.4444444444444444,
              "#bd3786"
             ],
             [
              0.5555555555555556,
              "#d8576b"
             ],
             [
              0.6666666666666666,
              "#ed7953"
             ],
             [
              0.7777777777777778,
              "#fb9f3a"
             ],
             [
              0.8888888888888888,
              "#fdca26"
             ],
             [
              1,
              "#f0f921"
             ]
            ],
            "type": "histogram2d"
           }
          ],
          "histogram2dcontour": [
           {
            "colorbar": {
             "outlinewidth": 0,
             "ticks": ""
            },
            "colorscale": [
             [
              0,
              "#0d0887"
             ],
             [
              0.1111111111111111,
              "#46039f"
             ],
             [
              0.2222222222222222,
              "#7201a8"
             ],
             [
              0.3333333333333333,
              "#9c179e"
             ],
             [
              0.4444444444444444,
              "#bd3786"
             ],
             [
              0.5555555555555556,
              "#d8576b"
             ],
             [
              0.6666666666666666,
              "#ed7953"
             ],
             [
              0.7777777777777778,
              "#fb9f3a"
             ],
             [
              0.8888888888888888,
              "#fdca26"
             ],
             [
              1,
              "#f0f921"
             ]
            ],
            "type": "histogram2dcontour"
           }
          ],
          "mesh3d": [
           {
            "colorbar": {
             "outlinewidth": 0,
             "ticks": ""
            },
            "type": "mesh3d"
           }
          ],
          "parcoords": [
           {
            "line": {
             "colorbar": {
              "outlinewidth": 0,
              "ticks": ""
             }
            },
            "type": "parcoords"
           }
          ],
          "pie": [
           {
            "automargin": true,
            "type": "pie"
           }
          ],
          "scatter": [
           {
            "fillpattern": {
             "fillmode": "overlay",
             "size": 10,
             "solidity": 0.2
            },
            "type": "scatter"
           }
          ],
          "scatter3d": [
           {
            "line": {
             "colorbar": {
              "outlinewidth": 0,
              "ticks": ""
             }
            },
            "marker": {
             "colorbar": {
              "outlinewidth": 0,
              "ticks": ""
             }
            },
            "type": "scatter3d"
           }
          ],
          "scattercarpet": [
           {
            "marker": {
             "colorbar": {
              "outlinewidth": 0,
              "ticks": ""
             }
            },
            "type": "scattercarpet"
           }
          ],
          "scattergeo": [
           {
            "marker": {
             "colorbar": {
              "outlinewidth": 0,
              "ticks": ""
             }
            },
            "type": "scattergeo"
           }
          ],
          "scattergl": [
           {
            "marker": {
             "colorbar": {
              "outlinewidth": 0,
              "ticks": ""
             }
            },
            "type": "scattergl"
           }
          ],
          "scattermapbox": [
           {
            "marker": {
             "colorbar": {
              "outlinewidth": 0,
              "ticks": ""
             }
            },
            "type": "scattermapbox"
           }
          ],
          "scatterpolar": [
           {
            "marker": {
             "colorbar": {
              "outlinewidth": 0,
              "ticks": ""
             }
            },
            "type": "scatterpolar"
           }
          ],
          "scatterpolargl": [
           {
            "marker": {
             "colorbar": {
              "outlinewidth": 0,
              "ticks": ""
             }
            },
            "type": "scatterpolargl"
           }
          ],
          "scatterternary": [
           {
            "marker": {
             "colorbar": {
              "outlinewidth": 0,
              "ticks": ""
             }
            },
            "type": "scatterternary"
           }
          ],
          "surface": [
           {
            "colorbar": {
             "outlinewidth": 0,
             "ticks": ""
            },
            "colorscale": [
             [
              0,
              "#0d0887"
             ],
             [
              0.1111111111111111,
              "#46039f"
             ],
             [
              0.2222222222222222,
              "#7201a8"
             ],
             [
              0.3333333333333333,
              "#9c179e"
             ],
             [
              0.4444444444444444,
              "#bd3786"
             ],
             [
              0.5555555555555556,
              "#d8576b"
             ],
             [
              0.6666666666666666,
              "#ed7953"
             ],
             [
              0.7777777777777778,
              "#fb9f3a"
             ],
             [
              0.8888888888888888,
              "#fdca26"
             ],
             [
              1,
              "#f0f921"
             ]
            ],
            "type": "surface"
           }
          ],
          "table": [
           {
            "cells": {
             "fill": {
              "color": "#EBF0F8"
             },
             "line": {
              "color": "white"
             }
            },
            "header": {
             "fill": {
              "color": "#C8D4E3"
             },
             "line": {
              "color": "white"
             }
            },
            "type": "table"
           }
          ]
         },
         "layout": {
          "annotationdefaults": {
           "arrowcolor": "#2a3f5f",
           "arrowhead": 0,
           "arrowwidth": 1
          },
          "autotypenumbers": "strict",
          "coloraxis": {
           "colorbar": {
            "outlinewidth": 0,
            "ticks": ""
           }
          },
          "colorscale": {
           "diverging": [
            [
             0,
             "#8e0152"
            ],
            [
             0.1,
             "#c51b7d"
            ],
            [
             0.2,
             "#de77ae"
            ],
            [
             0.3,
             "#f1b6da"
            ],
            [
             0.4,
             "#fde0ef"
            ],
            [
             0.5,
             "#f7f7f7"
            ],
            [
             0.6,
             "#e6f5d0"
            ],
            [
             0.7,
             "#b8e186"
            ],
            [
             0.8,
             "#7fbc41"
            ],
            [
             0.9,
             "#4d9221"
            ],
            [
             1,
             "#276419"
            ]
           ],
           "sequential": [
            [
             0,
             "#0d0887"
            ],
            [
             0.1111111111111111,
             "#46039f"
            ],
            [
             0.2222222222222222,
             "#7201a8"
            ],
            [
             0.3333333333333333,
             "#9c179e"
            ],
            [
             0.4444444444444444,
             "#bd3786"
            ],
            [
             0.5555555555555556,
             "#d8576b"
            ],
            [
             0.6666666666666666,
             "#ed7953"
            ],
            [
             0.7777777777777778,
             "#fb9f3a"
            ],
            [
             0.8888888888888888,
             "#fdca26"
            ],
            [
             1,
             "#f0f921"
            ]
           ],
           "sequentialminus": [
            [
             0,
             "#0d0887"
            ],
            [
             0.1111111111111111,
             "#46039f"
            ],
            [
             0.2222222222222222,
             "#7201a8"
            ],
            [
             0.3333333333333333,
             "#9c179e"
            ],
            [
             0.4444444444444444,
             "#bd3786"
            ],
            [
             0.5555555555555556,
             "#d8576b"
            ],
            [
             0.6666666666666666,
             "#ed7953"
            ],
            [
             0.7777777777777778,
             "#fb9f3a"
            ],
            [
             0.8888888888888888,
             "#fdca26"
            ],
            [
             1,
             "#f0f921"
            ]
           ]
          },
          "colorway": [
           "#636efa",
           "#EF553B",
           "#00cc96",
           "#ab63fa",
           "#FFA15A",
           "#19d3f3",
           "#FF6692",
           "#B6E880",
           "#FF97FF",
           "#FECB52"
          ],
          "font": {
           "color": "#2a3f5f"
          },
          "geo": {
           "bgcolor": "white",
           "lakecolor": "white",
           "landcolor": "#E5ECF6",
           "showlakes": true,
           "showland": true,
           "subunitcolor": "white"
          },
          "hoverlabel": {
           "align": "left"
          },
          "hovermode": "closest",
          "mapbox": {
           "style": "light"
          },
          "paper_bgcolor": "white",
          "plot_bgcolor": "#E5ECF6",
          "polar": {
           "angularaxis": {
            "gridcolor": "white",
            "linecolor": "white",
            "ticks": ""
           },
           "bgcolor": "#E5ECF6",
           "radialaxis": {
            "gridcolor": "white",
            "linecolor": "white",
            "ticks": ""
           }
          },
          "scene": {
           "xaxis": {
            "backgroundcolor": "#E5ECF6",
            "gridcolor": "white",
            "gridwidth": 2,
            "linecolor": "white",
            "showbackground": true,
            "ticks": "",
            "zerolinecolor": "white"
           },
           "yaxis": {
            "backgroundcolor": "#E5ECF6",
            "gridcolor": "white",
            "gridwidth": 2,
            "linecolor": "white",
            "showbackground": true,
            "ticks": "",
            "zerolinecolor": "white"
           },
           "zaxis": {
            "backgroundcolor": "#E5ECF6",
            "gridcolor": "white",
            "gridwidth": 2,
            "linecolor": "white",
            "showbackground": true,
            "ticks": "",
            "zerolinecolor": "white"
           }
          },
          "shapedefaults": {
           "line": {
            "color": "#2a3f5f"
           }
          },
          "ternary": {
           "aaxis": {
            "gridcolor": "white",
            "linecolor": "white",
            "ticks": ""
           },
           "baxis": {
            "gridcolor": "white",
            "linecolor": "white",
            "ticks": ""
           },
           "bgcolor": "#E5ECF6",
           "caxis": {
            "gridcolor": "white",
            "linecolor": "white",
            "ticks": ""
           }
          },
          "title": {
           "x": 0.05
          },
          "xaxis": {
           "automargin": true,
           "gridcolor": "white",
           "linecolor": "white",
           "ticks": "",
           "title": {
            "standoff": 15
           },
           "zerolinecolor": "white",
           "zerolinewidth": 2
          },
          "yaxis": {
           "automargin": true,
           "gridcolor": "white",
           "linecolor": "white",
           "ticks": "",
           "title": {
            "standoff": 15
           },
           "zerolinecolor": "white",
           "zerolinewidth": 2
          }
         }
        },
        "title": {
         "text": "RTL vs Python MAC output"
        },
        "width": 400,
        "xaxis": {
         "anchor": "y",
         "domain": [
          0,
          1
         ],
         "title": {
          "text": "RTL"
         }
        },
        "yaxis": {
         "anchor": "x",
         "domain": [
          0,
          1
         ],
         "title": {
          "text": "Python"
         }
        }
       }
      },
      "text/html": [
       "<div>                            <div id=\"05674a9f-a0ee-443b-a7b6-c78c8f32940d\" class=\"plotly-graph-div\" style=\"height:400px; width:400px;\"></div>            <script type=\"text/javascript\">                require([\"plotly\"], function(Plotly) {                    window.PLOTLYENV=window.PLOTLYENV || {};                                    if (document.getElementById(\"05674a9f-a0ee-443b-a7b6-c78c8f32940d\")) {                    Plotly.newPlot(                        \"05674a9f-a0ee-443b-a7b6-c78c8f32940d\",                        [{\"hovertemplate\":\"RTL=%{x}\\u003cbr\\u003ePython=%{y}\\u003cextra\\u003e\\u003c\\u002fextra\\u003e\",\"legendgroup\":\"\",\"marker\":{\"color\":\"#636efa\",\"symbol\":\"circle\"},\"mode\":\"markers\",\"name\":\"\",\"orientation\":\"v\",\"showlegend\":false,\"x\":[-534.0,441.0,57.0,99.0,-415.0,857.0,-557.0,-591.0,685.0,-883.0,151.0,787.0,889.0,637.0,-133.0,-347.0,883.0,-134.0,437.0,175.0,-62.0,877.0,-449.0,803.0,-279.0,527.0,-447.0,289.0,-606.0,-472.0,571.0,-488.0,889.0,-221.0,814.0,-614.0,724.0,687.0,381.0,-770.0,-520.0,-470.0,-586.0,294.0,-542.0,456.0,889.0,725.0,268.0,-920.0,190.0,-704.0,-654.0,-42.0,-368.0,563.0,-144.0,-884.0,-308.0,-56.0,374.0,889.0,160.0,534.0,293.0,-581.0,-889.0,747.0,-699.0,453.0,-423.0,367.0,737.0,-525.0,669.0,25.0,99.0,97.0,575.0,-311.0,335.0,-928.0,-251.0,719.0,-411.0,-983.0,-103.0,73.0,-128.0,-555.0,695.0,-339.0,-933.0,825.0,319.0,-669.0,204.0,-446.0,-736.0,-270.0,217.0,-882.0,228.0,-543.0,-278.0,-346.0,-62.0,250.0,-3.0,-38.0,526.0,724.0,804.0,626.0,-518.0,286.0,238.0,503.0,528.0,-676.0,-438.0,508.0,-614.0,816.0,717.0,766.0,-402.0,-816.0,673.0,-751.0,187.0,-510.0,315.0,-217.0,613.0,-155.0,-177.0,457.0,543.0,-339.0,-661.0,503.0,621.0,-183.0,-378.0,595.0,377.0,90.0,641.0,-920.0,-31.0,-367.0,129.0,-37.0,-783.0,177.0,267.0,-218.0,581.0,687.0,529.0,-272.0,-126.0,18.0,192.0,-194.0,-284.0,605.0,-592.0,-916.0,-842.0,481.0,586.0,284.0,461.0,653.0,-684.0,529.0,-562.0,490.0,889.0,210.0,-360.0,-486.0,-554.0,-338.0,-234.0,-1016.0,298.0,220.0,-612.0,849.0,684.0,-1012.0,691.0,-414.0,-432.0,-560.0,28.0,-50.0,-930.0,-760.0,873.0,740.0,107.0,504.0,339.0,706.0,-218.0,822.0,689.0,284.0,172.0,-886.0,-176.0,-984.0,527.0,-650.0,889.0,528.0,226.0,-680.0,148.0,370.0,745.0,449.0,745.0,857.0,-971.0,226.0,-447.0,-656.0,-59.0,-852.0,89.0,41.0,389.0,357.0,203.0,-63.0,47.0,-1016.0,-527.0,675.0,-273.0,345.0,-405.0,131.0,-645.0,-634.0,785.0,203.0,-589.0,-967.0,45.0,-655.0,669.0,873.0,-99.0,-864.0,-1012.0,-403.0,-983.0,-21.0,811.0,37.0,-537.0,-549.0,-61.0,-988.0,-1011.0,-707.0,-267.0,851.0,-407.0,-653.0,-548.0,-179.0,524.0,-61.0,-405.0,-711.0,305.0,-436.0,819.0,265.0,247.0,185.0,-314.0,-248.0,210.0,216.0,56.0,-818.0,-238.0,-334.0,-650.0,-358.0,-426.0,46.0,-84.0,164.0,-888.0,-730.0,-656.0,-122.0,-172.0,580.0,-2.0,-298.0,-580.0,-550.0,208.0,-518.0,-284.0,853.0,745.0,494.0,50.0,-122.0],\"xaxis\":\"x\",\"y\":[-611,765,57,99,-425,1895,-707,-607,751,-981,175,1595,2093,637,-1,-355,1223,-327,541,175,-63,1387,-425,963,-215,531,-443,321,-995,-475,779,-995,1294,-218,1610,-766,1072,756,474,-1298,-536,-566,-586,508,-554,584,1922,1236,272,-1240,192,-768,-942,-94,-664,780,-144,-1208,-404,-56,374,2166,472,588,299,-701,-905,1005,-1035,581,-423,399,813,-525,885,25,139,17,703,-319,391,-1385,-249,1013,-411,-1267,-71,73,-167,-555,1141,-339,-1109,991,521,-1373,208,-708,-880,-266,220,-1200,292,-474,-278,-372,-160,276,90,-38,846,1640,1028,754,-518,478,214,648,592,-724,-614,700,-750,1228,826,1474,-410,-1354,1377,-783,323,-527,339,-221,773,-155,-177,519,1227,-279,-853,695,661,-121,-379,661,447,41,961,-1785,-31,-367,137,-37,-911,197,267,-235,627,887,542,-272,-194,18,232,-414,-342,702,-592,-1322,-1162,1034,810,284,502,790,-940,686,-882,490,1812,444,-590,-486,-878,-356,-312,-1690,306,100,-628,894,744,-1672,1186,-414,-432,-678,28,-50,-986,-954,1496,940,108,612,346,940,-210,990,726,300,164,-1046,-212,-1862,842,-828,2582,806,210,-906,140,526,805,577,1103,1217,-1637,223,-543,-691,-59,-947,49,41,901,369,203,-95,47,-2305,-815,771,-277,161,-529,117,-845,-1181,961,227,-1037,-1237,111,-703,1021,1707,-99,-963,-1927,-419,-1999,-5,1101,25,-609,-703,-13,-1695,-2031,-971,-283,1297,-415,-685,-839,-163,651,-37,-429,-727,305,-439,1937,309,495,377,-314,-244,378,220,38,-836,-244,-336,-654,-392,-426,66,-72,168,-1116,-730,-664,-122,-188,580,2,-162,-606,-552,200,-766,-248,1054,824,706,74,-128],\"yaxis\":\"y\",\"type\":\"scatter\"}],                        {\"template\":{\"data\":{\"histogram2dcontour\":[{\"type\":\"histogram2dcontour\",\"colorbar\":{\"outlinewidth\":0,\"ticks\":\"\"},\"colorscale\":[[0.0,\"#0d0887\"],[0.1111111111111111,\"#46039f\"],[0.2222222222222222,\"#7201a8\"],[0.3333333333333333,\"#9c179e\"],[0.4444444444444444,\"#bd3786\"],[0.5555555555555556,\"#d8576b\"],[0.6666666666666666,\"#ed7953\"],[0.7777777777777778,\"#fb9f3a\"],[0.8888888888888888,\"#fdca26\"],[1.0,\"#f0f921\"]]}],\"choropleth\":[{\"type\":\"choropleth\",\"colorbar\":{\"outlinewidth\":0,\"ticks\":\"\"}}],\"histogram2d\":[{\"type\":\"histogram2d\",\"colorbar\":{\"outlinewidth\":0,\"ticks\":\"\"},\"colorscale\":[[0.0,\"#0d0887\"],[0.1111111111111111,\"#46039f\"],[0.2222222222222222,\"#7201a8\"],[0.3333333333333333,\"#9c179e\"],[0.4444444444444444,\"#bd3786\"],[0.5555555555555556,\"#d8576b\"],[0.6666666666666666,\"#ed7953\"],[0.7777777777777778,\"#fb9f3a\"],[0.8888888888888888,\"#fdca26\"],[1.0,\"#f0f921\"]]}],\"heatmap\":[{\"type\":\"heatmap\",\"colorbar\":{\"outlinewidth\":0,\"ticks\":\"\"},\"colorscale\":[[0.0,\"#0d0887\"],[0.1111111111111111,\"#46039f\"],[0.2222222222222222,\"#7201a8\"],[0.3333333333333333,\"#9c179e\"],[0.4444444444444444,\"#bd3786\"],[0.5555555555555556,\"#d8576b\"],[0.6666666666666666,\"#ed7953\"],[0.7777777777777778,\"#fb9f3a\"],[0.8888888888888888,\"#fdca26\"],[1.0,\"#f0f921\"]]}],\"heatmapgl\":[{\"type\":\"heatmapgl\",\"colorbar\":{\"outlinewidth\":0,\"ticks\":\"\"},\"colorscale\":[[0.0,\"#0d0887\"],[0.1111111111111111,\"#46039f\"],[0.2222222222222222,\"#7201a8\"],[0.3333333333333333,\"#9c179e\"],[0.4444444444444444,\"#bd3786\"],[0.5555555555555556,\"#d8576b\"],[0.6666666666666666,\"#ed7953\"],[0.7777777777777778,\"#fb9f3a\"],[0.8888888888888888,\"#fdca26\"],[1.0,\"#f0f921\"]]}],\"contourcarpet\":[{\"type\":\"contourcarpet\",\"colorbar\":{\"outlinewidth\":0,\"ticks\":\"\"}}],\"contour\":[{\"type\":\"contour\",\"colorbar\":{\"outlinewidth\":0,\"ticks\":\"\"},\"colorscale\":[[0.0,\"#0d0887\"],[0.1111111111111111,\"#46039f\"],[0.2222222222222222,\"#7201a8\"],[0.3333333333333333,\"#9c179e\"],[0.4444444444444444,\"#bd3786\"],[0.5555555555555556,\"#d8576b\"],[0.6666666666666666,\"#ed7953\"],[0.7777777777777778,\"#fb9f3a\"],[0.8888888888888888,\"#fdca26\"],[1.0,\"#f0f921\"]]}],\"surface\":[{\"type\":\"surface\",\"colorbar\":{\"outlinewidth\":0,\"ticks\":\"\"},\"colorscale\":[[0.0,\"#0d0887\"],[0.1111111111111111,\"#46039f\"],[0.2222222222222222,\"#7201a8\"],[0.3333333333333333,\"#9c179e\"],[0.4444444444444444,\"#bd3786\"],[0.5555555555555556,\"#d8576b\"],[0.6666666666666666,\"#ed7953\"],[0.7777777777777778,\"#fb9f3a\"],[0.8888888888888888,\"#fdca26\"],[1.0,\"#f0f921\"]]}],\"mesh3d\":[{\"type\":\"mesh3d\",\"colorbar\":{\"outlinewidth\":0,\"ticks\":\"\"}}],\"scatter\":[{\"fillpattern\":{\"fillmode\":\"overlay\",\"size\":10,\"solidity\":0.2},\"type\":\"scatter\"}],\"parcoords\":[{\"type\":\"parcoords\",\"line\":{\"colorbar\":{\"outlinewidth\":0,\"ticks\":\"\"}}}],\"scatterpolargl\":[{\"type\":\"scatterpolargl\",\"marker\":{\"colorbar\":{\"outlinewidth\":0,\"ticks\":\"\"}}}],\"bar\":[{\"error_x\":{\"color\":\"#2a3f5f\"},\"error_y\":{\"color\":\"#2a3f5f\"},\"marker\":{\"line\":{\"color\":\"#E5ECF6\",\"width\":0.5},\"pattern\":{\"fillmode\":\"overlay\",\"size\":10,\"solidity\":0.2}},\"type\":\"bar\"}],\"scattergeo\":[{\"type\":\"scattergeo\",\"marker\":{\"colorbar\":{\"outlinewidth\":0,\"ticks\":\"\"}}}],\"scatterpolar\":[{\"type\":\"scatterpolar\",\"marker\":{\"colorbar\":{\"outlinewidth\":0,\"ticks\":\"\"}}}],\"histogram\":[{\"marker\":{\"pattern\":{\"fillmode\":\"overlay\",\"size\":10,\"solidity\":0.2}},\"type\":\"histogram\"}],\"scattergl\":[{\"type\":\"scattergl\",\"marker\":{\"colorbar\":{\"outlinewidth\":0,\"ticks\":\"\"}}}],\"scatter3d\":[{\"type\":\"scatter3d\",\"line\":{\"colorbar\":{\"outlinewidth\":0,\"ticks\":\"\"}},\"marker\":{\"colorbar\":{\"outlinewidth\":0,\"ticks\":\"\"}}}],\"scattermapbox\":[{\"type\":\"scattermapbox\",\"marker\":{\"colorbar\":{\"outlinewidth\":0,\"ticks\":\"\"}}}],\"scatterternary\":[{\"type\":\"scatterternary\",\"marker\":{\"colorbar\":{\"outlinewidth\":0,\"ticks\":\"\"}}}],\"scattercarpet\":[{\"type\":\"scattercarpet\",\"marker\":{\"colorbar\":{\"outlinewidth\":0,\"ticks\":\"\"}}}],\"carpet\":[{\"aaxis\":{\"endlinecolor\":\"#2a3f5f\",\"gridcolor\":\"white\",\"linecolor\":\"white\",\"minorgridcolor\":\"white\",\"startlinecolor\":\"#2a3f5f\"},\"baxis\":{\"endlinecolor\":\"#2a3f5f\",\"gridcolor\":\"white\",\"linecolor\":\"white\",\"minorgridcolor\":\"white\",\"startlinecolor\":\"#2a3f5f\"},\"type\":\"carpet\"}],\"table\":[{\"cells\":{\"fill\":{\"color\":\"#EBF0F8\"},\"line\":{\"color\":\"white\"}},\"header\":{\"fill\":{\"color\":\"#C8D4E3\"},\"line\":{\"color\":\"white\"}},\"type\":\"table\"}],\"barpolar\":[{\"marker\":{\"line\":{\"color\":\"#E5ECF6\",\"width\":0.5},\"pattern\":{\"fillmode\":\"overlay\",\"size\":10,\"solidity\":0.2}},\"type\":\"barpolar\"}],\"pie\":[{\"automargin\":true,\"type\":\"pie\"}]},\"layout\":{\"autotypenumbers\":\"strict\",\"colorway\":[\"#636efa\",\"#EF553B\",\"#00cc96\",\"#ab63fa\",\"#FFA15A\",\"#19d3f3\",\"#FF6692\",\"#B6E880\",\"#FF97FF\",\"#FECB52\"],\"font\":{\"color\":\"#2a3f5f\"},\"hovermode\":\"closest\",\"hoverlabel\":{\"align\":\"left\"},\"paper_bgcolor\":\"white\",\"plot_bgcolor\":\"#E5ECF6\",\"polar\":{\"bgcolor\":\"#E5ECF6\",\"angularaxis\":{\"gridcolor\":\"white\",\"linecolor\":\"white\",\"ticks\":\"\"},\"radialaxis\":{\"gridcolor\":\"white\",\"linecolor\":\"white\",\"ticks\":\"\"}},\"ternary\":{\"bgcolor\":\"#E5ECF6\",\"aaxis\":{\"gridcolor\":\"white\",\"linecolor\":\"white\",\"ticks\":\"\"},\"baxis\":{\"gridcolor\":\"white\",\"linecolor\":\"white\",\"ticks\":\"\"},\"caxis\":{\"gridcolor\":\"white\",\"linecolor\":\"white\",\"ticks\":\"\"}},\"coloraxis\":{\"colorbar\":{\"outlinewidth\":0,\"ticks\":\"\"}},\"colorscale\":{\"sequential\":[[0.0,\"#0d0887\"],[0.1111111111111111,\"#46039f\"],[0.2222222222222222,\"#7201a8\"],[0.3333333333333333,\"#9c179e\"],[0.4444444444444444,\"#bd3786\"],[0.5555555555555556,\"#d8576b\"],[0.6666666666666666,\"#ed7953\"],[0.7777777777777778,\"#fb9f3a\"],[0.8888888888888888,\"#fdca26\"],[1.0,\"#f0f921\"]],\"sequentialminus\":[[0.0,\"#0d0887\"],[0.1111111111111111,\"#46039f\"],[0.2222222222222222,\"#7201a8\"],[0.3333333333333333,\"#9c179e\"],[0.4444444444444444,\"#bd3786\"],[0.5555555555555556,\"#d8576b\"],[0.6666666666666666,\"#ed7953\"],[0.7777777777777778,\"#fb9f3a\"],[0.8888888888888888,\"#fdca26\"],[1.0,\"#f0f921\"]],\"diverging\":[[0,\"#8e0152\"],[0.1,\"#c51b7d\"],[0.2,\"#de77ae\"],[0.3,\"#f1b6da\"],[0.4,\"#fde0ef\"],[0.5,\"#f7f7f7\"],[0.6,\"#e6f5d0\"],[0.7,\"#b8e186\"],[0.8,\"#7fbc41\"],[0.9,\"#4d9221\"],[1,\"#276419\"]]},\"xaxis\":{\"gridcolor\":\"white\",\"linecolor\":\"white\",\"ticks\":\"\",\"title\":{\"standoff\":15},\"zerolinecolor\":\"white\",\"automargin\":true,\"zerolinewidth\":2},\"yaxis\":{\"gridcolor\":\"white\",\"linecolor\":\"white\",\"ticks\":\"\",\"title\":{\"standoff\":15},\"zerolinecolor\":\"white\",\"automargin\":true,\"zerolinewidth\":2},\"scene\":{\"xaxis\":{\"backgroundcolor\":\"#E5ECF6\",\"gridcolor\":\"white\",\"linecolor\":\"white\",\"showbackground\":true,\"ticks\":\"\",\"zerolinecolor\":\"white\",\"gridwidth\":2},\"yaxis\":{\"backgroundcolor\":\"#E5ECF6\",\"gridcolor\":\"white\",\"linecolor\":\"white\",\"showbackground\":true,\"ticks\":\"\",\"zerolinecolor\":\"white\",\"gridwidth\":2},\"zaxis\":{\"backgroundcolor\":\"#E5ECF6\",\"gridcolor\":\"white\",\"linecolor\":\"white\",\"showbackground\":true,\"ticks\":\"\",\"zerolinecolor\":\"white\",\"gridwidth\":2}},\"shapedefaults\":{\"line\":{\"color\":\"#2a3f5f\"}},\"annotationdefaults\":{\"arrowcolor\":\"#2a3f5f\",\"arrowhead\":0,\"arrowwidth\":1},\"geo\":{\"bgcolor\":\"white\",\"landcolor\":\"#E5ECF6\",\"subunitcolor\":\"white\",\"showland\":true,\"showlakes\":true,\"lakecolor\":\"white\"},\"title\":{\"x\":0.05},\"mapbox\":{\"style\":\"light\"}}},\"xaxis\":{\"anchor\":\"y\",\"domain\":[0.0,1.0],\"title\":{\"text\":\"RTL\"}},\"yaxis\":{\"anchor\":\"x\",\"domain\":[0.0,1.0],\"title\":{\"text\":\"Python\"}},\"legend\":{\"tracegroupgap\":0},\"title\":{\"text\":\"RTL vs Python MAC output\"},\"height\":400,\"width\":400},                        {\"responsive\": true}                    ).then(function(){\n",
       "                            \n",
       "var gd = document.getElementById('05674a9f-a0ee-443b-a7b6-c78c8f32940d');\n",
       "var x = new MutationObserver(function (mutations, observer) {{\n",
       "        var display = window.getComputedStyle(gd).display;\n",
       "        if (!display || display === 'none') {{\n",
       "            console.log([gd, 'removed!']);\n",
       "            Plotly.purge(gd);\n",
       "            observer.disconnect();\n",
       "        }}\n",
       "}});\n",
       "\n",
       "// Listen for the removal of the full notebook cells\n",
       "var notebookContainer = gd.closest('#notebook-container');\n",
       "if (notebookContainer) {{\n",
       "    x.observe(notebookContainer, {childList: true});\n",
       "}}\n",
       "\n",
       "// Listen for the clearing of the current output cell\n",
       "var outputEl = gd.closest('.output');\n",
       "if (outputEl) {{\n",
       "    x.observe(outputEl, {childList: true});\n",
       "}}\n",
       "\n",
       "                        })                };                });            </script>        </div>"
      ]
     },
     "metadata": {},
     "output_type": "display_data"
    }
   ],
   "source": [
    "rtl = np.loadtxt('../tb/seq_acc/inputs/mac_out_rtl_bipolar.txt')\n",
    "px.scatter(x=rtl.flatten(), y=wxb.T[::-1].T.flatten(), title='RTL vs Python MAC output', labels={'x':'RTL', 'y':'Python'},\n",
    "    width=400,height=400\n",
    ")"
   ]
  },
  {
   "cell_type": "code",
   "execution_count": 11,
   "metadata": {},
   "outputs": [
    {
     "data": {
      "text/plain": [
       "array([-123,  124,  -48,    0, -106,   -6,  -12,  -25, -117, -111, -125,\n",
       "        -81,   62,   47,  -17,  -95,  104,   24,   62,    2,  -91,  -38,\n",
       "       -119,  -80,  -36, -127,   36, -101,   63,  -16,   53,  107,   23,\n",
       "         32,    2,  -34, -124, -124,  -29,  -11,   37,   43,  -17, -107,\n",
       "        106,    6,   89,  -44,   55,  102, -124,  -44,   24,  -79,  -33,\n",
       "         31,   90,    8,   43,   13, -123,  113,   28,   77,  -16,   75,\n",
       "        125,   44,   54,  111,   11,  116,  -84, -121,   72, -127,  -76,\n",
       "         35,  -31, -104,   65,   72,   31, -109,  -95, -125,   39, -115,\n",
       "        -63,   -1,  125,  -55, -124,   14,   -1,   91,    4,  103,   71,\n",
       "          7,   21,  -69, -125,   86,   48,   53,  -69,  -17,  -45,  127,\n",
       "        -47,  -70,   44,  -94,  107,  -58,   94,  -48,  -38,  110,  118,\n",
       "       -103,  -27,   61,   -6,  -63,   62,  -50])"
      ]
     },
     "execution_count": 11,
     "metadata": {},
     "output_type": "execute_result"
    },
    {
     "ename": "",
     "evalue": "",
     "output_type": "error",
     "traceback": [
      "\u001b[1;31mnotebook controller is DISPOSED. \n",
      "\u001b[1;31mView Jupyter <a href='command:jupyter.viewOutput'>log</a> for further details."
     ]
    },
    {
     "ename": "",
     "evalue": "",
     "output_type": "error",
     "traceback": [
      "\u001b[1;31mnotebook controller is DISPOSED. \n",
      "\u001b[1;31mView Jupyter <a href='command:jupyter.viewOutput'>log</a> for further details."
     ]
    },
    {
     "ename": "",
     "evalue": "",
     "output_type": "error",
     "traceback": [
      "\u001b[1;31mnotebook controller is DISPOSED. \n",
      "\u001b[1;31mView Jupyter <a href='command:jupyter.viewOutput'>log</a> for further details."
     ]
    },
    {
     "ename": "",
     "evalue": "",
     "output_type": "error",
     "traceback": [
      "\u001b[1;31mnotebook controller is DISPOSED. \n",
      "\u001b[1;31mView Jupyter <a href='command:jupyter.viewOutput'>log</a> for further details."
     ]
    }
   ],
   "source": [
    "x[0]"
   ]
  },
  {
   "cell_type": "code",
   "execution_count": null,
   "metadata": {},
   "outputs": [
    {
     "name": "stdout",
     "output_type": "stream",
     "text": [
      "x trits:\n",
      "     0  1  2  3  4  5  6\n",
      "0   -1 -1 -1 -1  0 -1 -1\n",
      "1    1  1  1  1  1  0  0\n",
      "2    0 -1 -1  0  0  0  0\n",
      "3    0  0  0  0  0  0  0\n",
      "4   -1 -1  0 -1  0 -1  0\n",
      "..  .. .. .. .. .. .. ..\n",
      "123  0  1  1  1  1  0  1\n",
      "124  0  0  0  0 -1 -1  0\n",
      "125  0 -1 -1 -1 -1 -1 -1\n",
      "126  0  1  1  1  1  1  0\n",
      "127  0 -1 -1  0  0 -1  0\n",
      "\n",
      "[128 rows x 7 columns]\n",
      "partials:\n",
      "   0   1   2   3   4   5   6   7   8   9   ...  22  23  24  25  26  27  28  \\\n",
      "0  -4  12   2   4  -8  16 -10  -4   6  -6  ...  -6   8  -8   6  -8   2 -14   \n",
      "1  -3  -1  -3  -1   5  19  -3  -5   3  -9  ...  -3   7   9   3   3  -1  -3   \n",
      "2  -5  -1   1  -5   1   5   7  -9  11  -9  ...   9  13  -1  -1  -3   9   1   \n",
      "3 -17   1   3  -5  -5   9  -1  -5   7 -13  ...  -9   1   5   3   1   7   1   \n",
      "4  -8   8  -4  -4  -6  14  -8   2   4  -8  ...  -6   2  -6   6  -2   2  -2   \n",
      "5   1  -1   1   3 -13  19 -19  -7   7 -13  ...   1  -1   1   9   9   7  -3   \n",
      "6 -13   7  -1   5   1  17  -5  -1   9  -3  ...   5   5   7   1   3   3 -13   \n",
      "\n",
      "   29  30  31  \n",
      "0  -6  10  -2  \n",
      "1   1  -1 -21  \n",
      "2  -5   5   1  \n",
      "3  -1   9 -15  \n",
      "4  -2   2 -12  \n",
      "5  -9   5 -13  \n",
      "6  -9   1 -17  \n",
      "\n",
      "[7 rows x 32 columns]\n",
      "shifting accumulator:\n",
      "     0    1    2    3    4     5     6    7     8     9   ...   22   23   24  \\\n",
      "0  -832  448  -64  320   64  1088  -320  -64   576  -192  ...  320  320  448   \n",
      "1  -352  160   32  352 -800  1760 -1376 -480   736  -928  ...  224   96  288   \n",
      "2  -688  592 -240  -80 -784  1776 -1200 -112   624  -976  ... -272  176 -240   \n",
      "3 -1432  360   72 -360 -712  1464  -664 -376   760 -1320  ... -712  152  200   \n",
      "4 -1036  116  100 -500 -292  1052   116 -764  1084 -1236  ...  220  908   36   \n",
      "5  -710   -6 -142 -314  174  1742  -134 -702   734 -1194  ...  -82  902  594   \n",
      "6  -611  765   57   99 -425  1895  -707 -607   751  -981  ... -425  963 -215   \n",
      "\n",
      "    25   26   27   28   29   30    31  \n",
      "0   64  192  192 -832 -576   64 -1088  \n",
      "1  608  672  544 -608 -864  352 -1376  \n",
      "2  688  208  400 -432 -560  304 -1456  \n",
      "3  536  168  648 -152 -344  728 -1688  \n",
      "4  204 -108  900  -12 -492  684  -780  \n",
      "5  294  138  386 -198 -182  278 -1734  \n",
      "6  531 -443  321 -995 -475  779  -995  \n",
      "\n",
      "[7 rows x 32 columns]\n"
     ]
    },
    {
     "data": {
      "text/plain": [
       "array([-9.950e+02,  7.790e+02, -4.750e+02, -9.950e+02,  3.210e+02,\n",
       "       -4.430e+02,  5.310e+02, -2.150e+02,  9.630e+02, -4.250e+02,\n",
       "        1.387e+03, -6.300e+01,  1.750e+02,  5.410e+02, -3.270e+02,\n",
       "        1.223e+03, -3.550e+02, -1.000e+00,  6.370e+02,  2.093e+03,\n",
       "        1.595e+03,  1.750e+02, -9.810e+02,  7.510e+02, -6.070e+02,\n",
       "       -7.070e+02,  1.895e+03, -4.250e+02,  9.900e+01,  5.700e+01,\n",
       "        7.650e+02, -6.110e+02])"
      ]
     },
     "execution_count": 10,
     "metadata": {},
     "output_type": "execute_result"
    },
    {
     "ename": "",
     "evalue": "",
     "output_type": "error",
     "traceback": [
      "\u001b[1;31mnotebook controller is DISPOSED. \n",
      "\u001b[1;31mView Jupyter <a href='command:jupyter.viewOutput'>log</a> for further details."
     ]
    },
    {
     "ename": "",
     "evalue": "",
     "output_type": "error",
     "traceback": [
      "\u001b[1;31mnotebook controller is DISPOSED. \n",
      "\u001b[1;31mView Jupyter <a href='command:jupyter.viewOutput'>log</a> for further details."
     ]
    },
    {
     "ename": "",
     "evalue": "",
     "output_type": "error",
     "traceback": [
      "\u001b[1;31mnotebook controller is DISPOSED. \n",
      "\u001b[1;31mView Jupyter <a href='command:jupyter.viewOutput'>log</a> for further details."
     ]
    },
    {
     "ename": "",
     "evalue": "",
     "output_type": "error",
     "traceback": [
      "\u001b[1;31mnotebook controller is DISPOSED. \n",
      "\u001b[1;31mView Jupyter <a href='command:jupyter.viewOutput'>log</a> for further details."
     ]
    }
   ],
   "source": [
    "q.simulate_trit_mul(w, x[0], 7, verbose=True)"
   ]
  },
  {
   "cell_type": "code",
   "execution_count": null,
   "metadata": {},
   "outputs": [
    {
     "data": {
      "text/plain": [
       "array([[ -995,   779,  -475,  -995,   321,  -443,   531,  -215,   963,\n",
       "         -425,  1387,   -63,   175,   541,  -327,  1223,  -355,    -1,\n",
       "          637,  2093,  1595,   175,  -981,   751,  -607,  -707,  1895,\n",
       "         -425,    99,    57,   765,  -611],\n",
       "       [  588,   472,  2166,   374,   -56,  -404, -1208,  -144,   780,\n",
       "         -664,   -94,  -942,  -768,   192, -1240,   272,  1236,  1922,\n",
       "          584,  -554,   508,  -586,  -566,  -536, -1298,   474,   756,\n",
       "         1072,  -766,  1610,  -218,  1294],\n",
       "       [-1373,   521,   991, -1109,  -339,  1141,  -555,  -167,    73,\n",
       "          -71, -1267,  -411,  1013,  -249, -1385,   391,  -319,   703,\n",
       "           17,   139,    25,   885,  -525,   813,   399,  -423,   581,\n",
       "        -1035,  1005,  -905,  -701,   299],\n",
       "       [-1354,  -410,  1474,   826,  1228,  -750,   700,  -614,  -724,\n",
       "          592,   648,   214,   478,  -518,   754,  1028,  1640,   846,\n",
       "          -38,    90,   276,  -160,  -372,  -278,  -474,   292, -1200,\n",
       "          220,  -266,  -880,  -708,   208],\n",
       "       [  887,   627,  -235,   267,   197,  -911,   -37,   137,  -367,\n",
       "          -31, -1785,   961,    41,   447,   661,  -379,  -121,   661,\n",
       "          695,  -853,  -279,  1227,   519,  -177,  -155,   773,  -221,\n",
       "          339,  -527,   323,  -783,  1377],\n",
       "       [  894,  -628,   100,   306, -1690,  -312,  -356,  -878,  -486,\n",
       "         -590,   444,  1812,   490,  -882,   686,  -940,   790,   502,\n",
       "          284,   810,  1034, -1162, -1322,  -592,   702,  -342,  -414,\n",
       "          232,    18,  -194,  -272,   542],\n",
       "       [  526,   140,  -906,   210,   806,  2582,  -828,   842, -1862,\n",
       "         -212, -1046,   164,   300,   726,   990,  -210,   940,   346,\n",
       "          612,   108,   940,  1496,  -954,  -986,   -50,    28,  -678,\n",
       "         -432,  -414,  1186, -1672,   744],\n",
       "       [ -703,   111, -1237, -1037,   227,   961, -1181,  -845,   117,\n",
       "         -529,   161,  -277,   771,  -815, -2305,    47,   -95,   203,\n",
       "          369,   901,    41,    49,  -947,   -59,  -691,  -543,   223,\n",
       "        -1637,  1217,  1103,   577,   805],\n",
       "       [  377,   495,   309,  1937,  -439,   305,  -727,  -429,   -37,\n",
       "          651,  -163,  -839,  -685,  -415,  1297,  -283,  -971, -2031,\n",
       "        -1695,   -13,  -703,  -609,    25,  1101,    -5, -1999,  -419,\n",
       "        -1927,  -963,   -99,  1707,  1021],\n",
       "       [ -128,    74,   706,   824,  1054,  -248,  -766,   200,  -552,\n",
       "         -606,  -162,     2,   580,  -188,  -122,  -664,  -730, -1116,\n",
       "          168,   -72,    66,  -426,  -392,  -654,  -336,  -244,  -836,\n",
       "           38,   220,   378,  -244,  -314]])"
      ]
     },
     "execution_count": 7,
     "metadata": {},
     "output_type": "execute_result"
    },
    {
     "ename": "",
     "evalue": "",
     "output_type": "error",
     "traceback": [
      "\u001b[1;31mnotebook controller is DISPOSED. \n",
      "\u001b[1;31mView Jupyter <a href='command:jupyter.viewOutput'>log</a> for further details."
     ]
    },
    {
     "ename": "",
     "evalue": "",
     "output_type": "error",
     "traceback": [
      "\u001b[1;31mnotebook controller is DISPOSED. \n",
      "\u001b[1;31mView Jupyter <a href='command:jupyter.viewOutput'>log</a> for further details."
     ]
    },
    {
     "ename": "",
     "evalue": "",
     "output_type": "error",
     "traceback": [
      "\u001b[1;31mnotebook controller is DISPOSED. \n",
      "\u001b[1;31mView Jupyter <a href='command:jupyter.viewOutput'>log</a> for further details."
     ]
    },
    {
     "ename": "",
     "evalue": "",
     "output_type": "error",
     "traceback": [
      "\u001b[1;31mnotebook controller is DISPOSED. \n",
      "\u001b[1;31mView Jupyter <a href='command:jupyter.viewOutput'>log</a> for further details."
     ]
    }
   ],
   "source": [
    "x @ w.T"
   ]
  }
 ],
 "metadata": {
  "kernelspec": {
   "display_name": "ic_dec",
   "language": "python",
   "name": "python3"
  },
  "language_info": {
   "codemirror_mode": {
    "name": "ipython",
    "version": 3
   },
   "file_extension": ".py",
   "mimetype": "text/x-python",
   "name": "python",
   "nbconvert_exporter": "python",
   "pygments_lexer": "ipython3",
   "version": "3.12.2"
  }
 },
 "nbformat": 4,
 "nbformat_minor": 2
}
