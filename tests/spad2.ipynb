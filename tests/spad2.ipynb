{
 "cells": [
  {
   "cell_type": "code",
   "execution_count": null,
   "metadata": {},
   "outputs": [],
   "source": [
    "import hwacctools.quantization.quant as q\n",
    "from stim_lib.stimulus_gen import generate_qracc_inputs\n",
    "import numpy as np\n",
    "import plotly.express as px\n",
    "import pandas as pd\n",
    "import seaborn as sns\n",
    "\n",
    "sns.set_theme()\n",
    "df = pd.DataFrame\n",
    "\n",
    "actBits = 5\n",
    "weightBits = 8\n",
    "outBits = 8\n",
    "nActs = 10\n",
    "nWeights = 3\n",
    "nOuts = nActs - nWeights + 1\n",
    "\n",
    "a = quantized_tensor((nActs,nActs),actBits) \n",
    "w = quantized_tensor((nWeights,nWeights),weightBits)\n",
    "o = scaling_quantized_convolution(a,w,outBits,internalPrecision=8)\n",
    "\n",
    "o.real_values - convolve_fake_quantized(a,w)\n",
    "# np.round(o.real_values,3) - np.round(convolve_reals(a,w),3)\n",
    "# np.allclose(o.real_values,convolve_reals(a,w),rtol=0.001)\n",
    "# Limit numpy print precision\n",
    "np.set_printoptions(precision=4)\n",
    "o.real_values, convolve_fake_quantized(a,w)\n"
   ]
  }
 ],
 "metadata": {
  "kernelspec": {
   "display_name": "ic_dec",
   "language": "python",
   "name": "python3"
  },
  "language_info": {
   "codemirror_mode": {
    "name": "ipython",
    "version": 3
   },
   "file_extension": ".py",
   "mimetype": "text/x-python",
   "name": "python",
   "nbconvert_exporter": "python",
   "pygments_lexer": "ipython3",
   "version": "3.12.2"
  }
 },
 "nbformat": 4,
 "nbformat_minor": 2
}
