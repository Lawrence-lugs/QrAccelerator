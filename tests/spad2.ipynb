{
 "cells": [
  {
   "cell_type": "code",
   "execution_count": 1,
   "metadata": {},
   "outputs": [
    {
     "data": {
      "text/plain": [
       "array([[ 0,  1, -1, ...,  2, -1,  3],\n",
       "       [ 1,  1,  0, ...,  2,  3,  1],\n",
       "       [ 0,  0, -1, ..., -3, -5, -2],\n",
       "       ...,\n",
       "       [-1, -3,  1, ..., -2, -2,  0],\n",
       "       [ 0, -4, -3, ...,  0,  1, -1],\n",
       "       [-2,  0, -1, ...,  2,  2, -1]])"
      ]
     },
     "execution_count": 1,
     "metadata": {},
     "output_type": "execute_result"
    }
   ],
   "source": [
    "import hwacctools.quantization.quant as q\n",
    "from stim_lib.stimulus_gen import generate_qracc_inputs\n",
    "import numpy as np\n",
    "import plotly.express as px\n",
    "\n",
    "w,x,wx_outBits = generate_qracc_inputs(\n",
    "    wDimX = 32, #nColumns\n",
    "    wDimY = 128, #nRows\n",
    "    xBatches = 50,\n",
    "    xTrits = 1,\n",
    "    outBits = 4,\n",
    "    seed = 0,\n",
    "    weight_mode = 'binary'\n",
    ")\n",
    "\n",
    "wx = w @ x.T\n",
    "# [i for i in zip(wx.T,wx_outBits.T)]\n",
    "# wx.T[0], q.saturating_clip(wx.T[0],inBits = 6,outBits = 4)\n",
    "# q.get_array_bits(res)\n",
    "# px.histogram(x=res.flatten(),title=f'{res.mean()}')\n",
    "\n",
    "a = wx_outBits.T[::].T\n",
    "a"
   ]
  },
  {
   "cell_type": "code",
   "execution_count": 2,
   "metadata": {},
   "outputs": [
    {
     "data": {
      "text/plain": [
       "array([[ 3, -1,  2, ..., -1,  1,  0],\n",
       "       [ 1,  3,  2, ...,  0,  1,  1],\n",
       "       [-2, -5, -3, ..., -1,  0,  0],\n",
       "       ...,\n",
       "       [ 0, -2, -2, ...,  1, -3, -1],\n",
       "       [-1,  1,  0, ..., -3, -4,  0],\n",
       "       [-1,  2,  2, ..., -1,  0, -2]])"
      ]
     },
     "execution_count": 2,
     "metadata": {},
     "output_type": "execute_result"
    }
   ],
   "source": [
    "wx_outBits.T[::-1].T"
   ]
  },
  {
   "cell_type": "code",
   "execution_count": 3,
   "metadata": {},
   "outputs": [
    {
     "data": {
      "text/plain": [
       "[3,\n",
       " 5,\n",
       " -3,\n",
       " 2,\n",
       " -2,\n",
       " 9,\n",
       " 4,\n",
       " 0,\n",
       " -3,\n",
       " -1,\n",
       " 3,\n",
       " 2,\n",
       " 8,\n",
       " 13,\n",
       " 8,\n",
       " 1,\n",
       " 9,\n",
       " 5,\n",
       " 1,\n",
       " -1,\n",
       " 5,\n",
       " -5,\n",
       " 4,\n",
       " 5,\n",
       " -1,\n",
       " 0,\n",
       " 1,\n",
       " 2,\n",
       " 3,\n",
       " 9,\n",
       " -4,\n",
       " 12]"
      ]
     },
     "execution_count": 3,
     "metadata": {},
     "output_type": "execute_result"
    }
   ],
   "source": [
    "[np.dot(w[i],x[0]) for i in range(w.shape[0])]"
   ]
  },
  {
   "cell_type": "code",
   "execution_count": 4,
   "metadata": {},
   "outputs": [
    {
     "data": {
      "text/plain": [
       "array([[  3,   5,  -3, ...,   9,  -4,  12],\n",
       "       [  4,   4,   0, ...,  11,  12,   6],\n",
       "       [  0,   0,  -1, ...,  -9, -17,  -7],\n",
       "       ...,\n",
       "       [ -3, -10,   4, ...,  -6,  -5,   3],\n",
       "       [  1, -14,  -9, ...,   2,   4,  -1],\n",
       "       [ -6,   1,  -2, ...,   8,   9,  -2]])"
      ]
     },
     "execution_count": 4,
     "metadata": {},
     "output_type": "execute_result"
    }
   ],
   "source": [
    "(w @ x.T).T"
   ]
  },
  {
   "cell_type": "code",
   "execution_count": 10,
   "metadata": {},
   "outputs": [
    {
     "data": {
      "text/plain": [
       "(128, 32)"
      ]
     },
     "execution_count": 10,
     "metadata": {},
     "output_type": "execute_result"
    }
   ],
   "source": [
    "w.T.shape"
   ]
  }
 ],
 "metadata": {
  "kernelspec": {
   "display_name": "ic_dec",
   "language": "python",
   "name": "python3"
  },
  "language_info": {
   "codemirror_mode": {
    "name": "ipython",
    "version": 3
   },
   "file_extension": ".py",
   "mimetype": "text/x-python",
   "name": "python",
   "nbconvert_exporter": "python",
   "pygments_lexer": "ipython3",
   "version": "3.12.2"
  }
 },
 "nbformat": 4,
 "nbformat_minor": 2
}
