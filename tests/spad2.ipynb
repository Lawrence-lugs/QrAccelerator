{
 "cells": [
  {
   "cell_type": "code",
   "execution_count": 36,
   "metadata": {},
   "outputs": [
    {
     "name": "stdout",
     "output_type": "stream",
     "text": [
      "The autoreload extension is already loaded. To reload it, use:\n",
      "  %reload_ext autoreload\n"
     ]
    }
   ],
   "source": [
    "%load_ext autoreload\n",
    "%autoreload 2\n",
    "\n",
    "import hwacctools.quantization.quant as q\n",
    "from stim_lib.stimulus_gen import generate_qracc_inputs\n",
    "import numpy as np\n",
    "import plotly.express as px\n",
    "import seaborn as sns\n",
    "import pandas as pd\n",
    "import plotly.subplots as sp\n",
    "\n",
    "df = pd.DataFrame\n",
    "sns.set_theme()"
   ]
  },
  {
   "cell_type": "code",
   "execution_count": 50,
   "metadata": {},
   "outputs": [
    {
     "name": "stdout",
     "output_type": "stream",
     "text": [
      "[STIM_GEN] Generating random weights\n"
     ]
    },
    {
     "data": {
      "application/vnd.plotly.v1+json": {
       "config": {
        "plotlyServerURL": "https://plot.ly"
       },
       "data": [
        {
         "hovertemplate": "RTL=%{x}<br>Python=%{y}<extra></extra>",
         "legendgroup": "",
         "marker": {
          "color": "#636efa",
          "symbol": "circle"
         },
         "mode": "markers",
         "name": "",
         "orientation": "v",
         "showlegend": false,
         "type": "scatter",
         "x": [
          -18,
          66,
          24,
          48,
          -10,
          84,
          -74,
          48,
          -40,
          36,
          30,
          96,
          8,
          32,
          24,
          -28,
          28,
          88,
          34,
          24,
          110,
          18,
          -48,
          -40,
          78,
          88,
          74,
          22,
          20,
          62,
          46,
          -74,
          -50,
          -46,
          8,
          14,
          104,
          10,
          42,
          80,
          -32,
          -16,
          -2,
          -20,
          22,
          0,
          16,
          -24,
          -14,
          -36,
          -48,
          36,
          64,
          -2,
          100,
          44,
          -14,
          34,
          -12,
          34,
          -6,
          48,
          -10,
          94,
          96,
          94,
          138,
          60,
          158,
          142,
          124,
          2,
          40,
          156,
          160,
          152,
          174,
          194,
          100,
          122,
          160,
          94,
          130,
          56,
          138,
          182,
          34,
          58,
          120,
          90,
          128,
          142,
          170,
          80,
          24,
          106,
          14,
          26,
          86,
          12,
          -24,
          -42,
          6,
          -112,
          -10,
          -104,
          32,
          -32,
          -62,
          38,
          -4,
          32,
          -62,
          74,
          44,
          -46,
          46,
          -16,
          -30,
          -4,
          110,
          -32,
          66,
          66,
          78,
          -16,
          -10,
          -64,
          -54,
          6,
          -40,
          50,
          60,
          26,
          -92,
          -70,
          6,
          38,
          -44,
          42,
          54,
          48,
          -36,
          -34,
          64,
          24,
          -20,
          20,
          44,
          6,
          -18,
          -50,
          20,
          44,
          44,
          36,
          -32,
          28,
          72,
          24,
          0,
          -110,
          -56,
          -54,
          74,
          -68,
          30,
          -52,
          -38,
          -102,
          8,
          -42,
          -18,
          -36,
          -8,
          -26,
          -16,
          12,
          -66,
          -30,
          -10,
          -100,
          68,
          -30,
          -42,
          -60,
          -96,
          -50,
          30,
          70,
          20,
          -24,
          -44,
          -26,
          -52,
          -76,
          -28,
          6,
          -76,
          10,
          20,
          -102,
          44,
          -12,
          -16,
          -6,
          18,
          50,
          22,
          -18,
          18,
          -64,
          -32,
          90,
          -38,
          -14,
          -64,
          -2,
          -24,
          32,
          -72,
          -4,
          -72,
          -94,
          -66,
          -22,
          -66,
          76,
          102,
          0,
          4,
          16,
          22,
          40,
          8,
          12,
          -12,
          -12,
          -58,
          -22,
          48,
          34,
          4,
          -18,
          10,
          56,
          6,
          2,
          -32,
          -2,
          -24,
          74,
          10,
          -38,
          68,
          64,
          -60,
          -40,
          -10,
          2,
          52,
          72,
          -8,
          26,
          -34,
          -20,
          36,
          106,
          58,
          0,
          42,
          -30,
          40,
          60,
          -18,
          38,
          74,
          128,
          6,
          -4,
          -30,
          44,
          -8,
          -38,
          -34,
          -6,
          -32,
          22,
          146,
          134,
          180,
          198,
          96,
          102,
          32,
          44,
          86,
          118,
          142,
          118,
          120,
          94,
          108,
          40,
          98,
          118,
          -6,
          100,
          100,
          160,
          140,
          126,
          20,
          108,
          72,
          124,
          124,
          38,
          96,
          94
         ],
         "xaxis": "x",
         "y": [
          -676,
          12,
          -342,
          -321,
          -583,
          577,
          -724,
          -674,
          5,
          -861,
          -283,
          427,
          676,
          -52,
          -371,
          -548,
          241,
          -534,
          -100,
          -283,
          -402,
          323,
          -583,
          111,
          -478,
          -105,
          -592,
          -210,
          -868,
          -608,
          19,
          -868,
          808,
          52,
          966,
          -222,
          697,
          539,
          398,
          -488,
          -107,
          -122,
          -132,
          415,
          -116,
          453,
          1122,
          779,
          297,
          -459,
          257,
          -223,
          -310,
          114,
          -171,
          551,
          89,
          -443,
          -41,
          133,
          348,
          1244,
          397,
          455,
          127,
          -373,
          -475,
          480,
          -540,
          268,
          -234,
          177,
          384,
          -285,
          420,
          -10,
          47,
          -14,
          329,
          -182,
          173,
          -715,
          -147,
          484,
          -228,
          -656,
          -58,
          14,
          -106,
          -300,
          548,
          -192,
          -577,
          473,
          238,
          -709,
          749,
          291,
          205,
          512,
          755,
          45,
          791,
          408,
          506,
          459,
          565,
          783,
          690,
          626,
          1068,
          1465,
          1159,
          1022,
          386,
          884,
          752,
          969,
          941,
          283,
          338,
          995,
          270,
          1259,
          1058,
          1382,
          440,
          -32,
          -110,
          -1190,
          -637,
          -1062,
          -629,
          -909,
          -412,
          -876,
          -887,
          -539,
          -185,
          -938,
          -1225,
          -451,
          -468,
          -859,
          -988,
          -468,
          -575,
          -778,
          -318,
          -1691,
          -814,
          -982,
          -730,
          -817,
          -1254,
          -700,
          -665,
          -916,
          -485,
          -355,
          76,
          -331,
          -292,
          -186,
          -79,
          -402,
          -366,
          156,
          -491,
          -856,
          -776,
          322,
          210,
          -53,
          56,
          200,
          -665,
          148,
          -636,
          50,
          711,
          27,
          -490,
          -438,
          -634,
          -373,
          -351,
          -1040,
          -42,
          -145,
          -509,
          252,
          448,
          -760,
          669,
          -131,
          -140,
          -263,
          90,
          51,
          -417,
          -401,
          824,
          546,
          130,
          382,
          249,
          546,
          -29,
          571,
          439,
          226,
          158,
          -447,
          -30,
          -855,
          497,
          -338,
          1367,
          479,
          181,
          -377,
          146,
          339,
          149,
          35,
          298,
          355,
          -1072,
          -142,
          -525,
          -599,
          -283,
          -727,
          -229,
          -233,
          197,
          -69,
          -152,
          -301,
          -230,
          -1406,
          -661,
          132,
          -392,
          -173,
          -518,
          -195,
          -676,
          -844,
          227,
          -140,
          -772,
          -872,
          -198,
          -605,
          461,
          804,
          -99,
          -531,
          -1013,
          -259,
          -1049,
          -52,
          501,
          -37,
          -354,
          -401,
          -56,
          -897,
          -1065,
          -535,
          -191,
          599,
          -257,
          -392,
          -469,
          -131,
          276,
          -68,
          -264,
          -413,
          103,
          -269,
          919,
          105,
          198,
          139,
          1023,
          1058,
          1369,
          1290,
          1199,
          762,
          1058,
          1012,
          853,
          984,
          967,
          1213,
          1144,
          1264,
          622,
          815,
          848,
          1119,
          1086,
          1470,
          1181,
          1099,
          877,
          904,
          1280,
          797,
          1056,
          1707,
          1592,
          1533,
          1217,
          1116
         ],
         "yaxis": "y"
        }
       ],
       "layout": {
        "height": 400,
        "legend": {
         "tracegroupgap": 0
        },
        "shapes": [
         {
          "line": {
           "dash": "dash"
          },
          "type": "line",
          "x0": -1000,
          "x1": 1000,
          "y0": -1000,
          "y1": 1000
         }
        ],
        "template": {
         "data": {
          "bar": [
           {
            "error_x": {
             "color": "#2a3f5f"
            },
            "error_y": {
             "color": "#2a3f5f"
            },
            "marker": {
             "line": {
              "color": "#E5ECF6",
              "width": 0.5
             },
             "pattern": {
              "fillmode": "overlay",
              "size": 10,
              "solidity": 0.2
             }
            },
            "type": "bar"
           }
          ],
          "barpolar": [
           {
            "marker": {
             "line": {
              "color": "#E5ECF6",
              "width": 0.5
             },
             "pattern": {
              "fillmode": "overlay",
              "size": 10,
              "solidity": 0.2
             }
            },
            "type": "barpolar"
           }
          ],
          "carpet": [
           {
            "aaxis": {
             "endlinecolor": "#2a3f5f",
             "gridcolor": "white",
             "linecolor": "white",
             "minorgridcolor": "white",
             "startlinecolor": "#2a3f5f"
            },
            "baxis": {
             "endlinecolor": "#2a3f5f",
             "gridcolor": "white",
             "linecolor": "white",
             "minorgridcolor": "white",
             "startlinecolor": "#2a3f5f"
            },
            "type": "carpet"
           }
          ],
          "choropleth": [
           {
            "colorbar": {
             "outlinewidth": 0,
             "ticks": ""
            },
            "type": "choropleth"
           }
          ],
          "contour": [
           {
            "colorbar": {
             "outlinewidth": 0,
             "ticks": ""
            },
            "colorscale": [
             [
              0,
              "#0d0887"
             ],
             [
              0.1111111111111111,
              "#46039f"
             ],
             [
              0.2222222222222222,
              "#7201a8"
             ],
             [
              0.3333333333333333,
              "#9c179e"
             ],
             [
              0.4444444444444444,
              "#bd3786"
             ],
             [
              0.5555555555555556,
              "#d8576b"
             ],
             [
              0.6666666666666666,
              "#ed7953"
             ],
             [
              0.7777777777777778,
              "#fb9f3a"
             ],
             [
              0.8888888888888888,
              "#fdca26"
             ],
             [
              1,
              "#f0f921"
             ]
            ],
            "type": "contour"
           }
          ],
          "contourcarpet": [
           {
            "colorbar": {
             "outlinewidth": 0,
             "ticks": ""
            },
            "type": "contourcarpet"
           }
          ],
          "heatmap": [
           {
            "colorbar": {
             "outlinewidth": 0,
             "ticks": ""
            },
            "colorscale": [
             [
              0,
              "#0d0887"
             ],
             [
              0.1111111111111111,
              "#46039f"
             ],
             [
              0.2222222222222222,
              "#7201a8"
             ],
             [
              0.3333333333333333,
              "#9c179e"
             ],
             [
              0.4444444444444444,
              "#bd3786"
             ],
             [
              0.5555555555555556,
              "#d8576b"
             ],
             [
              0.6666666666666666,
              "#ed7953"
             ],
             [
              0.7777777777777778,
              "#fb9f3a"
             ],
             [
              0.8888888888888888,
              "#fdca26"
             ],
             [
              1,
              "#f0f921"
             ]
            ],
            "type": "heatmap"
           }
          ],
          "heatmapgl": [
           {
            "colorbar": {
             "outlinewidth": 0,
             "ticks": ""
            },
            "colorscale": [
             [
              0,
              "#0d0887"
             ],
             [
              0.1111111111111111,
              "#46039f"
             ],
             [
              0.2222222222222222,
              "#7201a8"
             ],
             [
              0.3333333333333333,
              "#9c179e"
             ],
             [
              0.4444444444444444,
              "#bd3786"
             ],
             [
              0.5555555555555556,
              "#d8576b"
             ],
             [
              0.6666666666666666,
              "#ed7953"
             ],
             [
              0.7777777777777778,
              "#fb9f3a"
             ],
             [
              0.8888888888888888,
              "#fdca26"
             ],
             [
              1,
              "#f0f921"
             ]
            ],
            "type": "heatmapgl"
           }
          ],
          "histogram": [
           {
            "marker": {
             "pattern": {
              "fillmode": "overlay",
              "size": 10,
              "solidity": 0.2
             }
            },
            "type": "histogram"
           }
          ],
          "histogram2d": [
           {
            "colorbar": {
             "outlinewidth": 0,
             "ticks": ""
            },
            "colorscale": [
             [
              0,
              "#0d0887"
             ],
             [
              0.1111111111111111,
              "#46039f"
             ],
             [
              0.2222222222222222,
              "#7201a8"
             ],
             [
              0.3333333333333333,
              "#9c179e"
             ],
             [
              0.4444444444444444,
              "#bd3786"
             ],
             [
              0.5555555555555556,
              "#d8576b"
             ],
             [
              0.6666666666666666,
              "#ed7953"
             ],
             [
              0.7777777777777778,
              "#fb9f3a"
             ],
             [
              0.8888888888888888,
              "#fdca26"
             ],
             [
              1,
              "#f0f921"
             ]
            ],
            "type": "histogram2d"
           }
          ],
          "histogram2dcontour": [
           {
            "colorbar": {
             "outlinewidth": 0,
             "ticks": ""
            },
            "colorscale": [
             [
              0,
              "#0d0887"
             ],
             [
              0.1111111111111111,
              "#46039f"
             ],
             [
              0.2222222222222222,
              "#7201a8"
             ],
             [
              0.3333333333333333,
              "#9c179e"
             ],
             [
              0.4444444444444444,
              "#bd3786"
             ],
             [
              0.5555555555555556,
              "#d8576b"
             ],
             [
              0.6666666666666666,
              "#ed7953"
             ],
             [
              0.7777777777777778,
              "#fb9f3a"
             ],
             [
              0.8888888888888888,
              "#fdca26"
             ],
             [
              1,
              "#f0f921"
             ]
            ],
            "type": "histogram2dcontour"
           }
          ],
          "mesh3d": [
           {
            "colorbar": {
             "outlinewidth": 0,
             "ticks": ""
            },
            "type": "mesh3d"
           }
          ],
          "parcoords": [
           {
            "line": {
             "colorbar": {
              "outlinewidth": 0,
              "ticks": ""
             }
            },
            "type": "parcoords"
           }
          ],
          "pie": [
           {
            "automargin": true,
            "type": "pie"
           }
          ],
          "scatter": [
           {
            "fillpattern": {
             "fillmode": "overlay",
             "size": 10,
             "solidity": 0.2
            },
            "type": "scatter"
           }
          ],
          "scatter3d": [
           {
            "line": {
             "colorbar": {
              "outlinewidth": 0,
              "ticks": ""
             }
            },
            "marker": {
             "colorbar": {
              "outlinewidth": 0,
              "ticks": ""
             }
            },
            "type": "scatter3d"
           }
          ],
          "scattercarpet": [
           {
            "marker": {
             "colorbar": {
              "outlinewidth": 0,
              "ticks": ""
             }
            },
            "type": "scattercarpet"
           }
          ],
          "scattergeo": [
           {
            "marker": {
             "colorbar": {
              "outlinewidth": 0,
              "ticks": ""
             }
            },
            "type": "scattergeo"
           }
          ],
          "scattergl": [
           {
            "marker": {
             "colorbar": {
              "outlinewidth": 0,
              "ticks": ""
             }
            },
            "type": "scattergl"
           }
          ],
          "scattermapbox": [
           {
            "marker": {
             "colorbar": {
              "outlinewidth": 0,
              "ticks": ""
             }
            },
            "type": "scattermapbox"
           }
          ],
          "scatterpolar": [
           {
            "marker": {
             "colorbar": {
              "outlinewidth": 0,
              "ticks": ""
             }
            },
            "type": "scatterpolar"
           }
          ],
          "scatterpolargl": [
           {
            "marker": {
             "colorbar": {
              "outlinewidth": 0,
              "ticks": ""
             }
            },
            "type": "scatterpolargl"
           }
          ],
          "scatterternary": [
           {
            "marker": {
             "colorbar": {
              "outlinewidth": 0,
              "ticks": ""
             }
            },
            "type": "scatterternary"
           }
          ],
          "surface": [
           {
            "colorbar": {
             "outlinewidth": 0,
             "ticks": ""
            },
            "colorscale": [
             [
              0,
              "#0d0887"
             ],
             [
              0.1111111111111111,
              "#46039f"
             ],
             [
              0.2222222222222222,
              "#7201a8"
             ],
             [
              0.3333333333333333,
              "#9c179e"
             ],
             [
              0.4444444444444444,
              "#bd3786"
             ],
             [
              0.5555555555555556,
              "#d8576b"
             ],
             [
              0.6666666666666666,
              "#ed7953"
             ],
             [
              0.7777777777777778,
              "#fb9f3a"
             ],
             [
              0.8888888888888888,
              "#fdca26"
             ],
             [
              1,
              "#f0f921"
             ]
            ],
            "type": "surface"
           }
          ],
          "table": [
           {
            "cells": {
             "fill": {
              "color": "#EBF0F8"
             },
             "line": {
              "color": "white"
             }
            },
            "header": {
             "fill": {
              "color": "#C8D4E3"
             },
             "line": {
              "color": "white"
             }
            },
            "type": "table"
           }
          ]
         },
         "layout": {
          "annotationdefaults": {
           "arrowcolor": "#2a3f5f",
           "arrowhead": 0,
           "arrowwidth": 1
          },
          "autotypenumbers": "strict",
          "coloraxis": {
           "colorbar": {
            "outlinewidth": 0,
            "ticks": ""
           }
          },
          "colorscale": {
           "diverging": [
            [
             0,
             "#8e0152"
            ],
            [
             0.1,
             "#c51b7d"
            ],
            [
             0.2,
             "#de77ae"
            ],
            [
             0.3,
             "#f1b6da"
            ],
            [
             0.4,
             "#fde0ef"
            ],
            [
             0.5,
             "#f7f7f7"
            ],
            [
             0.6,
             "#e6f5d0"
            ],
            [
             0.7,
             "#b8e186"
            ],
            [
             0.8,
             "#7fbc41"
            ],
            [
             0.9,
             "#4d9221"
            ],
            [
             1,
             "#276419"
            ]
           ],
           "sequential": [
            [
             0,
             "#0d0887"
            ],
            [
             0.1111111111111111,
             "#46039f"
            ],
            [
             0.2222222222222222,
             "#7201a8"
            ],
            [
             0.3333333333333333,
             "#9c179e"
            ],
            [
             0.4444444444444444,
             "#bd3786"
            ],
            [
             0.5555555555555556,
             "#d8576b"
            ],
            [
             0.6666666666666666,
             "#ed7953"
            ],
            [
             0.7777777777777778,
             "#fb9f3a"
            ],
            [
             0.8888888888888888,
             "#fdca26"
            ],
            [
             1,
             "#f0f921"
            ]
           ],
           "sequentialminus": [
            [
             0,
             "#0d0887"
            ],
            [
             0.1111111111111111,
             "#46039f"
            ],
            [
             0.2222222222222222,
             "#7201a8"
            ],
            [
             0.3333333333333333,
             "#9c179e"
            ],
            [
             0.4444444444444444,
             "#bd3786"
            ],
            [
             0.5555555555555556,
             "#d8576b"
            ],
            [
             0.6666666666666666,
             "#ed7953"
            ],
            [
             0.7777777777777778,
             "#fb9f3a"
            ],
            [
             0.8888888888888888,
             "#fdca26"
            ],
            [
             1,
             "#f0f921"
            ]
           ]
          },
          "colorway": [
           "#636efa",
           "#EF553B",
           "#00cc96",
           "#ab63fa",
           "#FFA15A",
           "#19d3f3",
           "#FF6692",
           "#B6E880",
           "#FF97FF",
           "#FECB52"
          ],
          "font": {
           "color": "#2a3f5f"
          },
          "geo": {
           "bgcolor": "white",
           "lakecolor": "white",
           "landcolor": "#E5ECF6",
           "showlakes": true,
           "showland": true,
           "subunitcolor": "white"
          },
          "hoverlabel": {
           "align": "left"
          },
          "hovermode": "closest",
          "mapbox": {
           "style": "light"
          },
          "paper_bgcolor": "white",
          "plot_bgcolor": "#E5ECF6",
          "polar": {
           "angularaxis": {
            "gridcolor": "white",
            "linecolor": "white",
            "ticks": ""
           },
           "bgcolor": "#E5ECF6",
           "radialaxis": {
            "gridcolor": "white",
            "linecolor": "white",
            "ticks": ""
           }
          },
          "scene": {
           "xaxis": {
            "backgroundcolor": "#E5ECF6",
            "gridcolor": "white",
            "gridwidth": 2,
            "linecolor": "white",
            "showbackground": true,
            "ticks": "",
            "zerolinecolor": "white"
           },
           "yaxis": {
            "backgroundcolor": "#E5ECF6",
            "gridcolor": "white",
            "gridwidth": 2,
            "linecolor": "white",
            "showbackground": true,
            "ticks": "",
            "zerolinecolor": "white"
           },
           "zaxis": {
            "backgroundcolor": "#E5ECF6",
            "gridcolor": "white",
            "gridwidth": 2,
            "linecolor": "white",
            "showbackground": true,
            "ticks": "",
            "zerolinecolor": "white"
           }
          },
          "shapedefaults": {
           "line": {
            "color": "#2a3f5f"
           }
          },
          "ternary": {
           "aaxis": {
            "gridcolor": "white",
            "linecolor": "white",
            "ticks": ""
           },
           "baxis": {
            "gridcolor": "white",
            "linecolor": "white",
            "ticks": ""
           },
           "bgcolor": "#E5ECF6",
           "caxis": {
            "gridcolor": "white",
            "linecolor": "white",
            "ticks": ""
           }
          },
          "title": {
           "x": 0.05
          },
          "xaxis": {
           "automargin": true,
           "gridcolor": "white",
           "linecolor": "white",
           "ticks": "",
           "title": {
            "standoff": 15
           },
           "zerolinecolor": "white",
           "zerolinewidth": 2
          },
          "yaxis": {
           "automargin": true,
           "gridcolor": "white",
           "linecolor": "white",
           "ticks": "",
           "title": {
            "standoff": 15
           },
           "zerolinecolor": "white",
           "zerolinewidth": 2
          }
         }
        },
        "title": {
         "text": "SNR:0.11 dB"
        },
        "width": 400,
        "xaxis": {
         "anchor": "y",
         "domain": [
          0,
          1
         ],
         "title": {
          "text": "RTL"
         }
        },
        "yaxis": {
         "anchor": "x",
         "domain": [
          0,
          1
         ],
         "title": {
          "text": "Python"
         }
        }
       }
      },
      "text/html": [
       "<div>                            <div id=\"975a7e4b-126f-456d-b40d-64804277a4e8\" class=\"plotly-graph-div\" style=\"height:400px; width:400px;\"></div>            <script type=\"text/javascript\">                require([\"plotly\"], function(Plotly) {                    window.PLOTLYENV=window.PLOTLYENV || {};                                    if (document.getElementById(\"975a7e4b-126f-456d-b40d-64804277a4e8\")) {                    Plotly.newPlot(                        \"975a7e4b-126f-456d-b40d-64804277a4e8\",                        [{\"hovertemplate\":\"RTL=%{x}\\u003cbr\\u003ePython=%{y}\\u003cextra\\u003e\\u003c\\u002fextra\\u003e\",\"legendgroup\":\"\",\"marker\":{\"color\":\"#636efa\",\"symbol\":\"circle\"},\"mode\":\"markers\",\"name\":\"\",\"orientation\":\"v\",\"showlegend\":false,\"x\":[-18.0,66.0,24.0,48.0,-10.0,84.0,-74.0,48.0,-40.0,36.0,30.0,96.0,8.0,32.0,24.0,-28.0,28.0,88.0,34.0,24.0,110.0,18.0,-48.0,-40.0,78.0,88.0,74.0,22.0,20.0,62.0,46.0,-74.0,-50.0,-46.0,8.0,14.0,104.0,10.0,42.0,80.0,-32.0,-16.0,-2.0,-20.0,22.0,0.0,16.0,-24.0,-14.0,-36.0,-48.0,36.0,64.0,-2.0,100.0,44.0,-14.0,34.0,-12.0,34.0,-6.0,48.0,-10.0,94.0,96.0,94.0,138.0,60.0,158.0,142.0,124.0,2.0,40.0,156.0,160.0,152.0,174.0,194.0,100.0,122.0,160.0,94.0,130.0,56.0,138.0,182.0,34.0,58.0,120.0,90.0,128.0,142.0,170.0,80.0,24.0,106.0,14.0,26.0,86.0,12.0,-24.0,-42.0,6.0,-112.0,-10.0,-104.0,32.0,-32.0,-62.0,38.0,-4.0,32.0,-62.0,74.0,44.0,-46.0,46.0,-16.0,-30.0,-4.0,110.0,-32.0,66.0,66.0,78.0,-16.0,-10.0,-64.0,-54.0,6.0,-40.0,50.0,60.0,26.0,-92.0,-70.0,6.0,38.0,-44.0,42.0,54.0,48.0,-36.0,-34.0,64.0,24.0,-20.0,20.0,44.0,6.0,-18.0,-50.0,20.0,44.0,44.0,36.0,-32.0,28.0,72.0,24.0,0.0,-110.0,-56.0,-54.0,74.0,-68.0,30.0,-52.0,-38.0,-102.0,8.0,-42.0,-18.0,-36.0,-8.0,-26.0,-16.0,12.0,-66.0,-30.0,-10.0,-100.0,68.0,-30.0,-42.0,-60.0,-96.0,-50.0,30.0,70.0,20.0,-24.0,-44.0,-26.0,-52.0,-76.0,-28.0,6.0,-76.0,10.0,20.0,-102.0,44.0,-12.0,-16.0,-6.0,18.0,50.0,22.0,-18.0,18.0,-64.0,-32.0,90.0,-38.0,-14.0,-64.0,-2.0,-24.0,32.0,-72.0,-4.0,-72.0,-94.0,-66.0,-22.0,-66.0,76.0,102.0,0.0,4.0,16.0,22.0,40.0,8.0,12.0,-12.0,-12.0,-58.0,-22.0,48.0,34.0,4.0,-18.0,10.0,56.0,6.0,2.0,-32.0,-2.0,-24.0,74.0,10.0,-38.0,68.0,64.0,-60.0,-40.0,-10.0,2.0,52.0,72.0,-8.0,26.0,-34.0,-20.0,36.0,106.0,58.0,0.0,42.0,-30.0,40.0,60.0,-18.0,38.0,74.0,128.0,6.0,-4.0,-30.0,44.0,-8.0,-38.0,-34.0,-6.0,-32.0,22.0,146.0,134.0,180.0,198.0,96.0,102.0,32.0,44.0,86.0,118.0,142.0,118.0,120.0,94.0,108.0,40.0,98.0,118.0,-6.0,100.0,100.0,160.0,140.0,126.0,20.0,108.0,72.0,124.0,124.0,38.0,96.0,94.0],\"xaxis\":\"x\",\"y\":[-676,12,-342,-321,-583,577,-724,-674,5,-861,-283,427,676,-52,-371,-548,241,-534,-100,-283,-402,323,-583,111,-478,-105,-592,-210,-868,-608,19,-868,808,52,966,-222,697,539,398,-488,-107,-122,-132,415,-116,453,1122,779,297,-459,257,-223,-310,114,-171,551,89,-443,-41,133,348,1244,397,455,127,-373,-475,480,-540,268,-234,177,384,-285,420,-10,47,-14,329,-182,173,-715,-147,484,-228,-656,-58,14,-106,-300,548,-192,-577,473,238,-709,749,291,205,512,755,45,791,408,506,459,565,783,690,626,1068,1465,1159,1022,386,884,752,969,941,283,338,995,270,1259,1058,1382,440,-32,-110,-1190,-637,-1062,-629,-909,-412,-876,-887,-539,-185,-938,-1225,-451,-468,-859,-988,-468,-575,-778,-318,-1691,-814,-982,-730,-817,-1254,-700,-665,-916,-485,-355,76,-331,-292,-186,-79,-402,-366,156,-491,-856,-776,322,210,-53,56,200,-665,148,-636,50,711,27,-490,-438,-634,-373,-351,-1040,-42,-145,-509,252,448,-760,669,-131,-140,-263,90,51,-417,-401,824,546,130,382,249,546,-29,571,439,226,158,-447,-30,-855,497,-338,1367,479,181,-377,146,339,149,35,298,355,-1072,-142,-525,-599,-283,-727,-229,-233,197,-69,-152,-301,-230,-1406,-661,132,-392,-173,-518,-195,-676,-844,227,-140,-772,-872,-198,-605,461,804,-99,-531,-1013,-259,-1049,-52,501,-37,-354,-401,-56,-897,-1065,-535,-191,599,-257,-392,-469,-131,276,-68,-264,-413,103,-269,919,105,198,139,1023,1058,1369,1290,1199,762,1058,1012,853,984,967,1213,1144,1264,622,815,848,1119,1086,1470,1181,1099,877,904,1280,797,1056,1707,1592,1533,1217,1116],\"yaxis\":\"y\",\"type\":\"scatter\"}],                        {\"template\":{\"data\":{\"histogram2dcontour\":[{\"type\":\"histogram2dcontour\",\"colorbar\":{\"outlinewidth\":0,\"ticks\":\"\"},\"colorscale\":[[0.0,\"#0d0887\"],[0.1111111111111111,\"#46039f\"],[0.2222222222222222,\"#7201a8\"],[0.3333333333333333,\"#9c179e\"],[0.4444444444444444,\"#bd3786\"],[0.5555555555555556,\"#d8576b\"],[0.6666666666666666,\"#ed7953\"],[0.7777777777777778,\"#fb9f3a\"],[0.8888888888888888,\"#fdca26\"],[1.0,\"#f0f921\"]]}],\"choropleth\":[{\"type\":\"choropleth\",\"colorbar\":{\"outlinewidth\":0,\"ticks\":\"\"}}],\"histogram2d\":[{\"type\":\"histogram2d\",\"colorbar\":{\"outlinewidth\":0,\"ticks\":\"\"},\"colorscale\":[[0.0,\"#0d0887\"],[0.1111111111111111,\"#46039f\"],[0.2222222222222222,\"#7201a8\"],[0.3333333333333333,\"#9c179e\"],[0.4444444444444444,\"#bd3786\"],[0.5555555555555556,\"#d8576b\"],[0.6666666666666666,\"#ed7953\"],[0.7777777777777778,\"#fb9f3a\"],[0.8888888888888888,\"#fdca26\"],[1.0,\"#f0f921\"]]}],\"heatmap\":[{\"type\":\"heatmap\",\"colorbar\":{\"outlinewidth\":0,\"ticks\":\"\"},\"colorscale\":[[0.0,\"#0d0887\"],[0.1111111111111111,\"#46039f\"],[0.2222222222222222,\"#7201a8\"],[0.3333333333333333,\"#9c179e\"],[0.4444444444444444,\"#bd3786\"],[0.5555555555555556,\"#d8576b\"],[0.6666666666666666,\"#ed7953\"],[0.7777777777777778,\"#fb9f3a\"],[0.8888888888888888,\"#fdca26\"],[1.0,\"#f0f921\"]]}],\"heatmapgl\":[{\"type\":\"heatmapgl\",\"colorbar\":{\"outlinewidth\":0,\"ticks\":\"\"},\"colorscale\":[[0.0,\"#0d0887\"],[0.1111111111111111,\"#46039f\"],[0.2222222222222222,\"#7201a8\"],[0.3333333333333333,\"#9c179e\"],[0.4444444444444444,\"#bd3786\"],[0.5555555555555556,\"#d8576b\"],[0.6666666666666666,\"#ed7953\"],[0.7777777777777778,\"#fb9f3a\"],[0.8888888888888888,\"#fdca26\"],[1.0,\"#f0f921\"]]}],\"contourcarpet\":[{\"type\":\"contourcarpet\",\"colorbar\":{\"outlinewidth\":0,\"ticks\":\"\"}}],\"contour\":[{\"type\":\"contour\",\"colorbar\":{\"outlinewidth\":0,\"ticks\":\"\"},\"colorscale\":[[0.0,\"#0d0887\"],[0.1111111111111111,\"#46039f\"],[0.2222222222222222,\"#7201a8\"],[0.3333333333333333,\"#9c179e\"],[0.4444444444444444,\"#bd3786\"],[0.5555555555555556,\"#d8576b\"],[0.6666666666666666,\"#ed7953\"],[0.7777777777777778,\"#fb9f3a\"],[0.8888888888888888,\"#fdca26\"],[1.0,\"#f0f921\"]]}],\"surface\":[{\"type\":\"surface\",\"colorbar\":{\"outlinewidth\":0,\"ticks\":\"\"},\"colorscale\":[[0.0,\"#0d0887\"],[0.1111111111111111,\"#46039f\"],[0.2222222222222222,\"#7201a8\"],[0.3333333333333333,\"#9c179e\"],[0.4444444444444444,\"#bd3786\"],[0.5555555555555556,\"#d8576b\"],[0.6666666666666666,\"#ed7953\"],[0.7777777777777778,\"#fb9f3a\"],[0.8888888888888888,\"#fdca26\"],[1.0,\"#f0f921\"]]}],\"mesh3d\":[{\"type\":\"mesh3d\",\"colorbar\":{\"outlinewidth\":0,\"ticks\":\"\"}}],\"scatter\":[{\"fillpattern\":{\"fillmode\":\"overlay\",\"size\":10,\"solidity\":0.2},\"type\":\"scatter\"}],\"parcoords\":[{\"type\":\"parcoords\",\"line\":{\"colorbar\":{\"outlinewidth\":0,\"ticks\":\"\"}}}],\"scatterpolargl\":[{\"type\":\"scatterpolargl\",\"marker\":{\"colorbar\":{\"outlinewidth\":0,\"ticks\":\"\"}}}],\"bar\":[{\"error_x\":{\"color\":\"#2a3f5f\"},\"error_y\":{\"color\":\"#2a3f5f\"},\"marker\":{\"line\":{\"color\":\"#E5ECF6\",\"width\":0.5},\"pattern\":{\"fillmode\":\"overlay\",\"size\":10,\"solidity\":0.2}},\"type\":\"bar\"}],\"scattergeo\":[{\"type\":\"scattergeo\",\"marker\":{\"colorbar\":{\"outlinewidth\":0,\"ticks\":\"\"}}}],\"scatterpolar\":[{\"type\":\"scatterpolar\",\"marker\":{\"colorbar\":{\"outlinewidth\":0,\"ticks\":\"\"}}}],\"histogram\":[{\"marker\":{\"pattern\":{\"fillmode\":\"overlay\",\"size\":10,\"solidity\":0.2}},\"type\":\"histogram\"}],\"scattergl\":[{\"type\":\"scattergl\",\"marker\":{\"colorbar\":{\"outlinewidth\":0,\"ticks\":\"\"}}}],\"scatter3d\":[{\"type\":\"scatter3d\",\"line\":{\"colorbar\":{\"outlinewidth\":0,\"ticks\":\"\"}},\"marker\":{\"colorbar\":{\"outlinewidth\":0,\"ticks\":\"\"}}}],\"scattermapbox\":[{\"type\":\"scattermapbox\",\"marker\":{\"colorbar\":{\"outlinewidth\":0,\"ticks\":\"\"}}}],\"scatterternary\":[{\"type\":\"scatterternary\",\"marker\":{\"colorbar\":{\"outlinewidth\":0,\"ticks\":\"\"}}}],\"scattercarpet\":[{\"type\":\"scattercarpet\",\"marker\":{\"colorbar\":{\"outlinewidth\":0,\"ticks\":\"\"}}}],\"carpet\":[{\"aaxis\":{\"endlinecolor\":\"#2a3f5f\",\"gridcolor\":\"white\",\"linecolor\":\"white\",\"minorgridcolor\":\"white\",\"startlinecolor\":\"#2a3f5f\"},\"baxis\":{\"endlinecolor\":\"#2a3f5f\",\"gridcolor\":\"white\",\"linecolor\":\"white\",\"minorgridcolor\":\"white\",\"startlinecolor\":\"#2a3f5f\"},\"type\":\"carpet\"}],\"table\":[{\"cells\":{\"fill\":{\"color\":\"#EBF0F8\"},\"line\":{\"color\":\"white\"}},\"header\":{\"fill\":{\"color\":\"#C8D4E3\"},\"line\":{\"color\":\"white\"}},\"type\":\"table\"}],\"barpolar\":[{\"marker\":{\"line\":{\"color\":\"#E5ECF6\",\"width\":0.5},\"pattern\":{\"fillmode\":\"overlay\",\"size\":10,\"solidity\":0.2}},\"type\":\"barpolar\"}],\"pie\":[{\"automargin\":true,\"type\":\"pie\"}]},\"layout\":{\"autotypenumbers\":\"strict\",\"colorway\":[\"#636efa\",\"#EF553B\",\"#00cc96\",\"#ab63fa\",\"#FFA15A\",\"#19d3f3\",\"#FF6692\",\"#B6E880\",\"#FF97FF\",\"#FECB52\"],\"font\":{\"color\":\"#2a3f5f\"},\"hovermode\":\"closest\",\"hoverlabel\":{\"align\":\"left\"},\"paper_bgcolor\":\"white\",\"plot_bgcolor\":\"#E5ECF6\",\"polar\":{\"bgcolor\":\"#E5ECF6\",\"angularaxis\":{\"gridcolor\":\"white\",\"linecolor\":\"white\",\"ticks\":\"\"},\"radialaxis\":{\"gridcolor\":\"white\",\"linecolor\":\"white\",\"ticks\":\"\"}},\"ternary\":{\"bgcolor\":\"#E5ECF6\",\"aaxis\":{\"gridcolor\":\"white\",\"linecolor\":\"white\",\"ticks\":\"\"},\"baxis\":{\"gridcolor\":\"white\",\"linecolor\":\"white\",\"ticks\":\"\"},\"caxis\":{\"gridcolor\":\"white\",\"linecolor\":\"white\",\"ticks\":\"\"}},\"coloraxis\":{\"colorbar\":{\"outlinewidth\":0,\"ticks\":\"\"}},\"colorscale\":{\"sequential\":[[0.0,\"#0d0887\"],[0.1111111111111111,\"#46039f\"],[0.2222222222222222,\"#7201a8\"],[0.3333333333333333,\"#9c179e\"],[0.4444444444444444,\"#bd3786\"],[0.5555555555555556,\"#d8576b\"],[0.6666666666666666,\"#ed7953\"],[0.7777777777777778,\"#fb9f3a\"],[0.8888888888888888,\"#fdca26\"],[1.0,\"#f0f921\"]],\"sequentialminus\":[[0.0,\"#0d0887\"],[0.1111111111111111,\"#46039f\"],[0.2222222222222222,\"#7201a8\"],[0.3333333333333333,\"#9c179e\"],[0.4444444444444444,\"#bd3786\"],[0.5555555555555556,\"#d8576b\"],[0.6666666666666666,\"#ed7953\"],[0.7777777777777778,\"#fb9f3a\"],[0.8888888888888888,\"#fdca26\"],[1.0,\"#f0f921\"]],\"diverging\":[[0,\"#8e0152\"],[0.1,\"#c51b7d\"],[0.2,\"#de77ae\"],[0.3,\"#f1b6da\"],[0.4,\"#fde0ef\"],[0.5,\"#f7f7f7\"],[0.6,\"#e6f5d0\"],[0.7,\"#b8e186\"],[0.8,\"#7fbc41\"],[0.9,\"#4d9221\"],[1,\"#276419\"]]},\"xaxis\":{\"gridcolor\":\"white\",\"linecolor\":\"white\",\"ticks\":\"\",\"title\":{\"standoff\":15},\"zerolinecolor\":\"white\",\"automargin\":true,\"zerolinewidth\":2},\"yaxis\":{\"gridcolor\":\"white\",\"linecolor\":\"white\",\"ticks\":\"\",\"title\":{\"standoff\":15},\"zerolinecolor\":\"white\",\"automargin\":true,\"zerolinewidth\":2},\"scene\":{\"xaxis\":{\"backgroundcolor\":\"#E5ECF6\",\"gridcolor\":\"white\",\"linecolor\":\"white\",\"showbackground\":true,\"ticks\":\"\",\"zerolinecolor\":\"white\",\"gridwidth\":2},\"yaxis\":{\"backgroundcolor\":\"#E5ECF6\",\"gridcolor\":\"white\",\"linecolor\":\"white\",\"showbackground\":true,\"ticks\":\"\",\"zerolinecolor\":\"white\",\"gridwidth\":2},\"zaxis\":{\"backgroundcolor\":\"#E5ECF6\",\"gridcolor\":\"white\",\"linecolor\":\"white\",\"showbackground\":true,\"ticks\":\"\",\"zerolinecolor\":\"white\",\"gridwidth\":2}},\"shapedefaults\":{\"line\":{\"color\":\"#2a3f5f\"}},\"annotationdefaults\":{\"arrowcolor\":\"#2a3f5f\",\"arrowhead\":0,\"arrowwidth\":1},\"geo\":{\"bgcolor\":\"white\",\"landcolor\":\"#E5ECF6\",\"subunitcolor\":\"white\",\"showland\":true,\"showlakes\":true,\"lakecolor\":\"white\"},\"title\":{\"x\":0.05},\"mapbox\":{\"style\":\"light\"}}},\"xaxis\":{\"anchor\":\"y\",\"domain\":[0.0,1.0],\"title\":{\"text\":\"RTL\"}},\"yaxis\":{\"anchor\":\"x\",\"domain\":[0.0,1.0],\"title\":{\"text\":\"Python\"}},\"legend\":{\"tracegroupgap\":0},\"title\":{\"text\":\"SNR:0.11 dB\"},\"height\":400,\"width\":400,\"shapes\":[{\"line\":{\"dash\":\"dash\"},\"type\":\"line\",\"x0\":-1000,\"x1\":1000,\"y0\":-1000,\"y1\":1000}]},                        {\"responsive\": true}                    ).then(function(){\n",
       "                            \n",
       "var gd = document.getElementById('975a7e4b-126f-456d-b40d-64804277a4e8');\n",
       "var x = new MutationObserver(function (mutations, observer) {{\n",
       "        var display = window.getComputedStyle(gd).display;\n",
       "        if (!display || display === 'none') {{\n",
       "            console.log([gd, 'removed!']);\n",
       "            Plotly.purge(gd);\n",
       "            observer.disconnect();\n",
       "        }}\n",
       "}});\n",
       "\n",
       "// Listen for the removal of the full notebook cells\n",
       "var notebookContainer = gd.closest('#notebook-container');\n",
       "if (notebookContainer) {{\n",
       "    x.observe(notebookContainer, {childList: true});\n",
       "}}\n",
       "\n",
       "// Listen for the clearing of the current output cell\n",
       "var outputEl = gd.closest('.output');\n",
       "if (outputEl) {{\n",
       "    x.observe(outputEl, {childList: true});\n",
       "}}\n",
       "\n",
       "                        })                };                });            </script>        </div>"
      ]
     },
     "metadata": {},
     "output_type": "display_data"
    }
   ],
   "source": [
    "w,x,wxb = generate_qracc_inputs(\n",
    "    wDimX = 32, #nColumns\n",
    "    wDimY = 128, #nRows\n",
    "    xBatches = 10,\n",
    "    xTrits = 7,\n",
    "    outBits = 4,\n",
    "    seed = 0,\n",
    "    weight_mode = 'binary',\n",
    "    col_symmetric=False,\n",
    "    clip_output = False\n",
    ")\n",
    "\n",
    "rtl = np.loadtxt('../tb/seq_acc/inputs/mac_out_ams_binary.txt')\n",
    "ref = wxb.T[::-1].T\n",
    "\n",
    "snr = np.var(ref) / np.var(ref - rtl)\n",
    "snr = 10 * np.log10(snr)\n",
    "\n",
    "fig = px.scatter(x=rtl.flatten(), y=ref.flatten(), title=f'SNR:{snr:.2f} dB', labels={'x':'RTL', 'y':'Python'},\n",
    "    width=400,height=400\n",
    ")\n",
    "# Add diagonal line\n",
    "limit = 1000\n",
    "fig.add_shape(\n",
    "    type=\"line\", line=dict(dash=\"dash\"),\n",
    "    x0=-limit, y0=-limit, x1=limit, y1=limit\n",
    ")\n"
   ]
  },
  {
   "cell_type": "code",
   "execution_count": 47,
   "metadata": {},
   "outputs": [
    {
     "name": "stdout",
     "output_type": "stream",
     "text": [
      "[STIM_GEN] Generating random weights\n"
     ]
    },
    {
     "data": {
      "application/vnd.plotly.v1+json": {
       "config": {
        "plotlyServerURL": "https://plot.ly"
       },
       "data": [
        {
         "hovertemplate": "RTL=%{x}<br>Python=%{y}<extra></extra>",
         "legendgroup": "",
         "marker": {
          "color": "#636efa",
          "symbol": "circle"
         },
         "mode": "markers",
         "name": "",
         "orientation": "v",
         "showlegend": false,
         "type": "scatter",
         "x": [
          -654,
          706,
          -2,
          40,
          -484,
          1570,
          -758,
          -666,
          692,
          -1040,
          116,
          1408,
          1618,
          578,
          -60,
          -414,
          1160,
          -352,
          478,
          116,
          -122,
          1278,
          -484,
          904,
          -274,
          472,
          -502,
          262,
          -1054,
          -534,
          720,
          -860,
          1150,
          -330,
          1370,
          -878,
          960,
          644,
          330,
          -1410,
          -648,
          -678,
          -698,
          396,
          -666,
          472,
          1554,
          1108,
          160,
          -1352,
          80,
          -880,
          -1054,
          -206,
          -776,
          636,
          -256,
          -1312,
          -516,
          -168,
          262,
          1778,
          296,
          472,
          186,
          -814,
          -1018,
          860,
          -1148,
          468,
          -536,
          286,
          700,
          -638,
          740,
          -88,
          26,
          -96,
          590,
          -432,
          262,
          -1496,
          -362,
          900,
          -524,
          -1316,
          -184,
          -40,
          -280,
          -668,
          1028,
          -452,
          -1222,
          878,
          408,
          -1230,
          150,
          -766,
          -906,
          -324,
          162,
          -1226,
          234,
          -532,
          -336,
          -430,
          -218,
          218,
          32,
          -96,
          788,
          1190,
          970,
          696,
          -576,
          420,
          156,
          590,
          534,
          -782,
          -672,
          642,
          -808,
          1170,
          752,
          1160,
          -468,
          -1412,
          1226,
          -806,
          300,
          -550,
          316,
          -244,
          750,
          -178,
          -200,
          496,
          1076,
          -302,
          -876,
          672,
          638,
          -144,
          -402,
          638,
          424,
          18,
          890,
          -1680,
          -54,
          -390,
          114,
          -60,
          -934,
          170,
          244,
          -258,
          604,
          864,
          460,
          -354,
          -276,
          -64,
          150,
          -496,
          -424,
          620,
          -674,
          -1388,
          -1244,
          948,
          728,
          202,
          420,
          708,
          -1022,
          592,
          -964,
          408,
          1458,
          362,
          -608,
          -568,
          -960,
          -438,
          -394,
          -1756,
          224,
          18,
          -710,
          812,
          712,
          -1704,
          926,
          -446,
          -464,
          -710,
          -4,
          -82,
          -1018,
          -970,
          1456,
          908,
          76,
          564,
          314,
          908,
          -242,
          958,
          686,
          268,
          132,
          -1078,
          -244,
          -1688,
          810,
          -860,
          1750,
          758,
          178,
          -938,
          108,
          462,
          678,
          450,
          944,
          1074,
          -1724,
          96,
          -670,
          -818,
          -186,
          -1072,
          -78,
          -86,
          774,
          242,
          76,
          -222,
          -80,
          -2000,
          -878,
          644,
          -404,
          98,
          -648,
          -10,
          -972,
          -988,
          834,
          92,
          -1164,
          -1364,
          -16,
          -830,
          836,
          1586,
          -220,
          -1084,
          -1864,
          -540,
          -1816,
          -126,
          980,
          -96,
          -730,
          -824,
          -134,
          -1680,
          -1832,
          -1084,
          -404,
          1040,
          -536,
          -806,
          -956,
          -284,
          530,
          -158,
          -550,
          -848,
          184,
          -560,
          1560,
          186,
          374,
          256,
          -364,
          -294,
          280,
          172,
          -12,
          -886,
          -294,
          -386,
          -704,
          -442,
          -476,
          16,
          -122,
          118,
          -1166,
          -780,
          -714,
          -172,
          -238,
          530,
          -48,
          -212,
          -656,
          -602,
          150,
          -816,
          -306,
          1004,
          758,
          656,
          24,
          -178
         ],
         "xaxis": "x",
         "y": [
          -611,
          765,
          57,
          99,
          -425,
          1895,
          -707,
          -607,
          751,
          -981,
          175,
          1595,
          2093,
          637,
          -1,
          -355,
          1223,
          -327,
          541,
          175,
          -63,
          1387,
          -425,
          963,
          -215,
          531,
          -443,
          321,
          -995,
          -475,
          779,
          -995,
          1294,
          -218,
          1610,
          -766,
          1072,
          756,
          474,
          -1298,
          -536,
          -566,
          -586,
          508,
          -554,
          584,
          1922,
          1236,
          272,
          -1240,
          192,
          -768,
          -942,
          -94,
          -664,
          780,
          -144,
          -1208,
          -404,
          -56,
          374,
          2166,
          472,
          588,
          299,
          -701,
          -905,
          1005,
          -1035,
          581,
          -423,
          399,
          813,
          -525,
          885,
          25,
          139,
          17,
          703,
          -319,
          391,
          -1385,
          -249,
          1013,
          -411,
          -1267,
          -71,
          73,
          -167,
          -555,
          1141,
          -339,
          -1109,
          991,
          521,
          -1373,
          208,
          -708,
          -880,
          -266,
          220,
          -1200,
          292,
          -474,
          -278,
          -372,
          -160,
          276,
          90,
          -38,
          846,
          1640,
          1028,
          754,
          -518,
          478,
          214,
          648,
          592,
          -724,
          -614,
          700,
          -750,
          1228,
          826,
          1474,
          -410,
          -1354,
          1377,
          -783,
          323,
          -527,
          339,
          -221,
          773,
          -155,
          -177,
          519,
          1227,
          -279,
          -853,
          695,
          661,
          -121,
          -379,
          661,
          447,
          41,
          961,
          -1785,
          -31,
          -367,
          137,
          -37,
          -911,
          197,
          267,
          -235,
          627,
          887,
          542,
          -272,
          -194,
          18,
          232,
          -414,
          -342,
          702,
          -592,
          -1322,
          -1162,
          1034,
          810,
          284,
          502,
          790,
          -940,
          686,
          -882,
          490,
          1812,
          444,
          -590,
          -486,
          -878,
          -356,
          -312,
          -1690,
          306,
          100,
          -628,
          894,
          744,
          -1672,
          1186,
          -414,
          -432,
          -678,
          28,
          -50,
          -986,
          -954,
          1496,
          940,
          108,
          612,
          346,
          940,
          -210,
          990,
          726,
          300,
          164,
          -1046,
          -212,
          -1862,
          842,
          -828,
          2582,
          806,
          210,
          -906,
          140,
          526,
          805,
          577,
          1103,
          1217,
          -1637,
          223,
          -543,
          -691,
          -59,
          -947,
          49,
          41,
          901,
          369,
          203,
          -95,
          47,
          -2305,
          -815,
          771,
          -277,
          161,
          -529,
          117,
          -845,
          -1181,
          961,
          227,
          -1037,
          -1237,
          111,
          -703,
          1021,
          1707,
          -99,
          -963,
          -1927,
          -419,
          -1999,
          -5,
          1101,
          25,
          -609,
          -703,
          -13,
          -1695,
          -2031,
          -971,
          -283,
          1297,
          -415,
          -685,
          -839,
          -163,
          651,
          -37,
          -429,
          -727,
          305,
          -439,
          1937,
          309,
          495,
          377,
          -314,
          -244,
          378,
          220,
          38,
          -836,
          -244,
          -336,
          -654,
          -392,
          -426,
          66,
          -72,
          168,
          -1116,
          -730,
          -664,
          -122,
          -188,
          580,
          2,
          -162,
          -606,
          -552,
          200,
          -766,
          -248,
          1054,
          824,
          706,
          74,
          -128
         ],
         "yaxis": "y"
        }
       ],
       "layout": {
        "height": 400,
        "legend": {
         "tracegroupgap": 0
        },
        "shapes": [
         {
          "line": {
           "dash": "dash"
          },
          "type": "line",
          "x0": -1000,
          "x1": 1000,
          "y0": -1000,
          "y1": 1000
         }
        ],
        "template": {
         "data": {
          "bar": [
           {
            "error_x": {
             "color": "#2a3f5f"
            },
            "error_y": {
             "color": "#2a3f5f"
            },
            "marker": {
             "line": {
              "color": "#E5ECF6",
              "width": 0.5
             },
             "pattern": {
              "fillmode": "overlay",
              "size": 10,
              "solidity": 0.2
             }
            },
            "type": "bar"
           }
          ],
          "barpolar": [
           {
            "marker": {
             "line": {
              "color": "#E5ECF6",
              "width": 0.5
             },
             "pattern": {
              "fillmode": "overlay",
              "size": 10,
              "solidity": 0.2
             }
            },
            "type": "barpolar"
           }
          ],
          "carpet": [
           {
            "aaxis": {
             "endlinecolor": "#2a3f5f",
             "gridcolor": "white",
             "linecolor": "white",
             "minorgridcolor": "white",
             "startlinecolor": "#2a3f5f"
            },
            "baxis": {
             "endlinecolor": "#2a3f5f",
             "gridcolor": "white",
             "linecolor": "white",
             "minorgridcolor": "white",
             "startlinecolor": "#2a3f5f"
            },
            "type": "carpet"
           }
          ],
          "choropleth": [
           {
            "colorbar": {
             "outlinewidth": 0,
             "ticks": ""
            },
            "type": "choropleth"
           }
          ],
          "contour": [
           {
            "colorbar": {
             "outlinewidth": 0,
             "ticks": ""
            },
            "colorscale": [
             [
              0,
              "#0d0887"
             ],
             [
              0.1111111111111111,
              "#46039f"
             ],
             [
              0.2222222222222222,
              "#7201a8"
             ],
             [
              0.3333333333333333,
              "#9c179e"
             ],
             [
              0.4444444444444444,
              "#bd3786"
             ],
             [
              0.5555555555555556,
              "#d8576b"
             ],
             [
              0.6666666666666666,
              "#ed7953"
             ],
             [
              0.7777777777777778,
              "#fb9f3a"
             ],
             [
              0.8888888888888888,
              "#fdca26"
             ],
             [
              1,
              "#f0f921"
             ]
            ],
            "type": "contour"
           }
          ],
          "contourcarpet": [
           {
            "colorbar": {
             "outlinewidth": 0,
             "ticks": ""
            },
            "type": "contourcarpet"
           }
          ],
          "heatmap": [
           {
            "colorbar": {
             "outlinewidth": 0,
             "ticks": ""
            },
            "colorscale": [
             [
              0,
              "#0d0887"
             ],
             [
              0.1111111111111111,
              "#46039f"
             ],
             [
              0.2222222222222222,
              "#7201a8"
             ],
             [
              0.3333333333333333,
              "#9c179e"
             ],
             [
              0.4444444444444444,
              "#bd3786"
             ],
             [
              0.5555555555555556,
              "#d8576b"
             ],
             [
              0.6666666666666666,
              "#ed7953"
             ],
             [
              0.7777777777777778,
              "#fb9f3a"
             ],
             [
              0.8888888888888888,
              "#fdca26"
             ],
             [
              1,
              "#f0f921"
             ]
            ],
            "type": "heatmap"
           }
          ],
          "heatmapgl": [
           {
            "colorbar": {
             "outlinewidth": 0,
             "ticks": ""
            },
            "colorscale": [
             [
              0,
              "#0d0887"
             ],
             [
              0.1111111111111111,
              "#46039f"
             ],
             [
              0.2222222222222222,
              "#7201a8"
             ],
             [
              0.3333333333333333,
              "#9c179e"
             ],
             [
              0.4444444444444444,
              "#bd3786"
             ],
             [
              0.5555555555555556,
              "#d8576b"
             ],
             [
              0.6666666666666666,
              "#ed7953"
             ],
             [
              0.7777777777777778,
              "#fb9f3a"
             ],
             [
              0.8888888888888888,
              "#fdca26"
             ],
             [
              1,
              "#f0f921"
             ]
            ],
            "type": "heatmapgl"
           }
          ],
          "histogram": [
           {
            "marker": {
             "pattern": {
              "fillmode": "overlay",
              "size": 10,
              "solidity": 0.2
             }
            },
            "type": "histogram"
           }
          ],
          "histogram2d": [
           {
            "colorbar": {
             "outlinewidth": 0,
             "ticks": ""
            },
            "colorscale": [
             [
              0,
              "#0d0887"
             ],
             [
              0.1111111111111111,
              "#46039f"
             ],
             [
              0.2222222222222222,
              "#7201a8"
             ],
             [
              0.3333333333333333,
              "#9c179e"
             ],
             [
              0.4444444444444444,
              "#bd3786"
             ],
             [
              0.5555555555555556,
              "#d8576b"
             ],
             [
              0.6666666666666666,
              "#ed7953"
             ],
             [
              0.7777777777777778,
              "#fb9f3a"
             ],
             [
              0.8888888888888888,
              "#fdca26"
             ],
             [
              1,
              "#f0f921"
             ]
            ],
            "type": "histogram2d"
           }
          ],
          "histogram2dcontour": [
           {
            "colorbar": {
             "outlinewidth": 0,
             "ticks": ""
            },
            "colorscale": [
             [
              0,
              "#0d0887"
             ],
             [
              0.1111111111111111,
              "#46039f"
             ],
             [
              0.2222222222222222,
              "#7201a8"
             ],
             [
              0.3333333333333333,
              "#9c179e"
             ],
             [
              0.4444444444444444,
              "#bd3786"
             ],
             [
              0.5555555555555556,
              "#d8576b"
             ],
             [
              0.6666666666666666,
              "#ed7953"
             ],
             [
              0.7777777777777778,
              "#fb9f3a"
             ],
             [
              0.8888888888888888,
              "#fdca26"
             ],
             [
              1,
              "#f0f921"
             ]
            ],
            "type": "histogram2dcontour"
           }
          ],
          "mesh3d": [
           {
            "colorbar": {
             "outlinewidth": 0,
             "ticks": ""
            },
            "type": "mesh3d"
           }
          ],
          "parcoords": [
           {
            "line": {
             "colorbar": {
              "outlinewidth": 0,
              "ticks": ""
             }
            },
            "type": "parcoords"
           }
          ],
          "pie": [
           {
            "automargin": true,
            "type": "pie"
           }
          ],
          "scatter": [
           {
            "fillpattern": {
             "fillmode": "overlay",
             "size": 10,
             "solidity": 0.2
            },
            "type": "scatter"
           }
          ],
          "scatter3d": [
           {
            "line": {
             "colorbar": {
              "outlinewidth": 0,
              "ticks": ""
             }
            },
            "marker": {
             "colorbar": {
              "outlinewidth": 0,
              "ticks": ""
             }
            },
            "type": "scatter3d"
           }
          ],
          "scattercarpet": [
           {
            "marker": {
             "colorbar": {
              "outlinewidth": 0,
              "ticks": ""
             }
            },
            "type": "scattercarpet"
           }
          ],
          "scattergeo": [
           {
            "marker": {
             "colorbar": {
              "outlinewidth": 0,
              "ticks": ""
             }
            },
            "type": "scattergeo"
           }
          ],
          "scattergl": [
           {
            "marker": {
             "colorbar": {
              "outlinewidth": 0,
              "ticks": ""
             }
            },
            "type": "scattergl"
           }
          ],
          "scattermapbox": [
           {
            "marker": {
             "colorbar": {
              "outlinewidth": 0,
              "ticks": ""
             }
            },
            "type": "scattermapbox"
           }
          ],
          "scatterpolar": [
           {
            "marker": {
             "colorbar": {
              "outlinewidth": 0,
              "ticks": ""
             }
            },
            "type": "scatterpolar"
           }
          ],
          "scatterpolargl": [
           {
            "marker": {
             "colorbar": {
              "outlinewidth": 0,
              "ticks": ""
             }
            },
            "type": "scatterpolargl"
           }
          ],
          "scatterternary": [
           {
            "marker": {
             "colorbar": {
              "outlinewidth": 0,
              "ticks": ""
             }
            },
            "type": "scatterternary"
           }
          ],
          "surface": [
           {
            "colorbar": {
             "outlinewidth": 0,
             "ticks": ""
            },
            "colorscale": [
             [
              0,
              "#0d0887"
             ],
             [
              0.1111111111111111,
              "#46039f"
             ],
             [
              0.2222222222222222,
              "#7201a8"
             ],
             [
              0.3333333333333333,
              "#9c179e"
             ],
             [
              0.4444444444444444,
              "#bd3786"
             ],
             [
              0.5555555555555556,
              "#d8576b"
             ],
             [
              0.6666666666666666,
              "#ed7953"
             ],
             [
              0.7777777777777778,
              "#fb9f3a"
             ],
             [
              0.8888888888888888,
              "#fdca26"
             ],
             [
              1,
              "#f0f921"
             ]
            ],
            "type": "surface"
           }
          ],
          "table": [
           {
            "cells": {
             "fill": {
              "color": "#EBF0F8"
             },
             "line": {
              "color": "white"
             }
            },
            "header": {
             "fill": {
              "color": "#C8D4E3"
             },
             "line": {
              "color": "white"
             }
            },
            "type": "table"
           }
          ]
         },
         "layout": {
          "annotationdefaults": {
           "arrowcolor": "#2a3f5f",
           "arrowhead": 0,
           "arrowwidth": 1
          },
          "autotypenumbers": "strict",
          "coloraxis": {
           "colorbar": {
            "outlinewidth": 0,
            "ticks": ""
           }
          },
          "colorscale": {
           "diverging": [
            [
             0,
             "#8e0152"
            ],
            [
             0.1,
             "#c51b7d"
            ],
            [
             0.2,
             "#de77ae"
            ],
            [
             0.3,
             "#f1b6da"
            ],
            [
             0.4,
             "#fde0ef"
            ],
            [
             0.5,
             "#f7f7f7"
            ],
            [
             0.6,
             "#e6f5d0"
            ],
            [
             0.7,
             "#b8e186"
            ],
            [
             0.8,
             "#7fbc41"
            ],
            [
             0.9,
             "#4d9221"
            ],
            [
             1,
             "#276419"
            ]
           ],
           "sequential": [
            [
             0,
             "#0d0887"
            ],
            [
             0.1111111111111111,
             "#46039f"
            ],
            [
             0.2222222222222222,
             "#7201a8"
            ],
            [
             0.3333333333333333,
             "#9c179e"
            ],
            [
             0.4444444444444444,
             "#bd3786"
            ],
            [
             0.5555555555555556,
             "#d8576b"
            ],
            [
             0.6666666666666666,
             "#ed7953"
            ],
            [
             0.7777777777777778,
             "#fb9f3a"
            ],
            [
             0.8888888888888888,
             "#fdca26"
            ],
            [
             1,
             "#f0f921"
            ]
           ],
           "sequentialminus": [
            [
             0,
             "#0d0887"
            ],
            [
             0.1111111111111111,
             "#46039f"
            ],
            [
             0.2222222222222222,
             "#7201a8"
            ],
            [
             0.3333333333333333,
             "#9c179e"
            ],
            [
             0.4444444444444444,
             "#bd3786"
            ],
            [
             0.5555555555555556,
             "#d8576b"
            ],
            [
             0.6666666666666666,
             "#ed7953"
            ],
            [
             0.7777777777777778,
             "#fb9f3a"
            ],
            [
             0.8888888888888888,
             "#fdca26"
            ],
            [
             1,
             "#f0f921"
            ]
           ]
          },
          "colorway": [
           "#636efa",
           "#EF553B",
           "#00cc96",
           "#ab63fa",
           "#FFA15A",
           "#19d3f3",
           "#FF6692",
           "#B6E880",
           "#FF97FF",
           "#FECB52"
          ],
          "font": {
           "color": "#2a3f5f"
          },
          "geo": {
           "bgcolor": "white",
           "lakecolor": "white",
           "landcolor": "#E5ECF6",
           "showlakes": true,
           "showland": true,
           "subunitcolor": "white"
          },
          "hoverlabel": {
           "align": "left"
          },
          "hovermode": "closest",
          "mapbox": {
           "style": "light"
          },
          "paper_bgcolor": "white",
          "plot_bgcolor": "#E5ECF6",
          "polar": {
           "angularaxis": {
            "gridcolor": "white",
            "linecolor": "white",
            "ticks": ""
           },
           "bgcolor": "#E5ECF6",
           "radialaxis": {
            "gridcolor": "white",
            "linecolor": "white",
            "ticks": ""
           }
          },
          "scene": {
           "xaxis": {
            "backgroundcolor": "#E5ECF6",
            "gridcolor": "white",
            "gridwidth": 2,
            "linecolor": "white",
            "showbackground": true,
            "ticks": "",
            "zerolinecolor": "white"
           },
           "yaxis": {
            "backgroundcolor": "#E5ECF6",
            "gridcolor": "white",
            "gridwidth": 2,
            "linecolor": "white",
            "showbackground": true,
            "ticks": "",
            "zerolinecolor": "white"
           },
           "zaxis": {
            "backgroundcolor": "#E5ECF6",
            "gridcolor": "white",
            "gridwidth": 2,
            "linecolor": "white",
            "showbackground": true,
            "ticks": "",
            "zerolinecolor": "white"
           }
          },
          "shapedefaults": {
           "line": {
            "color": "#2a3f5f"
           }
          },
          "ternary": {
           "aaxis": {
            "gridcolor": "white",
            "linecolor": "white",
            "ticks": ""
           },
           "baxis": {
            "gridcolor": "white",
            "linecolor": "white",
            "ticks": ""
           },
           "bgcolor": "#E5ECF6",
           "caxis": {
            "gridcolor": "white",
            "linecolor": "white",
            "ticks": ""
           }
          },
          "title": {
           "x": 0.05
          },
          "xaxis": {
           "automargin": true,
           "gridcolor": "white",
           "linecolor": "white",
           "ticks": "",
           "title": {
            "standoff": 15
           },
           "zerolinecolor": "white",
           "zerolinewidth": 2
          },
          "yaxis": {
           "automargin": true,
           "gridcolor": "white",
           "linecolor": "white",
           "ticks": "",
           "title": {
            "standoff": 15
           },
           "zerolinecolor": "white",
           "zerolinewidth": 2
          }
         }
        },
        "title": {
         "text": "SNR:19.33 dB"
        },
        "width": 400,
        "xaxis": {
         "anchor": "y",
         "domain": [
          0,
          1
         ],
         "title": {
          "text": "RTL"
         }
        },
        "yaxis": {
         "anchor": "x",
         "domain": [
          0,
          1
         ],
         "title": {
          "text": "Python"
         }
        }
       }
      },
      "text/html": [
       "<div>                            <div id=\"025650b2-d9e1-4ad1-a282-ea7bf73edd9a\" class=\"plotly-graph-div\" style=\"height:400px; width:400px;\"></div>            <script type=\"text/javascript\">                require([\"plotly\"], function(Plotly) {                    window.PLOTLYENV=window.PLOTLYENV || {};                                    if (document.getElementById(\"025650b2-d9e1-4ad1-a282-ea7bf73edd9a\")) {                    Plotly.newPlot(                        \"025650b2-d9e1-4ad1-a282-ea7bf73edd9a\",                        [{\"hovertemplate\":\"RTL=%{x}\\u003cbr\\u003ePython=%{y}\\u003cextra\\u003e\\u003c\\u002fextra\\u003e\",\"legendgroup\":\"\",\"marker\":{\"color\":\"#636efa\",\"symbol\":\"circle\"},\"mode\":\"markers\",\"name\":\"\",\"orientation\":\"v\",\"showlegend\":false,\"x\":[-654.0,706.0,-2.0,40.0,-484.0,1570.0,-758.0,-666.0,692.0,-1040.0,116.0,1408.0,1618.0,578.0,-60.0,-414.0,1160.0,-352.0,478.0,116.0,-122.0,1278.0,-484.0,904.0,-274.0,472.0,-502.0,262.0,-1054.0,-534.0,720.0,-860.0,1150.0,-330.0,1370.0,-878.0,960.0,644.0,330.0,-1410.0,-648.0,-678.0,-698.0,396.0,-666.0,472.0,1554.0,1108.0,160.0,-1352.0,80.0,-880.0,-1054.0,-206.0,-776.0,636.0,-256.0,-1312.0,-516.0,-168.0,262.0,1778.0,296.0,472.0,186.0,-814.0,-1018.0,860.0,-1148.0,468.0,-536.0,286.0,700.0,-638.0,740.0,-88.0,26.0,-96.0,590.0,-432.0,262.0,-1496.0,-362.0,900.0,-524.0,-1316.0,-184.0,-40.0,-280.0,-668.0,1028.0,-452.0,-1222.0,878.0,408.0,-1230.0,150.0,-766.0,-906.0,-324.0,162.0,-1226.0,234.0,-532.0,-336.0,-430.0,-218.0,218.0,32.0,-96.0,788.0,1190.0,970.0,696.0,-576.0,420.0,156.0,590.0,534.0,-782.0,-672.0,642.0,-808.0,1170.0,752.0,1160.0,-468.0,-1412.0,1226.0,-806.0,300.0,-550.0,316.0,-244.0,750.0,-178.0,-200.0,496.0,1076.0,-302.0,-876.0,672.0,638.0,-144.0,-402.0,638.0,424.0,18.0,890.0,-1680.0,-54.0,-390.0,114.0,-60.0,-934.0,170.0,244.0,-258.0,604.0,864.0,460.0,-354.0,-276.0,-64.0,150.0,-496.0,-424.0,620.0,-674.0,-1388.0,-1244.0,948.0,728.0,202.0,420.0,708.0,-1022.0,592.0,-964.0,408.0,1458.0,362.0,-608.0,-568.0,-960.0,-438.0,-394.0,-1756.0,224.0,18.0,-710.0,812.0,712.0,-1704.0,926.0,-446.0,-464.0,-710.0,-4.0,-82.0,-1018.0,-970.0,1456.0,908.0,76.0,564.0,314.0,908.0,-242.0,958.0,686.0,268.0,132.0,-1078.0,-244.0,-1688.0,810.0,-860.0,1750.0,758.0,178.0,-938.0,108.0,462.0,678.0,450.0,944.0,1074.0,-1724.0,96.0,-670.0,-818.0,-186.0,-1072.0,-78.0,-86.0,774.0,242.0,76.0,-222.0,-80.0,-2000.0,-878.0,644.0,-404.0,98.0,-648.0,-10.0,-972.0,-988.0,834.0,92.0,-1164.0,-1364.0,-16.0,-830.0,836.0,1586.0,-220.0,-1084.0,-1864.0,-540.0,-1816.0,-126.0,980.0,-96.0,-730.0,-824.0,-134.0,-1680.0,-1832.0,-1084.0,-404.0,1040.0,-536.0,-806.0,-956.0,-284.0,530.0,-158.0,-550.0,-848.0,184.0,-560.0,1560.0,186.0,374.0,256.0,-364.0,-294.0,280.0,172.0,-12.0,-886.0,-294.0,-386.0,-704.0,-442.0,-476.0,16.0,-122.0,118.0,-1166.0,-780.0,-714.0,-172.0,-238.0,530.0,-48.0,-212.0,-656.0,-602.0,150.0,-816.0,-306.0,1004.0,758.0,656.0,24.0,-178.0],\"xaxis\":\"x\",\"y\":[-611,765,57,99,-425,1895,-707,-607,751,-981,175,1595,2093,637,-1,-355,1223,-327,541,175,-63,1387,-425,963,-215,531,-443,321,-995,-475,779,-995,1294,-218,1610,-766,1072,756,474,-1298,-536,-566,-586,508,-554,584,1922,1236,272,-1240,192,-768,-942,-94,-664,780,-144,-1208,-404,-56,374,2166,472,588,299,-701,-905,1005,-1035,581,-423,399,813,-525,885,25,139,17,703,-319,391,-1385,-249,1013,-411,-1267,-71,73,-167,-555,1141,-339,-1109,991,521,-1373,208,-708,-880,-266,220,-1200,292,-474,-278,-372,-160,276,90,-38,846,1640,1028,754,-518,478,214,648,592,-724,-614,700,-750,1228,826,1474,-410,-1354,1377,-783,323,-527,339,-221,773,-155,-177,519,1227,-279,-853,695,661,-121,-379,661,447,41,961,-1785,-31,-367,137,-37,-911,197,267,-235,627,887,542,-272,-194,18,232,-414,-342,702,-592,-1322,-1162,1034,810,284,502,790,-940,686,-882,490,1812,444,-590,-486,-878,-356,-312,-1690,306,100,-628,894,744,-1672,1186,-414,-432,-678,28,-50,-986,-954,1496,940,108,612,346,940,-210,990,726,300,164,-1046,-212,-1862,842,-828,2582,806,210,-906,140,526,805,577,1103,1217,-1637,223,-543,-691,-59,-947,49,41,901,369,203,-95,47,-2305,-815,771,-277,161,-529,117,-845,-1181,961,227,-1037,-1237,111,-703,1021,1707,-99,-963,-1927,-419,-1999,-5,1101,25,-609,-703,-13,-1695,-2031,-971,-283,1297,-415,-685,-839,-163,651,-37,-429,-727,305,-439,1937,309,495,377,-314,-244,378,220,38,-836,-244,-336,-654,-392,-426,66,-72,168,-1116,-730,-664,-122,-188,580,2,-162,-606,-552,200,-766,-248,1054,824,706,74,-128],\"yaxis\":\"y\",\"type\":\"scatter\"}],                        {\"template\":{\"data\":{\"histogram2dcontour\":[{\"type\":\"histogram2dcontour\",\"colorbar\":{\"outlinewidth\":0,\"ticks\":\"\"},\"colorscale\":[[0.0,\"#0d0887\"],[0.1111111111111111,\"#46039f\"],[0.2222222222222222,\"#7201a8\"],[0.3333333333333333,\"#9c179e\"],[0.4444444444444444,\"#bd3786\"],[0.5555555555555556,\"#d8576b\"],[0.6666666666666666,\"#ed7953\"],[0.7777777777777778,\"#fb9f3a\"],[0.8888888888888888,\"#fdca26\"],[1.0,\"#f0f921\"]]}],\"choropleth\":[{\"type\":\"choropleth\",\"colorbar\":{\"outlinewidth\":0,\"ticks\":\"\"}}],\"histogram2d\":[{\"type\":\"histogram2d\",\"colorbar\":{\"outlinewidth\":0,\"ticks\":\"\"},\"colorscale\":[[0.0,\"#0d0887\"],[0.1111111111111111,\"#46039f\"],[0.2222222222222222,\"#7201a8\"],[0.3333333333333333,\"#9c179e\"],[0.4444444444444444,\"#bd3786\"],[0.5555555555555556,\"#d8576b\"],[0.6666666666666666,\"#ed7953\"],[0.7777777777777778,\"#fb9f3a\"],[0.8888888888888888,\"#fdca26\"],[1.0,\"#f0f921\"]]}],\"heatmap\":[{\"type\":\"heatmap\",\"colorbar\":{\"outlinewidth\":0,\"ticks\":\"\"},\"colorscale\":[[0.0,\"#0d0887\"],[0.1111111111111111,\"#46039f\"],[0.2222222222222222,\"#7201a8\"],[0.3333333333333333,\"#9c179e\"],[0.4444444444444444,\"#bd3786\"],[0.5555555555555556,\"#d8576b\"],[0.6666666666666666,\"#ed7953\"],[0.7777777777777778,\"#fb9f3a\"],[0.8888888888888888,\"#fdca26\"],[1.0,\"#f0f921\"]]}],\"heatmapgl\":[{\"type\":\"heatmapgl\",\"colorbar\":{\"outlinewidth\":0,\"ticks\":\"\"},\"colorscale\":[[0.0,\"#0d0887\"],[0.1111111111111111,\"#46039f\"],[0.2222222222222222,\"#7201a8\"],[0.3333333333333333,\"#9c179e\"],[0.4444444444444444,\"#bd3786\"],[0.5555555555555556,\"#d8576b\"],[0.6666666666666666,\"#ed7953\"],[0.7777777777777778,\"#fb9f3a\"],[0.8888888888888888,\"#fdca26\"],[1.0,\"#f0f921\"]]}],\"contourcarpet\":[{\"type\":\"contourcarpet\",\"colorbar\":{\"outlinewidth\":0,\"ticks\":\"\"}}],\"contour\":[{\"type\":\"contour\",\"colorbar\":{\"outlinewidth\":0,\"ticks\":\"\"},\"colorscale\":[[0.0,\"#0d0887\"],[0.1111111111111111,\"#46039f\"],[0.2222222222222222,\"#7201a8\"],[0.3333333333333333,\"#9c179e\"],[0.4444444444444444,\"#bd3786\"],[0.5555555555555556,\"#d8576b\"],[0.6666666666666666,\"#ed7953\"],[0.7777777777777778,\"#fb9f3a\"],[0.8888888888888888,\"#fdca26\"],[1.0,\"#f0f921\"]]}],\"surface\":[{\"type\":\"surface\",\"colorbar\":{\"outlinewidth\":0,\"ticks\":\"\"},\"colorscale\":[[0.0,\"#0d0887\"],[0.1111111111111111,\"#46039f\"],[0.2222222222222222,\"#7201a8\"],[0.3333333333333333,\"#9c179e\"],[0.4444444444444444,\"#bd3786\"],[0.5555555555555556,\"#d8576b\"],[0.6666666666666666,\"#ed7953\"],[0.7777777777777778,\"#fb9f3a\"],[0.8888888888888888,\"#fdca26\"],[1.0,\"#f0f921\"]]}],\"mesh3d\":[{\"type\":\"mesh3d\",\"colorbar\":{\"outlinewidth\":0,\"ticks\":\"\"}}],\"scatter\":[{\"fillpattern\":{\"fillmode\":\"overlay\",\"size\":10,\"solidity\":0.2},\"type\":\"scatter\"}],\"parcoords\":[{\"type\":\"parcoords\",\"line\":{\"colorbar\":{\"outlinewidth\":0,\"ticks\":\"\"}}}],\"scatterpolargl\":[{\"type\":\"scatterpolargl\",\"marker\":{\"colorbar\":{\"outlinewidth\":0,\"ticks\":\"\"}}}],\"bar\":[{\"error_x\":{\"color\":\"#2a3f5f\"},\"error_y\":{\"color\":\"#2a3f5f\"},\"marker\":{\"line\":{\"color\":\"#E5ECF6\",\"width\":0.5},\"pattern\":{\"fillmode\":\"overlay\",\"size\":10,\"solidity\":0.2}},\"type\":\"bar\"}],\"scattergeo\":[{\"type\":\"scattergeo\",\"marker\":{\"colorbar\":{\"outlinewidth\":0,\"ticks\":\"\"}}}],\"scatterpolar\":[{\"type\":\"scatterpolar\",\"marker\":{\"colorbar\":{\"outlinewidth\":0,\"ticks\":\"\"}}}],\"histogram\":[{\"marker\":{\"pattern\":{\"fillmode\":\"overlay\",\"size\":10,\"solidity\":0.2}},\"type\":\"histogram\"}],\"scattergl\":[{\"type\":\"scattergl\",\"marker\":{\"colorbar\":{\"outlinewidth\":0,\"ticks\":\"\"}}}],\"scatter3d\":[{\"type\":\"scatter3d\",\"line\":{\"colorbar\":{\"outlinewidth\":0,\"ticks\":\"\"}},\"marker\":{\"colorbar\":{\"outlinewidth\":0,\"ticks\":\"\"}}}],\"scattermapbox\":[{\"type\":\"scattermapbox\",\"marker\":{\"colorbar\":{\"outlinewidth\":0,\"ticks\":\"\"}}}],\"scatterternary\":[{\"type\":\"scatterternary\",\"marker\":{\"colorbar\":{\"outlinewidth\":0,\"ticks\":\"\"}}}],\"scattercarpet\":[{\"type\":\"scattercarpet\",\"marker\":{\"colorbar\":{\"outlinewidth\":0,\"ticks\":\"\"}}}],\"carpet\":[{\"aaxis\":{\"endlinecolor\":\"#2a3f5f\",\"gridcolor\":\"white\",\"linecolor\":\"white\",\"minorgridcolor\":\"white\",\"startlinecolor\":\"#2a3f5f\"},\"baxis\":{\"endlinecolor\":\"#2a3f5f\",\"gridcolor\":\"white\",\"linecolor\":\"white\",\"minorgridcolor\":\"white\",\"startlinecolor\":\"#2a3f5f\"},\"type\":\"carpet\"}],\"table\":[{\"cells\":{\"fill\":{\"color\":\"#EBF0F8\"},\"line\":{\"color\":\"white\"}},\"header\":{\"fill\":{\"color\":\"#C8D4E3\"},\"line\":{\"color\":\"white\"}},\"type\":\"table\"}],\"barpolar\":[{\"marker\":{\"line\":{\"color\":\"#E5ECF6\",\"width\":0.5},\"pattern\":{\"fillmode\":\"overlay\",\"size\":10,\"solidity\":0.2}},\"type\":\"barpolar\"}],\"pie\":[{\"automargin\":true,\"type\":\"pie\"}]},\"layout\":{\"autotypenumbers\":\"strict\",\"colorway\":[\"#636efa\",\"#EF553B\",\"#00cc96\",\"#ab63fa\",\"#FFA15A\",\"#19d3f3\",\"#FF6692\",\"#B6E880\",\"#FF97FF\",\"#FECB52\"],\"font\":{\"color\":\"#2a3f5f\"},\"hovermode\":\"closest\",\"hoverlabel\":{\"align\":\"left\"},\"paper_bgcolor\":\"white\",\"plot_bgcolor\":\"#E5ECF6\",\"polar\":{\"bgcolor\":\"#E5ECF6\",\"angularaxis\":{\"gridcolor\":\"white\",\"linecolor\":\"white\",\"ticks\":\"\"},\"radialaxis\":{\"gridcolor\":\"white\",\"linecolor\":\"white\",\"ticks\":\"\"}},\"ternary\":{\"bgcolor\":\"#E5ECF6\",\"aaxis\":{\"gridcolor\":\"white\",\"linecolor\":\"white\",\"ticks\":\"\"},\"baxis\":{\"gridcolor\":\"white\",\"linecolor\":\"white\",\"ticks\":\"\"},\"caxis\":{\"gridcolor\":\"white\",\"linecolor\":\"white\",\"ticks\":\"\"}},\"coloraxis\":{\"colorbar\":{\"outlinewidth\":0,\"ticks\":\"\"}},\"colorscale\":{\"sequential\":[[0.0,\"#0d0887\"],[0.1111111111111111,\"#46039f\"],[0.2222222222222222,\"#7201a8\"],[0.3333333333333333,\"#9c179e\"],[0.4444444444444444,\"#bd3786\"],[0.5555555555555556,\"#d8576b\"],[0.6666666666666666,\"#ed7953\"],[0.7777777777777778,\"#fb9f3a\"],[0.8888888888888888,\"#fdca26\"],[1.0,\"#f0f921\"]],\"sequentialminus\":[[0.0,\"#0d0887\"],[0.1111111111111111,\"#46039f\"],[0.2222222222222222,\"#7201a8\"],[0.3333333333333333,\"#9c179e\"],[0.4444444444444444,\"#bd3786\"],[0.5555555555555556,\"#d8576b\"],[0.6666666666666666,\"#ed7953\"],[0.7777777777777778,\"#fb9f3a\"],[0.8888888888888888,\"#fdca26\"],[1.0,\"#f0f921\"]],\"diverging\":[[0,\"#8e0152\"],[0.1,\"#c51b7d\"],[0.2,\"#de77ae\"],[0.3,\"#f1b6da\"],[0.4,\"#fde0ef\"],[0.5,\"#f7f7f7\"],[0.6,\"#e6f5d0\"],[0.7,\"#b8e186\"],[0.8,\"#7fbc41\"],[0.9,\"#4d9221\"],[1,\"#276419\"]]},\"xaxis\":{\"gridcolor\":\"white\",\"linecolor\":\"white\",\"ticks\":\"\",\"title\":{\"standoff\":15},\"zerolinecolor\":\"white\",\"automargin\":true,\"zerolinewidth\":2},\"yaxis\":{\"gridcolor\":\"white\",\"linecolor\":\"white\",\"ticks\":\"\",\"title\":{\"standoff\":15},\"zerolinecolor\":\"white\",\"automargin\":true,\"zerolinewidth\":2},\"scene\":{\"xaxis\":{\"backgroundcolor\":\"#E5ECF6\",\"gridcolor\":\"white\",\"linecolor\":\"white\",\"showbackground\":true,\"ticks\":\"\",\"zerolinecolor\":\"white\",\"gridwidth\":2},\"yaxis\":{\"backgroundcolor\":\"#E5ECF6\",\"gridcolor\":\"white\",\"linecolor\":\"white\",\"showbackground\":true,\"ticks\":\"\",\"zerolinecolor\":\"white\",\"gridwidth\":2},\"zaxis\":{\"backgroundcolor\":\"#E5ECF6\",\"gridcolor\":\"white\",\"linecolor\":\"white\",\"showbackground\":true,\"ticks\":\"\",\"zerolinecolor\":\"white\",\"gridwidth\":2}},\"shapedefaults\":{\"line\":{\"color\":\"#2a3f5f\"}},\"annotationdefaults\":{\"arrowcolor\":\"#2a3f5f\",\"arrowhead\":0,\"arrowwidth\":1},\"geo\":{\"bgcolor\":\"white\",\"landcolor\":\"#E5ECF6\",\"subunitcolor\":\"white\",\"showland\":true,\"showlakes\":true,\"lakecolor\":\"white\"},\"title\":{\"x\":0.05},\"mapbox\":{\"style\":\"light\"}}},\"xaxis\":{\"anchor\":\"y\",\"domain\":[0.0,1.0],\"title\":{\"text\":\"RTL\"}},\"yaxis\":{\"anchor\":\"x\",\"domain\":[0.0,1.0],\"title\":{\"text\":\"Python\"}},\"legend\":{\"tracegroupgap\":0},\"title\":{\"text\":\"SNR:19.33 dB\"},\"height\":400,\"width\":400,\"shapes\":[{\"line\":{\"dash\":\"dash\"},\"type\":\"line\",\"x0\":-1000,\"x1\":1000,\"y0\":-1000,\"y1\":1000}]},                        {\"responsive\": true}                    ).then(function(){\n",
       "                            \n",
       "var gd = document.getElementById('025650b2-d9e1-4ad1-a282-ea7bf73edd9a');\n",
       "var x = new MutationObserver(function (mutations, observer) {{\n",
       "        var display = window.getComputedStyle(gd).display;\n",
       "        if (!display || display === 'none') {{\n",
       "            console.log([gd, 'removed!']);\n",
       "            Plotly.purge(gd);\n",
       "            observer.disconnect();\n",
       "        }}\n",
       "}});\n",
       "\n",
       "// Listen for the removal of the full notebook cells\n",
       "var notebookContainer = gd.closest('#notebook-container');\n",
       "if (notebookContainer) {{\n",
       "    x.observe(notebookContainer, {childList: true});\n",
       "}}\n",
       "\n",
       "// Listen for the clearing of the current output cell\n",
       "var outputEl = gd.closest('.output');\n",
       "if (outputEl) {{\n",
       "    x.observe(outputEl, {childList: true});\n",
       "}}\n",
       "\n",
       "                        })                };                });            </script>        </div>"
      ]
     },
     "metadata": {},
     "output_type": "display_data"
    }
   ],
   "source": [
    "w,x,wxb = generate_qracc_inputs(\n",
    "    wDimX = 32, #nColumns\n",
    "    wDimY = 128, #nRows\n",
    "    xBatches = 10,\n",
    "    xTrits = 7,\n",
    "    outBits = 4,\n",
    "    seed = 0,\n",
    "    weight_mode = 'bipolar',\n",
    "    col_symmetric=False,\n",
    "    clip_output = False\n",
    ")\n",
    "\n",
    "rtl = np.loadtxt('../tb/seq_acc/inputs/mac_out_rtl_bipolar.txt')\n",
    "ref = wxb.T[::-1].T\n",
    "\n",
    "snr = np.var(ref) / np.var(ref - rtl)\n",
    "snr = 10 * np.log10(snr)\n",
    "\n",
    "fig = px.scatter(x=rtl.flatten(), y=ref.flatten(), title=f'SNR:{snr:.2f} dB', labels={'x':'RTL', 'y':'Python'},\n",
    "    width=400,height=400\n",
    ")\n",
    "# Add diagonal line\n",
    "limit = 1000\n",
    "fig.add_shape(\n",
    "    type=\"line\", line=dict(dash=\"dash\"),\n",
    "    x0=-limit, y0=-limit, x1=limit, y1=limit\n",
    ")\n"
   ]
  },
  {
   "cell_type": "code",
   "execution_count": null,
   "metadata": {},
   "outputs": [],
   "source": []
  }
 ],
 "metadata": {
  "kernelspec": {
   "display_name": "ic_dec",
   "language": "python",
   "name": "python3"
  },
  "language_info": {
   "codemirror_mode": {
    "name": "ipython",
    "version": 3
   },
   "file_extension": ".py",
   "mimetype": "text/x-python",
   "name": "python",
   "nbconvert_exporter": "python",
   "pygments_lexer": "ipython3",
   "version": "3.12.2"
  }
 },
 "nbformat": 4,
 "nbformat_minor": 2
}
