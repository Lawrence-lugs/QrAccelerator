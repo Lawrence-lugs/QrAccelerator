{
 "cells": [
  {
   "cell_type": "markdown",
   "metadata": {},
   "source": [
    "# Results Notebook"
   ]
  },
  {
   "cell_type": "code",
   "execution_count": 436,
   "metadata": {},
   "outputs": [
    {
     "name": "stdout",
     "output_type": "stream",
     "text": [
      "The autoreload extension is already loaded. To reload it, use:\n",
      "  %reload_ext autoreload\n"
     ]
    }
   ],
   "source": [
    "%load_ext autoreload\n",
    "%autoreload 2\n",
    "\n",
    "import hwacctools.quantization.quant as q\n",
    "from stim_lib.stimulus_gen import generate_qracc_inputs\n",
    "import numpy as np\n",
    "import plotly.express as px\n",
    "import seaborn as sns\n",
    "import pandas as pd\n",
    "df = pd.DataFrame\n",
    "sns.set_theme()\n",
    "\n",
    "def melt_row_col_data(arr,name):\n",
    "    arr_df = df(arr)\n",
    "    arr_df = arr_df.melt(\n",
    "        ignore_index=False,\n",
    "        var_name='Column',\n",
    "        value_name='ADC_OUT_AMS',\n",
    "    )\n",
    "    arr_df['Row'] = arr_df.index\n",
    "    return arr_df"
   ]
  },
  {
   "cell_type": "code",
   "execution_count": 437,
   "metadata": {},
   "outputs": [
    {
     "name": "stdout",
     "output_type": "stream",
     "text": [
      "[STIM_GEN] Generating random weights\n"
     ]
    }
   ],
   "source": [
    "# Generate the reference result\n",
    "\n",
    "w,x,wx_outBits = generate_qracc_inputs(\n",
    "    wDimX = 32, #nColumns\n",
    "    wDimY = 128, #nRows\n",
    "    xBatches = 10,\n",
    "    xTrits = 1,\n",
    "    outBits = 4,\n",
    "    seed = 0,\n",
    "    weight_mode = 'bipolar',\n",
    "    col_symmetric=False\n",
    ")\n",
    "wx = w @ x.T\n",
    "wx_rounded = np.round(wx.T / 2**2).astype(int).T[::-1].T"
   ]
  },
  {
   "cell_type": "markdown",
   "metadata": {},
   "source": [
    "### Comparing AMS vs RTL simulations of QRAcc"
   ]
  },
  {
   "cell_type": "code",
   "execution_count": 438,
   "metadata": {},
   "outputs": [
    {
     "name": "stderr",
     "output_type": "stream",
     "text": [
      "/tmp/ipykernel_256777/2330861704.py:29: RuntimeWarning:\n",
      "\n",
      "divide by zero encountered in scalar divide\n",
      "\n"
     ]
    },
    {
     "data": {
      "application/vnd.plotly.v1+json": {
       "config": {
        "plotlyServerURL": "https://plot.ly"
       },
       "data": [
        {
         "hovertemplate": "RTL=%{x}<br>AMS=%{y}<extra></extra>",
         "legendgroup": "",
         "marker": {
          "color": "#636efa",
          "symbol": "circle"
         },
         "mode": "markers",
         "name": "",
         "orientation": "v",
         "showlegend": false,
         "type": "scatter",
         "x": [
          7,
          0,
          -1,
          -2,
          0,
          -1,
          1,
          7,
          0,
          -8,
          -8,
          7,
          -8,
          -1,
          0,
          1,
          -8,
          0,
          7,
          -1,
          7,
          7,
          -2,
          -8,
          -8,
          1,
          7,
          -2,
          1,
          -8,
          1,
          -1,
          -8,
          7,
          1,
          -8,
          0,
          1,
          1,
          -1,
          0,
          -2,
          -2,
          0,
          -8,
          7,
          7,
          -2,
          -2,
          0,
          0,
          -1,
          -1,
          0,
          1,
          1,
          -8,
          -1,
          0,
          0,
          -1,
          -8,
          1,
          -8,
          1,
          7,
          0,
          -1,
          1,
          1,
          -1,
          7,
          1,
          7,
          7,
          -2,
          1,
          -2,
          -8,
          7,
          7,
          -2,
          -1,
          0,
          1,
          7,
          1,
          7,
          7,
          0,
          1,
          -2,
          -8,
          0,
          0,
          -1,
          -2,
          -2,
          7,
          1,
          -8,
          -1,
          7,
          0,
          -8,
          1,
          1,
          -1,
          -2,
          7,
          7,
          0,
          -1,
          -1,
          7,
          0,
          -8,
          -2,
          0,
          0,
          -1,
          1,
          -8,
          0,
          7,
          -8,
          -8,
          7,
          -2,
          -8,
          0,
          -1,
          -8,
          7,
          -8,
          -1,
          -1,
          -8,
          7,
          -8,
          7,
          0,
          7,
          -8,
          -1,
          7,
          0,
          -1,
          7,
          0,
          7,
          -1,
          0,
          1,
          1,
          -1,
          -2,
          0,
          7,
          7,
          0,
          -8,
          -1,
          0,
          1,
          1,
          7,
          7,
          7,
          0,
          7,
          -2,
          0,
          -1,
          1,
          -1,
          0,
          -8,
          7,
          -2,
          7,
          7,
          0,
          1,
          0,
          -2,
          -2,
          -2,
          1,
          7,
          7,
          -1,
          1,
          7,
          7,
          -1,
          -2,
          1,
          -8,
          1,
          0,
          -1,
          -8,
          0,
          7,
          0,
          0,
          -8,
          -8,
          7,
          1,
          -8,
          -2,
          0,
          0,
          -1,
          -2,
          -1,
          7,
          -1,
          -1,
          -8,
          -2,
          -2,
          7,
          0,
          1,
          -8,
          -2,
          7,
          -2,
          -2,
          -8,
          0,
          7,
          0,
          0,
          0,
          -2,
          -1,
          -1,
          -2,
          0,
          -1,
          -1,
          -1,
          -2,
          7,
          7,
          7,
          1,
          -1,
          -1,
          -8,
          1,
          1,
          7,
          0,
          1,
          -1,
          7,
          1,
          7,
          -1,
          7,
          7,
          7,
          -8,
          1,
          1,
          -2,
          -2,
          0,
          -1,
          0,
          -8,
          0,
          1,
          0,
          0,
          0,
          0,
          0,
          0,
          -1,
          -1,
          -2,
          7,
          0,
          -8,
          -2,
          -8,
          7,
          -1,
          7,
          -2,
          -2,
          0,
          0,
          1,
          7,
          -1,
          7,
          -8,
          -1,
          -1,
          7,
          -8,
          -1,
          7,
          1,
          -1,
          7,
          0,
          -2,
          -1,
          -1,
          -8,
          -8,
          7
         ],
         "xaxis": "x",
         "y": [
          7,
          0,
          -1,
          -2,
          0,
          -1,
          1,
          7,
          0,
          -8,
          -8,
          7,
          -8,
          -1,
          0,
          1,
          -8,
          0,
          7,
          -1,
          7,
          7,
          -2,
          -8,
          -8,
          1,
          7,
          -2,
          1,
          -8,
          1,
          -1,
          -8,
          7,
          1,
          -8,
          0,
          1,
          1,
          -1,
          0,
          -2,
          -2,
          0,
          -8,
          7,
          7,
          -2,
          -2,
          0,
          0,
          -1,
          -1,
          0,
          1,
          1,
          -8,
          -1,
          0,
          0,
          -1,
          -8,
          1,
          -8,
          1,
          7,
          0,
          -1,
          1,
          1,
          -1,
          7,
          1,
          7,
          7,
          -2,
          1,
          -2,
          -8,
          7,
          7,
          -2,
          -1,
          0,
          1,
          7,
          1,
          7,
          7,
          0,
          1,
          -2,
          -8,
          0,
          0,
          -1,
          -2,
          -2,
          7,
          1,
          -8,
          -1,
          7,
          0,
          -8,
          1,
          1,
          -1,
          -2,
          7,
          7,
          0,
          -1,
          -1,
          7,
          0,
          -8,
          -2,
          0,
          0,
          -1,
          1,
          -8,
          0,
          7,
          -8,
          -8,
          7,
          -2,
          -8,
          0,
          -1,
          -8,
          7,
          -8,
          -1,
          -1,
          -8,
          7,
          -8,
          7,
          0,
          7,
          -8,
          -1,
          7,
          0,
          -1,
          7,
          0,
          7,
          -1,
          0,
          1,
          1,
          -1,
          -2,
          0,
          7,
          7,
          0,
          -8,
          -1,
          0,
          1,
          1,
          7,
          7,
          7,
          0,
          7,
          -2,
          0,
          -1,
          1,
          -1,
          0,
          -8,
          7,
          -2,
          7,
          7,
          0,
          1,
          0,
          -2,
          -2,
          -2,
          1,
          7,
          7,
          -1,
          1,
          7,
          7,
          -1,
          -2,
          1,
          -8,
          1,
          0,
          -1,
          -8,
          0,
          7,
          0,
          0,
          -8,
          -8,
          7,
          1,
          -8,
          -2,
          0,
          0,
          -1,
          -2,
          -1,
          7,
          -1,
          -1,
          -8,
          -2,
          -2,
          7,
          0,
          1,
          -8,
          -2,
          7,
          -2,
          -2,
          -8,
          0,
          7,
          0,
          0,
          0,
          -2,
          -1,
          -1,
          -2,
          0,
          -1,
          -1,
          -1,
          -2,
          7,
          7,
          7,
          1,
          -1,
          -1,
          -8,
          1,
          1,
          7,
          0,
          1,
          -1,
          7,
          1,
          7,
          -1,
          7,
          7,
          7,
          -8,
          1,
          1,
          -2,
          -2,
          0,
          -1,
          0,
          -8,
          0,
          1,
          0,
          0,
          0,
          0,
          0,
          0,
          -1,
          -1,
          -2,
          7,
          0,
          -8,
          -2,
          -8,
          7,
          -1,
          7,
          -2,
          -2,
          0,
          0,
          1,
          7,
          -1,
          7,
          -8,
          -1,
          -1,
          7,
          -8,
          -1,
          7,
          1,
          -1,
          7,
          0,
          -2,
          -1,
          -1,
          -8,
          -8,
          7
         ],
         "yaxis": "y"
        }
       ],
       "layout": {
        "height": 400,
        "legend": {
         "tracegroupgap": 0
        },
        "template": {
         "data": {
          "bar": [
           {
            "error_x": {
             "color": "#2a3f5f"
            },
            "error_y": {
             "color": "#2a3f5f"
            },
            "marker": {
             "line": {
              "color": "#E5ECF6",
              "width": 0.5
             },
             "pattern": {
              "fillmode": "overlay",
              "size": 10,
              "solidity": 0.2
             }
            },
            "type": "bar"
           }
          ],
          "barpolar": [
           {
            "marker": {
             "line": {
              "color": "#E5ECF6",
              "width": 0.5
             },
             "pattern": {
              "fillmode": "overlay",
              "size": 10,
              "solidity": 0.2
             }
            },
            "type": "barpolar"
           }
          ],
          "carpet": [
           {
            "aaxis": {
             "endlinecolor": "#2a3f5f",
             "gridcolor": "white",
             "linecolor": "white",
             "minorgridcolor": "white",
             "startlinecolor": "#2a3f5f"
            },
            "baxis": {
             "endlinecolor": "#2a3f5f",
             "gridcolor": "white",
             "linecolor": "white",
             "minorgridcolor": "white",
             "startlinecolor": "#2a3f5f"
            },
            "type": "carpet"
           }
          ],
          "choropleth": [
           {
            "colorbar": {
             "outlinewidth": 0,
             "ticks": ""
            },
            "type": "choropleth"
           }
          ],
          "contour": [
           {
            "colorbar": {
             "outlinewidth": 0,
             "ticks": ""
            },
            "colorscale": [
             [
              0,
              "#0d0887"
             ],
             [
              0.1111111111111111,
              "#46039f"
             ],
             [
              0.2222222222222222,
              "#7201a8"
             ],
             [
              0.3333333333333333,
              "#9c179e"
             ],
             [
              0.4444444444444444,
              "#bd3786"
             ],
             [
              0.5555555555555556,
              "#d8576b"
             ],
             [
              0.6666666666666666,
              "#ed7953"
             ],
             [
              0.7777777777777778,
              "#fb9f3a"
             ],
             [
              0.8888888888888888,
              "#fdca26"
             ],
             [
              1,
              "#f0f921"
             ]
            ],
            "type": "contour"
           }
          ],
          "contourcarpet": [
           {
            "colorbar": {
             "outlinewidth": 0,
             "ticks": ""
            },
            "type": "contourcarpet"
           }
          ],
          "heatmap": [
           {
            "colorbar": {
             "outlinewidth": 0,
             "ticks": ""
            },
            "colorscale": [
             [
              0,
              "#0d0887"
             ],
             [
              0.1111111111111111,
              "#46039f"
             ],
             [
              0.2222222222222222,
              "#7201a8"
             ],
             [
              0.3333333333333333,
              "#9c179e"
             ],
             [
              0.4444444444444444,
              "#bd3786"
             ],
             [
              0.5555555555555556,
              "#d8576b"
             ],
             [
              0.6666666666666666,
              "#ed7953"
             ],
             [
              0.7777777777777778,
              "#fb9f3a"
             ],
             [
              0.8888888888888888,
              "#fdca26"
             ],
             [
              1,
              "#f0f921"
             ]
            ],
            "type": "heatmap"
           }
          ],
          "heatmapgl": [
           {
            "colorbar": {
             "outlinewidth": 0,
             "ticks": ""
            },
            "colorscale": [
             [
              0,
              "#0d0887"
             ],
             [
              0.1111111111111111,
              "#46039f"
             ],
             [
              0.2222222222222222,
              "#7201a8"
             ],
             [
              0.3333333333333333,
              "#9c179e"
             ],
             [
              0.4444444444444444,
              "#bd3786"
             ],
             [
              0.5555555555555556,
              "#d8576b"
             ],
             [
              0.6666666666666666,
              "#ed7953"
             ],
             [
              0.7777777777777778,
              "#fb9f3a"
             ],
             [
              0.8888888888888888,
              "#fdca26"
             ],
             [
              1,
              "#f0f921"
             ]
            ],
            "type": "heatmapgl"
           }
          ],
          "histogram": [
           {
            "marker": {
             "pattern": {
              "fillmode": "overlay",
              "size": 10,
              "solidity": 0.2
             }
            },
            "type": "histogram"
           }
          ],
          "histogram2d": [
           {
            "colorbar": {
             "outlinewidth": 0,
             "ticks": ""
            },
            "colorscale": [
             [
              0,
              "#0d0887"
             ],
             [
              0.1111111111111111,
              "#46039f"
             ],
             [
              0.2222222222222222,
              "#7201a8"
             ],
             [
              0.3333333333333333,
              "#9c179e"
             ],
             [
              0.4444444444444444,
              "#bd3786"
             ],
             [
              0.5555555555555556,
              "#d8576b"
             ],
             [
              0.6666666666666666,
              "#ed7953"
             ],
             [
              0.7777777777777778,
              "#fb9f3a"
             ],
             [
              0.8888888888888888,
              "#fdca26"
             ],
             [
              1,
              "#f0f921"
             ]
            ],
            "type": "histogram2d"
           }
          ],
          "histogram2dcontour": [
           {
            "colorbar": {
             "outlinewidth": 0,
             "ticks": ""
            },
            "colorscale": [
             [
              0,
              "#0d0887"
             ],
             [
              0.1111111111111111,
              "#46039f"
             ],
             [
              0.2222222222222222,
              "#7201a8"
             ],
             [
              0.3333333333333333,
              "#9c179e"
             ],
             [
              0.4444444444444444,
              "#bd3786"
             ],
             [
              0.5555555555555556,
              "#d8576b"
             ],
             [
              0.6666666666666666,
              "#ed7953"
             ],
             [
              0.7777777777777778,
              "#fb9f3a"
             ],
             [
              0.8888888888888888,
              "#fdca26"
             ],
             [
              1,
              "#f0f921"
             ]
            ],
            "type": "histogram2dcontour"
           }
          ],
          "mesh3d": [
           {
            "colorbar": {
             "outlinewidth": 0,
             "ticks": ""
            },
            "type": "mesh3d"
           }
          ],
          "parcoords": [
           {
            "line": {
             "colorbar": {
              "outlinewidth": 0,
              "ticks": ""
             }
            },
            "type": "parcoords"
           }
          ],
          "pie": [
           {
            "automargin": true,
            "type": "pie"
           }
          ],
          "scatter": [
           {
            "fillpattern": {
             "fillmode": "overlay",
             "size": 10,
             "solidity": 0.2
            },
            "type": "scatter"
           }
          ],
          "scatter3d": [
           {
            "line": {
             "colorbar": {
              "outlinewidth": 0,
              "ticks": ""
             }
            },
            "marker": {
             "colorbar": {
              "outlinewidth": 0,
              "ticks": ""
             }
            },
            "type": "scatter3d"
           }
          ],
          "scattercarpet": [
           {
            "marker": {
             "colorbar": {
              "outlinewidth": 0,
              "ticks": ""
             }
            },
            "type": "scattercarpet"
           }
          ],
          "scattergeo": [
           {
            "marker": {
             "colorbar": {
              "outlinewidth": 0,
              "ticks": ""
             }
            },
            "type": "scattergeo"
           }
          ],
          "scattergl": [
           {
            "marker": {
             "colorbar": {
              "outlinewidth": 0,
              "ticks": ""
             }
            },
            "type": "scattergl"
           }
          ],
          "scattermapbox": [
           {
            "marker": {
             "colorbar": {
              "outlinewidth": 0,
              "ticks": ""
             }
            },
            "type": "scattermapbox"
           }
          ],
          "scatterpolar": [
           {
            "marker": {
             "colorbar": {
              "outlinewidth": 0,
              "ticks": ""
             }
            },
            "type": "scatterpolar"
           }
          ],
          "scatterpolargl": [
           {
            "marker": {
             "colorbar": {
              "outlinewidth": 0,
              "ticks": ""
             }
            },
            "type": "scatterpolargl"
           }
          ],
          "scatterternary": [
           {
            "marker": {
             "colorbar": {
              "outlinewidth": 0,
              "ticks": ""
             }
            },
            "type": "scatterternary"
           }
          ],
          "surface": [
           {
            "colorbar": {
             "outlinewidth": 0,
             "ticks": ""
            },
            "colorscale": [
             [
              0,
              "#0d0887"
             ],
             [
              0.1111111111111111,
              "#46039f"
             ],
             [
              0.2222222222222222,
              "#7201a8"
             ],
             [
              0.3333333333333333,
              "#9c179e"
             ],
             [
              0.4444444444444444,
              "#bd3786"
             ],
             [
              0.5555555555555556,
              "#d8576b"
             ],
             [
              0.6666666666666666,
              "#ed7953"
             ],
             [
              0.7777777777777778,
              "#fb9f3a"
             ],
             [
              0.8888888888888888,
              "#fdca26"
             ],
             [
              1,
              "#f0f921"
             ]
            ],
            "type": "surface"
           }
          ],
          "table": [
           {
            "cells": {
             "fill": {
              "color": "#EBF0F8"
             },
             "line": {
              "color": "white"
             }
            },
            "header": {
             "fill": {
              "color": "#C8D4E3"
             },
             "line": {
              "color": "white"
             }
            },
            "type": "table"
           }
          ]
         },
         "layout": {
          "annotationdefaults": {
           "arrowcolor": "#2a3f5f",
           "arrowhead": 0,
           "arrowwidth": 1
          },
          "autotypenumbers": "strict",
          "coloraxis": {
           "colorbar": {
            "outlinewidth": 0,
            "ticks": ""
           }
          },
          "colorscale": {
           "diverging": [
            [
             0,
             "#8e0152"
            ],
            [
             0.1,
             "#c51b7d"
            ],
            [
             0.2,
             "#de77ae"
            ],
            [
             0.3,
             "#f1b6da"
            ],
            [
             0.4,
             "#fde0ef"
            ],
            [
             0.5,
             "#f7f7f7"
            ],
            [
             0.6,
             "#e6f5d0"
            ],
            [
             0.7,
             "#b8e186"
            ],
            [
             0.8,
             "#7fbc41"
            ],
            [
             0.9,
             "#4d9221"
            ],
            [
             1,
             "#276419"
            ]
           ],
           "sequential": [
            [
             0,
             "#0d0887"
            ],
            [
             0.1111111111111111,
             "#46039f"
            ],
            [
             0.2222222222222222,
             "#7201a8"
            ],
            [
             0.3333333333333333,
             "#9c179e"
            ],
            [
             0.4444444444444444,
             "#bd3786"
            ],
            [
             0.5555555555555556,
             "#d8576b"
            ],
            [
             0.6666666666666666,
             "#ed7953"
            ],
            [
             0.7777777777777778,
             "#fb9f3a"
            ],
            [
             0.8888888888888888,
             "#fdca26"
            ],
            [
             1,
             "#f0f921"
            ]
           ],
           "sequentialminus": [
            [
             0,
             "#0d0887"
            ],
            [
             0.1111111111111111,
             "#46039f"
            ],
            [
             0.2222222222222222,
             "#7201a8"
            ],
            [
             0.3333333333333333,
             "#9c179e"
            ],
            [
             0.4444444444444444,
             "#bd3786"
            ],
            [
             0.5555555555555556,
             "#d8576b"
            ],
            [
             0.6666666666666666,
             "#ed7953"
            ],
            [
             0.7777777777777778,
             "#fb9f3a"
            ],
            [
             0.8888888888888888,
             "#fdca26"
            ],
            [
             1,
             "#f0f921"
            ]
           ]
          },
          "colorway": [
           "#636efa",
           "#EF553B",
           "#00cc96",
           "#ab63fa",
           "#FFA15A",
           "#19d3f3",
           "#FF6692",
           "#B6E880",
           "#FF97FF",
           "#FECB52"
          ],
          "font": {
           "color": "#2a3f5f"
          },
          "geo": {
           "bgcolor": "white",
           "lakecolor": "white",
           "landcolor": "#E5ECF6",
           "showlakes": true,
           "showland": true,
           "subunitcolor": "white"
          },
          "hoverlabel": {
           "align": "left"
          },
          "hovermode": "closest",
          "mapbox": {
           "style": "light"
          },
          "paper_bgcolor": "white",
          "plot_bgcolor": "#E5ECF6",
          "polar": {
           "angularaxis": {
            "gridcolor": "white",
            "linecolor": "white",
            "ticks": ""
           },
           "bgcolor": "#E5ECF6",
           "radialaxis": {
            "gridcolor": "white",
            "linecolor": "white",
            "ticks": ""
           }
          },
          "scene": {
           "xaxis": {
            "backgroundcolor": "#E5ECF6",
            "gridcolor": "white",
            "gridwidth": 2,
            "linecolor": "white",
            "showbackground": true,
            "ticks": "",
            "zerolinecolor": "white"
           },
           "yaxis": {
            "backgroundcolor": "#E5ECF6",
            "gridcolor": "white",
            "gridwidth": 2,
            "linecolor": "white",
            "showbackground": true,
            "ticks": "",
            "zerolinecolor": "white"
           },
           "zaxis": {
            "backgroundcolor": "#E5ECF6",
            "gridcolor": "white",
            "gridwidth": 2,
            "linecolor": "white",
            "showbackground": true,
            "ticks": "",
            "zerolinecolor": "white"
           }
          },
          "shapedefaults": {
           "line": {
            "color": "#2a3f5f"
           }
          },
          "ternary": {
           "aaxis": {
            "gridcolor": "white",
            "linecolor": "white",
            "ticks": ""
           },
           "baxis": {
            "gridcolor": "white",
            "linecolor": "white",
            "ticks": ""
           },
           "bgcolor": "#E5ECF6",
           "caxis": {
            "gridcolor": "white",
            "linecolor": "white",
            "ticks": ""
           }
          },
          "title": {
           "x": 0.05
          },
          "xaxis": {
           "automargin": true,
           "gridcolor": "white",
           "linecolor": "white",
           "ticks": "",
           "title": {
            "standoff": 15
           },
           "zerolinecolor": "white",
           "zerolinewidth": 2
          },
          "yaxis": {
           "automargin": true,
           "gridcolor": "white",
           "linecolor": "white",
           "ticks": "",
           "title": {
            "standoff": 15
           },
           "zerolinecolor": "white",
           "zerolinewidth": 2
          }
         }
        },
        "title": {
         "text": "AMS vs Shifted, RMSE=0.00, SNR=inf"
        },
        "width": 400,
        "xaxis": {
         "anchor": "y",
         "domain": [
          0,
          1
         ],
         "title": {
          "text": "RTL"
         }
        },
        "yaxis": {
         "anchor": "x",
         "domain": [
          0,
          1
         ],
         "title": {
          "text": "AMS"
         }
        }
       }
      },
      "text/html": [
       "<div>                            <div id=\"894a88b3-7163-4f9f-b7a4-6fc00e771694\" class=\"plotly-graph-div\" style=\"height:400px; width:400px;\"></div>            <script type=\"text/javascript\">                require([\"plotly\"], function(Plotly) {                    window.PLOTLYENV=window.PLOTLYENV || {};                                    if (document.getElementById(\"894a88b3-7163-4f9f-b7a4-6fc00e771694\")) {                    Plotly.newPlot(                        \"894a88b3-7163-4f9f-b7a4-6fc00e771694\",                        [{\"hovertemplate\":\"RTL=%{x}\\u003cbr\\u003eAMS=%{y}\\u003cextra\\u003e\\u003c\\u002fextra\\u003e\",\"legendgroup\":\"\",\"marker\":{\"color\":\"#636efa\",\"symbol\":\"circle\"},\"mode\":\"markers\",\"name\":\"\",\"orientation\":\"v\",\"showlegend\":false,\"x\":[7.0,0.0,-1.0,-2.0,0.0,-1.0,1.0,7.0,0.0,-8.0,-8.0,7.0,-8.0,-1.0,0.0,1.0,-8.0,0.0,7.0,-1.0,7.0,7.0,-2.0,-8.0,-8.0,1.0,7.0,-2.0,1.0,-8.0,1.0,-1.0,-8.0,7.0,1.0,-8.0,0.0,1.0,1.0,-1.0,0.0,-2.0,-2.0,0.0,-8.0,7.0,7.0,-2.0,-2.0,0.0,0.0,-1.0,-1.0,0.0,1.0,1.0,-8.0,-1.0,0.0,0.0,-1.0,-8.0,1.0,-8.0,1.0,7.0,0.0,-1.0,1.0,1.0,-1.0,7.0,1.0,7.0,7.0,-2.0,1.0,-2.0,-8.0,7.0,7.0,-2.0,-1.0,0.0,1.0,7.0,1.0,7.0,7.0,0.0,1.0,-2.0,-8.0,0.0,0.0,-1.0,-2.0,-2.0,7.0,1.0,-8.0,-1.0,7.0,0.0,-8.0,1.0,1.0,-1.0,-2.0,7.0,7.0,0.0,-1.0,-1.0,7.0,0.0,-8.0,-2.0,0.0,0.0,-1.0,1.0,-8.0,0.0,7.0,-8.0,-8.0,7.0,-2.0,-8.0,0.0,-1.0,-8.0,7.0,-8.0,-1.0,-1.0,-8.0,7.0,-8.0,7.0,0.0,7.0,-8.0,-1.0,7.0,0.0,-1.0,7.0,0.0,7.0,-1.0,0.0,1.0,1.0,-1.0,-2.0,0.0,7.0,7.0,0.0,-8.0,-1.0,0.0,1.0,1.0,7.0,7.0,7.0,0.0,7.0,-2.0,0.0,-1.0,1.0,-1.0,0.0,-8.0,7.0,-2.0,7.0,7.0,0.0,1.0,0.0,-2.0,-2.0,-2.0,1.0,7.0,7.0,-1.0,1.0,7.0,7.0,-1.0,-2.0,1.0,-8.0,1.0,0.0,-1.0,-8.0,0.0,7.0,0.0,0.0,-8.0,-8.0,7.0,1.0,-8.0,-2.0,0.0,0.0,-1.0,-2.0,-1.0,7.0,-1.0,-1.0,-8.0,-2.0,-2.0,7.0,0.0,1.0,-8.0,-2.0,7.0,-2.0,-2.0,-8.0,0.0,7.0,0.0,0.0,0.0,-2.0,-1.0,-1.0,-2.0,0.0,-1.0,-1.0,-1.0,-2.0,7.0,7.0,7.0,1.0,-1.0,-1.0,-8.0,1.0,1.0,7.0,0.0,1.0,-1.0,7.0,1.0,7.0,-1.0,7.0,7.0,7.0,-8.0,1.0,1.0,-2.0,-2.0,0.0,-1.0,0.0,-8.0,0.0,1.0,0.0,0.0,0.0,0.0,0.0,0.0,-1.0,-1.0,-2.0,7.0,0.0,-8.0,-2.0,-8.0,7.0,-1.0,7.0,-2.0,-2.0,0.0,0.0,1.0,7.0,-1.0,7.0,-8.0,-1.0,-1.0,7.0,-8.0,-1.0,7.0,1.0,-1.0,7.0,0.0,-2.0,-1.0,-1.0,-8.0,-8.0,7.0],\"xaxis\":\"x\",\"y\":[7.0,0.0,-1.0,-2.0,0.0,-1.0,1.0,7.0,0.0,-8.0,-8.0,7.0,-8.0,-1.0,0.0,1.0,-8.0,0.0,7.0,-1.0,7.0,7.0,-2.0,-8.0,-8.0,1.0,7.0,-2.0,1.0,-8.0,1.0,-1.0,-8.0,7.0,1.0,-8.0,0.0,1.0,1.0,-1.0,0.0,-2.0,-2.0,0.0,-8.0,7.0,7.0,-2.0,-2.0,0.0,0.0,-1.0,-1.0,0.0,1.0,1.0,-8.0,-1.0,0.0,0.0,-1.0,-8.0,1.0,-8.0,1.0,7.0,0.0,-1.0,1.0,1.0,-1.0,7.0,1.0,7.0,7.0,-2.0,1.0,-2.0,-8.0,7.0,7.0,-2.0,-1.0,0.0,1.0,7.0,1.0,7.0,7.0,0.0,1.0,-2.0,-8.0,0.0,0.0,-1.0,-2.0,-2.0,7.0,1.0,-8.0,-1.0,7.0,0.0,-8.0,1.0,1.0,-1.0,-2.0,7.0,7.0,0.0,-1.0,-1.0,7.0,0.0,-8.0,-2.0,0.0,0.0,-1.0,1.0,-8.0,0.0,7.0,-8.0,-8.0,7.0,-2.0,-8.0,0.0,-1.0,-8.0,7.0,-8.0,-1.0,-1.0,-8.0,7.0,-8.0,7.0,0.0,7.0,-8.0,-1.0,7.0,0.0,-1.0,7.0,0.0,7.0,-1.0,0.0,1.0,1.0,-1.0,-2.0,0.0,7.0,7.0,0.0,-8.0,-1.0,0.0,1.0,1.0,7.0,7.0,7.0,0.0,7.0,-2.0,0.0,-1.0,1.0,-1.0,0.0,-8.0,7.0,-2.0,7.0,7.0,0.0,1.0,0.0,-2.0,-2.0,-2.0,1.0,7.0,7.0,-1.0,1.0,7.0,7.0,-1.0,-2.0,1.0,-8.0,1.0,0.0,-1.0,-8.0,0.0,7.0,0.0,0.0,-8.0,-8.0,7.0,1.0,-8.0,-2.0,0.0,0.0,-1.0,-2.0,-1.0,7.0,-1.0,-1.0,-8.0,-2.0,-2.0,7.0,0.0,1.0,-8.0,-2.0,7.0,-2.0,-2.0,-8.0,0.0,7.0,0.0,0.0,0.0,-2.0,-1.0,-1.0,-2.0,0.0,-1.0,-1.0,-1.0,-2.0,7.0,7.0,7.0,1.0,-1.0,-1.0,-8.0,1.0,1.0,7.0,0.0,1.0,-1.0,7.0,1.0,7.0,-1.0,7.0,7.0,7.0,-8.0,1.0,1.0,-2.0,-2.0,0.0,-1.0,0.0,-8.0,0.0,1.0,0.0,0.0,0.0,0.0,0.0,0.0,-1.0,-1.0,-2.0,7.0,0.0,-8.0,-2.0,-8.0,7.0,-1.0,7.0,-2.0,-2.0,0.0,0.0,1.0,7.0,-1.0,7.0,-8.0,-1.0,-1.0,7.0,-8.0,-1.0,7.0,1.0,-1.0,7.0,0.0,-2.0,-1.0,-1.0,-8.0,-8.0,7.0],\"yaxis\":\"y\",\"type\":\"scatter\"}],                        {\"template\":{\"data\":{\"histogram2dcontour\":[{\"type\":\"histogram2dcontour\",\"colorbar\":{\"outlinewidth\":0,\"ticks\":\"\"},\"colorscale\":[[0.0,\"#0d0887\"],[0.1111111111111111,\"#46039f\"],[0.2222222222222222,\"#7201a8\"],[0.3333333333333333,\"#9c179e\"],[0.4444444444444444,\"#bd3786\"],[0.5555555555555556,\"#d8576b\"],[0.6666666666666666,\"#ed7953\"],[0.7777777777777778,\"#fb9f3a\"],[0.8888888888888888,\"#fdca26\"],[1.0,\"#f0f921\"]]}],\"choropleth\":[{\"type\":\"choropleth\",\"colorbar\":{\"outlinewidth\":0,\"ticks\":\"\"}}],\"histogram2d\":[{\"type\":\"histogram2d\",\"colorbar\":{\"outlinewidth\":0,\"ticks\":\"\"},\"colorscale\":[[0.0,\"#0d0887\"],[0.1111111111111111,\"#46039f\"],[0.2222222222222222,\"#7201a8\"],[0.3333333333333333,\"#9c179e\"],[0.4444444444444444,\"#bd3786\"],[0.5555555555555556,\"#d8576b\"],[0.6666666666666666,\"#ed7953\"],[0.7777777777777778,\"#fb9f3a\"],[0.8888888888888888,\"#fdca26\"],[1.0,\"#f0f921\"]]}],\"heatmap\":[{\"type\":\"heatmap\",\"colorbar\":{\"outlinewidth\":0,\"ticks\":\"\"},\"colorscale\":[[0.0,\"#0d0887\"],[0.1111111111111111,\"#46039f\"],[0.2222222222222222,\"#7201a8\"],[0.3333333333333333,\"#9c179e\"],[0.4444444444444444,\"#bd3786\"],[0.5555555555555556,\"#d8576b\"],[0.6666666666666666,\"#ed7953\"],[0.7777777777777778,\"#fb9f3a\"],[0.8888888888888888,\"#fdca26\"],[1.0,\"#f0f921\"]]}],\"heatmapgl\":[{\"type\":\"heatmapgl\",\"colorbar\":{\"outlinewidth\":0,\"ticks\":\"\"},\"colorscale\":[[0.0,\"#0d0887\"],[0.1111111111111111,\"#46039f\"],[0.2222222222222222,\"#7201a8\"],[0.3333333333333333,\"#9c179e\"],[0.4444444444444444,\"#bd3786\"],[0.5555555555555556,\"#d8576b\"],[0.6666666666666666,\"#ed7953\"],[0.7777777777777778,\"#fb9f3a\"],[0.8888888888888888,\"#fdca26\"],[1.0,\"#f0f921\"]]}],\"contourcarpet\":[{\"type\":\"contourcarpet\",\"colorbar\":{\"outlinewidth\":0,\"ticks\":\"\"}}],\"contour\":[{\"type\":\"contour\",\"colorbar\":{\"outlinewidth\":0,\"ticks\":\"\"},\"colorscale\":[[0.0,\"#0d0887\"],[0.1111111111111111,\"#46039f\"],[0.2222222222222222,\"#7201a8\"],[0.3333333333333333,\"#9c179e\"],[0.4444444444444444,\"#bd3786\"],[0.5555555555555556,\"#d8576b\"],[0.6666666666666666,\"#ed7953\"],[0.7777777777777778,\"#fb9f3a\"],[0.8888888888888888,\"#fdca26\"],[1.0,\"#f0f921\"]]}],\"surface\":[{\"type\":\"surface\",\"colorbar\":{\"outlinewidth\":0,\"ticks\":\"\"},\"colorscale\":[[0.0,\"#0d0887\"],[0.1111111111111111,\"#46039f\"],[0.2222222222222222,\"#7201a8\"],[0.3333333333333333,\"#9c179e\"],[0.4444444444444444,\"#bd3786\"],[0.5555555555555556,\"#d8576b\"],[0.6666666666666666,\"#ed7953\"],[0.7777777777777778,\"#fb9f3a\"],[0.8888888888888888,\"#fdca26\"],[1.0,\"#f0f921\"]]}],\"mesh3d\":[{\"type\":\"mesh3d\",\"colorbar\":{\"outlinewidth\":0,\"ticks\":\"\"}}],\"scatter\":[{\"fillpattern\":{\"fillmode\":\"overlay\",\"size\":10,\"solidity\":0.2},\"type\":\"scatter\"}],\"parcoords\":[{\"type\":\"parcoords\",\"line\":{\"colorbar\":{\"outlinewidth\":0,\"ticks\":\"\"}}}],\"scatterpolargl\":[{\"type\":\"scatterpolargl\",\"marker\":{\"colorbar\":{\"outlinewidth\":0,\"ticks\":\"\"}}}],\"bar\":[{\"error_x\":{\"color\":\"#2a3f5f\"},\"error_y\":{\"color\":\"#2a3f5f\"},\"marker\":{\"line\":{\"color\":\"#E5ECF6\",\"width\":0.5},\"pattern\":{\"fillmode\":\"overlay\",\"size\":10,\"solidity\":0.2}},\"type\":\"bar\"}],\"scattergeo\":[{\"type\":\"scattergeo\",\"marker\":{\"colorbar\":{\"outlinewidth\":0,\"ticks\":\"\"}}}],\"scatterpolar\":[{\"type\":\"scatterpolar\",\"marker\":{\"colorbar\":{\"outlinewidth\":0,\"ticks\":\"\"}}}],\"histogram\":[{\"marker\":{\"pattern\":{\"fillmode\":\"overlay\",\"size\":10,\"solidity\":0.2}},\"type\":\"histogram\"}],\"scattergl\":[{\"type\":\"scattergl\",\"marker\":{\"colorbar\":{\"outlinewidth\":0,\"ticks\":\"\"}}}],\"scatter3d\":[{\"type\":\"scatter3d\",\"line\":{\"colorbar\":{\"outlinewidth\":0,\"ticks\":\"\"}},\"marker\":{\"colorbar\":{\"outlinewidth\":0,\"ticks\":\"\"}}}],\"scattermapbox\":[{\"type\":\"scattermapbox\",\"marker\":{\"colorbar\":{\"outlinewidth\":0,\"ticks\":\"\"}}}],\"scatterternary\":[{\"type\":\"scatterternary\",\"marker\":{\"colorbar\":{\"outlinewidth\":0,\"ticks\":\"\"}}}],\"scattercarpet\":[{\"type\":\"scattercarpet\",\"marker\":{\"colorbar\":{\"outlinewidth\":0,\"ticks\":\"\"}}}],\"carpet\":[{\"aaxis\":{\"endlinecolor\":\"#2a3f5f\",\"gridcolor\":\"white\",\"linecolor\":\"white\",\"minorgridcolor\":\"white\",\"startlinecolor\":\"#2a3f5f\"},\"baxis\":{\"endlinecolor\":\"#2a3f5f\",\"gridcolor\":\"white\",\"linecolor\":\"white\",\"minorgridcolor\":\"white\",\"startlinecolor\":\"#2a3f5f\"},\"type\":\"carpet\"}],\"table\":[{\"cells\":{\"fill\":{\"color\":\"#EBF0F8\"},\"line\":{\"color\":\"white\"}},\"header\":{\"fill\":{\"color\":\"#C8D4E3\"},\"line\":{\"color\":\"white\"}},\"type\":\"table\"}],\"barpolar\":[{\"marker\":{\"line\":{\"color\":\"#E5ECF6\",\"width\":0.5},\"pattern\":{\"fillmode\":\"overlay\",\"size\":10,\"solidity\":0.2}},\"type\":\"barpolar\"}],\"pie\":[{\"automargin\":true,\"type\":\"pie\"}]},\"layout\":{\"autotypenumbers\":\"strict\",\"colorway\":[\"#636efa\",\"#EF553B\",\"#00cc96\",\"#ab63fa\",\"#FFA15A\",\"#19d3f3\",\"#FF6692\",\"#B6E880\",\"#FF97FF\",\"#FECB52\"],\"font\":{\"color\":\"#2a3f5f\"},\"hovermode\":\"closest\",\"hoverlabel\":{\"align\":\"left\"},\"paper_bgcolor\":\"white\",\"plot_bgcolor\":\"#E5ECF6\",\"polar\":{\"bgcolor\":\"#E5ECF6\",\"angularaxis\":{\"gridcolor\":\"white\",\"linecolor\":\"white\",\"ticks\":\"\"},\"radialaxis\":{\"gridcolor\":\"white\",\"linecolor\":\"white\",\"ticks\":\"\"}},\"ternary\":{\"bgcolor\":\"#E5ECF6\",\"aaxis\":{\"gridcolor\":\"white\",\"linecolor\":\"white\",\"ticks\":\"\"},\"baxis\":{\"gridcolor\":\"white\",\"linecolor\":\"white\",\"ticks\":\"\"},\"caxis\":{\"gridcolor\":\"white\",\"linecolor\":\"white\",\"ticks\":\"\"}},\"coloraxis\":{\"colorbar\":{\"outlinewidth\":0,\"ticks\":\"\"}},\"colorscale\":{\"sequential\":[[0.0,\"#0d0887\"],[0.1111111111111111,\"#46039f\"],[0.2222222222222222,\"#7201a8\"],[0.3333333333333333,\"#9c179e\"],[0.4444444444444444,\"#bd3786\"],[0.5555555555555556,\"#d8576b\"],[0.6666666666666666,\"#ed7953\"],[0.7777777777777778,\"#fb9f3a\"],[0.8888888888888888,\"#fdca26\"],[1.0,\"#f0f921\"]],\"sequentialminus\":[[0.0,\"#0d0887\"],[0.1111111111111111,\"#46039f\"],[0.2222222222222222,\"#7201a8\"],[0.3333333333333333,\"#9c179e\"],[0.4444444444444444,\"#bd3786\"],[0.5555555555555556,\"#d8576b\"],[0.6666666666666666,\"#ed7953\"],[0.7777777777777778,\"#fb9f3a\"],[0.8888888888888888,\"#fdca26\"],[1.0,\"#f0f921\"]],\"diverging\":[[0,\"#8e0152\"],[0.1,\"#c51b7d\"],[0.2,\"#de77ae\"],[0.3,\"#f1b6da\"],[0.4,\"#fde0ef\"],[0.5,\"#f7f7f7\"],[0.6,\"#e6f5d0\"],[0.7,\"#b8e186\"],[0.8,\"#7fbc41\"],[0.9,\"#4d9221\"],[1,\"#276419\"]]},\"xaxis\":{\"gridcolor\":\"white\",\"linecolor\":\"white\",\"ticks\":\"\",\"title\":{\"standoff\":15},\"zerolinecolor\":\"white\",\"automargin\":true,\"zerolinewidth\":2},\"yaxis\":{\"gridcolor\":\"white\",\"linecolor\":\"white\",\"ticks\":\"\",\"title\":{\"standoff\":15},\"zerolinecolor\":\"white\",\"automargin\":true,\"zerolinewidth\":2},\"scene\":{\"xaxis\":{\"backgroundcolor\":\"#E5ECF6\",\"gridcolor\":\"white\",\"linecolor\":\"white\",\"showbackground\":true,\"ticks\":\"\",\"zerolinecolor\":\"white\",\"gridwidth\":2},\"yaxis\":{\"backgroundcolor\":\"#E5ECF6\",\"gridcolor\":\"white\",\"linecolor\":\"white\",\"showbackground\":true,\"ticks\":\"\",\"zerolinecolor\":\"white\",\"gridwidth\":2},\"zaxis\":{\"backgroundcolor\":\"#E5ECF6\",\"gridcolor\":\"white\",\"linecolor\":\"white\",\"showbackground\":true,\"ticks\":\"\",\"zerolinecolor\":\"white\",\"gridwidth\":2}},\"shapedefaults\":{\"line\":{\"color\":\"#2a3f5f\"}},\"annotationdefaults\":{\"arrowcolor\":\"#2a3f5f\",\"arrowhead\":0,\"arrowwidth\":1},\"geo\":{\"bgcolor\":\"white\",\"landcolor\":\"#E5ECF6\",\"subunitcolor\":\"white\",\"showland\":true,\"showlakes\":true,\"lakecolor\":\"white\"},\"title\":{\"x\":0.05},\"mapbox\":{\"style\":\"light\"}}},\"xaxis\":{\"anchor\":\"y\",\"domain\":[0.0,1.0],\"title\":{\"text\":\"RTL\"}},\"yaxis\":{\"anchor\":\"x\",\"domain\":[0.0,1.0],\"title\":{\"text\":\"AMS\"}},\"legend\":{\"tracegroupgap\":0},\"title\":{\"text\":\"AMS vs Shifted, RMSE=0.00, SNR=inf\"},\"height\":400,\"width\":400},                        {\"responsive\": true}                    ).then(function(){\n",
       "                            \n",
       "var gd = document.getElementById('894a88b3-7163-4f9f-b7a4-6fc00e771694');\n",
       "var x = new MutationObserver(function (mutations, observer) {{\n",
       "        var display = window.getComputedStyle(gd).display;\n",
       "        if (!display || display === 'none') {{\n",
       "            console.log([gd, 'removed!']);\n",
       "            Plotly.purge(gd);\n",
       "            observer.disconnect();\n",
       "        }}\n",
       "}});\n",
       "\n",
       "// Listen for the removal of the full notebook cells\n",
       "var notebookContainer = gd.closest('#notebook-container');\n",
       "if (notebookContainer) {{\n",
       "    x.observe(notebookContainer, {childList: true});\n",
       "}}\n",
       "\n",
       "// Listen for the clearing of the current output cell\n",
       "var outputEl = gd.closest('.output');\n",
       "if (outputEl) {{\n",
       "    x.observe(outputEl, {childList: true});\n",
       "}}\n",
       "\n",
       "                        })                };                });            </script>        </div>"
      ]
     },
     "metadata": {},
     "output_type": "display_data"
    }
   ],
   "source": [
    "ams = np.loadtxt('../tb/qracc/inputs/adc_out.txt')\n",
    "rtl = np.loadtxt('../tb/qracc/inputs/adc_out_rtlsims.txt')\n",
    "\n",
    "ams_df = df(ams)\n",
    "rtl_df = df(rtl)\n",
    "\n",
    "# ams_df['Row'] = ams_df.index\n",
    "# rtl_df['Row'] = rtl_df.index\n",
    "\n",
    "ams_df = ams_df.melt(\n",
    "    ignore_index=False,\n",
    "    var_name='Column',\n",
    "    value_name='ADC_OUT_AMS',\n",
    ")\n",
    "rtl_df = rtl_df.melt(\n",
    "    ignore_index=False,\n",
    "    var_name='Column',\n",
    "    value_name='ADC_OUT_RTL',\n",
    ")\n",
    "ams_df['Row'] = ams_df.index\n",
    "rtl_df['Row'] = rtl_df.index\n",
    "# Join the two dataframes\n",
    "adc_df = pd.merge(ams_df, rtl_df)\n",
    "\n",
    "rtl_fp = rtl.flatten()/2**3\n",
    "ams_fp = ams.flatten()/2**3\n",
    "\n",
    "err =   rtl_fp - ams_fp\n",
    "snr = 20*np.log(np.var(rtl_fp) / np.var(err))\n",
    "\n",
    "rmse = np.sqrt(np.mean((rtl.flatten() - ams.flatten())**2))\n",
    "fig = px.scatter(adc_df, y='ADC_OUT_AMS', x='ADC_OUT_RTL', width=400, height=400, title=f'AMS vs Shifted, RMSE={rmse:.2f}, SNR={snr:.2f}', labels={'ADC_OUT_AMS':'AMS','ADC_OUT_RTL':'RTL'})\n",
    "fig.show()\n",
    "fig.write_image('../images/rtl_vs_ams.svg')"
   ]
  },
  {
   "cell_type": "markdown",
   "metadata": {},
   "source": [
    "# Sequential Accelerator Simulations"
   ]
  },
  {
   "cell_type": "code",
   "execution_count": 439,
   "metadata": {},
   "outputs": [
    {
     "name": "stdout",
     "output_type": "stream",
     "text": [
      "[STIM_GEN] Generating random weights\n"
     ]
    },
    {
     "data": {
      "application/vnd.plotly.v1+json": {
       "config": {
        "plotlyServerURL": "https://plot.ly"
       },
       "data": [
        {
         "hovertemplate": "RTL=%{x}<br>Ideal=%{y}<extra></extra>",
         "legendgroup": "",
         "marker": {
          "color": "#636efa",
          "symbol": "circle"
         },
         "mode": "markers",
         "name": "",
         "orientation": "v",
         "showlegend": false,
         "type": "scatter",
         "x": [
          -52,
          56,
          -10,
          -12,
          30,
          -30,
          -14,
          -24,
          -82,
          98,
          -72,
          -8,
          -80,
          46,
          -2,
          82,
          -52,
          -22,
          22,
          -76,
          -34,
          -64,
          -20,
          -52,
          22,
          30,
          16,
          66,
          -38,
          90,
          -100,
          22,
          -34,
          8,
          20,
          -92,
          -22,
          42,
          42,
          24,
          -76,
          -76,
          -98,
          78,
          36,
          -24,
          -24,
          6,
          44,
          30,
          -4,
          -52,
          8,
          -10,
          16,
          -76,
          54,
          -46,
          34,
          -70,
          -4,
          34,
          2,
          98,
          46,
          -112,
          66,
          26,
          -50,
          -64,
          -32,
          78,
          24,
          14,
          78,
          -22,
          -36,
          -22,
          -36,
          8,
          58,
          -62,
          -96,
          42,
          22,
          14,
          36,
          -36,
          -74,
          98,
          -58,
          90,
          36,
          2,
          12,
          78,
          88,
          -38,
          -28,
          6,
          32,
          54,
          -20,
          -102,
          26,
          4,
          -12,
          54,
          -112,
          -80,
          58,
          14,
          -28,
          34,
          24,
          -64,
          42,
          -48,
          -56,
          -112,
          -68,
          56,
          -80,
          -10,
          98,
          -20,
          10,
          -4,
          -34,
          -64,
          -80,
          -30,
          -14,
          66,
          22,
          -2,
          -32,
          -52,
          42,
          -8,
          -12,
          -112,
          46,
          36,
          -12,
          -20,
          -52,
          -70,
          -22,
          18,
          42,
          0,
          -72,
          -60,
          -18,
          -44,
          98,
          50,
          42,
          30,
          12,
          -16,
          -30,
          -16,
          -58,
          20,
          -24,
          18,
          98,
          -56,
          -48,
          -34,
          -26,
          66,
          -8,
          -60,
          30,
          -112,
          -34,
          84,
          26,
          -96,
          -46,
          20,
          50,
          -32,
          -22,
          -112,
          -66,
          4,
          2,
          -66,
          84,
          -56,
          -14,
          -24,
          -64,
          -52,
          -22,
          -30,
          6,
          -6,
          -40,
          -72,
          14,
          -64,
          -28,
          18,
          -26,
          82,
          -40,
          86,
          -8,
          -20,
          -2,
          -32,
          38,
          -88,
          52,
          12,
          12,
          50,
          22,
          90,
          50,
          -112,
          -84,
          22,
          -80,
          20,
          -104,
          98,
          48,
          12,
          -22,
          34,
          42,
          -58,
          -112,
          -64,
          -112,
          -112,
          38,
          66,
          8,
          -4,
          40,
          -96,
          -20,
          -14,
          56,
          -26,
          -16,
          46,
          -88,
          26,
          98,
          0,
          -72,
          -64,
          58,
          -76,
          6,
          22,
          -32,
          82,
          -28,
          32,
          -8,
          52,
          -72,
          48,
          -40,
          14,
          58,
          68,
          48,
          -28,
          -56,
          50,
          70,
          -112,
          -24,
          -56,
          34,
          66,
          -98,
          30,
          -24,
          -84,
          14,
          -16,
          -82,
          -2,
          58,
          -80,
          -98,
          -56,
          74,
          -104,
          62,
          8,
          -20,
          -80,
          -52,
          -22,
          -22,
          8,
          -52,
          -4,
          98,
          -98,
          20,
          -98,
          80,
          66,
          72,
          -2,
          -48,
          70
         ],
         "xaxis": "x",
         "y": [
          -38,
          54,
          -4,
          -6,
          30,
          -24,
          -8,
          -18,
          -60,
          68,
          -66,
          -2,
          -78,
          46,
          4,
          76,
          -44,
          -16,
          24,
          -58,
          -28,
          -40,
          -16,
          -22,
          22,
          36,
          22,
          58,
          -24,
          60,
          -118,
          22,
          -28,
          14,
          26,
          -50,
          -16,
          36,
          42,
          30,
          -46,
          -46,
          -64,
          72,
          42,
          -18,
          -18,
          12,
          42,
          30,
          2,
          -40,
          14,
          8,
          22,
          -50,
          60,
          -40,
          36,
          -64,
          8,
          28,
          8,
          112,
          48,
          -80,
          48,
          24,
          -40,
          -34,
          -26,
          96,
          10,
          20,
          54,
          -4,
          -24,
          -22,
          -30,
          14,
          64,
          -40,
          -86,
          44,
          28,
          20,
          42,
          -26,
          -60,
          70,
          -56,
          92,
          42,
          8,
          18,
          54,
          61,
          -29,
          -27,
          7,
          33,
          55,
          -19,
          -77,
          25,
          5,
          -11,
          31,
          -89,
          -71,
          51,
          15,
          -25,
          35,
          25,
          -65,
          31,
          -43,
          -51,
          -83,
          -43,
          41,
          -79,
          -9,
          77,
          -13,
          11,
          3,
          -28,
          -52,
          -78,
          -24,
          -8,
          76,
          28,
          4,
          -26,
          -46,
          36,
          -2,
          -6,
          -118,
          48,
          22,
          -6,
          -14,
          -38,
          -56,
          -16,
          26,
          34,
          6,
          -90,
          -54,
          -12,
          -36,
          102,
          32,
          36,
          36,
          17,
          -11,
          -21,
          -11,
          -53,
          25,
          -19,
          19,
          147,
          -37,
          -37,
          -21,
          -21,
          53,
          -3,
          -43,
          35,
          -161,
          -29,
          93,
          27,
          -79,
          -33,
          13,
          39,
          -21,
          -17,
          -65,
          -61,
          15,
          3,
          -53,
          69,
          -49,
          -9,
          -19,
          -35,
          -35,
          -17,
          -25,
          11,
          -1,
          -35,
          -51,
          19,
          -59,
          -23,
          15,
          -27,
          51,
          -37,
          115,
          -3,
          -3,
          3,
          -27,
          43,
          -91,
          53,
          17,
          17,
          37,
          33,
          83,
          47,
          -103,
          -79,
          27,
          -57,
          25,
          -83,
          113,
          45,
          5,
          -17,
          33,
          23,
          -43,
          -81,
          -51,
          -113,
          -65,
          35,
          59,
          13,
          1,
          45,
          -77,
          -15,
          -9,
          53,
          -25,
          -11,
          35,
          -69,
          13,
          142,
          4,
          -68,
          -64,
          54,
          -64,
          10,
          22,
          -28,
          74,
          -24,
          28,
          -4,
          48,
          -60,
          36,
          -24,
          18,
          58,
          72,
          40,
          -24,
          -48,
          30,
          66,
          -88,
          -20,
          -46,
          22,
          54,
          -74,
          28,
          -17,
          -53,
          21,
          -9,
          -51,
          5,
          57,
          -43,
          -55,
          -37,
          83,
          -73,
          45,
          15,
          -13,
          -97,
          -37,
          -7,
          -15,
          15,
          -33,
          3,
          105,
          -87,
          27,
          -71,
          75,
          69,
          63,
          5,
          -41,
          69
         ],
         "yaxis": "y"
        }
       ],
       "layout": {
        "height": 400,
        "legend": {
         "tracegroupgap": 0
        },
        "template": {
         "data": {
          "bar": [
           {
            "error_x": {
             "color": "#2a3f5f"
            },
            "error_y": {
             "color": "#2a3f5f"
            },
            "marker": {
             "line": {
              "color": "#E5ECF6",
              "width": 0.5
             },
             "pattern": {
              "fillmode": "overlay",
              "size": 10,
              "solidity": 0.2
             }
            },
            "type": "bar"
           }
          ],
          "barpolar": [
           {
            "marker": {
             "line": {
              "color": "#E5ECF6",
              "width": 0.5
             },
             "pattern": {
              "fillmode": "overlay",
              "size": 10,
              "solidity": 0.2
             }
            },
            "type": "barpolar"
           }
          ],
          "carpet": [
           {
            "aaxis": {
             "endlinecolor": "#2a3f5f",
             "gridcolor": "white",
             "linecolor": "white",
             "minorgridcolor": "white",
             "startlinecolor": "#2a3f5f"
            },
            "baxis": {
             "endlinecolor": "#2a3f5f",
             "gridcolor": "white",
             "linecolor": "white",
             "minorgridcolor": "white",
             "startlinecolor": "#2a3f5f"
            },
            "type": "carpet"
           }
          ],
          "choropleth": [
           {
            "colorbar": {
             "outlinewidth": 0,
             "ticks": ""
            },
            "type": "choropleth"
           }
          ],
          "contour": [
           {
            "colorbar": {
             "outlinewidth": 0,
             "ticks": ""
            },
            "colorscale": [
             [
              0,
              "#0d0887"
             ],
             [
              0.1111111111111111,
              "#46039f"
             ],
             [
              0.2222222222222222,
              "#7201a8"
             ],
             [
              0.3333333333333333,
              "#9c179e"
             ],
             [
              0.4444444444444444,
              "#bd3786"
             ],
             [
              0.5555555555555556,
              "#d8576b"
             ],
             [
              0.6666666666666666,
              "#ed7953"
             ],
             [
              0.7777777777777778,
              "#fb9f3a"
             ],
             [
              0.8888888888888888,
              "#fdca26"
             ],
             [
              1,
              "#f0f921"
             ]
            ],
            "type": "contour"
           }
          ],
          "contourcarpet": [
           {
            "colorbar": {
             "outlinewidth": 0,
             "ticks": ""
            },
            "type": "contourcarpet"
           }
          ],
          "heatmap": [
           {
            "colorbar": {
             "outlinewidth": 0,
             "ticks": ""
            },
            "colorscale": [
             [
              0,
              "#0d0887"
             ],
             [
              0.1111111111111111,
              "#46039f"
             ],
             [
              0.2222222222222222,
              "#7201a8"
             ],
             [
              0.3333333333333333,
              "#9c179e"
             ],
             [
              0.4444444444444444,
              "#bd3786"
             ],
             [
              0.5555555555555556,
              "#d8576b"
             ],
             [
              0.6666666666666666,
              "#ed7953"
             ],
             [
              0.7777777777777778,
              "#fb9f3a"
             ],
             [
              0.8888888888888888,
              "#fdca26"
             ],
             [
              1,
              "#f0f921"
             ]
            ],
            "type": "heatmap"
           }
          ],
          "heatmapgl": [
           {
            "colorbar": {
             "outlinewidth": 0,
             "ticks": ""
            },
            "colorscale": [
             [
              0,
              "#0d0887"
             ],
             [
              0.1111111111111111,
              "#46039f"
             ],
             [
              0.2222222222222222,
              "#7201a8"
             ],
             [
              0.3333333333333333,
              "#9c179e"
             ],
             [
              0.4444444444444444,
              "#bd3786"
             ],
             [
              0.5555555555555556,
              "#d8576b"
             ],
             [
              0.6666666666666666,
              "#ed7953"
             ],
             [
              0.7777777777777778,
              "#fb9f3a"
             ],
             [
              0.8888888888888888,
              "#fdca26"
             ],
             [
              1,
              "#f0f921"
             ]
            ],
            "type": "heatmapgl"
           }
          ],
          "histogram": [
           {
            "marker": {
             "pattern": {
              "fillmode": "overlay",
              "size": 10,
              "solidity": 0.2
             }
            },
            "type": "histogram"
           }
          ],
          "histogram2d": [
           {
            "colorbar": {
             "outlinewidth": 0,
             "ticks": ""
            },
            "colorscale": [
             [
              0,
              "#0d0887"
             ],
             [
              0.1111111111111111,
              "#46039f"
             ],
             [
              0.2222222222222222,
              "#7201a8"
             ],
             [
              0.3333333333333333,
              "#9c179e"
             ],
             [
              0.4444444444444444,
              "#bd3786"
             ],
             [
              0.5555555555555556,
              "#d8576b"
             ],
             [
              0.6666666666666666,
              "#ed7953"
             ],
             [
              0.7777777777777778,
              "#fb9f3a"
             ],
             [
              0.8888888888888888,
              "#fdca26"
             ],
             [
              1,
              "#f0f921"
             ]
            ],
            "type": "histogram2d"
           }
          ],
          "histogram2dcontour": [
           {
            "colorbar": {
             "outlinewidth": 0,
             "ticks": ""
            },
            "colorscale": [
             [
              0,
              "#0d0887"
             ],
             [
              0.1111111111111111,
              "#46039f"
             ],
             [
              0.2222222222222222,
              "#7201a8"
             ],
             [
              0.3333333333333333,
              "#9c179e"
             ],
             [
              0.4444444444444444,
              "#bd3786"
             ],
             [
              0.5555555555555556,
              "#d8576b"
             ],
             [
              0.6666666666666666,
              "#ed7953"
             ],
             [
              0.7777777777777778,
              "#fb9f3a"
             ],
             [
              0.8888888888888888,
              "#fdca26"
             ],
             [
              1,
              "#f0f921"
             ]
            ],
            "type": "histogram2dcontour"
           }
          ],
          "mesh3d": [
           {
            "colorbar": {
             "outlinewidth": 0,
             "ticks": ""
            },
            "type": "mesh3d"
           }
          ],
          "parcoords": [
           {
            "line": {
             "colorbar": {
              "outlinewidth": 0,
              "ticks": ""
             }
            },
            "type": "parcoords"
           }
          ],
          "pie": [
           {
            "automargin": true,
            "type": "pie"
           }
          ],
          "scatter": [
           {
            "fillpattern": {
             "fillmode": "overlay",
             "size": 10,
             "solidity": 0.2
            },
            "type": "scatter"
           }
          ],
          "scatter3d": [
           {
            "line": {
             "colorbar": {
              "outlinewidth": 0,
              "ticks": ""
             }
            },
            "marker": {
             "colorbar": {
              "outlinewidth": 0,
              "ticks": ""
             }
            },
            "type": "scatter3d"
           }
          ],
          "scattercarpet": [
           {
            "marker": {
             "colorbar": {
              "outlinewidth": 0,
              "ticks": ""
             }
            },
            "type": "scattercarpet"
           }
          ],
          "scattergeo": [
           {
            "marker": {
             "colorbar": {
              "outlinewidth": 0,
              "ticks": ""
             }
            },
            "type": "scattergeo"
           }
          ],
          "scattergl": [
           {
            "marker": {
             "colorbar": {
              "outlinewidth": 0,
              "ticks": ""
             }
            },
            "type": "scattergl"
           }
          ],
          "scattermapbox": [
           {
            "marker": {
             "colorbar": {
              "outlinewidth": 0,
              "ticks": ""
             }
            },
            "type": "scattermapbox"
           }
          ],
          "scatterpolar": [
           {
            "marker": {
             "colorbar": {
              "outlinewidth": 0,
              "ticks": ""
             }
            },
            "type": "scatterpolar"
           }
          ],
          "scatterpolargl": [
           {
            "marker": {
             "colorbar": {
              "outlinewidth": 0,
              "ticks": ""
             }
            },
            "type": "scatterpolargl"
           }
          ],
          "scatterternary": [
           {
            "marker": {
             "colorbar": {
              "outlinewidth": 0,
              "ticks": ""
             }
            },
            "type": "scatterternary"
           }
          ],
          "surface": [
           {
            "colorbar": {
             "outlinewidth": 0,
             "ticks": ""
            },
            "colorscale": [
             [
              0,
              "#0d0887"
             ],
             [
              0.1111111111111111,
              "#46039f"
             ],
             [
              0.2222222222222222,
              "#7201a8"
             ],
             [
              0.3333333333333333,
              "#9c179e"
             ],
             [
              0.4444444444444444,
              "#bd3786"
             ],
             [
              0.5555555555555556,
              "#d8576b"
             ],
             [
              0.6666666666666666,
              "#ed7953"
             ],
             [
              0.7777777777777778,
              "#fb9f3a"
             ],
             [
              0.8888888888888888,
              "#fdca26"
             ],
             [
              1,
              "#f0f921"
             ]
            ],
            "type": "surface"
           }
          ],
          "table": [
           {
            "cells": {
             "fill": {
              "color": "#EBF0F8"
             },
             "line": {
              "color": "white"
             }
            },
            "header": {
             "fill": {
              "color": "#C8D4E3"
             },
             "line": {
              "color": "white"
             }
            },
            "type": "table"
           }
          ]
         },
         "layout": {
          "annotationdefaults": {
           "arrowcolor": "#2a3f5f",
           "arrowhead": 0,
           "arrowwidth": 1
          },
          "autotypenumbers": "strict",
          "coloraxis": {
           "colorbar": {
            "outlinewidth": 0,
            "ticks": ""
           }
          },
          "colorscale": {
           "diverging": [
            [
             0,
             "#8e0152"
            ],
            [
             0.1,
             "#c51b7d"
            ],
            [
             0.2,
             "#de77ae"
            ],
            [
             0.3,
             "#f1b6da"
            ],
            [
             0.4,
             "#fde0ef"
            ],
            [
             0.5,
             "#f7f7f7"
            ],
            [
             0.6,
             "#e6f5d0"
            ],
            [
             0.7,
             "#b8e186"
            ],
            [
             0.8,
             "#7fbc41"
            ],
            [
             0.9,
             "#4d9221"
            ],
            [
             1,
             "#276419"
            ]
           ],
           "sequential": [
            [
             0,
             "#0d0887"
            ],
            [
             0.1111111111111111,
             "#46039f"
            ],
            [
             0.2222222222222222,
             "#7201a8"
            ],
            [
             0.3333333333333333,
             "#9c179e"
            ],
            [
             0.4444444444444444,
             "#bd3786"
            ],
            [
             0.5555555555555556,
             "#d8576b"
            ],
            [
             0.6666666666666666,
             "#ed7953"
            ],
            [
             0.7777777777777778,
             "#fb9f3a"
            ],
            [
             0.8888888888888888,
             "#fdca26"
            ],
            [
             1,
             "#f0f921"
            ]
           ],
           "sequentialminus": [
            [
             0,
             "#0d0887"
            ],
            [
             0.1111111111111111,
             "#46039f"
            ],
            [
             0.2222222222222222,
             "#7201a8"
            ],
            [
             0.3333333333333333,
             "#9c179e"
            ],
            [
             0.4444444444444444,
             "#bd3786"
            ],
            [
             0.5555555555555556,
             "#d8576b"
            ],
            [
             0.6666666666666666,
             "#ed7953"
            ],
            [
             0.7777777777777778,
             "#fb9f3a"
            ],
            [
             0.8888888888888888,
             "#fdca26"
            ],
            [
             1,
             "#f0f921"
            ]
           ]
          },
          "colorway": [
           "#636efa",
           "#EF553B",
           "#00cc96",
           "#ab63fa",
           "#FFA15A",
           "#19d3f3",
           "#FF6692",
           "#B6E880",
           "#FF97FF",
           "#FECB52"
          ],
          "font": {
           "color": "#2a3f5f"
          },
          "geo": {
           "bgcolor": "white",
           "lakecolor": "white",
           "landcolor": "#E5ECF6",
           "showlakes": true,
           "showland": true,
           "subunitcolor": "white"
          },
          "hoverlabel": {
           "align": "left"
          },
          "hovermode": "closest",
          "mapbox": {
           "style": "light"
          },
          "paper_bgcolor": "white",
          "plot_bgcolor": "#E5ECF6",
          "polar": {
           "angularaxis": {
            "gridcolor": "white",
            "linecolor": "white",
            "ticks": ""
           },
           "bgcolor": "#E5ECF6",
           "radialaxis": {
            "gridcolor": "white",
            "linecolor": "white",
            "ticks": ""
           }
          },
          "scene": {
           "xaxis": {
            "backgroundcolor": "#E5ECF6",
            "gridcolor": "white",
            "gridwidth": 2,
            "linecolor": "white",
            "showbackground": true,
            "ticks": "",
            "zerolinecolor": "white"
           },
           "yaxis": {
            "backgroundcolor": "#E5ECF6",
            "gridcolor": "white",
            "gridwidth": 2,
            "linecolor": "white",
            "showbackground": true,
            "ticks": "",
            "zerolinecolor": "white"
           },
           "zaxis": {
            "backgroundcolor": "#E5ECF6",
            "gridcolor": "white",
            "gridwidth": 2,
            "linecolor": "white",
            "showbackground": true,
            "ticks": "",
            "zerolinecolor": "white"
           }
          },
          "shapedefaults": {
           "line": {
            "color": "#2a3f5f"
           }
          },
          "ternary": {
           "aaxis": {
            "gridcolor": "white",
            "linecolor": "white",
            "ticks": ""
           },
           "baxis": {
            "gridcolor": "white",
            "linecolor": "white",
            "ticks": ""
           },
           "bgcolor": "#E5ECF6",
           "caxis": {
            "gridcolor": "white",
            "linecolor": "white",
            "ticks": ""
           }
          },
          "title": {
           "x": 0.05
          },
          "xaxis": {
           "automargin": true,
           "gridcolor": "white",
           "linecolor": "white",
           "ticks": "",
           "title": {
            "standoff": 15
           },
           "zerolinecolor": "white",
           "zerolinewidth": 2
          },
          "yaxis": {
           "automargin": true,
           "gridcolor": "white",
           "linecolor": "white",
           "ticks": "",
           "title": {
            "standoff": 15
           },
           "zerolinecolor": "white",
           "zerolinewidth": 2
          }
         }
        },
        "title": {
         "text": "Ideal vs RTL, RMSE=0.05, SNR=57.76"
        },
        "width": 400,
        "xaxis": {
         "anchor": "y",
         "domain": [
          0,
          1
         ],
         "title": {
          "text": "RTL"
         }
        },
        "yaxis": {
         "anchor": "x",
         "domain": [
          0,
          1
         ],
         "title": {
          "text": "Ideal"
         }
        }
       }
      },
      "text/html": [
       "<div>                            <div id=\"62f86f2f-24c5-41f4-9f99-d82f5be89877\" class=\"plotly-graph-div\" style=\"height:400px; width:400px;\"></div>            <script type=\"text/javascript\">                require([\"plotly\"], function(Plotly) {                    window.PLOTLYENV=window.PLOTLYENV || {};                                    if (document.getElementById(\"62f86f2f-24c5-41f4-9f99-d82f5be89877\")) {                    Plotly.newPlot(                        \"62f86f2f-24c5-41f4-9f99-d82f5be89877\",                        [{\"hovertemplate\":\"RTL=%{x}\\u003cbr\\u003eIdeal=%{y}\\u003cextra\\u003e\\u003c\\u002fextra\\u003e\",\"legendgroup\":\"\",\"marker\":{\"color\":\"#636efa\",\"symbol\":\"circle\"},\"mode\":\"markers\",\"name\":\"\",\"orientation\":\"v\",\"showlegend\":false,\"x\":[-52.0,56.0,-10.0,-12.0,30.0,-30.0,-14.0,-24.0,-82.0,98.0,-72.0,-8.0,-80.0,46.0,-2.0,82.0,-52.0,-22.0,22.0,-76.0,-34.0,-64.0,-20.0,-52.0,22.0,30.0,16.0,66.0,-38.0,90.0,-100.0,22.0,-34.0,8.0,20.0,-92.0,-22.0,42.0,42.0,24.0,-76.0,-76.0,-98.0,78.0,36.0,-24.0,-24.0,6.0,44.0,30.0,-4.0,-52.0,8.0,-10.0,16.0,-76.0,54.0,-46.0,34.0,-70.0,-4.0,34.0,2.0,98.0,46.0,-112.0,66.0,26.0,-50.0,-64.0,-32.0,78.0,24.0,14.0,78.0,-22.0,-36.0,-22.0,-36.0,8.0,58.0,-62.0,-96.0,42.0,22.0,14.0,36.0,-36.0,-74.0,98.0,-58.0,90.0,36.0,2.0,12.0,78.0,88.0,-38.0,-28.0,6.0,32.0,54.0,-20.0,-102.0,26.0,4.0,-12.0,54.0,-112.0,-80.0,58.0,14.0,-28.0,34.0,24.0,-64.0,42.0,-48.0,-56.0,-112.0,-68.0,56.0,-80.0,-10.0,98.0,-20.0,10.0,-4.0,-34.0,-64.0,-80.0,-30.0,-14.0,66.0,22.0,-2.0,-32.0,-52.0,42.0,-8.0,-12.0,-112.0,46.0,36.0,-12.0,-20.0,-52.0,-70.0,-22.0,18.0,42.0,0.0,-72.0,-60.0,-18.0,-44.0,98.0,50.0,42.0,30.0,12.0,-16.0,-30.0,-16.0,-58.0,20.0,-24.0,18.0,98.0,-56.0,-48.0,-34.0,-26.0,66.0,-8.0,-60.0,30.0,-112.0,-34.0,84.0,26.0,-96.0,-46.0,20.0,50.0,-32.0,-22.0,-112.0,-66.0,4.0,2.0,-66.0,84.0,-56.0,-14.0,-24.0,-64.0,-52.0,-22.0,-30.0,6.0,-6.0,-40.0,-72.0,14.0,-64.0,-28.0,18.0,-26.0,82.0,-40.0,86.0,-8.0,-20.0,-2.0,-32.0,38.0,-88.0,52.0,12.0,12.0,50.0,22.0,90.0,50.0,-112.0,-84.0,22.0,-80.0,20.0,-104.0,98.0,48.0,12.0,-22.0,34.0,42.0,-58.0,-112.0,-64.0,-112.0,-112.0,38.0,66.0,8.0,-4.0,40.0,-96.0,-20.0,-14.0,56.0,-26.0,-16.0,46.0,-88.0,26.0,98.0,0.0,-72.0,-64.0,58.0,-76.0,6.0,22.0,-32.0,82.0,-28.0,32.0,-8.0,52.0,-72.0,48.0,-40.0,14.0,58.0,68.0,48.0,-28.0,-56.0,50.0,70.0,-112.0,-24.0,-56.0,34.0,66.0,-98.0,30.0,-24.0,-84.0,14.0,-16.0,-82.0,-2.0,58.0,-80.0,-98.0,-56.0,74.0,-104.0,62.0,8.0,-20.0,-80.0,-52.0,-22.0,-22.0,8.0,-52.0,-4.0,98.0,-98.0,20.0,-98.0,80.0,66.0,72.0,-2.0,-48.0,70.0],\"xaxis\":\"x\",\"y\":[-38,54,-4,-6,30,-24,-8,-18,-60,68,-66,-2,-78,46,4,76,-44,-16,24,-58,-28,-40,-16,-22,22,36,22,58,-24,60,-118,22,-28,14,26,-50,-16,36,42,30,-46,-46,-64,72,42,-18,-18,12,42,30,2,-40,14,8,22,-50,60,-40,36,-64,8,28,8,112,48,-80,48,24,-40,-34,-26,96,10,20,54,-4,-24,-22,-30,14,64,-40,-86,44,28,20,42,-26,-60,70,-56,92,42,8,18,54,61,-29,-27,7,33,55,-19,-77,25,5,-11,31,-89,-71,51,15,-25,35,25,-65,31,-43,-51,-83,-43,41,-79,-9,77,-13,11,3,-28,-52,-78,-24,-8,76,28,4,-26,-46,36,-2,-6,-118,48,22,-6,-14,-38,-56,-16,26,34,6,-90,-54,-12,-36,102,32,36,36,17,-11,-21,-11,-53,25,-19,19,147,-37,-37,-21,-21,53,-3,-43,35,-161,-29,93,27,-79,-33,13,39,-21,-17,-65,-61,15,3,-53,69,-49,-9,-19,-35,-35,-17,-25,11,-1,-35,-51,19,-59,-23,15,-27,51,-37,115,-3,-3,3,-27,43,-91,53,17,17,37,33,83,47,-103,-79,27,-57,25,-83,113,45,5,-17,33,23,-43,-81,-51,-113,-65,35,59,13,1,45,-77,-15,-9,53,-25,-11,35,-69,13,142,4,-68,-64,54,-64,10,22,-28,74,-24,28,-4,48,-60,36,-24,18,58,72,40,-24,-48,30,66,-88,-20,-46,22,54,-74,28,-17,-53,21,-9,-51,5,57,-43,-55,-37,83,-73,45,15,-13,-97,-37,-7,-15,15,-33,3,105,-87,27,-71,75,69,63,5,-41,69],\"yaxis\":\"y\",\"type\":\"scatter\"}],                        {\"template\":{\"data\":{\"histogram2dcontour\":[{\"type\":\"histogram2dcontour\",\"colorbar\":{\"outlinewidth\":0,\"ticks\":\"\"},\"colorscale\":[[0.0,\"#0d0887\"],[0.1111111111111111,\"#46039f\"],[0.2222222222222222,\"#7201a8\"],[0.3333333333333333,\"#9c179e\"],[0.4444444444444444,\"#bd3786\"],[0.5555555555555556,\"#d8576b\"],[0.6666666666666666,\"#ed7953\"],[0.7777777777777778,\"#fb9f3a\"],[0.8888888888888888,\"#fdca26\"],[1.0,\"#f0f921\"]]}],\"choropleth\":[{\"type\":\"choropleth\",\"colorbar\":{\"outlinewidth\":0,\"ticks\":\"\"}}],\"histogram2d\":[{\"type\":\"histogram2d\",\"colorbar\":{\"outlinewidth\":0,\"ticks\":\"\"},\"colorscale\":[[0.0,\"#0d0887\"],[0.1111111111111111,\"#46039f\"],[0.2222222222222222,\"#7201a8\"],[0.3333333333333333,\"#9c179e\"],[0.4444444444444444,\"#bd3786\"],[0.5555555555555556,\"#d8576b\"],[0.6666666666666666,\"#ed7953\"],[0.7777777777777778,\"#fb9f3a\"],[0.8888888888888888,\"#fdca26\"],[1.0,\"#f0f921\"]]}],\"heatmap\":[{\"type\":\"heatmap\",\"colorbar\":{\"outlinewidth\":0,\"ticks\":\"\"},\"colorscale\":[[0.0,\"#0d0887\"],[0.1111111111111111,\"#46039f\"],[0.2222222222222222,\"#7201a8\"],[0.3333333333333333,\"#9c179e\"],[0.4444444444444444,\"#bd3786\"],[0.5555555555555556,\"#d8576b\"],[0.6666666666666666,\"#ed7953\"],[0.7777777777777778,\"#fb9f3a\"],[0.8888888888888888,\"#fdca26\"],[1.0,\"#f0f921\"]]}],\"heatmapgl\":[{\"type\":\"heatmapgl\",\"colorbar\":{\"outlinewidth\":0,\"ticks\":\"\"},\"colorscale\":[[0.0,\"#0d0887\"],[0.1111111111111111,\"#46039f\"],[0.2222222222222222,\"#7201a8\"],[0.3333333333333333,\"#9c179e\"],[0.4444444444444444,\"#bd3786\"],[0.5555555555555556,\"#d8576b\"],[0.6666666666666666,\"#ed7953\"],[0.7777777777777778,\"#fb9f3a\"],[0.8888888888888888,\"#fdca26\"],[1.0,\"#f0f921\"]]}],\"contourcarpet\":[{\"type\":\"contourcarpet\",\"colorbar\":{\"outlinewidth\":0,\"ticks\":\"\"}}],\"contour\":[{\"type\":\"contour\",\"colorbar\":{\"outlinewidth\":0,\"ticks\":\"\"},\"colorscale\":[[0.0,\"#0d0887\"],[0.1111111111111111,\"#46039f\"],[0.2222222222222222,\"#7201a8\"],[0.3333333333333333,\"#9c179e\"],[0.4444444444444444,\"#bd3786\"],[0.5555555555555556,\"#d8576b\"],[0.6666666666666666,\"#ed7953\"],[0.7777777777777778,\"#fb9f3a\"],[0.8888888888888888,\"#fdca26\"],[1.0,\"#f0f921\"]]}],\"surface\":[{\"type\":\"surface\",\"colorbar\":{\"outlinewidth\":0,\"ticks\":\"\"},\"colorscale\":[[0.0,\"#0d0887\"],[0.1111111111111111,\"#46039f\"],[0.2222222222222222,\"#7201a8\"],[0.3333333333333333,\"#9c179e\"],[0.4444444444444444,\"#bd3786\"],[0.5555555555555556,\"#d8576b\"],[0.6666666666666666,\"#ed7953\"],[0.7777777777777778,\"#fb9f3a\"],[0.8888888888888888,\"#fdca26\"],[1.0,\"#f0f921\"]]}],\"mesh3d\":[{\"type\":\"mesh3d\",\"colorbar\":{\"outlinewidth\":0,\"ticks\":\"\"}}],\"scatter\":[{\"fillpattern\":{\"fillmode\":\"overlay\",\"size\":10,\"solidity\":0.2},\"type\":\"scatter\"}],\"parcoords\":[{\"type\":\"parcoords\",\"line\":{\"colorbar\":{\"outlinewidth\":0,\"ticks\":\"\"}}}],\"scatterpolargl\":[{\"type\":\"scatterpolargl\",\"marker\":{\"colorbar\":{\"outlinewidth\":0,\"ticks\":\"\"}}}],\"bar\":[{\"error_x\":{\"color\":\"#2a3f5f\"},\"error_y\":{\"color\":\"#2a3f5f\"},\"marker\":{\"line\":{\"color\":\"#E5ECF6\",\"width\":0.5},\"pattern\":{\"fillmode\":\"overlay\",\"size\":10,\"solidity\":0.2}},\"type\":\"bar\"}],\"scattergeo\":[{\"type\":\"scattergeo\",\"marker\":{\"colorbar\":{\"outlinewidth\":0,\"ticks\":\"\"}}}],\"scatterpolar\":[{\"type\":\"scatterpolar\",\"marker\":{\"colorbar\":{\"outlinewidth\":0,\"ticks\":\"\"}}}],\"histogram\":[{\"marker\":{\"pattern\":{\"fillmode\":\"overlay\",\"size\":10,\"solidity\":0.2}},\"type\":\"histogram\"}],\"scattergl\":[{\"type\":\"scattergl\",\"marker\":{\"colorbar\":{\"outlinewidth\":0,\"ticks\":\"\"}}}],\"scatter3d\":[{\"type\":\"scatter3d\",\"line\":{\"colorbar\":{\"outlinewidth\":0,\"ticks\":\"\"}},\"marker\":{\"colorbar\":{\"outlinewidth\":0,\"ticks\":\"\"}}}],\"scattermapbox\":[{\"type\":\"scattermapbox\",\"marker\":{\"colorbar\":{\"outlinewidth\":0,\"ticks\":\"\"}}}],\"scatterternary\":[{\"type\":\"scatterternary\",\"marker\":{\"colorbar\":{\"outlinewidth\":0,\"ticks\":\"\"}}}],\"scattercarpet\":[{\"type\":\"scattercarpet\",\"marker\":{\"colorbar\":{\"outlinewidth\":0,\"ticks\":\"\"}}}],\"carpet\":[{\"aaxis\":{\"endlinecolor\":\"#2a3f5f\",\"gridcolor\":\"white\",\"linecolor\":\"white\",\"minorgridcolor\":\"white\",\"startlinecolor\":\"#2a3f5f\"},\"baxis\":{\"endlinecolor\":\"#2a3f5f\",\"gridcolor\":\"white\",\"linecolor\":\"white\",\"minorgridcolor\":\"white\",\"startlinecolor\":\"#2a3f5f\"},\"type\":\"carpet\"}],\"table\":[{\"cells\":{\"fill\":{\"color\":\"#EBF0F8\"},\"line\":{\"color\":\"white\"}},\"header\":{\"fill\":{\"color\":\"#C8D4E3\"},\"line\":{\"color\":\"white\"}},\"type\":\"table\"}],\"barpolar\":[{\"marker\":{\"line\":{\"color\":\"#E5ECF6\",\"width\":0.5},\"pattern\":{\"fillmode\":\"overlay\",\"size\":10,\"solidity\":0.2}},\"type\":\"barpolar\"}],\"pie\":[{\"automargin\":true,\"type\":\"pie\"}]},\"layout\":{\"autotypenumbers\":\"strict\",\"colorway\":[\"#636efa\",\"#EF553B\",\"#00cc96\",\"#ab63fa\",\"#FFA15A\",\"#19d3f3\",\"#FF6692\",\"#B6E880\",\"#FF97FF\",\"#FECB52\"],\"font\":{\"color\":\"#2a3f5f\"},\"hovermode\":\"closest\",\"hoverlabel\":{\"align\":\"left\"},\"paper_bgcolor\":\"white\",\"plot_bgcolor\":\"#E5ECF6\",\"polar\":{\"bgcolor\":\"#E5ECF6\",\"angularaxis\":{\"gridcolor\":\"white\",\"linecolor\":\"white\",\"ticks\":\"\"},\"radialaxis\":{\"gridcolor\":\"white\",\"linecolor\":\"white\",\"ticks\":\"\"}},\"ternary\":{\"bgcolor\":\"#E5ECF6\",\"aaxis\":{\"gridcolor\":\"white\",\"linecolor\":\"white\",\"ticks\":\"\"},\"baxis\":{\"gridcolor\":\"white\",\"linecolor\":\"white\",\"ticks\":\"\"},\"caxis\":{\"gridcolor\":\"white\",\"linecolor\":\"white\",\"ticks\":\"\"}},\"coloraxis\":{\"colorbar\":{\"outlinewidth\":0,\"ticks\":\"\"}},\"colorscale\":{\"sequential\":[[0.0,\"#0d0887\"],[0.1111111111111111,\"#46039f\"],[0.2222222222222222,\"#7201a8\"],[0.3333333333333333,\"#9c179e\"],[0.4444444444444444,\"#bd3786\"],[0.5555555555555556,\"#d8576b\"],[0.6666666666666666,\"#ed7953\"],[0.7777777777777778,\"#fb9f3a\"],[0.8888888888888888,\"#fdca26\"],[1.0,\"#f0f921\"]],\"sequentialminus\":[[0.0,\"#0d0887\"],[0.1111111111111111,\"#46039f\"],[0.2222222222222222,\"#7201a8\"],[0.3333333333333333,\"#9c179e\"],[0.4444444444444444,\"#bd3786\"],[0.5555555555555556,\"#d8576b\"],[0.6666666666666666,\"#ed7953\"],[0.7777777777777778,\"#fb9f3a\"],[0.8888888888888888,\"#fdca26\"],[1.0,\"#f0f921\"]],\"diverging\":[[0,\"#8e0152\"],[0.1,\"#c51b7d\"],[0.2,\"#de77ae\"],[0.3,\"#f1b6da\"],[0.4,\"#fde0ef\"],[0.5,\"#f7f7f7\"],[0.6,\"#e6f5d0\"],[0.7,\"#b8e186\"],[0.8,\"#7fbc41\"],[0.9,\"#4d9221\"],[1,\"#276419\"]]},\"xaxis\":{\"gridcolor\":\"white\",\"linecolor\":\"white\",\"ticks\":\"\",\"title\":{\"standoff\":15},\"zerolinecolor\":\"white\",\"automargin\":true,\"zerolinewidth\":2},\"yaxis\":{\"gridcolor\":\"white\",\"linecolor\":\"white\",\"ticks\":\"\",\"title\":{\"standoff\":15},\"zerolinecolor\":\"white\",\"automargin\":true,\"zerolinewidth\":2},\"scene\":{\"xaxis\":{\"backgroundcolor\":\"#E5ECF6\",\"gridcolor\":\"white\",\"linecolor\":\"white\",\"showbackground\":true,\"ticks\":\"\",\"zerolinecolor\":\"white\",\"gridwidth\":2},\"yaxis\":{\"backgroundcolor\":\"#E5ECF6\",\"gridcolor\":\"white\",\"linecolor\":\"white\",\"showbackground\":true,\"ticks\":\"\",\"zerolinecolor\":\"white\",\"gridwidth\":2},\"zaxis\":{\"backgroundcolor\":\"#E5ECF6\",\"gridcolor\":\"white\",\"linecolor\":\"white\",\"showbackground\":true,\"ticks\":\"\",\"zerolinecolor\":\"white\",\"gridwidth\":2}},\"shapedefaults\":{\"line\":{\"color\":\"#2a3f5f\"}},\"annotationdefaults\":{\"arrowcolor\":\"#2a3f5f\",\"arrowhead\":0,\"arrowwidth\":1},\"geo\":{\"bgcolor\":\"white\",\"landcolor\":\"#E5ECF6\",\"subunitcolor\":\"white\",\"showland\":true,\"showlakes\":true,\"lakecolor\":\"white\"},\"title\":{\"x\":0.05},\"mapbox\":{\"style\":\"light\"}}},\"xaxis\":{\"anchor\":\"y\",\"domain\":[0.0,1.0],\"title\":{\"text\":\"RTL\"}},\"yaxis\":{\"anchor\":\"x\",\"domain\":[0.0,1.0],\"title\":{\"text\":\"Ideal\"}},\"legend\":{\"tracegroupgap\":0},\"title\":{\"text\":\"Ideal vs RTL, RMSE=0.05, SNR=57.76\"},\"height\":400,\"width\":400},                        {\"responsive\": true}                    ).then(function(){\n",
       "                            \n",
       "var gd = document.getElementById('62f86f2f-24c5-41f4-9f99-d82f5be89877');\n",
       "var x = new MutationObserver(function (mutations, observer) {{\n",
       "        var display = window.getComputedStyle(gd).display;\n",
       "        if (!display || display === 'none') {{\n",
       "            console.log([gd, 'removed!']);\n",
       "            Plotly.purge(gd);\n",
       "            observer.disconnect();\n",
       "        }}\n",
       "}});\n",
       "\n",
       "// Listen for the removal of the full notebook cells\n",
       "var notebookContainer = gd.closest('#notebook-container');\n",
       "if (notebookContainer) {{\n",
       "    x.observe(notebookContainer, {childList: true});\n",
       "}}\n",
       "\n",
       "// Listen for the clearing of the current output cell\n",
       "var outputEl = gd.closest('.output');\n",
       "if (outputEl) {{\n",
       "    x.observe(outputEl, {childList: true});\n",
       "}}\n",
       "\n",
       "                        })                };                });            </script>        </div>"
      ]
     },
     "metadata": {},
     "output_type": "display_data"
    }
   ],
   "source": [
    "w,x,wx_outBits = generate_qracc_inputs(\n",
    "    wDimX = 32, #nColumns\n",
    "    wDimY = 128, #nRows\n",
    "    xBatches = 10,\n",
    "    xTrits = 3,\n",
    "    outBits = 4,\n",
    "    seed = 0,\n",
    "    weight_mode = 'bipolar',\n",
    "    col_symmetric=False\n",
    ")\n",
    "\n",
    "# ams = np.loadtxt('../tb/seq_acc/inputs/adc_out.txt')\n",
    "rtl = np.loadtxt('../tb/seq_acc/inputs/mac_out_rtlsims.txt')\n",
    "\n",
    "wx = w @ x.T\n",
    "\n",
    "# rtl.astype(int), wx[::-1].T\n",
    "\n",
    "rtl_fp = rtl.flatten()/(2**8)\n",
    "wx_fp = wx[::-1].T.flatten()/(2**8)\n",
    "\n",
    "rmse = np.sqrt(np.mean((rtl_fp - wx_fp)**2))\n",
    "# SNR\n",
    "\n",
    "err = rtl_fp - wx_fp\n",
    "snr = 20*np.log(np.var(rtl_fp) / np.var(err))\n",
    "\n",
    "fig = px.scatter(\n",
    "    x=rtl.flatten(), \n",
    "    y=wx[::-1].T.flatten(), \n",
    "    width=400, \n",
    "    height=400, \n",
    "    title=f'Ideal vs RTL, RMSE={rmse:.2f}, SNR={snr:.2f}', \n",
    "    labels={'x': 'RTL', 'y': 'Ideal'}\n",
    ")\n",
    "fig.show()"
   ]
  },
  {
   "cell_type": "code",
   "execution_count": 440,
   "metadata": {},
   "outputs": [
    {
     "name": "stdout",
     "output_type": "stream",
     "text": [
      "x trits:\n",
      "     0  1  2\n",
      "0    0 -1 -1\n",
      "1    1  0  0\n",
      "2    0 -1  0\n",
      "3    0  1  0\n",
      "4   -1  0  0\n",
      "..  .. .. ..\n",
      "123 -1 -1  0\n",
      "124 -1  0  0\n",
      "125 -1 -1 -1\n",
      "126 -1  0  0\n",
      "127 -1 -1  0\n",
      "\n",
      "[128 rows x 3 columns]\n",
      "partials:\n",
      "   0   1   2   3   4   5   6   7   8   9   ...  22  23  24  25  26  27  28  \\\n",
      "0  -3  13  -1  -5   3  -5  -5   1 -11   9  ...  -7  -9   1   7   5   7  -1   \n",
      "1 -11   3   3   7   5  -3   3  -7  -5  11  ...  11   7   5  -3   1  11 -11   \n",
      "2  -4  -4  -6   0   8   2   6  -8  -6  10  ... -10   0   8  14   0   8   2   \n",
      "\n",
      "   29  30  31  \n",
      "0   9 -21   3  \n",
      "1   9 -15   1  \n",
      "2   6  -4   8  \n",
      "\n",
      "[3 rows x 32 columns]\n",
      "shifting accumulator:\n",
      "   0   1   2   3   4   5   6   7   8   9   ...  22  23  24  25  26  27  28  \\\n",
      "0 -16 -16 -24   0  32   8  24 -32 -24  40  ... -40   0  32  56   0  32   8   \n",
      "1 -52   4   0  28  36  -8  24 -44 -32  64  ...  24  28  36  16   4  60 -40   \n",
      "2 -38  54  -4  -6  30 -24  -8 -18 -60  68  ... -16 -22  22  36  22  58 -24   \n",
      "\n",
      "   29   30  31  \n",
      "0  24  -16  32  \n",
      "1  48  -68  20  \n",
      "2  60 -118  22  \n",
      "\n",
      "[3 rows x 32 columns]\n"
     ]
    },
    {
     "data": {
      "text/plain": [
       "array([  22., -118.,   60.,  -24.,   58.,   22.,   36.,   22.,  -22.,\n",
       "        -16.,  -40.,  -28.,  -58.,   24.,  -16.,  -44.,   76.,    4.,\n",
       "         46.,  -78.,   -2.,  -66.,   68.,  -60.,  -18.,   -8.,  -24.,\n",
       "         30.,   -6.,   -4.,   54.,  -38.])"
      ]
     },
     "execution_count": 440,
     "metadata": {},
     "output_type": "execute_result"
    }
   ],
   "source": [
    "q.simulate_trit_mul(w, x[0], trits = 3, verbose=True)"
   ]
  },
  {
   "cell_type": "code",
   "execution_count": 441,
   "metadata": {},
   "outputs": [
    {
     "data": {
      "text/plain": [
       "array([112,   8,  28,   8, -64,  36, -40,  60, -50,  22,   8,  14, -40,\n",
       "         2,  30,  42,  12, -18, -18,  42,  72, -64, -46, -46,  30,  42,\n",
       "        36, -16, -50,  26,  14, -28])"
      ]
     },
     "execution_count": 441,
     "metadata": {},
     "output_type": "execute_result"
    }
   ],
   "source": [
    "x[1] @ w.T"
   ]
  },
  {
   "cell_type": "code",
   "execution_count": 442,
   "metadata": {},
   "outputs": [
    {
     "data": {
      "text/html": [
       "<div>\n",
       "<style scoped>\n",
       "    .dataframe tbody tr th:only-of-type {\n",
       "        vertical-align: middle;\n",
       "    }\n",
       "\n",
       "    .dataframe tbody tr th {\n",
       "        vertical-align: top;\n",
       "    }\n",
       "\n",
       "    .dataframe thead th {\n",
       "        text-align: right;\n",
       "    }\n",
       "</style>\n",
       "<table border=\"1\" class=\"dataframe\">\n",
       "  <thead>\n",
       "    <tr style=\"text-align: right;\">\n",
       "      <th></th>\n",
       "      <th>0</th>\n",
       "      <th>1</th>\n",
       "      <th>2</th>\n",
       "      <th>3</th>\n",
       "      <th>4</th>\n",
       "      <th>5</th>\n",
       "      <th>6</th>\n",
       "      <th>7</th>\n",
       "      <th>8</th>\n",
       "      <th>9</th>\n",
       "      <th>...</th>\n",
       "      <th>22</th>\n",
       "      <th>23</th>\n",
       "      <th>24</th>\n",
       "      <th>25</th>\n",
       "      <th>26</th>\n",
       "      <th>27</th>\n",
       "      <th>28</th>\n",
       "      <th>29</th>\n",
       "      <th>30</th>\n",
       "      <th>31</th>\n",
       "    </tr>\n",
       "  </thead>\n",
       "  <tbody>\n",
       "    <tr>\n",
       "      <th>0</th>\n",
       "      <td>-52</td>\n",
       "      <td>56</td>\n",
       "      <td>-10</td>\n",
       "      <td>-12</td>\n",
       "      <td>30</td>\n",
       "      <td>-30</td>\n",
       "      <td>-14</td>\n",
       "      <td>-24</td>\n",
       "      <td>-82</td>\n",
       "      <td>98</td>\n",
       "      <td>...</td>\n",
       "      <td>-20</td>\n",
       "      <td>-52</td>\n",
       "      <td>22</td>\n",
       "      <td>30</td>\n",
       "      <td>16</td>\n",
       "      <td>66</td>\n",
       "      <td>-38</td>\n",
       "      <td>90</td>\n",
       "      <td>-100</td>\n",
       "      <td>22</td>\n",
       "    </tr>\n",
       "    <tr>\n",
       "      <th>1</th>\n",
       "      <td>-34</td>\n",
       "      <td>8</td>\n",
       "      <td>20</td>\n",
       "      <td>-92</td>\n",
       "      <td>-22</td>\n",
       "      <td>42</td>\n",
       "      <td>42</td>\n",
       "      <td>24</td>\n",
       "      <td>-76</td>\n",
       "      <td>-76</td>\n",
       "      <td>...</td>\n",
       "      <td>16</td>\n",
       "      <td>-76</td>\n",
       "      <td>54</td>\n",
       "      <td>-46</td>\n",
       "      <td>34</td>\n",
       "      <td>-70</td>\n",
       "      <td>-4</td>\n",
       "      <td>34</td>\n",
       "      <td>2</td>\n",
       "      <td>98</td>\n",
       "    </tr>\n",
       "    <tr>\n",
       "      <th>2</th>\n",
       "      <td>46</td>\n",
       "      <td>-112</td>\n",
       "      <td>66</td>\n",
       "      <td>26</td>\n",
       "      <td>-50</td>\n",
       "      <td>-64</td>\n",
       "      <td>-32</td>\n",
       "      <td>78</td>\n",
       "      <td>24</td>\n",
       "      <td>14</td>\n",
       "      <td>...</td>\n",
       "      <td>36</td>\n",
       "      <td>-36</td>\n",
       "      <td>-74</td>\n",
       "      <td>98</td>\n",
       "      <td>-58</td>\n",
       "      <td>90</td>\n",
       "      <td>36</td>\n",
       "      <td>2</td>\n",
       "      <td>12</td>\n",
       "      <td>78</td>\n",
       "    </tr>\n",
       "    <tr>\n",
       "      <th>3</th>\n",
       "      <td>88</td>\n",
       "      <td>-38</td>\n",
       "      <td>-28</td>\n",
       "      <td>6</td>\n",
       "      <td>32</td>\n",
       "      <td>54</td>\n",
       "      <td>-20</td>\n",
       "      <td>-102</td>\n",
       "      <td>26</td>\n",
       "      <td>4</td>\n",
       "      <td>...</td>\n",
       "      <td>-56</td>\n",
       "      <td>-112</td>\n",
       "      <td>-68</td>\n",
       "      <td>56</td>\n",
       "      <td>-80</td>\n",
       "      <td>-10</td>\n",
       "      <td>98</td>\n",
       "      <td>-20</td>\n",
       "      <td>10</td>\n",
       "      <td>-4</td>\n",
       "    </tr>\n",
       "    <tr>\n",
       "      <th>4</th>\n",
       "      <td>-34</td>\n",
       "      <td>-64</td>\n",
       "      <td>-80</td>\n",
       "      <td>-30</td>\n",
       "      <td>-14</td>\n",
       "      <td>66</td>\n",
       "      <td>22</td>\n",
       "      <td>-2</td>\n",
       "      <td>-32</td>\n",
       "      <td>-52</td>\n",
       "      <td>...</td>\n",
       "      <td>42</td>\n",
       "      <td>0</td>\n",
       "      <td>-72</td>\n",
       "      <td>-60</td>\n",
       "      <td>-18</td>\n",
       "      <td>-44</td>\n",
       "      <td>98</td>\n",
       "      <td>50</td>\n",
       "      <td>42</td>\n",
       "      <td>30</td>\n",
       "    </tr>\n",
       "    <tr>\n",
       "      <th>5</th>\n",
       "      <td>12</td>\n",
       "      <td>-16</td>\n",
       "      <td>-30</td>\n",
       "      <td>-16</td>\n",
       "      <td>-58</td>\n",
       "      <td>20</td>\n",
       "      <td>-24</td>\n",
       "      <td>18</td>\n",
       "      <td>98</td>\n",
       "      <td>-56</td>\n",
       "      <td>...</td>\n",
       "      <td>-46</td>\n",
       "      <td>20</td>\n",
       "      <td>50</td>\n",
       "      <td>-32</td>\n",
       "      <td>-22</td>\n",
       "      <td>-112</td>\n",
       "      <td>-66</td>\n",
       "      <td>4</td>\n",
       "      <td>2</td>\n",
       "      <td>-66</td>\n",
       "    </tr>\n",
       "    <tr>\n",
       "      <th>6</th>\n",
       "      <td>84</td>\n",
       "      <td>-56</td>\n",
       "      <td>-14</td>\n",
       "      <td>-24</td>\n",
       "      <td>-64</td>\n",
       "      <td>-52</td>\n",
       "      <td>-22</td>\n",
       "      <td>-30</td>\n",
       "      <td>6</td>\n",
       "      <td>-6</td>\n",
       "      <td>...</td>\n",
       "      <td>-2</td>\n",
       "      <td>-32</td>\n",
       "      <td>38</td>\n",
       "      <td>-88</td>\n",
       "      <td>52</td>\n",
       "      <td>12</td>\n",
       "      <td>12</td>\n",
       "      <td>50</td>\n",
       "      <td>22</td>\n",
       "      <td>90</td>\n",
       "    </tr>\n",
       "    <tr>\n",
       "      <th>7</th>\n",
       "      <td>50</td>\n",
       "      <td>-112</td>\n",
       "      <td>-84</td>\n",
       "      <td>22</td>\n",
       "      <td>-80</td>\n",
       "      <td>20</td>\n",
       "      <td>-104</td>\n",
       "      <td>98</td>\n",
       "      <td>48</td>\n",
       "      <td>12</td>\n",
       "      <td>...</td>\n",
       "      <td>40</td>\n",
       "      <td>-96</td>\n",
       "      <td>-20</td>\n",
       "      <td>-14</td>\n",
       "      <td>56</td>\n",
       "      <td>-26</td>\n",
       "      <td>-16</td>\n",
       "      <td>46</td>\n",
       "      <td>-88</td>\n",
       "      <td>26</td>\n",
       "    </tr>\n",
       "    <tr>\n",
       "      <th>8</th>\n",
       "      <td>98</td>\n",
       "      <td>0</td>\n",
       "      <td>-72</td>\n",
       "      <td>-64</td>\n",
       "      <td>58</td>\n",
       "      <td>-76</td>\n",
       "      <td>6</td>\n",
       "      <td>22</td>\n",
       "      <td>-32</td>\n",
       "      <td>82</td>\n",
       "      <td>...</td>\n",
       "      <td>-56</td>\n",
       "      <td>50</td>\n",
       "      <td>70</td>\n",
       "      <td>-112</td>\n",
       "      <td>-24</td>\n",
       "      <td>-56</td>\n",
       "      <td>34</td>\n",
       "      <td>66</td>\n",
       "      <td>-98</td>\n",
       "      <td>30</td>\n",
       "    </tr>\n",
       "    <tr>\n",
       "      <th>9</th>\n",
       "      <td>-24</td>\n",
       "      <td>-84</td>\n",
       "      <td>14</td>\n",
       "      <td>-16</td>\n",
       "      <td>-82</td>\n",
       "      <td>-2</td>\n",
       "      <td>58</td>\n",
       "      <td>-80</td>\n",
       "      <td>-98</td>\n",
       "      <td>-56</td>\n",
       "      <td>...</td>\n",
       "      <td>98</td>\n",
       "      <td>-98</td>\n",
       "      <td>20</td>\n",
       "      <td>-98</td>\n",
       "      <td>80</td>\n",
       "      <td>66</td>\n",
       "      <td>72</td>\n",
       "      <td>-2</td>\n",
       "      <td>-48</td>\n",
       "      <td>70</td>\n",
       "    </tr>\n",
       "  </tbody>\n",
       "</table>\n",
       "<p>10 rows × 32 columns</p>\n",
       "</div>"
      ],
      "text/plain": [
       "   0    1   2   3   4   5    6    7   8   9   ...  22   23  24   25  26   27  \\\n",
       "0 -52   56 -10 -12  30 -30  -14  -24 -82  98  ... -20  -52  22   30  16   66   \n",
       "1 -34    8  20 -92 -22  42   42   24 -76 -76  ...  16  -76  54  -46  34  -70   \n",
       "2  46 -112  66  26 -50 -64  -32   78  24  14  ...  36  -36 -74   98 -58   90   \n",
       "3  88  -38 -28   6  32  54  -20 -102  26   4  ... -56 -112 -68   56 -80  -10   \n",
       "4 -34  -64 -80 -30 -14  66   22   -2 -32 -52  ...  42    0 -72  -60 -18  -44   \n",
       "5  12  -16 -30 -16 -58  20  -24   18  98 -56  ... -46   20  50  -32 -22 -112   \n",
       "6  84  -56 -14 -24 -64 -52  -22  -30   6  -6  ...  -2  -32  38  -88  52   12   \n",
       "7  50 -112 -84  22 -80  20 -104   98  48  12  ...  40  -96 -20  -14  56  -26   \n",
       "8  98    0 -72 -64  58 -76    6   22 -32  82  ... -56   50  70 -112 -24  -56   \n",
       "9 -24  -84  14 -16 -82  -2   58  -80 -98 -56  ...  98  -98  20  -98  80   66   \n",
       "\n",
       "   28  29   30  31  \n",
       "0 -38  90 -100  22  \n",
       "1  -4  34    2  98  \n",
       "2  36   2   12  78  \n",
       "3  98 -20   10  -4  \n",
       "4  98  50   42  30  \n",
       "5 -66   4    2 -66  \n",
       "6  12  50   22  90  \n",
       "7 -16  46  -88  26  \n",
       "8  34  66  -98  30  \n",
       "9  72  -2  -48  70  \n",
       "\n",
       "[10 rows x 32 columns]"
      ]
     },
     "execution_count": 442,
     "metadata": {},
     "output_type": "execute_result"
    }
   ],
   "source": [
    "df(rtl.astype(int)) "
   ]
  },
  {
   "cell_type": "code",
   "execution_count": 443,
   "metadata": {},
   "outputs": [
    {
     "data": {
      "text/html": [
       "<div>\n",
       "<style scoped>\n",
       "    .dataframe tbody tr th:only-of-type {\n",
       "        vertical-align: middle;\n",
       "    }\n",
       "\n",
       "    .dataframe tbody tr th {\n",
       "        vertical-align: top;\n",
       "    }\n",
       "\n",
       "    .dataframe thead th {\n",
       "        text-align: right;\n",
       "    }\n",
       "</style>\n",
       "<table border=\"1\" class=\"dataframe\">\n",
       "  <thead>\n",
       "    <tr style=\"text-align: right;\">\n",
       "      <th></th>\n",
       "      <th>0</th>\n",
       "      <th>1</th>\n",
       "      <th>2</th>\n",
       "      <th>3</th>\n",
       "      <th>4</th>\n",
       "      <th>5</th>\n",
       "      <th>6</th>\n",
       "      <th>7</th>\n",
       "      <th>8</th>\n",
       "      <th>9</th>\n",
       "      <th>...</th>\n",
       "      <th>22</th>\n",
       "      <th>23</th>\n",
       "      <th>24</th>\n",
       "      <th>25</th>\n",
       "      <th>26</th>\n",
       "      <th>27</th>\n",
       "      <th>28</th>\n",
       "      <th>29</th>\n",
       "      <th>30</th>\n",
       "      <th>31</th>\n",
       "    </tr>\n",
       "  </thead>\n",
       "  <tbody>\n",
       "    <tr>\n",
       "      <th>0</th>\n",
       "      <td>-38</td>\n",
       "      <td>54</td>\n",
       "      <td>-4</td>\n",
       "      <td>-6</td>\n",
       "      <td>30</td>\n",
       "      <td>-24</td>\n",
       "      <td>-8</td>\n",
       "      <td>-18</td>\n",
       "      <td>-60</td>\n",
       "      <td>68</td>\n",
       "      <td>...</td>\n",
       "      <td>-16</td>\n",
       "      <td>-22</td>\n",
       "      <td>22</td>\n",
       "      <td>36</td>\n",
       "      <td>22</td>\n",
       "      <td>58</td>\n",
       "      <td>-24</td>\n",
       "      <td>60</td>\n",
       "      <td>-118</td>\n",
       "      <td>22</td>\n",
       "    </tr>\n",
       "    <tr>\n",
       "      <th>1</th>\n",
       "      <td>-28</td>\n",
       "      <td>14</td>\n",
       "      <td>26</td>\n",
       "      <td>-50</td>\n",
       "      <td>-16</td>\n",
       "      <td>36</td>\n",
       "      <td>42</td>\n",
       "      <td>30</td>\n",
       "      <td>-46</td>\n",
       "      <td>-46</td>\n",
       "      <td>...</td>\n",
       "      <td>22</td>\n",
       "      <td>-50</td>\n",
       "      <td>60</td>\n",
       "      <td>-40</td>\n",
       "      <td>36</td>\n",
       "      <td>-64</td>\n",
       "      <td>8</td>\n",
       "      <td>28</td>\n",
       "      <td>8</td>\n",
       "      <td>112</td>\n",
       "    </tr>\n",
       "    <tr>\n",
       "      <th>2</th>\n",
       "      <td>48</td>\n",
       "      <td>-80</td>\n",
       "      <td>48</td>\n",
       "      <td>24</td>\n",
       "      <td>-40</td>\n",
       "      <td>-34</td>\n",
       "      <td>-26</td>\n",
       "      <td>96</td>\n",
       "      <td>10</td>\n",
       "      <td>20</td>\n",
       "      <td>...</td>\n",
       "      <td>42</td>\n",
       "      <td>-26</td>\n",
       "      <td>-60</td>\n",
       "      <td>70</td>\n",
       "      <td>-56</td>\n",
       "      <td>92</td>\n",
       "      <td>42</td>\n",
       "      <td>8</td>\n",
       "      <td>18</td>\n",
       "      <td>54</td>\n",
       "    </tr>\n",
       "    <tr>\n",
       "      <th>3</th>\n",
       "      <td>61</td>\n",
       "      <td>-29</td>\n",
       "      <td>-27</td>\n",
       "      <td>7</td>\n",
       "      <td>33</td>\n",
       "      <td>55</td>\n",
       "      <td>-19</td>\n",
       "      <td>-77</td>\n",
       "      <td>25</td>\n",
       "      <td>5</td>\n",
       "      <td>...</td>\n",
       "      <td>-51</td>\n",
       "      <td>-83</td>\n",
       "      <td>-43</td>\n",
       "      <td>41</td>\n",
       "      <td>-79</td>\n",
       "      <td>-9</td>\n",
       "      <td>77</td>\n",
       "      <td>-13</td>\n",
       "      <td>11</td>\n",
       "      <td>3</td>\n",
       "    </tr>\n",
       "    <tr>\n",
       "      <th>4</th>\n",
       "      <td>-28</td>\n",
       "      <td>-52</td>\n",
       "      <td>-78</td>\n",
       "      <td>-24</td>\n",
       "      <td>-8</td>\n",
       "      <td>76</td>\n",
       "      <td>28</td>\n",
       "      <td>4</td>\n",
       "      <td>-26</td>\n",
       "      <td>-46</td>\n",
       "      <td>...</td>\n",
       "      <td>34</td>\n",
       "      <td>6</td>\n",
       "      <td>-90</td>\n",
       "      <td>-54</td>\n",
       "      <td>-12</td>\n",
       "      <td>-36</td>\n",
       "      <td>102</td>\n",
       "      <td>32</td>\n",
       "      <td>36</td>\n",
       "      <td>36</td>\n",
       "    </tr>\n",
       "    <tr>\n",
       "      <th>5</th>\n",
       "      <td>17</td>\n",
       "      <td>-11</td>\n",
       "      <td>-21</td>\n",
       "      <td>-11</td>\n",
       "      <td>-53</td>\n",
       "      <td>25</td>\n",
       "      <td>-19</td>\n",
       "      <td>19</td>\n",
       "      <td>147</td>\n",
       "      <td>-37</td>\n",
       "      <td>...</td>\n",
       "      <td>-33</td>\n",
       "      <td>13</td>\n",
       "      <td>39</td>\n",
       "      <td>-21</td>\n",
       "      <td>-17</td>\n",
       "      <td>-65</td>\n",
       "      <td>-61</td>\n",
       "      <td>15</td>\n",
       "      <td>3</td>\n",
       "      <td>-53</td>\n",
       "    </tr>\n",
       "    <tr>\n",
       "      <th>6</th>\n",
       "      <td>69</td>\n",
       "      <td>-49</td>\n",
       "      <td>-9</td>\n",
       "      <td>-19</td>\n",
       "      <td>-35</td>\n",
       "      <td>-35</td>\n",
       "      <td>-17</td>\n",
       "      <td>-25</td>\n",
       "      <td>11</td>\n",
       "      <td>-1</td>\n",
       "      <td>...</td>\n",
       "      <td>3</td>\n",
       "      <td>-27</td>\n",
       "      <td>43</td>\n",
       "      <td>-91</td>\n",
       "      <td>53</td>\n",
       "      <td>17</td>\n",
       "      <td>17</td>\n",
       "      <td>37</td>\n",
       "      <td>33</td>\n",
       "      <td>83</td>\n",
       "    </tr>\n",
       "    <tr>\n",
       "      <th>7</th>\n",
       "      <td>47</td>\n",
       "      <td>-103</td>\n",
       "      <td>-79</td>\n",
       "      <td>27</td>\n",
       "      <td>-57</td>\n",
       "      <td>25</td>\n",
       "      <td>-83</td>\n",
       "      <td>113</td>\n",
       "      <td>45</td>\n",
       "      <td>5</td>\n",
       "      <td>...</td>\n",
       "      <td>45</td>\n",
       "      <td>-77</td>\n",
       "      <td>-15</td>\n",
       "      <td>-9</td>\n",
       "      <td>53</td>\n",
       "      <td>-25</td>\n",
       "      <td>-11</td>\n",
       "      <td>35</td>\n",
       "      <td>-69</td>\n",
       "      <td>13</td>\n",
       "    </tr>\n",
       "    <tr>\n",
       "      <th>8</th>\n",
       "      <td>142</td>\n",
       "      <td>4</td>\n",
       "      <td>-68</td>\n",
       "      <td>-64</td>\n",
       "      <td>54</td>\n",
       "      <td>-64</td>\n",
       "      <td>10</td>\n",
       "      <td>22</td>\n",
       "      <td>-28</td>\n",
       "      <td>74</td>\n",
       "      <td>...</td>\n",
       "      <td>-48</td>\n",
       "      <td>30</td>\n",
       "      <td>66</td>\n",
       "      <td>-88</td>\n",
       "      <td>-20</td>\n",
       "      <td>-46</td>\n",
       "      <td>22</td>\n",
       "      <td>54</td>\n",
       "      <td>-74</td>\n",
       "      <td>28</td>\n",
       "    </tr>\n",
       "    <tr>\n",
       "      <th>9</th>\n",
       "      <td>-17</td>\n",
       "      <td>-53</td>\n",
       "      <td>21</td>\n",
       "      <td>-9</td>\n",
       "      <td>-51</td>\n",
       "      <td>5</td>\n",
       "      <td>57</td>\n",
       "      <td>-43</td>\n",
       "      <td>-55</td>\n",
       "      <td>-37</td>\n",
       "      <td>...</td>\n",
       "      <td>105</td>\n",
       "      <td>-87</td>\n",
       "      <td>27</td>\n",
       "      <td>-71</td>\n",
       "      <td>75</td>\n",
       "      <td>69</td>\n",
       "      <td>63</td>\n",
       "      <td>5</td>\n",
       "      <td>-41</td>\n",
       "      <td>69</td>\n",
       "    </tr>\n",
       "  </tbody>\n",
       "</table>\n",
       "<p>10 rows × 32 columns</p>\n",
       "</div>"
      ],
      "text/plain": [
       "    0    1   2   3   4   5   6    7    8   9   ...   22  23  24  25  26  27  \\\n",
       "0  -38   54  -4  -6  30 -24  -8  -18  -60  68  ...  -16 -22  22  36  22  58   \n",
       "1  -28   14  26 -50 -16  36  42   30  -46 -46  ...   22 -50  60 -40  36 -64   \n",
       "2   48  -80  48  24 -40 -34 -26   96   10  20  ...   42 -26 -60  70 -56  92   \n",
       "3   61  -29 -27   7  33  55 -19  -77   25   5  ...  -51 -83 -43  41 -79  -9   \n",
       "4  -28  -52 -78 -24  -8  76  28    4  -26 -46  ...   34   6 -90 -54 -12 -36   \n",
       "5   17  -11 -21 -11 -53  25 -19   19  147 -37  ...  -33  13  39 -21 -17 -65   \n",
       "6   69  -49  -9 -19 -35 -35 -17  -25   11  -1  ...    3 -27  43 -91  53  17   \n",
       "7   47 -103 -79  27 -57  25 -83  113   45   5  ...   45 -77 -15  -9  53 -25   \n",
       "8  142    4 -68 -64  54 -64  10   22  -28  74  ...  -48  30  66 -88 -20 -46   \n",
       "9  -17  -53  21  -9 -51   5  57  -43  -55 -37  ...  105 -87  27 -71  75  69   \n",
       "\n",
       "    28  29   30   31  \n",
       "0  -24  60 -118   22  \n",
       "1    8  28    8  112  \n",
       "2   42   8   18   54  \n",
       "3   77 -13   11    3  \n",
       "4  102  32   36   36  \n",
       "5  -61  15    3  -53  \n",
       "6   17  37   33   83  \n",
       "7  -11  35  -69   13  \n",
       "8   22  54  -74   28  \n",
       "9   63   5  -41   69  \n",
       "\n",
       "[10 rows x 32 columns]"
      ]
     },
     "execution_count": 443,
     "metadata": {},
     "output_type": "execute_result"
    }
   ],
   "source": [
    "df(wx[::-1].T)"
   ]
  }
 ],
 "metadata": {
  "kernelspec": {
   "display_name": "ic_dec",
   "language": "python",
   "name": "python3"
  },
  "language_info": {
   "codemirror_mode": {
    "name": "ipython",
    "version": 3
   },
   "file_extension": ".py",
   "mimetype": "text/x-python",
   "name": "python",
   "nbconvert_exporter": "python",
   "pygments_lexer": "ipython3",
   "version": "3.12.2"
  }
 },
 "nbformat": 4,
 "nbformat_minor": 2
}
