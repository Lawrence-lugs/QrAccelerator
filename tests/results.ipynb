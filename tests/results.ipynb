{
 "cells": [
  {
   "cell_type": "markdown",
   "metadata": {},
   "source": [
    "# Results Notebook"
   ]
  },
  {
   "cell_type": "code",
   "execution_count": 14,
   "metadata": {},
   "outputs": [],
   "source": [
    "import hwacctools.quantization.quant as q\n",
    "from stim_lib.stimulus_gen import generate_qracc_inputs\n",
    "import numpy as np\n",
    "import plotly.express as px\n",
    "import seaborn as sns\n",
    "import pandas as pd\n",
    "df = pd.DataFrame\n",
    "sns.set_theme()\n",
    "\n",
    "def melt_row_col_data(arr,name):\n",
    "    arr_df = df(arr)\n",
    "    arr_df = arr_df.melt(\n",
    "        ignore_index=False,\n",
    "        var_name='Column',\n",
    "        value_name='ADC_OUT_AMS',\n",
    "    )\n",
    "    arr_df['Row'] = arr_df.index\n",
    "    return arr_df"
   ]
  },
  {
   "cell_type": "code",
   "execution_count": 15,
   "metadata": {},
   "outputs": [
    {
     "name": "stdout",
     "output_type": "stream",
     "text": [
      "[STIM_GEN] Generating random weights\n"
     ]
    }
   ],
   "source": [
    "# Generate the reference result\n",
    "\n",
    "w,x,wx_outBits = generate_qracc_inputs(\n",
    "    wDimX = 32, #nColumns\n",
    "    wDimY = 128, #nRows\n",
    "    xBatches = 10,\n",
    "    xTrits = 1,\n",
    "    outBits = 4,\n",
    "    seed = 0,\n",
    "    weight_mode = 'bipolar',\n",
    "    col_symmetric=False\n",
    ")\n",
    "wx = w @ x.T\n",
    "wx_rounded = np.round(wx.T / 2**2).astype(int).T[::-1].T"
   ]
  },
  {
   "cell_type": "markdown",
   "metadata": {},
   "source": [
    "### Comparing AMS vs RTL simulations of QRAcc"
   ]
  },
  {
   "cell_type": "code",
   "execution_count": 16,
   "metadata": {},
   "outputs": [
    {
     "data": {
      "application/vnd.plotly.v1+json": {
       "config": {
        "plotlyServerURL": "https://plot.ly"
       },
       "data": [
        {
         "hovertemplate": "RTL=%{x}<br>AMS=%{y}<extra></extra>",
         "legendgroup": "",
         "marker": {
          "color": "#636efa",
          "symbol": "circle"
         },
         "mode": "markers",
         "name": "",
         "orientation": "v",
         "showlegend": false,
         "type": "scatter",
         "x": [
          5,
          0,
          -1,
          -2,
          0,
          -1,
          1,
          3,
          0,
          -3,
          -3,
          3,
          -6,
          -1,
          0,
          1,
          -3,
          0,
          3,
          -1,
          4,
          2,
          -2,
          -4,
          -4,
          1,
          2,
          -2,
          1,
          -3,
          1,
          -1,
          -3,
          2,
          1,
          -4,
          0,
          1,
          1,
          -1,
          0,
          -2,
          -2,
          0,
          -3,
          6,
          3,
          -2,
          -2,
          0,
          0,
          -1,
          -1,
          0,
          1,
          1,
          -6,
          -1,
          0,
          0,
          -1,
          -3,
          1,
          -3,
          1,
          2,
          0,
          -1,
          1,
          1,
          -1,
          2,
          1,
          2,
          5,
          -2,
          1,
          -2,
          -3,
          3,
          2,
          -2,
          -1,
          0,
          1,
          2,
          1,
          2,
          4,
          0,
          1,
          -2,
          -5,
          0,
          0,
          -1,
          -2,
          -2,
          3,
          1,
          -3,
          -1,
          3,
          0,
          -3,
          1,
          1,
          -1,
          -2,
          2,
          2,
          0,
          -1,
          -1,
          4,
          0,
          -3,
          -2,
          0,
          0,
          -1,
          1,
          -5,
          0,
          2,
          -3,
          -3,
          3,
          -2,
          -3,
          0,
          -1,
          -7,
          4,
          -3,
          -1,
          -1,
          -4,
          2,
          -3,
          2,
          0,
          2,
          -5,
          -1,
          2,
          0,
          -1,
          2,
          0,
          4,
          -1,
          0,
          1,
          1,
          -1,
          -2,
          0,
          2,
          2,
          0,
          -3,
          -1,
          0,
          1,
          1,
          3,
          2,
          2,
          0,
          3,
          -2,
          0,
          -1,
          1,
          -1,
          0,
          -4,
          2,
          -2,
          6,
          3,
          0,
          1,
          0,
          -2,
          -2,
          -2,
          1,
          3,
          3,
          -1,
          1,
          2,
          4,
          -1,
          -2,
          1,
          -3,
          1,
          0,
          -1,
          -3,
          0,
          2,
          0,
          0,
          -6,
          -4,
          4,
          1,
          -3,
          -2,
          0,
          0,
          -1,
          -2,
          -1,
          3,
          -1,
          -1,
          -5,
          -2,
          -2,
          2,
          0,
          1,
          -6,
          -2,
          2,
          -2,
          -2,
          -4,
          0,
          4,
          0,
          0,
          0,
          -2,
          -1,
          -1,
          -2,
          0,
          -1,
          -1,
          -1,
          -2,
          3,
          3,
          3,
          1,
          -1,
          -1,
          -5,
          1,
          1,
          3,
          0,
          1,
          -1,
          4,
          1,
          2,
          -1,
          3,
          2,
          4,
          -3,
          1,
          1,
          -2,
          -2,
          0,
          -1,
          0,
          -3,
          0,
          1,
          0,
          0,
          0,
          0,
          0,
          0,
          -1,
          -1,
          -2,
          3,
          0,
          -3,
          -2,
          -3,
          2,
          -1,
          5,
          -2,
          -2,
          0,
          0,
          1,
          2,
          -1,
          3,
          -3,
          -1,
          -1,
          3,
          -4,
          -1,
          2,
          1,
          -1,
          3,
          0,
          -2,
          -1,
          -1,
          -4,
          -5,
          2
         ],
         "xaxis": "x",
         "y": [
          6,
          0,
          0,
          -1,
          1,
          0,
          2,
          4,
          0,
          -2,
          -2,
          3,
          -5,
          0,
          0,
          1,
          -2,
          1,
          3,
          0,
          4,
          3,
          -1,
          -3,
          -3,
          1,
          2,
          -1,
          2,
          -3,
          2,
          0,
          -2,
          3,
          2,
          -4,
          0,
          2,
          2,
          0,
          1,
          -1,
          -1,
          1,
          -2,
          6,
          3,
          -1,
          -1,
          1,
          1,
          0,
          0,
          1,
          2,
          2,
          -5,
          0,
          1,
          1,
          0,
          -2,
          2,
          -2,
          1,
          2,
          0,
          0,
          2,
          1,
          0,
          2,
          2,
          3,
          6,
          -1,
          1,
          -1,
          -2,
          4,
          3,
          -1,
          0,
          1,
          2,
          3,
          1,
          3,
          5,
          1,
          2,
          -1,
          -4,
          1,
          1,
          0,
          -1,
          -1,
          4,
          2,
          -2,
          0,
          4,
          1,
          -2,
          2,
          1,
          0,
          -1,
          3,
          3,
          1,
          0,
          0,
          4,
          0,
          -2,
          -1,
          0,
          1,
          0,
          2,
          -4,
          1,
          2,
          -3,
          -2,
          4,
          -1,
          -3,
          1,
          0,
          -6,
          5,
          -2,
          0,
          0,
          -3,
          3,
          -2,
          3,
          0,
          3,
          -4,
          0,
          3,
          1,
          0,
          3,
          0,
          4,
          0,
          1,
          2,
          1,
          -1,
          -1,
          1,
          2,
          3,
          1,
          -2,
          0,
          1,
          1,
          1,
          4,
          3,
          2,
          1,
          4,
          -1,
          1,
          0,
          2,
          -1,
          1,
          -3,
          2,
          -2,
          6,
          4,
          1,
          2,
          1,
          -1,
          -2,
          -1,
          2,
          3,
          4,
          0,
          2,
          3,
          5,
          0,
          -2,
          2,
          -2,
          1,
          1,
          0,
          -2,
          1,
          3,
          0,
          0,
          -5,
          -3,
          4,
          2,
          -2,
          -1,
          1,
          1,
          -1,
          -2,
          0,
          3,
          -1,
          0,
          -4,
          -1,
          -1,
          2,
          0,
          2,
          -5,
          -1,
          3,
          -1,
          -1,
          -3,
          1,
          4,
          1,
          1,
          1,
          -1,
          0,
          0,
          -1,
          1,
          0,
          -1,
          0,
          -2,
          4,
          4,
          3,
          2,
          0,
          0,
          -4,
          1,
          1,
          3,
          1,
          2,
          -1,
          4,
          2,
          3,
          0,
          3,
          2,
          4,
          -2,
          1,
          1,
          -1,
          -1,
          1,
          0,
          1,
          -3,
          0,
          2,
          1,
          0,
          1,
          1,
          1,
          1,
          0,
          -1,
          -2,
          4,
          0,
          -2,
          -1,
          -2,
          3,
          0,
          6,
          -1,
          -1,
          1,
          1,
          2,
          3,
          0,
          4,
          -2,
          -1,
          -1,
          3,
          -3,
          0,
          3,
          2,
          0,
          4,
          1,
          -1,
          -1,
          0,
          -3,
          -4,
          2
         ],
         "yaxis": "y"
        }
       ],
       "layout": {
        "height": 400,
        "legend": {
         "tracegroupgap": 0
        },
        "template": {
         "data": {
          "bar": [
           {
            "error_x": {
             "color": "#2a3f5f"
            },
            "error_y": {
             "color": "#2a3f5f"
            },
            "marker": {
             "line": {
              "color": "#E5ECF6",
              "width": 0.5
             },
             "pattern": {
              "fillmode": "overlay",
              "size": 10,
              "solidity": 0.2
             }
            },
            "type": "bar"
           }
          ],
          "barpolar": [
           {
            "marker": {
             "line": {
              "color": "#E5ECF6",
              "width": 0.5
             },
             "pattern": {
              "fillmode": "overlay",
              "size": 10,
              "solidity": 0.2
             }
            },
            "type": "barpolar"
           }
          ],
          "carpet": [
           {
            "aaxis": {
             "endlinecolor": "#2a3f5f",
             "gridcolor": "white",
             "linecolor": "white",
             "minorgridcolor": "white",
             "startlinecolor": "#2a3f5f"
            },
            "baxis": {
             "endlinecolor": "#2a3f5f",
             "gridcolor": "white",
             "linecolor": "white",
             "minorgridcolor": "white",
             "startlinecolor": "#2a3f5f"
            },
            "type": "carpet"
           }
          ],
          "choropleth": [
           {
            "colorbar": {
             "outlinewidth": 0,
             "ticks": ""
            },
            "type": "choropleth"
           }
          ],
          "contour": [
           {
            "colorbar": {
             "outlinewidth": 0,
             "ticks": ""
            },
            "colorscale": [
             [
              0,
              "#0d0887"
             ],
             [
              0.1111111111111111,
              "#46039f"
             ],
             [
              0.2222222222222222,
              "#7201a8"
             ],
             [
              0.3333333333333333,
              "#9c179e"
             ],
             [
              0.4444444444444444,
              "#bd3786"
             ],
             [
              0.5555555555555556,
              "#d8576b"
             ],
             [
              0.6666666666666666,
              "#ed7953"
             ],
             [
              0.7777777777777778,
              "#fb9f3a"
             ],
             [
              0.8888888888888888,
              "#fdca26"
             ],
             [
              1,
              "#f0f921"
             ]
            ],
            "type": "contour"
           }
          ],
          "contourcarpet": [
           {
            "colorbar": {
             "outlinewidth": 0,
             "ticks": ""
            },
            "type": "contourcarpet"
           }
          ],
          "heatmap": [
           {
            "colorbar": {
             "outlinewidth": 0,
             "ticks": ""
            },
            "colorscale": [
             [
              0,
              "#0d0887"
             ],
             [
              0.1111111111111111,
              "#46039f"
             ],
             [
              0.2222222222222222,
              "#7201a8"
             ],
             [
              0.3333333333333333,
              "#9c179e"
             ],
             [
              0.4444444444444444,
              "#bd3786"
             ],
             [
              0.5555555555555556,
              "#d8576b"
             ],
             [
              0.6666666666666666,
              "#ed7953"
             ],
             [
              0.7777777777777778,
              "#fb9f3a"
             ],
             [
              0.8888888888888888,
              "#fdca26"
             ],
             [
              1,
              "#f0f921"
             ]
            ],
            "type": "heatmap"
           }
          ],
          "heatmapgl": [
           {
            "colorbar": {
             "outlinewidth": 0,
             "ticks": ""
            },
            "colorscale": [
             [
              0,
              "#0d0887"
             ],
             [
              0.1111111111111111,
              "#46039f"
             ],
             [
              0.2222222222222222,
              "#7201a8"
             ],
             [
              0.3333333333333333,
              "#9c179e"
             ],
             [
              0.4444444444444444,
              "#bd3786"
             ],
             [
              0.5555555555555556,
              "#d8576b"
             ],
             [
              0.6666666666666666,
              "#ed7953"
             ],
             [
              0.7777777777777778,
              "#fb9f3a"
             ],
             [
              0.8888888888888888,
              "#fdca26"
             ],
             [
              1,
              "#f0f921"
             ]
            ],
            "type": "heatmapgl"
           }
          ],
          "histogram": [
           {
            "marker": {
             "pattern": {
              "fillmode": "overlay",
              "size": 10,
              "solidity": 0.2
             }
            },
            "type": "histogram"
           }
          ],
          "histogram2d": [
           {
            "colorbar": {
             "outlinewidth": 0,
             "ticks": ""
            },
            "colorscale": [
             [
              0,
              "#0d0887"
             ],
             [
              0.1111111111111111,
              "#46039f"
             ],
             [
              0.2222222222222222,
              "#7201a8"
             ],
             [
              0.3333333333333333,
              "#9c179e"
             ],
             [
              0.4444444444444444,
              "#bd3786"
             ],
             [
              0.5555555555555556,
              "#d8576b"
             ],
             [
              0.6666666666666666,
              "#ed7953"
             ],
             [
              0.7777777777777778,
              "#fb9f3a"
             ],
             [
              0.8888888888888888,
              "#fdca26"
             ],
             [
              1,
              "#f0f921"
             ]
            ],
            "type": "histogram2d"
           }
          ],
          "histogram2dcontour": [
           {
            "colorbar": {
             "outlinewidth": 0,
             "ticks": ""
            },
            "colorscale": [
             [
              0,
              "#0d0887"
             ],
             [
              0.1111111111111111,
              "#46039f"
             ],
             [
              0.2222222222222222,
              "#7201a8"
             ],
             [
              0.3333333333333333,
              "#9c179e"
             ],
             [
              0.4444444444444444,
              "#bd3786"
             ],
             [
              0.5555555555555556,
              "#d8576b"
             ],
             [
              0.6666666666666666,
              "#ed7953"
             ],
             [
              0.7777777777777778,
              "#fb9f3a"
             ],
             [
              0.8888888888888888,
              "#fdca26"
             ],
             [
              1,
              "#f0f921"
             ]
            ],
            "type": "histogram2dcontour"
           }
          ],
          "mesh3d": [
           {
            "colorbar": {
             "outlinewidth": 0,
             "ticks": ""
            },
            "type": "mesh3d"
           }
          ],
          "parcoords": [
           {
            "line": {
             "colorbar": {
              "outlinewidth": 0,
              "ticks": ""
             }
            },
            "type": "parcoords"
           }
          ],
          "pie": [
           {
            "automargin": true,
            "type": "pie"
           }
          ],
          "scatter": [
           {
            "fillpattern": {
             "fillmode": "overlay",
             "size": 10,
             "solidity": 0.2
            },
            "type": "scatter"
           }
          ],
          "scatter3d": [
           {
            "line": {
             "colorbar": {
              "outlinewidth": 0,
              "ticks": ""
             }
            },
            "marker": {
             "colorbar": {
              "outlinewidth": 0,
              "ticks": ""
             }
            },
            "type": "scatter3d"
           }
          ],
          "scattercarpet": [
           {
            "marker": {
             "colorbar": {
              "outlinewidth": 0,
              "ticks": ""
             }
            },
            "type": "scattercarpet"
           }
          ],
          "scattergeo": [
           {
            "marker": {
             "colorbar": {
              "outlinewidth": 0,
              "ticks": ""
             }
            },
            "type": "scattergeo"
           }
          ],
          "scattergl": [
           {
            "marker": {
             "colorbar": {
              "outlinewidth": 0,
              "ticks": ""
             }
            },
            "type": "scattergl"
           }
          ],
          "scattermapbox": [
           {
            "marker": {
             "colorbar": {
              "outlinewidth": 0,
              "ticks": ""
             }
            },
            "type": "scattermapbox"
           }
          ],
          "scatterpolar": [
           {
            "marker": {
             "colorbar": {
              "outlinewidth": 0,
              "ticks": ""
             }
            },
            "type": "scatterpolar"
           }
          ],
          "scatterpolargl": [
           {
            "marker": {
             "colorbar": {
              "outlinewidth": 0,
              "ticks": ""
             }
            },
            "type": "scatterpolargl"
           }
          ],
          "scatterternary": [
           {
            "marker": {
             "colorbar": {
              "outlinewidth": 0,
              "ticks": ""
             }
            },
            "type": "scatterternary"
           }
          ],
          "surface": [
           {
            "colorbar": {
             "outlinewidth": 0,
             "ticks": ""
            },
            "colorscale": [
             [
              0,
              "#0d0887"
             ],
             [
              0.1111111111111111,
              "#46039f"
             ],
             [
              0.2222222222222222,
              "#7201a8"
             ],
             [
              0.3333333333333333,
              "#9c179e"
             ],
             [
              0.4444444444444444,
              "#bd3786"
             ],
             [
              0.5555555555555556,
              "#d8576b"
             ],
             [
              0.6666666666666666,
              "#ed7953"
             ],
             [
              0.7777777777777778,
              "#fb9f3a"
             ],
             [
              0.8888888888888888,
              "#fdca26"
             ],
             [
              1,
              "#f0f921"
             ]
            ],
            "type": "surface"
           }
          ],
          "table": [
           {
            "cells": {
             "fill": {
              "color": "#EBF0F8"
             },
             "line": {
              "color": "white"
             }
            },
            "header": {
             "fill": {
              "color": "#C8D4E3"
             },
             "line": {
              "color": "white"
             }
            },
            "type": "table"
           }
          ]
         },
         "layout": {
          "annotationdefaults": {
           "arrowcolor": "#2a3f5f",
           "arrowhead": 0,
           "arrowwidth": 1
          },
          "autotypenumbers": "strict",
          "coloraxis": {
           "colorbar": {
            "outlinewidth": 0,
            "ticks": ""
           }
          },
          "colorscale": {
           "diverging": [
            [
             0,
             "#8e0152"
            ],
            [
             0.1,
             "#c51b7d"
            ],
            [
             0.2,
             "#de77ae"
            ],
            [
             0.3,
             "#f1b6da"
            ],
            [
             0.4,
             "#fde0ef"
            ],
            [
             0.5,
             "#f7f7f7"
            ],
            [
             0.6,
             "#e6f5d0"
            ],
            [
             0.7,
             "#b8e186"
            ],
            [
             0.8,
             "#7fbc41"
            ],
            [
             0.9,
             "#4d9221"
            ],
            [
             1,
             "#276419"
            ]
           ],
           "sequential": [
            [
             0,
             "#0d0887"
            ],
            [
             0.1111111111111111,
             "#46039f"
            ],
            [
             0.2222222222222222,
             "#7201a8"
            ],
            [
             0.3333333333333333,
             "#9c179e"
            ],
            [
             0.4444444444444444,
             "#bd3786"
            ],
            [
             0.5555555555555556,
             "#d8576b"
            ],
            [
             0.6666666666666666,
             "#ed7953"
            ],
            [
             0.7777777777777778,
             "#fb9f3a"
            ],
            [
             0.8888888888888888,
             "#fdca26"
            ],
            [
             1,
             "#f0f921"
            ]
           ],
           "sequentialminus": [
            [
             0,
             "#0d0887"
            ],
            [
             0.1111111111111111,
             "#46039f"
            ],
            [
             0.2222222222222222,
             "#7201a8"
            ],
            [
             0.3333333333333333,
             "#9c179e"
            ],
            [
             0.4444444444444444,
             "#bd3786"
            ],
            [
             0.5555555555555556,
             "#d8576b"
            ],
            [
             0.6666666666666666,
             "#ed7953"
            ],
            [
             0.7777777777777778,
             "#fb9f3a"
            ],
            [
             0.8888888888888888,
             "#fdca26"
            ],
            [
             1,
             "#f0f921"
            ]
           ]
          },
          "colorway": [
           "#636efa",
           "#EF553B",
           "#00cc96",
           "#ab63fa",
           "#FFA15A",
           "#19d3f3",
           "#FF6692",
           "#B6E880",
           "#FF97FF",
           "#FECB52"
          ],
          "font": {
           "color": "#2a3f5f"
          },
          "geo": {
           "bgcolor": "white",
           "lakecolor": "white",
           "landcolor": "#E5ECF6",
           "showlakes": true,
           "showland": true,
           "subunitcolor": "white"
          },
          "hoverlabel": {
           "align": "left"
          },
          "hovermode": "closest",
          "mapbox": {
           "style": "light"
          },
          "paper_bgcolor": "white",
          "plot_bgcolor": "#E5ECF6",
          "polar": {
           "angularaxis": {
            "gridcolor": "white",
            "linecolor": "white",
            "ticks": ""
           },
           "bgcolor": "#E5ECF6",
           "radialaxis": {
            "gridcolor": "white",
            "linecolor": "white",
            "ticks": ""
           }
          },
          "scene": {
           "xaxis": {
            "backgroundcolor": "#E5ECF6",
            "gridcolor": "white",
            "gridwidth": 2,
            "linecolor": "white",
            "showbackground": true,
            "ticks": "",
            "zerolinecolor": "white"
           },
           "yaxis": {
            "backgroundcolor": "#E5ECF6",
            "gridcolor": "white",
            "gridwidth": 2,
            "linecolor": "white",
            "showbackground": true,
            "ticks": "",
            "zerolinecolor": "white"
           },
           "zaxis": {
            "backgroundcolor": "#E5ECF6",
            "gridcolor": "white",
            "gridwidth": 2,
            "linecolor": "white",
            "showbackground": true,
            "ticks": "",
            "zerolinecolor": "white"
           }
          },
          "shapedefaults": {
           "line": {
            "color": "#2a3f5f"
           }
          },
          "ternary": {
           "aaxis": {
            "gridcolor": "white",
            "linecolor": "white",
            "ticks": ""
           },
           "baxis": {
            "gridcolor": "white",
            "linecolor": "white",
            "ticks": ""
           },
           "bgcolor": "#E5ECF6",
           "caxis": {
            "gridcolor": "white",
            "linecolor": "white",
            "ticks": ""
           }
          },
          "title": {
           "x": 0.05
          },
          "xaxis": {
           "automargin": true,
           "gridcolor": "white",
           "linecolor": "white",
           "ticks": "",
           "title": {
            "standoff": 15
           },
           "zerolinecolor": "white",
           "zerolinewidth": 2
          },
          "yaxis": {
           "automargin": true,
           "gridcolor": "white",
           "linecolor": "white",
           "ticks": "",
           "title": {
            "standoff": 15
           },
           "zerolinecolor": "white",
           "zerolinewidth": 2
          }
         }
        },
        "title": {
         "text": "AMS vs Shifted, RMSE=0.87"
        },
        "width": 400,
        "xaxis": {
         "anchor": "y",
         "domain": [
          0,
          1
         ],
         "title": {
          "text": "RTL"
         }
        },
        "yaxis": {
         "anchor": "x",
         "domain": [
          0,
          1
         ],
         "title": {
          "text": "AMS"
         }
        }
       }
      },
      "text/html": [
       "<div>                            <div id=\"46bad123-7273-426d-88e6-1c9686114379\" class=\"plotly-graph-div\" style=\"height:400px; width:400px;\"></div>            <script type=\"text/javascript\">                require([\"plotly\"], function(Plotly) {                    window.PLOTLYENV=window.PLOTLYENV || {};                                    if (document.getElementById(\"46bad123-7273-426d-88e6-1c9686114379\")) {                    Plotly.newPlot(                        \"46bad123-7273-426d-88e6-1c9686114379\",                        [{\"hovertemplate\":\"RTL=%{x}\\u003cbr\\u003eAMS=%{y}\\u003cextra\\u003e\\u003c\\u002fextra\\u003e\",\"legendgroup\":\"\",\"marker\":{\"color\":\"#636efa\",\"symbol\":\"circle\"},\"mode\":\"markers\",\"name\":\"\",\"orientation\":\"v\",\"showlegend\":false,\"x\":[5.0,0.0,-1.0,-2.0,0.0,-1.0,1.0,3.0,0.0,-3.0,-3.0,3.0,-6.0,-1.0,0.0,1.0,-3.0,0.0,3.0,-1.0,4.0,2.0,-2.0,-4.0,-4.0,1.0,2.0,-2.0,1.0,-3.0,1.0,-1.0,-3.0,2.0,1.0,-4.0,0.0,1.0,1.0,-1.0,0.0,-2.0,-2.0,0.0,-3.0,6.0,3.0,-2.0,-2.0,0.0,0.0,-1.0,-1.0,0.0,1.0,1.0,-6.0,-1.0,0.0,0.0,-1.0,-3.0,1.0,-3.0,1.0,2.0,0.0,-1.0,1.0,1.0,-1.0,2.0,1.0,2.0,5.0,-2.0,1.0,-2.0,-3.0,3.0,2.0,-2.0,-1.0,0.0,1.0,2.0,1.0,2.0,4.0,0.0,1.0,-2.0,-5.0,0.0,0.0,-1.0,-2.0,-2.0,3.0,1.0,-3.0,-1.0,3.0,0.0,-3.0,1.0,1.0,-1.0,-2.0,2.0,2.0,0.0,-1.0,-1.0,4.0,0.0,-3.0,-2.0,0.0,0.0,-1.0,1.0,-5.0,0.0,2.0,-3.0,-3.0,3.0,-2.0,-3.0,0.0,-1.0,-7.0,4.0,-3.0,-1.0,-1.0,-4.0,2.0,-3.0,2.0,0.0,2.0,-5.0,-1.0,2.0,0.0,-1.0,2.0,0.0,4.0,-1.0,0.0,1.0,1.0,-1.0,-2.0,0.0,2.0,2.0,0.0,-3.0,-1.0,0.0,1.0,1.0,3.0,2.0,2.0,0.0,3.0,-2.0,0.0,-1.0,1.0,-1.0,0.0,-4.0,2.0,-2.0,6.0,3.0,0.0,1.0,0.0,-2.0,-2.0,-2.0,1.0,3.0,3.0,-1.0,1.0,2.0,4.0,-1.0,-2.0,1.0,-3.0,1.0,0.0,-1.0,-3.0,0.0,2.0,0.0,0.0,-6.0,-4.0,4.0,1.0,-3.0,-2.0,0.0,0.0,-1.0,-2.0,-1.0,3.0,-1.0,-1.0,-5.0,-2.0,-2.0,2.0,0.0,1.0,-6.0,-2.0,2.0,-2.0,-2.0,-4.0,0.0,4.0,0.0,0.0,0.0,-2.0,-1.0,-1.0,-2.0,0.0,-1.0,-1.0,-1.0,-2.0,3.0,3.0,3.0,1.0,-1.0,-1.0,-5.0,1.0,1.0,3.0,0.0,1.0,-1.0,4.0,1.0,2.0,-1.0,3.0,2.0,4.0,-3.0,1.0,1.0,-2.0,-2.0,0.0,-1.0,0.0,-3.0,0.0,1.0,0.0,0.0,0.0,0.0,0.0,0.0,-1.0,-1.0,-2.0,3.0,0.0,-3.0,-2.0,-3.0,2.0,-1.0,5.0,-2.0,-2.0,0.0,0.0,1.0,2.0,-1.0,3.0,-3.0,-1.0,-1.0,3.0,-4.0,-1.0,2.0,1.0,-1.0,3.0,0.0,-2.0,-1.0,-1.0,-4.0,-5.0,2.0],\"xaxis\":\"x\",\"y\":[6.0,0.0,0.0,-1.0,1.0,0.0,2.0,4.0,0.0,-2.0,-2.0,3.0,-5.0,0.0,0.0,1.0,-2.0,1.0,3.0,0.0,4.0,3.0,-1.0,-3.0,-3.0,1.0,2.0,-1.0,2.0,-3.0,2.0,0.0,-2.0,3.0,2.0,-4.0,0.0,2.0,2.0,0.0,1.0,-1.0,-1.0,1.0,-2.0,6.0,3.0,-1.0,-1.0,1.0,1.0,0.0,0.0,1.0,2.0,2.0,-5.0,0.0,1.0,1.0,0.0,-2.0,2.0,-2.0,1.0,2.0,0.0,0.0,2.0,1.0,0.0,2.0,2.0,3.0,6.0,-1.0,1.0,-1.0,-2.0,4.0,3.0,-1.0,0.0,1.0,2.0,3.0,1.0,3.0,5.0,1.0,2.0,-1.0,-4.0,1.0,1.0,0.0,-1.0,-1.0,4.0,2.0,-2.0,0.0,4.0,1.0,-2.0,2.0,1.0,0.0,-1.0,3.0,3.0,1.0,0.0,0.0,4.0,0.0,-2.0,-1.0,0.0,1.0,0.0,2.0,-4.0,1.0,2.0,-3.0,-2.0,4.0,-1.0,-3.0,1.0,0.0,-6.0,5.0,-2.0,0.0,0.0,-3.0,3.0,-2.0,3.0,0.0,3.0,-4.0,0.0,3.0,1.0,0.0,3.0,0.0,4.0,0.0,1.0,2.0,1.0,-1.0,-1.0,1.0,2.0,3.0,1.0,-2.0,0.0,1.0,1.0,1.0,4.0,3.0,2.0,1.0,4.0,-1.0,1.0,0.0,2.0,-1.0,1.0,-3.0,2.0,-2.0,6.0,4.0,1.0,2.0,1.0,-1.0,-2.0,-1.0,2.0,3.0,4.0,0.0,2.0,3.0,5.0,0.0,-2.0,2.0,-2.0,1.0,1.0,0.0,-2.0,1.0,3.0,0.0,0.0,-5.0,-3.0,4.0,2.0,-2.0,-1.0,1.0,1.0,-1.0,-2.0,0.0,3.0,-1.0,0.0,-4.0,-1.0,-1.0,2.0,0.0,2.0,-5.0,-1.0,3.0,-1.0,-1.0,-3.0,1.0,4.0,1.0,1.0,1.0,-1.0,0.0,0.0,-1.0,1.0,0.0,-1.0,0.0,-2.0,4.0,4.0,3.0,2.0,0.0,0.0,-4.0,1.0,1.0,3.0,1.0,2.0,-1.0,4.0,2.0,3.0,0.0,3.0,2.0,4.0,-2.0,1.0,1.0,-1.0,-1.0,1.0,0.0,1.0,-3.0,0.0,2.0,1.0,0.0,1.0,1.0,1.0,1.0,0.0,-1.0,-2.0,4.0,0.0,-2.0,-1.0,-2.0,3.0,0.0,6.0,-1.0,-1.0,1.0,1.0,2.0,3.0,0.0,4.0,-2.0,-1.0,-1.0,3.0,-3.0,0.0,3.0,2.0,0.0,4.0,1.0,-1.0,-1.0,0.0,-3.0,-4.0,2.0],\"yaxis\":\"y\",\"type\":\"scatter\"}],                        {\"template\":{\"data\":{\"histogram2dcontour\":[{\"type\":\"histogram2dcontour\",\"colorbar\":{\"outlinewidth\":0,\"ticks\":\"\"},\"colorscale\":[[0.0,\"#0d0887\"],[0.1111111111111111,\"#46039f\"],[0.2222222222222222,\"#7201a8\"],[0.3333333333333333,\"#9c179e\"],[0.4444444444444444,\"#bd3786\"],[0.5555555555555556,\"#d8576b\"],[0.6666666666666666,\"#ed7953\"],[0.7777777777777778,\"#fb9f3a\"],[0.8888888888888888,\"#fdca26\"],[1.0,\"#f0f921\"]]}],\"choropleth\":[{\"type\":\"choropleth\",\"colorbar\":{\"outlinewidth\":0,\"ticks\":\"\"}}],\"histogram2d\":[{\"type\":\"histogram2d\",\"colorbar\":{\"outlinewidth\":0,\"ticks\":\"\"},\"colorscale\":[[0.0,\"#0d0887\"],[0.1111111111111111,\"#46039f\"],[0.2222222222222222,\"#7201a8\"],[0.3333333333333333,\"#9c179e\"],[0.4444444444444444,\"#bd3786\"],[0.5555555555555556,\"#d8576b\"],[0.6666666666666666,\"#ed7953\"],[0.7777777777777778,\"#fb9f3a\"],[0.8888888888888888,\"#fdca26\"],[1.0,\"#f0f921\"]]}],\"heatmap\":[{\"type\":\"heatmap\",\"colorbar\":{\"outlinewidth\":0,\"ticks\":\"\"},\"colorscale\":[[0.0,\"#0d0887\"],[0.1111111111111111,\"#46039f\"],[0.2222222222222222,\"#7201a8\"],[0.3333333333333333,\"#9c179e\"],[0.4444444444444444,\"#bd3786\"],[0.5555555555555556,\"#d8576b\"],[0.6666666666666666,\"#ed7953\"],[0.7777777777777778,\"#fb9f3a\"],[0.8888888888888888,\"#fdca26\"],[1.0,\"#f0f921\"]]}],\"heatmapgl\":[{\"type\":\"heatmapgl\",\"colorbar\":{\"outlinewidth\":0,\"ticks\":\"\"},\"colorscale\":[[0.0,\"#0d0887\"],[0.1111111111111111,\"#46039f\"],[0.2222222222222222,\"#7201a8\"],[0.3333333333333333,\"#9c179e\"],[0.4444444444444444,\"#bd3786\"],[0.5555555555555556,\"#d8576b\"],[0.6666666666666666,\"#ed7953\"],[0.7777777777777778,\"#fb9f3a\"],[0.8888888888888888,\"#fdca26\"],[1.0,\"#f0f921\"]]}],\"contourcarpet\":[{\"type\":\"contourcarpet\",\"colorbar\":{\"outlinewidth\":0,\"ticks\":\"\"}}],\"contour\":[{\"type\":\"contour\",\"colorbar\":{\"outlinewidth\":0,\"ticks\":\"\"},\"colorscale\":[[0.0,\"#0d0887\"],[0.1111111111111111,\"#46039f\"],[0.2222222222222222,\"#7201a8\"],[0.3333333333333333,\"#9c179e\"],[0.4444444444444444,\"#bd3786\"],[0.5555555555555556,\"#d8576b\"],[0.6666666666666666,\"#ed7953\"],[0.7777777777777778,\"#fb9f3a\"],[0.8888888888888888,\"#fdca26\"],[1.0,\"#f0f921\"]]}],\"surface\":[{\"type\":\"surface\",\"colorbar\":{\"outlinewidth\":0,\"ticks\":\"\"},\"colorscale\":[[0.0,\"#0d0887\"],[0.1111111111111111,\"#46039f\"],[0.2222222222222222,\"#7201a8\"],[0.3333333333333333,\"#9c179e\"],[0.4444444444444444,\"#bd3786\"],[0.5555555555555556,\"#d8576b\"],[0.6666666666666666,\"#ed7953\"],[0.7777777777777778,\"#fb9f3a\"],[0.8888888888888888,\"#fdca26\"],[1.0,\"#f0f921\"]]}],\"mesh3d\":[{\"type\":\"mesh3d\",\"colorbar\":{\"outlinewidth\":0,\"ticks\":\"\"}}],\"scatter\":[{\"fillpattern\":{\"fillmode\":\"overlay\",\"size\":10,\"solidity\":0.2},\"type\":\"scatter\"}],\"parcoords\":[{\"type\":\"parcoords\",\"line\":{\"colorbar\":{\"outlinewidth\":0,\"ticks\":\"\"}}}],\"scatterpolargl\":[{\"type\":\"scatterpolargl\",\"marker\":{\"colorbar\":{\"outlinewidth\":0,\"ticks\":\"\"}}}],\"bar\":[{\"error_x\":{\"color\":\"#2a3f5f\"},\"error_y\":{\"color\":\"#2a3f5f\"},\"marker\":{\"line\":{\"color\":\"#E5ECF6\",\"width\":0.5},\"pattern\":{\"fillmode\":\"overlay\",\"size\":10,\"solidity\":0.2}},\"type\":\"bar\"}],\"scattergeo\":[{\"type\":\"scattergeo\",\"marker\":{\"colorbar\":{\"outlinewidth\":0,\"ticks\":\"\"}}}],\"scatterpolar\":[{\"type\":\"scatterpolar\",\"marker\":{\"colorbar\":{\"outlinewidth\":0,\"ticks\":\"\"}}}],\"histogram\":[{\"marker\":{\"pattern\":{\"fillmode\":\"overlay\",\"size\":10,\"solidity\":0.2}},\"type\":\"histogram\"}],\"scattergl\":[{\"type\":\"scattergl\",\"marker\":{\"colorbar\":{\"outlinewidth\":0,\"ticks\":\"\"}}}],\"scatter3d\":[{\"type\":\"scatter3d\",\"line\":{\"colorbar\":{\"outlinewidth\":0,\"ticks\":\"\"}},\"marker\":{\"colorbar\":{\"outlinewidth\":0,\"ticks\":\"\"}}}],\"scattermapbox\":[{\"type\":\"scattermapbox\",\"marker\":{\"colorbar\":{\"outlinewidth\":0,\"ticks\":\"\"}}}],\"scatterternary\":[{\"type\":\"scatterternary\",\"marker\":{\"colorbar\":{\"outlinewidth\":0,\"ticks\":\"\"}}}],\"scattercarpet\":[{\"type\":\"scattercarpet\",\"marker\":{\"colorbar\":{\"outlinewidth\":0,\"ticks\":\"\"}}}],\"carpet\":[{\"aaxis\":{\"endlinecolor\":\"#2a3f5f\",\"gridcolor\":\"white\",\"linecolor\":\"white\",\"minorgridcolor\":\"white\",\"startlinecolor\":\"#2a3f5f\"},\"baxis\":{\"endlinecolor\":\"#2a3f5f\",\"gridcolor\":\"white\",\"linecolor\":\"white\",\"minorgridcolor\":\"white\",\"startlinecolor\":\"#2a3f5f\"},\"type\":\"carpet\"}],\"table\":[{\"cells\":{\"fill\":{\"color\":\"#EBF0F8\"},\"line\":{\"color\":\"white\"}},\"header\":{\"fill\":{\"color\":\"#C8D4E3\"},\"line\":{\"color\":\"white\"}},\"type\":\"table\"}],\"barpolar\":[{\"marker\":{\"line\":{\"color\":\"#E5ECF6\",\"width\":0.5},\"pattern\":{\"fillmode\":\"overlay\",\"size\":10,\"solidity\":0.2}},\"type\":\"barpolar\"}],\"pie\":[{\"automargin\":true,\"type\":\"pie\"}]},\"layout\":{\"autotypenumbers\":\"strict\",\"colorway\":[\"#636efa\",\"#EF553B\",\"#00cc96\",\"#ab63fa\",\"#FFA15A\",\"#19d3f3\",\"#FF6692\",\"#B6E880\",\"#FF97FF\",\"#FECB52\"],\"font\":{\"color\":\"#2a3f5f\"},\"hovermode\":\"closest\",\"hoverlabel\":{\"align\":\"left\"},\"paper_bgcolor\":\"white\",\"plot_bgcolor\":\"#E5ECF6\",\"polar\":{\"bgcolor\":\"#E5ECF6\",\"angularaxis\":{\"gridcolor\":\"white\",\"linecolor\":\"white\",\"ticks\":\"\"},\"radialaxis\":{\"gridcolor\":\"white\",\"linecolor\":\"white\",\"ticks\":\"\"}},\"ternary\":{\"bgcolor\":\"#E5ECF6\",\"aaxis\":{\"gridcolor\":\"white\",\"linecolor\":\"white\",\"ticks\":\"\"},\"baxis\":{\"gridcolor\":\"white\",\"linecolor\":\"white\",\"ticks\":\"\"},\"caxis\":{\"gridcolor\":\"white\",\"linecolor\":\"white\",\"ticks\":\"\"}},\"coloraxis\":{\"colorbar\":{\"outlinewidth\":0,\"ticks\":\"\"}},\"colorscale\":{\"sequential\":[[0.0,\"#0d0887\"],[0.1111111111111111,\"#46039f\"],[0.2222222222222222,\"#7201a8\"],[0.3333333333333333,\"#9c179e\"],[0.4444444444444444,\"#bd3786\"],[0.5555555555555556,\"#d8576b\"],[0.6666666666666666,\"#ed7953\"],[0.7777777777777778,\"#fb9f3a\"],[0.8888888888888888,\"#fdca26\"],[1.0,\"#f0f921\"]],\"sequentialminus\":[[0.0,\"#0d0887\"],[0.1111111111111111,\"#46039f\"],[0.2222222222222222,\"#7201a8\"],[0.3333333333333333,\"#9c179e\"],[0.4444444444444444,\"#bd3786\"],[0.5555555555555556,\"#d8576b\"],[0.6666666666666666,\"#ed7953\"],[0.7777777777777778,\"#fb9f3a\"],[0.8888888888888888,\"#fdca26\"],[1.0,\"#f0f921\"]],\"diverging\":[[0,\"#8e0152\"],[0.1,\"#c51b7d\"],[0.2,\"#de77ae\"],[0.3,\"#f1b6da\"],[0.4,\"#fde0ef\"],[0.5,\"#f7f7f7\"],[0.6,\"#e6f5d0\"],[0.7,\"#b8e186\"],[0.8,\"#7fbc41\"],[0.9,\"#4d9221\"],[1,\"#276419\"]]},\"xaxis\":{\"gridcolor\":\"white\",\"linecolor\":\"white\",\"ticks\":\"\",\"title\":{\"standoff\":15},\"zerolinecolor\":\"white\",\"automargin\":true,\"zerolinewidth\":2},\"yaxis\":{\"gridcolor\":\"white\",\"linecolor\":\"white\",\"ticks\":\"\",\"title\":{\"standoff\":15},\"zerolinecolor\":\"white\",\"automargin\":true,\"zerolinewidth\":2},\"scene\":{\"xaxis\":{\"backgroundcolor\":\"#E5ECF6\",\"gridcolor\":\"white\",\"linecolor\":\"white\",\"showbackground\":true,\"ticks\":\"\",\"zerolinecolor\":\"white\",\"gridwidth\":2},\"yaxis\":{\"backgroundcolor\":\"#E5ECF6\",\"gridcolor\":\"white\",\"linecolor\":\"white\",\"showbackground\":true,\"ticks\":\"\",\"zerolinecolor\":\"white\",\"gridwidth\":2},\"zaxis\":{\"backgroundcolor\":\"#E5ECF6\",\"gridcolor\":\"white\",\"linecolor\":\"white\",\"showbackground\":true,\"ticks\":\"\",\"zerolinecolor\":\"white\",\"gridwidth\":2}},\"shapedefaults\":{\"line\":{\"color\":\"#2a3f5f\"}},\"annotationdefaults\":{\"arrowcolor\":\"#2a3f5f\",\"arrowhead\":0,\"arrowwidth\":1},\"geo\":{\"bgcolor\":\"white\",\"landcolor\":\"#E5ECF6\",\"subunitcolor\":\"white\",\"showland\":true,\"showlakes\":true,\"lakecolor\":\"white\"},\"title\":{\"x\":0.05},\"mapbox\":{\"style\":\"light\"}}},\"xaxis\":{\"anchor\":\"y\",\"domain\":[0.0,1.0],\"title\":{\"text\":\"RTL\"}},\"yaxis\":{\"anchor\":\"x\",\"domain\":[0.0,1.0],\"title\":{\"text\":\"AMS\"}},\"legend\":{\"tracegroupgap\":0},\"title\":{\"text\":\"AMS vs Shifted, RMSE=0.87\"},\"height\":400,\"width\":400},                        {\"responsive\": true}                    ).then(function(){\n",
       "                            \n",
       "var gd = document.getElementById('46bad123-7273-426d-88e6-1c9686114379');\n",
       "var x = new MutationObserver(function (mutations, observer) {{\n",
       "        var display = window.getComputedStyle(gd).display;\n",
       "        if (!display || display === 'none') {{\n",
       "            console.log([gd, 'removed!']);\n",
       "            Plotly.purge(gd);\n",
       "            observer.disconnect();\n",
       "        }}\n",
       "}});\n",
       "\n",
       "// Listen for the removal of the full notebook cells\n",
       "var notebookContainer = gd.closest('#notebook-container');\n",
       "if (notebookContainer) {{\n",
       "    x.observe(notebookContainer, {childList: true});\n",
       "}}\n",
       "\n",
       "// Listen for the clearing of the current output cell\n",
       "var outputEl = gd.closest('.output');\n",
       "if (outputEl) {{\n",
       "    x.observe(outputEl, {childList: true});\n",
       "}}\n",
       "\n",
       "                        })                };                });            </script>        </div>"
      ]
     },
     "metadata": {},
     "output_type": "display_data"
    }
   ],
   "source": [
    "ams = np.loadtxt('../tb/qracc/inputs/adc_out.txt')\n",
    "rtl = np.loadtxt('../tb/qracc/inputs/adc_out_rtlsims.txt')\n",
    "\n",
    "ams_df = df(ams)\n",
    "rtl_df = df(rtl)\n",
    "\n",
    "# ams_df['Row'] = ams_df.index\n",
    "# rtl_df['Row'] = rtl_df.index\n",
    "\n",
    "ams_df = ams_df.melt(\n",
    "    ignore_index=False,\n",
    "    var_name='Column',\n",
    "    value_name='ADC_OUT_AMS',\n",
    ")\n",
    "rtl_df = rtl_df.melt(\n",
    "    ignore_index=False,\n",
    "    var_name='Column',\n",
    "    value_name='ADC_OUT_RTL',\n",
    ")\n",
    "ams_df['Row'] = ams_df.index\n",
    "rtl_df['Row'] = rtl_df.index\n",
    "# Join the two dataframes\n",
    "adc_df = pd.merge(ams_df, rtl_df)\n",
    "\n",
    "rmse = np.sqrt(np.mean((rtl.flatten() - ams.flatten())**2))\n",
    "fig = px.scatter(adc_df, y='ADC_OUT_AMS', x='ADC_OUT_RTL', width=400, height=400, title=f'AMS vs Shifted, RMSE={rmse:.2f}', labels={'ADC_OUT_AMS':'AMS','ADC_OUT_RTL':'RTL'})\n",
    "fig.show()\n",
    "fig.write_image('../images/rtl_vs_ams.svg')"
   ]
  },
  {
   "cell_type": "code",
   "execution_count": 17,
   "metadata": {},
   "outputs": [
    {
     "data": {
      "application/vnd.plotly.v1+json": {
       "config": {
        "plotlyServerURL": "https://plot.ly"
       },
       "data": [
        {
         "hovertemplate": "Rounded=%{x}<br>Shifted=%{y}<extra></extra>",
         "legendgroup": "",
         "marker": {
          "color": "#636efa",
          "symbol": "circle"
         },
         "mode": "markers",
         "name": "",
         "orientation": "v",
         "showlegend": false,
         "type": "scatter",
         "x": [
          6,
          -2,
          4,
          1,
          1,
          0,
          0,
          -1,
          2,
          2,
          -3,
          2,
          -1,
          0,
          2,
          4,
          0,
          4,
          6,
          4,
          1,
          1,
          -1,
          -2,
          0,
          2,
          4,
          -1,
          1,
          -2,
          2,
          1,
          0,
          3,
          3,
          -1,
          -1,
          0,
          -2,
          2,
          -1,
          -2,
          0,
          1,
          2,
          0,
          0,
          0,
          -2,
          -2,
          4,
          -1,
          -1,
          -3,
          -5,
          -2,
          -1,
          -1,
          2,
          -1,
          1,
          -3,
          -1,
          -1,
          0,
          -5,
          -1,
          -2,
          -1,
          -1,
          1,
          2,
          -1,
          -4,
          4,
          -1,
          -4,
          -6,
          2,
          1,
          -1,
          1,
          1,
          2,
          -2,
          -1,
          -1,
          -3,
          1,
          0,
          3,
          1,
          0,
          3,
          3,
          3,
          -2,
          -1,
          -3,
          2,
          0,
          1,
          -3,
          2,
          1,
          1,
          1,
          -1,
          0,
          5,
          -5,
          2,
          0,
          -1,
          2,
          3,
          1,
          1,
          -2,
          0,
          -1,
          -4,
          0,
          -1,
          1,
          -1,
          -2,
          1,
          0,
          0,
          -4,
          2,
          -3,
          2,
          1,
          6,
          2,
          0,
          -2,
          4,
          2,
          -3,
          0,
          1,
          1,
          2,
          0,
          4,
          2,
          0,
          2,
          4,
          -1,
          1,
          3,
          0,
          0,
          6,
          -1,
          -2,
          0,
          1,
          1,
          -4,
          6,
          2,
          2,
          -2,
          2,
          0,
          2,
          0,
          -3,
          0,
          2,
          -1,
          1,
          -1,
          -2,
          0,
          0,
          -1,
          0,
          0,
          0,
          1,
          2,
          -3,
          -1,
          -2,
          -1,
          -1,
          2,
          -2,
          2,
          0,
          3,
          -6,
          0,
          1,
          1,
          -2,
          1,
          -2,
          -3,
          0,
          0,
          -2,
          4,
          0,
          -2,
          -2,
          0,
          -2,
          2,
          0,
          -2,
          3,
          4,
          0,
          -2,
          -2,
          3,
          0,
          3,
          0,
          -1,
          1,
          -2,
          -1,
          -1,
          -1,
          2,
          -1,
          0,
          -2,
          3,
          -4,
          -1,
          0,
          3,
          -3,
          -1,
          1,
          -6,
          -1,
          -5,
          0,
          3,
          1,
          -2,
          1,
          3,
          1,
          -3,
          -3,
          0,
          3,
          2,
          2,
          -2,
          0,
          2,
          -2,
          4,
          4,
          -2,
          0,
          -2,
          2,
          2,
          2,
          2,
          2,
          2,
          -3,
          -4,
          3,
          -2,
          -2,
          4,
          2,
          1,
          0,
          0,
          0,
          -1,
          -4,
          -2,
          0,
          -3,
          0,
          0,
          0,
          1,
          4,
          0,
          2,
          2,
          0,
          -3,
          -2,
          0,
          2,
          0,
          -2,
          3,
          1,
          4,
          -1,
          2,
          0,
          3,
          -1,
          1,
          0,
          -2,
          2,
          2,
          2
         ],
         "xaxis": "x",
         "y": [
          5,
          -3,
          4,
          1,
          0,
          0,
          -1,
          -1,
          2,
          1,
          -3,
          2,
          -1,
          0,
          2,
          4,
          0,
          3,
          6,
          3,
          0,
          1,
          -1,
          -2,
          -1,
          1,
          4,
          -2,
          0,
          -2,
          2,
          1,
          0,
          3,
          2,
          -1,
          -2,
          -1,
          -3,
          2,
          -2,
          -2,
          -1,
          0,
          1,
          -1,
          0,
          -1,
          -3,
          -2,
          3,
          -1,
          -1,
          -3,
          -5,
          -2,
          -2,
          -1,
          1,
          -2,
          0,
          -3,
          -1,
          -1,
          -1,
          -6,
          -2,
          -3,
          -2,
          -1,
          1,
          1,
          -1,
          -5,
          3,
          -1,
          -5,
          -7,
          2,
          0,
          -1,
          0,
          0,
          1,
          -3,
          -2,
          -2,
          -4,
          0,
          -1,
          2,
          0,
          0,
          2,
          3,
          3,
          -2,
          -1,
          -4,
          2,
          0,
          0,
          -3,
          2,
          0,
          0,
          0,
          -1,
          0,
          4,
          -5,
          1,
          0,
          -1,
          1,
          2,
          0,
          0,
          -2,
          0,
          -1,
          -5,
          -1,
          -1,
          0,
          -1,
          -3,
          0,
          0,
          0,
          -4,
          1,
          -3,
          1,
          1,
          5,
          1,
          0,
          -3,
          4,
          2,
          -3,
          -1,
          1,
          1,
          1,
          0,
          4,
          2,
          0,
          2,
          4,
          -1,
          1,
          3,
          0,
          -1,
          5,
          -1,
          -2,
          -1,
          1,
          1,
          -4,
          6,
          1,
          2,
          -2,
          2,
          -1,
          1,
          0,
          -3,
          -1,
          2,
          -1,
          1,
          -1,
          -2,
          -1,
          0,
          -1,
          0,
          0,
          -1,
          1,
          2,
          -3,
          -1,
          -2,
          -1,
          -1,
          1,
          -3,
          2,
          0,
          3,
          -6,
          0,
          1,
          1,
          -2,
          1,
          -3,
          -3,
          -1,
          0,
          -2,
          3,
          0,
          -2,
          -2,
          0,
          -2,
          1,
          0,
          -2,
          3,
          4,
          0,
          -2,
          -2,
          3,
          -1,
          3,
          0,
          -2,
          1,
          -2,
          -1,
          -1,
          -2,
          2,
          -2,
          -1,
          -2,
          3,
          -4,
          -1,
          0,
          2,
          -4,
          -2,
          1,
          -6,
          -1,
          -6,
          0,
          3,
          0,
          -3,
          1,
          3,
          0,
          -4,
          -4,
          0,
          3,
          1,
          1,
          -2,
          0,
          1,
          -3,
          4,
          3,
          -2,
          0,
          -2,
          2,
          2,
          2,
          2,
          2,
          1,
          -3,
          -4,
          3,
          -2,
          -2,
          3,
          1,
          1,
          0,
          0,
          0,
          -1,
          -5,
          -3,
          -1,
          -3,
          -1,
          0,
          0,
          1,
          3,
          0,
          1,
          2,
          0,
          -3,
          -3,
          0,
          2,
          0,
          -2,
          3,
          1,
          4,
          -1,
          2,
          -1,
          3,
          -1,
          1,
          0,
          -3,
          1,
          2,
          2
         ],
         "yaxis": "y"
        }
       ],
       "layout": {
        "height": 400,
        "legend": {
         "tracegroupgap": 0
        },
        "template": {
         "data": {
          "bar": [
           {
            "error_x": {
             "color": "#2a3f5f"
            },
            "error_y": {
             "color": "#2a3f5f"
            },
            "marker": {
             "line": {
              "color": "#E5ECF6",
              "width": 0.5
             },
             "pattern": {
              "fillmode": "overlay",
              "size": 10,
              "solidity": 0.2
             }
            },
            "type": "bar"
           }
          ],
          "barpolar": [
           {
            "marker": {
             "line": {
              "color": "#E5ECF6",
              "width": 0.5
             },
             "pattern": {
              "fillmode": "overlay",
              "size": 10,
              "solidity": 0.2
             }
            },
            "type": "barpolar"
           }
          ],
          "carpet": [
           {
            "aaxis": {
             "endlinecolor": "#2a3f5f",
             "gridcolor": "white",
             "linecolor": "white",
             "minorgridcolor": "white",
             "startlinecolor": "#2a3f5f"
            },
            "baxis": {
             "endlinecolor": "#2a3f5f",
             "gridcolor": "white",
             "linecolor": "white",
             "minorgridcolor": "white",
             "startlinecolor": "#2a3f5f"
            },
            "type": "carpet"
           }
          ],
          "choropleth": [
           {
            "colorbar": {
             "outlinewidth": 0,
             "ticks": ""
            },
            "type": "choropleth"
           }
          ],
          "contour": [
           {
            "colorbar": {
             "outlinewidth": 0,
             "ticks": ""
            },
            "colorscale": [
             [
              0,
              "#0d0887"
             ],
             [
              0.1111111111111111,
              "#46039f"
             ],
             [
              0.2222222222222222,
              "#7201a8"
             ],
             [
              0.3333333333333333,
              "#9c179e"
             ],
             [
              0.4444444444444444,
              "#bd3786"
             ],
             [
              0.5555555555555556,
              "#d8576b"
             ],
             [
              0.6666666666666666,
              "#ed7953"
             ],
             [
              0.7777777777777778,
              "#fb9f3a"
             ],
             [
              0.8888888888888888,
              "#fdca26"
             ],
             [
              1,
              "#f0f921"
             ]
            ],
            "type": "contour"
           }
          ],
          "contourcarpet": [
           {
            "colorbar": {
             "outlinewidth": 0,
             "ticks": ""
            },
            "type": "contourcarpet"
           }
          ],
          "heatmap": [
           {
            "colorbar": {
             "outlinewidth": 0,
             "ticks": ""
            },
            "colorscale": [
             [
              0,
              "#0d0887"
             ],
             [
              0.1111111111111111,
              "#46039f"
             ],
             [
              0.2222222222222222,
              "#7201a8"
             ],
             [
              0.3333333333333333,
              "#9c179e"
             ],
             [
              0.4444444444444444,
              "#bd3786"
             ],
             [
              0.5555555555555556,
              "#d8576b"
             ],
             [
              0.6666666666666666,
              "#ed7953"
             ],
             [
              0.7777777777777778,
              "#fb9f3a"
             ],
             [
              0.8888888888888888,
              "#fdca26"
             ],
             [
              1,
              "#f0f921"
             ]
            ],
            "type": "heatmap"
           }
          ],
          "heatmapgl": [
           {
            "colorbar": {
             "outlinewidth": 0,
             "ticks": ""
            },
            "colorscale": [
             [
              0,
              "#0d0887"
             ],
             [
              0.1111111111111111,
              "#46039f"
             ],
             [
              0.2222222222222222,
              "#7201a8"
             ],
             [
              0.3333333333333333,
              "#9c179e"
             ],
             [
              0.4444444444444444,
              "#bd3786"
             ],
             [
              0.5555555555555556,
              "#d8576b"
             ],
             [
              0.6666666666666666,
              "#ed7953"
             ],
             [
              0.7777777777777778,
              "#fb9f3a"
             ],
             [
              0.8888888888888888,
              "#fdca26"
             ],
             [
              1,
              "#f0f921"
             ]
            ],
            "type": "heatmapgl"
           }
          ],
          "histogram": [
           {
            "marker": {
             "pattern": {
              "fillmode": "overlay",
              "size": 10,
              "solidity": 0.2
             }
            },
            "type": "histogram"
           }
          ],
          "histogram2d": [
           {
            "colorbar": {
             "outlinewidth": 0,
             "ticks": ""
            },
            "colorscale": [
             [
              0,
              "#0d0887"
             ],
             [
              0.1111111111111111,
              "#46039f"
             ],
             [
              0.2222222222222222,
              "#7201a8"
             ],
             [
              0.3333333333333333,
              "#9c179e"
             ],
             [
              0.4444444444444444,
              "#bd3786"
             ],
             [
              0.5555555555555556,
              "#d8576b"
             ],
             [
              0.6666666666666666,
              "#ed7953"
             ],
             [
              0.7777777777777778,
              "#fb9f3a"
             ],
             [
              0.8888888888888888,
              "#fdca26"
             ],
             [
              1,
              "#f0f921"
             ]
            ],
            "type": "histogram2d"
           }
          ],
          "histogram2dcontour": [
           {
            "colorbar": {
             "outlinewidth": 0,
             "ticks": ""
            },
            "colorscale": [
             [
              0,
              "#0d0887"
             ],
             [
              0.1111111111111111,
              "#46039f"
             ],
             [
              0.2222222222222222,
              "#7201a8"
             ],
             [
              0.3333333333333333,
              "#9c179e"
             ],
             [
              0.4444444444444444,
              "#bd3786"
             ],
             [
              0.5555555555555556,
              "#d8576b"
             ],
             [
              0.6666666666666666,
              "#ed7953"
             ],
             [
              0.7777777777777778,
              "#fb9f3a"
             ],
             [
              0.8888888888888888,
              "#fdca26"
             ],
             [
              1,
              "#f0f921"
             ]
            ],
            "type": "histogram2dcontour"
           }
          ],
          "mesh3d": [
           {
            "colorbar": {
             "outlinewidth": 0,
             "ticks": ""
            },
            "type": "mesh3d"
           }
          ],
          "parcoords": [
           {
            "line": {
             "colorbar": {
              "outlinewidth": 0,
              "ticks": ""
             }
            },
            "type": "parcoords"
           }
          ],
          "pie": [
           {
            "automargin": true,
            "type": "pie"
           }
          ],
          "scatter": [
           {
            "fillpattern": {
             "fillmode": "overlay",
             "size": 10,
             "solidity": 0.2
            },
            "type": "scatter"
           }
          ],
          "scatter3d": [
           {
            "line": {
             "colorbar": {
              "outlinewidth": 0,
              "ticks": ""
             }
            },
            "marker": {
             "colorbar": {
              "outlinewidth": 0,
              "ticks": ""
             }
            },
            "type": "scatter3d"
           }
          ],
          "scattercarpet": [
           {
            "marker": {
             "colorbar": {
              "outlinewidth": 0,
              "ticks": ""
             }
            },
            "type": "scattercarpet"
           }
          ],
          "scattergeo": [
           {
            "marker": {
             "colorbar": {
              "outlinewidth": 0,
              "ticks": ""
             }
            },
            "type": "scattergeo"
           }
          ],
          "scattergl": [
           {
            "marker": {
             "colorbar": {
              "outlinewidth": 0,
              "ticks": ""
             }
            },
            "type": "scattergl"
           }
          ],
          "scattermapbox": [
           {
            "marker": {
             "colorbar": {
              "outlinewidth": 0,
              "ticks": ""
             }
            },
            "type": "scattermapbox"
           }
          ],
          "scatterpolar": [
           {
            "marker": {
             "colorbar": {
              "outlinewidth": 0,
              "ticks": ""
             }
            },
            "type": "scatterpolar"
           }
          ],
          "scatterpolargl": [
           {
            "marker": {
             "colorbar": {
              "outlinewidth": 0,
              "ticks": ""
             }
            },
            "type": "scatterpolargl"
           }
          ],
          "scatterternary": [
           {
            "marker": {
             "colorbar": {
              "outlinewidth": 0,
              "ticks": ""
             }
            },
            "type": "scatterternary"
           }
          ],
          "surface": [
           {
            "colorbar": {
             "outlinewidth": 0,
             "ticks": ""
            },
            "colorscale": [
             [
              0,
              "#0d0887"
             ],
             [
              0.1111111111111111,
              "#46039f"
             ],
             [
              0.2222222222222222,
              "#7201a8"
             ],
             [
              0.3333333333333333,
              "#9c179e"
             ],
             [
              0.4444444444444444,
              "#bd3786"
             ],
             [
              0.5555555555555556,
              "#d8576b"
             ],
             [
              0.6666666666666666,
              "#ed7953"
             ],
             [
              0.7777777777777778,
              "#fb9f3a"
             ],
             [
              0.8888888888888888,
              "#fdca26"
             ],
             [
              1,
              "#f0f921"
             ]
            ],
            "type": "surface"
           }
          ],
          "table": [
           {
            "cells": {
             "fill": {
              "color": "#EBF0F8"
             },
             "line": {
              "color": "white"
             }
            },
            "header": {
             "fill": {
              "color": "#C8D4E3"
             },
             "line": {
              "color": "white"
             }
            },
            "type": "table"
           }
          ]
         },
         "layout": {
          "annotationdefaults": {
           "arrowcolor": "#2a3f5f",
           "arrowhead": 0,
           "arrowwidth": 1
          },
          "autotypenumbers": "strict",
          "coloraxis": {
           "colorbar": {
            "outlinewidth": 0,
            "ticks": ""
           }
          },
          "colorscale": {
           "diverging": [
            [
             0,
             "#8e0152"
            ],
            [
             0.1,
             "#c51b7d"
            ],
            [
             0.2,
             "#de77ae"
            ],
            [
             0.3,
             "#f1b6da"
            ],
            [
             0.4,
             "#fde0ef"
            ],
            [
             0.5,
             "#f7f7f7"
            ],
            [
             0.6,
             "#e6f5d0"
            ],
            [
             0.7,
             "#b8e186"
            ],
            [
             0.8,
             "#7fbc41"
            ],
            [
             0.9,
             "#4d9221"
            ],
            [
             1,
             "#276419"
            ]
           ],
           "sequential": [
            [
             0,
             "#0d0887"
            ],
            [
             0.1111111111111111,
             "#46039f"
            ],
            [
             0.2222222222222222,
             "#7201a8"
            ],
            [
             0.3333333333333333,
             "#9c179e"
            ],
            [
             0.4444444444444444,
             "#bd3786"
            ],
            [
             0.5555555555555556,
             "#d8576b"
            ],
            [
             0.6666666666666666,
             "#ed7953"
            ],
            [
             0.7777777777777778,
             "#fb9f3a"
            ],
            [
             0.8888888888888888,
             "#fdca26"
            ],
            [
             1,
             "#f0f921"
            ]
           ],
           "sequentialminus": [
            [
             0,
             "#0d0887"
            ],
            [
             0.1111111111111111,
             "#46039f"
            ],
            [
             0.2222222222222222,
             "#7201a8"
            ],
            [
             0.3333333333333333,
             "#9c179e"
            ],
            [
             0.4444444444444444,
             "#bd3786"
            ],
            [
             0.5555555555555556,
             "#d8576b"
            ],
            [
             0.6666666666666666,
             "#ed7953"
            ],
            [
             0.7777777777777778,
             "#fb9f3a"
            ],
            [
             0.8888888888888888,
             "#fdca26"
            ],
            [
             1,
             "#f0f921"
            ]
           ]
          },
          "colorway": [
           "#636efa",
           "#EF553B",
           "#00cc96",
           "#ab63fa",
           "#FFA15A",
           "#19d3f3",
           "#FF6692",
           "#B6E880",
           "#FF97FF",
           "#FECB52"
          ],
          "font": {
           "color": "#2a3f5f"
          },
          "geo": {
           "bgcolor": "white",
           "lakecolor": "white",
           "landcolor": "#E5ECF6",
           "showlakes": true,
           "showland": true,
           "subunitcolor": "white"
          },
          "hoverlabel": {
           "align": "left"
          },
          "hovermode": "closest",
          "mapbox": {
           "style": "light"
          },
          "paper_bgcolor": "white",
          "plot_bgcolor": "#E5ECF6",
          "polar": {
           "angularaxis": {
            "gridcolor": "white",
            "linecolor": "white",
            "ticks": ""
           },
           "bgcolor": "#E5ECF6",
           "radialaxis": {
            "gridcolor": "white",
            "linecolor": "white",
            "ticks": ""
           }
          },
          "scene": {
           "xaxis": {
            "backgroundcolor": "#E5ECF6",
            "gridcolor": "white",
            "gridwidth": 2,
            "linecolor": "white",
            "showbackground": true,
            "ticks": "",
            "zerolinecolor": "white"
           },
           "yaxis": {
            "backgroundcolor": "#E5ECF6",
            "gridcolor": "white",
            "gridwidth": 2,
            "linecolor": "white",
            "showbackground": true,
            "ticks": "",
            "zerolinecolor": "white"
           },
           "zaxis": {
            "backgroundcolor": "#E5ECF6",
            "gridcolor": "white",
            "gridwidth": 2,
            "linecolor": "white",
            "showbackground": true,
            "ticks": "",
            "zerolinecolor": "white"
           }
          },
          "shapedefaults": {
           "line": {
            "color": "#2a3f5f"
           }
          },
          "ternary": {
           "aaxis": {
            "gridcolor": "white",
            "linecolor": "white",
            "ticks": ""
           },
           "baxis": {
            "gridcolor": "white",
            "linecolor": "white",
            "ticks": ""
           },
           "bgcolor": "#E5ECF6",
           "caxis": {
            "gridcolor": "white",
            "linecolor": "white",
            "ticks": ""
           }
          },
          "title": {
           "x": 0.05
          },
          "xaxis": {
           "automargin": true,
           "gridcolor": "white",
           "linecolor": "white",
           "ticks": "",
           "title": {
            "standoff": 15
           },
           "zerolinecolor": "white",
           "zerolinewidth": 2
          },
          "yaxis": {
           "automargin": true,
           "gridcolor": "white",
           "linecolor": "white",
           "ticks": "",
           "title": {
            "standoff": 15
           },
           "zerolinecolor": "white",
           "zerolinewidth": 2
          }
         }
        },
        "title": {
         "text": "Rounded vs Shifted"
        },
        "width": 400,
        "xaxis": {
         "anchor": "y",
         "domain": [
          0,
          1
         ],
         "title": {
          "text": "Rounded"
         }
        },
        "yaxis": {
         "anchor": "x",
         "domain": [
          0,
          1
         ],
         "title": {
          "text": "Shifted"
         }
        }
       }
      },
      "text/html": [
       "<div>                            <div id=\"5038cf78-8ed9-4cc8-a0d8-7e19093cfdf1\" class=\"plotly-graph-div\" style=\"height:400px; width:400px;\"></div>            <script type=\"text/javascript\">                require([\"plotly\"], function(Plotly) {                    window.PLOTLYENV=window.PLOTLYENV || {};                                    if (document.getElementById(\"5038cf78-8ed9-4cc8-a0d8-7e19093cfdf1\")) {                    Plotly.newPlot(                        \"5038cf78-8ed9-4cc8-a0d8-7e19093cfdf1\",                        [{\"hovertemplate\":\"Rounded=%{x}\\u003cbr\\u003eShifted=%{y}\\u003cextra\\u003e\\u003c\\u002fextra\\u003e\",\"legendgroup\":\"\",\"marker\":{\"color\":\"#636efa\",\"symbol\":\"circle\"},\"mode\":\"markers\",\"name\":\"\",\"orientation\":\"v\",\"showlegend\":false,\"x\":[6,-2,4,1,1,0,0,-1,2,2,-3,2,-1,0,2,4,0,4,6,4,1,1,-1,-2,0,2,4,-1,1,-2,2,1,0,3,3,-1,-1,0,-2,2,-1,-2,0,1,2,0,0,0,-2,-2,4,-1,-1,-3,-5,-2,-1,-1,2,-1,1,-3,-1,-1,0,-5,-1,-2,-1,-1,1,2,-1,-4,4,-1,-4,-6,2,1,-1,1,1,2,-2,-1,-1,-3,1,0,3,1,0,3,3,3,-2,-1,-3,2,0,1,-3,2,1,1,1,-1,0,5,-5,2,0,-1,2,3,1,1,-2,0,-1,-4,0,-1,1,-1,-2,1,0,0,-4,2,-3,2,1,6,2,0,-2,4,2,-3,0,1,1,2,0,4,2,0,2,4,-1,1,3,0,0,6,-1,-2,0,1,1,-4,6,2,2,-2,2,0,2,0,-3,0,2,-1,1,-1,-2,0,0,-1,0,0,0,1,2,-3,-1,-2,-1,-1,2,-2,2,0,3,-6,0,1,1,-2,1,-2,-3,0,0,-2,4,0,-2,-2,0,-2,2,0,-2,3,4,0,-2,-2,3,0,3,0,-1,1,-2,-1,-1,-1,2,-1,0,-2,3,-4,-1,0,3,-3,-1,1,-6,-1,-5,0,3,1,-2,1,3,1,-3,-3,0,3,2,2,-2,0,2,-2,4,4,-2,0,-2,2,2,2,2,2,2,-3,-4,3,-2,-2,4,2,1,0,0,0,-1,-4,-2,0,-3,0,0,0,1,4,0,2,2,0,-3,-2,0,2,0,-2,3,1,4,-1,2,0,3,-1,1,0,-2,2,2,2],\"xaxis\":\"x\",\"y\":[5.0,-3.0,4.0,1.0,0.0,0.0,-1.0,-1.0,2.0,1.0,-3.0,2.0,-1.0,0.0,2.0,4.0,0.0,3.0,6.0,3.0,0.0,1.0,-1.0,-2.0,-1.0,1.0,4.0,-2.0,0.0,-2.0,2.0,1.0,0.0,3.0,2.0,-1.0,-2.0,-1.0,-3.0,2.0,-2.0,-2.0,-1.0,0.0,1.0,-1.0,0.0,-1.0,-3.0,-2.0,3.0,-1.0,-1.0,-3.0,-5.0,-2.0,-2.0,-1.0,1.0,-2.0,0.0,-3.0,-1.0,-1.0,-1.0,-6.0,-2.0,-3.0,-2.0,-1.0,1.0,1.0,-1.0,-5.0,3.0,-1.0,-5.0,-7.0,2.0,0.0,-1.0,0.0,0.0,1.0,-3.0,-2.0,-2.0,-4.0,0.0,-1.0,2.0,0.0,0.0,2.0,3.0,3.0,-2.0,-1.0,-4.0,2.0,0.0,0.0,-3.0,2.0,0.0,0.0,0.0,-1.0,0.0,4.0,-5.0,1.0,0.0,-1.0,1.0,2.0,0.0,0.0,-2.0,0.0,-1.0,-5.0,-1.0,-1.0,0.0,-1.0,-3.0,0.0,0.0,0.0,-4.0,1.0,-3.0,1.0,1.0,5.0,1.0,0.0,-3.0,4.0,2.0,-3.0,-1.0,1.0,1.0,1.0,0.0,4.0,2.0,0.0,2.0,4.0,-1.0,1.0,3.0,0.0,-1.0,5.0,-1.0,-2.0,-1.0,1.0,1.0,-4.0,6.0,1.0,2.0,-2.0,2.0,-1.0,1.0,0.0,-3.0,-1.0,2.0,-1.0,1.0,-1.0,-2.0,-1.0,0.0,-1.0,0.0,0.0,-1.0,1.0,2.0,-3.0,-1.0,-2.0,-1.0,-1.0,1.0,-3.0,2.0,0.0,3.0,-6.0,0.0,1.0,1.0,-2.0,1.0,-3.0,-3.0,-1.0,0.0,-2.0,3.0,0.0,-2.0,-2.0,0.0,-2.0,1.0,0.0,-2.0,3.0,4.0,0.0,-2.0,-2.0,3.0,-1.0,3.0,0.0,-2.0,1.0,-2.0,-1.0,-1.0,-2.0,2.0,-2.0,-1.0,-2.0,3.0,-4.0,-1.0,0.0,2.0,-4.0,-2.0,1.0,-6.0,-1.0,-6.0,0.0,3.0,0.0,-3.0,1.0,3.0,0.0,-4.0,-4.0,0.0,3.0,1.0,1.0,-2.0,0.0,1.0,-3.0,4.0,3.0,-2.0,0.0,-2.0,2.0,2.0,2.0,2.0,2.0,1.0,-3.0,-4.0,3.0,-2.0,-2.0,3.0,1.0,1.0,0.0,0.0,0.0,-1.0,-5.0,-3.0,-1.0,-3.0,-1.0,0.0,0.0,1.0,3.0,0.0,1.0,2.0,0.0,-3.0,-3.0,0.0,2.0,0.0,-2.0,3.0,1.0,4.0,-1.0,2.0,-1.0,3.0,-1.0,1.0,0.0,-3.0,1.0,2.0,2.0],\"yaxis\":\"y\",\"type\":\"scatter\"}],                        {\"template\":{\"data\":{\"histogram2dcontour\":[{\"type\":\"histogram2dcontour\",\"colorbar\":{\"outlinewidth\":0,\"ticks\":\"\"},\"colorscale\":[[0.0,\"#0d0887\"],[0.1111111111111111,\"#46039f\"],[0.2222222222222222,\"#7201a8\"],[0.3333333333333333,\"#9c179e\"],[0.4444444444444444,\"#bd3786\"],[0.5555555555555556,\"#d8576b\"],[0.6666666666666666,\"#ed7953\"],[0.7777777777777778,\"#fb9f3a\"],[0.8888888888888888,\"#fdca26\"],[1.0,\"#f0f921\"]]}],\"choropleth\":[{\"type\":\"choropleth\",\"colorbar\":{\"outlinewidth\":0,\"ticks\":\"\"}}],\"histogram2d\":[{\"type\":\"histogram2d\",\"colorbar\":{\"outlinewidth\":0,\"ticks\":\"\"},\"colorscale\":[[0.0,\"#0d0887\"],[0.1111111111111111,\"#46039f\"],[0.2222222222222222,\"#7201a8\"],[0.3333333333333333,\"#9c179e\"],[0.4444444444444444,\"#bd3786\"],[0.5555555555555556,\"#d8576b\"],[0.6666666666666666,\"#ed7953\"],[0.7777777777777778,\"#fb9f3a\"],[0.8888888888888888,\"#fdca26\"],[1.0,\"#f0f921\"]]}],\"heatmap\":[{\"type\":\"heatmap\",\"colorbar\":{\"outlinewidth\":0,\"ticks\":\"\"},\"colorscale\":[[0.0,\"#0d0887\"],[0.1111111111111111,\"#46039f\"],[0.2222222222222222,\"#7201a8\"],[0.3333333333333333,\"#9c179e\"],[0.4444444444444444,\"#bd3786\"],[0.5555555555555556,\"#d8576b\"],[0.6666666666666666,\"#ed7953\"],[0.7777777777777778,\"#fb9f3a\"],[0.8888888888888888,\"#fdca26\"],[1.0,\"#f0f921\"]]}],\"heatmapgl\":[{\"type\":\"heatmapgl\",\"colorbar\":{\"outlinewidth\":0,\"ticks\":\"\"},\"colorscale\":[[0.0,\"#0d0887\"],[0.1111111111111111,\"#46039f\"],[0.2222222222222222,\"#7201a8\"],[0.3333333333333333,\"#9c179e\"],[0.4444444444444444,\"#bd3786\"],[0.5555555555555556,\"#d8576b\"],[0.6666666666666666,\"#ed7953\"],[0.7777777777777778,\"#fb9f3a\"],[0.8888888888888888,\"#fdca26\"],[1.0,\"#f0f921\"]]}],\"contourcarpet\":[{\"type\":\"contourcarpet\",\"colorbar\":{\"outlinewidth\":0,\"ticks\":\"\"}}],\"contour\":[{\"type\":\"contour\",\"colorbar\":{\"outlinewidth\":0,\"ticks\":\"\"},\"colorscale\":[[0.0,\"#0d0887\"],[0.1111111111111111,\"#46039f\"],[0.2222222222222222,\"#7201a8\"],[0.3333333333333333,\"#9c179e\"],[0.4444444444444444,\"#bd3786\"],[0.5555555555555556,\"#d8576b\"],[0.6666666666666666,\"#ed7953\"],[0.7777777777777778,\"#fb9f3a\"],[0.8888888888888888,\"#fdca26\"],[1.0,\"#f0f921\"]]}],\"surface\":[{\"type\":\"surface\",\"colorbar\":{\"outlinewidth\":0,\"ticks\":\"\"},\"colorscale\":[[0.0,\"#0d0887\"],[0.1111111111111111,\"#46039f\"],[0.2222222222222222,\"#7201a8\"],[0.3333333333333333,\"#9c179e\"],[0.4444444444444444,\"#bd3786\"],[0.5555555555555556,\"#d8576b\"],[0.6666666666666666,\"#ed7953\"],[0.7777777777777778,\"#fb9f3a\"],[0.8888888888888888,\"#fdca26\"],[1.0,\"#f0f921\"]]}],\"mesh3d\":[{\"type\":\"mesh3d\",\"colorbar\":{\"outlinewidth\":0,\"ticks\":\"\"}}],\"scatter\":[{\"fillpattern\":{\"fillmode\":\"overlay\",\"size\":10,\"solidity\":0.2},\"type\":\"scatter\"}],\"parcoords\":[{\"type\":\"parcoords\",\"line\":{\"colorbar\":{\"outlinewidth\":0,\"ticks\":\"\"}}}],\"scatterpolargl\":[{\"type\":\"scatterpolargl\",\"marker\":{\"colorbar\":{\"outlinewidth\":0,\"ticks\":\"\"}}}],\"bar\":[{\"error_x\":{\"color\":\"#2a3f5f\"},\"error_y\":{\"color\":\"#2a3f5f\"},\"marker\":{\"line\":{\"color\":\"#E5ECF6\",\"width\":0.5},\"pattern\":{\"fillmode\":\"overlay\",\"size\":10,\"solidity\":0.2}},\"type\":\"bar\"}],\"scattergeo\":[{\"type\":\"scattergeo\",\"marker\":{\"colorbar\":{\"outlinewidth\":0,\"ticks\":\"\"}}}],\"scatterpolar\":[{\"type\":\"scatterpolar\",\"marker\":{\"colorbar\":{\"outlinewidth\":0,\"ticks\":\"\"}}}],\"histogram\":[{\"marker\":{\"pattern\":{\"fillmode\":\"overlay\",\"size\":10,\"solidity\":0.2}},\"type\":\"histogram\"}],\"scattergl\":[{\"type\":\"scattergl\",\"marker\":{\"colorbar\":{\"outlinewidth\":0,\"ticks\":\"\"}}}],\"scatter3d\":[{\"type\":\"scatter3d\",\"line\":{\"colorbar\":{\"outlinewidth\":0,\"ticks\":\"\"}},\"marker\":{\"colorbar\":{\"outlinewidth\":0,\"ticks\":\"\"}}}],\"scattermapbox\":[{\"type\":\"scattermapbox\",\"marker\":{\"colorbar\":{\"outlinewidth\":0,\"ticks\":\"\"}}}],\"scatterternary\":[{\"type\":\"scatterternary\",\"marker\":{\"colorbar\":{\"outlinewidth\":0,\"ticks\":\"\"}}}],\"scattercarpet\":[{\"type\":\"scattercarpet\",\"marker\":{\"colorbar\":{\"outlinewidth\":0,\"ticks\":\"\"}}}],\"carpet\":[{\"aaxis\":{\"endlinecolor\":\"#2a3f5f\",\"gridcolor\":\"white\",\"linecolor\":\"white\",\"minorgridcolor\":\"white\",\"startlinecolor\":\"#2a3f5f\"},\"baxis\":{\"endlinecolor\":\"#2a3f5f\",\"gridcolor\":\"white\",\"linecolor\":\"white\",\"minorgridcolor\":\"white\",\"startlinecolor\":\"#2a3f5f\"},\"type\":\"carpet\"}],\"table\":[{\"cells\":{\"fill\":{\"color\":\"#EBF0F8\"},\"line\":{\"color\":\"white\"}},\"header\":{\"fill\":{\"color\":\"#C8D4E3\"},\"line\":{\"color\":\"white\"}},\"type\":\"table\"}],\"barpolar\":[{\"marker\":{\"line\":{\"color\":\"#E5ECF6\",\"width\":0.5},\"pattern\":{\"fillmode\":\"overlay\",\"size\":10,\"solidity\":0.2}},\"type\":\"barpolar\"}],\"pie\":[{\"automargin\":true,\"type\":\"pie\"}]},\"layout\":{\"autotypenumbers\":\"strict\",\"colorway\":[\"#636efa\",\"#EF553B\",\"#00cc96\",\"#ab63fa\",\"#FFA15A\",\"#19d3f3\",\"#FF6692\",\"#B6E880\",\"#FF97FF\",\"#FECB52\"],\"font\":{\"color\":\"#2a3f5f\"},\"hovermode\":\"closest\",\"hoverlabel\":{\"align\":\"left\"},\"paper_bgcolor\":\"white\",\"plot_bgcolor\":\"#E5ECF6\",\"polar\":{\"bgcolor\":\"#E5ECF6\",\"angularaxis\":{\"gridcolor\":\"white\",\"linecolor\":\"white\",\"ticks\":\"\"},\"radialaxis\":{\"gridcolor\":\"white\",\"linecolor\":\"white\",\"ticks\":\"\"}},\"ternary\":{\"bgcolor\":\"#E5ECF6\",\"aaxis\":{\"gridcolor\":\"white\",\"linecolor\":\"white\",\"ticks\":\"\"},\"baxis\":{\"gridcolor\":\"white\",\"linecolor\":\"white\",\"ticks\":\"\"},\"caxis\":{\"gridcolor\":\"white\",\"linecolor\":\"white\",\"ticks\":\"\"}},\"coloraxis\":{\"colorbar\":{\"outlinewidth\":0,\"ticks\":\"\"}},\"colorscale\":{\"sequential\":[[0.0,\"#0d0887\"],[0.1111111111111111,\"#46039f\"],[0.2222222222222222,\"#7201a8\"],[0.3333333333333333,\"#9c179e\"],[0.4444444444444444,\"#bd3786\"],[0.5555555555555556,\"#d8576b\"],[0.6666666666666666,\"#ed7953\"],[0.7777777777777778,\"#fb9f3a\"],[0.8888888888888888,\"#fdca26\"],[1.0,\"#f0f921\"]],\"sequentialminus\":[[0.0,\"#0d0887\"],[0.1111111111111111,\"#46039f\"],[0.2222222222222222,\"#7201a8\"],[0.3333333333333333,\"#9c179e\"],[0.4444444444444444,\"#bd3786\"],[0.5555555555555556,\"#d8576b\"],[0.6666666666666666,\"#ed7953\"],[0.7777777777777778,\"#fb9f3a\"],[0.8888888888888888,\"#fdca26\"],[1.0,\"#f0f921\"]],\"diverging\":[[0,\"#8e0152\"],[0.1,\"#c51b7d\"],[0.2,\"#de77ae\"],[0.3,\"#f1b6da\"],[0.4,\"#fde0ef\"],[0.5,\"#f7f7f7\"],[0.6,\"#e6f5d0\"],[0.7,\"#b8e186\"],[0.8,\"#7fbc41\"],[0.9,\"#4d9221\"],[1,\"#276419\"]]},\"xaxis\":{\"gridcolor\":\"white\",\"linecolor\":\"white\",\"ticks\":\"\",\"title\":{\"standoff\":15},\"zerolinecolor\":\"white\",\"automargin\":true,\"zerolinewidth\":2},\"yaxis\":{\"gridcolor\":\"white\",\"linecolor\":\"white\",\"ticks\":\"\",\"title\":{\"standoff\":15},\"zerolinecolor\":\"white\",\"automargin\":true,\"zerolinewidth\":2},\"scene\":{\"xaxis\":{\"backgroundcolor\":\"#E5ECF6\",\"gridcolor\":\"white\",\"linecolor\":\"white\",\"showbackground\":true,\"ticks\":\"\",\"zerolinecolor\":\"white\",\"gridwidth\":2},\"yaxis\":{\"backgroundcolor\":\"#E5ECF6\",\"gridcolor\":\"white\",\"linecolor\":\"white\",\"showbackground\":true,\"ticks\":\"\",\"zerolinecolor\":\"white\",\"gridwidth\":2},\"zaxis\":{\"backgroundcolor\":\"#E5ECF6\",\"gridcolor\":\"white\",\"linecolor\":\"white\",\"showbackground\":true,\"ticks\":\"\",\"zerolinecolor\":\"white\",\"gridwidth\":2}},\"shapedefaults\":{\"line\":{\"color\":\"#2a3f5f\"}},\"annotationdefaults\":{\"arrowcolor\":\"#2a3f5f\",\"arrowhead\":0,\"arrowwidth\":1},\"geo\":{\"bgcolor\":\"white\",\"landcolor\":\"#E5ECF6\",\"subunitcolor\":\"white\",\"showland\":true,\"showlakes\":true,\"lakecolor\":\"white\"},\"title\":{\"x\":0.05},\"mapbox\":{\"style\":\"light\"}}},\"xaxis\":{\"anchor\":\"y\",\"domain\":[0.0,1.0],\"title\":{\"text\":\"Rounded\"}},\"yaxis\":{\"anchor\":\"x\",\"domain\":[0.0,1.0],\"title\":{\"text\":\"Shifted\"}},\"legend\":{\"tracegroupgap\":0},\"title\":{\"text\":\"Rounded vs Shifted\"},\"height\":400,\"width\":400},                        {\"responsive\": true}                    ).then(function(){\n",
       "                            \n",
       "var gd = document.getElementById('5038cf78-8ed9-4cc8-a0d8-7e19093cfdf1');\n",
       "var x = new MutationObserver(function (mutations, observer) {{\n",
       "        var display = window.getComputedStyle(gd).display;\n",
       "        if (!display || display === 'none') {{\n",
       "            console.log([gd, 'removed!']);\n",
       "            Plotly.purge(gd);\n",
       "            observer.disconnect();\n",
       "        }}\n",
       "}});\n",
       "\n",
       "// Listen for the removal of the full notebook cells\n",
       "var notebookContainer = gd.closest('#notebook-container');\n",
       "if (notebookContainer) {{\n",
       "    x.observe(notebookContainer, {childList: true});\n",
       "}}\n",
       "\n",
       "// Listen for the clearing of the current output cell\n",
       "var outputEl = gd.closest('.output');\n",
       "if (outputEl) {{\n",
       "    x.observe(outputEl, {childList: true});\n",
       "}}\n",
       "\n",
       "                        })                };                });            </script>        </div>"
      ]
     },
     "metadata": {},
     "output_type": "display_data"
    }
   ],
   "source": [
    "px.scatter(x=wx_rounded.flatten(),y=rtl.flatten(),title='Rounded vs Shifted',labels={'x':'Rounded','y':'Shifted'}, width=400, height=400)"
   ]
  },
  {
   "cell_type": "code",
   "execution_count": 18,
   "metadata": {},
   "outputs": [
    {
     "data": {
      "application/vnd.plotly.v1+json": {
       "config": {
        "plotlyServerURL": "https://plot.ly"
       },
       "data": [
        {
         "hovertemplate": "Rounded=%{x}<br>AMS=%{y}<extra></extra>",
         "legendgroup": "",
         "marker": {
          "color": "#636efa",
          "symbol": "circle"
         },
         "mode": "markers",
         "name": "",
         "orientation": "v",
         "showlegend": false,
         "type": "scatter",
         "x": [
          6,
          -2,
          4,
          1,
          1,
          0,
          0,
          -1,
          2,
          2,
          -3,
          2,
          -1,
          0,
          2,
          4,
          0,
          4,
          6,
          4,
          1,
          1,
          -1,
          -2,
          0,
          2,
          4,
          -1,
          1,
          -2,
          2,
          1,
          0,
          3,
          3,
          -1,
          -1,
          0,
          -2,
          2,
          -1,
          -2,
          0,
          1,
          2,
          0,
          0,
          0,
          -2,
          -2,
          4,
          -1,
          -1,
          -3,
          -5,
          -2,
          -1,
          -1,
          2,
          -1,
          1,
          -3,
          -1,
          -1,
          0,
          -5,
          -1,
          -2,
          -1,
          -1,
          1,
          2,
          -1,
          -4,
          4,
          -1,
          -4,
          -6,
          2,
          1,
          -1,
          1,
          1,
          2,
          -2,
          -1,
          -1,
          -3,
          1,
          0,
          3,
          1,
          0,
          3,
          3,
          3,
          -2,
          -1,
          -3,
          2,
          0,
          1,
          -3,
          2,
          1,
          1,
          1,
          -1,
          0,
          5,
          -5,
          2,
          0,
          -1,
          2,
          3,
          1,
          1,
          -2,
          0,
          -1,
          -4,
          0,
          -1,
          1,
          -1,
          -2,
          1,
          0,
          0,
          -4,
          2,
          -3,
          2,
          1,
          6,
          2,
          0,
          -2,
          4,
          2,
          -3,
          0,
          1,
          1,
          2,
          0,
          4,
          2,
          0,
          2,
          4,
          -1,
          1,
          3,
          0,
          0,
          6,
          -1,
          -2,
          0,
          1,
          1,
          -4,
          6,
          2,
          2,
          -2,
          2,
          0,
          2,
          0,
          -3,
          0,
          2,
          -1,
          1,
          -1,
          -2,
          0,
          0,
          -1,
          0,
          0,
          0,
          1,
          2,
          -3,
          -1,
          -2,
          -1,
          -1,
          2,
          -2,
          2,
          0,
          3,
          -6,
          0,
          1,
          1,
          -2,
          1,
          -2,
          -3,
          0,
          0,
          -2,
          4,
          0,
          -2,
          -2,
          0,
          -2,
          2,
          0,
          -2,
          3,
          4,
          0,
          -2,
          -2,
          3,
          0,
          3,
          0,
          -1,
          1,
          -2,
          -1,
          -1,
          -1,
          2,
          -1,
          0,
          -2,
          3,
          -4,
          -1,
          0,
          3,
          -3,
          -1,
          1,
          -6,
          -1,
          -5,
          0,
          3,
          1,
          -2,
          1,
          3,
          1,
          -3,
          -3,
          0,
          3,
          2,
          2,
          -2,
          0,
          2,
          -2,
          4,
          4,
          -2,
          0,
          -2,
          2,
          2,
          2,
          2,
          2,
          2,
          -3,
          -4,
          3,
          -2,
          -2,
          4,
          2,
          1,
          0,
          0,
          0,
          -1,
          -4,
          -2,
          0,
          -3,
          0,
          0,
          0,
          1,
          4,
          0,
          2,
          2,
          0,
          -3,
          -2,
          0,
          2,
          0,
          -2,
          3,
          1,
          4,
          -1,
          2,
          0,
          3,
          -1,
          1,
          0,
          -2,
          2,
          2,
          2
         ],
         "xaxis": "x",
         "y": [
          6,
          -2,
          4,
          2,
          1,
          1,
          0,
          0,
          3,
          2,
          -2,
          3,
          0,
          1,
          3,
          4,
          1,
          4,
          6,
          4,
          1,
          2,
          0,
          -1,
          0,
          2,
          4,
          -1,
          1,
          -1,
          3,
          2,
          0,
          3,
          3,
          0,
          -1,
          0,
          -2,
          2,
          -1,
          -1,
          0,
          1,
          2,
          0,
          0,
          0,
          -2,
          -1,
          4,
          0,
          0,
          -2,
          -4,
          -1,
          -1,
          0,
          2,
          -1,
          1,
          -2,
          0,
          0,
          0,
          -5,
          -1,
          -2,
          -1,
          0,
          2,
          2,
          0,
          -4,
          4,
          0,
          -4,
          -6,
          3,
          1,
          0,
          1,
          1,
          2,
          -2,
          -1,
          -1,
          -3,
          1,
          0,
          3,
          1,
          1,
          3,
          4,
          4,
          -1,
          0,
          -3,
          3,
          1,
          1,
          -2,
          3,
          1,
          1,
          1,
          0,
          1,
          5,
          -4,
          2,
          1,
          0,
          2,
          3,
          1,
          1,
          -1,
          1,
          0,
          -4,
          0,
          0,
          1,
          0,
          -2,
          1,
          1,
          0,
          -3,
          2,
          -2,
          2,
          1,
          6,
          2,
          1,
          -2,
          4,
          2,
          -2,
          0,
          1,
          1,
          2,
          1,
          5,
          3,
          1,
          2,
          4,
          -1,
          1,
          3,
          1,
          0,
          6,
          -1,
          -1,
          0,
          1,
          1,
          -4,
          6,
          2,
          2,
          -1,
          3,
          0,
          2,
          0,
          -3,
          0,
          3,
          -1,
          1,
          -1,
          -1,
          0,
          0,
          -1,
          0,
          1,
          0,
          1,
          2,
          -3,
          -1,
          -1,
          -1,
          -1,
          2,
          -2,
          2,
          0,
          3,
          -5,
          0,
          1,
          1,
          -1,
          1,
          -2,
          -2,
          0,
          1,
          -1,
          4,
          1,
          -2,
          -2,
          0,
          -2,
          2,
          1,
          -2,
          3,
          4,
          0,
          -2,
          -1,
          3,
          0,
          4,
          1,
          -1,
          2,
          -1,
          0,
          0,
          -1,
          3,
          -1,
          0,
          -1,
          4,
          -3,
          0,
          1,
          3,
          -3,
          -1,
          2,
          -5,
          0,
          -5,
          1,
          4,
          1,
          -2,
          2,
          4,
          1,
          -3,
          -3,
          0,
          3,
          2,
          2,
          -1,
          1,
          2,
          -2,
          5,
          4,
          -1,
          0,
          -1,
          3,
          3,
          2,
          2,
          2,
          2,
          -2,
          -3,
          3,
          -1,
          -1,
          4,
          2,
          1,
          1,
          0,
          1,
          0,
          -4,
          -2,
          0,
          -3,
          0,
          1,
          1,
          1,
          4,
          1,
          2,
          3,
          1,
          -3,
          -2,
          0,
          3,
          1,
          -2,
          3,
          1,
          4,
          -1,
          3,
          0,
          3,
          -1,
          1,
          0,
          -2,
          2,
          3,
          2
         ],
         "yaxis": "y"
        }
       ],
       "layout": {
        "height": 400,
        "legend": {
         "tracegroupgap": 0
        },
        "template": {
         "data": {
          "bar": [
           {
            "error_x": {
             "color": "#2a3f5f"
            },
            "error_y": {
             "color": "#2a3f5f"
            },
            "marker": {
             "line": {
              "color": "#E5ECF6",
              "width": 0.5
             },
             "pattern": {
              "fillmode": "overlay",
              "size": 10,
              "solidity": 0.2
             }
            },
            "type": "bar"
           }
          ],
          "barpolar": [
           {
            "marker": {
             "line": {
              "color": "#E5ECF6",
              "width": 0.5
             },
             "pattern": {
              "fillmode": "overlay",
              "size": 10,
              "solidity": 0.2
             }
            },
            "type": "barpolar"
           }
          ],
          "carpet": [
           {
            "aaxis": {
             "endlinecolor": "#2a3f5f",
             "gridcolor": "white",
             "linecolor": "white",
             "minorgridcolor": "white",
             "startlinecolor": "#2a3f5f"
            },
            "baxis": {
             "endlinecolor": "#2a3f5f",
             "gridcolor": "white",
             "linecolor": "white",
             "minorgridcolor": "white",
             "startlinecolor": "#2a3f5f"
            },
            "type": "carpet"
           }
          ],
          "choropleth": [
           {
            "colorbar": {
             "outlinewidth": 0,
             "ticks": ""
            },
            "type": "choropleth"
           }
          ],
          "contour": [
           {
            "colorbar": {
             "outlinewidth": 0,
             "ticks": ""
            },
            "colorscale": [
             [
              0,
              "#0d0887"
             ],
             [
              0.1111111111111111,
              "#46039f"
             ],
             [
              0.2222222222222222,
              "#7201a8"
             ],
             [
              0.3333333333333333,
              "#9c179e"
             ],
             [
              0.4444444444444444,
              "#bd3786"
             ],
             [
              0.5555555555555556,
              "#d8576b"
             ],
             [
              0.6666666666666666,
              "#ed7953"
             ],
             [
              0.7777777777777778,
              "#fb9f3a"
             ],
             [
              0.8888888888888888,
              "#fdca26"
             ],
             [
              1,
              "#f0f921"
             ]
            ],
            "type": "contour"
           }
          ],
          "contourcarpet": [
           {
            "colorbar": {
             "outlinewidth": 0,
             "ticks": ""
            },
            "type": "contourcarpet"
           }
          ],
          "heatmap": [
           {
            "colorbar": {
             "outlinewidth": 0,
             "ticks": ""
            },
            "colorscale": [
             [
              0,
              "#0d0887"
             ],
             [
              0.1111111111111111,
              "#46039f"
             ],
             [
              0.2222222222222222,
              "#7201a8"
             ],
             [
              0.3333333333333333,
              "#9c179e"
             ],
             [
              0.4444444444444444,
              "#bd3786"
             ],
             [
              0.5555555555555556,
              "#d8576b"
             ],
             [
              0.6666666666666666,
              "#ed7953"
             ],
             [
              0.7777777777777778,
              "#fb9f3a"
             ],
             [
              0.8888888888888888,
              "#fdca26"
             ],
             [
              1,
              "#f0f921"
             ]
            ],
            "type": "heatmap"
           }
          ],
          "heatmapgl": [
           {
            "colorbar": {
             "outlinewidth": 0,
             "ticks": ""
            },
            "colorscale": [
             [
              0,
              "#0d0887"
             ],
             [
              0.1111111111111111,
              "#46039f"
             ],
             [
              0.2222222222222222,
              "#7201a8"
             ],
             [
              0.3333333333333333,
              "#9c179e"
             ],
             [
              0.4444444444444444,
              "#bd3786"
             ],
             [
              0.5555555555555556,
              "#d8576b"
             ],
             [
              0.6666666666666666,
              "#ed7953"
             ],
             [
              0.7777777777777778,
              "#fb9f3a"
             ],
             [
              0.8888888888888888,
              "#fdca26"
             ],
             [
              1,
              "#f0f921"
             ]
            ],
            "type": "heatmapgl"
           }
          ],
          "histogram": [
           {
            "marker": {
             "pattern": {
              "fillmode": "overlay",
              "size": 10,
              "solidity": 0.2
             }
            },
            "type": "histogram"
           }
          ],
          "histogram2d": [
           {
            "colorbar": {
             "outlinewidth": 0,
             "ticks": ""
            },
            "colorscale": [
             [
              0,
              "#0d0887"
             ],
             [
              0.1111111111111111,
              "#46039f"
             ],
             [
              0.2222222222222222,
              "#7201a8"
             ],
             [
              0.3333333333333333,
              "#9c179e"
             ],
             [
              0.4444444444444444,
              "#bd3786"
             ],
             [
              0.5555555555555556,
              "#d8576b"
             ],
             [
              0.6666666666666666,
              "#ed7953"
             ],
             [
              0.7777777777777778,
              "#fb9f3a"
             ],
             [
              0.8888888888888888,
              "#fdca26"
             ],
             [
              1,
              "#f0f921"
             ]
            ],
            "type": "histogram2d"
           }
          ],
          "histogram2dcontour": [
           {
            "colorbar": {
             "outlinewidth": 0,
             "ticks": ""
            },
            "colorscale": [
             [
              0,
              "#0d0887"
             ],
             [
              0.1111111111111111,
              "#46039f"
             ],
             [
              0.2222222222222222,
              "#7201a8"
             ],
             [
              0.3333333333333333,
              "#9c179e"
             ],
             [
              0.4444444444444444,
              "#bd3786"
             ],
             [
              0.5555555555555556,
              "#d8576b"
             ],
             [
              0.6666666666666666,
              "#ed7953"
             ],
             [
              0.7777777777777778,
              "#fb9f3a"
             ],
             [
              0.8888888888888888,
              "#fdca26"
             ],
             [
              1,
              "#f0f921"
             ]
            ],
            "type": "histogram2dcontour"
           }
          ],
          "mesh3d": [
           {
            "colorbar": {
             "outlinewidth": 0,
             "ticks": ""
            },
            "type": "mesh3d"
           }
          ],
          "parcoords": [
           {
            "line": {
             "colorbar": {
              "outlinewidth": 0,
              "ticks": ""
             }
            },
            "type": "parcoords"
           }
          ],
          "pie": [
           {
            "automargin": true,
            "type": "pie"
           }
          ],
          "scatter": [
           {
            "fillpattern": {
             "fillmode": "overlay",
             "size": 10,
             "solidity": 0.2
            },
            "type": "scatter"
           }
          ],
          "scatter3d": [
           {
            "line": {
             "colorbar": {
              "outlinewidth": 0,
              "ticks": ""
             }
            },
            "marker": {
             "colorbar": {
              "outlinewidth": 0,
              "ticks": ""
             }
            },
            "type": "scatter3d"
           }
          ],
          "scattercarpet": [
           {
            "marker": {
             "colorbar": {
              "outlinewidth": 0,
              "ticks": ""
             }
            },
            "type": "scattercarpet"
           }
          ],
          "scattergeo": [
           {
            "marker": {
             "colorbar": {
              "outlinewidth": 0,
              "ticks": ""
             }
            },
            "type": "scattergeo"
           }
          ],
          "scattergl": [
           {
            "marker": {
             "colorbar": {
              "outlinewidth": 0,
              "ticks": ""
             }
            },
            "type": "scattergl"
           }
          ],
          "scattermapbox": [
           {
            "marker": {
             "colorbar": {
              "outlinewidth": 0,
              "ticks": ""
             }
            },
            "type": "scattermapbox"
           }
          ],
          "scatterpolar": [
           {
            "marker": {
             "colorbar": {
              "outlinewidth": 0,
              "ticks": ""
             }
            },
            "type": "scatterpolar"
           }
          ],
          "scatterpolargl": [
           {
            "marker": {
             "colorbar": {
              "outlinewidth": 0,
              "ticks": ""
             }
            },
            "type": "scatterpolargl"
           }
          ],
          "scatterternary": [
           {
            "marker": {
             "colorbar": {
              "outlinewidth": 0,
              "ticks": ""
             }
            },
            "type": "scatterternary"
           }
          ],
          "surface": [
           {
            "colorbar": {
             "outlinewidth": 0,
             "ticks": ""
            },
            "colorscale": [
             [
              0,
              "#0d0887"
             ],
             [
              0.1111111111111111,
              "#46039f"
             ],
             [
              0.2222222222222222,
              "#7201a8"
             ],
             [
              0.3333333333333333,
              "#9c179e"
             ],
             [
              0.4444444444444444,
              "#bd3786"
             ],
             [
              0.5555555555555556,
              "#d8576b"
             ],
             [
              0.6666666666666666,
              "#ed7953"
             ],
             [
              0.7777777777777778,
              "#fb9f3a"
             ],
             [
              0.8888888888888888,
              "#fdca26"
             ],
             [
              1,
              "#f0f921"
             ]
            ],
            "type": "surface"
           }
          ],
          "table": [
           {
            "cells": {
             "fill": {
              "color": "#EBF0F8"
             },
             "line": {
              "color": "white"
             }
            },
            "header": {
             "fill": {
              "color": "#C8D4E3"
             },
             "line": {
              "color": "white"
             }
            },
            "type": "table"
           }
          ]
         },
         "layout": {
          "annotationdefaults": {
           "arrowcolor": "#2a3f5f",
           "arrowhead": 0,
           "arrowwidth": 1
          },
          "autotypenumbers": "strict",
          "coloraxis": {
           "colorbar": {
            "outlinewidth": 0,
            "ticks": ""
           }
          },
          "colorscale": {
           "diverging": [
            [
             0,
             "#8e0152"
            ],
            [
             0.1,
             "#c51b7d"
            ],
            [
             0.2,
             "#de77ae"
            ],
            [
             0.3,
             "#f1b6da"
            ],
            [
             0.4,
             "#fde0ef"
            ],
            [
             0.5,
             "#f7f7f7"
            ],
            [
             0.6,
             "#e6f5d0"
            ],
            [
             0.7,
             "#b8e186"
            ],
            [
             0.8,
             "#7fbc41"
            ],
            [
             0.9,
             "#4d9221"
            ],
            [
             1,
             "#276419"
            ]
           ],
           "sequential": [
            [
             0,
             "#0d0887"
            ],
            [
             0.1111111111111111,
             "#46039f"
            ],
            [
             0.2222222222222222,
             "#7201a8"
            ],
            [
             0.3333333333333333,
             "#9c179e"
            ],
            [
             0.4444444444444444,
             "#bd3786"
            ],
            [
             0.5555555555555556,
             "#d8576b"
            ],
            [
             0.6666666666666666,
             "#ed7953"
            ],
            [
             0.7777777777777778,
             "#fb9f3a"
            ],
            [
             0.8888888888888888,
             "#fdca26"
            ],
            [
             1,
             "#f0f921"
            ]
           ],
           "sequentialminus": [
            [
             0,
             "#0d0887"
            ],
            [
             0.1111111111111111,
             "#46039f"
            ],
            [
             0.2222222222222222,
             "#7201a8"
            ],
            [
             0.3333333333333333,
             "#9c179e"
            ],
            [
             0.4444444444444444,
             "#bd3786"
            ],
            [
             0.5555555555555556,
             "#d8576b"
            ],
            [
             0.6666666666666666,
             "#ed7953"
            ],
            [
             0.7777777777777778,
             "#fb9f3a"
            ],
            [
             0.8888888888888888,
             "#fdca26"
            ],
            [
             1,
             "#f0f921"
            ]
           ]
          },
          "colorway": [
           "#636efa",
           "#EF553B",
           "#00cc96",
           "#ab63fa",
           "#FFA15A",
           "#19d3f3",
           "#FF6692",
           "#B6E880",
           "#FF97FF",
           "#FECB52"
          ],
          "font": {
           "color": "#2a3f5f"
          },
          "geo": {
           "bgcolor": "white",
           "lakecolor": "white",
           "landcolor": "#E5ECF6",
           "showlakes": true,
           "showland": true,
           "subunitcolor": "white"
          },
          "hoverlabel": {
           "align": "left"
          },
          "hovermode": "closest",
          "mapbox": {
           "style": "light"
          },
          "paper_bgcolor": "white",
          "plot_bgcolor": "#E5ECF6",
          "polar": {
           "angularaxis": {
            "gridcolor": "white",
            "linecolor": "white",
            "ticks": ""
           },
           "bgcolor": "#E5ECF6",
           "radialaxis": {
            "gridcolor": "white",
            "linecolor": "white",
            "ticks": ""
           }
          },
          "scene": {
           "xaxis": {
            "backgroundcolor": "#E5ECF6",
            "gridcolor": "white",
            "gridwidth": 2,
            "linecolor": "white",
            "showbackground": true,
            "ticks": "",
            "zerolinecolor": "white"
           },
           "yaxis": {
            "backgroundcolor": "#E5ECF6",
            "gridcolor": "white",
            "gridwidth": 2,
            "linecolor": "white",
            "showbackground": true,
            "ticks": "",
            "zerolinecolor": "white"
           },
           "zaxis": {
            "backgroundcolor": "#E5ECF6",
            "gridcolor": "white",
            "gridwidth": 2,
            "linecolor": "white",
            "showbackground": true,
            "ticks": "",
            "zerolinecolor": "white"
           }
          },
          "shapedefaults": {
           "line": {
            "color": "#2a3f5f"
           }
          },
          "ternary": {
           "aaxis": {
            "gridcolor": "white",
            "linecolor": "white",
            "ticks": ""
           },
           "baxis": {
            "gridcolor": "white",
            "linecolor": "white",
            "ticks": ""
           },
           "bgcolor": "#E5ECF6",
           "caxis": {
            "gridcolor": "white",
            "linecolor": "white",
            "ticks": ""
           }
          },
          "title": {
           "x": 0.05
          },
          "xaxis": {
           "automargin": true,
           "gridcolor": "white",
           "linecolor": "white",
           "ticks": "",
           "title": {
            "standoff": 15
           },
           "zerolinecolor": "white",
           "zerolinewidth": 2
          },
          "yaxis": {
           "automargin": true,
           "gridcolor": "white",
           "linecolor": "white",
           "ticks": "",
           "title": {
            "standoff": 15
           },
           "zerolinecolor": "white",
           "zerolinewidth": 2
          }
         }
        },
        "title": {
         "text": "AMS vs Rounded, RMSE=0.61"
        },
        "width": 400,
        "xaxis": {
         "anchor": "y",
         "domain": [
          0,
          1
         ],
         "title": {
          "text": "Rounded"
         }
        },
        "yaxis": {
         "anchor": "x",
         "domain": [
          0,
          1
         ],
         "title": {
          "text": "AMS"
         }
        }
       }
      },
      "text/html": [
       "<div>                            <div id=\"7062eb16-6c3a-4e2e-9a0f-2c5b97fb394b\" class=\"plotly-graph-div\" style=\"height:400px; width:400px;\"></div>            <script type=\"text/javascript\">                require([\"plotly\"], function(Plotly) {                    window.PLOTLYENV=window.PLOTLYENV || {};                                    if (document.getElementById(\"7062eb16-6c3a-4e2e-9a0f-2c5b97fb394b\")) {                    Plotly.newPlot(                        \"7062eb16-6c3a-4e2e-9a0f-2c5b97fb394b\",                        [{\"hovertemplate\":\"Rounded=%{x}\\u003cbr\\u003eAMS=%{y}\\u003cextra\\u003e\\u003c\\u002fextra\\u003e\",\"legendgroup\":\"\",\"marker\":{\"color\":\"#636efa\",\"symbol\":\"circle\"},\"mode\":\"markers\",\"name\":\"\",\"orientation\":\"v\",\"showlegend\":false,\"x\":[6,-2,4,1,1,0,0,-1,2,2,-3,2,-1,0,2,4,0,4,6,4,1,1,-1,-2,0,2,4,-1,1,-2,2,1,0,3,3,-1,-1,0,-2,2,-1,-2,0,1,2,0,0,0,-2,-2,4,-1,-1,-3,-5,-2,-1,-1,2,-1,1,-3,-1,-1,0,-5,-1,-2,-1,-1,1,2,-1,-4,4,-1,-4,-6,2,1,-1,1,1,2,-2,-1,-1,-3,1,0,3,1,0,3,3,3,-2,-1,-3,2,0,1,-3,2,1,1,1,-1,0,5,-5,2,0,-1,2,3,1,1,-2,0,-1,-4,0,-1,1,-1,-2,1,0,0,-4,2,-3,2,1,6,2,0,-2,4,2,-3,0,1,1,2,0,4,2,0,2,4,-1,1,3,0,0,6,-1,-2,0,1,1,-4,6,2,2,-2,2,0,2,0,-3,0,2,-1,1,-1,-2,0,0,-1,0,0,0,1,2,-3,-1,-2,-1,-1,2,-2,2,0,3,-6,0,1,1,-2,1,-2,-3,0,0,-2,4,0,-2,-2,0,-2,2,0,-2,3,4,0,-2,-2,3,0,3,0,-1,1,-2,-1,-1,-1,2,-1,0,-2,3,-4,-1,0,3,-3,-1,1,-6,-1,-5,0,3,1,-2,1,3,1,-3,-3,0,3,2,2,-2,0,2,-2,4,4,-2,0,-2,2,2,2,2,2,2,-3,-4,3,-2,-2,4,2,1,0,0,0,-1,-4,-2,0,-3,0,0,0,1,4,0,2,2,0,-3,-2,0,2,0,-2,3,1,4,-1,2,0,3,-1,1,0,-2,2,2,2],\"xaxis\":\"x\",\"y\":[6.0,-2.0,4.0,2.0,1.0,1.0,0.0,0.0,3.0,2.0,-2.0,3.0,0.0,1.0,3.0,4.0,1.0,4.0,6.0,4.0,1.0,2.0,0.0,-1.0,0.0,2.0,4.0,-1.0,1.0,-1.0,3.0,2.0,0.0,3.0,3.0,0.0,-1.0,0.0,-2.0,2.0,-1.0,-1.0,0.0,1.0,2.0,0.0,0.0,0.0,-2.0,-1.0,4.0,0.0,0.0,-2.0,-4.0,-1.0,-1.0,0.0,2.0,-1.0,1.0,-2.0,0.0,0.0,0.0,-5.0,-1.0,-2.0,-1.0,0.0,2.0,2.0,0.0,-4.0,4.0,0.0,-4.0,-6.0,3.0,1.0,0.0,1.0,1.0,2.0,-2.0,-1.0,-1.0,-3.0,1.0,0.0,3.0,1.0,1.0,3.0,4.0,4.0,-1.0,0.0,-3.0,3.0,1.0,1.0,-2.0,3.0,1.0,1.0,1.0,0.0,1.0,5.0,-4.0,2.0,1.0,0.0,2.0,3.0,1.0,1.0,-1.0,1.0,0.0,-4.0,0.0,0.0,1.0,0.0,-2.0,1.0,1.0,0.0,-3.0,2.0,-2.0,2.0,1.0,6.0,2.0,1.0,-2.0,4.0,2.0,-2.0,0.0,1.0,1.0,2.0,1.0,5.0,3.0,1.0,2.0,4.0,-1.0,1.0,3.0,1.0,0.0,6.0,-1.0,-1.0,0.0,1.0,1.0,-4.0,6.0,2.0,2.0,-1.0,3.0,0.0,2.0,0.0,-3.0,0.0,3.0,-1.0,1.0,-1.0,-1.0,0.0,0.0,-1.0,0.0,1.0,0.0,1.0,2.0,-3.0,-1.0,-1.0,-1.0,-1.0,2.0,-2.0,2.0,0.0,3.0,-5.0,0.0,1.0,1.0,-1.0,1.0,-2.0,-2.0,0.0,1.0,-1.0,4.0,1.0,-2.0,-2.0,0.0,-2.0,2.0,1.0,-2.0,3.0,4.0,0.0,-2.0,-1.0,3.0,0.0,4.0,1.0,-1.0,2.0,-1.0,0.0,0.0,-1.0,3.0,-1.0,0.0,-1.0,4.0,-3.0,0.0,1.0,3.0,-3.0,-1.0,2.0,-5.0,0.0,-5.0,1.0,4.0,1.0,-2.0,2.0,4.0,1.0,-3.0,-3.0,0.0,3.0,2.0,2.0,-1.0,1.0,2.0,-2.0,5.0,4.0,-1.0,0.0,-1.0,3.0,3.0,2.0,2.0,2.0,2.0,-2.0,-3.0,3.0,-1.0,-1.0,4.0,2.0,1.0,1.0,0.0,1.0,0.0,-4.0,-2.0,0.0,-3.0,0.0,1.0,1.0,1.0,4.0,1.0,2.0,3.0,1.0,-3.0,-2.0,0.0,3.0,1.0,-2.0,3.0,1.0,4.0,-1.0,3.0,0.0,3.0,-1.0,1.0,0.0,-2.0,2.0,3.0,2.0],\"yaxis\":\"y\",\"type\":\"scatter\"}],                        {\"template\":{\"data\":{\"histogram2dcontour\":[{\"type\":\"histogram2dcontour\",\"colorbar\":{\"outlinewidth\":0,\"ticks\":\"\"},\"colorscale\":[[0.0,\"#0d0887\"],[0.1111111111111111,\"#46039f\"],[0.2222222222222222,\"#7201a8\"],[0.3333333333333333,\"#9c179e\"],[0.4444444444444444,\"#bd3786\"],[0.5555555555555556,\"#d8576b\"],[0.6666666666666666,\"#ed7953\"],[0.7777777777777778,\"#fb9f3a\"],[0.8888888888888888,\"#fdca26\"],[1.0,\"#f0f921\"]]}],\"choropleth\":[{\"type\":\"choropleth\",\"colorbar\":{\"outlinewidth\":0,\"ticks\":\"\"}}],\"histogram2d\":[{\"type\":\"histogram2d\",\"colorbar\":{\"outlinewidth\":0,\"ticks\":\"\"},\"colorscale\":[[0.0,\"#0d0887\"],[0.1111111111111111,\"#46039f\"],[0.2222222222222222,\"#7201a8\"],[0.3333333333333333,\"#9c179e\"],[0.4444444444444444,\"#bd3786\"],[0.5555555555555556,\"#d8576b\"],[0.6666666666666666,\"#ed7953\"],[0.7777777777777778,\"#fb9f3a\"],[0.8888888888888888,\"#fdca26\"],[1.0,\"#f0f921\"]]}],\"heatmap\":[{\"type\":\"heatmap\",\"colorbar\":{\"outlinewidth\":0,\"ticks\":\"\"},\"colorscale\":[[0.0,\"#0d0887\"],[0.1111111111111111,\"#46039f\"],[0.2222222222222222,\"#7201a8\"],[0.3333333333333333,\"#9c179e\"],[0.4444444444444444,\"#bd3786\"],[0.5555555555555556,\"#d8576b\"],[0.6666666666666666,\"#ed7953\"],[0.7777777777777778,\"#fb9f3a\"],[0.8888888888888888,\"#fdca26\"],[1.0,\"#f0f921\"]]}],\"heatmapgl\":[{\"type\":\"heatmapgl\",\"colorbar\":{\"outlinewidth\":0,\"ticks\":\"\"},\"colorscale\":[[0.0,\"#0d0887\"],[0.1111111111111111,\"#46039f\"],[0.2222222222222222,\"#7201a8\"],[0.3333333333333333,\"#9c179e\"],[0.4444444444444444,\"#bd3786\"],[0.5555555555555556,\"#d8576b\"],[0.6666666666666666,\"#ed7953\"],[0.7777777777777778,\"#fb9f3a\"],[0.8888888888888888,\"#fdca26\"],[1.0,\"#f0f921\"]]}],\"contourcarpet\":[{\"type\":\"contourcarpet\",\"colorbar\":{\"outlinewidth\":0,\"ticks\":\"\"}}],\"contour\":[{\"type\":\"contour\",\"colorbar\":{\"outlinewidth\":0,\"ticks\":\"\"},\"colorscale\":[[0.0,\"#0d0887\"],[0.1111111111111111,\"#46039f\"],[0.2222222222222222,\"#7201a8\"],[0.3333333333333333,\"#9c179e\"],[0.4444444444444444,\"#bd3786\"],[0.5555555555555556,\"#d8576b\"],[0.6666666666666666,\"#ed7953\"],[0.7777777777777778,\"#fb9f3a\"],[0.8888888888888888,\"#fdca26\"],[1.0,\"#f0f921\"]]}],\"surface\":[{\"type\":\"surface\",\"colorbar\":{\"outlinewidth\":0,\"ticks\":\"\"},\"colorscale\":[[0.0,\"#0d0887\"],[0.1111111111111111,\"#46039f\"],[0.2222222222222222,\"#7201a8\"],[0.3333333333333333,\"#9c179e\"],[0.4444444444444444,\"#bd3786\"],[0.5555555555555556,\"#d8576b\"],[0.6666666666666666,\"#ed7953\"],[0.7777777777777778,\"#fb9f3a\"],[0.8888888888888888,\"#fdca26\"],[1.0,\"#f0f921\"]]}],\"mesh3d\":[{\"type\":\"mesh3d\",\"colorbar\":{\"outlinewidth\":0,\"ticks\":\"\"}}],\"scatter\":[{\"fillpattern\":{\"fillmode\":\"overlay\",\"size\":10,\"solidity\":0.2},\"type\":\"scatter\"}],\"parcoords\":[{\"type\":\"parcoords\",\"line\":{\"colorbar\":{\"outlinewidth\":0,\"ticks\":\"\"}}}],\"scatterpolargl\":[{\"type\":\"scatterpolargl\",\"marker\":{\"colorbar\":{\"outlinewidth\":0,\"ticks\":\"\"}}}],\"bar\":[{\"error_x\":{\"color\":\"#2a3f5f\"},\"error_y\":{\"color\":\"#2a3f5f\"},\"marker\":{\"line\":{\"color\":\"#E5ECF6\",\"width\":0.5},\"pattern\":{\"fillmode\":\"overlay\",\"size\":10,\"solidity\":0.2}},\"type\":\"bar\"}],\"scattergeo\":[{\"type\":\"scattergeo\",\"marker\":{\"colorbar\":{\"outlinewidth\":0,\"ticks\":\"\"}}}],\"scatterpolar\":[{\"type\":\"scatterpolar\",\"marker\":{\"colorbar\":{\"outlinewidth\":0,\"ticks\":\"\"}}}],\"histogram\":[{\"marker\":{\"pattern\":{\"fillmode\":\"overlay\",\"size\":10,\"solidity\":0.2}},\"type\":\"histogram\"}],\"scattergl\":[{\"type\":\"scattergl\",\"marker\":{\"colorbar\":{\"outlinewidth\":0,\"ticks\":\"\"}}}],\"scatter3d\":[{\"type\":\"scatter3d\",\"line\":{\"colorbar\":{\"outlinewidth\":0,\"ticks\":\"\"}},\"marker\":{\"colorbar\":{\"outlinewidth\":0,\"ticks\":\"\"}}}],\"scattermapbox\":[{\"type\":\"scattermapbox\",\"marker\":{\"colorbar\":{\"outlinewidth\":0,\"ticks\":\"\"}}}],\"scatterternary\":[{\"type\":\"scatterternary\",\"marker\":{\"colorbar\":{\"outlinewidth\":0,\"ticks\":\"\"}}}],\"scattercarpet\":[{\"type\":\"scattercarpet\",\"marker\":{\"colorbar\":{\"outlinewidth\":0,\"ticks\":\"\"}}}],\"carpet\":[{\"aaxis\":{\"endlinecolor\":\"#2a3f5f\",\"gridcolor\":\"white\",\"linecolor\":\"white\",\"minorgridcolor\":\"white\",\"startlinecolor\":\"#2a3f5f\"},\"baxis\":{\"endlinecolor\":\"#2a3f5f\",\"gridcolor\":\"white\",\"linecolor\":\"white\",\"minorgridcolor\":\"white\",\"startlinecolor\":\"#2a3f5f\"},\"type\":\"carpet\"}],\"table\":[{\"cells\":{\"fill\":{\"color\":\"#EBF0F8\"},\"line\":{\"color\":\"white\"}},\"header\":{\"fill\":{\"color\":\"#C8D4E3\"},\"line\":{\"color\":\"white\"}},\"type\":\"table\"}],\"barpolar\":[{\"marker\":{\"line\":{\"color\":\"#E5ECF6\",\"width\":0.5},\"pattern\":{\"fillmode\":\"overlay\",\"size\":10,\"solidity\":0.2}},\"type\":\"barpolar\"}],\"pie\":[{\"automargin\":true,\"type\":\"pie\"}]},\"layout\":{\"autotypenumbers\":\"strict\",\"colorway\":[\"#636efa\",\"#EF553B\",\"#00cc96\",\"#ab63fa\",\"#FFA15A\",\"#19d3f3\",\"#FF6692\",\"#B6E880\",\"#FF97FF\",\"#FECB52\"],\"font\":{\"color\":\"#2a3f5f\"},\"hovermode\":\"closest\",\"hoverlabel\":{\"align\":\"left\"},\"paper_bgcolor\":\"white\",\"plot_bgcolor\":\"#E5ECF6\",\"polar\":{\"bgcolor\":\"#E5ECF6\",\"angularaxis\":{\"gridcolor\":\"white\",\"linecolor\":\"white\",\"ticks\":\"\"},\"radialaxis\":{\"gridcolor\":\"white\",\"linecolor\":\"white\",\"ticks\":\"\"}},\"ternary\":{\"bgcolor\":\"#E5ECF6\",\"aaxis\":{\"gridcolor\":\"white\",\"linecolor\":\"white\",\"ticks\":\"\"},\"baxis\":{\"gridcolor\":\"white\",\"linecolor\":\"white\",\"ticks\":\"\"},\"caxis\":{\"gridcolor\":\"white\",\"linecolor\":\"white\",\"ticks\":\"\"}},\"coloraxis\":{\"colorbar\":{\"outlinewidth\":0,\"ticks\":\"\"}},\"colorscale\":{\"sequential\":[[0.0,\"#0d0887\"],[0.1111111111111111,\"#46039f\"],[0.2222222222222222,\"#7201a8\"],[0.3333333333333333,\"#9c179e\"],[0.4444444444444444,\"#bd3786\"],[0.5555555555555556,\"#d8576b\"],[0.6666666666666666,\"#ed7953\"],[0.7777777777777778,\"#fb9f3a\"],[0.8888888888888888,\"#fdca26\"],[1.0,\"#f0f921\"]],\"sequentialminus\":[[0.0,\"#0d0887\"],[0.1111111111111111,\"#46039f\"],[0.2222222222222222,\"#7201a8\"],[0.3333333333333333,\"#9c179e\"],[0.4444444444444444,\"#bd3786\"],[0.5555555555555556,\"#d8576b\"],[0.6666666666666666,\"#ed7953\"],[0.7777777777777778,\"#fb9f3a\"],[0.8888888888888888,\"#fdca26\"],[1.0,\"#f0f921\"]],\"diverging\":[[0,\"#8e0152\"],[0.1,\"#c51b7d\"],[0.2,\"#de77ae\"],[0.3,\"#f1b6da\"],[0.4,\"#fde0ef\"],[0.5,\"#f7f7f7\"],[0.6,\"#e6f5d0\"],[0.7,\"#b8e186\"],[0.8,\"#7fbc41\"],[0.9,\"#4d9221\"],[1,\"#276419\"]]},\"xaxis\":{\"gridcolor\":\"white\",\"linecolor\":\"white\",\"ticks\":\"\",\"title\":{\"standoff\":15},\"zerolinecolor\":\"white\",\"automargin\":true,\"zerolinewidth\":2},\"yaxis\":{\"gridcolor\":\"white\",\"linecolor\":\"white\",\"ticks\":\"\",\"title\":{\"standoff\":15},\"zerolinecolor\":\"white\",\"automargin\":true,\"zerolinewidth\":2},\"scene\":{\"xaxis\":{\"backgroundcolor\":\"#E5ECF6\",\"gridcolor\":\"white\",\"linecolor\":\"white\",\"showbackground\":true,\"ticks\":\"\",\"zerolinecolor\":\"white\",\"gridwidth\":2},\"yaxis\":{\"backgroundcolor\":\"#E5ECF6\",\"gridcolor\":\"white\",\"linecolor\":\"white\",\"showbackground\":true,\"ticks\":\"\",\"zerolinecolor\":\"white\",\"gridwidth\":2},\"zaxis\":{\"backgroundcolor\":\"#E5ECF6\",\"gridcolor\":\"white\",\"linecolor\":\"white\",\"showbackground\":true,\"ticks\":\"\",\"zerolinecolor\":\"white\",\"gridwidth\":2}},\"shapedefaults\":{\"line\":{\"color\":\"#2a3f5f\"}},\"annotationdefaults\":{\"arrowcolor\":\"#2a3f5f\",\"arrowhead\":0,\"arrowwidth\":1},\"geo\":{\"bgcolor\":\"white\",\"landcolor\":\"#E5ECF6\",\"subunitcolor\":\"white\",\"showland\":true,\"showlakes\":true,\"lakecolor\":\"white\"},\"title\":{\"x\":0.05},\"mapbox\":{\"style\":\"light\"}}},\"xaxis\":{\"anchor\":\"y\",\"domain\":[0.0,1.0],\"title\":{\"text\":\"Rounded\"}},\"yaxis\":{\"anchor\":\"x\",\"domain\":[0.0,1.0],\"title\":{\"text\":\"AMS\"}},\"legend\":{\"tracegroupgap\":0},\"title\":{\"text\":\"AMS vs Rounded, RMSE=0.61\"},\"height\":400,\"width\":400},                        {\"responsive\": true}                    ).then(function(){\n",
       "                            \n",
       "var gd = document.getElementById('7062eb16-6c3a-4e2e-9a0f-2c5b97fb394b');\n",
       "var x = new MutationObserver(function (mutations, observer) {{\n",
       "        var display = window.getComputedStyle(gd).display;\n",
       "        if (!display || display === 'none') {{\n",
       "            console.log([gd, 'removed!']);\n",
       "            Plotly.purge(gd);\n",
       "            observer.disconnect();\n",
       "        }}\n",
       "}});\n",
       "\n",
       "// Listen for the removal of the full notebook cells\n",
       "var notebookContainer = gd.closest('#notebook-container');\n",
       "if (notebookContainer) {{\n",
       "    x.observe(notebookContainer, {childList: true});\n",
       "}}\n",
       "\n",
       "// Listen for the clearing of the current output cell\n",
       "var outputEl = gd.closest('.output');\n",
       "if (outputEl) {{\n",
       "    x.observe(outputEl, {childList: true});\n",
       "}}\n",
       "\n",
       "                        })                };                });            </script>        </div>"
      ]
     },
     "metadata": {},
     "output_type": "display_data"
    }
   ],
   "source": [
    "rmse = np.sqrt(np.mean((ams.flatten() - wx_rounded.flatten())**2))\n",
    "px.scatter(x=wx_rounded.flatten(),y=ams.flatten(),labels={'x':'Rounded','y':'AMS'}, width=400, height=400, title=f'AMS vs Rounded, RMSE={rmse:.2f}')"
   ]
  },
  {
   "cell_type": "code",
   "execution_count": 19,
   "metadata": {},
   "outputs": [
    {
     "data": {
      "text/html": [
       "<div>\n",
       "<style scoped>\n",
       "    .dataframe tbody tr th:only-of-type {\n",
       "        vertical-align: middle;\n",
       "    }\n",
       "\n",
       "    .dataframe tbody tr th {\n",
       "        vertical-align: top;\n",
       "    }\n",
       "\n",
       "    .dataframe thead th {\n",
       "        text-align: right;\n",
       "    }\n",
       "</style>\n",
       "<table border=\"1\" class=\"dataframe\">\n",
       "  <thead>\n",
       "    <tr style=\"text-align: right;\">\n",
       "      <th></th>\n",
       "      <th>0</th>\n",
       "      <th>1</th>\n",
       "      <th>2</th>\n",
       "      <th>3</th>\n",
       "      <th>4</th>\n",
       "      <th>5</th>\n",
       "      <th>6</th>\n",
       "      <th>7</th>\n",
       "      <th>8</th>\n",
       "      <th>9</th>\n",
       "    </tr>\n",
       "  </thead>\n",
       "  <tbody>\n",
       "    <tr>\n",
       "      <th>0</th>\n",
       "      <td>(6, 6)</td>\n",
       "      <td>(0, 0)</td>\n",
       "      <td>(0, 0)</td>\n",
       "      <td>(-1, -2)</td>\n",
       "      <td>(1, 0)</td>\n",
       "      <td>(0, 0)</td>\n",
       "      <td>(2, 2)</td>\n",
       "      <td>(4, 3)</td>\n",
       "      <td>(0, 0)</td>\n",
       "      <td>(-2, -2)</td>\n",
       "    </tr>\n",
       "    <tr>\n",
       "      <th>1</th>\n",
       "      <td>(-2, -2)</td>\n",
       "      <td>(3, 3)</td>\n",
       "      <td>(-5, -5)</td>\n",
       "      <td>(0, -1)</td>\n",
       "      <td>(0, 0)</td>\n",
       "      <td>(1, 1)</td>\n",
       "      <td>(-2, -2)</td>\n",
       "      <td>(1, 0)</td>\n",
       "      <td>(3, 3)</td>\n",
       "      <td>(0, 0)</td>\n",
       "    </tr>\n",
       "    <tr>\n",
       "      <th>2</th>\n",
       "      <td>(4, 4)</td>\n",
       "      <td>(3, 3)</td>\n",
       "      <td>(-1, -1)</td>\n",
       "      <td>(-3, -3)</td>\n",
       "      <td>(-3, -4)</td>\n",
       "      <td>(1, 1)</td>\n",
       "      <td>(2, 2)</td>\n",
       "      <td>(-1, -1)</td>\n",
       "      <td>(2, 2)</td>\n",
       "      <td>(-3, -3)</td>\n",
       "    </tr>\n",
       "    <tr>\n",
       "      <th>3</th>\n",
       "      <td>(2, 1)</td>\n",
       "      <td>(0, -1)</td>\n",
       "      <td>(-2, -2)</td>\n",
       "      <td>(3, 2)</td>\n",
       "      <td>(2, 2)</td>\n",
       "      <td>(-4, -4)</td>\n",
       "      <td>(0, 0)</td>\n",
       "      <td>(2, 1)</td>\n",
       "      <td>(2, 2)</td>\n",
       "      <td>(0, 0)</td>\n",
       "    </tr>\n",
       "    <tr>\n",
       "      <th>4</th>\n",
       "      <td>(1, 1)</td>\n",
       "      <td>(-1, -1)</td>\n",
       "      <td>(-1, -1)</td>\n",
       "      <td>(1, 0)</td>\n",
       "      <td>(-2, -3)</td>\n",
       "      <td>(6, 6)</td>\n",
       "      <td>(3, 3)</td>\n",
       "      <td>(-1, -2)</td>\n",
       "      <td>(-1, -2)</td>\n",
       "      <td>(1, 0)</td>\n",
       "    </tr>\n",
       "    <tr>\n",
       "      <th>5</th>\n",
       "      <td>(1, 0)</td>\n",
       "      <td>(0, 0)</td>\n",
       "      <td>(0, -1)</td>\n",
       "      <td>(1, 1)</td>\n",
       "      <td>(2, 2)</td>\n",
       "      <td>(2, 2)</td>\n",
       "      <td>(-5, -6)</td>\n",
       "      <td>(0, -1)</td>\n",
       "      <td>(1, 0)</td>\n",
       "      <td>(1, 0)</td>\n",
       "    </tr>\n",
       "    <tr>\n",
       "      <th>6</th>\n",
       "      <td>(0, 0)</td>\n",
       "      <td>(-2, -2)</td>\n",
       "      <td>(2, 1)</td>\n",
       "      <td>(-2, -3)</td>\n",
       "      <td>(1, 1)</td>\n",
       "      <td>(2, 2)</td>\n",
       "      <td>(0, 0)</td>\n",
       "      <td>(0, -1)</td>\n",
       "      <td>(2, 2)</td>\n",
       "      <td>(1, 1)</td>\n",
       "    </tr>\n",
       "    <tr>\n",
       "      <th>7</th>\n",
       "      <td>(0, -1)</td>\n",
       "      <td>(2, 2)</td>\n",
       "      <td>(2, 2)</td>\n",
       "      <td>(3, 2)</td>\n",
       "      <td>(6, 6)</td>\n",
       "      <td>(-1, -2)</td>\n",
       "      <td>(1, 1)</td>\n",
       "      <td>(-1, -1)</td>\n",
       "      <td>(-2, -2)</td>\n",
       "      <td>(4, 4)</td>\n",
       "    </tr>\n",
       "    <tr>\n",
       "      <th>8</th>\n",
       "      <td>(3, 2)</td>\n",
       "      <td>(-1, -1)</td>\n",
       "      <td>(0, -1)</td>\n",
       "      <td>(1, 1)</td>\n",
       "      <td>(2, 2)</td>\n",
       "      <td>(3, 2)</td>\n",
       "      <td>(1, 1)</td>\n",
       "      <td>(3, 2)</td>\n",
       "      <td>(5, 4)</td>\n",
       "      <td>(1, 0)</td>\n",
       "    </tr>\n",
       "    <tr>\n",
       "      <th>9</th>\n",
       "      <td>(2, 2)</td>\n",
       "      <td>(-1, -2)</td>\n",
       "      <td>(-4, -4)</td>\n",
       "      <td>(1, 1)</td>\n",
       "      <td>(1, 0)</td>\n",
       "      <td>(0, 0)</td>\n",
       "      <td>(-1, -2)</td>\n",
       "      <td>(-1, -1)</td>\n",
       "      <td>(4, 4)</td>\n",
       "      <td>(2, 2)</td>\n",
       "    </tr>\n",
       "    <tr>\n",
       "      <th>10</th>\n",
       "      <td>(-2, -3)</td>\n",
       "      <td>(0, 0)</td>\n",
       "      <td>(4, 4)</td>\n",
       "      <td>(1, 1)</td>\n",
       "      <td>(-2, -2)</td>\n",
       "      <td>(2, 2)</td>\n",
       "      <td>(1, 1)</td>\n",
       "      <td>(0, 0)</td>\n",
       "      <td>(-1, -2)</td>\n",
       "      <td>(3, 2)</td>\n",
       "    </tr>\n",
       "    <tr>\n",
       "      <th>11</th>\n",
       "      <td>(3, 2)</td>\n",
       "      <td>(1, 1)</td>\n",
       "      <td>(0, -1)</td>\n",
       "      <td>(0, -1)</td>\n",
       "      <td>(4, 4)</td>\n",
       "      <td>(0, 0)</td>\n",
       "      <td>(-2, -2)</td>\n",
       "      <td>(-1, -2)</td>\n",
       "      <td>(0, 0)</td>\n",
       "      <td>(1, 0)</td>\n",
       "    </tr>\n",
       "    <tr>\n",
       "      <th>12</th>\n",
       "      <td>(0, -1)</td>\n",
       "      <td>(2, 2)</td>\n",
       "      <td>(-4, -4)</td>\n",
       "      <td>(1, 0)</td>\n",
       "      <td>(2, 2)</td>\n",
       "      <td>(-3, -3)</td>\n",
       "      <td>(-2, -3)</td>\n",
       "      <td>(4, 3)</td>\n",
       "      <td>(-1, -2)</td>\n",
       "      <td>(-3, -3)</td>\n",
       "    </tr>\n",
       "    <tr>\n",
       "      <th>13</th>\n",
       "      <td>(1, 0)</td>\n",
       "      <td>(0, 0)</td>\n",
       "      <td>(-6, -6)</td>\n",
       "      <td>(5, 5)</td>\n",
       "      <td>(-2, -3)</td>\n",
       "      <td>(0, 0)</td>\n",
       "      <td>(0, 0)</td>\n",
       "      <td>(-3, -4)</td>\n",
       "      <td>(3, 2)</td>\n",
       "      <td>(-2, -2)</td>\n",
       "    </tr>\n",
       "    <tr>\n",
       "      <th>14</th>\n",
       "      <td>(3, 2)</td>\n",
       "      <td>(0, 0)</td>\n",
       "      <td>(3, 2)</td>\n",
       "      <td>(-4, -5)</td>\n",
       "      <td>(0, 0)</td>\n",
       "      <td>(3, 2)</td>\n",
       "      <td>(1, 0)</td>\n",
       "      <td>(0, -1)</td>\n",
       "      <td>(3, 2)</td>\n",
       "      <td>(0, 0)</td>\n",
       "    </tr>\n",
       "    <tr>\n",
       "      <th>15</th>\n",
       "      <td>(4, 4)</td>\n",
       "      <td>(0, 0)</td>\n",
       "      <td>(1, 1)</td>\n",
       "      <td>(2, 2)</td>\n",
       "      <td>(1, 1)</td>\n",
       "      <td>(-1, -1)</td>\n",
       "      <td>(-1, -2)</td>\n",
       "      <td>(1, 0)</td>\n",
       "      <td>(2, 2)</td>\n",
       "      <td>(3, 2)</td>\n",
       "    </tr>\n",
       "    <tr>\n",
       "      <th>16</th>\n",
       "      <td>(1, 0)</td>\n",
       "      <td>(-2, -2)</td>\n",
       "      <td>(0, -1)</td>\n",
       "      <td>(1, 0)</td>\n",
       "      <td>(1, 1)</td>\n",
       "      <td>(1, 1)</td>\n",
       "      <td>(4, 4)</td>\n",
       "      <td>(3, 3)</td>\n",
       "      <td>(2, 2)</td>\n",
       "      <td>(1, 0)</td>\n",
       "    </tr>\n",
       "    <tr>\n",
       "      <th>17</th>\n",
       "      <td>(4, 4)</td>\n",
       "      <td>(-1, -2)</td>\n",
       "      <td>(1, 1)</td>\n",
       "      <td>(0, -1)</td>\n",
       "      <td>(2, 2)</td>\n",
       "      <td>(-1, -1)</td>\n",
       "      <td>(1, 0)</td>\n",
       "      <td>(-3, -3)</td>\n",
       "      <td>(2, 2)</td>\n",
       "      <td>(-2, -2)</td>\n",
       "    </tr>\n",
       "    <tr>\n",
       "      <th>18</th>\n",
       "      <td>(6, 6)</td>\n",
       "      <td>(4, 4)</td>\n",
       "      <td>(1, 1)</td>\n",
       "      <td>(2, 2)</td>\n",
       "      <td>(1, 0)</td>\n",
       "      <td>(-1, -2)</td>\n",
       "      <td>(-2, -2)</td>\n",
       "      <td>(-1, -1)</td>\n",
       "      <td>(2, 2)</td>\n",
       "      <td>(3, 3)</td>\n",
       "    </tr>\n",
       "    <tr>\n",
       "      <th>19</th>\n",
       "      <td>(4, 4)</td>\n",
       "      <td>(0, -1)</td>\n",
       "      <td>(2, 2)</td>\n",
       "      <td>(3, 3)</td>\n",
       "      <td>(5, 4)</td>\n",
       "      <td>(0, 0)</td>\n",
       "      <td>(-2, -2)</td>\n",
       "      <td>(2, 1)</td>\n",
       "      <td>(-2, -3)</td>\n",
       "      <td>(1, 1)</td>\n",
       "    </tr>\n",
       "    <tr>\n",
       "      <th>20</th>\n",
       "      <td>(1, 1)</td>\n",
       "      <td>(0, -1)</td>\n",
       "      <td>(-2, -2)</td>\n",
       "      <td>(1, 1)</td>\n",
       "      <td>(3, 2)</td>\n",
       "      <td>(0, 0)</td>\n",
       "      <td>(0, 0)</td>\n",
       "      <td>(-5, -6)</td>\n",
       "      <td>(-3, -4)</td>\n",
       "      <td>(4, 4)</td>\n",
       "    </tr>\n",
       "    <tr>\n",
       "      <th>21</th>\n",
       "      <td>(2, 1)</td>\n",
       "      <td>(-2, -3)</td>\n",
       "      <td>(-1, -1)</td>\n",
       "      <td>(1, 1)</td>\n",
       "      <td>(1, 0)</td>\n",
       "      <td>(-1, -1)</td>\n",
       "      <td>(-2, -2)</td>\n",
       "      <td>(0, -1)</td>\n",
       "      <td>(3, 3)</td>\n",
       "      <td>(-1, -1)</td>\n",
       "    </tr>\n",
       "    <tr>\n",
       "      <th>22</th>\n",
       "      <td>(0, -1)</td>\n",
       "      <td>(-4, -5)</td>\n",
       "      <td>(-1, -1)</td>\n",
       "      <td>(-1, -2)</td>\n",
       "      <td>(2, 2)</td>\n",
       "      <td>(0, 0)</td>\n",
       "      <td>(2, 2)</td>\n",
       "      <td>(-5, -5)</td>\n",
       "      <td>(-1, -2)</td>\n",
       "      <td>(3, 2)</td>\n",
       "    </tr>\n",
       "    <tr>\n",
       "      <th>23</th>\n",
       "      <td>(-1, -2)</td>\n",
       "      <td>(-1, -2)</td>\n",
       "      <td>(-3, -3)</td>\n",
       "      <td>(1, 0)</td>\n",
       "      <td>(4, 4)</td>\n",
       "      <td>(1, 0)</td>\n",
       "      <td>(1, 0)</td>\n",
       "      <td>(1, 0)</td>\n",
       "      <td>(-1, -2)</td>\n",
       "      <td>(0, 0)</td>\n",
       "    </tr>\n",
       "    <tr>\n",
       "      <th>24</th>\n",
       "      <td>(0, 0)</td>\n",
       "      <td>(-1, -1)</td>\n",
       "      <td>(1, 1)</td>\n",
       "      <td>(0, -1)</td>\n",
       "      <td>(-1, -1)</td>\n",
       "      <td>(0, 0)</td>\n",
       "      <td>(-2, -2)</td>\n",
       "      <td>(4, 3)</td>\n",
       "      <td>(4, 4)</td>\n",
       "      <td>(3, 3)</td>\n",
       "    </tr>\n",
       "    <tr>\n",
       "      <th>25</th>\n",
       "      <td>(2, 2)</td>\n",
       "      <td>(0, -1)</td>\n",
       "      <td>(0, 0)</td>\n",
       "      <td>(-4, -4)</td>\n",
       "      <td>(1, 1)</td>\n",
       "      <td>(1, 1)</td>\n",
       "      <td>(3, 3)</td>\n",
       "      <td>(1, 1)</td>\n",
       "      <td>(2, 2)</td>\n",
       "      <td>(-1, -1)</td>\n",
       "    </tr>\n",
       "    <tr>\n",
       "      <th>26</th>\n",
       "      <td>(4, 4)</td>\n",
       "      <td>(2, 2)</td>\n",
       "      <td>(3, 3)</td>\n",
       "      <td>(0, 0)</td>\n",
       "      <td>(3, 3)</td>\n",
       "      <td>(2, 2)</td>\n",
       "      <td>(4, 4)</td>\n",
       "      <td>(-2, -2)</td>\n",
       "      <td>(1, 1)</td>\n",
       "      <td>(1, 1)</td>\n",
       "    </tr>\n",
       "    <tr>\n",
       "      <th>27</th>\n",
       "      <td>(-1, -1)</td>\n",
       "      <td>(-1, -1)</td>\n",
       "      <td>(1, 1)</td>\n",
       "      <td>(0, -1)</td>\n",
       "      <td>(1, 0)</td>\n",
       "      <td>(-3, -3)</td>\n",
       "      <td>(0, 0)</td>\n",
       "      <td>(2, 1)</td>\n",
       "      <td>(1, 0)</td>\n",
       "      <td>(0, 0)</td>\n",
       "    </tr>\n",
       "    <tr>\n",
       "      <th>28</th>\n",
       "      <td>(1, 1)</td>\n",
       "      <td>(1, 1)</td>\n",
       "      <td>(1, 0)</td>\n",
       "      <td>(1, 1)</td>\n",
       "      <td>(0, 0)</td>\n",
       "      <td>(-1, -1)</td>\n",
       "      <td>(-2, -2)</td>\n",
       "      <td>(4, 3)</td>\n",
       "      <td>(0, 0)</td>\n",
       "      <td>(-2, -2)</td>\n",
       "    </tr>\n",
       "    <tr>\n",
       "      <th>29</th>\n",
       "      <td>(-1, -2)</td>\n",
       "      <td>(-2, -3)</td>\n",
       "      <td>(3, 3)</td>\n",
       "      <td>(0, -1)</td>\n",
       "      <td>(6, 6)</td>\n",
       "      <td>(-1, -2)</td>\n",
       "      <td>(-1, -2)</td>\n",
       "      <td>(1, 1)</td>\n",
       "      <td>(1, 0)</td>\n",
       "      <td>(2, 2)</td>\n",
       "    </tr>\n",
       "    <tr>\n",
       "      <th>30</th>\n",
       "      <td>(3, 2)</td>\n",
       "      <td>(0, -1)</td>\n",
       "      <td>(4, 3)</td>\n",
       "      <td>(-2, -2)</td>\n",
       "      <td>(-1, -1)</td>\n",
       "      <td>(-1, -1)</td>\n",
       "      <td>(3, 3)</td>\n",
       "      <td>(-3, -3)</td>\n",
       "      <td>(0, -1)</td>\n",
       "      <td>(3, 2)</td>\n",
       "    </tr>\n",
       "    <tr>\n",
       "      <th>31</th>\n",
       "      <td>(2, 1)</td>\n",
       "      <td>(0, -1)</td>\n",
       "      <td>(4, 3)</td>\n",
       "      <td>(1, 1)</td>\n",
       "      <td>(-1, -2)</td>\n",
       "      <td>(-1, -1)</td>\n",
       "      <td>(0, 0)</td>\n",
       "      <td>(-3, -3)</td>\n",
       "      <td>(-4, -4)</td>\n",
       "      <td>(2, 2)</td>\n",
       "    </tr>\n",
       "  </tbody>\n",
       "</table>\n",
       "</div>"
      ],
      "text/plain": [
       "           0         1         2         3         4         5         6  \\\n",
       "0     (6, 6)    (0, 0)    (0, 0)  (-1, -2)    (1, 0)    (0, 0)    (2, 2)   \n",
       "1   (-2, -2)    (3, 3)  (-5, -5)   (0, -1)    (0, 0)    (1, 1)  (-2, -2)   \n",
       "2     (4, 4)    (3, 3)  (-1, -1)  (-3, -3)  (-3, -4)    (1, 1)    (2, 2)   \n",
       "3     (2, 1)   (0, -1)  (-2, -2)    (3, 2)    (2, 2)  (-4, -4)    (0, 0)   \n",
       "4     (1, 1)  (-1, -1)  (-1, -1)    (1, 0)  (-2, -3)    (6, 6)    (3, 3)   \n",
       "5     (1, 0)    (0, 0)   (0, -1)    (1, 1)    (2, 2)    (2, 2)  (-5, -6)   \n",
       "6     (0, 0)  (-2, -2)    (2, 1)  (-2, -3)    (1, 1)    (2, 2)    (0, 0)   \n",
       "7    (0, -1)    (2, 2)    (2, 2)    (3, 2)    (6, 6)  (-1, -2)    (1, 1)   \n",
       "8     (3, 2)  (-1, -1)   (0, -1)    (1, 1)    (2, 2)    (3, 2)    (1, 1)   \n",
       "9     (2, 2)  (-1, -2)  (-4, -4)    (1, 1)    (1, 0)    (0, 0)  (-1, -2)   \n",
       "10  (-2, -3)    (0, 0)    (4, 4)    (1, 1)  (-2, -2)    (2, 2)    (1, 1)   \n",
       "11    (3, 2)    (1, 1)   (0, -1)   (0, -1)    (4, 4)    (0, 0)  (-2, -2)   \n",
       "12   (0, -1)    (2, 2)  (-4, -4)    (1, 0)    (2, 2)  (-3, -3)  (-2, -3)   \n",
       "13    (1, 0)    (0, 0)  (-6, -6)    (5, 5)  (-2, -3)    (0, 0)    (0, 0)   \n",
       "14    (3, 2)    (0, 0)    (3, 2)  (-4, -5)    (0, 0)    (3, 2)    (1, 0)   \n",
       "15    (4, 4)    (0, 0)    (1, 1)    (2, 2)    (1, 1)  (-1, -1)  (-1, -2)   \n",
       "16    (1, 0)  (-2, -2)   (0, -1)    (1, 0)    (1, 1)    (1, 1)    (4, 4)   \n",
       "17    (4, 4)  (-1, -2)    (1, 1)   (0, -1)    (2, 2)  (-1, -1)    (1, 0)   \n",
       "18    (6, 6)    (4, 4)    (1, 1)    (2, 2)    (1, 0)  (-1, -2)  (-2, -2)   \n",
       "19    (4, 4)   (0, -1)    (2, 2)    (3, 3)    (5, 4)    (0, 0)  (-2, -2)   \n",
       "20    (1, 1)   (0, -1)  (-2, -2)    (1, 1)    (3, 2)    (0, 0)    (0, 0)   \n",
       "21    (2, 1)  (-2, -3)  (-1, -1)    (1, 1)    (1, 0)  (-1, -1)  (-2, -2)   \n",
       "22   (0, -1)  (-4, -5)  (-1, -1)  (-1, -2)    (2, 2)    (0, 0)    (2, 2)   \n",
       "23  (-1, -2)  (-1, -2)  (-3, -3)    (1, 0)    (4, 4)    (1, 0)    (1, 0)   \n",
       "24    (0, 0)  (-1, -1)    (1, 1)   (0, -1)  (-1, -1)    (0, 0)  (-2, -2)   \n",
       "25    (2, 2)   (0, -1)    (0, 0)  (-4, -4)    (1, 1)    (1, 1)    (3, 3)   \n",
       "26    (4, 4)    (2, 2)    (3, 3)    (0, 0)    (3, 3)    (2, 2)    (4, 4)   \n",
       "27  (-1, -1)  (-1, -1)    (1, 1)   (0, -1)    (1, 0)  (-3, -3)    (0, 0)   \n",
       "28    (1, 1)    (1, 1)    (1, 0)    (1, 1)    (0, 0)  (-1, -1)  (-2, -2)   \n",
       "29  (-1, -2)  (-2, -3)    (3, 3)   (0, -1)    (6, 6)  (-1, -2)  (-1, -2)   \n",
       "30    (3, 2)   (0, -1)    (4, 3)  (-2, -2)  (-1, -1)  (-1, -1)    (3, 3)   \n",
       "31    (2, 1)   (0, -1)    (4, 3)    (1, 1)  (-1, -2)  (-1, -1)    (0, 0)   \n",
       "\n",
       "           7         8         9  \n",
       "0     (4, 3)    (0, 0)  (-2, -2)  \n",
       "1     (1, 0)    (3, 3)    (0, 0)  \n",
       "2   (-1, -1)    (2, 2)  (-3, -3)  \n",
       "3     (2, 1)    (2, 2)    (0, 0)  \n",
       "4   (-1, -2)  (-1, -2)    (1, 0)  \n",
       "5    (0, -1)    (1, 0)    (1, 0)  \n",
       "6    (0, -1)    (2, 2)    (1, 1)  \n",
       "7   (-1, -1)  (-2, -2)    (4, 4)  \n",
       "8     (3, 2)    (5, 4)    (1, 0)  \n",
       "9   (-1, -1)    (4, 4)    (2, 2)  \n",
       "10    (0, 0)  (-1, -2)    (3, 2)  \n",
       "11  (-1, -2)    (0, 0)    (1, 0)  \n",
       "12    (4, 3)  (-1, -2)  (-3, -3)  \n",
       "13  (-3, -4)    (3, 2)  (-2, -2)  \n",
       "14   (0, -1)    (3, 2)    (0, 0)  \n",
       "15    (1, 0)    (2, 2)    (3, 2)  \n",
       "16    (3, 3)    (2, 2)    (1, 0)  \n",
       "17  (-3, -3)    (2, 2)  (-2, -2)  \n",
       "18  (-1, -1)    (2, 2)    (3, 3)  \n",
       "19    (2, 1)  (-2, -3)    (1, 1)  \n",
       "20  (-5, -6)  (-3, -4)    (4, 4)  \n",
       "21   (0, -1)    (3, 3)  (-1, -1)  \n",
       "22  (-5, -5)  (-1, -2)    (3, 2)  \n",
       "23    (1, 0)  (-1, -2)    (0, 0)  \n",
       "24    (4, 3)    (4, 4)    (3, 3)  \n",
       "25    (1, 1)    (2, 2)  (-1, -1)  \n",
       "26  (-2, -2)    (1, 1)    (1, 1)  \n",
       "27    (2, 1)    (1, 0)    (0, 0)  \n",
       "28    (4, 3)    (0, 0)  (-2, -2)  \n",
       "29    (1, 1)    (1, 0)    (2, 2)  \n",
       "30  (-3, -3)   (0, -1)    (3, 2)  \n",
       "31  (-3, -3)  (-4, -4)    (2, 2)  "
      ]
     },
     "execution_count": 19,
     "metadata": {},
     "output_type": "execute_result"
    }
   ],
   "source": [
    "# pd.concat([df(ams),df(wx_rounded)],names=['ams','rtl']).T\n",
    "df(np.array([str(i) for i in zip(ams.flatten().astype(int),wx_rounded.flatten())]).reshape(10,-1)).T\n",
    "# np.array([str(i) for i in zip(ams.flatten(),wx_rounded.flatten())]).reshape(10,-1,2)"
   ]
  },
  {
   "cell_type": "code",
   "execution_count": 20,
   "metadata": {},
   "outputs": [
    {
     "data": {
      "text/html": [
       "<div>\n",
       "<style scoped>\n",
       "    .dataframe tbody tr th:only-of-type {\n",
       "        vertical-align: middle;\n",
       "    }\n",
       "\n",
       "    .dataframe tbody tr th {\n",
       "        vertical-align: top;\n",
       "    }\n",
       "\n",
       "    .dataframe thead th {\n",
       "        text-align: right;\n",
       "    }\n",
       "</style>\n",
       "<table border=\"1\" class=\"dataframe\">\n",
       "  <thead>\n",
       "    <tr style=\"text-align: right;\">\n",
       "      <th></th>\n",
       "      <th>0</th>\n",
       "      <th>1</th>\n",
       "      <th>2</th>\n",
       "      <th>3</th>\n",
       "      <th>4</th>\n",
       "      <th>5</th>\n",
       "      <th>6</th>\n",
       "      <th>7</th>\n",
       "      <th>8</th>\n",
       "      <th>9</th>\n",
       "    </tr>\n",
       "  </thead>\n",
       "  <tbody>\n",
       "    <tr>\n",
       "      <th>0</th>\n",
       "      <td>0.0</td>\n",
       "      <td>0.0</td>\n",
       "      <td>0.0</td>\n",
       "      <td>1.0</td>\n",
       "      <td>1.0</td>\n",
       "      <td>0.0</td>\n",
       "      <td>0.0</td>\n",
       "      <td>1.0</td>\n",
       "      <td>0.0</td>\n",
       "      <td>0.0</td>\n",
       "    </tr>\n",
       "    <tr>\n",
       "      <th>1</th>\n",
       "      <td>0.0</td>\n",
       "      <td>0.0</td>\n",
       "      <td>0.0</td>\n",
       "      <td>1.0</td>\n",
       "      <td>0.0</td>\n",
       "      <td>0.0</td>\n",
       "      <td>0.0</td>\n",
       "      <td>1.0</td>\n",
       "      <td>0.0</td>\n",
       "      <td>0.0</td>\n",
       "    </tr>\n",
       "    <tr>\n",
       "      <th>2</th>\n",
       "      <td>0.0</td>\n",
       "      <td>0.0</td>\n",
       "      <td>0.0</td>\n",
       "      <td>0.0</td>\n",
       "      <td>1.0</td>\n",
       "      <td>0.0</td>\n",
       "      <td>0.0</td>\n",
       "      <td>0.0</td>\n",
       "      <td>0.0</td>\n",
       "      <td>0.0</td>\n",
       "    </tr>\n",
       "    <tr>\n",
       "      <th>3</th>\n",
       "      <td>1.0</td>\n",
       "      <td>1.0</td>\n",
       "      <td>0.0</td>\n",
       "      <td>1.0</td>\n",
       "      <td>0.0</td>\n",
       "      <td>0.0</td>\n",
       "      <td>0.0</td>\n",
       "      <td>1.0</td>\n",
       "      <td>0.0</td>\n",
       "      <td>0.0</td>\n",
       "    </tr>\n",
       "    <tr>\n",
       "      <th>4</th>\n",
       "      <td>0.0</td>\n",
       "      <td>0.0</td>\n",
       "      <td>0.0</td>\n",
       "      <td>1.0</td>\n",
       "      <td>1.0</td>\n",
       "      <td>0.0</td>\n",
       "      <td>0.0</td>\n",
       "      <td>1.0</td>\n",
       "      <td>1.0</td>\n",
       "      <td>1.0</td>\n",
       "    </tr>\n",
       "    <tr>\n",
       "      <th>5</th>\n",
       "      <td>1.0</td>\n",
       "      <td>0.0</td>\n",
       "      <td>1.0</td>\n",
       "      <td>0.0</td>\n",
       "      <td>0.0</td>\n",
       "      <td>0.0</td>\n",
       "      <td>1.0</td>\n",
       "      <td>1.0</td>\n",
       "      <td>1.0</td>\n",
       "      <td>1.0</td>\n",
       "    </tr>\n",
       "    <tr>\n",
       "      <th>6</th>\n",
       "      <td>0.0</td>\n",
       "      <td>0.0</td>\n",
       "      <td>1.0</td>\n",
       "      <td>1.0</td>\n",
       "      <td>0.0</td>\n",
       "      <td>0.0</td>\n",
       "      <td>0.0</td>\n",
       "      <td>1.0</td>\n",
       "      <td>0.0</td>\n",
       "      <td>0.0</td>\n",
       "    </tr>\n",
       "    <tr>\n",
       "      <th>7</th>\n",
       "      <td>1.0</td>\n",
       "      <td>0.0</td>\n",
       "      <td>0.0</td>\n",
       "      <td>1.0</td>\n",
       "      <td>0.0</td>\n",
       "      <td>1.0</td>\n",
       "      <td>0.0</td>\n",
       "      <td>0.0</td>\n",
       "      <td>0.0</td>\n",
       "      <td>0.0</td>\n",
       "    </tr>\n",
       "    <tr>\n",
       "      <th>8</th>\n",
       "      <td>1.0</td>\n",
       "      <td>0.0</td>\n",
       "      <td>1.0</td>\n",
       "      <td>0.0</td>\n",
       "      <td>0.0</td>\n",
       "      <td>1.0</td>\n",
       "      <td>0.0</td>\n",
       "      <td>1.0</td>\n",
       "      <td>1.0</td>\n",
       "      <td>1.0</td>\n",
       "    </tr>\n",
       "    <tr>\n",
       "      <th>9</th>\n",
       "      <td>0.0</td>\n",
       "      <td>1.0</td>\n",
       "      <td>0.0</td>\n",
       "      <td>0.0</td>\n",
       "      <td>1.0</td>\n",
       "      <td>0.0</td>\n",
       "      <td>1.0</td>\n",
       "      <td>0.0</td>\n",
       "      <td>0.0</td>\n",
       "      <td>0.0</td>\n",
       "    </tr>\n",
       "    <tr>\n",
       "      <th>10</th>\n",
       "      <td>1.0</td>\n",
       "      <td>0.0</td>\n",
       "      <td>0.0</td>\n",
       "      <td>0.0</td>\n",
       "      <td>0.0</td>\n",
       "      <td>0.0</td>\n",
       "      <td>0.0</td>\n",
       "      <td>0.0</td>\n",
       "      <td>1.0</td>\n",
       "      <td>1.0</td>\n",
       "    </tr>\n",
       "    <tr>\n",
       "      <th>11</th>\n",
       "      <td>1.0</td>\n",
       "      <td>0.0</td>\n",
       "      <td>1.0</td>\n",
       "      <td>1.0</td>\n",
       "      <td>0.0</td>\n",
       "      <td>0.0</td>\n",
       "      <td>0.0</td>\n",
       "      <td>1.0</td>\n",
       "      <td>0.0</td>\n",
       "      <td>1.0</td>\n",
       "    </tr>\n",
       "    <tr>\n",
       "      <th>12</th>\n",
       "      <td>1.0</td>\n",
       "      <td>0.0</td>\n",
       "      <td>0.0</td>\n",
       "      <td>1.0</td>\n",
       "      <td>0.0</td>\n",
       "      <td>0.0</td>\n",
       "      <td>1.0</td>\n",
       "      <td>1.0</td>\n",
       "      <td>1.0</td>\n",
       "      <td>0.0</td>\n",
       "    </tr>\n",
       "    <tr>\n",
       "      <th>13</th>\n",
       "      <td>1.0</td>\n",
       "      <td>0.0</td>\n",
       "      <td>0.0</td>\n",
       "      <td>0.0</td>\n",
       "      <td>1.0</td>\n",
       "      <td>0.0</td>\n",
       "      <td>0.0</td>\n",
       "      <td>1.0</td>\n",
       "      <td>1.0</td>\n",
       "      <td>0.0</td>\n",
       "    </tr>\n",
       "    <tr>\n",
       "      <th>14</th>\n",
       "      <td>1.0</td>\n",
       "      <td>0.0</td>\n",
       "      <td>1.0</td>\n",
       "      <td>1.0</td>\n",
       "      <td>0.0</td>\n",
       "      <td>1.0</td>\n",
       "      <td>1.0</td>\n",
       "      <td>1.0</td>\n",
       "      <td>1.0</td>\n",
       "      <td>0.0</td>\n",
       "    </tr>\n",
       "    <tr>\n",
       "      <th>15</th>\n",
       "      <td>0.0</td>\n",
       "      <td>0.0</td>\n",
       "      <td>0.0</td>\n",
       "      <td>0.0</td>\n",
       "      <td>0.0</td>\n",
       "      <td>0.0</td>\n",
       "      <td>1.0</td>\n",
       "      <td>1.0</td>\n",
       "      <td>0.0</td>\n",
       "      <td>1.0</td>\n",
       "    </tr>\n",
       "    <tr>\n",
       "      <th>16</th>\n",
       "      <td>1.0</td>\n",
       "      <td>0.0</td>\n",
       "      <td>1.0</td>\n",
       "      <td>1.0</td>\n",
       "      <td>0.0</td>\n",
       "      <td>0.0</td>\n",
       "      <td>0.0</td>\n",
       "      <td>0.0</td>\n",
       "      <td>0.0</td>\n",
       "      <td>1.0</td>\n",
       "    </tr>\n",
       "    <tr>\n",
       "      <th>17</th>\n",
       "      <td>0.0</td>\n",
       "      <td>1.0</td>\n",
       "      <td>0.0</td>\n",
       "      <td>1.0</td>\n",
       "      <td>0.0</td>\n",
       "      <td>0.0</td>\n",
       "      <td>1.0</td>\n",
       "      <td>0.0</td>\n",
       "      <td>0.0</td>\n",
       "      <td>0.0</td>\n",
       "    </tr>\n",
       "    <tr>\n",
       "      <th>18</th>\n",
       "      <td>0.0</td>\n",
       "      <td>0.0</td>\n",
       "      <td>0.0</td>\n",
       "      <td>0.0</td>\n",
       "      <td>1.0</td>\n",
       "      <td>1.0</td>\n",
       "      <td>0.0</td>\n",
       "      <td>0.0</td>\n",
       "      <td>0.0</td>\n",
       "      <td>0.0</td>\n",
       "    </tr>\n",
       "    <tr>\n",
       "      <th>19</th>\n",
       "      <td>0.0</td>\n",
       "      <td>1.0</td>\n",
       "      <td>0.0</td>\n",
       "      <td>0.0</td>\n",
       "      <td>1.0</td>\n",
       "      <td>0.0</td>\n",
       "      <td>0.0</td>\n",
       "      <td>1.0</td>\n",
       "      <td>1.0</td>\n",
       "      <td>0.0</td>\n",
       "    </tr>\n",
       "    <tr>\n",
       "      <th>20</th>\n",
       "      <td>0.0</td>\n",
       "      <td>1.0</td>\n",
       "      <td>0.0</td>\n",
       "      <td>0.0</td>\n",
       "      <td>1.0</td>\n",
       "      <td>0.0</td>\n",
       "      <td>0.0</td>\n",
       "      <td>1.0</td>\n",
       "      <td>1.0</td>\n",
       "      <td>0.0</td>\n",
       "    </tr>\n",
       "    <tr>\n",
       "      <th>21</th>\n",
       "      <td>1.0</td>\n",
       "      <td>1.0</td>\n",
       "      <td>0.0</td>\n",
       "      <td>0.0</td>\n",
       "      <td>1.0</td>\n",
       "      <td>0.0</td>\n",
       "      <td>0.0</td>\n",
       "      <td>1.0</td>\n",
       "      <td>0.0</td>\n",
       "      <td>0.0</td>\n",
       "    </tr>\n",
       "    <tr>\n",
       "      <th>22</th>\n",
       "      <td>1.0</td>\n",
       "      <td>1.0</td>\n",
       "      <td>0.0</td>\n",
       "      <td>1.0</td>\n",
       "      <td>0.0</td>\n",
       "      <td>0.0</td>\n",
       "      <td>0.0</td>\n",
       "      <td>0.0</td>\n",
       "      <td>1.0</td>\n",
       "      <td>1.0</td>\n",
       "    </tr>\n",
       "    <tr>\n",
       "      <th>23</th>\n",
       "      <td>1.0</td>\n",
       "      <td>1.0</td>\n",
       "      <td>0.0</td>\n",
       "      <td>1.0</td>\n",
       "      <td>0.0</td>\n",
       "      <td>1.0</td>\n",
       "      <td>1.0</td>\n",
       "      <td>1.0</td>\n",
       "      <td>1.0</td>\n",
       "      <td>0.0</td>\n",
       "    </tr>\n",
       "    <tr>\n",
       "      <th>24</th>\n",
       "      <td>0.0</td>\n",
       "      <td>0.0</td>\n",
       "      <td>0.0</td>\n",
       "      <td>1.0</td>\n",
       "      <td>0.0</td>\n",
       "      <td>0.0</td>\n",
       "      <td>0.0</td>\n",
       "      <td>1.0</td>\n",
       "      <td>0.0</td>\n",
       "      <td>0.0</td>\n",
       "    </tr>\n",
       "    <tr>\n",
       "      <th>25</th>\n",
       "      <td>0.0</td>\n",
       "      <td>1.0</td>\n",
       "      <td>0.0</td>\n",
       "      <td>0.0</td>\n",
       "      <td>0.0</td>\n",
       "      <td>0.0</td>\n",
       "      <td>0.0</td>\n",
       "      <td>0.0</td>\n",
       "      <td>0.0</td>\n",
       "      <td>0.0</td>\n",
       "    </tr>\n",
       "    <tr>\n",
       "      <th>26</th>\n",
       "      <td>0.0</td>\n",
       "      <td>0.0</td>\n",
       "      <td>0.0</td>\n",
       "      <td>0.0</td>\n",
       "      <td>0.0</td>\n",
       "      <td>0.0</td>\n",
       "      <td>0.0</td>\n",
       "      <td>0.0</td>\n",
       "      <td>0.0</td>\n",
       "      <td>0.0</td>\n",
       "    </tr>\n",
       "    <tr>\n",
       "      <th>27</th>\n",
       "      <td>0.0</td>\n",
       "      <td>0.0</td>\n",
       "      <td>0.0</td>\n",
       "      <td>1.0</td>\n",
       "      <td>1.0</td>\n",
       "      <td>0.0</td>\n",
       "      <td>0.0</td>\n",
       "      <td>1.0</td>\n",
       "      <td>1.0</td>\n",
       "      <td>0.0</td>\n",
       "    </tr>\n",
       "    <tr>\n",
       "      <th>28</th>\n",
       "      <td>0.0</td>\n",
       "      <td>0.0</td>\n",
       "      <td>1.0</td>\n",
       "      <td>0.0</td>\n",
       "      <td>0.0</td>\n",
       "      <td>0.0</td>\n",
       "      <td>0.0</td>\n",
       "      <td>1.0</td>\n",
       "      <td>0.0</td>\n",
       "      <td>0.0</td>\n",
       "    </tr>\n",
       "    <tr>\n",
       "      <th>29</th>\n",
       "      <td>1.0</td>\n",
       "      <td>1.0</td>\n",
       "      <td>0.0</td>\n",
       "      <td>1.0</td>\n",
       "      <td>0.0</td>\n",
       "      <td>1.0</td>\n",
       "      <td>1.0</td>\n",
       "      <td>0.0</td>\n",
       "      <td>1.0</td>\n",
       "      <td>0.0</td>\n",
       "    </tr>\n",
       "    <tr>\n",
       "      <th>30</th>\n",
       "      <td>1.0</td>\n",
       "      <td>1.0</td>\n",
       "      <td>1.0</td>\n",
       "      <td>0.0</td>\n",
       "      <td>0.0</td>\n",
       "      <td>0.0</td>\n",
       "      <td>0.0</td>\n",
       "      <td>0.0</td>\n",
       "      <td>1.0</td>\n",
       "      <td>1.0</td>\n",
       "    </tr>\n",
       "    <tr>\n",
       "      <th>31</th>\n",
       "      <td>1.0</td>\n",
       "      <td>1.0</td>\n",
       "      <td>1.0</td>\n",
       "      <td>0.0</td>\n",
       "      <td>1.0</td>\n",
       "      <td>0.0</td>\n",
       "      <td>0.0</td>\n",
       "      <td>0.0</td>\n",
       "      <td>0.0</td>\n",
       "      <td>0.0</td>\n",
       "    </tr>\n",
       "  </tbody>\n",
       "</table>\n",
       "</div>"
      ],
      "text/plain": [
       "      0    1    2    3    4    5    6    7    8    9\n",
       "0   0.0  0.0  0.0  1.0  1.0  0.0  0.0  1.0  0.0  0.0\n",
       "1   0.0  0.0  0.0  1.0  0.0  0.0  0.0  1.0  0.0  0.0\n",
       "2   0.0  0.0  0.0  0.0  1.0  0.0  0.0  0.0  0.0  0.0\n",
       "3   1.0  1.0  0.0  1.0  0.0  0.0  0.0  1.0  0.0  0.0\n",
       "4   0.0  0.0  0.0  1.0  1.0  0.0  0.0  1.0  1.0  1.0\n",
       "5   1.0  0.0  1.0  0.0  0.0  0.0  1.0  1.0  1.0  1.0\n",
       "6   0.0  0.0  1.0  1.0  0.0  0.0  0.0  1.0  0.0  0.0\n",
       "7   1.0  0.0  0.0  1.0  0.0  1.0  0.0  0.0  0.0  0.0\n",
       "8   1.0  0.0  1.0  0.0  0.0  1.0  0.0  1.0  1.0  1.0\n",
       "9   0.0  1.0  0.0  0.0  1.0  0.0  1.0  0.0  0.0  0.0\n",
       "10  1.0  0.0  0.0  0.0  0.0  0.0  0.0  0.0  1.0  1.0\n",
       "11  1.0  0.0  1.0  1.0  0.0  0.0  0.0  1.0  0.0  1.0\n",
       "12  1.0  0.0  0.0  1.0  0.0  0.0  1.0  1.0  1.0  0.0\n",
       "13  1.0  0.0  0.0  0.0  1.0  0.0  0.0  1.0  1.0  0.0\n",
       "14  1.0  0.0  1.0  1.0  0.0  1.0  1.0  1.0  1.0  0.0\n",
       "15  0.0  0.0  0.0  0.0  0.0  0.0  1.0  1.0  0.0  1.0\n",
       "16  1.0  0.0  1.0  1.0  0.0  0.0  0.0  0.0  0.0  1.0\n",
       "17  0.0  1.0  0.0  1.0  0.0  0.0  1.0  0.0  0.0  0.0\n",
       "18  0.0  0.0  0.0  0.0  1.0  1.0  0.0  0.0  0.0  0.0\n",
       "19  0.0  1.0  0.0  0.0  1.0  0.0  0.0  1.0  1.0  0.0\n",
       "20  0.0  1.0  0.0  0.0  1.0  0.0  0.0  1.0  1.0  0.0\n",
       "21  1.0  1.0  0.0  0.0  1.0  0.0  0.0  1.0  0.0  0.0\n",
       "22  1.0  1.0  0.0  1.0  0.0  0.0  0.0  0.0  1.0  1.0\n",
       "23  1.0  1.0  0.0  1.0  0.0  1.0  1.0  1.0  1.0  0.0\n",
       "24  0.0  0.0  0.0  1.0  0.0  0.0  0.0  1.0  0.0  0.0\n",
       "25  0.0  1.0  0.0  0.0  0.0  0.0  0.0  0.0  0.0  0.0\n",
       "26  0.0  0.0  0.0  0.0  0.0  0.0  0.0  0.0  0.0  0.0\n",
       "27  0.0  0.0  0.0  1.0  1.0  0.0  0.0  1.0  1.0  0.0\n",
       "28  0.0  0.0  1.0  0.0  0.0  0.0  0.0  1.0  0.0  0.0\n",
       "29  1.0  1.0  0.0  1.0  0.0  1.0  1.0  0.0  1.0  0.0\n",
       "30  1.0  1.0  1.0  0.0  0.0  0.0  0.0  0.0  1.0  1.0\n",
       "31  1.0  1.0  1.0  0.0  1.0  0.0  0.0  0.0  0.0  0.0"
      ]
     },
     "execution_count": 20,
     "metadata": {},
     "output_type": "execute_result"
    }
   ],
   "source": [
    "pd.concat([df(ams)-df(wx_rounded)],names=['ams','rtl']).T"
   ]
  },
  {
   "cell_type": "code",
   "execution_count": 21,
   "metadata": {},
   "outputs": [
    {
     "data": {
      "text/html": [
       "<div>\n",
       "<style scoped>\n",
       "    .dataframe tbody tr th:only-of-type {\n",
       "        vertical-align: middle;\n",
       "    }\n",
       "\n",
       "    .dataframe tbody tr th {\n",
       "        vertical-align: top;\n",
       "    }\n",
       "\n",
       "    .dataframe thead th {\n",
       "        text-align: right;\n",
       "    }\n",
       "</style>\n",
       "<table border=\"1\" class=\"dataframe\">\n",
       "  <thead>\n",
       "    <tr style=\"text-align: right;\">\n",
       "      <th></th>\n",
       "      <th>0</th>\n",
       "      <th>1</th>\n",
       "      <th>2</th>\n",
       "      <th>3</th>\n",
       "      <th>4</th>\n",
       "      <th>5</th>\n",
       "      <th>6</th>\n",
       "      <th>7</th>\n",
       "      <th>8</th>\n",
       "      <th>9</th>\n",
       "    </tr>\n",
       "  </thead>\n",
       "  <tbody>\n",
       "    <tr>\n",
       "      <th>0</th>\n",
       "      <td>(6, 5)</td>\n",
       "      <td>(0, 0)</td>\n",
       "      <td>(0, -1)</td>\n",
       "      <td>(-1, -2)</td>\n",
       "      <td>(1, 0)</td>\n",
       "      <td>(0, -1)</td>\n",
       "      <td>(2, 1)</td>\n",
       "      <td>(4, 3)</td>\n",
       "      <td>(0, 0)</td>\n",
       "      <td>(-2, -3)</td>\n",
       "    </tr>\n",
       "    <tr>\n",
       "      <th>1</th>\n",
       "      <td>(-2, -3)</td>\n",
       "      <td>(3, 3)</td>\n",
       "      <td>(-5, -6)</td>\n",
       "      <td>(0, -1)</td>\n",
       "      <td>(0, 0)</td>\n",
       "      <td>(1, 1)</td>\n",
       "      <td>(-2, -3)</td>\n",
       "      <td>(1, 0)</td>\n",
       "      <td>(3, 3)</td>\n",
       "      <td>(0, -1)</td>\n",
       "    </tr>\n",
       "    <tr>\n",
       "      <th>2</th>\n",
       "      <td>(4, 4)</td>\n",
       "      <td>(3, 2)</td>\n",
       "      <td>(-1, -2)</td>\n",
       "      <td>(-3, -4)</td>\n",
       "      <td>(-3, -4)</td>\n",
       "      <td>(1, 1)</td>\n",
       "      <td>(2, 2)</td>\n",
       "      <td>(-1, -2)</td>\n",
       "      <td>(2, 1)</td>\n",
       "      <td>(-3, -3)</td>\n",
       "    </tr>\n",
       "    <tr>\n",
       "      <th>3</th>\n",
       "      <td>(2, 1)</td>\n",
       "      <td>(0, -1)</td>\n",
       "      <td>(-2, -3)</td>\n",
       "      <td>(3, 2)</td>\n",
       "      <td>(2, 1)</td>\n",
       "      <td>(-4, -4)</td>\n",
       "      <td>(0, 0)</td>\n",
       "      <td>(2, 1)</td>\n",
       "      <td>(2, 1)</td>\n",
       "      <td>(0, -1)</td>\n",
       "    </tr>\n",
       "    <tr>\n",
       "      <th>4</th>\n",
       "      <td>(1, 0)</td>\n",
       "      <td>(-1, -2)</td>\n",
       "      <td>(-1, -2)</td>\n",
       "      <td>(1, 0)</td>\n",
       "      <td>(-2, -3)</td>\n",
       "      <td>(6, 6)</td>\n",
       "      <td>(3, 3)</td>\n",
       "      <td>(-1, -2)</td>\n",
       "      <td>(-1, -2)</td>\n",
       "      <td>(1, 0)</td>\n",
       "    </tr>\n",
       "    <tr>\n",
       "      <th>5</th>\n",
       "      <td>(1, 0)</td>\n",
       "      <td>(0, -1)</td>\n",
       "      <td>(0, -1)</td>\n",
       "      <td>(1, 0)</td>\n",
       "      <td>(2, 1)</td>\n",
       "      <td>(2, 1)</td>\n",
       "      <td>(-5, -6)</td>\n",
       "      <td>(0, -1)</td>\n",
       "      <td>(1, 0)</td>\n",
       "      <td>(1, 0)</td>\n",
       "    </tr>\n",
       "    <tr>\n",
       "      <th>6</th>\n",
       "      <td>(0, -1)</td>\n",
       "      <td>(-2, -3)</td>\n",
       "      <td>(2, 1)</td>\n",
       "      <td>(-2, -3)</td>\n",
       "      <td>(1, 1)</td>\n",
       "      <td>(2, 2)</td>\n",
       "      <td>(0, 0)</td>\n",
       "      <td>(0, -1)</td>\n",
       "      <td>(2, 1)</td>\n",
       "      <td>(1, 1)</td>\n",
       "    </tr>\n",
       "    <tr>\n",
       "      <th>7</th>\n",
       "      <td>(0, -1)</td>\n",
       "      <td>(2, 2)</td>\n",
       "      <td>(2, 1)</td>\n",
       "      <td>(3, 2)</td>\n",
       "      <td>(6, 5)</td>\n",
       "      <td>(-1, -2)</td>\n",
       "      <td>(1, 1)</td>\n",
       "      <td>(-1, -2)</td>\n",
       "      <td>(-2, -3)</td>\n",
       "      <td>(4, 3)</td>\n",
       "    </tr>\n",
       "    <tr>\n",
       "      <th>8</th>\n",
       "      <td>(3, 2)</td>\n",
       "      <td>(-1, -2)</td>\n",
       "      <td>(0, -1)</td>\n",
       "      <td>(1, 0)</td>\n",
       "      <td>(2, 1)</td>\n",
       "      <td>(3, 2)</td>\n",
       "      <td>(1, 1)</td>\n",
       "      <td>(3, 2)</td>\n",
       "      <td>(5, 4)</td>\n",
       "      <td>(1, 0)</td>\n",
       "    </tr>\n",
       "    <tr>\n",
       "      <th>9</th>\n",
       "      <td>(2, 1)</td>\n",
       "      <td>(-1, -2)</td>\n",
       "      <td>(-4, -5)</td>\n",
       "      <td>(1, 0)</td>\n",
       "      <td>(1, 0)</td>\n",
       "      <td>(0, -1)</td>\n",
       "      <td>(-1, -2)</td>\n",
       "      <td>(-1, -2)</td>\n",
       "      <td>(4, 3)</td>\n",
       "      <td>(2, 1)</td>\n",
       "    </tr>\n",
       "    <tr>\n",
       "      <th>10</th>\n",
       "      <td>(-2, -3)</td>\n",
       "      <td>(0, -1)</td>\n",
       "      <td>(4, 3)</td>\n",
       "      <td>(1, 0)</td>\n",
       "      <td>(-2, -3)</td>\n",
       "      <td>(2, 1)</td>\n",
       "      <td>(1, 1)</td>\n",
       "      <td>(0, -1)</td>\n",
       "      <td>(-1, -2)</td>\n",
       "      <td>(3, 2)</td>\n",
       "    </tr>\n",
       "    <tr>\n",
       "      <th>11</th>\n",
       "      <td>(3, 2)</td>\n",
       "      <td>(1, 0)</td>\n",
       "      <td>(0, -1)</td>\n",
       "      <td>(0, -1)</td>\n",
       "      <td>(4, 4)</td>\n",
       "      <td>(0, 0)</td>\n",
       "      <td>(-2, -3)</td>\n",
       "      <td>(-1, -2)</td>\n",
       "      <td>(0, 0)</td>\n",
       "      <td>(1, 0)</td>\n",
       "    </tr>\n",
       "    <tr>\n",
       "      <th>12</th>\n",
       "      <td>(0, -1)</td>\n",
       "      <td>(2, 1)</td>\n",
       "      <td>(-4, -5)</td>\n",
       "      <td>(1, 0)</td>\n",
       "      <td>(2, 2)</td>\n",
       "      <td>(-3, -3)</td>\n",
       "      <td>(-2, -3)</td>\n",
       "      <td>(4, 3)</td>\n",
       "      <td>(-1, -2)</td>\n",
       "      <td>(-3, -3)</td>\n",
       "    </tr>\n",
       "    <tr>\n",
       "      <th>13</th>\n",
       "      <td>(1, 0)</td>\n",
       "      <td>(0, -1)</td>\n",
       "      <td>(-6, -7)</td>\n",
       "      <td>(5, 4)</td>\n",
       "      <td>(-2, -3)</td>\n",
       "      <td>(0, -1)</td>\n",
       "      <td>(0, -1)</td>\n",
       "      <td>(-3, -4)</td>\n",
       "      <td>(3, 2)</td>\n",
       "      <td>(-2, -3)</td>\n",
       "    </tr>\n",
       "    <tr>\n",
       "      <th>14</th>\n",
       "      <td>(3, 2)</td>\n",
       "      <td>(0, 0)</td>\n",
       "      <td>(3, 2)</td>\n",
       "      <td>(-4, -5)</td>\n",
       "      <td>(0, -1)</td>\n",
       "      <td>(3, 2)</td>\n",
       "      <td>(1, 0)</td>\n",
       "      <td>(0, -1)</td>\n",
       "      <td>(3, 2)</td>\n",
       "      <td>(0, 0)</td>\n",
       "    </tr>\n",
       "    <tr>\n",
       "      <th>15</th>\n",
       "      <td>(4, 4)</td>\n",
       "      <td>(0, -1)</td>\n",
       "      <td>(1, 0)</td>\n",
       "      <td>(2, 1)</td>\n",
       "      <td>(1, 1)</td>\n",
       "      <td>(-1, -1)</td>\n",
       "      <td>(-1, -2)</td>\n",
       "      <td>(1, 0)</td>\n",
       "      <td>(2, 2)</td>\n",
       "      <td>(3, 2)</td>\n",
       "    </tr>\n",
       "    <tr>\n",
       "      <th>16</th>\n",
       "      <td>(1, 0)</td>\n",
       "      <td>(-2, -3)</td>\n",
       "      <td>(0, -1)</td>\n",
       "      <td>(1, 0)</td>\n",
       "      <td>(1, 1)</td>\n",
       "      <td>(1, 1)</td>\n",
       "      <td>(4, 3)</td>\n",
       "      <td>(3, 2)</td>\n",
       "      <td>(2, 2)</td>\n",
       "      <td>(1, 0)</td>\n",
       "    </tr>\n",
       "    <tr>\n",
       "      <th>17</th>\n",
       "      <td>(4, 3)</td>\n",
       "      <td>(-1, -2)</td>\n",
       "      <td>(1, 0)</td>\n",
       "      <td>(0, -1)</td>\n",
       "      <td>(2, 1)</td>\n",
       "      <td>(-1, -1)</td>\n",
       "      <td>(1, 0)</td>\n",
       "      <td>(-3, -4)</td>\n",
       "      <td>(2, 2)</td>\n",
       "      <td>(-2, -2)</td>\n",
       "    </tr>\n",
       "    <tr>\n",
       "      <th>18</th>\n",
       "      <td>(6, 6)</td>\n",
       "      <td>(4, 3)</td>\n",
       "      <td>(1, 0)</td>\n",
       "      <td>(2, 1)</td>\n",
       "      <td>(1, 0)</td>\n",
       "      <td>(-1, -2)</td>\n",
       "      <td>(-2, -2)</td>\n",
       "      <td>(-1, -2)</td>\n",
       "      <td>(2, 1)</td>\n",
       "      <td>(3, 3)</td>\n",
       "    </tr>\n",
       "    <tr>\n",
       "      <th>19</th>\n",
       "      <td>(4, 3)</td>\n",
       "      <td>(0, -1)</td>\n",
       "      <td>(2, 1)</td>\n",
       "      <td>(3, 2)</td>\n",
       "      <td>(5, 4)</td>\n",
       "      <td>(0, -1)</td>\n",
       "      <td>(-2, -2)</td>\n",
       "      <td>(2, 1)</td>\n",
       "      <td>(-2, -3)</td>\n",
       "      <td>(1, 1)</td>\n",
       "    </tr>\n",
       "    <tr>\n",
       "      <th>20</th>\n",
       "      <td>(1, 0)</td>\n",
       "      <td>(0, -1)</td>\n",
       "      <td>(-2, -3)</td>\n",
       "      <td>(1, 0)</td>\n",
       "      <td>(3, 2)</td>\n",
       "      <td>(0, 0)</td>\n",
       "      <td>(0, 0)</td>\n",
       "      <td>(-5, -6)</td>\n",
       "      <td>(-3, -4)</td>\n",
       "      <td>(4, 4)</td>\n",
       "    </tr>\n",
       "    <tr>\n",
       "      <th>21</th>\n",
       "      <td>(2, 1)</td>\n",
       "      <td>(-2, -3)</td>\n",
       "      <td>(-1, -2)</td>\n",
       "      <td>(1, 0)</td>\n",
       "      <td>(1, 0)</td>\n",
       "      <td>(-1, -1)</td>\n",
       "      <td>(-2, -2)</td>\n",
       "      <td>(0, -1)</td>\n",
       "      <td>(3, 3)</td>\n",
       "      <td>(-1, -1)</td>\n",
       "    </tr>\n",
       "    <tr>\n",
       "      <th>22</th>\n",
       "      <td>(0, -1)</td>\n",
       "      <td>(-4, -5)</td>\n",
       "      <td>(-1, -2)</td>\n",
       "      <td>(-1, -2)</td>\n",
       "      <td>(2, 2)</td>\n",
       "      <td>(0, 0)</td>\n",
       "      <td>(2, 1)</td>\n",
       "      <td>(-5, -6)</td>\n",
       "      <td>(-1, -2)</td>\n",
       "      <td>(3, 2)</td>\n",
       "    </tr>\n",
       "    <tr>\n",
       "      <th>23</th>\n",
       "      <td>(-1, -2)</td>\n",
       "      <td>(-1, -2)</td>\n",
       "      <td>(-3, -4)</td>\n",
       "      <td>(1, 0)</td>\n",
       "      <td>(4, 4)</td>\n",
       "      <td>(1, 0)</td>\n",
       "      <td>(1, 0)</td>\n",
       "      <td>(1, 0)</td>\n",
       "      <td>(-1, -2)</td>\n",
       "      <td>(0, -1)</td>\n",
       "    </tr>\n",
       "    <tr>\n",
       "      <th>24</th>\n",
       "      <td>(0, -1)</td>\n",
       "      <td>(-1, -2)</td>\n",
       "      <td>(1, 0)</td>\n",
       "      <td>(0, -1)</td>\n",
       "      <td>(-1, -1)</td>\n",
       "      <td>(0, -1)</td>\n",
       "      <td>(-2, -2)</td>\n",
       "      <td>(4, 3)</td>\n",
       "      <td>(4, 3)</td>\n",
       "      <td>(3, 3)</td>\n",
       "    </tr>\n",
       "    <tr>\n",
       "      <th>25</th>\n",
       "      <td>(2, 1)</td>\n",
       "      <td>(0, -1)</td>\n",
       "      <td>(0, -1)</td>\n",
       "      <td>(-4, -5)</td>\n",
       "      <td>(1, 1)</td>\n",
       "      <td>(1, 1)</td>\n",
       "      <td>(3, 3)</td>\n",
       "      <td>(1, 0)</td>\n",
       "      <td>(2, 1)</td>\n",
       "      <td>(-1, -1)</td>\n",
       "    </tr>\n",
       "    <tr>\n",
       "      <th>26</th>\n",
       "      <td>(4, 4)</td>\n",
       "      <td>(2, 1)</td>\n",
       "      <td>(3, 2)</td>\n",
       "      <td>(0, -1)</td>\n",
       "      <td>(3, 3)</td>\n",
       "      <td>(2, 2)</td>\n",
       "      <td>(4, 4)</td>\n",
       "      <td>(-2, -3)</td>\n",
       "      <td>(1, 1)</td>\n",
       "      <td>(1, 1)</td>\n",
       "    </tr>\n",
       "    <tr>\n",
       "      <th>27</th>\n",
       "      <td>(-1, -2)</td>\n",
       "      <td>(-1, -2)</td>\n",
       "      <td>(1, 0)</td>\n",
       "      <td>(0, -1)</td>\n",
       "      <td>(1, 0)</td>\n",
       "      <td>(-3, -3)</td>\n",
       "      <td>(0, 0)</td>\n",
       "      <td>(2, 1)</td>\n",
       "      <td>(1, 0)</td>\n",
       "      <td>(0, 0)</td>\n",
       "    </tr>\n",
       "    <tr>\n",
       "      <th>28</th>\n",
       "      <td>(1, 0)</td>\n",
       "      <td>(1, 0)</td>\n",
       "      <td>(1, 0)</td>\n",
       "      <td>(1, 0)</td>\n",
       "      <td>(0, -1)</td>\n",
       "      <td>(-1, -1)</td>\n",
       "      <td>(-2, -2)</td>\n",
       "      <td>(4, 3)</td>\n",
       "      <td>(0, 0)</td>\n",
       "      <td>(-2, -3)</td>\n",
       "    </tr>\n",
       "    <tr>\n",
       "      <th>29</th>\n",
       "      <td>(-1, -2)</td>\n",
       "      <td>(-2, -3)</td>\n",
       "      <td>(3, 2)</td>\n",
       "      <td>(0, -1)</td>\n",
       "      <td>(6, 5)</td>\n",
       "      <td>(-1, -2)</td>\n",
       "      <td>(-1, -2)</td>\n",
       "      <td>(1, 0)</td>\n",
       "      <td>(1, 0)</td>\n",
       "      <td>(2, 1)</td>\n",
       "    </tr>\n",
       "    <tr>\n",
       "      <th>30</th>\n",
       "      <td>(3, 2)</td>\n",
       "      <td>(0, -1)</td>\n",
       "      <td>(4, 3)</td>\n",
       "      <td>(-2, -3)</td>\n",
       "      <td>(-1, -1)</td>\n",
       "      <td>(-1, -1)</td>\n",
       "      <td>(3, 3)</td>\n",
       "      <td>(-3, -4)</td>\n",
       "      <td>(0, -1)</td>\n",
       "      <td>(3, 2)</td>\n",
       "    </tr>\n",
       "    <tr>\n",
       "      <th>31</th>\n",
       "      <td>(2, 1)</td>\n",
       "      <td>(0, -1)</td>\n",
       "      <td>(4, 3)</td>\n",
       "      <td>(1, 0)</td>\n",
       "      <td>(-1, -2)</td>\n",
       "      <td>(-1, -1)</td>\n",
       "      <td>(0, -1)</td>\n",
       "      <td>(-3, -4)</td>\n",
       "      <td>(-4, -5)</td>\n",
       "      <td>(2, 2)</td>\n",
       "    </tr>\n",
       "  </tbody>\n",
       "</table>\n",
       "</div>"
      ],
      "text/plain": [
       "           0         1         2         3         4         5         6  \\\n",
       "0     (6, 5)    (0, 0)   (0, -1)  (-1, -2)    (1, 0)   (0, -1)    (2, 1)   \n",
       "1   (-2, -3)    (3, 3)  (-5, -6)   (0, -1)    (0, 0)    (1, 1)  (-2, -3)   \n",
       "2     (4, 4)    (3, 2)  (-1, -2)  (-3, -4)  (-3, -4)    (1, 1)    (2, 2)   \n",
       "3     (2, 1)   (0, -1)  (-2, -3)    (3, 2)    (2, 1)  (-4, -4)    (0, 0)   \n",
       "4     (1, 0)  (-1, -2)  (-1, -2)    (1, 0)  (-2, -3)    (6, 6)    (3, 3)   \n",
       "5     (1, 0)   (0, -1)   (0, -1)    (1, 0)    (2, 1)    (2, 1)  (-5, -6)   \n",
       "6    (0, -1)  (-2, -3)    (2, 1)  (-2, -3)    (1, 1)    (2, 2)    (0, 0)   \n",
       "7    (0, -1)    (2, 2)    (2, 1)    (3, 2)    (6, 5)  (-1, -2)    (1, 1)   \n",
       "8     (3, 2)  (-1, -2)   (0, -1)    (1, 0)    (2, 1)    (3, 2)    (1, 1)   \n",
       "9     (2, 1)  (-1, -2)  (-4, -5)    (1, 0)    (1, 0)   (0, -1)  (-1, -2)   \n",
       "10  (-2, -3)   (0, -1)    (4, 3)    (1, 0)  (-2, -3)    (2, 1)    (1, 1)   \n",
       "11    (3, 2)    (1, 0)   (0, -1)   (0, -1)    (4, 4)    (0, 0)  (-2, -3)   \n",
       "12   (0, -1)    (2, 1)  (-4, -5)    (1, 0)    (2, 2)  (-3, -3)  (-2, -3)   \n",
       "13    (1, 0)   (0, -1)  (-6, -7)    (5, 4)  (-2, -3)   (0, -1)   (0, -1)   \n",
       "14    (3, 2)    (0, 0)    (3, 2)  (-4, -5)   (0, -1)    (3, 2)    (1, 0)   \n",
       "15    (4, 4)   (0, -1)    (1, 0)    (2, 1)    (1, 1)  (-1, -1)  (-1, -2)   \n",
       "16    (1, 0)  (-2, -3)   (0, -1)    (1, 0)    (1, 1)    (1, 1)    (4, 3)   \n",
       "17    (4, 3)  (-1, -2)    (1, 0)   (0, -1)    (2, 1)  (-1, -1)    (1, 0)   \n",
       "18    (6, 6)    (4, 3)    (1, 0)    (2, 1)    (1, 0)  (-1, -2)  (-2, -2)   \n",
       "19    (4, 3)   (0, -1)    (2, 1)    (3, 2)    (5, 4)   (0, -1)  (-2, -2)   \n",
       "20    (1, 0)   (0, -1)  (-2, -3)    (1, 0)    (3, 2)    (0, 0)    (0, 0)   \n",
       "21    (2, 1)  (-2, -3)  (-1, -2)    (1, 0)    (1, 0)  (-1, -1)  (-2, -2)   \n",
       "22   (0, -1)  (-4, -5)  (-1, -2)  (-1, -2)    (2, 2)    (0, 0)    (2, 1)   \n",
       "23  (-1, -2)  (-1, -2)  (-3, -4)    (1, 0)    (4, 4)    (1, 0)    (1, 0)   \n",
       "24   (0, -1)  (-1, -2)    (1, 0)   (0, -1)  (-1, -1)   (0, -1)  (-2, -2)   \n",
       "25    (2, 1)   (0, -1)   (0, -1)  (-4, -5)    (1, 1)    (1, 1)    (3, 3)   \n",
       "26    (4, 4)    (2, 1)    (3, 2)   (0, -1)    (3, 3)    (2, 2)    (4, 4)   \n",
       "27  (-1, -2)  (-1, -2)    (1, 0)   (0, -1)    (1, 0)  (-3, -3)    (0, 0)   \n",
       "28    (1, 0)    (1, 0)    (1, 0)    (1, 0)   (0, -1)  (-1, -1)  (-2, -2)   \n",
       "29  (-1, -2)  (-2, -3)    (3, 2)   (0, -1)    (6, 5)  (-1, -2)  (-1, -2)   \n",
       "30    (3, 2)   (0, -1)    (4, 3)  (-2, -3)  (-1, -1)  (-1, -1)    (3, 3)   \n",
       "31    (2, 1)   (0, -1)    (4, 3)    (1, 0)  (-1, -2)  (-1, -1)   (0, -1)   \n",
       "\n",
       "           7         8         9  \n",
       "0     (4, 3)    (0, 0)  (-2, -3)  \n",
       "1     (1, 0)    (3, 3)   (0, -1)  \n",
       "2   (-1, -2)    (2, 1)  (-3, -3)  \n",
       "3     (2, 1)    (2, 1)   (0, -1)  \n",
       "4   (-1, -2)  (-1, -2)    (1, 0)  \n",
       "5    (0, -1)    (1, 0)    (1, 0)  \n",
       "6    (0, -1)    (2, 1)    (1, 1)  \n",
       "7   (-1, -2)  (-2, -3)    (4, 3)  \n",
       "8     (3, 2)    (5, 4)    (1, 0)  \n",
       "9   (-1, -2)    (4, 3)    (2, 1)  \n",
       "10   (0, -1)  (-1, -2)    (3, 2)  \n",
       "11  (-1, -2)    (0, 0)    (1, 0)  \n",
       "12    (4, 3)  (-1, -2)  (-3, -3)  \n",
       "13  (-3, -4)    (3, 2)  (-2, -3)  \n",
       "14   (0, -1)    (3, 2)    (0, 0)  \n",
       "15    (1, 0)    (2, 2)    (3, 2)  \n",
       "16    (3, 2)    (2, 2)    (1, 0)  \n",
       "17  (-3, -4)    (2, 2)  (-2, -2)  \n",
       "18  (-1, -2)    (2, 1)    (3, 3)  \n",
       "19    (2, 1)  (-2, -3)    (1, 1)  \n",
       "20  (-5, -6)  (-3, -4)    (4, 4)  \n",
       "21   (0, -1)    (3, 3)  (-1, -1)  \n",
       "22  (-5, -6)  (-1, -2)    (3, 2)  \n",
       "23    (1, 0)  (-1, -2)   (0, -1)  \n",
       "24    (4, 3)    (4, 3)    (3, 3)  \n",
       "25    (1, 0)    (2, 1)  (-1, -1)  \n",
       "26  (-2, -3)    (1, 1)    (1, 1)  \n",
       "27    (2, 1)    (1, 0)    (0, 0)  \n",
       "28    (4, 3)    (0, 0)  (-2, -3)  \n",
       "29    (1, 0)    (1, 0)    (2, 1)  \n",
       "30  (-3, -4)   (0, -1)    (3, 2)  \n",
       "31  (-3, -4)  (-4, -5)    (2, 2)  "
      ]
     },
     "execution_count": 21,
     "metadata": {},
     "output_type": "execute_result"
    }
   ],
   "source": [
    "# pd.concat([df(ams),df(wx_rounded)],names=['ams','rtl']).T\n",
    "df(np.array([str(i) for i in zip(ams.flatten().astype(int),rtl.flatten().astype(int))]).reshape(10,-1)).T\n",
    "# np.array([str(i) for i in zip(ams.flatten(),wx_rounded.flatten())]).reshape(10,-1,2)"
   ]
  },
  {
   "cell_type": "markdown",
   "metadata": {},
   "source": [
    "### Save current dataFrame"
   ]
  },
  {
   "cell_type": "code",
   "execution_count": 22,
   "metadata": {},
   "outputs": [],
   "source": [
    "adc_df.to_csv('tb_qracc_results.csv', index=False,)"
   ]
  }
 ],
 "metadata": {
  "kernelspec": {
   "display_name": "ic_dec",
   "language": "python",
   "name": "python3"
  },
  "language_info": {
   "codemirror_mode": {
    "name": "ipython",
    "version": 3
   },
   "file_extension": ".py",
   "mimetype": "text/x-python",
   "name": "python",
   "nbconvert_exporter": "python",
   "pygments_lexer": "ipython3",
   "version": "3.12.2"
  }
 },
 "nbformat": 4,
 "nbformat_minor": 2
}
