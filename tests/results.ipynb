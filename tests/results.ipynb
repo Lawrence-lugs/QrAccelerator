{
 "cells": [
  {
   "cell_type": "markdown",
   "metadata": {},
   "source": [
    "# Results Notebook"
   ]
  },
  {
   "cell_type": "code",
   "execution_count": 26,
   "metadata": {},
   "outputs": [
    {
     "name": "stdout",
     "output_type": "stream",
     "text": [
      "The autoreload extension is already loaded. To reload it, use:\n",
      "  %reload_ext autoreload\n"
     ]
    }
   ],
   "source": [
    "%load_ext autoreload\n",
    "%autoreload 2\n",
    "\n",
    "import hwacctools.quantization.quant as q\n",
    "from stim_lib.stimulus_gen import generate_qracc_inputs\n",
    "import numpy as np\n",
    "import plotly.express as px\n",
    "import seaborn as sns\n",
    "import pandas as pd\n",
    "import plotly.subplots as sp\n",
    "\n",
    "df = pd.DataFrame\n",
    "sns.set_theme()\n",
    "\n",
    "def melt_row_col_data(arr,name):\n",
    "    arr_df = df(arr)\n",
    "    arr_df = arr_df.melt(\n",
    "        ignore_index=False,\n",
    "        var_name='Column',\n",
    "        value_name='ADC_OUT_AMS',\n",
    "    )\n",
    "    arr_df['Row'] = arr_df.index\n",
    "    return arr_df"
   ]
  },
  {
   "cell_type": "code",
   "execution_count": 27,
   "metadata": {},
   "outputs": [
    {
     "name": "stdout",
     "output_type": "stream",
     "text": [
      "[STIM_GEN] Generating random weights\n"
     ]
    }
   ],
   "source": [
    "# Generate the reference result\n",
    "\n",
    "w,x,wx_outBits = generate_qracc_inputs(\n",
    "    wDimX = 32, #nColumns\n",
    "    wDimY = 128, #nRows\n",
    "    xBatches = 10,\n",
    "    xTrits = 1,\n",
    "    outBits = 4,\n",
    "    seed = 0,\n",
    "    weight_mode = 'bipolar',\n",
    "    col_symmetric=False\n",
    ")\n",
    "wx = w @ x.T\n",
    "wx_rounded = np.round(wx.T / 2**2).astype(int).T[::-1].T"
   ]
  },
  {
   "cell_type": "markdown",
   "metadata": {},
   "source": [
    "### Comparing AMS vs RTL simulations of QRAcc"
   ]
  },
  {
   "cell_type": "code",
   "execution_count": 28,
   "metadata": {},
   "outputs": [
    {
     "name": "stdout",
     "output_type": "stream",
     "text": [
      "AMS vs Shifted, RMSE=0.00, SNR=infdB, var_err=0.00e+00, var_yo=7.86e-02\n"
     ]
    },
    {
     "name": "stderr",
     "output_type": "stream",
     "text": [
      "/tmp/ipykernel_58535/1592600238.py:29: RuntimeWarning:\n",
      "\n",
      "divide by zero encountered in scalar divide\n",
      "\n"
     ]
    },
    {
     "data": {
      "application/vnd.plotly.v1+json": {
       "config": {
        "plotlyServerURL": "https://plot.ly"
       },
       "data": [
        {
         "hovertemplate": "AMS=%{x}<br>RTL=%{y}<extra></extra>",
         "legendgroup": "",
         "marker": {
          "color": "#636efa",
          "symbol": "circle"
         },
         "mode": "markers",
         "name": "",
         "orientation": "v",
         "showlegend": false,
         "type": "scatter",
         "x": [
          5,
          0,
          -1,
          -2,
          0,
          -1,
          1,
          3,
          0,
          -3,
          -3,
          3,
          -6,
          -1,
          0,
          1,
          -3,
          0,
          3,
          -1,
          4,
          2,
          -2,
          -4,
          -4,
          1,
          2,
          -2,
          1,
          -3,
          1,
          -1,
          -3,
          2,
          1,
          -4,
          0,
          1,
          1,
          -1,
          0,
          -2,
          -2,
          0,
          -3,
          6,
          3,
          -2,
          -2,
          0,
          0,
          -1,
          -1,
          0,
          1,
          1,
          -6,
          -1,
          0,
          0,
          -1,
          -3,
          1,
          -3,
          1,
          2,
          0,
          -1,
          1,
          1,
          -1,
          2,
          1,
          2,
          5,
          -2,
          1,
          -2,
          -3,
          3,
          2,
          -2,
          -1,
          0,
          1,
          2,
          1,
          2,
          4,
          0,
          1,
          -2,
          -5,
          0,
          0,
          -1,
          -2,
          -2,
          3,
          1,
          -3,
          -1,
          3,
          0,
          -3,
          1,
          1,
          -1,
          -2,
          2,
          2,
          0,
          -1,
          -1,
          4,
          0,
          -3,
          -2,
          0,
          0,
          -1,
          1,
          -5,
          0,
          2,
          -3,
          -3,
          3,
          -2,
          -3,
          0,
          -1,
          -7,
          4,
          -3,
          -1,
          -1,
          -4,
          2,
          -3,
          2,
          0,
          2,
          -5,
          -1,
          2,
          0,
          -1,
          2,
          0,
          4,
          -1,
          0,
          1,
          1,
          -1,
          -2,
          0,
          2,
          2,
          0,
          -3,
          -1,
          0,
          1,
          1,
          3,
          2,
          2,
          0,
          3,
          -2,
          0,
          -1,
          1,
          -1,
          0,
          -4,
          2,
          -2,
          6,
          3,
          0,
          1,
          0,
          -2,
          -2,
          -2,
          1,
          3,
          3,
          -1,
          1,
          2,
          4,
          -1,
          -2,
          1,
          -3,
          1,
          0,
          -1,
          -3,
          0,
          2,
          0,
          0,
          -6,
          -4,
          4,
          1,
          -3,
          -2,
          0,
          0,
          -1,
          -2,
          -1,
          3,
          -1,
          -1,
          -5,
          -2,
          -2,
          2,
          0,
          1,
          -6,
          -2,
          2,
          -2,
          -2,
          -4,
          0,
          4,
          0,
          0,
          0,
          -2,
          -1,
          -1,
          -2,
          0,
          -1,
          -1,
          -1,
          -2,
          3,
          3,
          3,
          1,
          -1,
          -1,
          -5,
          1,
          1,
          3,
          0,
          1,
          -1,
          4,
          1,
          2,
          -1,
          3,
          2,
          4,
          -3,
          1,
          1,
          -2,
          -2,
          0,
          -1,
          0,
          -3,
          0,
          1,
          0,
          0,
          0,
          0,
          0,
          0,
          -1,
          -1,
          -2,
          3,
          0,
          -3,
          -2,
          -3,
          2,
          -1,
          5,
          -2,
          -2,
          0,
          0,
          1,
          2,
          -1,
          3,
          -3,
          -1,
          -1,
          3,
          -4,
          -1,
          2,
          1,
          -1,
          3,
          0,
          -2,
          -1,
          -1,
          -4,
          -5,
          2
         ],
         "xaxis": "x",
         "y": [
          5,
          0,
          -1,
          -2,
          0,
          -1,
          1,
          3,
          0,
          -3,
          -3,
          3,
          -6,
          -1,
          0,
          1,
          -3,
          0,
          3,
          -1,
          4,
          2,
          -2,
          -4,
          -4,
          1,
          2,
          -2,
          1,
          -3,
          1,
          -1,
          -3,
          2,
          1,
          -4,
          0,
          1,
          1,
          -1,
          0,
          -2,
          -2,
          0,
          -3,
          6,
          3,
          -2,
          -2,
          0,
          0,
          -1,
          -1,
          0,
          1,
          1,
          -6,
          -1,
          0,
          0,
          -1,
          -3,
          1,
          -3,
          1,
          2,
          0,
          -1,
          1,
          1,
          -1,
          2,
          1,
          2,
          5,
          -2,
          1,
          -2,
          -3,
          3,
          2,
          -2,
          -1,
          0,
          1,
          2,
          1,
          2,
          4,
          0,
          1,
          -2,
          -5,
          0,
          0,
          -1,
          -2,
          -2,
          3,
          1,
          -3,
          -1,
          3,
          0,
          -3,
          1,
          1,
          -1,
          -2,
          2,
          2,
          0,
          -1,
          -1,
          4,
          0,
          -3,
          -2,
          0,
          0,
          -1,
          1,
          -5,
          0,
          2,
          -3,
          -3,
          3,
          -2,
          -3,
          0,
          -1,
          -7,
          4,
          -3,
          -1,
          -1,
          -4,
          2,
          -3,
          2,
          0,
          2,
          -5,
          -1,
          2,
          0,
          -1,
          2,
          0,
          4,
          -1,
          0,
          1,
          1,
          -1,
          -2,
          0,
          2,
          2,
          0,
          -3,
          -1,
          0,
          1,
          1,
          3,
          2,
          2,
          0,
          3,
          -2,
          0,
          -1,
          1,
          -1,
          0,
          -4,
          2,
          -2,
          6,
          3,
          0,
          1,
          0,
          -2,
          -2,
          -2,
          1,
          3,
          3,
          -1,
          1,
          2,
          4,
          -1,
          -2,
          1,
          -3,
          1,
          0,
          -1,
          -3,
          0,
          2,
          0,
          0,
          -6,
          -4,
          4,
          1,
          -3,
          -2,
          0,
          0,
          -1,
          -2,
          -1,
          3,
          -1,
          -1,
          -5,
          -2,
          -2,
          2,
          0,
          1,
          -6,
          -2,
          2,
          -2,
          -2,
          -4,
          0,
          4,
          0,
          0,
          0,
          -2,
          -1,
          -1,
          -2,
          0,
          -1,
          -1,
          -1,
          -2,
          3,
          3,
          3,
          1,
          -1,
          -1,
          -5,
          1,
          1,
          3,
          0,
          1,
          -1,
          4,
          1,
          2,
          -1,
          3,
          2,
          4,
          -3,
          1,
          1,
          -2,
          -2,
          0,
          -1,
          0,
          -3,
          0,
          1,
          0,
          0,
          0,
          0,
          0,
          0,
          -1,
          -1,
          -2,
          3,
          0,
          -3,
          -2,
          -3,
          2,
          -1,
          5,
          -2,
          -2,
          0,
          0,
          1,
          2,
          -1,
          3,
          -3,
          -1,
          -1,
          3,
          -4,
          -1,
          2,
          1,
          -1,
          3,
          0,
          -2,
          -1,
          -1,
          -4,
          -5,
          2
         ],
         "yaxis": "y"
        }
       ],
       "layout": {
        "height": 400,
        "legend": {
         "tracegroupgap": 0
        },
        "template": {
         "data": {
          "bar": [
           {
            "error_x": {
             "color": "#2a3f5f"
            },
            "error_y": {
             "color": "#2a3f5f"
            },
            "marker": {
             "line": {
              "color": "#E5ECF6",
              "width": 0.5
             },
             "pattern": {
              "fillmode": "overlay",
              "size": 10,
              "solidity": 0.2
             }
            },
            "type": "bar"
           }
          ],
          "barpolar": [
           {
            "marker": {
             "line": {
              "color": "#E5ECF6",
              "width": 0.5
             },
             "pattern": {
              "fillmode": "overlay",
              "size": 10,
              "solidity": 0.2
             }
            },
            "type": "barpolar"
           }
          ],
          "carpet": [
           {
            "aaxis": {
             "endlinecolor": "#2a3f5f",
             "gridcolor": "white",
             "linecolor": "white",
             "minorgridcolor": "white",
             "startlinecolor": "#2a3f5f"
            },
            "baxis": {
             "endlinecolor": "#2a3f5f",
             "gridcolor": "white",
             "linecolor": "white",
             "minorgridcolor": "white",
             "startlinecolor": "#2a3f5f"
            },
            "type": "carpet"
           }
          ],
          "choropleth": [
           {
            "colorbar": {
             "outlinewidth": 0,
             "ticks": ""
            },
            "type": "choropleth"
           }
          ],
          "contour": [
           {
            "colorbar": {
             "outlinewidth": 0,
             "ticks": ""
            },
            "colorscale": [
             [
              0,
              "#0d0887"
             ],
             [
              0.1111111111111111,
              "#46039f"
             ],
             [
              0.2222222222222222,
              "#7201a8"
             ],
             [
              0.3333333333333333,
              "#9c179e"
             ],
             [
              0.4444444444444444,
              "#bd3786"
             ],
             [
              0.5555555555555556,
              "#d8576b"
             ],
             [
              0.6666666666666666,
              "#ed7953"
             ],
             [
              0.7777777777777778,
              "#fb9f3a"
             ],
             [
              0.8888888888888888,
              "#fdca26"
             ],
             [
              1,
              "#f0f921"
             ]
            ],
            "type": "contour"
           }
          ],
          "contourcarpet": [
           {
            "colorbar": {
             "outlinewidth": 0,
             "ticks": ""
            },
            "type": "contourcarpet"
           }
          ],
          "heatmap": [
           {
            "colorbar": {
             "outlinewidth": 0,
             "ticks": ""
            },
            "colorscale": [
             [
              0,
              "#0d0887"
             ],
             [
              0.1111111111111111,
              "#46039f"
             ],
             [
              0.2222222222222222,
              "#7201a8"
             ],
             [
              0.3333333333333333,
              "#9c179e"
             ],
             [
              0.4444444444444444,
              "#bd3786"
             ],
             [
              0.5555555555555556,
              "#d8576b"
             ],
             [
              0.6666666666666666,
              "#ed7953"
             ],
             [
              0.7777777777777778,
              "#fb9f3a"
             ],
             [
              0.8888888888888888,
              "#fdca26"
             ],
             [
              1,
              "#f0f921"
             ]
            ],
            "type": "heatmap"
           }
          ],
          "heatmapgl": [
           {
            "colorbar": {
             "outlinewidth": 0,
             "ticks": ""
            },
            "colorscale": [
             [
              0,
              "#0d0887"
             ],
             [
              0.1111111111111111,
              "#46039f"
             ],
             [
              0.2222222222222222,
              "#7201a8"
             ],
             [
              0.3333333333333333,
              "#9c179e"
             ],
             [
              0.4444444444444444,
              "#bd3786"
             ],
             [
              0.5555555555555556,
              "#d8576b"
             ],
             [
              0.6666666666666666,
              "#ed7953"
             ],
             [
              0.7777777777777778,
              "#fb9f3a"
             ],
             [
              0.8888888888888888,
              "#fdca26"
             ],
             [
              1,
              "#f0f921"
             ]
            ],
            "type": "heatmapgl"
           }
          ],
          "histogram": [
           {
            "marker": {
             "pattern": {
              "fillmode": "overlay",
              "size": 10,
              "solidity": 0.2
             }
            },
            "type": "histogram"
           }
          ],
          "histogram2d": [
           {
            "colorbar": {
             "outlinewidth": 0,
             "ticks": ""
            },
            "colorscale": [
             [
              0,
              "#0d0887"
             ],
             [
              0.1111111111111111,
              "#46039f"
             ],
             [
              0.2222222222222222,
              "#7201a8"
             ],
             [
              0.3333333333333333,
              "#9c179e"
             ],
             [
              0.4444444444444444,
              "#bd3786"
             ],
             [
              0.5555555555555556,
              "#d8576b"
             ],
             [
              0.6666666666666666,
              "#ed7953"
             ],
             [
              0.7777777777777778,
              "#fb9f3a"
             ],
             [
              0.8888888888888888,
              "#fdca26"
             ],
             [
              1,
              "#f0f921"
             ]
            ],
            "type": "histogram2d"
           }
          ],
          "histogram2dcontour": [
           {
            "colorbar": {
             "outlinewidth": 0,
             "ticks": ""
            },
            "colorscale": [
             [
              0,
              "#0d0887"
             ],
             [
              0.1111111111111111,
              "#46039f"
             ],
             [
              0.2222222222222222,
              "#7201a8"
             ],
             [
              0.3333333333333333,
              "#9c179e"
             ],
             [
              0.4444444444444444,
              "#bd3786"
             ],
             [
              0.5555555555555556,
              "#d8576b"
             ],
             [
              0.6666666666666666,
              "#ed7953"
             ],
             [
              0.7777777777777778,
              "#fb9f3a"
             ],
             [
              0.8888888888888888,
              "#fdca26"
             ],
             [
              1,
              "#f0f921"
             ]
            ],
            "type": "histogram2dcontour"
           }
          ],
          "mesh3d": [
           {
            "colorbar": {
             "outlinewidth": 0,
             "ticks": ""
            },
            "type": "mesh3d"
           }
          ],
          "parcoords": [
           {
            "line": {
             "colorbar": {
              "outlinewidth": 0,
              "ticks": ""
             }
            },
            "type": "parcoords"
           }
          ],
          "pie": [
           {
            "automargin": true,
            "type": "pie"
           }
          ],
          "scatter": [
           {
            "fillpattern": {
             "fillmode": "overlay",
             "size": 10,
             "solidity": 0.2
            },
            "type": "scatter"
           }
          ],
          "scatter3d": [
           {
            "line": {
             "colorbar": {
              "outlinewidth": 0,
              "ticks": ""
             }
            },
            "marker": {
             "colorbar": {
              "outlinewidth": 0,
              "ticks": ""
             }
            },
            "type": "scatter3d"
           }
          ],
          "scattercarpet": [
           {
            "marker": {
             "colorbar": {
              "outlinewidth": 0,
              "ticks": ""
             }
            },
            "type": "scattercarpet"
           }
          ],
          "scattergeo": [
           {
            "marker": {
             "colorbar": {
              "outlinewidth": 0,
              "ticks": ""
             }
            },
            "type": "scattergeo"
           }
          ],
          "scattergl": [
           {
            "marker": {
             "colorbar": {
              "outlinewidth": 0,
              "ticks": ""
             }
            },
            "type": "scattergl"
           }
          ],
          "scattermapbox": [
           {
            "marker": {
             "colorbar": {
              "outlinewidth": 0,
              "ticks": ""
             }
            },
            "type": "scattermapbox"
           }
          ],
          "scatterpolar": [
           {
            "marker": {
             "colorbar": {
              "outlinewidth": 0,
              "ticks": ""
             }
            },
            "type": "scatterpolar"
           }
          ],
          "scatterpolargl": [
           {
            "marker": {
             "colorbar": {
              "outlinewidth": 0,
              "ticks": ""
             }
            },
            "type": "scatterpolargl"
           }
          ],
          "scatterternary": [
           {
            "marker": {
             "colorbar": {
              "outlinewidth": 0,
              "ticks": ""
             }
            },
            "type": "scatterternary"
           }
          ],
          "surface": [
           {
            "colorbar": {
             "outlinewidth": 0,
             "ticks": ""
            },
            "colorscale": [
             [
              0,
              "#0d0887"
             ],
             [
              0.1111111111111111,
              "#46039f"
             ],
             [
              0.2222222222222222,
              "#7201a8"
             ],
             [
              0.3333333333333333,
              "#9c179e"
             ],
             [
              0.4444444444444444,
              "#bd3786"
             ],
             [
              0.5555555555555556,
              "#d8576b"
             ],
             [
              0.6666666666666666,
              "#ed7953"
             ],
             [
              0.7777777777777778,
              "#fb9f3a"
             ],
             [
              0.8888888888888888,
              "#fdca26"
             ],
             [
              1,
              "#f0f921"
             ]
            ],
            "type": "surface"
           }
          ],
          "table": [
           {
            "cells": {
             "fill": {
              "color": "#EBF0F8"
             },
             "line": {
              "color": "white"
             }
            },
            "header": {
             "fill": {
              "color": "#C8D4E3"
             },
             "line": {
              "color": "white"
             }
            },
            "type": "table"
           }
          ]
         },
         "layout": {
          "annotationdefaults": {
           "arrowcolor": "#2a3f5f",
           "arrowhead": 0,
           "arrowwidth": 1
          },
          "autotypenumbers": "strict",
          "coloraxis": {
           "colorbar": {
            "outlinewidth": 0,
            "ticks": ""
           }
          },
          "colorscale": {
           "diverging": [
            [
             0,
             "#8e0152"
            ],
            [
             0.1,
             "#c51b7d"
            ],
            [
             0.2,
             "#de77ae"
            ],
            [
             0.3,
             "#f1b6da"
            ],
            [
             0.4,
             "#fde0ef"
            ],
            [
             0.5,
             "#f7f7f7"
            ],
            [
             0.6,
             "#e6f5d0"
            ],
            [
             0.7,
             "#b8e186"
            ],
            [
             0.8,
             "#7fbc41"
            ],
            [
             0.9,
             "#4d9221"
            ],
            [
             1,
             "#276419"
            ]
           ],
           "sequential": [
            [
             0,
             "#0d0887"
            ],
            [
             0.1111111111111111,
             "#46039f"
            ],
            [
             0.2222222222222222,
             "#7201a8"
            ],
            [
             0.3333333333333333,
             "#9c179e"
            ],
            [
             0.4444444444444444,
             "#bd3786"
            ],
            [
             0.5555555555555556,
             "#d8576b"
            ],
            [
             0.6666666666666666,
             "#ed7953"
            ],
            [
             0.7777777777777778,
             "#fb9f3a"
            ],
            [
             0.8888888888888888,
             "#fdca26"
            ],
            [
             1,
             "#f0f921"
            ]
           ],
           "sequentialminus": [
            [
             0,
             "#0d0887"
            ],
            [
             0.1111111111111111,
             "#46039f"
            ],
            [
             0.2222222222222222,
             "#7201a8"
            ],
            [
             0.3333333333333333,
             "#9c179e"
            ],
            [
             0.4444444444444444,
             "#bd3786"
            ],
            [
             0.5555555555555556,
             "#d8576b"
            ],
            [
             0.6666666666666666,
             "#ed7953"
            ],
            [
             0.7777777777777778,
             "#fb9f3a"
            ],
            [
             0.8888888888888888,
             "#fdca26"
            ],
            [
             1,
             "#f0f921"
            ]
           ]
          },
          "colorway": [
           "#636efa",
           "#EF553B",
           "#00cc96",
           "#ab63fa",
           "#FFA15A",
           "#19d3f3",
           "#FF6692",
           "#B6E880",
           "#FF97FF",
           "#FECB52"
          ],
          "font": {
           "color": "#2a3f5f"
          },
          "geo": {
           "bgcolor": "white",
           "lakecolor": "white",
           "landcolor": "#E5ECF6",
           "showlakes": true,
           "showland": true,
           "subunitcolor": "white"
          },
          "hoverlabel": {
           "align": "left"
          },
          "hovermode": "closest",
          "mapbox": {
           "style": "light"
          },
          "paper_bgcolor": "white",
          "plot_bgcolor": "#E5ECF6",
          "polar": {
           "angularaxis": {
            "gridcolor": "white",
            "linecolor": "white",
            "ticks": ""
           },
           "bgcolor": "#E5ECF6",
           "radialaxis": {
            "gridcolor": "white",
            "linecolor": "white",
            "ticks": ""
           }
          },
          "scene": {
           "xaxis": {
            "backgroundcolor": "#E5ECF6",
            "gridcolor": "white",
            "gridwidth": 2,
            "linecolor": "white",
            "showbackground": true,
            "ticks": "",
            "zerolinecolor": "white"
           },
           "yaxis": {
            "backgroundcolor": "#E5ECF6",
            "gridcolor": "white",
            "gridwidth": 2,
            "linecolor": "white",
            "showbackground": true,
            "ticks": "",
            "zerolinecolor": "white"
           },
           "zaxis": {
            "backgroundcolor": "#E5ECF6",
            "gridcolor": "white",
            "gridwidth": 2,
            "linecolor": "white",
            "showbackground": true,
            "ticks": "",
            "zerolinecolor": "white"
           }
          },
          "shapedefaults": {
           "line": {
            "color": "#2a3f5f"
           }
          },
          "ternary": {
           "aaxis": {
            "gridcolor": "white",
            "linecolor": "white",
            "ticks": ""
           },
           "baxis": {
            "gridcolor": "white",
            "linecolor": "white",
            "ticks": ""
           },
           "bgcolor": "#E5ECF6",
           "caxis": {
            "gridcolor": "white",
            "linecolor": "white",
            "ticks": ""
           }
          },
          "title": {
           "x": 0.05
          },
          "xaxis": {
           "automargin": true,
           "gridcolor": "white",
           "linecolor": "white",
           "ticks": "",
           "title": {
            "standoff": 15
           },
           "zerolinecolor": "white",
           "zerolinewidth": 2
          },
          "yaxis": {
           "automargin": true,
           "gridcolor": "white",
           "linecolor": "white",
           "ticks": "",
           "title": {
            "standoff": 15
           },
           "zerolinecolor": "white",
           "zerolinewidth": 2
          }
         }
        },
        "title": {
         "text": "QRacc AMS vs Shifted, RMSE=0.00, SNR=infdB, Var_err=0.00, Var_rtl=0.08"
        },
        "width": 400,
        "xaxis": {
         "anchor": "y",
         "domain": [
          0,
          1
         ],
         "title": {
          "text": "AMS"
         }
        },
        "yaxis": {
         "anchor": "x",
         "domain": [
          0,
          1
         ],
         "title": {
          "text": "RTL"
         }
        }
       }
      },
      "text/html": [
       "<div>                            <div id=\"0b0dcbb2-757c-4f59-99bc-c14bb3ef435e\" class=\"plotly-graph-div\" style=\"height:400px; width:400px;\"></div>            <script type=\"text/javascript\">                require([\"plotly\"], function(Plotly) {                    window.PLOTLYENV=window.PLOTLYENV || {};                                    if (document.getElementById(\"0b0dcbb2-757c-4f59-99bc-c14bb3ef435e\")) {                    Plotly.newPlot(                        \"0b0dcbb2-757c-4f59-99bc-c14bb3ef435e\",                        [{\"hovertemplate\":\"AMS=%{x}\\u003cbr\\u003eRTL=%{y}\\u003cextra\\u003e\\u003c\\u002fextra\\u003e\",\"legendgroup\":\"\",\"marker\":{\"color\":\"#636efa\",\"symbol\":\"circle\"},\"mode\":\"markers\",\"name\":\"\",\"orientation\":\"v\",\"showlegend\":false,\"x\":[5.0,0.0,-1.0,-2.0,0.0,-1.0,1.0,3.0,0.0,-3.0,-3.0,3.0,-6.0,-1.0,0.0,1.0,-3.0,0.0,3.0,-1.0,4.0,2.0,-2.0,-4.0,-4.0,1.0,2.0,-2.0,1.0,-3.0,1.0,-1.0,-3.0,2.0,1.0,-4.0,0.0,1.0,1.0,-1.0,0.0,-2.0,-2.0,0.0,-3.0,6.0,3.0,-2.0,-2.0,0.0,0.0,-1.0,-1.0,0.0,1.0,1.0,-6.0,-1.0,0.0,0.0,-1.0,-3.0,1.0,-3.0,1.0,2.0,0.0,-1.0,1.0,1.0,-1.0,2.0,1.0,2.0,5.0,-2.0,1.0,-2.0,-3.0,3.0,2.0,-2.0,-1.0,0.0,1.0,2.0,1.0,2.0,4.0,0.0,1.0,-2.0,-5.0,0.0,0.0,-1.0,-2.0,-2.0,3.0,1.0,-3.0,-1.0,3.0,0.0,-3.0,1.0,1.0,-1.0,-2.0,2.0,2.0,0.0,-1.0,-1.0,4.0,0.0,-3.0,-2.0,0.0,0.0,-1.0,1.0,-5.0,0.0,2.0,-3.0,-3.0,3.0,-2.0,-3.0,0.0,-1.0,-7.0,4.0,-3.0,-1.0,-1.0,-4.0,2.0,-3.0,2.0,0.0,2.0,-5.0,-1.0,2.0,0.0,-1.0,2.0,0.0,4.0,-1.0,0.0,1.0,1.0,-1.0,-2.0,0.0,2.0,2.0,0.0,-3.0,-1.0,0.0,1.0,1.0,3.0,2.0,2.0,0.0,3.0,-2.0,0.0,-1.0,1.0,-1.0,0.0,-4.0,2.0,-2.0,6.0,3.0,0.0,1.0,0.0,-2.0,-2.0,-2.0,1.0,3.0,3.0,-1.0,1.0,2.0,4.0,-1.0,-2.0,1.0,-3.0,1.0,0.0,-1.0,-3.0,0.0,2.0,0.0,0.0,-6.0,-4.0,4.0,1.0,-3.0,-2.0,0.0,0.0,-1.0,-2.0,-1.0,3.0,-1.0,-1.0,-5.0,-2.0,-2.0,2.0,0.0,1.0,-6.0,-2.0,2.0,-2.0,-2.0,-4.0,0.0,4.0,0.0,0.0,0.0,-2.0,-1.0,-1.0,-2.0,0.0,-1.0,-1.0,-1.0,-2.0,3.0,3.0,3.0,1.0,-1.0,-1.0,-5.0,1.0,1.0,3.0,0.0,1.0,-1.0,4.0,1.0,2.0,-1.0,3.0,2.0,4.0,-3.0,1.0,1.0,-2.0,-2.0,0.0,-1.0,0.0,-3.0,0.0,1.0,0.0,0.0,0.0,0.0,0.0,0.0,-1.0,-1.0,-2.0,3.0,0.0,-3.0,-2.0,-3.0,2.0,-1.0,5.0,-2.0,-2.0,0.0,0.0,1.0,2.0,-1.0,3.0,-3.0,-1.0,-1.0,3.0,-4.0,-1.0,2.0,1.0,-1.0,3.0,0.0,-2.0,-1.0,-1.0,-4.0,-5.0,2.0],\"xaxis\":\"x\",\"y\":[5.0,0.0,-1.0,-2.0,0.0,-1.0,1.0,3.0,0.0,-3.0,-3.0,3.0,-6.0,-1.0,0.0,1.0,-3.0,0.0,3.0,-1.0,4.0,2.0,-2.0,-4.0,-4.0,1.0,2.0,-2.0,1.0,-3.0,1.0,-1.0,-3.0,2.0,1.0,-4.0,0.0,1.0,1.0,-1.0,0.0,-2.0,-2.0,0.0,-3.0,6.0,3.0,-2.0,-2.0,0.0,0.0,-1.0,-1.0,0.0,1.0,1.0,-6.0,-1.0,0.0,0.0,-1.0,-3.0,1.0,-3.0,1.0,2.0,0.0,-1.0,1.0,1.0,-1.0,2.0,1.0,2.0,5.0,-2.0,1.0,-2.0,-3.0,3.0,2.0,-2.0,-1.0,0.0,1.0,2.0,1.0,2.0,4.0,0.0,1.0,-2.0,-5.0,0.0,0.0,-1.0,-2.0,-2.0,3.0,1.0,-3.0,-1.0,3.0,0.0,-3.0,1.0,1.0,-1.0,-2.0,2.0,2.0,0.0,-1.0,-1.0,4.0,0.0,-3.0,-2.0,0.0,0.0,-1.0,1.0,-5.0,0.0,2.0,-3.0,-3.0,3.0,-2.0,-3.0,0.0,-1.0,-7.0,4.0,-3.0,-1.0,-1.0,-4.0,2.0,-3.0,2.0,0.0,2.0,-5.0,-1.0,2.0,0.0,-1.0,2.0,0.0,4.0,-1.0,0.0,1.0,1.0,-1.0,-2.0,0.0,2.0,2.0,0.0,-3.0,-1.0,0.0,1.0,1.0,3.0,2.0,2.0,0.0,3.0,-2.0,0.0,-1.0,1.0,-1.0,0.0,-4.0,2.0,-2.0,6.0,3.0,0.0,1.0,0.0,-2.0,-2.0,-2.0,1.0,3.0,3.0,-1.0,1.0,2.0,4.0,-1.0,-2.0,1.0,-3.0,1.0,0.0,-1.0,-3.0,0.0,2.0,0.0,0.0,-6.0,-4.0,4.0,1.0,-3.0,-2.0,0.0,0.0,-1.0,-2.0,-1.0,3.0,-1.0,-1.0,-5.0,-2.0,-2.0,2.0,0.0,1.0,-6.0,-2.0,2.0,-2.0,-2.0,-4.0,0.0,4.0,0.0,0.0,0.0,-2.0,-1.0,-1.0,-2.0,0.0,-1.0,-1.0,-1.0,-2.0,3.0,3.0,3.0,1.0,-1.0,-1.0,-5.0,1.0,1.0,3.0,0.0,1.0,-1.0,4.0,1.0,2.0,-1.0,3.0,2.0,4.0,-3.0,1.0,1.0,-2.0,-2.0,0.0,-1.0,0.0,-3.0,0.0,1.0,0.0,0.0,0.0,0.0,0.0,0.0,-1.0,-1.0,-2.0,3.0,0.0,-3.0,-2.0,-3.0,2.0,-1.0,5.0,-2.0,-2.0,0.0,0.0,1.0,2.0,-1.0,3.0,-3.0,-1.0,-1.0,3.0,-4.0,-1.0,2.0,1.0,-1.0,3.0,0.0,-2.0,-1.0,-1.0,-4.0,-5.0,2.0],\"yaxis\":\"y\",\"type\":\"scatter\"}],                        {\"template\":{\"data\":{\"histogram2dcontour\":[{\"type\":\"histogram2dcontour\",\"colorbar\":{\"outlinewidth\":0,\"ticks\":\"\"},\"colorscale\":[[0.0,\"#0d0887\"],[0.1111111111111111,\"#46039f\"],[0.2222222222222222,\"#7201a8\"],[0.3333333333333333,\"#9c179e\"],[0.4444444444444444,\"#bd3786\"],[0.5555555555555556,\"#d8576b\"],[0.6666666666666666,\"#ed7953\"],[0.7777777777777778,\"#fb9f3a\"],[0.8888888888888888,\"#fdca26\"],[1.0,\"#f0f921\"]]}],\"choropleth\":[{\"type\":\"choropleth\",\"colorbar\":{\"outlinewidth\":0,\"ticks\":\"\"}}],\"histogram2d\":[{\"type\":\"histogram2d\",\"colorbar\":{\"outlinewidth\":0,\"ticks\":\"\"},\"colorscale\":[[0.0,\"#0d0887\"],[0.1111111111111111,\"#46039f\"],[0.2222222222222222,\"#7201a8\"],[0.3333333333333333,\"#9c179e\"],[0.4444444444444444,\"#bd3786\"],[0.5555555555555556,\"#d8576b\"],[0.6666666666666666,\"#ed7953\"],[0.7777777777777778,\"#fb9f3a\"],[0.8888888888888888,\"#fdca26\"],[1.0,\"#f0f921\"]]}],\"heatmap\":[{\"type\":\"heatmap\",\"colorbar\":{\"outlinewidth\":0,\"ticks\":\"\"},\"colorscale\":[[0.0,\"#0d0887\"],[0.1111111111111111,\"#46039f\"],[0.2222222222222222,\"#7201a8\"],[0.3333333333333333,\"#9c179e\"],[0.4444444444444444,\"#bd3786\"],[0.5555555555555556,\"#d8576b\"],[0.6666666666666666,\"#ed7953\"],[0.7777777777777778,\"#fb9f3a\"],[0.8888888888888888,\"#fdca26\"],[1.0,\"#f0f921\"]]}],\"heatmapgl\":[{\"type\":\"heatmapgl\",\"colorbar\":{\"outlinewidth\":0,\"ticks\":\"\"},\"colorscale\":[[0.0,\"#0d0887\"],[0.1111111111111111,\"#46039f\"],[0.2222222222222222,\"#7201a8\"],[0.3333333333333333,\"#9c179e\"],[0.4444444444444444,\"#bd3786\"],[0.5555555555555556,\"#d8576b\"],[0.6666666666666666,\"#ed7953\"],[0.7777777777777778,\"#fb9f3a\"],[0.8888888888888888,\"#fdca26\"],[1.0,\"#f0f921\"]]}],\"contourcarpet\":[{\"type\":\"contourcarpet\",\"colorbar\":{\"outlinewidth\":0,\"ticks\":\"\"}}],\"contour\":[{\"type\":\"contour\",\"colorbar\":{\"outlinewidth\":0,\"ticks\":\"\"},\"colorscale\":[[0.0,\"#0d0887\"],[0.1111111111111111,\"#46039f\"],[0.2222222222222222,\"#7201a8\"],[0.3333333333333333,\"#9c179e\"],[0.4444444444444444,\"#bd3786\"],[0.5555555555555556,\"#d8576b\"],[0.6666666666666666,\"#ed7953\"],[0.7777777777777778,\"#fb9f3a\"],[0.8888888888888888,\"#fdca26\"],[1.0,\"#f0f921\"]]}],\"surface\":[{\"type\":\"surface\",\"colorbar\":{\"outlinewidth\":0,\"ticks\":\"\"},\"colorscale\":[[0.0,\"#0d0887\"],[0.1111111111111111,\"#46039f\"],[0.2222222222222222,\"#7201a8\"],[0.3333333333333333,\"#9c179e\"],[0.4444444444444444,\"#bd3786\"],[0.5555555555555556,\"#d8576b\"],[0.6666666666666666,\"#ed7953\"],[0.7777777777777778,\"#fb9f3a\"],[0.8888888888888888,\"#fdca26\"],[1.0,\"#f0f921\"]]}],\"mesh3d\":[{\"type\":\"mesh3d\",\"colorbar\":{\"outlinewidth\":0,\"ticks\":\"\"}}],\"scatter\":[{\"fillpattern\":{\"fillmode\":\"overlay\",\"size\":10,\"solidity\":0.2},\"type\":\"scatter\"}],\"parcoords\":[{\"type\":\"parcoords\",\"line\":{\"colorbar\":{\"outlinewidth\":0,\"ticks\":\"\"}}}],\"scatterpolargl\":[{\"type\":\"scatterpolargl\",\"marker\":{\"colorbar\":{\"outlinewidth\":0,\"ticks\":\"\"}}}],\"bar\":[{\"error_x\":{\"color\":\"#2a3f5f\"},\"error_y\":{\"color\":\"#2a3f5f\"},\"marker\":{\"line\":{\"color\":\"#E5ECF6\",\"width\":0.5},\"pattern\":{\"fillmode\":\"overlay\",\"size\":10,\"solidity\":0.2}},\"type\":\"bar\"}],\"scattergeo\":[{\"type\":\"scattergeo\",\"marker\":{\"colorbar\":{\"outlinewidth\":0,\"ticks\":\"\"}}}],\"scatterpolar\":[{\"type\":\"scatterpolar\",\"marker\":{\"colorbar\":{\"outlinewidth\":0,\"ticks\":\"\"}}}],\"histogram\":[{\"marker\":{\"pattern\":{\"fillmode\":\"overlay\",\"size\":10,\"solidity\":0.2}},\"type\":\"histogram\"}],\"scattergl\":[{\"type\":\"scattergl\",\"marker\":{\"colorbar\":{\"outlinewidth\":0,\"ticks\":\"\"}}}],\"scatter3d\":[{\"type\":\"scatter3d\",\"line\":{\"colorbar\":{\"outlinewidth\":0,\"ticks\":\"\"}},\"marker\":{\"colorbar\":{\"outlinewidth\":0,\"ticks\":\"\"}}}],\"scattermapbox\":[{\"type\":\"scattermapbox\",\"marker\":{\"colorbar\":{\"outlinewidth\":0,\"ticks\":\"\"}}}],\"scatterternary\":[{\"type\":\"scatterternary\",\"marker\":{\"colorbar\":{\"outlinewidth\":0,\"ticks\":\"\"}}}],\"scattercarpet\":[{\"type\":\"scattercarpet\",\"marker\":{\"colorbar\":{\"outlinewidth\":0,\"ticks\":\"\"}}}],\"carpet\":[{\"aaxis\":{\"endlinecolor\":\"#2a3f5f\",\"gridcolor\":\"white\",\"linecolor\":\"white\",\"minorgridcolor\":\"white\",\"startlinecolor\":\"#2a3f5f\"},\"baxis\":{\"endlinecolor\":\"#2a3f5f\",\"gridcolor\":\"white\",\"linecolor\":\"white\",\"minorgridcolor\":\"white\",\"startlinecolor\":\"#2a3f5f\"},\"type\":\"carpet\"}],\"table\":[{\"cells\":{\"fill\":{\"color\":\"#EBF0F8\"},\"line\":{\"color\":\"white\"}},\"header\":{\"fill\":{\"color\":\"#C8D4E3\"},\"line\":{\"color\":\"white\"}},\"type\":\"table\"}],\"barpolar\":[{\"marker\":{\"line\":{\"color\":\"#E5ECF6\",\"width\":0.5},\"pattern\":{\"fillmode\":\"overlay\",\"size\":10,\"solidity\":0.2}},\"type\":\"barpolar\"}],\"pie\":[{\"automargin\":true,\"type\":\"pie\"}]},\"layout\":{\"autotypenumbers\":\"strict\",\"colorway\":[\"#636efa\",\"#EF553B\",\"#00cc96\",\"#ab63fa\",\"#FFA15A\",\"#19d3f3\",\"#FF6692\",\"#B6E880\",\"#FF97FF\",\"#FECB52\"],\"font\":{\"color\":\"#2a3f5f\"},\"hovermode\":\"closest\",\"hoverlabel\":{\"align\":\"left\"},\"paper_bgcolor\":\"white\",\"plot_bgcolor\":\"#E5ECF6\",\"polar\":{\"bgcolor\":\"#E5ECF6\",\"angularaxis\":{\"gridcolor\":\"white\",\"linecolor\":\"white\",\"ticks\":\"\"},\"radialaxis\":{\"gridcolor\":\"white\",\"linecolor\":\"white\",\"ticks\":\"\"}},\"ternary\":{\"bgcolor\":\"#E5ECF6\",\"aaxis\":{\"gridcolor\":\"white\",\"linecolor\":\"white\",\"ticks\":\"\"},\"baxis\":{\"gridcolor\":\"white\",\"linecolor\":\"white\",\"ticks\":\"\"},\"caxis\":{\"gridcolor\":\"white\",\"linecolor\":\"white\",\"ticks\":\"\"}},\"coloraxis\":{\"colorbar\":{\"outlinewidth\":0,\"ticks\":\"\"}},\"colorscale\":{\"sequential\":[[0.0,\"#0d0887\"],[0.1111111111111111,\"#46039f\"],[0.2222222222222222,\"#7201a8\"],[0.3333333333333333,\"#9c179e\"],[0.4444444444444444,\"#bd3786\"],[0.5555555555555556,\"#d8576b\"],[0.6666666666666666,\"#ed7953\"],[0.7777777777777778,\"#fb9f3a\"],[0.8888888888888888,\"#fdca26\"],[1.0,\"#f0f921\"]],\"sequentialminus\":[[0.0,\"#0d0887\"],[0.1111111111111111,\"#46039f\"],[0.2222222222222222,\"#7201a8\"],[0.3333333333333333,\"#9c179e\"],[0.4444444444444444,\"#bd3786\"],[0.5555555555555556,\"#d8576b\"],[0.6666666666666666,\"#ed7953\"],[0.7777777777777778,\"#fb9f3a\"],[0.8888888888888888,\"#fdca26\"],[1.0,\"#f0f921\"]],\"diverging\":[[0,\"#8e0152\"],[0.1,\"#c51b7d\"],[0.2,\"#de77ae\"],[0.3,\"#f1b6da\"],[0.4,\"#fde0ef\"],[0.5,\"#f7f7f7\"],[0.6,\"#e6f5d0\"],[0.7,\"#b8e186\"],[0.8,\"#7fbc41\"],[0.9,\"#4d9221\"],[1,\"#276419\"]]},\"xaxis\":{\"gridcolor\":\"white\",\"linecolor\":\"white\",\"ticks\":\"\",\"title\":{\"standoff\":15},\"zerolinecolor\":\"white\",\"automargin\":true,\"zerolinewidth\":2},\"yaxis\":{\"gridcolor\":\"white\",\"linecolor\":\"white\",\"ticks\":\"\",\"title\":{\"standoff\":15},\"zerolinecolor\":\"white\",\"automargin\":true,\"zerolinewidth\":2},\"scene\":{\"xaxis\":{\"backgroundcolor\":\"#E5ECF6\",\"gridcolor\":\"white\",\"linecolor\":\"white\",\"showbackground\":true,\"ticks\":\"\",\"zerolinecolor\":\"white\",\"gridwidth\":2},\"yaxis\":{\"backgroundcolor\":\"#E5ECF6\",\"gridcolor\":\"white\",\"linecolor\":\"white\",\"showbackground\":true,\"ticks\":\"\",\"zerolinecolor\":\"white\",\"gridwidth\":2},\"zaxis\":{\"backgroundcolor\":\"#E5ECF6\",\"gridcolor\":\"white\",\"linecolor\":\"white\",\"showbackground\":true,\"ticks\":\"\",\"zerolinecolor\":\"white\",\"gridwidth\":2}},\"shapedefaults\":{\"line\":{\"color\":\"#2a3f5f\"}},\"annotationdefaults\":{\"arrowcolor\":\"#2a3f5f\",\"arrowhead\":0,\"arrowwidth\":1},\"geo\":{\"bgcolor\":\"white\",\"landcolor\":\"#E5ECF6\",\"subunitcolor\":\"white\",\"showland\":true,\"showlakes\":true,\"lakecolor\":\"white\"},\"title\":{\"x\":0.05},\"mapbox\":{\"style\":\"light\"}}},\"xaxis\":{\"anchor\":\"y\",\"domain\":[0.0,1.0],\"title\":{\"text\":\"AMS\"}},\"yaxis\":{\"anchor\":\"x\",\"domain\":[0.0,1.0],\"title\":{\"text\":\"RTL\"}},\"legend\":{\"tracegroupgap\":0},\"title\":{\"text\":\"QRacc AMS vs Shifted, RMSE=0.00, SNR=infdB, Var_err=0.00, Var_rtl=0.08\"},\"height\":400,\"width\":400},                        {\"responsive\": true}                    ).then(function(){\n",
       "                            \n",
       "var gd = document.getElementById('0b0dcbb2-757c-4f59-99bc-c14bb3ef435e');\n",
       "var x = new MutationObserver(function (mutations, observer) {{\n",
       "        var display = window.getComputedStyle(gd).display;\n",
       "        if (!display || display === 'none') {{\n",
       "            console.log([gd, 'removed!']);\n",
       "            Plotly.purge(gd);\n",
       "            observer.disconnect();\n",
       "        }}\n",
       "}});\n",
       "\n",
       "// Listen for the removal of the full notebook cells\n",
       "var notebookContainer = gd.closest('#notebook-container');\n",
       "if (notebookContainer) {{\n",
       "    x.observe(notebookContainer, {childList: true});\n",
       "}}\n",
       "\n",
       "// Listen for the clearing of the current output cell\n",
       "var outputEl = gd.closest('.output');\n",
       "if (outputEl) {{\n",
       "    x.observe(outputEl, {childList: true});\n",
       "}}\n",
       "\n",
       "                        })                };                });            </script>        </div>"
      ]
     },
     "metadata": {},
     "output_type": "display_data"
    }
   ],
   "source": [
    "ams = np.loadtxt('../tb/qracc/inputs/adc_out.txt')\n",
    "rtl = np.loadtxt('../tb/qracc/inputs/adc_out_rtlsims.txt')\n",
    "\n",
    "ams_df = df(ams)\n",
    "rtl_df = df(rtl)\n",
    "\n",
    "# ams_df['Row'] = ams_df.index\n",
    "# rtl_df['Row'] = rtl_df.index\n",
    "\n",
    "ams_df = ams_df.melt(\n",
    "    ignore_index=False,\n",
    "    var_name='Column',\n",
    "    value_name='ADC_OUT_AMS',\n",
    ")\n",
    "rtl_df = rtl_df.melt(\n",
    "    ignore_index=False,\n",
    "    var_name='Column',\n",
    "    value_name='ADC_OUT_RTL',\n",
    ")\n",
    "ams_df['Row'] = ams_df.index\n",
    "rtl_df['Row'] = rtl_df.index\n",
    "# Join the two dataframes\n",
    "adc_df = pd.merge(ams_df, rtl_df)\n",
    "\n",
    "rtl_fp = rtl.flatten()/2**3\n",
    "ams_fp = ams.flatten()/2**3\n",
    "\n",
    "err =   rtl_fp - ams_fp\n",
    "snr = 20*np.log(np.var(rtl_fp) / np.var(err))\n",
    "var_err = np.var(err)\n",
    "var_rtl = np.var(rtl_fp)\n",
    "\n",
    "rmse = np.sqrt(np.mean((rtl.flatten() - ams.flatten())**2))\n",
    "print(f'AMS vs Shifted, RMSE={rmse:.2f}, SNR={snr:.2f}dB, var_err={var_err:.2e}, var_yo={var_rtl:.2e}')\n",
    "fig = px.scatter(adc_df, x='ADC_OUT_AMS', y='ADC_OUT_RTL', width=400, height=400, title=f'QRacc AMS vs Shifted, RMSE={rmse:.2f}, SNR={snr:.2f}dB, Var_err={var_err:.2f}, Var_rtl={var_rtl:.2f}', labels={'ADC_OUT_AMS':'AMS','ADC_OUT_RTL':'RTL'})\n",
    "fig.show()\n",
    "fig.write_image('../images/rtl_vs_ams.svg')"
   ]
  },
  {
   "cell_type": "markdown",
   "metadata": {},
   "source": [
    "# Sequential Accelerator Simulations"
   ]
  },
  {
   "cell_type": "code",
   "execution_count": 29,
   "metadata": {},
   "outputs": [
    {
     "name": "stdout",
     "output_type": "stream",
     "text": [
      "[STIM_GEN] Generating random weights\n"
     ]
    },
    {
     "data": {
      "application/vnd.plotly.v1+json": {
       "config": {
        "plotlyServerURL": "https://plot.ly"
       },
       "data": [
        {
         "hovertemplate": "RTL=%{x}<br>Ideal=%{y}<extra></extra>",
         "legendgroup": "",
         "marker": {
          "color": "#636efa",
          "symbol": "circle"
         },
         "mode": "markers",
         "name": "",
         "orientation": "v",
         "showlegend": false,
         "type": "scatter",
         "x": [
          -44,
          44,
          -24,
          -24,
          16,
          -40,
          -28,
          -24,
          -72,
          56,
          -72,
          -16,
          -88,
          32,
          -8,
          64,
          -64,
          -36,
          4,
          -76,
          -40,
          -52,
          -28,
          -40,
          16,
          20,
          16,
          40,
          -40,
          52,
          124,
          8,
          -48,
          0,
          12,
          -68,
          -28,
          28,
          36,
          24,
          -64,
          -60,
          -76,
          64,
          28,
          -24,
          -32,
          4,
          32,
          16,
          -4,
          -52,
          0,
          -12,
          12,
          -60,
          40,
          -52,
          24,
          -72,
          -12,
          8,
          0,
          104,
          40,
          -100,
          36,
          16,
          -52,
          -52,
          -44,
          88,
          4,
          0,
          48,
          -20,
          -44,
          -32,
          -40,
          4,
          44,
          -48,
          -100,
          36,
          12,
          0,
          24,
          -36,
          -76,
          64,
          -68,
          76,
          24,
          -4,
          4,
          48,
          60,
          -32,
          -28,
          4,
          20,
          40,
          -28,
          -88,
          12,
          -8,
          -16,
          24,
          -92,
          -72,
          44,
          12,
          -32,
          24,
          24,
          -68,
          28,
          -44,
          -60,
          -84,
          -56,
          28,
          -80,
          -16,
          64,
          -20,
          4,
          -4,
          -48,
          -60,
          -88,
          -40,
          -24,
          60,
          16,
          -4,
          -36,
          -52,
          20,
          -12,
          -12,
          -128,
          32,
          12,
          -20,
          -32,
          -44,
          -72,
          -36,
          8,
          24,
          -12,
          -104,
          -68,
          -28,
          -48,
          96,
          24,
          20,
          28,
          4,
          -24,
          -28,
          -16,
          -64,
          16,
          -32,
          8,
          -124,
          -52,
          -44,
          -28,
          -32,
          36,
          -12,
          -60,
          24,
          80,
          -36,
          88,
          12,
          -84,
          -40,
          0,
          24,
          -28,
          -36,
          -84,
          -68,
          4,
          -16,
          -60,
          64,
          -56,
          -20,
          -24,
          -52,
          -52,
          -36,
          -32,
          0,
          -8,
          -52,
          -56,
          0,
          -64,
          -32,
          4,
          -40,
          44,
          -52,
          104,
          -12,
          -12,
          -16,
          -32,
          24,
          -104,
          40,
          4,
          0,
          24,
          28,
          76,
          40,
          -116,
          -88,
          16,
          -68,
          12,
          -96,
          96,
          40,
          0,
          -32,
          16,
          16,
          -48,
          -96,
          -64,
          124,
          -84,
          16,
          40,
          8,
          -12,
          28,
          -84,
          -24,
          -24,
          36,
          -44,
          -24,
          16,
          -76,
          8,
          124,
          -8,
          -72,
          -68,
          48,
          -80,
          -8,
          16,
          -36,
          60,
          -32,
          12,
          -16,
          32,
          -72,
          24,
          -36,
          4,
          52,
          60,
          36,
          -40,
          -64,
          24,
          60,
          -96,
          -28,
          -52,
          8,
          36,
          -92,
          16,
          -28,
          -68,
          12,
          -24,
          -68,
          -12,
          48,
          -60,
          -76,
          -56,
          64,
          -80,
          36,
          8,
          -20,
          -112,
          -44,
          -16,
          -24,
          4,
          -44,
          -12,
          96,
          -100,
          12,
          -84,
          60,
          52,
          44,
          -4,
          -48,
          60
         ],
         "xaxis": "x",
         "y": [
          -38,
          54,
          -4,
          -6,
          30,
          -24,
          -8,
          -18,
          -60,
          68,
          -66,
          -2,
          -78,
          46,
          4,
          76,
          -44,
          -16,
          24,
          -58,
          -28,
          -40,
          -16,
          -22,
          22,
          36,
          22,
          58,
          -24,
          60,
          -118,
          22,
          -28,
          14,
          26,
          -50,
          -16,
          36,
          42,
          30,
          -46,
          -46,
          -64,
          72,
          42,
          -18,
          -18,
          12,
          42,
          30,
          2,
          -40,
          14,
          8,
          22,
          -50,
          60,
          -40,
          36,
          -64,
          8,
          28,
          8,
          112,
          48,
          -80,
          48,
          24,
          -40,
          -34,
          -26,
          96,
          10,
          20,
          54,
          -4,
          -24,
          -22,
          -30,
          14,
          64,
          -40,
          -86,
          44,
          28,
          20,
          42,
          -26,
          -60,
          70,
          -56,
          92,
          42,
          8,
          18,
          54,
          61,
          -29,
          -27,
          7,
          33,
          55,
          -19,
          -77,
          25,
          5,
          -11,
          31,
          -89,
          -71,
          51,
          15,
          -25,
          35,
          25,
          -65,
          31,
          -43,
          -51,
          -83,
          -43,
          41,
          -79,
          -9,
          77,
          -13,
          11,
          3,
          -28,
          -52,
          -78,
          -24,
          -8,
          76,
          28,
          4,
          -26,
          -46,
          36,
          -2,
          -6,
          -118,
          48,
          22,
          -6,
          -14,
          -38,
          -56,
          -16,
          26,
          34,
          6,
          -90,
          -54,
          -12,
          -36,
          102,
          32,
          36,
          36,
          17,
          -11,
          -21,
          -11,
          -53,
          25,
          -19,
          19,
          147,
          -37,
          -37,
          -21,
          -21,
          53,
          -3,
          -43,
          35,
          -161,
          -29,
          93,
          27,
          -79,
          -33,
          13,
          39,
          -21,
          -17,
          -65,
          -61,
          15,
          3,
          -53,
          69,
          -49,
          -9,
          -19,
          -35,
          -35,
          -17,
          -25,
          11,
          -1,
          -35,
          -51,
          19,
          -59,
          -23,
          15,
          -27,
          51,
          -37,
          115,
          -3,
          -3,
          3,
          -27,
          43,
          -91,
          53,
          17,
          17,
          37,
          33,
          83,
          47,
          -103,
          -79,
          27,
          -57,
          25,
          -83,
          113,
          45,
          5,
          -17,
          33,
          23,
          -43,
          -81,
          -51,
          -113,
          -65,
          35,
          59,
          13,
          1,
          45,
          -77,
          -15,
          -9,
          53,
          -25,
          -11,
          35,
          -69,
          13,
          142,
          4,
          -68,
          -64,
          54,
          -64,
          10,
          22,
          -28,
          74,
          -24,
          28,
          -4,
          48,
          -60,
          36,
          -24,
          18,
          58,
          72,
          40,
          -24,
          -48,
          30,
          66,
          -88,
          -20,
          -46,
          22,
          54,
          -74,
          28,
          -17,
          -53,
          21,
          -9,
          -51,
          5,
          57,
          -43,
          -55,
          -37,
          83,
          -73,
          45,
          15,
          -13,
          -97,
          -37,
          -7,
          -15,
          15,
          -33,
          3,
          105,
          -87,
          27,
          -71,
          75,
          69,
          63,
          5,
          -41,
          69
         ],
         "yaxis": "y"
        },
        {
         "alignmentgroup": "True",
         "bingroup": "x",
         "hovertemplate": "variable=0<br>value=%{x}<br>count=%{y}<extra></extra>",
         "legendgroup": "0",
         "marker": {
          "color": "#636efa",
          "pattern": {
           "shape": ""
          }
         },
         "name": "0",
         "nbinsx": 500,
         "offsetgroup": "0",
         "orientation": "v",
         "showlegend": true,
         "type": "histogram",
         "x": [
          -6,
          -10,
          -20,
          -18,
          -14,
          -16,
          -20,
          -6,
          -12,
          -12,
          -6,
          -14,
          -10,
          -14,
          -12,
          -12,
          -20,
          -20,
          -20,
          -18,
          -12,
          -12,
          -12,
          -18,
          -6,
          -16,
          -6,
          -18,
          -16,
          -8,
          242,
          -14,
          -20,
          -14,
          -14,
          -18,
          -12,
          -8,
          -6,
          -6,
          -18,
          -14,
          -12,
          -8,
          -14,
          -6,
          -14,
          -8,
          -10,
          -14,
          -6,
          -12,
          -14,
          -20,
          -10,
          -10,
          -20,
          -12,
          -12,
          -8,
          -20,
          -20,
          -8,
          -8,
          -8,
          -20,
          -12,
          -8,
          -12,
          -18,
          -18,
          -8,
          -6,
          -20,
          -6,
          -16,
          -20,
          -10,
          -10,
          -10,
          -20,
          -8,
          -14,
          -8,
          -16,
          -20,
          -18,
          -10,
          -16,
          -6,
          -12,
          -16,
          -18,
          -12,
          -14,
          -6,
          -1,
          -3,
          -1,
          -3,
          -13,
          -15,
          -9,
          -11,
          -13,
          -13,
          -5,
          -7,
          -3,
          -1,
          -7,
          -3,
          -7,
          -11,
          -1,
          -3,
          -3,
          -1,
          -9,
          -1,
          -13,
          -13,
          -1,
          -7,
          -13,
          -7,
          -7,
          -7,
          -20,
          -8,
          -10,
          -16,
          -16,
          -16,
          -12,
          -8,
          -10,
          -6,
          -16,
          -10,
          -6,
          -10,
          -16,
          -10,
          -14,
          -18,
          -6,
          -16,
          -20,
          -18,
          -10,
          -18,
          -14,
          -14,
          -16,
          -12,
          -6,
          -8,
          -16,
          -8,
          -13,
          -13,
          -7,
          -5,
          -11,
          -9,
          -13,
          -11,
          -271,
          -15,
          -7,
          -7,
          -11,
          -17,
          -9,
          -17,
          -11,
          241,
          -7,
          -5,
          -15,
          -5,
          -7,
          -13,
          -15,
          -7,
          -19,
          -19,
          -7,
          -11,
          -19,
          -7,
          -5,
          -7,
          -11,
          -5,
          -17,
          -17,
          -19,
          -7,
          -11,
          -7,
          -17,
          -5,
          -19,
          -5,
          -9,
          -11,
          -13,
          -7,
          -15,
          -11,
          -9,
          -9,
          -19,
          -5,
          -19,
          -13,
          -13,
          -13,
          -17,
          -13,
          -5,
          -7,
          -7,
          -13,
          -9,
          -11,
          -11,
          -13,
          -13,
          -17,
          -5,
          -5,
          -15,
          -17,
          -7,
          -5,
          -15,
          -13,
          237,
          -19,
          -19,
          -19,
          -5,
          -13,
          -17,
          -7,
          -9,
          -15,
          -17,
          -19,
          -13,
          -19,
          -7,
          -5,
          -18,
          -12,
          -4,
          -4,
          -6,
          -16,
          -18,
          -6,
          -8,
          -14,
          -8,
          -16,
          -12,
          -16,
          -12,
          -12,
          -12,
          -14,
          -6,
          -12,
          -4,
          -16,
          -16,
          -6,
          -6,
          -8,
          -8,
          -6,
          -14,
          -18,
          -18,
          -12,
          -11,
          -15,
          -9,
          -15,
          -17,
          -17,
          -9,
          -17,
          -21,
          -19,
          -19,
          -7,
          -9,
          -7,
          -7,
          -15,
          -7,
          -9,
          -9,
          -11,
          -11,
          -15,
          -9,
          -13,
          -15,
          -13,
          -15,
          -17,
          -19,
          -9,
          -7,
          -9
         ],
         "xaxis": "x2",
         "yaxis": "y2"
        }
       ],
       "layout": {
        "showlegend": false,
        "template": {
         "data": {
          "bar": [
           {
            "error_x": {
             "color": "#2a3f5f"
            },
            "error_y": {
             "color": "#2a3f5f"
            },
            "marker": {
             "line": {
              "color": "#E5ECF6",
              "width": 0.5
             },
             "pattern": {
              "fillmode": "overlay",
              "size": 10,
              "solidity": 0.2
             }
            },
            "type": "bar"
           }
          ],
          "barpolar": [
           {
            "marker": {
             "line": {
              "color": "#E5ECF6",
              "width": 0.5
             },
             "pattern": {
              "fillmode": "overlay",
              "size": 10,
              "solidity": 0.2
             }
            },
            "type": "barpolar"
           }
          ],
          "carpet": [
           {
            "aaxis": {
             "endlinecolor": "#2a3f5f",
             "gridcolor": "white",
             "linecolor": "white",
             "minorgridcolor": "white",
             "startlinecolor": "#2a3f5f"
            },
            "baxis": {
             "endlinecolor": "#2a3f5f",
             "gridcolor": "white",
             "linecolor": "white",
             "minorgridcolor": "white",
             "startlinecolor": "#2a3f5f"
            },
            "type": "carpet"
           }
          ],
          "choropleth": [
           {
            "colorbar": {
             "outlinewidth": 0,
             "ticks": ""
            },
            "type": "choropleth"
           }
          ],
          "contour": [
           {
            "colorbar": {
             "outlinewidth": 0,
             "ticks": ""
            },
            "colorscale": [
             [
              0,
              "#0d0887"
             ],
             [
              0.1111111111111111,
              "#46039f"
             ],
             [
              0.2222222222222222,
              "#7201a8"
             ],
             [
              0.3333333333333333,
              "#9c179e"
             ],
             [
              0.4444444444444444,
              "#bd3786"
             ],
             [
              0.5555555555555556,
              "#d8576b"
             ],
             [
              0.6666666666666666,
              "#ed7953"
             ],
             [
              0.7777777777777778,
              "#fb9f3a"
             ],
             [
              0.8888888888888888,
              "#fdca26"
             ],
             [
              1,
              "#f0f921"
             ]
            ],
            "type": "contour"
           }
          ],
          "contourcarpet": [
           {
            "colorbar": {
             "outlinewidth": 0,
             "ticks": ""
            },
            "type": "contourcarpet"
           }
          ],
          "heatmap": [
           {
            "colorbar": {
             "outlinewidth": 0,
             "ticks": ""
            },
            "colorscale": [
             [
              0,
              "#0d0887"
             ],
             [
              0.1111111111111111,
              "#46039f"
             ],
             [
              0.2222222222222222,
              "#7201a8"
             ],
             [
              0.3333333333333333,
              "#9c179e"
             ],
             [
              0.4444444444444444,
              "#bd3786"
             ],
             [
              0.5555555555555556,
              "#d8576b"
             ],
             [
              0.6666666666666666,
              "#ed7953"
             ],
             [
              0.7777777777777778,
              "#fb9f3a"
             ],
             [
              0.8888888888888888,
              "#fdca26"
             ],
             [
              1,
              "#f0f921"
             ]
            ],
            "type": "heatmap"
           }
          ],
          "heatmapgl": [
           {
            "colorbar": {
             "outlinewidth": 0,
             "ticks": ""
            },
            "colorscale": [
             [
              0,
              "#0d0887"
             ],
             [
              0.1111111111111111,
              "#46039f"
             ],
             [
              0.2222222222222222,
              "#7201a8"
             ],
             [
              0.3333333333333333,
              "#9c179e"
             ],
             [
              0.4444444444444444,
              "#bd3786"
             ],
             [
              0.5555555555555556,
              "#d8576b"
             ],
             [
              0.6666666666666666,
              "#ed7953"
             ],
             [
              0.7777777777777778,
              "#fb9f3a"
             ],
             [
              0.8888888888888888,
              "#fdca26"
             ],
             [
              1,
              "#f0f921"
             ]
            ],
            "type": "heatmapgl"
           }
          ],
          "histogram": [
           {
            "marker": {
             "pattern": {
              "fillmode": "overlay",
              "size": 10,
              "solidity": 0.2
             }
            },
            "type": "histogram"
           }
          ],
          "histogram2d": [
           {
            "colorbar": {
             "outlinewidth": 0,
             "ticks": ""
            },
            "colorscale": [
             [
              0,
              "#0d0887"
             ],
             [
              0.1111111111111111,
              "#46039f"
             ],
             [
              0.2222222222222222,
              "#7201a8"
             ],
             [
              0.3333333333333333,
              "#9c179e"
             ],
             [
              0.4444444444444444,
              "#bd3786"
             ],
             [
              0.5555555555555556,
              "#d8576b"
             ],
             [
              0.6666666666666666,
              "#ed7953"
             ],
             [
              0.7777777777777778,
              "#fb9f3a"
             ],
             [
              0.8888888888888888,
              "#fdca26"
             ],
             [
              1,
              "#f0f921"
             ]
            ],
            "type": "histogram2d"
           }
          ],
          "histogram2dcontour": [
           {
            "colorbar": {
             "outlinewidth": 0,
             "ticks": ""
            },
            "colorscale": [
             [
              0,
              "#0d0887"
             ],
             [
              0.1111111111111111,
              "#46039f"
             ],
             [
              0.2222222222222222,
              "#7201a8"
             ],
             [
              0.3333333333333333,
              "#9c179e"
             ],
             [
              0.4444444444444444,
              "#bd3786"
             ],
             [
              0.5555555555555556,
              "#d8576b"
             ],
             [
              0.6666666666666666,
              "#ed7953"
             ],
             [
              0.7777777777777778,
              "#fb9f3a"
             ],
             [
              0.8888888888888888,
              "#fdca26"
             ],
             [
              1,
              "#f0f921"
             ]
            ],
            "type": "histogram2dcontour"
           }
          ],
          "mesh3d": [
           {
            "colorbar": {
             "outlinewidth": 0,
             "ticks": ""
            },
            "type": "mesh3d"
           }
          ],
          "parcoords": [
           {
            "line": {
             "colorbar": {
              "outlinewidth": 0,
              "ticks": ""
             }
            },
            "type": "parcoords"
           }
          ],
          "pie": [
           {
            "automargin": true,
            "type": "pie"
           }
          ],
          "scatter": [
           {
            "fillpattern": {
             "fillmode": "overlay",
             "size": 10,
             "solidity": 0.2
            },
            "type": "scatter"
           }
          ],
          "scatter3d": [
           {
            "line": {
             "colorbar": {
              "outlinewidth": 0,
              "ticks": ""
             }
            },
            "marker": {
             "colorbar": {
              "outlinewidth": 0,
              "ticks": ""
             }
            },
            "type": "scatter3d"
           }
          ],
          "scattercarpet": [
           {
            "marker": {
             "colorbar": {
              "outlinewidth": 0,
              "ticks": ""
             }
            },
            "type": "scattercarpet"
           }
          ],
          "scattergeo": [
           {
            "marker": {
             "colorbar": {
              "outlinewidth": 0,
              "ticks": ""
             }
            },
            "type": "scattergeo"
           }
          ],
          "scattergl": [
           {
            "marker": {
             "colorbar": {
              "outlinewidth": 0,
              "ticks": ""
             }
            },
            "type": "scattergl"
           }
          ],
          "scattermapbox": [
           {
            "marker": {
             "colorbar": {
              "outlinewidth": 0,
              "ticks": ""
             }
            },
            "type": "scattermapbox"
           }
          ],
          "scatterpolar": [
           {
            "marker": {
             "colorbar": {
              "outlinewidth": 0,
              "ticks": ""
             }
            },
            "type": "scatterpolar"
           }
          ],
          "scatterpolargl": [
           {
            "marker": {
             "colorbar": {
              "outlinewidth": 0,
              "ticks": ""
             }
            },
            "type": "scatterpolargl"
           }
          ],
          "scatterternary": [
           {
            "marker": {
             "colorbar": {
              "outlinewidth": 0,
              "ticks": ""
             }
            },
            "type": "scatterternary"
           }
          ],
          "surface": [
           {
            "colorbar": {
             "outlinewidth": 0,
             "ticks": ""
            },
            "colorscale": [
             [
              0,
              "#0d0887"
             ],
             [
              0.1111111111111111,
              "#46039f"
             ],
             [
              0.2222222222222222,
              "#7201a8"
             ],
             [
              0.3333333333333333,
              "#9c179e"
             ],
             [
              0.4444444444444444,
              "#bd3786"
             ],
             [
              0.5555555555555556,
              "#d8576b"
             ],
             [
              0.6666666666666666,
              "#ed7953"
             ],
             [
              0.7777777777777778,
              "#fb9f3a"
             ],
             [
              0.8888888888888888,
              "#fdca26"
             ],
             [
              1,
              "#f0f921"
             ]
            ],
            "type": "surface"
           }
          ],
          "table": [
           {
            "cells": {
             "fill": {
              "color": "#EBF0F8"
             },
             "line": {
              "color": "white"
             }
            },
            "header": {
             "fill": {
              "color": "#C8D4E3"
             },
             "line": {
              "color": "white"
             }
            },
            "type": "table"
           }
          ]
         },
         "layout": {
          "annotationdefaults": {
           "arrowcolor": "#2a3f5f",
           "arrowhead": 0,
           "arrowwidth": 1
          },
          "autotypenumbers": "strict",
          "coloraxis": {
           "colorbar": {
            "outlinewidth": 0,
            "ticks": ""
           }
          },
          "colorscale": {
           "diverging": [
            [
             0,
             "#8e0152"
            ],
            [
             0.1,
             "#c51b7d"
            ],
            [
             0.2,
             "#de77ae"
            ],
            [
             0.3,
             "#f1b6da"
            ],
            [
             0.4,
             "#fde0ef"
            ],
            [
             0.5,
             "#f7f7f7"
            ],
            [
             0.6,
             "#e6f5d0"
            ],
            [
             0.7,
             "#b8e186"
            ],
            [
             0.8,
             "#7fbc41"
            ],
            [
             0.9,
             "#4d9221"
            ],
            [
             1,
             "#276419"
            ]
           ],
           "sequential": [
            [
             0,
             "#0d0887"
            ],
            [
             0.1111111111111111,
             "#46039f"
            ],
            [
             0.2222222222222222,
             "#7201a8"
            ],
            [
             0.3333333333333333,
             "#9c179e"
            ],
            [
             0.4444444444444444,
             "#bd3786"
            ],
            [
             0.5555555555555556,
             "#d8576b"
            ],
            [
             0.6666666666666666,
             "#ed7953"
            ],
            [
             0.7777777777777778,
             "#fb9f3a"
            ],
            [
             0.8888888888888888,
             "#fdca26"
            ],
            [
             1,
             "#f0f921"
            ]
           ],
           "sequentialminus": [
            [
             0,
             "#0d0887"
            ],
            [
             0.1111111111111111,
             "#46039f"
            ],
            [
             0.2222222222222222,
             "#7201a8"
            ],
            [
             0.3333333333333333,
             "#9c179e"
            ],
            [
             0.4444444444444444,
             "#bd3786"
            ],
            [
             0.5555555555555556,
             "#d8576b"
            ],
            [
             0.6666666666666666,
             "#ed7953"
            ],
            [
             0.7777777777777778,
             "#fb9f3a"
            ],
            [
             0.8888888888888888,
             "#fdca26"
            ],
            [
             1,
             "#f0f921"
            ]
           ]
          },
          "colorway": [
           "#636efa",
           "#EF553B",
           "#00cc96",
           "#ab63fa",
           "#FFA15A",
           "#19d3f3",
           "#FF6692",
           "#B6E880",
           "#FF97FF",
           "#FECB52"
          ],
          "font": {
           "color": "#2a3f5f"
          },
          "geo": {
           "bgcolor": "white",
           "lakecolor": "white",
           "landcolor": "#E5ECF6",
           "showlakes": true,
           "showland": true,
           "subunitcolor": "white"
          },
          "hoverlabel": {
           "align": "left"
          },
          "hovermode": "closest",
          "mapbox": {
           "style": "light"
          },
          "paper_bgcolor": "white",
          "plot_bgcolor": "#E5ECF6",
          "polar": {
           "angularaxis": {
            "gridcolor": "white",
            "linecolor": "white",
            "ticks": ""
           },
           "bgcolor": "#E5ECF6",
           "radialaxis": {
            "gridcolor": "white",
            "linecolor": "white",
            "ticks": ""
           }
          },
          "scene": {
           "xaxis": {
            "backgroundcolor": "#E5ECF6",
            "gridcolor": "white",
            "gridwidth": 2,
            "linecolor": "white",
            "showbackground": true,
            "ticks": "",
            "zerolinecolor": "white"
           },
           "yaxis": {
            "backgroundcolor": "#E5ECF6",
            "gridcolor": "white",
            "gridwidth": 2,
            "linecolor": "white",
            "showbackground": true,
            "ticks": "",
            "zerolinecolor": "white"
           },
           "zaxis": {
            "backgroundcolor": "#E5ECF6",
            "gridcolor": "white",
            "gridwidth": 2,
            "linecolor": "white",
            "showbackground": true,
            "ticks": "",
            "zerolinecolor": "white"
           }
          },
          "shapedefaults": {
           "line": {
            "color": "#2a3f5f"
           }
          },
          "ternary": {
           "aaxis": {
            "gridcolor": "white",
            "linecolor": "white",
            "ticks": ""
           },
           "baxis": {
            "gridcolor": "white",
            "linecolor": "white",
            "ticks": ""
           },
           "bgcolor": "#E5ECF6",
           "caxis": {
            "gridcolor": "white",
            "linecolor": "white",
            "ticks": ""
           }
          },
          "title": {
           "x": 0.05
          },
          "xaxis": {
           "automargin": true,
           "gridcolor": "white",
           "linecolor": "white",
           "ticks": "",
           "title": {
            "standoff": 15
           },
           "zerolinecolor": "white",
           "zerolinewidth": 2
          },
          "yaxis": {
           "automargin": true,
           "gridcolor": "white",
           "linecolor": "white",
           "ticks": "",
           "title": {
            "standoff": 15
           },
           "zerolinecolor": "white",
           "zerolinewidth": 2
          }
         }
        },
        "title": {
         "text": "Seq Acc Ideal vs RTL, RMSE=30.45, SNR=20.83dB, var_err=8.26e+02, var_yo=2.34e+03"
        },
        "xaxis": {
         "anchor": "y",
         "domain": [
          0,
          0.45
         ],
         "title": {
          "text": "RTL"
         }
        },
        "xaxis2": {
         "anchor": "y2",
         "domain": [
          0.55,
          1
         ],
         "title": {
          "text": "Error"
         }
        },
        "yaxis": {
         "anchor": "x",
         "domain": [
          0,
          1
         ],
         "title": {
          "text": "Ideal"
         }
        },
        "yaxis2": {
         "anchor": "x2",
         "domain": [
          0,
          1
         ]
        }
       }
      },
      "text/html": [
       "<div>                            <div id=\"0c2024ef-162e-4091-853b-dbdbb899035e\" class=\"plotly-graph-div\" style=\"height:525px; width:100%;\"></div>            <script type=\"text/javascript\">                require([\"plotly\"], function(Plotly) {                    window.PLOTLYENV=window.PLOTLYENV || {};                                    if (document.getElementById(\"0c2024ef-162e-4091-853b-dbdbb899035e\")) {                    Plotly.newPlot(                        \"0c2024ef-162e-4091-853b-dbdbb899035e\",                        [{\"hovertemplate\":\"RTL=%{x}\\u003cbr\\u003eIdeal=%{y}\\u003cextra\\u003e\\u003c\\u002fextra\\u003e\",\"legendgroup\":\"\",\"marker\":{\"color\":\"#636efa\",\"symbol\":\"circle\"},\"mode\":\"markers\",\"name\":\"\",\"orientation\":\"v\",\"showlegend\":false,\"x\":[-44.0,44.0,-24.0,-24.0,16.0,-40.0,-28.0,-24.0,-72.0,56.0,-72.0,-16.0,-88.0,32.0,-8.0,64.0,-64.0,-36.0,4.0,-76.0,-40.0,-52.0,-28.0,-40.0,16.0,20.0,16.0,40.0,-40.0,52.0,124.0,8.0,-48.0,0.0,12.0,-68.0,-28.0,28.0,36.0,24.0,-64.0,-60.0,-76.0,64.0,28.0,-24.0,-32.0,4.0,32.0,16.0,-4.0,-52.0,0.0,-12.0,12.0,-60.0,40.0,-52.0,24.0,-72.0,-12.0,8.0,0.0,104.0,40.0,-100.0,36.0,16.0,-52.0,-52.0,-44.0,88.0,4.0,0.0,48.0,-20.0,-44.0,-32.0,-40.0,4.0,44.0,-48.0,-100.0,36.0,12.0,0.0,24.0,-36.0,-76.0,64.0,-68.0,76.0,24.0,-4.0,4.0,48.0,60.0,-32.0,-28.0,4.0,20.0,40.0,-28.0,-88.0,12.0,-8.0,-16.0,24.0,-92.0,-72.0,44.0,12.0,-32.0,24.0,24.0,-68.0,28.0,-44.0,-60.0,-84.0,-56.0,28.0,-80.0,-16.0,64.0,-20.0,4.0,-4.0,-48.0,-60.0,-88.0,-40.0,-24.0,60.0,16.0,-4.0,-36.0,-52.0,20.0,-12.0,-12.0,-128.0,32.0,12.0,-20.0,-32.0,-44.0,-72.0,-36.0,8.0,24.0,-12.0,-104.0,-68.0,-28.0,-48.0,96.0,24.0,20.0,28.0,4.0,-24.0,-28.0,-16.0,-64.0,16.0,-32.0,8.0,-124.0,-52.0,-44.0,-28.0,-32.0,36.0,-12.0,-60.0,24.0,80.0,-36.0,88.0,12.0,-84.0,-40.0,0.0,24.0,-28.0,-36.0,-84.0,-68.0,4.0,-16.0,-60.0,64.0,-56.0,-20.0,-24.0,-52.0,-52.0,-36.0,-32.0,0.0,-8.0,-52.0,-56.0,0.0,-64.0,-32.0,4.0,-40.0,44.0,-52.0,104.0,-12.0,-12.0,-16.0,-32.0,24.0,-104.0,40.0,4.0,0.0,24.0,28.0,76.0,40.0,-116.0,-88.0,16.0,-68.0,12.0,-96.0,96.0,40.0,0.0,-32.0,16.0,16.0,-48.0,-96.0,-64.0,124.0,-84.0,16.0,40.0,8.0,-12.0,28.0,-84.0,-24.0,-24.0,36.0,-44.0,-24.0,16.0,-76.0,8.0,124.0,-8.0,-72.0,-68.0,48.0,-80.0,-8.0,16.0,-36.0,60.0,-32.0,12.0,-16.0,32.0,-72.0,24.0,-36.0,4.0,52.0,60.0,36.0,-40.0,-64.0,24.0,60.0,-96.0,-28.0,-52.0,8.0,36.0,-92.0,16.0,-28.0,-68.0,12.0,-24.0,-68.0,-12.0,48.0,-60.0,-76.0,-56.0,64.0,-80.0,36.0,8.0,-20.0,-112.0,-44.0,-16.0,-24.0,4.0,-44.0,-12.0,96.0,-100.0,12.0,-84.0,60.0,52.0,44.0,-4.0,-48.0,60.0],\"xaxis\":\"x\",\"y\":[-38,54,-4,-6,30,-24,-8,-18,-60,68,-66,-2,-78,46,4,76,-44,-16,24,-58,-28,-40,-16,-22,22,36,22,58,-24,60,-118,22,-28,14,26,-50,-16,36,42,30,-46,-46,-64,72,42,-18,-18,12,42,30,2,-40,14,8,22,-50,60,-40,36,-64,8,28,8,112,48,-80,48,24,-40,-34,-26,96,10,20,54,-4,-24,-22,-30,14,64,-40,-86,44,28,20,42,-26,-60,70,-56,92,42,8,18,54,61,-29,-27,7,33,55,-19,-77,25,5,-11,31,-89,-71,51,15,-25,35,25,-65,31,-43,-51,-83,-43,41,-79,-9,77,-13,11,3,-28,-52,-78,-24,-8,76,28,4,-26,-46,36,-2,-6,-118,48,22,-6,-14,-38,-56,-16,26,34,6,-90,-54,-12,-36,102,32,36,36,17,-11,-21,-11,-53,25,-19,19,147,-37,-37,-21,-21,53,-3,-43,35,-161,-29,93,27,-79,-33,13,39,-21,-17,-65,-61,15,3,-53,69,-49,-9,-19,-35,-35,-17,-25,11,-1,-35,-51,19,-59,-23,15,-27,51,-37,115,-3,-3,3,-27,43,-91,53,17,17,37,33,83,47,-103,-79,27,-57,25,-83,113,45,5,-17,33,23,-43,-81,-51,-113,-65,35,59,13,1,45,-77,-15,-9,53,-25,-11,35,-69,13,142,4,-68,-64,54,-64,10,22,-28,74,-24,28,-4,48,-60,36,-24,18,58,72,40,-24,-48,30,66,-88,-20,-46,22,54,-74,28,-17,-53,21,-9,-51,5,57,-43,-55,-37,83,-73,45,15,-13,-97,-37,-7,-15,15,-33,3,105,-87,27,-71,75,69,63,5,-41,69],\"yaxis\":\"y\",\"type\":\"scatter\"},{\"alignmentgroup\":\"True\",\"bingroup\":\"x\",\"hovertemplate\":\"variable=0\\u003cbr\\u003evalue=%{x}\\u003cbr\\u003ecount=%{y}\\u003cextra\\u003e\\u003c\\u002fextra\\u003e\",\"legendgroup\":\"0\",\"marker\":{\"color\":\"#636efa\",\"pattern\":{\"shape\":\"\"}},\"name\":\"0\",\"nbinsx\":500,\"offsetgroup\":\"0\",\"orientation\":\"v\",\"showlegend\":true,\"x\":[-6.0,-10.0,-20.0,-18.0,-14.0,-16.0,-20.0,-6.0,-12.0,-12.0,-6.0,-14.0,-10.0,-14.0,-12.0,-12.0,-20.0,-20.0,-20.0,-18.0,-12.0,-12.0,-12.0,-18.0,-6.0,-16.0,-6.0,-18.0,-16.0,-8.0,242.0,-14.0,-20.0,-14.0,-14.0,-18.0,-12.0,-8.0,-6.0,-6.0,-18.0,-14.0,-12.0,-8.0,-14.0,-6.0,-14.0,-8.0,-10.0,-14.0,-6.0,-12.0,-14.0,-20.0,-10.0,-10.0,-20.0,-12.0,-12.0,-8.0,-20.0,-20.0,-8.0,-8.0,-8.0,-20.0,-12.0,-8.0,-12.0,-18.0,-18.0,-8.0,-6.0,-20.0,-6.0,-16.0,-20.0,-10.0,-10.0,-10.0,-20.0,-8.0,-14.0,-8.0,-16.0,-20.0,-18.0,-10.0,-16.0,-6.0,-12.0,-16.0,-18.0,-12.0,-14.0,-6.0,-1.0,-3.0,-1.0,-3.0,-13.0,-15.0,-9.0,-11.0,-13.0,-13.0,-5.0,-7.0,-3.0,-1.0,-7.0,-3.0,-7.0,-11.0,-1.0,-3.0,-3.0,-1.0,-9.0,-1.0,-13.0,-13.0,-1.0,-7.0,-13.0,-7.0,-7.0,-7.0,-20.0,-8.0,-10.0,-16.0,-16.0,-16.0,-12.0,-8.0,-10.0,-6.0,-16.0,-10.0,-6.0,-10.0,-16.0,-10.0,-14.0,-18.0,-6.0,-16.0,-20.0,-18.0,-10.0,-18.0,-14.0,-14.0,-16.0,-12.0,-6.0,-8.0,-16.0,-8.0,-13.0,-13.0,-7.0,-5.0,-11.0,-9.0,-13.0,-11.0,-271.0,-15.0,-7.0,-7.0,-11.0,-17.0,-9.0,-17.0,-11.0,241.0,-7.0,-5.0,-15.0,-5.0,-7.0,-13.0,-15.0,-7.0,-19.0,-19.0,-7.0,-11.0,-19.0,-7.0,-5.0,-7.0,-11.0,-5.0,-17.0,-17.0,-19.0,-7.0,-11.0,-7.0,-17.0,-5.0,-19.0,-5.0,-9.0,-11.0,-13.0,-7.0,-15.0,-11.0,-9.0,-9.0,-19.0,-5.0,-19.0,-13.0,-13.0,-13.0,-17.0,-13.0,-5.0,-7.0,-7.0,-13.0,-9.0,-11.0,-11.0,-13.0,-13.0,-17.0,-5.0,-5.0,-15.0,-17.0,-7.0,-5.0,-15.0,-13.0,237.0,-19.0,-19.0,-19.0,-5.0,-13.0,-17.0,-7.0,-9.0,-15.0,-17.0,-19.0,-13.0,-19.0,-7.0,-5.0,-18.0,-12.0,-4.0,-4.0,-6.0,-16.0,-18.0,-6.0,-8.0,-14.0,-8.0,-16.0,-12.0,-16.0,-12.0,-12.0,-12.0,-14.0,-6.0,-12.0,-4.0,-16.0,-16.0,-6.0,-6.0,-8.0,-8.0,-6.0,-14.0,-18.0,-18.0,-12.0,-11.0,-15.0,-9.0,-15.0,-17.0,-17.0,-9.0,-17.0,-21.0,-19.0,-19.0,-7.0,-9.0,-7.0,-7.0,-15.0,-7.0,-9.0,-9.0,-11.0,-11.0,-15.0,-9.0,-13.0,-15.0,-13.0,-15.0,-17.0,-19.0,-9.0,-7.0,-9.0],\"xaxis\":\"x2\",\"yaxis\":\"y2\",\"type\":\"histogram\"}],                        {\"template\":{\"data\":{\"histogram2dcontour\":[{\"type\":\"histogram2dcontour\",\"colorbar\":{\"outlinewidth\":0,\"ticks\":\"\"},\"colorscale\":[[0.0,\"#0d0887\"],[0.1111111111111111,\"#46039f\"],[0.2222222222222222,\"#7201a8\"],[0.3333333333333333,\"#9c179e\"],[0.4444444444444444,\"#bd3786\"],[0.5555555555555556,\"#d8576b\"],[0.6666666666666666,\"#ed7953\"],[0.7777777777777778,\"#fb9f3a\"],[0.8888888888888888,\"#fdca26\"],[1.0,\"#f0f921\"]]}],\"choropleth\":[{\"type\":\"choropleth\",\"colorbar\":{\"outlinewidth\":0,\"ticks\":\"\"}}],\"histogram2d\":[{\"type\":\"histogram2d\",\"colorbar\":{\"outlinewidth\":0,\"ticks\":\"\"},\"colorscale\":[[0.0,\"#0d0887\"],[0.1111111111111111,\"#46039f\"],[0.2222222222222222,\"#7201a8\"],[0.3333333333333333,\"#9c179e\"],[0.4444444444444444,\"#bd3786\"],[0.5555555555555556,\"#d8576b\"],[0.6666666666666666,\"#ed7953\"],[0.7777777777777778,\"#fb9f3a\"],[0.8888888888888888,\"#fdca26\"],[1.0,\"#f0f921\"]]}],\"heatmap\":[{\"type\":\"heatmap\",\"colorbar\":{\"outlinewidth\":0,\"ticks\":\"\"},\"colorscale\":[[0.0,\"#0d0887\"],[0.1111111111111111,\"#46039f\"],[0.2222222222222222,\"#7201a8\"],[0.3333333333333333,\"#9c179e\"],[0.4444444444444444,\"#bd3786\"],[0.5555555555555556,\"#d8576b\"],[0.6666666666666666,\"#ed7953\"],[0.7777777777777778,\"#fb9f3a\"],[0.8888888888888888,\"#fdca26\"],[1.0,\"#f0f921\"]]}],\"heatmapgl\":[{\"type\":\"heatmapgl\",\"colorbar\":{\"outlinewidth\":0,\"ticks\":\"\"},\"colorscale\":[[0.0,\"#0d0887\"],[0.1111111111111111,\"#46039f\"],[0.2222222222222222,\"#7201a8\"],[0.3333333333333333,\"#9c179e\"],[0.4444444444444444,\"#bd3786\"],[0.5555555555555556,\"#d8576b\"],[0.6666666666666666,\"#ed7953\"],[0.7777777777777778,\"#fb9f3a\"],[0.8888888888888888,\"#fdca26\"],[1.0,\"#f0f921\"]]}],\"contourcarpet\":[{\"type\":\"contourcarpet\",\"colorbar\":{\"outlinewidth\":0,\"ticks\":\"\"}}],\"contour\":[{\"type\":\"contour\",\"colorbar\":{\"outlinewidth\":0,\"ticks\":\"\"},\"colorscale\":[[0.0,\"#0d0887\"],[0.1111111111111111,\"#46039f\"],[0.2222222222222222,\"#7201a8\"],[0.3333333333333333,\"#9c179e\"],[0.4444444444444444,\"#bd3786\"],[0.5555555555555556,\"#d8576b\"],[0.6666666666666666,\"#ed7953\"],[0.7777777777777778,\"#fb9f3a\"],[0.8888888888888888,\"#fdca26\"],[1.0,\"#f0f921\"]]}],\"surface\":[{\"type\":\"surface\",\"colorbar\":{\"outlinewidth\":0,\"ticks\":\"\"},\"colorscale\":[[0.0,\"#0d0887\"],[0.1111111111111111,\"#46039f\"],[0.2222222222222222,\"#7201a8\"],[0.3333333333333333,\"#9c179e\"],[0.4444444444444444,\"#bd3786\"],[0.5555555555555556,\"#d8576b\"],[0.6666666666666666,\"#ed7953\"],[0.7777777777777778,\"#fb9f3a\"],[0.8888888888888888,\"#fdca26\"],[1.0,\"#f0f921\"]]}],\"mesh3d\":[{\"type\":\"mesh3d\",\"colorbar\":{\"outlinewidth\":0,\"ticks\":\"\"}}],\"scatter\":[{\"fillpattern\":{\"fillmode\":\"overlay\",\"size\":10,\"solidity\":0.2},\"type\":\"scatter\"}],\"parcoords\":[{\"type\":\"parcoords\",\"line\":{\"colorbar\":{\"outlinewidth\":0,\"ticks\":\"\"}}}],\"scatterpolargl\":[{\"type\":\"scatterpolargl\",\"marker\":{\"colorbar\":{\"outlinewidth\":0,\"ticks\":\"\"}}}],\"bar\":[{\"error_x\":{\"color\":\"#2a3f5f\"},\"error_y\":{\"color\":\"#2a3f5f\"},\"marker\":{\"line\":{\"color\":\"#E5ECF6\",\"width\":0.5},\"pattern\":{\"fillmode\":\"overlay\",\"size\":10,\"solidity\":0.2}},\"type\":\"bar\"}],\"scattergeo\":[{\"type\":\"scattergeo\",\"marker\":{\"colorbar\":{\"outlinewidth\":0,\"ticks\":\"\"}}}],\"scatterpolar\":[{\"type\":\"scatterpolar\",\"marker\":{\"colorbar\":{\"outlinewidth\":0,\"ticks\":\"\"}}}],\"histogram\":[{\"marker\":{\"pattern\":{\"fillmode\":\"overlay\",\"size\":10,\"solidity\":0.2}},\"type\":\"histogram\"}],\"scattergl\":[{\"type\":\"scattergl\",\"marker\":{\"colorbar\":{\"outlinewidth\":0,\"ticks\":\"\"}}}],\"scatter3d\":[{\"type\":\"scatter3d\",\"line\":{\"colorbar\":{\"outlinewidth\":0,\"ticks\":\"\"}},\"marker\":{\"colorbar\":{\"outlinewidth\":0,\"ticks\":\"\"}}}],\"scattermapbox\":[{\"type\":\"scattermapbox\",\"marker\":{\"colorbar\":{\"outlinewidth\":0,\"ticks\":\"\"}}}],\"scatterternary\":[{\"type\":\"scatterternary\",\"marker\":{\"colorbar\":{\"outlinewidth\":0,\"ticks\":\"\"}}}],\"scattercarpet\":[{\"type\":\"scattercarpet\",\"marker\":{\"colorbar\":{\"outlinewidth\":0,\"ticks\":\"\"}}}],\"carpet\":[{\"aaxis\":{\"endlinecolor\":\"#2a3f5f\",\"gridcolor\":\"white\",\"linecolor\":\"white\",\"minorgridcolor\":\"white\",\"startlinecolor\":\"#2a3f5f\"},\"baxis\":{\"endlinecolor\":\"#2a3f5f\",\"gridcolor\":\"white\",\"linecolor\":\"white\",\"minorgridcolor\":\"white\",\"startlinecolor\":\"#2a3f5f\"},\"type\":\"carpet\"}],\"table\":[{\"cells\":{\"fill\":{\"color\":\"#EBF0F8\"},\"line\":{\"color\":\"white\"}},\"header\":{\"fill\":{\"color\":\"#C8D4E3\"},\"line\":{\"color\":\"white\"}},\"type\":\"table\"}],\"barpolar\":[{\"marker\":{\"line\":{\"color\":\"#E5ECF6\",\"width\":0.5},\"pattern\":{\"fillmode\":\"overlay\",\"size\":10,\"solidity\":0.2}},\"type\":\"barpolar\"}],\"pie\":[{\"automargin\":true,\"type\":\"pie\"}]},\"layout\":{\"autotypenumbers\":\"strict\",\"colorway\":[\"#636efa\",\"#EF553B\",\"#00cc96\",\"#ab63fa\",\"#FFA15A\",\"#19d3f3\",\"#FF6692\",\"#B6E880\",\"#FF97FF\",\"#FECB52\"],\"font\":{\"color\":\"#2a3f5f\"},\"hovermode\":\"closest\",\"hoverlabel\":{\"align\":\"left\"},\"paper_bgcolor\":\"white\",\"plot_bgcolor\":\"#E5ECF6\",\"polar\":{\"bgcolor\":\"#E5ECF6\",\"angularaxis\":{\"gridcolor\":\"white\",\"linecolor\":\"white\",\"ticks\":\"\"},\"radialaxis\":{\"gridcolor\":\"white\",\"linecolor\":\"white\",\"ticks\":\"\"}},\"ternary\":{\"bgcolor\":\"#E5ECF6\",\"aaxis\":{\"gridcolor\":\"white\",\"linecolor\":\"white\",\"ticks\":\"\"},\"baxis\":{\"gridcolor\":\"white\",\"linecolor\":\"white\",\"ticks\":\"\"},\"caxis\":{\"gridcolor\":\"white\",\"linecolor\":\"white\",\"ticks\":\"\"}},\"coloraxis\":{\"colorbar\":{\"outlinewidth\":0,\"ticks\":\"\"}},\"colorscale\":{\"sequential\":[[0.0,\"#0d0887\"],[0.1111111111111111,\"#46039f\"],[0.2222222222222222,\"#7201a8\"],[0.3333333333333333,\"#9c179e\"],[0.4444444444444444,\"#bd3786\"],[0.5555555555555556,\"#d8576b\"],[0.6666666666666666,\"#ed7953\"],[0.7777777777777778,\"#fb9f3a\"],[0.8888888888888888,\"#fdca26\"],[1.0,\"#f0f921\"]],\"sequentialminus\":[[0.0,\"#0d0887\"],[0.1111111111111111,\"#46039f\"],[0.2222222222222222,\"#7201a8\"],[0.3333333333333333,\"#9c179e\"],[0.4444444444444444,\"#bd3786\"],[0.5555555555555556,\"#d8576b\"],[0.6666666666666666,\"#ed7953\"],[0.7777777777777778,\"#fb9f3a\"],[0.8888888888888888,\"#fdca26\"],[1.0,\"#f0f921\"]],\"diverging\":[[0,\"#8e0152\"],[0.1,\"#c51b7d\"],[0.2,\"#de77ae\"],[0.3,\"#f1b6da\"],[0.4,\"#fde0ef\"],[0.5,\"#f7f7f7\"],[0.6,\"#e6f5d0\"],[0.7,\"#b8e186\"],[0.8,\"#7fbc41\"],[0.9,\"#4d9221\"],[1,\"#276419\"]]},\"xaxis\":{\"gridcolor\":\"white\",\"linecolor\":\"white\",\"ticks\":\"\",\"title\":{\"standoff\":15},\"zerolinecolor\":\"white\",\"automargin\":true,\"zerolinewidth\":2},\"yaxis\":{\"gridcolor\":\"white\",\"linecolor\":\"white\",\"ticks\":\"\",\"title\":{\"standoff\":15},\"zerolinecolor\":\"white\",\"automargin\":true,\"zerolinewidth\":2},\"scene\":{\"xaxis\":{\"backgroundcolor\":\"#E5ECF6\",\"gridcolor\":\"white\",\"linecolor\":\"white\",\"showbackground\":true,\"ticks\":\"\",\"zerolinecolor\":\"white\",\"gridwidth\":2},\"yaxis\":{\"backgroundcolor\":\"#E5ECF6\",\"gridcolor\":\"white\",\"linecolor\":\"white\",\"showbackground\":true,\"ticks\":\"\",\"zerolinecolor\":\"white\",\"gridwidth\":2},\"zaxis\":{\"backgroundcolor\":\"#E5ECF6\",\"gridcolor\":\"white\",\"linecolor\":\"white\",\"showbackground\":true,\"ticks\":\"\",\"zerolinecolor\":\"white\",\"gridwidth\":2}},\"shapedefaults\":{\"line\":{\"color\":\"#2a3f5f\"}},\"annotationdefaults\":{\"arrowcolor\":\"#2a3f5f\",\"arrowhead\":0,\"arrowwidth\":1},\"geo\":{\"bgcolor\":\"white\",\"landcolor\":\"#E5ECF6\",\"subunitcolor\":\"white\",\"showland\":true,\"showlakes\":true,\"lakecolor\":\"white\"},\"title\":{\"x\":0.05},\"mapbox\":{\"style\":\"light\"}}},\"xaxis\":{\"anchor\":\"y\",\"domain\":[0.0,0.45],\"title\":{\"text\":\"RTL\"}},\"yaxis\":{\"anchor\":\"x\",\"domain\":[0.0,1.0],\"title\":{\"text\":\"Ideal\"}},\"xaxis2\":{\"anchor\":\"y2\",\"domain\":[0.55,1.0],\"title\":{\"text\":\"Error\"}},\"yaxis2\":{\"anchor\":\"x2\",\"domain\":[0.0,1.0]},\"title\":{\"text\":\"Seq Acc Ideal vs RTL, RMSE=30.45, SNR=20.83dB, var_err=8.26e+02, var_yo=2.34e+03\"},\"showlegend\":false},                        {\"responsive\": true}                    ).then(function(){\n",
       "                            \n",
       "var gd = document.getElementById('0c2024ef-162e-4091-853b-dbdbb899035e');\n",
       "var x = new MutationObserver(function (mutations, observer) {{\n",
       "        var display = window.getComputedStyle(gd).display;\n",
       "        if (!display || display === 'none') {{\n",
       "            console.log([gd, 'removed!']);\n",
       "            Plotly.purge(gd);\n",
       "            observer.disconnect();\n",
       "        }}\n",
       "}});\n",
       "\n",
       "// Listen for the removal of the full notebook cells\n",
       "var notebookContainer = gd.closest('#notebook-container');\n",
       "if (notebookContainer) {{\n",
       "    x.observe(notebookContainer, {childList: true});\n",
       "}}\n",
       "\n",
       "// Listen for the clearing of the current output cell\n",
       "var outputEl = gd.closest('.output');\n",
       "if (outputEl) {{\n",
       "    x.observe(outputEl, {childList: true});\n",
       "}}\n",
       "\n",
       "                        })                };                });            </script>        </div>"
      ]
     },
     "metadata": {},
     "output_type": "display_data"
    },
    {
     "name": "stdout",
     "output_type": "stream",
     "text": [
      "SNR of ideal ADC: 25.84dB\n"
     ]
    }
   ],
   "source": [
    "w,x,wx_outBits = generate_qracc_inputs(\n",
    "    wDimX = 32, #nColumns\n",
    "    wDimY = 128, #nRows\n",
    "    xBatches = 10,\n",
    "    xTrits = 3,\n",
    "    outBits = 4,\n",
    "    seed = 0,\n",
    "    weight_mode = 'bipolar',\n",
    "    col_symmetric=False\n",
    ")\n",
    "\n",
    "# ams = np.loadtxt('../tb/seq_acc/inputs/adc_out.txt')\n",
    "rtl = np.loadtxt('../tb/seq_acc/inputs/mac_out_rtlsims.txt')\n",
    "\n",
    "wx = w @ x.T\n",
    "\n",
    "# rtl.astype(int), wx[::-1].T\n",
    "\n",
    "rtl_fp = rtl.flatten()#/(2**8)\n",
    "wx_fp = wx[::-1].T.flatten()#/(2**8)\n",
    "\n",
    "rmse = np.sqrt(np.mean((rtl_fp - wx_fp)**2))\n",
    "# SNR\n",
    "\n",
    "err = rtl_fp - wx_fp\n",
    "snr = 20*np.log(np.var(rtl_fp) / np.var(err))\n",
    "var_err = np.var(err)\n",
    "var_rtl = np.var(rtl_fp)\n",
    "\n",
    "a = px.scatter(\n",
    "    x=rtl.flatten(), \n",
    "    y=wx[::-1].T.flatten(), \n",
    "    width=400, \n",
    "    height=400, \n",
    "    title=f'Ideal vs RTL, RMSE={rmse:.2f}, SNR={snr:.2f}dB', \n",
    "    labels={'x': 'RTL', 'y': 'Ideal'}\n",
    ")\n",
    "b = px.histogram(\n",
    "    err,\n",
    "    width = 400,\n",
    "    height = 400,\n",
    "    title = 'Error Histogram',\n",
    "    nbins=500\n",
    ")\n",
    "\n",
    "fig = sp.make_subplots(rows=1, cols=2)\n",
    "fig.append_trace(a[\"data\"][0], 1, 1)\n",
    "fig.append_trace(b[\"data\"][0], 1, 2)\n",
    "\n",
    "fig.update_layout(\n",
    "    title_text=f'Seq Acc Ideal vs RTL, RMSE={rmse:.2f}, SNR={snr:.2f}dB, var_err={var_err:.2e}, var_yo={var_rtl:.2e}',\n",
    "    showlegend=False\n",
    ")\n",
    "fig.update_xaxes(title_text='RTL', row=1, col=1)\n",
    "fig.update_yaxes(title_text='Ideal', row=1, col=1)\n",
    "fig.update_xaxes(title_text='Error', row=1, col=2)\n",
    "fig.show()\n",
    "print(f'SNR of ideal ADC: {6.02*4 + 1.76:.2f}dB')"
   ]
  },
  {
   "cell_type": "code",
   "execution_count": 30,
   "metadata": {},
   "outputs": [],
   "source": [
    "# q.simulate_trit_mul(w, x[0], trits = 3, verbose=True)"
   ]
  },
  {
   "cell_type": "code",
   "execution_count": 31,
   "metadata": {},
   "outputs": [
    {
     "name": "stdout",
     "output_type": "stream",
     "text": [
      "[STIM_GEN] Generating random weights\n"
     ]
    },
    {
     "data": {
      "application/vnd.plotly.v1+json": {
       "config": {
        "plotlyServerURL": "https://plot.ly"
       },
       "data": [
        {
         "hovertemplate": "RTL=%{x}<br>Ideal=%{y}<extra></extra>",
         "legendgroup": "",
         "marker": {
          "color": "#636efa",
          "size": 3,
          "symbol": "circle"
         },
         "mode": "markers",
         "name": "",
         "orientation": "v",
         "showlegend": false,
         "type": "scatter",
         "x": [
          -20,
          68,
          4,
          0,
          40,
          -12,
          0,
          0,
          -44,
          84,
          -48,
          8,
          -64,
          56,
          20,
          92,
          -36,
          -8,
          32,
          -52,
          -12,
          -24,
          0,
          -16,
          40,
          48,
          40,
          64,
          -12,
          80,
          -108,
          32,
          -20,
          24,
          36,
          -44,
          0,
          56,
          60,
          48,
          -40,
          -36,
          -48,
          92,
          52,
          0,
          -8,
          32,
          56,
          40,
          20,
          -24,
          24,
          16,
          36,
          -32,
          68,
          -24,
          52,
          -44,
          16,
          36,
          28,
          -124,
          68,
          -72,
          64,
          44,
          -24,
          -28,
          -20,
          100,
          32,
          28,
          72,
          8,
          -16,
          -8,
          -16,
          28,
          72,
          -20,
          -72,
          64,
          40,
          28,
          48,
          -8,
          -48,
          88,
          -40,
          104,
          48,
          24,
          28,
          72,
          64,
          -20,
          -8,
          8,
          48,
          68,
          -8,
          -60,
          40,
          20,
          -4,
          36,
          -64,
          -44,
          56,
          16,
          -20,
          44,
          28,
          -56,
          32,
          -24,
          -32,
          -56,
          -28,
          56,
          -52,
          -4,
          92,
          -8,
          16,
          8,
          -20,
          -32,
          -60,
          -12,
          4,
          88,
          44,
          24,
          -12,
          -24,
          48,
          12,
          12,
          -100,
          60,
          40,
          4,
          -8,
          -20,
          -44,
          -8,
          32,
          48,
          12,
          -80,
          -44,
          0,
          -20,
          104,
          52,
          48,
          56,
          24,
          -4,
          -8,
          4,
          -36,
          44,
          -12,
          36,
          -104,
          -32,
          -24,
          -8,
          -4,
          64,
          16,
          -32,
          52,
          108,
          -16,
          108,
          32,
          -64,
          -20,
          20,
          44,
          -8,
          -8,
          -56,
          -48,
          32,
          12,
          -40,
          84,
          -36,
          8,
          -4,
          -24,
          -24,
          -8,
          -12,
          28,
          12,
          -24,
          -36,
          28,
          -44,
          -4,
          32,
          -20,
          64,
          -32,
          116,
          16,
          16,
          12,
          -12,
          52,
          -84,
          60,
          24,
          28,
          44,
          44,
          96,
          60,
          -88,
          -60,
          44,
          -40,
          32,
          -68,
          124,
          68,
          20,
          -4,
          44,
          44,
          -20,
          -68,
          -36,
          -104,
          -56,
          44,
          68,
          28,
          16,
          56,
          -56,
          4,
          4,
          64,
          -16,
          -4,
          44,
          -48,
          28,
          -104,
          8,
          -56,
          -40,
          68,
          -56,
          20,
          36,
          -12,
          80,
          -8,
          36,
          0,
          56,
          -44,
          40,
          -20,
          24,
          72,
          76,
          52,
          -12,
          -36,
          44,
          80,
          -68,
          -4,
          -24,
          28,
          64,
          -64,
          32,
          0,
          -40,
          40,
          4,
          -40,
          16,
          76,
          -32,
          -48,
          -28,
          92,
          -52,
          64,
          36,
          8,
          -84,
          -16,
          12,
          4,
          32,
          -16,
          16,
          124,
          -72,
          40,
          -56,
          88,
          80,
          72,
          24,
          -20,
          88
         ],
         "xaxis": "x",
         "y": [
          -38,
          54,
          -4,
          -6,
          30,
          -24,
          -8,
          -18,
          -60,
          68,
          -66,
          -2,
          -78,
          46,
          4,
          76,
          -44,
          -16,
          24,
          -58,
          -28,
          -40,
          -16,
          -22,
          22,
          36,
          22,
          58,
          -24,
          60,
          -118,
          22,
          -28,
          14,
          26,
          -50,
          -16,
          36,
          42,
          30,
          -46,
          -46,
          -64,
          72,
          42,
          -18,
          -18,
          12,
          42,
          30,
          2,
          -40,
          14,
          8,
          22,
          -50,
          60,
          -40,
          36,
          -64,
          8,
          28,
          8,
          112,
          48,
          -80,
          48,
          24,
          -40,
          -34,
          -26,
          96,
          10,
          20,
          54,
          -4,
          -24,
          -22,
          -30,
          14,
          64,
          -40,
          -86,
          44,
          28,
          20,
          42,
          -26,
          -60,
          70,
          -56,
          92,
          42,
          8,
          18,
          54,
          61,
          -29,
          -27,
          7,
          33,
          55,
          -19,
          -77,
          25,
          5,
          -11,
          31,
          -89,
          -71,
          51,
          15,
          -25,
          35,
          25,
          -65,
          31,
          -43,
          -51,
          -83,
          -43,
          41,
          -79,
          -9,
          77,
          -13,
          11,
          3,
          -28,
          -52,
          -78,
          -24,
          -8,
          76,
          28,
          4,
          -26,
          -46,
          36,
          -2,
          -6,
          -118,
          48,
          22,
          -6,
          -14,
          -38,
          -56,
          -16,
          26,
          34,
          6,
          -90,
          -54,
          -12,
          -36,
          102,
          32,
          36,
          36,
          17,
          -11,
          -21,
          -11,
          -53,
          25,
          -19,
          19,
          147,
          -37,
          -37,
          -21,
          -21,
          53,
          -3,
          -43,
          35,
          -161,
          -29,
          93,
          27,
          -79,
          -33,
          13,
          39,
          -21,
          -17,
          -65,
          -61,
          15,
          3,
          -53,
          69,
          -49,
          -9,
          -19,
          -35,
          -35,
          -17,
          -25,
          11,
          -1,
          -35,
          -51,
          19,
          -59,
          -23,
          15,
          -27,
          51,
          -37,
          115,
          -3,
          -3,
          3,
          -27,
          43,
          -91,
          53,
          17,
          17,
          37,
          33,
          83,
          47,
          -103,
          -79,
          27,
          -57,
          25,
          -83,
          113,
          45,
          5,
          -17,
          33,
          23,
          -43,
          -81,
          -51,
          -113,
          -65,
          35,
          59,
          13,
          1,
          45,
          -77,
          -15,
          -9,
          53,
          -25,
          -11,
          35,
          -69,
          13,
          142,
          4,
          -68,
          -64,
          54,
          -64,
          10,
          22,
          -28,
          74,
          -24,
          28,
          -4,
          48,
          -60,
          36,
          -24,
          18,
          58,
          72,
          40,
          -24,
          -48,
          30,
          66,
          -88,
          -20,
          -46,
          22,
          54,
          -74,
          28,
          -17,
          -53,
          21,
          -9,
          -51,
          5,
          57,
          -43,
          -55,
          -37,
          83,
          -73,
          45,
          15,
          -13,
          -97,
          -37,
          -7,
          -15,
          15,
          -33,
          3,
          105,
          -87,
          27,
          -71,
          75,
          69,
          63,
          5,
          -41,
          69
         ],
         "yaxis": "y"
        },
        {
         "alignmentgroup": "True",
         "bingroup": "x",
         "hovertemplate": "variable=0<br>value=%{x}<br>count=%{y}<extra></extra>",
         "legendgroup": "0",
         "marker": {
          "color": "#636efa",
          "pattern": {
           "shape": ""
          }
         },
         "name": "0",
         "nbinsx": 500,
         "offsetgroup": "0",
         "orientation": "v",
         "showlegend": true,
         "type": "histogram",
         "x": [
          18,
          14,
          8,
          6,
          10,
          12,
          8,
          18,
          16,
          16,
          18,
          10,
          14,
          10,
          16,
          16,
          8,
          8,
          8,
          6,
          16,
          16,
          16,
          6,
          18,
          12,
          18,
          6,
          12,
          20,
          10,
          10,
          8,
          10,
          10,
          6,
          16,
          20,
          18,
          18,
          6,
          10,
          16,
          20,
          10,
          18,
          10,
          20,
          14,
          10,
          18,
          16,
          10,
          8,
          14,
          18,
          8,
          16,
          16,
          20,
          8,
          8,
          20,
          -236,
          20,
          8,
          16,
          20,
          16,
          6,
          6,
          4,
          22,
          8,
          18,
          12,
          8,
          14,
          14,
          14,
          8,
          20,
          14,
          20,
          12,
          8,
          6,
          18,
          12,
          18,
          16,
          12,
          6,
          16,
          10,
          18,
          3,
          9,
          19,
          1,
          15,
          13,
          11,
          17,
          15,
          15,
          7,
          5,
          25,
          27,
          5,
          1,
          5,
          9,
          3,
          9,
          1,
          19,
          19,
          27,
          15,
          15,
          27,
          5,
          15,
          5,
          5,
          5,
          8,
          20,
          18,
          12,
          12,
          12,
          16,
          20,
          14,
          22,
          12,
          14,
          18,
          18,
          12,
          18,
          10,
          6,
          18,
          12,
          8,
          6,
          14,
          6,
          10,
          10,
          12,
          16,
          2,
          20,
          12,
          20,
          7,
          7,
          13,
          15,
          17,
          19,
          7,
          17,
          -251,
          5,
          13,
          13,
          17,
          11,
          19,
          11,
          17,
          269,
          13,
          15,
          5,
          15,
          13,
          7,
          5,
          13,
          9,
          9,
          13,
          17,
          9,
          13,
          15,
          13,
          17,
          15,
          11,
          11,
          9,
          13,
          17,
          13,
          11,
          15,
          9,
          15,
          19,
          17,
          7,
          13,
          5,
          1,
          19,
          19,
          9,
          15,
          9,
          7,
          7,
          7,
          11,
          7,
          11,
          13,
          13,
          15,
          19,
          17,
          17,
          7,
          15,
          11,
          23,
          15,
          13,
          11,
          21,
          23,
          13,
          15,
          9,
          9,
          9,
          9,
          15,
          15,
          11,
          21,
          19,
          13,
          11,
          9,
          7,
          9,
          21,
          15,
          -246,
          4,
          12,
          24,
          14,
          8,
          10,
          14,
          16,
          6,
          16,
          8,
          4,
          8,
          16,
          4,
          4,
          6,
          14,
          4,
          12,
          12,
          12,
          14,
          14,
          20,
          16,
          22,
          6,
          10,
          10,
          4,
          17,
          13,
          19,
          13,
          11,
          11,
          19,
          11,
          7,
          9,
          9,
          21,
          19,
          21,
          21,
          13,
          21,
          19,
          19,
          17,
          17,
          13,
          19,
          15,
          13,
          15,
          13,
          11,
          9,
          19,
          21,
          19
         ],
         "xaxis": "x2",
         "yaxis": "y2"
        }
       ],
       "layout": {
        "showlegend": false,
        "template": {
         "data": {
          "bar": [
           {
            "error_x": {
             "color": "#2a3f5f"
            },
            "error_y": {
             "color": "#2a3f5f"
            },
            "marker": {
             "line": {
              "color": "#E5ECF6",
              "width": 0.5
             },
             "pattern": {
              "fillmode": "overlay",
              "size": 10,
              "solidity": 0.2
             }
            },
            "type": "bar"
           }
          ],
          "barpolar": [
           {
            "marker": {
             "line": {
              "color": "#E5ECF6",
              "width": 0.5
             },
             "pattern": {
              "fillmode": "overlay",
              "size": 10,
              "solidity": 0.2
             }
            },
            "type": "barpolar"
           }
          ],
          "carpet": [
           {
            "aaxis": {
             "endlinecolor": "#2a3f5f",
             "gridcolor": "white",
             "linecolor": "white",
             "minorgridcolor": "white",
             "startlinecolor": "#2a3f5f"
            },
            "baxis": {
             "endlinecolor": "#2a3f5f",
             "gridcolor": "white",
             "linecolor": "white",
             "minorgridcolor": "white",
             "startlinecolor": "#2a3f5f"
            },
            "type": "carpet"
           }
          ],
          "choropleth": [
           {
            "colorbar": {
             "outlinewidth": 0,
             "ticks": ""
            },
            "type": "choropleth"
           }
          ],
          "contour": [
           {
            "colorbar": {
             "outlinewidth": 0,
             "ticks": ""
            },
            "colorscale": [
             [
              0,
              "#0d0887"
             ],
             [
              0.1111111111111111,
              "#46039f"
             ],
             [
              0.2222222222222222,
              "#7201a8"
             ],
             [
              0.3333333333333333,
              "#9c179e"
             ],
             [
              0.4444444444444444,
              "#bd3786"
             ],
             [
              0.5555555555555556,
              "#d8576b"
             ],
             [
              0.6666666666666666,
              "#ed7953"
             ],
             [
              0.7777777777777778,
              "#fb9f3a"
             ],
             [
              0.8888888888888888,
              "#fdca26"
             ],
             [
              1,
              "#f0f921"
             ]
            ],
            "type": "contour"
           }
          ],
          "contourcarpet": [
           {
            "colorbar": {
             "outlinewidth": 0,
             "ticks": ""
            },
            "type": "contourcarpet"
           }
          ],
          "heatmap": [
           {
            "colorbar": {
             "outlinewidth": 0,
             "ticks": ""
            },
            "colorscale": [
             [
              0,
              "#0d0887"
             ],
             [
              0.1111111111111111,
              "#46039f"
             ],
             [
              0.2222222222222222,
              "#7201a8"
             ],
             [
              0.3333333333333333,
              "#9c179e"
             ],
             [
              0.4444444444444444,
              "#bd3786"
             ],
             [
              0.5555555555555556,
              "#d8576b"
             ],
             [
              0.6666666666666666,
              "#ed7953"
             ],
             [
              0.7777777777777778,
              "#fb9f3a"
             ],
             [
              0.8888888888888888,
              "#fdca26"
             ],
             [
              1,
              "#f0f921"
             ]
            ],
            "type": "heatmap"
           }
          ],
          "heatmapgl": [
           {
            "colorbar": {
             "outlinewidth": 0,
             "ticks": ""
            },
            "colorscale": [
             [
              0,
              "#0d0887"
             ],
             [
              0.1111111111111111,
              "#46039f"
             ],
             [
              0.2222222222222222,
              "#7201a8"
             ],
             [
              0.3333333333333333,
              "#9c179e"
             ],
             [
              0.4444444444444444,
              "#bd3786"
             ],
             [
              0.5555555555555556,
              "#d8576b"
             ],
             [
              0.6666666666666666,
              "#ed7953"
             ],
             [
              0.7777777777777778,
              "#fb9f3a"
             ],
             [
              0.8888888888888888,
              "#fdca26"
             ],
             [
              1,
              "#f0f921"
             ]
            ],
            "type": "heatmapgl"
           }
          ],
          "histogram": [
           {
            "marker": {
             "pattern": {
              "fillmode": "overlay",
              "size": 10,
              "solidity": 0.2
             }
            },
            "type": "histogram"
           }
          ],
          "histogram2d": [
           {
            "colorbar": {
             "outlinewidth": 0,
             "ticks": ""
            },
            "colorscale": [
             [
              0,
              "#0d0887"
             ],
             [
              0.1111111111111111,
              "#46039f"
             ],
             [
              0.2222222222222222,
              "#7201a8"
             ],
             [
              0.3333333333333333,
              "#9c179e"
             ],
             [
              0.4444444444444444,
              "#bd3786"
             ],
             [
              0.5555555555555556,
              "#d8576b"
             ],
             [
              0.6666666666666666,
              "#ed7953"
             ],
             [
              0.7777777777777778,
              "#fb9f3a"
             ],
             [
              0.8888888888888888,
              "#fdca26"
             ],
             [
              1,
              "#f0f921"
             ]
            ],
            "type": "histogram2d"
           }
          ],
          "histogram2dcontour": [
           {
            "colorbar": {
             "outlinewidth": 0,
             "ticks": ""
            },
            "colorscale": [
             [
              0,
              "#0d0887"
             ],
             [
              0.1111111111111111,
              "#46039f"
             ],
             [
              0.2222222222222222,
              "#7201a8"
             ],
             [
              0.3333333333333333,
              "#9c179e"
             ],
             [
              0.4444444444444444,
              "#bd3786"
             ],
             [
              0.5555555555555556,
              "#d8576b"
             ],
             [
              0.6666666666666666,
              "#ed7953"
             ],
             [
              0.7777777777777778,
              "#fb9f3a"
             ],
             [
              0.8888888888888888,
              "#fdca26"
             ],
             [
              1,
              "#f0f921"
             ]
            ],
            "type": "histogram2dcontour"
           }
          ],
          "mesh3d": [
           {
            "colorbar": {
             "outlinewidth": 0,
             "ticks": ""
            },
            "type": "mesh3d"
           }
          ],
          "parcoords": [
           {
            "line": {
             "colorbar": {
              "outlinewidth": 0,
              "ticks": ""
             }
            },
            "type": "parcoords"
           }
          ],
          "pie": [
           {
            "automargin": true,
            "type": "pie"
           }
          ],
          "scatter": [
           {
            "fillpattern": {
             "fillmode": "overlay",
             "size": 10,
             "solidity": 0.2
            },
            "type": "scatter"
           }
          ],
          "scatter3d": [
           {
            "line": {
             "colorbar": {
              "outlinewidth": 0,
              "ticks": ""
             }
            },
            "marker": {
             "colorbar": {
              "outlinewidth": 0,
              "ticks": ""
             }
            },
            "type": "scatter3d"
           }
          ],
          "scattercarpet": [
           {
            "marker": {
             "colorbar": {
              "outlinewidth": 0,
              "ticks": ""
             }
            },
            "type": "scattercarpet"
           }
          ],
          "scattergeo": [
           {
            "marker": {
             "colorbar": {
              "outlinewidth": 0,
              "ticks": ""
             }
            },
            "type": "scattergeo"
           }
          ],
          "scattergl": [
           {
            "marker": {
             "colorbar": {
              "outlinewidth": 0,
              "ticks": ""
             }
            },
            "type": "scattergl"
           }
          ],
          "scattermapbox": [
           {
            "marker": {
             "colorbar": {
              "outlinewidth": 0,
              "ticks": ""
             }
            },
            "type": "scattermapbox"
           }
          ],
          "scatterpolar": [
           {
            "marker": {
             "colorbar": {
              "outlinewidth": 0,
              "ticks": ""
             }
            },
            "type": "scatterpolar"
           }
          ],
          "scatterpolargl": [
           {
            "marker": {
             "colorbar": {
              "outlinewidth": 0,
              "ticks": ""
             }
            },
            "type": "scatterpolargl"
           }
          ],
          "scatterternary": [
           {
            "marker": {
             "colorbar": {
              "outlinewidth": 0,
              "ticks": ""
             }
            },
            "type": "scatterternary"
           }
          ],
          "surface": [
           {
            "colorbar": {
             "outlinewidth": 0,
             "ticks": ""
            },
            "colorscale": [
             [
              0,
              "#0d0887"
             ],
             [
              0.1111111111111111,
              "#46039f"
             ],
             [
              0.2222222222222222,
              "#7201a8"
             ],
             [
              0.3333333333333333,
              "#9c179e"
             ],
             [
              0.4444444444444444,
              "#bd3786"
             ],
             [
              0.5555555555555556,
              "#d8576b"
             ],
             [
              0.6666666666666666,
              "#ed7953"
             ],
             [
              0.7777777777777778,
              "#fb9f3a"
             ],
             [
              0.8888888888888888,
              "#fdca26"
             ],
             [
              1,
              "#f0f921"
             ]
            ],
            "type": "surface"
           }
          ],
          "table": [
           {
            "cells": {
             "fill": {
              "color": "#EBF0F8"
             },
             "line": {
              "color": "white"
             }
            },
            "header": {
             "fill": {
              "color": "#C8D4E3"
             },
             "line": {
              "color": "white"
             }
            },
            "type": "table"
           }
          ]
         },
         "layout": {
          "annotationdefaults": {
           "arrowcolor": "#2a3f5f",
           "arrowhead": 0,
           "arrowwidth": 1
          },
          "autotypenumbers": "strict",
          "coloraxis": {
           "colorbar": {
            "outlinewidth": 0,
            "ticks": ""
           }
          },
          "colorscale": {
           "diverging": [
            [
             0,
             "#8e0152"
            ],
            [
             0.1,
             "#c51b7d"
            ],
            [
             0.2,
             "#de77ae"
            ],
            [
             0.3,
             "#f1b6da"
            ],
            [
             0.4,
             "#fde0ef"
            ],
            [
             0.5,
             "#f7f7f7"
            ],
            [
             0.6,
             "#e6f5d0"
            ],
            [
             0.7,
             "#b8e186"
            ],
            [
             0.8,
             "#7fbc41"
            ],
            [
             0.9,
             "#4d9221"
            ],
            [
             1,
             "#276419"
            ]
           ],
           "sequential": [
            [
             0,
             "#0d0887"
            ],
            [
             0.1111111111111111,
             "#46039f"
            ],
            [
             0.2222222222222222,
             "#7201a8"
            ],
            [
             0.3333333333333333,
             "#9c179e"
            ],
            [
             0.4444444444444444,
             "#bd3786"
            ],
            [
             0.5555555555555556,
             "#d8576b"
            ],
            [
             0.6666666666666666,
             "#ed7953"
            ],
            [
             0.7777777777777778,
             "#fb9f3a"
            ],
            [
             0.8888888888888888,
             "#fdca26"
            ],
            [
             1,
             "#f0f921"
            ]
           ],
           "sequentialminus": [
            [
             0,
             "#0d0887"
            ],
            [
             0.1111111111111111,
             "#46039f"
            ],
            [
             0.2222222222222222,
             "#7201a8"
            ],
            [
             0.3333333333333333,
             "#9c179e"
            ],
            [
             0.4444444444444444,
             "#bd3786"
            ],
            [
             0.5555555555555556,
             "#d8576b"
            ],
            [
             0.6666666666666666,
             "#ed7953"
            ],
            [
             0.7777777777777778,
             "#fb9f3a"
            ],
            [
             0.8888888888888888,
             "#fdca26"
            ],
            [
             1,
             "#f0f921"
            ]
           ]
          },
          "colorway": [
           "#636efa",
           "#EF553B",
           "#00cc96",
           "#ab63fa",
           "#FFA15A",
           "#19d3f3",
           "#FF6692",
           "#B6E880",
           "#FF97FF",
           "#FECB52"
          ],
          "font": {
           "color": "#2a3f5f"
          },
          "geo": {
           "bgcolor": "white",
           "lakecolor": "white",
           "landcolor": "#E5ECF6",
           "showlakes": true,
           "showland": true,
           "subunitcolor": "white"
          },
          "hoverlabel": {
           "align": "left"
          },
          "hovermode": "closest",
          "mapbox": {
           "style": "light"
          },
          "paper_bgcolor": "white",
          "plot_bgcolor": "#E5ECF6",
          "polar": {
           "angularaxis": {
            "gridcolor": "white",
            "linecolor": "white",
            "ticks": ""
           },
           "bgcolor": "#E5ECF6",
           "radialaxis": {
            "gridcolor": "white",
            "linecolor": "white",
            "ticks": ""
           }
          },
          "scene": {
           "xaxis": {
            "backgroundcolor": "#E5ECF6",
            "gridcolor": "white",
            "gridwidth": 2,
            "linecolor": "white",
            "showbackground": true,
            "ticks": "",
            "zerolinecolor": "white"
           },
           "yaxis": {
            "backgroundcolor": "#E5ECF6",
            "gridcolor": "white",
            "gridwidth": 2,
            "linecolor": "white",
            "showbackground": true,
            "ticks": "",
            "zerolinecolor": "white"
           },
           "zaxis": {
            "backgroundcolor": "#E5ECF6",
            "gridcolor": "white",
            "gridwidth": 2,
            "linecolor": "white",
            "showbackground": true,
            "ticks": "",
            "zerolinecolor": "white"
           }
          },
          "shapedefaults": {
           "line": {
            "color": "#2a3f5f"
           }
          },
          "ternary": {
           "aaxis": {
            "gridcolor": "white",
            "linecolor": "white",
            "ticks": ""
           },
           "baxis": {
            "gridcolor": "white",
            "linecolor": "white",
            "ticks": ""
           },
           "bgcolor": "#E5ECF6",
           "caxis": {
            "gridcolor": "white",
            "linecolor": "white",
            "ticks": ""
           }
          },
          "title": {
           "x": 0.05
          },
          "xaxis": {
           "automargin": true,
           "gridcolor": "white",
           "linecolor": "white",
           "ticks": "",
           "title": {
            "standoff": 15
           },
           "zerolinecolor": "white",
           "zerolinewidth": 2
          },
          "yaxis": {
           "automargin": true,
           "gridcolor": "white",
           "linecolor": "white",
           "ticks": "",
           "title": {
            "standoff": 15
           },
           "zerolinecolor": "white",
           "zerolinewidth": 2
          }
         }
        },
        "title": {
         "text": "Seq Acc Ideal vs AMS, RMSE=31.26, SNR=19.32dB, var_err=8.50e+02, var_yo=2.23e+03"
        },
        "xaxis": {
         "anchor": "y",
         "domain": [
          0,
          0.45
         ],
         "title": {
          "text": "AMS"
         }
        },
        "xaxis2": {
         "anchor": "y2",
         "domain": [
          0.55,
          1
         ],
         "title": {
          "text": "Error"
         }
        },
        "yaxis": {
         "anchor": "x",
         "domain": [
          0,
          1
         ],
         "title": {
          "text": "Ideal"
         }
        },
        "yaxis2": {
         "anchor": "x2",
         "domain": [
          0,
          1
         ]
        }
       }
      },
      "text/html": [
       "<div>                            <div id=\"6e06d700-2db6-42d1-9936-b5a71abdfd46\" class=\"plotly-graph-div\" style=\"height:525px; width:100%;\"></div>            <script type=\"text/javascript\">                require([\"plotly\"], function(Plotly) {                    window.PLOTLYENV=window.PLOTLYENV || {};                                    if (document.getElementById(\"6e06d700-2db6-42d1-9936-b5a71abdfd46\")) {                    Plotly.newPlot(                        \"6e06d700-2db6-42d1-9936-b5a71abdfd46\",                        [{\"hovertemplate\":\"RTL=%{x}\\u003cbr\\u003eIdeal=%{y}\\u003cextra\\u003e\\u003c\\u002fextra\\u003e\",\"legendgroup\":\"\",\"marker\":{\"color\":\"#636efa\",\"size\":3,\"symbol\":\"circle\"},\"mode\":\"markers\",\"name\":\"\",\"orientation\":\"v\",\"showlegend\":false,\"x\":[-20.0,68.0,4.0,0.0,40.0,-12.0,0.0,0.0,-44.0,84.0,-48.0,8.0,-64.0,56.0,20.0,92.0,-36.0,-8.0,32.0,-52.0,-12.0,-24.0,0.0,-16.0,40.0,48.0,40.0,64.0,-12.0,80.0,-108.0,32.0,-20.0,24.0,36.0,-44.0,0.0,56.0,60.0,48.0,-40.0,-36.0,-48.0,92.0,52.0,0.0,-8.0,32.0,56.0,40.0,20.0,-24.0,24.0,16.0,36.0,-32.0,68.0,-24.0,52.0,-44.0,16.0,36.0,28.0,-124.0,68.0,-72.0,64.0,44.0,-24.0,-28.0,-20.0,100.0,32.0,28.0,72.0,8.0,-16.0,-8.0,-16.0,28.0,72.0,-20.0,-72.0,64.0,40.0,28.0,48.0,-8.0,-48.0,88.0,-40.0,104.0,48.0,24.0,28.0,72.0,64.0,-20.0,-8.0,8.0,48.0,68.0,-8.0,-60.0,40.0,20.0,-4.0,36.0,-64.0,-44.0,56.0,16.0,-20.0,44.0,28.0,-56.0,32.0,-24.0,-32.0,-56.0,-28.0,56.0,-52.0,-4.0,92.0,-8.0,16.0,8.0,-20.0,-32.0,-60.0,-12.0,4.0,88.0,44.0,24.0,-12.0,-24.0,48.0,12.0,12.0,-100.0,60.0,40.0,4.0,-8.0,-20.0,-44.0,-8.0,32.0,48.0,12.0,-80.0,-44.0,0.0,-20.0,104.0,52.0,48.0,56.0,24.0,-4.0,-8.0,4.0,-36.0,44.0,-12.0,36.0,-104.0,-32.0,-24.0,-8.0,-4.0,64.0,16.0,-32.0,52.0,108.0,-16.0,108.0,32.0,-64.0,-20.0,20.0,44.0,-8.0,-8.0,-56.0,-48.0,32.0,12.0,-40.0,84.0,-36.0,8.0,-4.0,-24.0,-24.0,-8.0,-12.0,28.0,12.0,-24.0,-36.0,28.0,-44.0,-4.0,32.0,-20.0,64.0,-32.0,116.0,16.0,16.0,12.0,-12.0,52.0,-84.0,60.0,24.0,28.0,44.0,44.0,96.0,60.0,-88.0,-60.0,44.0,-40.0,32.0,-68.0,124.0,68.0,20.0,-4.0,44.0,44.0,-20.0,-68.0,-36.0,-104.0,-56.0,44.0,68.0,28.0,16.0,56.0,-56.0,4.0,4.0,64.0,-16.0,-4.0,44.0,-48.0,28.0,-104.0,8.0,-56.0,-40.0,68.0,-56.0,20.0,36.0,-12.0,80.0,-8.0,36.0,0.0,56.0,-44.0,40.0,-20.0,24.0,72.0,76.0,52.0,-12.0,-36.0,44.0,80.0,-68.0,-4.0,-24.0,28.0,64.0,-64.0,32.0,0.0,-40.0,40.0,4.0,-40.0,16.0,76.0,-32.0,-48.0,-28.0,92.0,-52.0,64.0,36.0,8.0,-84.0,-16.0,12.0,4.0,32.0,-16.0,16.0,124.0,-72.0,40.0,-56.0,88.0,80.0,72.0,24.0,-20.0,88.0],\"xaxis\":\"x\",\"y\":[-38,54,-4,-6,30,-24,-8,-18,-60,68,-66,-2,-78,46,4,76,-44,-16,24,-58,-28,-40,-16,-22,22,36,22,58,-24,60,-118,22,-28,14,26,-50,-16,36,42,30,-46,-46,-64,72,42,-18,-18,12,42,30,2,-40,14,8,22,-50,60,-40,36,-64,8,28,8,112,48,-80,48,24,-40,-34,-26,96,10,20,54,-4,-24,-22,-30,14,64,-40,-86,44,28,20,42,-26,-60,70,-56,92,42,8,18,54,61,-29,-27,7,33,55,-19,-77,25,5,-11,31,-89,-71,51,15,-25,35,25,-65,31,-43,-51,-83,-43,41,-79,-9,77,-13,11,3,-28,-52,-78,-24,-8,76,28,4,-26,-46,36,-2,-6,-118,48,22,-6,-14,-38,-56,-16,26,34,6,-90,-54,-12,-36,102,32,36,36,17,-11,-21,-11,-53,25,-19,19,147,-37,-37,-21,-21,53,-3,-43,35,-161,-29,93,27,-79,-33,13,39,-21,-17,-65,-61,15,3,-53,69,-49,-9,-19,-35,-35,-17,-25,11,-1,-35,-51,19,-59,-23,15,-27,51,-37,115,-3,-3,3,-27,43,-91,53,17,17,37,33,83,47,-103,-79,27,-57,25,-83,113,45,5,-17,33,23,-43,-81,-51,-113,-65,35,59,13,1,45,-77,-15,-9,53,-25,-11,35,-69,13,142,4,-68,-64,54,-64,10,22,-28,74,-24,28,-4,48,-60,36,-24,18,58,72,40,-24,-48,30,66,-88,-20,-46,22,54,-74,28,-17,-53,21,-9,-51,5,57,-43,-55,-37,83,-73,45,15,-13,-97,-37,-7,-15,15,-33,3,105,-87,27,-71,75,69,63,5,-41,69],\"yaxis\":\"y\",\"type\":\"scatter\"},{\"alignmentgroup\":\"True\",\"bingroup\":\"x\",\"hovertemplate\":\"variable=0\\u003cbr\\u003evalue=%{x}\\u003cbr\\u003ecount=%{y}\\u003cextra\\u003e\\u003c\\u002fextra\\u003e\",\"legendgroup\":\"0\",\"marker\":{\"color\":\"#636efa\",\"pattern\":{\"shape\":\"\"}},\"name\":\"0\",\"nbinsx\":500,\"offsetgroup\":\"0\",\"orientation\":\"v\",\"showlegend\":true,\"x\":[18.0,14.0,8.0,6.0,10.0,12.0,8.0,18.0,16.0,16.0,18.0,10.0,14.0,10.0,16.0,16.0,8.0,8.0,8.0,6.0,16.0,16.0,16.0,6.0,18.0,12.0,18.0,6.0,12.0,20.0,10.0,10.0,8.0,10.0,10.0,6.0,16.0,20.0,18.0,18.0,6.0,10.0,16.0,20.0,10.0,18.0,10.0,20.0,14.0,10.0,18.0,16.0,10.0,8.0,14.0,18.0,8.0,16.0,16.0,20.0,8.0,8.0,20.0,-236.0,20.0,8.0,16.0,20.0,16.0,6.0,6.0,4.0,22.0,8.0,18.0,12.0,8.0,14.0,14.0,14.0,8.0,20.0,14.0,20.0,12.0,8.0,6.0,18.0,12.0,18.0,16.0,12.0,6.0,16.0,10.0,18.0,3.0,9.0,19.0,1.0,15.0,13.0,11.0,17.0,15.0,15.0,7.0,5.0,25.0,27.0,5.0,1.0,5.0,9.0,3.0,9.0,1.0,19.0,19.0,27.0,15.0,15.0,27.0,5.0,15.0,5.0,5.0,5.0,8.0,20.0,18.0,12.0,12.0,12.0,16.0,20.0,14.0,22.0,12.0,14.0,18.0,18.0,12.0,18.0,10.0,6.0,18.0,12.0,8.0,6.0,14.0,6.0,10.0,10.0,12.0,16.0,2.0,20.0,12.0,20.0,7.0,7.0,13.0,15.0,17.0,19.0,7.0,17.0,-251.0,5.0,13.0,13.0,17.0,11.0,19.0,11.0,17.0,269.0,13.0,15.0,5.0,15.0,13.0,7.0,5.0,13.0,9.0,9.0,13.0,17.0,9.0,13.0,15.0,13.0,17.0,15.0,11.0,11.0,9.0,13.0,17.0,13.0,11.0,15.0,9.0,15.0,19.0,17.0,7.0,13.0,5.0,1.0,19.0,19.0,9.0,15.0,9.0,7.0,7.0,7.0,11.0,7.0,11.0,13.0,13.0,15.0,19.0,17.0,17.0,7.0,15.0,11.0,23.0,15.0,13.0,11.0,21.0,23.0,13.0,15.0,9.0,9.0,9.0,9.0,15.0,15.0,11.0,21.0,19.0,13.0,11.0,9.0,7.0,9.0,21.0,15.0,-246.0,4.0,12.0,24.0,14.0,8.0,10.0,14.0,16.0,6.0,16.0,8.0,4.0,8.0,16.0,4.0,4.0,6.0,14.0,4.0,12.0,12.0,12.0,14.0,14.0,20.0,16.0,22.0,6.0,10.0,10.0,4.0,17.0,13.0,19.0,13.0,11.0,11.0,19.0,11.0,7.0,9.0,9.0,21.0,19.0,21.0,21.0,13.0,21.0,19.0,19.0,17.0,17.0,13.0,19.0,15.0,13.0,15.0,13.0,11.0,9.0,19.0,21.0,19.0],\"xaxis\":\"x2\",\"yaxis\":\"y2\",\"type\":\"histogram\"}],                        {\"template\":{\"data\":{\"histogram2dcontour\":[{\"type\":\"histogram2dcontour\",\"colorbar\":{\"outlinewidth\":0,\"ticks\":\"\"},\"colorscale\":[[0.0,\"#0d0887\"],[0.1111111111111111,\"#46039f\"],[0.2222222222222222,\"#7201a8\"],[0.3333333333333333,\"#9c179e\"],[0.4444444444444444,\"#bd3786\"],[0.5555555555555556,\"#d8576b\"],[0.6666666666666666,\"#ed7953\"],[0.7777777777777778,\"#fb9f3a\"],[0.8888888888888888,\"#fdca26\"],[1.0,\"#f0f921\"]]}],\"choropleth\":[{\"type\":\"choropleth\",\"colorbar\":{\"outlinewidth\":0,\"ticks\":\"\"}}],\"histogram2d\":[{\"type\":\"histogram2d\",\"colorbar\":{\"outlinewidth\":0,\"ticks\":\"\"},\"colorscale\":[[0.0,\"#0d0887\"],[0.1111111111111111,\"#46039f\"],[0.2222222222222222,\"#7201a8\"],[0.3333333333333333,\"#9c179e\"],[0.4444444444444444,\"#bd3786\"],[0.5555555555555556,\"#d8576b\"],[0.6666666666666666,\"#ed7953\"],[0.7777777777777778,\"#fb9f3a\"],[0.8888888888888888,\"#fdca26\"],[1.0,\"#f0f921\"]]}],\"heatmap\":[{\"type\":\"heatmap\",\"colorbar\":{\"outlinewidth\":0,\"ticks\":\"\"},\"colorscale\":[[0.0,\"#0d0887\"],[0.1111111111111111,\"#46039f\"],[0.2222222222222222,\"#7201a8\"],[0.3333333333333333,\"#9c179e\"],[0.4444444444444444,\"#bd3786\"],[0.5555555555555556,\"#d8576b\"],[0.6666666666666666,\"#ed7953\"],[0.7777777777777778,\"#fb9f3a\"],[0.8888888888888888,\"#fdca26\"],[1.0,\"#f0f921\"]]}],\"heatmapgl\":[{\"type\":\"heatmapgl\",\"colorbar\":{\"outlinewidth\":0,\"ticks\":\"\"},\"colorscale\":[[0.0,\"#0d0887\"],[0.1111111111111111,\"#46039f\"],[0.2222222222222222,\"#7201a8\"],[0.3333333333333333,\"#9c179e\"],[0.4444444444444444,\"#bd3786\"],[0.5555555555555556,\"#d8576b\"],[0.6666666666666666,\"#ed7953\"],[0.7777777777777778,\"#fb9f3a\"],[0.8888888888888888,\"#fdca26\"],[1.0,\"#f0f921\"]]}],\"contourcarpet\":[{\"type\":\"contourcarpet\",\"colorbar\":{\"outlinewidth\":0,\"ticks\":\"\"}}],\"contour\":[{\"type\":\"contour\",\"colorbar\":{\"outlinewidth\":0,\"ticks\":\"\"},\"colorscale\":[[0.0,\"#0d0887\"],[0.1111111111111111,\"#46039f\"],[0.2222222222222222,\"#7201a8\"],[0.3333333333333333,\"#9c179e\"],[0.4444444444444444,\"#bd3786\"],[0.5555555555555556,\"#d8576b\"],[0.6666666666666666,\"#ed7953\"],[0.7777777777777778,\"#fb9f3a\"],[0.8888888888888888,\"#fdca26\"],[1.0,\"#f0f921\"]]}],\"surface\":[{\"type\":\"surface\",\"colorbar\":{\"outlinewidth\":0,\"ticks\":\"\"},\"colorscale\":[[0.0,\"#0d0887\"],[0.1111111111111111,\"#46039f\"],[0.2222222222222222,\"#7201a8\"],[0.3333333333333333,\"#9c179e\"],[0.4444444444444444,\"#bd3786\"],[0.5555555555555556,\"#d8576b\"],[0.6666666666666666,\"#ed7953\"],[0.7777777777777778,\"#fb9f3a\"],[0.8888888888888888,\"#fdca26\"],[1.0,\"#f0f921\"]]}],\"mesh3d\":[{\"type\":\"mesh3d\",\"colorbar\":{\"outlinewidth\":0,\"ticks\":\"\"}}],\"scatter\":[{\"fillpattern\":{\"fillmode\":\"overlay\",\"size\":10,\"solidity\":0.2},\"type\":\"scatter\"}],\"parcoords\":[{\"type\":\"parcoords\",\"line\":{\"colorbar\":{\"outlinewidth\":0,\"ticks\":\"\"}}}],\"scatterpolargl\":[{\"type\":\"scatterpolargl\",\"marker\":{\"colorbar\":{\"outlinewidth\":0,\"ticks\":\"\"}}}],\"bar\":[{\"error_x\":{\"color\":\"#2a3f5f\"},\"error_y\":{\"color\":\"#2a3f5f\"},\"marker\":{\"line\":{\"color\":\"#E5ECF6\",\"width\":0.5},\"pattern\":{\"fillmode\":\"overlay\",\"size\":10,\"solidity\":0.2}},\"type\":\"bar\"}],\"scattergeo\":[{\"type\":\"scattergeo\",\"marker\":{\"colorbar\":{\"outlinewidth\":0,\"ticks\":\"\"}}}],\"scatterpolar\":[{\"type\":\"scatterpolar\",\"marker\":{\"colorbar\":{\"outlinewidth\":0,\"ticks\":\"\"}}}],\"histogram\":[{\"marker\":{\"pattern\":{\"fillmode\":\"overlay\",\"size\":10,\"solidity\":0.2}},\"type\":\"histogram\"}],\"scattergl\":[{\"type\":\"scattergl\",\"marker\":{\"colorbar\":{\"outlinewidth\":0,\"ticks\":\"\"}}}],\"scatter3d\":[{\"type\":\"scatter3d\",\"line\":{\"colorbar\":{\"outlinewidth\":0,\"ticks\":\"\"}},\"marker\":{\"colorbar\":{\"outlinewidth\":0,\"ticks\":\"\"}}}],\"scattermapbox\":[{\"type\":\"scattermapbox\",\"marker\":{\"colorbar\":{\"outlinewidth\":0,\"ticks\":\"\"}}}],\"scatterternary\":[{\"type\":\"scatterternary\",\"marker\":{\"colorbar\":{\"outlinewidth\":0,\"ticks\":\"\"}}}],\"scattercarpet\":[{\"type\":\"scattercarpet\",\"marker\":{\"colorbar\":{\"outlinewidth\":0,\"ticks\":\"\"}}}],\"carpet\":[{\"aaxis\":{\"endlinecolor\":\"#2a3f5f\",\"gridcolor\":\"white\",\"linecolor\":\"white\",\"minorgridcolor\":\"white\",\"startlinecolor\":\"#2a3f5f\"},\"baxis\":{\"endlinecolor\":\"#2a3f5f\",\"gridcolor\":\"white\",\"linecolor\":\"white\",\"minorgridcolor\":\"white\",\"startlinecolor\":\"#2a3f5f\"},\"type\":\"carpet\"}],\"table\":[{\"cells\":{\"fill\":{\"color\":\"#EBF0F8\"},\"line\":{\"color\":\"white\"}},\"header\":{\"fill\":{\"color\":\"#C8D4E3\"},\"line\":{\"color\":\"white\"}},\"type\":\"table\"}],\"barpolar\":[{\"marker\":{\"line\":{\"color\":\"#E5ECF6\",\"width\":0.5},\"pattern\":{\"fillmode\":\"overlay\",\"size\":10,\"solidity\":0.2}},\"type\":\"barpolar\"}],\"pie\":[{\"automargin\":true,\"type\":\"pie\"}]},\"layout\":{\"autotypenumbers\":\"strict\",\"colorway\":[\"#636efa\",\"#EF553B\",\"#00cc96\",\"#ab63fa\",\"#FFA15A\",\"#19d3f3\",\"#FF6692\",\"#B6E880\",\"#FF97FF\",\"#FECB52\"],\"font\":{\"color\":\"#2a3f5f\"},\"hovermode\":\"closest\",\"hoverlabel\":{\"align\":\"left\"},\"paper_bgcolor\":\"white\",\"plot_bgcolor\":\"#E5ECF6\",\"polar\":{\"bgcolor\":\"#E5ECF6\",\"angularaxis\":{\"gridcolor\":\"white\",\"linecolor\":\"white\",\"ticks\":\"\"},\"radialaxis\":{\"gridcolor\":\"white\",\"linecolor\":\"white\",\"ticks\":\"\"}},\"ternary\":{\"bgcolor\":\"#E5ECF6\",\"aaxis\":{\"gridcolor\":\"white\",\"linecolor\":\"white\",\"ticks\":\"\"},\"baxis\":{\"gridcolor\":\"white\",\"linecolor\":\"white\",\"ticks\":\"\"},\"caxis\":{\"gridcolor\":\"white\",\"linecolor\":\"white\",\"ticks\":\"\"}},\"coloraxis\":{\"colorbar\":{\"outlinewidth\":0,\"ticks\":\"\"}},\"colorscale\":{\"sequential\":[[0.0,\"#0d0887\"],[0.1111111111111111,\"#46039f\"],[0.2222222222222222,\"#7201a8\"],[0.3333333333333333,\"#9c179e\"],[0.4444444444444444,\"#bd3786\"],[0.5555555555555556,\"#d8576b\"],[0.6666666666666666,\"#ed7953\"],[0.7777777777777778,\"#fb9f3a\"],[0.8888888888888888,\"#fdca26\"],[1.0,\"#f0f921\"]],\"sequentialminus\":[[0.0,\"#0d0887\"],[0.1111111111111111,\"#46039f\"],[0.2222222222222222,\"#7201a8\"],[0.3333333333333333,\"#9c179e\"],[0.4444444444444444,\"#bd3786\"],[0.5555555555555556,\"#d8576b\"],[0.6666666666666666,\"#ed7953\"],[0.7777777777777778,\"#fb9f3a\"],[0.8888888888888888,\"#fdca26\"],[1.0,\"#f0f921\"]],\"diverging\":[[0,\"#8e0152\"],[0.1,\"#c51b7d\"],[0.2,\"#de77ae\"],[0.3,\"#f1b6da\"],[0.4,\"#fde0ef\"],[0.5,\"#f7f7f7\"],[0.6,\"#e6f5d0\"],[0.7,\"#b8e186\"],[0.8,\"#7fbc41\"],[0.9,\"#4d9221\"],[1,\"#276419\"]]},\"xaxis\":{\"gridcolor\":\"white\",\"linecolor\":\"white\",\"ticks\":\"\",\"title\":{\"standoff\":15},\"zerolinecolor\":\"white\",\"automargin\":true,\"zerolinewidth\":2},\"yaxis\":{\"gridcolor\":\"white\",\"linecolor\":\"white\",\"ticks\":\"\",\"title\":{\"standoff\":15},\"zerolinecolor\":\"white\",\"automargin\":true,\"zerolinewidth\":2},\"scene\":{\"xaxis\":{\"backgroundcolor\":\"#E5ECF6\",\"gridcolor\":\"white\",\"linecolor\":\"white\",\"showbackground\":true,\"ticks\":\"\",\"zerolinecolor\":\"white\",\"gridwidth\":2},\"yaxis\":{\"backgroundcolor\":\"#E5ECF6\",\"gridcolor\":\"white\",\"linecolor\":\"white\",\"showbackground\":true,\"ticks\":\"\",\"zerolinecolor\":\"white\",\"gridwidth\":2},\"zaxis\":{\"backgroundcolor\":\"#E5ECF6\",\"gridcolor\":\"white\",\"linecolor\":\"white\",\"showbackground\":true,\"ticks\":\"\",\"zerolinecolor\":\"white\",\"gridwidth\":2}},\"shapedefaults\":{\"line\":{\"color\":\"#2a3f5f\"}},\"annotationdefaults\":{\"arrowcolor\":\"#2a3f5f\",\"arrowhead\":0,\"arrowwidth\":1},\"geo\":{\"bgcolor\":\"white\",\"landcolor\":\"#E5ECF6\",\"subunitcolor\":\"white\",\"showland\":true,\"showlakes\":true,\"lakecolor\":\"white\"},\"title\":{\"x\":0.05},\"mapbox\":{\"style\":\"light\"}}},\"xaxis\":{\"anchor\":\"y\",\"domain\":[0.0,0.45],\"title\":{\"text\":\"AMS\"}},\"yaxis\":{\"anchor\":\"x\",\"domain\":[0.0,1.0],\"title\":{\"text\":\"Ideal\"}},\"xaxis2\":{\"anchor\":\"y2\",\"domain\":[0.55,1.0],\"title\":{\"text\":\"Error\"}},\"yaxis2\":{\"anchor\":\"x2\",\"domain\":[0.0,1.0]},\"title\":{\"text\":\"Seq Acc Ideal vs AMS, RMSE=31.26, SNR=19.32dB, var_err=8.50e+02, var_yo=2.23e+03\"},\"showlegend\":false},                        {\"responsive\": true}                    ).then(function(){\n",
       "                            \n",
       "var gd = document.getElementById('6e06d700-2db6-42d1-9936-b5a71abdfd46');\n",
       "var x = new MutationObserver(function (mutations, observer) {{\n",
       "        var display = window.getComputedStyle(gd).display;\n",
       "        if (!display || display === 'none') {{\n",
       "            console.log([gd, 'removed!']);\n",
       "            Plotly.purge(gd);\n",
       "            observer.disconnect();\n",
       "        }}\n",
       "}});\n",
       "\n",
       "// Listen for the removal of the full notebook cells\n",
       "var notebookContainer = gd.closest('#notebook-container');\n",
       "if (notebookContainer) {{\n",
       "    x.observe(notebookContainer, {childList: true});\n",
       "}}\n",
       "\n",
       "// Listen for the clearing of the current output cell\n",
       "var outputEl = gd.closest('.output');\n",
       "if (outputEl) {{\n",
       "    x.observe(outputEl, {childList: true});\n",
       "}}\n",
       "\n",
       "                        })                };                });            </script>        </div>"
      ]
     },
     "metadata": {},
     "output_type": "display_data"
    },
    {
     "name": "stdout",
     "output_type": "stream",
     "text": [
      "SNR of ideal ADC: 25.84dB\n"
     ]
    }
   ],
   "source": [
    "w,x,wx_outBits = generate_qracc_inputs(\n",
    "    wDimX = 32, #nColumns\n",
    "    wDimY = 128, #nRows\n",
    "    xBatches = 10,\n",
    "    xTrits = 3,\n",
    "    outBits = 4,\n",
    "    seed = 0,\n",
    "    weight_mode = 'bipolar',\n",
    "    col_symmetric=False\n",
    ")\n",
    "\n",
    "# ams = np.loadtxt('../tb/seq_acc/inputs/adc_out.txt')\n",
    "ams = np.loadtxt('../tb/seq_acc/inputs/mac_out_ams.txt')\n",
    "\n",
    "wx = w @ x.T\n",
    "\n",
    "# ams.astype(int), wx[::-1].T\n",
    "\n",
    "ams_fp = ams.flatten()#/(2**8)\n",
    "wx_fp = wx[::-1].T.flatten()#/(2**8)\n",
    "\n",
    "rmse = np.sqrt(np.mean((ams_fp - wx_fp)**2))\n",
    "# SNR\n",
    "\n",
    "err = ams_fp - wx_fp\n",
    "snr = 20*np.log(np.var(ams_fp) / np.var(err))\n",
    "var_err = np.var(err)\n",
    "var_rtl = np.var(ams_fp)\n",
    "\n",
    "a = px.scatter(\n",
    "    x=ams.flatten(), \n",
    "    y=wx[::-1].T.flatten(), \n",
    "    width=400, \n",
    "    height=400, \n",
    "    title=f'Ideal vs RTL, RMSE={rmse:.2f}, SNR={snr:.2f}dB', \n",
    "    labels={'x': 'RTL', 'y': 'Ideal'}\n",
    ")\n",
    "a.update_traces(marker=dict(size=3))\n",
    "b = px.histogram(\n",
    "    err,\n",
    "    width = 400,\n",
    "    height = 400,\n",
    "    title = 'Error Histogram',\n",
    "    nbins=500\n",
    ")\n",
    "\n",
    "fig = sp.make_subplots(rows=1, cols=2)\n",
    "fig.append_trace(a[\"data\"][0], 1, 1)\n",
    "fig.append_trace(b[\"data\"][0], 1, 2)\n",
    "\n",
    "fig.update_layout(\n",
    "    title_text=f'Seq Acc Ideal vs AMS, RMSE={rmse:.2f}, SNR={snr:.2f}dB, var_err={var_err:.2e}, var_yo={var_rtl:.2e}',\n",
    "    showlegend=False\n",
    ")\n",
    "fig.update_xaxes(title_text='AMS', row=1, col=1)\n",
    "fig.update_yaxes(title_text='Ideal', row=1, col=1)\n",
    "fig.update_xaxes(title_text='Error', row=1, col=2)\n",
    "fig.show()\n",
    "\n",
    "print(f'SNR of ideal ADC: {6.02*4 + 1.76:.2f}dB')"
   ]
  },
  {
   "cell_type": "code",
   "execution_count": 32,
   "metadata": {},
   "outputs": [
    {
     "data": {
      "text/html": [
       "<div>\n",
       "<style scoped>\n",
       "    .dataframe tbody tr th:only-of-type {\n",
       "        vertical-align: middle;\n",
       "    }\n",
       "\n",
       "    .dataframe tbody tr th {\n",
       "        vertical-align: top;\n",
       "    }\n",
       "\n",
       "    .dataframe thead th {\n",
       "        text-align: right;\n",
       "    }\n",
       "</style>\n",
       "<table border=\"1\" class=\"dataframe\">\n",
       "  <thead>\n",
       "    <tr style=\"text-align: right;\">\n",
       "      <th></th>\n",
       "      <th>0</th>\n",
       "      <th>1</th>\n",
       "      <th>2</th>\n",
       "      <th>3</th>\n",
       "      <th>4</th>\n",
       "      <th>5</th>\n",
       "      <th>6</th>\n",
       "      <th>7</th>\n",
       "      <th>8</th>\n",
       "      <th>9</th>\n",
       "      <th>...</th>\n",
       "      <th>22</th>\n",
       "      <th>23</th>\n",
       "      <th>24</th>\n",
       "      <th>25</th>\n",
       "      <th>26</th>\n",
       "      <th>27</th>\n",
       "      <th>28</th>\n",
       "      <th>29</th>\n",
       "      <th>30</th>\n",
       "      <th>31</th>\n",
       "    </tr>\n",
       "  </thead>\n",
       "  <tbody>\n",
       "    <tr>\n",
       "      <th>0</th>\n",
       "      <td>-20</td>\n",
       "      <td>68</td>\n",
       "      <td>4</td>\n",
       "      <td>0</td>\n",
       "      <td>40</td>\n",
       "      <td>-12</td>\n",
       "      <td>0</td>\n",
       "      <td>0</td>\n",
       "      <td>-44</td>\n",
       "      <td>84</td>\n",
       "      <td>...</td>\n",
       "      <td>0</td>\n",
       "      <td>-16</td>\n",
       "      <td>40</td>\n",
       "      <td>48</td>\n",
       "      <td>40</td>\n",
       "      <td>64</td>\n",
       "      <td>-12</td>\n",
       "      <td>80</td>\n",
       "      <td>-108</td>\n",
       "      <td>32</td>\n",
       "    </tr>\n",
       "    <tr>\n",
       "      <th>1</th>\n",
       "      <td>-20</td>\n",
       "      <td>24</td>\n",
       "      <td>36</td>\n",
       "      <td>-44</td>\n",
       "      <td>0</td>\n",
       "      <td>56</td>\n",
       "      <td>60</td>\n",
       "      <td>48</td>\n",
       "      <td>-40</td>\n",
       "      <td>-36</td>\n",
       "      <td>...</td>\n",
       "      <td>36</td>\n",
       "      <td>-32</td>\n",
       "      <td>68</td>\n",
       "      <td>-24</td>\n",
       "      <td>52</td>\n",
       "      <td>-44</td>\n",
       "      <td>16</td>\n",
       "      <td>36</td>\n",
       "      <td>28</td>\n",
       "      <td>-124</td>\n",
       "    </tr>\n",
       "    <tr>\n",
       "      <th>2</th>\n",
       "      <td>68</td>\n",
       "      <td>-72</td>\n",
       "      <td>64</td>\n",
       "      <td>44</td>\n",
       "      <td>-24</td>\n",
       "      <td>-28</td>\n",
       "      <td>-20</td>\n",
       "      <td>100</td>\n",
       "      <td>32</td>\n",
       "      <td>28</td>\n",
       "      <td>...</td>\n",
       "      <td>48</td>\n",
       "      <td>-8</td>\n",
       "      <td>-48</td>\n",
       "      <td>88</td>\n",
       "      <td>-40</td>\n",
       "      <td>104</td>\n",
       "      <td>48</td>\n",
       "      <td>24</td>\n",
       "      <td>28</td>\n",
       "      <td>72</td>\n",
       "    </tr>\n",
       "    <tr>\n",
       "      <th>3</th>\n",
       "      <td>64</td>\n",
       "      <td>-20</td>\n",
       "      <td>-8</td>\n",
       "      <td>8</td>\n",
       "      <td>48</td>\n",
       "      <td>68</td>\n",
       "      <td>-8</td>\n",
       "      <td>-60</td>\n",
       "      <td>40</td>\n",
       "      <td>20</td>\n",
       "      <td>...</td>\n",
       "      <td>-32</td>\n",
       "      <td>-56</td>\n",
       "      <td>-28</td>\n",
       "      <td>56</td>\n",
       "      <td>-52</td>\n",
       "      <td>-4</td>\n",
       "      <td>92</td>\n",
       "      <td>-8</td>\n",
       "      <td>16</td>\n",
       "      <td>8</td>\n",
       "    </tr>\n",
       "    <tr>\n",
       "      <th>4</th>\n",
       "      <td>-20</td>\n",
       "      <td>-32</td>\n",
       "      <td>-60</td>\n",
       "      <td>-12</td>\n",
       "      <td>4</td>\n",
       "      <td>88</td>\n",
       "      <td>44</td>\n",
       "      <td>24</td>\n",
       "      <td>-12</td>\n",
       "      <td>-24</td>\n",
       "      <td>...</td>\n",
       "      <td>48</td>\n",
       "      <td>12</td>\n",
       "      <td>-80</td>\n",
       "      <td>-44</td>\n",
       "      <td>0</td>\n",
       "      <td>-20</td>\n",
       "      <td>104</td>\n",
       "      <td>52</td>\n",
       "      <td>48</td>\n",
       "      <td>56</td>\n",
       "    </tr>\n",
       "    <tr>\n",
       "      <th>5</th>\n",
       "      <td>24</td>\n",
       "      <td>-4</td>\n",
       "      <td>-8</td>\n",
       "      <td>4</td>\n",
       "      <td>-36</td>\n",
       "      <td>44</td>\n",
       "      <td>-12</td>\n",
       "      <td>36</td>\n",
       "      <td>-104</td>\n",
       "      <td>-32</td>\n",
       "      <td>...</td>\n",
       "      <td>-20</td>\n",
       "      <td>20</td>\n",
       "      <td>44</td>\n",
       "      <td>-8</td>\n",
       "      <td>-8</td>\n",
       "      <td>-56</td>\n",
       "      <td>-48</td>\n",
       "      <td>32</td>\n",
       "      <td>12</td>\n",
       "      <td>-40</td>\n",
       "    </tr>\n",
       "    <tr>\n",
       "      <th>6</th>\n",
       "      <td>84</td>\n",
       "      <td>-36</td>\n",
       "      <td>8</td>\n",
       "      <td>-4</td>\n",
       "      <td>-24</td>\n",
       "      <td>-24</td>\n",
       "      <td>-8</td>\n",
       "      <td>-12</td>\n",
       "      <td>28</td>\n",
       "      <td>12</td>\n",
       "      <td>...</td>\n",
       "      <td>12</td>\n",
       "      <td>-12</td>\n",
       "      <td>52</td>\n",
       "      <td>-84</td>\n",
       "      <td>60</td>\n",
       "      <td>24</td>\n",
       "      <td>28</td>\n",
       "      <td>44</td>\n",
       "      <td>44</td>\n",
       "      <td>96</td>\n",
       "    </tr>\n",
       "    <tr>\n",
       "      <th>7</th>\n",
       "      <td>60</td>\n",
       "      <td>-88</td>\n",
       "      <td>-60</td>\n",
       "      <td>44</td>\n",
       "      <td>-40</td>\n",
       "      <td>32</td>\n",
       "      <td>-68</td>\n",
       "      <td>124</td>\n",
       "      <td>68</td>\n",
       "      <td>20</td>\n",
       "      <td>...</td>\n",
       "      <td>56</td>\n",
       "      <td>-56</td>\n",
       "      <td>4</td>\n",
       "      <td>4</td>\n",
       "      <td>64</td>\n",
       "      <td>-16</td>\n",
       "      <td>-4</td>\n",
       "      <td>44</td>\n",
       "      <td>-48</td>\n",
       "      <td>28</td>\n",
       "    </tr>\n",
       "    <tr>\n",
       "      <th>8</th>\n",
       "      <td>-104</td>\n",
       "      <td>8</td>\n",
       "      <td>-56</td>\n",
       "      <td>-40</td>\n",
       "      <td>68</td>\n",
       "      <td>-56</td>\n",
       "      <td>20</td>\n",
       "      <td>36</td>\n",
       "      <td>-12</td>\n",
       "      <td>80</td>\n",
       "      <td>...</td>\n",
       "      <td>-36</td>\n",
       "      <td>44</td>\n",
       "      <td>80</td>\n",
       "      <td>-68</td>\n",
       "      <td>-4</td>\n",
       "      <td>-24</td>\n",
       "      <td>28</td>\n",
       "      <td>64</td>\n",
       "      <td>-64</td>\n",
       "      <td>32</td>\n",
       "    </tr>\n",
       "    <tr>\n",
       "      <th>9</th>\n",
       "      <td>0</td>\n",
       "      <td>-40</td>\n",
       "      <td>40</td>\n",
       "      <td>4</td>\n",
       "      <td>-40</td>\n",
       "      <td>16</td>\n",
       "      <td>76</td>\n",
       "      <td>-32</td>\n",
       "      <td>-48</td>\n",
       "      <td>-28</td>\n",
       "      <td>...</td>\n",
       "      <td>124</td>\n",
       "      <td>-72</td>\n",
       "      <td>40</td>\n",
       "      <td>-56</td>\n",
       "      <td>88</td>\n",
       "      <td>80</td>\n",
       "      <td>72</td>\n",
       "      <td>24</td>\n",
       "      <td>-20</td>\n",
       "      <td>88</td>\n",
       "    </tr>\n",
       "  </tbody>\n",
       "</table>\n",
       "<p>10 rows × 32 columns</p>\n",
       "</div>"
      ],
      "text/plain": [
       "    0   1   2   3   4   5   6    7    8   9   ...   22  23  24  25  26   27  \\\n",
       "0  -20  68   4   0  40 -12   0    0  -44  84  ...    0 -16  40  48  40   64   \n",
       "1  -20  24  36 -44   0  56  60   48  -40 -36  ...   36 -32  68 -24  52  -44   \n",
       "2   68 -72  64  44 -24 -28 -20  100   32  28  ...   48  -8 -48  88 -40  104   \n",
       "3   64 -20  -8   8  48  68  -8  -60   40  20  ...  -32 -56 -28  56 -52   -4   \n",
       "4  -20 -32 -60 -12   4  88  44   24  -12 -24  ...   48  12 -80 -44   0  -20   \n",
       "5   24  -4  -8   4 -36  44 -12   36 -104 -32  ...  -20  20  44  -8  -8  -56   \n",
       "6   84 -36   8  -4 -24 -24  -8  -12   28  12  ...   12 -12  52 -84  60   24   \n",
       "7   60 -88 -60  44 -40  32 -68  124   68  20  ...   56 -56   4   4  64  -16   \n",
       "8 -104   8 -56 -40  68 -56  20   36  -12  80  ...  -36  44  80 -68  -4  -24   \n",
       "9    0 -40  40   4 -40  16  76  -32  -48 -28  ...  124 -72  40 -56  88   80   \n",
       "\n",
       "    28  29   30   31  \n",
       "0  -12  80 -108   32  \n",
       "1   16  36   28 -124  \n",
       "2   48  24   28   72  \n",
       "3   92  -8   16    8  \n",
       "4  104  52   48   56  \n",
       "5  -48  32   12  -40  \n",
       "6   28  44   44   96  \n",
       "7   -4  44  -48   28  \n",
       "8   28  64  -64   32  \n",
       "9   72  24  -20   88  \n",
       "\n",
       "[10 rows x 32 columns]"
      ]
     },
     "execution_count": 32,
     "metadata": {},
     "output_type": "execute_result"
    }
   ],
   "source": [
    "df(ams.astype(int))"
   ]
  },
  {
   "cell_type": "code",
   "execution_count": 33,
   "metadata": {},
   "outputs": [
    {
     "data": {
      "text/html": [
       "<div>\n",
       "<style scoped>\n",
       "    .dataframe tbody tr th:only-of-type {\n",
       "        vertical-align: middle;\n",
       "    }\n",
       "\n",
       "    .dataframe tbody tr th {\n",
       "        vertical-align: top;\n",
       "    }\n",
       "\n",
       "    .dataframe thead th {\n",
       "        text-align: right;\n",
       "    }\n",
       "</style>\n",
       "<table border=\"1\" class=\"dataframe\">\n",
       "  <thead>\n",
       "    <tr style=\"text-align: right;\">\n",
       "      <th></th>\n",
       "      <th>0</th>\n",
       "      <th>1</th>\n",
       "      <th>2</th>\n",
       "      <th>3</th>\n",
       "      <th>4</th>\n",
       "      <th>5</th>\n",
       "      <th>6</th>\n",
       "      <th>7</th>\n",
       "      <th>8</th>\n",
       "      <th>9</th>\n",
       "      <th>...</th>\n",
       "      <th>22</th>\n",
       "      <th>23</th>\n",
       "      <th>24</th>\n",
       "      <th>25</th>\n",
       "      <th>26</th>\n",
       "      <th>27</th>\n",
       "      <th>28</th>\n",
       "      <th>29</th>\n",
       "      <th>30</th>\n",
       "      <th>31</th>\n",
       "    </tr>\n",
       "  </thead>\n",
       "  <tbody>\n",
       "    <tr>\n",
       "      <th>0</th>\n",
       "      <td>-38</td>\n",
       "      <td>54</td>\n",
       "      <td>-4</td>\n",
       "      <td>-6</td>\n",
       "      <td>30</td>\n",
       "      <td>-24</td>\n",
       "      <td>-8</td>\n",
       "      <td>-18</td>\n",
       "      <td>-60</td>\n",
       "      <td>68</td>\n",
       "      <td>...</td>\n",
       "      <td>-16</td>\n",
       "      <td>-22</td>\n",
       "      <td>22</td>\n",
       "      <td>36</td>\n",
       "      <td>22</td>\n",
       "      <td>58</td>\n",
       "      <td>-24</td>\n",
       "      <td>60</td>\n",
       "      <td>-118</td>\n",
       "      <td>22</td>\n",
       "    </tr>\n",
       "    <tr>\n",
       "      <th>1</th>\n",
       "      <td>-28</td>\n",
       "      <td>14</td>\n",
       "      <td>26</td>\n",
       "      <td>-50</td>\n",
       "      <td>-16</td>\n",
       "      <td>36</td>\n",
       "      <td>42</td>\n",
       "      <td>30</td>\n",
       "      <td>-46</td>\n",
       "      <td>-46</td>\n",
       "      <td>...</td>\n",
       "      <td>22</td>\n",
       "      <td>-50</td>\n",
       "      <td>60</td>\n",
       "      <td>-40</td>\n",
       "      <td>36</td>\n",
       "      <td>-64</td>\n",
       "      <td>8</td>\n",
       "      <td>28</td>\n",
       "      <td>8</td>\n",
       "      <td>112</td>\n",
       "    </tr>\n",
       "    <tr>\n",
       "      <th>2</th>\n",
       "      <td>48</td>\n",
       "      <td>-80</td>\n",
       "      <td>48</td>\n",
       "      <td>24</td>\n",
       "      <td>-40</td>\n",
       "      <td>-34</td>\n",
       "      <td>-26</td>\n",
       "      <td>96</td>\n",
       "      <td>10</td>\n",
       "      <td>20</td>\n",
       "      <td>...</td>\n",
       "      <td>42</td>\n",
       "      <td>-26</td>\n",
       "      <td>-60</td>\n",
       "      <td>70</td>\n",
       "      <td>-56</td>\n",
       "      <td>92</td>\n",
       "      <td>42</td>\n",
       "      <td>8</td>\n",
       "      <td>18</td>\n",
       "      <td>54</td>\n",
       "    </tr>\n",
       "    <tr>\n",
       "      <th>3</th>\n",
       "      <td>61</td>\n",
       "      <td>-29</td>\n",
       "      <td>-27</td>\n",
       "      <td>7</td>\n",
       "      <td>33</td>\n",
       "      <td>55</td>\n",
       "      <td>-19</td>\n",
       "      <td>-77</td>\n",
       "      <td>25</td>\n",
       "      <td>5</td>\n",
       "      <td>...</td>\n",
       "      <td>-51</td>\n",
       "      <td>-83</td>\n",
       "      <td>-43</td>\n",
       "      <td>41</td>\n",
       "      <td>-79</td>\n",
       "      <td>-9</td>\n",
       "      <td>77</td>\n",
       "      <td>-13</td>\n",
       "      <td>11</td>\n",
       "      <td>3</td>\n",
       "    </tr>\n",
       "    <tr>\n",
       "      <th>4</th>\n",
       "      <td>-28</td>\n",
       "      <td>-52</td>\n",
       "      <td>-78</td>\n",
       "      <td>-24</td>\n",
       "      <td>-8</td>\n",
       "      <td>76</td>\n",
       "      <td>28</td>\n",
       "      <td>4</td>\n",
       "      <td>-26</td>\n",
       "      <td>-46</td>\n",
       "      <td>...</td>\n",
       "      <td>34</td>\n",
       "      <td>6</td>\n",
       "      <td>-90</td>\n",
       "      <td>-54</td>\n",
       "      <td>-12</td>\n",
       "      <td>-36</td>\n",
       "      <td>102</td>\n",
       "      <td>32</td>\n",
       "      <td>36</td>\n",
       "      <td>36</td>\n",
       "    </tr>\n",
       "    <tr>\n",
       "      <th>5</th>\n",
       "      <td>17</td>\n",
       "      <td>-11</td>\n",
       "      <td>-21</td>\n",
       "      <td>-11</td>\n",
       "      <td>-53</td>\n",
       "      <td>25</td>\n",
       "      <td>-19</td>\n",
       "      <td>19</td>\n",
       "      <td>147</td>\n",
       "      <td>-37</td>\n",
       "      <td>...</td>\n",
       "      <td>-33</td>\n",
       "      <td>13</td>\n",
       "      <td>39</td>\n",
       "      <td>-21</td>\n",
       "      <td>-17</td>\n",
       "      <td>-65</td>\n",
       "      <td>-61</td>\n",
       "      <td>15</td>\n",
       "      <td>3</td>\n",
       "      <td>-53</td>\n",
       "    </tr>\n",
       "    <tr>\n",
       "      <th>6</th>\n",
       "      <td>69</td>\n",
       "      <td>-49</td>\n",
       "      <td>-9</td>\n",
       "      <td>-19</td>\n",
       "      <td>-35</td>\n",
       "      <td>-35</td>\n",
       "      <td>-17</td>\n",
       "      <td>-25</td>\n",
       "      <td>11</td>\n",
       "      <td>-1</td>\n",
       "      <td>...</td>\n",
       "      <td>3</td>\n",
       "      <td>-27</td>\n",
       "      <td>43</td>\n",
       "      <td>-91</td>\n",
       "      <td>53</td>\n",
       "      <td>17</td>\n",
       "      <td>17</td>\n",
       "      <td>37</td>\n",
       "      <td>33</td>\n",
       "      <td>83</td>\n",
       "    </tr>\n",
       "    <tr>\n",
       "      <th>7</th>\n",
       "      <td>47</td>\n",
       "      <td>-103</td>\n",
       "      <td>-79</td>\n",
       "      <td>27</td>\n",
       "      <td>-57</td>\n",
       "      <td>25</td>\n",
       "      <td>-83</td>\n",
       "      <td>113</td>\n",
       "      <td>45</td>\n",
       "      <td>5</td>\n",
       "      <td>...</td>\n",
       "      <td>45</td>\n",
       "      <td>-77</td>\n",
       "      <td>-15</td>\n",
       "      <td>-9</td>\n",
       "      <td>53</td>\n",
       "      <td>-25</td>\n",
       "      <td>-11</td>\n",
       "      <td>35</td>\n",
       "      <td>-69</td>\n",
       "      <td>13</td>\n",
       "    </tr>\n",
       "    <tr>\n",
       "      <th>8</th>\n",
       "      <td>142</td>\n",
       "      <td>4</td>\n",
       "      <td>-68</td>\n",
       "      <td>-64</td>\n",
       "      <td>54</td>\n",
       "      <td>-64</td>\n",
       "      <td>10</td>\n",
       "      <td>22</td>\n",
       "      <td>-28</td>\n",
       "      <td>74</td>\n",
       "      <td>...</td>\n",
       "      <td>-48</td>\n",
       "      <td>30</td>\n",
       "      <td>66</td>\n",
       "      <td>-88</td>\n",
       "      <td>-20</td>\n",
       "      <td>-46</td>\n",
       "      <td>22</td>\n",
       "      <td>54</td>\n",
       "      <td>-74</td>\n",
       "      <td>28</td>\n",
       "    </tr>\n",
       "    <tr>\n",
       "      <th>9</th>\n",
       "      <td>-17</td>\n",
       "      <td>-53</td>\n",
       "      <td>21</td>\n",
       "      <td>-9</td>\n",
       "      <td>-51</td>\n",
       "      <td>5</td>\n",
       "      <td>57</td>\n",
       "      <td>-43</td>\n",
       "      <td>-55</td>\n",
       "      <td>-37</td>\n",
       "      <td>...</td>\n",
       "      <td>105</td>\n",
       "      <td>-87</td>\n",
       "      <td>27</td>\n",
       "      <td>-71</td>\n",
       "      <td>75</td>\n",
       "      <td>69</td>\n",
       "      <td>63</td>\n",
       "      <td>5</td>\n",
       "      <td>-41</td>\n",
       "      <td>69</td>\n",
       "    </tr>\n",
       "  </tbody>\n",
       "</table>\n",
       "<p>10 rows × 32 columns</p>\n",
       "</div>"
      ],
      "text/plain": [
       "    0    1   2   3   4   5   6    7    8   9   ...   22  23  24  25  26  27  \\\n",
       "0  -38   54  -4  -6  30 -24  -8  -18  -60  68  ...  -16 -22  22  36  22  58   \n",
       "1  -28   14  26 -50 -16  36  42   30  -46 -46  ...   22 -50  60 -40  36 -64   \n",
       "2   48  -80  48  24 -40 -34 -26   96   10  20  ...   42 -26 -60  70 -56  92   \n",
       "3   61  -29 -27   7  33  55 -19  -77   25   5  ...  -51 -83 -43  41 -79  -9   \n",
       "4  -28  -52 -78 -24  -8  76  28    4  -26 -46  ...   34   6 -90 -54 -12 -36   \n",
       "5   17  -11 -21 -11 -53  25 -19   19  147 -37  ...  -33  13  39 -21 -17 -65   \n",
       "6   69  -49  -9 -19 -35 -35 -17  -25   11  -1  ...    3 -27  43 -91  53  17   \n",
       "7   47 -103 -79  27 -57  25 -83  113   45   5  ...   45 -77 -15  -9  53 -25   \n",
       "8  142    4 -68 -64  54 -64  10   22  -28  74  ...  -48  30  66 -88 -20 -46   \n",
       "9  -17  -53  21  -9 -51   5  57  -43  -55 -37  ...  105 -87  27 -71  75  69   \n",
       "\n",
       "    28  29   30   31  \n",
       "0  -24  60 -118   22  \n",
       "1    8  28    8  112  \n",
       "2   42   8   18   54  \n",
       "3   77 -13   11    3  \n",
       "4  102  32   36   36  \n",
       "5  -61  15    3  -53  \n",
       "6   17  37   33   83  \n",
       "7  -11  35  -69   13  \n",
       "8   22  54  -74   28  \n",
       "9   63   5  -41   69  \n",
       "\n",
       "[10 rows x 32 columns]"
      ]
     },
     "execution_count": 33,
     "metadata": {},
     "output_type": "execute_result"
    }
   ],
   "source": [
    "df(wx[::-1].T)"
   ]
  }
 ],
 "metadata": {
  "kernelspec": {
   "display_name": "ic_dec",
   "language": "python",
   "name": "python3"
  },
  "language_info": {
   "codemirror_mode": {
    "name": "ipython",
    "version": 3
   },
   "file_extension": ".py",
   "mimetype": "text/x-python",
   "name": "python",
   "nbconvert_exporter": "python",
   "pygments_lexer": "ipython3",
   "version": "3.12.2"
  }
 },
 "nbformat": 4,
 "nbformat_minor": 2
}
