{
 "cells": [
  {
   "cell_type": "markdown",
   "metadata": {},
   "source": [
    "# Results Notebook"
   ]
  },
  {
   "cell_type": "code",
   "execution_count": 279,
   "metadata": {},
   "outputs": [
    {
     "name": "stdout",
     "output_type": "stream",
     "text": [
      "The autoreload extension is already loaded. To reload it, use:\n",
      "  %reload_ext autoreload\n"
     ]
    }
   ],
   "source": [
    "%load_ext autoreload\n",
    "%autoreload 2\n",
    "\n",
    "import hwacctools.quantization.quant as q\n",
    "from stim_lib.stimulus_gen import generate_qracc_inputs\n",
    "import numpy as np\n",
    "import plotly.express as px\n",
    "import seaborn as sns\n",
    "import pandas as pd\n",
    "df = pd.DataFrame\n",
    "sns.set_theme()\n",
    "\n",
    "def melt_row_col_data(arr,name):\n",
    "    arr_df = df(arr)\n",
    "    arr_df = arr_df.melt(\n",
    "        ignore_index=False,\n",
    "        var_name='Column',\n",
    "        value_name='ADC_OUT_AMS',\n",
    "    )\n",
    "    arr_df['Row'] = arr_df.index\n",
    "    return arr_df"
   ]
  },
  {
   "cell_type": "code",
   "execution_count": 280,
   "metadata": {},
   "outputs": [
    {
     "name": "stdout",
     "output_type": "stream",
     "text": [
      "[STIM_GEN] Generating random weights\n"
     ]
    }
   ],
   "source": [
    "# Generate the reference result\n",
    "\n",
    "w,x,wx_outBits = generate_qracc_inputs(\n",
    "    wDimX = 32, #nColumns\n",
    "    wDimY = 128, #nRows\n",
    "    xBatches = 10,\n",
    "    xTrits = 1,\n",
    "    outBits = 4,\n",
    "    seed = 0,\n",
    "    weight_mode = 'bipolar',\n",
    "    col_symmetric=False\n",
    ")\n",
    "wx = w @ x.T\n",
    "wx_rounded = np.round(wx.T / 2**2).astype(int).T[::-1].T"
   ]
  },
  {
   "cell_type": "markdown",
   "metadata": {},
   "source": [
    "### Comparing AMS vs RTL simulations of QRAcc"
   ]
  },
  {
   "cell_type": "code",
   "execution_count": 281,
   "metadata": {},
   "outputs": [
    {
     "name": "stderr",
     "output_type": "stream",
     "text": [
      "/tmp/ipykernel_256777/2330861704.py:29: RuntimeWarning:\n",
      "\n",
      "divide by zero encountered in scalar divide\n",
      "\n"
     ]
    },
    {
     "data": {
      "application/vnd.plotly.v1+json": {
       "config": {
        "plotlyServerURL": "https://plot.ly"
       },
       "data": [
        {
         "hovertemplate": "RTL=%{x}<br>AMS=%{y}<extra></extra>",
         "legendgroup": "",
         "marker": {
          "color": "#636efa",
          "symbol": "circle"
         },
         "mode": "markers",
         "name": "",
         "orientation": "v",
         "showlegend": false,
         "type": "scatter",
         "x": [
          7,
          0,
          -1,
          -2,
          0,
          -1,
          1,
          7,
          0,
          -8,
          -8,
          7,
          -8,
          -1,
          0,
          1,
          -8,
          0,
          7,
          -1,
          7,
          7,
          -2,
          -8,
          -8,
          1,
          7,
          -2,
          1,
          -8,
          1,
          -1,
          -8,
          7,
          1,
          -8,
          0,
          1,
          1,
          -1,
          0,
          -2,
          -2,
          0,
          -8,
          7,
          7,
          -2,
          -2,
          0,
          0,
          -1,
          -1,
          0,
          1,
          1,
          -8,
          -1,
          0,
          0,
          -1,
          -8,
          1,
          -8,
          1,
          7,
          0,
          -1,
          1,
          1,
          -1,
          7,
          1,
          7,
          7,
          -2,
          1,
          -2,
          -8,
          7,
          7,
          -2,
          -1,
          0,
          1,
          7,
          1,
          7,
          7,
          0,
          1,
          -2,
          -8,
          0,
          0,
          -1,
          -2,
          -2,
          7,
          1,
          -8,
          -1,
          7,
          0,
          -8,
          1,
          1,
          -1,
          -2,
          7,
          7,
          0,
          -1,
          -1,
          7,
          0,
          -8,
          -2,
          0,
          0,
          -1,
          1,
          -8,
          0,
          7,
          -8,
          -8,
          7,
          -2,
          -8,
          0,
          -1,
          -8,
          7,
          -8,
          -1,
          -1,
          -8,
          7,
          -8,
          7,
          0,
          7,
          -8,
          -1,
          7,
          0,
          -1,
          7,
          0,
          7,
          -1,
          0,
          1,
          1,
          -1,
          -2,
          0,
          7,
          7,
          0,
          -8,
          -1,
          0,
          1,
          1,
          7,
          7,
          7,
          0,
          7,
          -2,
          0,
          -1,
          1,
          -1,
          0,
          -8,
          7,
          -2,
          7,
          7,
          0,
          1,
          0,
          -2,
          -2,
          -2,
          1,
          7,
          7,
          -1,
          1,
          7,
          7,
          -1,
          -2,
          1,
          -8,
          1,
          0,
          -1,
          -8,
          0,
          7,
          0,
          0,
          -8,
          -8,
          7,
          1,
          -8,
          -2,
          0,
          0,
          -1,
          -2,
          -1,
          7,
          -1,
          -1,
          -8,
          -2,
          -2,
          7,
          0,
          1,
          -8,
          -2,
          7,
          -2,
          -2,
          -8,
          0,
          7,
          0,
          0,
          0,
          -2,
          -1,
          -1,
          -2,
          0,
          -1,
          -1,
          -1,
          -2,
          7,
          7,
          7,
          1,
          -1,
          -1,
          -8,
          1,
          1,
          7,
          0,
          1,
          -1,
          7,
          1,
          7,
          -1,
          7,
          7,
          7,
          -8,
          1,
          1,
          -2,
          -2,
          0,
          -1,
          0,
          -8,
          0,
          1,
          0,
          0,
          0,
          0,
          0,
          0,
          -1,
          -1,
          -2,
          7,
          0,
          -8,
          -2,
          -8,
          7,
          -1,
          7,
          -2,
          -2,
          0,
          0,
          1,
          7,
          -1,
          7,
          -8,
          -1,
          -1,
          7,
          -8,
          -1,
          7,
          1,
          -1,
          7,
          0,
          -2,
          -1,
          -1,
          -8,
          -8,
          7
         ],
         "xaxis": "x",
         "y": [
          7,
          0,
          -1,
          -2,
          0,
          -1,
          1,
          7,
          0,
          -8,
          -8,
          7,
          -8,
          -1,
          0,
          1,
          -8,
          0,
          7,
          -1,
          7,
          7,
          -2,
          -8,
          -8,
          1,
          7,
          -2,
          1,
          -8,
          1,
          -1,
          -8,
          7,
          1,
          -8,
          0,
          1,
          1,
          -1,
          0,
          -2,
          -2,
          0,
          -8,
          7,
          7,
          -2,
          -2,
          0,
          0,
          -1,
          -1,
          0,
          1,
          1,
          -8,
          -1,
          0,
          0,
          -1,
          -8,
          1,
          -8,
          1,
          7,
          0,
          -1,
          1,
          1,
          -1,
          7,
          1,
          7,
          7,
          -2,
          1,
          -2,
          -8,
          7,
          7,
          -2,
          -1,
          0,
          1,
          7,
          1,
          7,
          7,
          0,
          1,
          -2,
          -8,
          0,
          0,
          -1,
          -2,
          -2,
          7,
          1,
          -8,
          -1,
          7,
          0,
          -8,
          1,
          1,
          -1,
          -2,
          7,
          7,
          0,
          -1,
          -1,
          7,
          0,
          -8,
          -2,
          0,
          0,
          -1,
          1,
          -8,
          0,
          7,
          -8,
          -8,
          7,
          -2,
          -8,
          0,
          -1,
          -8,
          7,
          -8,
          -1,
          -1,
          -8,
          7,
          -8,
          7,
          0,
          7,
          -8,
          -1,
          7,
          0,
          -1,
          7,
          0,
          7,
          -1,
          0,
          1,
          1,
          -1,
          -2,
          0,
          7,
          7,
          0,
          -8,
          -1,
          0,
          1,
          1,
          7,
          7,
          7,
          0,
          7,
          -2,
          0,
          -1,
          1,
          -1,
          0,
          -8,
          7,
          -2,
          7,
          7,
          0,
          1,
          0,
          -2,
          -2,
          -2,
          1,
          7,
          7,
          -1,
          1,
          7,
          7,
          -1,
          -2,
          1,
          -8,
          1,
          0,
          -1,
          -8,
          0,
          7,
          0,
          0,
          -8,
          -8,
          7,
          1,
          -8,
          -2,
          0,
          0,
          -1,
          -2,
          -1,
          7,
          -1,
          -1,
          -8,
          -2,
          -2,
          7,
          0,
          1,
          -8,
          -2,
          7,
          -2,
          -2,
          -8,
          0,
          7,
          0,
          0,
          0,
          -2,
          -1,
          -1,
          -2,
          0,
          -1,
          -1,
          -1,
          -2,
          7,
          7,
          7,
          1,
          -1,
          -1,
          -8,
          1,
          1,
          7,
          0,
          1,
          -1,
          7,
          1,
          7,
          -1,
          7,
          7,
          7,
          -8,
          1,
          1,
          -2,
          -2,
          0,
          -1,
          0,
          -8,
          0,
          1,
          0,
          0,
          0,
          0,
          0,
          0,
          -1,
          -1,
          -2,
          7,
          0,
          -8,
          -2,
          -8,
          7,
          -1,
          7,
          -2,
          -2,
          0,
          0,
          1,
          7,
          -1,
          7,
          -8,
          -1,
          -1,
          7,
          -8,
          -1,
          7,
          1,
          -1,
          7,
          0,
          -2,
          -1,
          -1,
          -8,
          -8,
          7
         ],
         "yaxis": "y"
        }
       ],
       "layout": {
        "height": 400,
        "legend": {
         "tracegroupgap": 0
        },
        "template": {
         "data": {
          "bar": [
           {
            "error_x": {
             "color": "#2a3f5f"
            },
            "error_y": {
             "color": "#2a3f5f"
            },
            "marker": {
             "line": {
              "color": "#E5ECF6",
              "width": 0.5
             },
             "pattern": {
              "fillmode": "overlay",
              "size": 10,
              "solidity": 0.2
             }
            },
            "type": "bar"
           }
          ],
          "barpolar": [
           {
            "marker": {
             "line": {
              "color": "#E5ECF6",
              "width": 0.5
             },
             "pattern": {
              "fillmode": "overlay",
              "size": 10,
              "solidity": 0.2
             }
            },
            "type": "barpolar"
           }
          ],
          "carpet": [
           {
            "aaxis": {
             "endlinecolor": "#2a3f5f",
             "gridcolor": "white",
             "linecolor": "white",
             "minorgridcolor": "white",
             "startlinecolor": "#2a3f5f"
            },
            "baxis": {
             "endlinecolor": "#2a3f5f",
             "gridcolor": "white",
             "linecolor": "white",
             "minorgridcolor": "white",
             "startlinecolor": "#2a3f5f"
            },
            "type": "carpet"
           }
          ],
          "choropleth": [
           {
            "colorbar": {
             "outlinewidth": 0,
             "ticks": ""
            },
            "type": "choropleth"
           }
          ],
          "contour": [
           {
            "colorbar": {
             "outlinewidth": 0,
             "ticks": ""
            },
            "colorscale": [
             [
              0,
              "#0d0887"
             ],
             [
              0.1111111111111111,
              "#46039f"
             ],
             [
              0.2222222222222222,
              "#7201a8"
             ],
             [
              0.3333333333333333,
              "#9c179e"
             ],
             [
              0.4444444444444444,
              "#bd3786"
             ],
             [
              0.5555555555555556,
              "#d8576b"
             ],
             [
              0.6666666666666666,
              "#ed7953"
             ],
             [
              0.7777777777777778,
              "#fb9f3a"
             ],
             [
              0.8888888888888888,
              "#fdca26"
             ],
             [
              1,
              "#f0f921"
             ]
            ],
            "type": "contour"
           }
          ],
          "contourcarpet": [
           {
            "colorbar": {
             "outlinewidth": 0,
             "ticks": ""
            },
            "type": "contourcarpet"
           }
          ],
          "heatmap": [
           {
            "colorbar": {
             "outlinewidth": 0,
             "ticks": ""
            },
            "colorscale": [
             [
              0,
              "#0d0887"
             ],
             [
              0.1111111111111111,
              "#46039f"
             ],
             [
              0.2222222222222222,
              "#7201a8"
             ],
             [
              0.3333333333333333,
              "#9c179e"
             ],
             [
              0.4444444444444444,
              "#bd3786"
             ],
             [
              0.5555555555555556,
              "#d8576b"
             ],
             [
              0.6666666666666666,
              "#ed7953"
             ],
             [
              0.7777777777777778,
              "#fb9f3a"
             ],
             [
              0.8888888888888888,
              "#fdca26"
             ],
             [
              1,
              "#f0f921"
             ]
            ],
            "type": "heatmap"
           }
          ],
          "heatmapgl": [
           {
            "colorbar": {
             "outlinewidth": 0,
             "ticks": ""
            },
            "colorscale": [
             [
              0,
              "#0d0887"
             ],
             [
              0.1111111111111111,
              "#46039f"
             ],
             [
              0.2222222222222222,
              "#7201a8"
             ],
             [
              0.3333333333333333,
              "#9c179e"
             ],
             [
              0.4444444444444444,
              "#bd3786"
             ],
             [
              0.5555555555555556,
              "#d8576b"
             ],
             [
              0.6666666666666666,
              "#ed7953"
             ],
             [
              0.7777777777777778,
              "#fb9f3a"
             ],
             [
              0.8888888888888888,
              "#fdca26"
             ],
             [
              1,
              "#f0f921"
             ]
            ],
            "type": "heatmapgl"
           }
          ],
          "histogram": [
           {
            "marker": {
             "pattern": {
              "fillmode": "overlay",
              "size": 10,
              "solidity": 0.2
             }
            },
            "type": "histogram"
           }
          ],
          "histogram2d": [
           {
            "colorbar": {
             "outlinewidth": 0,
             "ticks": ""
            },
            "colorscale": [
             [
              0,
              "#0d0887"
             ],
             [
              0.1111111111111111,
              "#46039f"
             ],
             [
              0.2222222222222222,
              "#7201a8"
             ],
             [
              0.3333333333333333,
              "#9c179e"
             ],
             [
              0.4444444444444444,
              "#bd3786"
             ],
             [
              0.5555555555555556,
              "#d8576b"
             ],
             [
              0.6666666666666666,
              "#ed7953"
             ],
             [
              0.7777777777777778,
              "#fb9f3a"
             ],
             [
              0.8888888888888888,
              "#fdca26"
             ],
             [
              1,
              "#f0f921"
             ]
            ],
            "type": "histogram2d"
           }
          ],
          "histogram2dcontour": [
           {
            "colorbar": {
             "outlinewidth": 0,
             "ticks": ""
            },
            "colorscale": [
             [
              0,
              "#0d0887"
             ],
             [
              0.1111111111111111,
              "#46039f"
             ],
             [
              0.2222222222222222,
              "#7201a8"
             ],
             [
              0.3333333333333333,
              "#9c179e"
             ],
             [
              0.4444444444444444,
              "#bd3786"
             ],
             [
              0.5555555555555556,
              "#d8576b"
             ],
             [
              0.6666666666666666,
              "#ed7953"
             ],
             [
              0.7777777777777778,
              "#fb9f3a"
             ],
             [
              0.8888888888888888,
              "#fdca26"
             ],
             [
              1,
              "#f0f921"
             ]
            ],
            "type": "histogram2dcontour"
           }
          ],
          "mesh3d": [
           {
            "colorbar": {
             "outlinewidth": 0,
             "ticks": ""
            },
            "type": "mesh3d"
           }
          ],
          "parcoords": [
           {
            "line": {
             "colorbar": {
              "outlinewidth": 0,
              "ticks": ""
             }
            },
            "type": "parcoords"
           }
          ],
          "pie": [
           {
            "automargin": true,
            "type": "pie"
           }
          ],
          "scatter": [
           {
            "fillpattern": {
             "fillmode": "overlay",
             "size": 10,
             "solidity": 0.2
            },
            "type": "scatter"
           }
          ],
          "scatter3d": [
           {
            "line": {
             "colorbar": {
              "outlinewidth": 0,
              "ticks": ""
             }
            },
            "marker": {
             "colorbar": {
              "outlinewidth": 0,
              "ticks": ""
             }
            },
            "type": "scatter3d"
           }
          ],
          "scattercarpet": [
           {
            "marker": {
             "colorbar": {
              "outlinewidth": 0,
              "ticks": ""
             }
            },
            "type": "scattercarpet"
           }
          ],
          "scattergeo": [
           {
            "marker": {
             "colorbar": {
              "outlinewidth": 0,
              "ticks": ""
             }
            },
            "type": "scattergeo"
           }
          ],
          "scattergl": [
           {
            "marker": {
             "colorbar": {
              "outlinewidth": 0,
              "ticks": ""
             }
            },
            "type": "scattergl"
           }
          ],
          "scattermapbox": [
           {
            "marker": {
             "colorbar": {
              "outlinewidth": 0,
              "ticks": ""
             }
            },
            "type": "scattermapbox"
           }
          ],
          "scatterpolar": [
           {
            "marker": {
             "colorbar": {
              "outlinewidth": 0,
              "ticks": ""
             }
            },
            "type": "scatterpolar"
           }
          ],
          "scatterpolargl": [
           {
            "marker": {
             "colorbar": {
              "outlinewidth": 0,
              "ticks": ""
             }
            },
            "type": "scatterpolargl"
           }
          ],
          "scatterternary": [
           {
            "marker": {
             "colorbar": {
              "outlinewidth": 0,
              "ticks": ""
             }
            },
            "type": "scatterternary"
           }
          ],
          "surface": [
           {
            "colorbar": {
             "outlinewidth": 0,
             "ticks": ""
            },
            "colorscale": [
             [
              0,
              "#0d0887"
             ],
             [
              0.1111111111111111,
              "#46039f"
             ],
             [
              0.2222222222222222,
              "#7201a8"
             ],
             [
              0.3333333333333333,
              "#9c179e"
             ],
             [
              0.4444444444444444,
              "#bd3786"
             ],
             [
              0.5555555555555556,
              "#d8576b"
             ],
             [
              0.6666666666666666,
              "#ed7953"
             ],
             [
              0.7777777777777778,
              "#fb9f3a"
             ],
             [
              0.8888888888888888,
              "#fdca26"
             ],
             [
              1,
              "#f0f921"
             ]
            ],
            "type": "surface"
           }
          ],
          "table": [
           {
            "cells": {
             "fill": {
              "color": "#EBF0F8"
             },
             "line": {
              "color": "white"
             }
            },
            "header": {
             "fill": {
              "color": "#C8D4E3"
             },
             "line": {
              "color": "white"
             }
            },
            "type": "table"
           }
          ]
         },
         "layout": {
          "annotationdefaults": {
           "arrowcolor": "#2a3f5f",
           "arrowhead": 0,
           "arrowwidth": 1
          },
          "autotypenumbers": "strict",
          "coloraxis": {
           "colorbar": {
            "outlinewidth": 0,
            "ticks": ""
           }
          },
          "colorscale": {
           "diverging": [
            [
             0,
             "#8e0152"
            ],
            [
             0.1,
             "#c51b7d"
            ],
            [
             0.2,
             "#de77ae"
            ],
            [
             0.3,
             "#f1b6da"
            ],
            [
             0.4,
             "#fde0ef"
            ],
            [
             0.5,
             "#f7f7f7"
            ],
            [
             0.6,
             "#e6f5d0"
            ],
            [
             0.7,
             "#b8e186"
            ],
            [
             0.8,
             "#7fbc41"
            ],
            [
             0.9,
             "#4d9221"
            ],
            [
             1,
             "#276419"
            ]
           ],
           "sequential": [
            [
             0,
             "#0d0887"
            ],
            [
             0.1111111111111111,
             "#46039f"
            ],
            [
             0.2222222222222222,
             "#7201a8"
            ],
            [
             0.3333333333333333,
             "#9c179e"
            ],
            [
             0.4444444444444444,
             "#bd3786"
            ],
            [
             0.5555555555555556,
             "#d8576b"
            ],
            [
             0.6666666666666666,
             "#ed7953"
            ],
            [
             0.7777777777777778,
             "#fb9f3a"
            ],
            [
             0.8888888888888888,
             "#fdca26"
            ],
            [
             1,
             "#f0f921"
            ]
           ],
           "sequentialminus": [
            [
             0,
             "#0d0887"
            ],
            [
             0.1111111111111111,
             "#46039f"
            ],
            [
             0.2222222222222222,
             "#7201a8"
            ],
            [
             0.3333333333333333,
             "#9c179e"
            ],
            [
             0.4444444444444444,
             "#bd3786"
            ],
            [
             0.5555555555555556,
             "#d8576b"
            ],
            [
             0.6666666666666666,
             "#ed7953"
            ],
            [
             0.7777777777777778,
             "#fb9f3a"
            ],
            [
             0.8888888888888888,
             "#fdca26"
            ],
            [
             1,
             "#f0f921"
            ]
           ]
          },
          "colorway": [
           "#636efa",
           "#EF553B",
           "#00cc96",
           "#ab63fa",
           "#FFA15A",
           "#19d3f3",
           "#FF6692",
           "#B6E880",
           "#FF97FF",
           "#FECB52"
          ],
          "font": {
           "color": "#2a3f5f"
          },
          "geo": {
           "bgcolor": "white",
           "lakecolor": "white",
           "landcolor": "#E5ECF6",
           "showlakes": true,
           "showland": true,
           "subunitcolor": "white"
          },
          "hoverlabel": {
           "align": "left"
          },
          "hovermode": "closest",
          "mapbox": {
           "style": "light"
          },
          "paper_bgcolor": "white",
          "plot_bgcolor": "#E5ECF6",
          "polar": {
           "angularaxis": {
            "gridcolor": "white",
            "linecolor": "white",
            "ticks": ""
           },
           "bgcolor": "#E5ECF6",
           "radialaxis": {
            "gridcolor": "white",
            "linecolor": "white",
            "ticks": ""
           }
          },
          "scene": {
           "xaxis": {
            "backgroundcolor": "#E5ECF6",
            "gridcolor": "white",
            "gridwidth": 2,
            "linecolor": "white",
            "showbackground": true,
            "ticks": "",
            "zerolinecolor": "white"
           },
           "yaxis": {
            "backgroundcolor": "#E5ECF6",
            "gridcolor": "white",
            "gridwidth": 2,
            "linecolor": "white",
            "showbackground": true,
            "ticks": "",
            "zerolinecolor": "white"
           },
           "zaxis": {
            "backgroundcolor": "#E5ECF6",
            "gridcolor": "white",
            "gridwidth": 2,
            "linecolor": "white",
            "showbackground": true,
            "ticks": "",
            "zerolinecolor": "white"
           }
          },
          "shapedefaults": {
           "line": {
            "color": "#2a3f5f"
           }
          },
          "ternary": {
           "aaxis": {
            "gridcolor": "white",
            "linecolor": "white",
            "ticks": ""
           },
           "baxis": {
            "gridcolor": "white",
            "linecolor": "white",
            "ticks": ""
           },
           "bgcolor": "#E5ECF6",
           "caxis": {
            "gridcolor": "white",
            "linecolor": "white",
            "ticks": ""
           }
          },
          "title": {
           "x": 0.05
          },
          "xaxis": {
           "automargin": true,
           "gridcolor": "white",
           "linecolor": "white",
           "ticks": "",
           "title": {
            "standoff": 15
           },
           "zerolinecolor": "white",
           "zerolinewidth": 2
          },
          "yaxis": {
           "automargin": true,
           "gridcolor": "white",
           "linecolor": "white",
           "ticks": "",
           "title": {
            "standoff": 15
           },
           "zerolinecolor": "white",
           "zerolinewidth": 2
          }
         }
        },
        "title": {
         "text": "AMS vs Shifted, RMSE=0.00, SNR=inf"
        },
        "width": 400,
        "xaxis": {
         "anchor": "y",
         "domain": [
          0,
          1
         ],
         "title": {
          "text": "RTL"
         }
        },
        "yaxis": {
         "anchor": "x",
         "domain": [
          0,
          1
         ],
         "title": {
          "text": "AMS"
         }
        }
       }
      },
      "text/html": [
       "<div>                            <div id=\"756e0fb1-5c8e-4796-9a8a-91eda28173a6\" class=\"plotly-graph-div\" style=\"height:400px; width:400px;\"></div>            <script type=\"text/javascript\">                require([\"plotly\"], function(Plotly) {                    window.PLOTLYENV=window.PLOTLYENV || {};                                    if (document.getElementById(\"756e0fb1-5c8e-4796-9a8a-91eda28173a6\")) {                    Plotly.newPlot(                        \"756e0fb1-5c8e-4796-9a8a-91eda28173a6\",                        [{\"hovertemplate\":\"RTL=%{x}\\u003cbr\\u003eAMS=%{y}\\u003cextra\\u003e\\u003c\\u002fextra\\u003e\",\"legendgroup\":\"\",\"marker\":{\"color\":\"#636efa\",\"symbol\":\"circle\"},\"mode\":\"markers\",\"name\":\"\",\"orientation\":\"v\",\"showlegend\":false,\"x\":[7.0,0.0,-1.0,-2.0,0.0,-1.0,1.0,7.0,0.0,-8.0,-8.0,7.0,-8.0,-1.0,0.0,1.0,-8.0,0.0,7.0,-1.0,7.0,7.0,-2.0,-8.0,-8.0,1.0,7.0,-2.0,1.0,-8.0,1.0,-1.0,-8.0,7.0,1.0,-8.0,0.0,1.0,1.0,-1.0,0.0,-2.0,-2.0,0.0,-8.0,7.0,7.0,-2.0,-2.0,0.0,0.0,-1.0,-1.0,0.0,1.0,1.0,-8.0,-1.0,0.0,0.0,-1.0,-8.0,1.0,-8.0,1.0,7.0,0.0,-1.0,1.0,1.0,-1.0,7.0,1.0,7.0,7.0,-2.0,1.0,-2.0,-8.0,7.0,7.0,-2.0,-1.0,0.0,1.0,7.0,1.0,7.0,7.0,0.0,1.0,-2.0,-8.0,0.0,0.0,-1.0,-2.0,-2.0,7.0,1.0,-8.0,-1.0,7.0,0.0,-8.0,1.0,1.0,-1.0,-2.0,7.0,7.0,0.0,-1.0,-1.0,7.0,0.0,-8.0,-2.0,0.0,0.0,-1.0,1.0,-8.0,0.0,7.0,-8.0,-8.0,7.0,-2.0,-8.0,0.0,-1.0,-8.0,7.0,-8.0,-1.0,-1.0,-8.0,7.0,-8.0,7.0,0.0,7.0,-8.0,-1.0,7.0,0.0,-1.0,7.0,0.0,7.0,-1.0,0.0,1.0,1.0,-1.0,-2.0,0.0,7.0,7.0,0.0,-8.0,-1.0,0.0,1.0,1.0,7.0,7.0,7.0,0.0,7.0,-2.0,0.0,-1.0,1.0,-1.0,0.0,-8.0,7.0,-2.0,7.0,7.0,0.0,1.0,0.0,-2.0,-2.0,-2.0,1.0,7.0,7.0,-1.0,1.0,7.0,7.0,-1.0,-2.0,1.0,-8.0,1.0,0.0,-1.0,-8.0,0.0,7.0,0.0,0.0,-8.0,-8.0,7.0,1.0,-8.0,-2.0,0.0,0.0,-1.0,-2.0,-1.0,7.0,-1.0,-1.0,-8.0,-2.0,-2.0,7.0,0.0,1.0,-8.0,-2.0,7.0,-2.0,-2.0,-8.0,0.0,7.0,0.0,0.0,0.0,-2.0,-1.0,-1.0,-2.0,0.0,-1.0,-1.0,-1.0,-2.0,7.0,7.0,7.0,1.0,-1.0,-1.0,-8.0,1.0,1.0,7.0,0.0,1.0,-1.0,7.0,1.0,7.0,-1.0,7.0,7.0,7.0,-8.0,1.0,1.0,-2.0,-2.0,0.0,-1.0,0.0,-8.0,0.0,1.0,0.0,0.0,0.0,0.0,0.0,0.0,-1.0,-1.0,-2.0,7.0,0.0,-8.0,-2.0,-8.0,7.0,-1.0,7.0,-2.0,-2.0,0.0,0.0,1.0,7.0,-1.0,7.0,-8.0,-1.0,-1.0,7.0,-8.0,-1.0,7.0,1.0,-1.0,7.0,0.0,-2.0,-1.0,-1.0,-8.0,-8.0,7.0],\"xaxis\":\"x\",\"y\":[7.0,0.0,-1.0,-2.0,0.0,-1.0,1.0,7.0,0.0,-8.0,-8.0,7.0,-8.0,-1.0,0.0,1.0,-8.0,0.0,7.0,-1.0,7.0,7.0,-2.0,-8.0,-8.0,1.0,7.0,-2.0,1.0,-8.0,1.0,-1.0,-8.0,7.0,1.0,-8.0,0.0,1.0,1.0,-1.0,0.0,-2.0,-2.0,0.0,-8.0,7.0,7.0,-2.0,-2.0,0.0,0.0,-1.0,-1.0,0.0,1.0,1.0,-8.0,-1.0,0.0,0.0,-1.0,-8.0,1.0,-8.0,1.0,7.0,0.0,-1.0,1.0,1.0,-1.0,7.0,1.0,7.0,7.0,-2.0,1.0,-2.0,-8.0,7.0,7.0,-2.0,-1.0,0.0,1.0,7.0,1.0,7.0,7.0,0.0,1.0,-2.0,-8.0,0.0,0.0,-1.0,-2.0,-2.0,7.0,1.0,-8.0,-1.0,7.0,0.0,-8.0,1.0,1.0,-1.0,-2.0,7.0,7.0,0.0,-1.0,-1.0,7.0,0.0,-8.0,-2.0,0.0,0.0,-1.0,1.0,-8.0,0.0,7.0,-8.0,-8.0,7.0,-2.0,-8.0,0.0,-1.0,-8.0,7.0,-8.0,-1.0,-1.0,-8.0,7.0,-8.0,7.0,0.0,7.0,-8.0,-1.0,7.0,0.0,-1.0,7.0,0.0,7.0,-1.0,0.0,1.0,1.0,-1.0,-2.0,0.0,7.0,7.0,0.0,-8.0,-1.0,0.0,1.0,1.0,7.0,7.0,7.0,0.0,7.0,-2.0,0.0,-1.0,1.0,-1.0,0.0,-8.0,7.0,-2.0,7.0,7.0,0.0,1.0,0.0,-2.0,-2.0,-2.0,1.0,7.0,7.0,-1.0,1.0,7.0,7.0,-1.0,-2.0,1.0,-8.0,1.0,0.0,-1.0,-8.0,0.0,7.0,0.0,0.0,-8.0,-8.0,7.0,1.0,-8.0,-2.0,0.0,0.0,-1.0,-2.0,-1.0,7.0,-1.0,-1.0,-8.0,-2.0,-2.0,7.0,0.0,1.0,-8.0,-2.0,7.0,-2.0,-2.0,-8.0,0.0,7.0,0.0,0.0,0.0,-2.0,-1.0,-1.0,-2.0,0.0,-1.0,-1.0,-1.0,-2.0,7.0,7.0,7.0,1.0,-1.0,-1.0,-8.0,1.0,1.0,7.0,0.0,1.0,-1.0,7.0,1.0,7.0,-1.0,7.0,7.0,7.0,-8.0,1.0,1.0,-2.0,-2.0,0.0,-1.0,0.0,-8.0,0.0,1.0,0.0,0.0,0.0,0.0,0.0,0.0,-1.0,-1.0,-2.0,7.0,0.0,-8.0,-2.0,-8.0,7.0,-1.0,7.0,-2.0,-2.0,0.0,0.0,1.0,7.0,-1.0,7.0,-8.0,-1.0,-1.0,7.0,-8.0,-1.0,7.0,1.0,-1.0,7.0,0.0,-2.0,-1.0,-1.0,-8.0,-8.0,7.0],\"yaxis\":\"y\",\"type\":\"scatter\"}],                        {\"template\":{\"data\":{\"histogram2dcontour\":[{\"type\":\"histogram2dcontour\",\"colorbar\":{\"outlinewidth\":0,\"ticks\":\"\"},\"colorscale\":[[0.0,\"#0d0887\"],[0.1111111111111111,\"#46039f\"],[0.2222222222222222,\"#7201a8\"],[0.3333333333333333,\"#9c179e\"],[0.4444444444444444,\"#bd3786\"],[0.5555555555555556,\"#d8576b\"],[0.6666666666666666,\"#ed7953\"],[0.7777777777777778,\"#fb9f3a\"],[0.8888888888888888,\"#fdca26\"],[1.0,\"#f0f921\"]]}],\"choropleth\":[{\"type\":\"choropleth\",\"colorbar\":{\"outlinewidth\":0,\"ticks\":\"\"}}],\"histogram2d\":[{\"type\":\"histogram2d\",\"colorbar\":{\"outlinewidth\":0,\"ticks\":\"\"},\"colorscale\":[[0.0,\"#0d0887\"],[0.1111111111111111,\"#46039f\"],[0.2222222222222222,\"#7201a8\"],[0.3333333333333333,\"#9c179e\"],[0.4444444444444444,\"#bd3786\"],[0.5555555555555556,\"#d8576b\"],[0.6666666666666666,\"#ed7953\"],[0.7777777777777778,\"#fb9f3a\"],[0.8888888888888888,\"#fdca26\"],[1.0,\"#f0f921\"]]}],\"heatmap\":[{\"type\":\"heatmap\",\"colorbar\":{\"outlinewidth\":0,\"ticks\":\"\"},\"colorscale\":[[0.0,\"#0d0887\"],[0.1111111111111111,\"#46039f\"],[0.2222222222222222,\"#7201a8\"],[0.3333333333333333,\"#9c179e\"],[0.4444444444444444,\"#bd3786\"],[0.5555555555555556,\"#d8576b\"],[0.6666666666666666,\"#ed7953\"],[0.7777777777777778,\"#fb9f3a\"],[0.8888888888888888,\"#fdca26\"],[1.0,\"#f0f921\"]]}],\"heatmapgl\":[{\"type\":\"heatmapgl\",\"colorbar\":{\"outlinewidth\":0,\"ticks\":\"\"},\"colorscale\":[[0.0,\"#0d0887\"],[0.1111111111111111,\"#46039f\"],[0.2222222222222222,\"#7201a8\"],[0.3333333333333333,\"#9c179e\"],[0.4444444444444444,\"#bd3786\"],[0.5555555555555556,\"#d8576b\"],[0.6666666666666666,\"#ed7953\"],[0.7777777777777778,\"#fb9f3a\"],[0.8888888888888888,\"#fdca26\"],[1.0,\"#f0f921\"]]}],\"contourcarpet\":[{\"type\":\"contourcarpet\",\"colorbar\":{\"outlinewidth\":0,\"ticks\":\"\"}}],\"contour\":[{\"type\":\"contour\",\"colorbar\":{\"outlinewidth\":0,\"ticks\":\"\"},\"colorscale\":[[0.0,\"#0d0887\"],[0.1111111111111111,\"#46039f\"],[0.2222222222222222,\"#7201a8\"],[0.3333333333333333,\"#9c179e\"],[0.4444444444444444,\"#bd3786\"],[0.5555555555555556,\"#d8576b\"],[0.6666666666666666,\"#ed7953\"],[0.7777777777777778,\"#fb9f3a\"],[0.8888888888888888,\"#fdca26\"],[1.0,\"#f0f921\"]]}],\"surface\":[{\"type\":\"surface\",\"colorbar\":{\"outlinewidth\":0,\"ticks\":\"\"},\"colorscale\":[[0.0,\"#0d0887\"],[0.1111111111111111,\"#46039f\"],[0.2222222222222222,\"#7201a8\"],[0.3333333333333333,\"#9c179e\"],[0.4444444444444444,\"#bd3786\"],[0.5555555555555556,\"#d8576b\"],[0.6666666666666666,\"#ed7953\"],[0.7777777777777778,\"#fb9f3a\"],[0.8888888888888888,\"#fdca26\"],[1.0,\"#f0f921\"]]}],\"mesh3d\":[{\"type\":\"mesh3d\",\"colorbar\":{\"outlinewidth\":0,\"ticks\":\"\"}}],\"scatter\":[{\"fillpattern\":{\"fillmode\":\"overlay\",\"size\":10,\"solidity\":0.2},\"type\":\"scatter\"}],\"parcoords\":[{\"type\":\"parcoords\",\"line\":{\"colorbar\":{\"outlinewidth\":0,\"ticks\":\"\"}}}],\"scatterpolargl\":[{\"type\":\"scatterpolargl\",\"marker\":{\"colorbar\":{\"outlinewidth\":0,\"ticks\":\"\"}}}],\"bar\":[{\"error_x\":{\"color\":\"#2a3f5f\"},\"error_y\":{\"color\":\"#2a3f5f\"},\"marker\":{\"line\":{\"color\":\"#E5ECF6\",\"width\":0.5},\"pattern\":{\"fillmode\":\"overlay\",\"size\":10,\"solidity\":0.2}},\"type\":\"bar\"}],\"scattergeo\":[{\"type\":\"scattergeo\",\"marker\":{\"colorbar\":{\"outlinewidth\":0,\"ticks\":\"\"}}}],\"scatterpolar\":[{\"type\":\"scatterpolar\",\"marker\":{\"colorbar\":{\"outlinewidth\":0,\"ticks\":\"\"}}}],\"histogram\":[{\"marker\":{\"pattern\":{\"fillmode\":\"overlay\",\"size\":10,\"solidity\":0.2}},\"type\":\"histogram\"}],\"scattergl\":[{\"type\":\"scattergl\",\"marker\":{\"colorbar\":{\"outlinewidth\":0,\"ticks\":\"\"}}}],\"scatter3d\":[{\"type\":\"scatter3d\",\"line\":{\"colorbar\":{\"outlinewidth\":0,\"ticks\":\"\"}},\"marker\":{\"colorbar\":{\"outlinewidth\":0,\"ticks\":\"\"}}}],\"scattermapbox\":[{\"type\":\"scattermapbox\",\"marker\":{\"colorbar\":{\"outlinewidth\":0,\"ticks\":\"\"}}}],\"scatterternary\":[{\"type\":\"scatterternary\",\"marker\":{\"colorbar\":{\"outlinewidth\":0,\"ticks\":\"\"}}}],\"scattercarpet\":[{\"type\":\"scattercarpet\",\"marker\":{\"colorbar\":{\"outlinewidth\":0,\"ticks\":\"\"}}}],\"carpet\":[{\"aaxis\":{\"endlinecolor\":\"#2a3f5f\",\"gridcolor\":\"white\",\"linecolor\":\"white\",\"minorgridcolor\":\"white\",\"startlinecolor\":\"#2a3f5f\"},\"baxis\":{\"endlinecolor\":\"#2a3f5f\",\"gridcolor\":\"white\",\"linecolor\":\"white\",\"minorgridcolor\":\"white\",\"startlinecolor\":\"#2a3f5f\"},\"type\":\"carpet\"}],\"table\":[{\"cells\":{\"fill\":{\"color\":\"#EBF0F8\"},\"line\":{\"color\":\"white\"}},\"header\":{\"fill\":{\"color\":\"#C8D4E3\"},\"line\":{\"color\":\"white\"}},\"type\":\"table\"}],\"barpolar\":[{\"marker\":{\"line\":{\"color\":\"#E5ECF6\",\"width\":0.5},\"pattern\":{\"fillmode\":\"overlay\",\"size\":10,\"solidity\":0.2}},\"type\":\"barpolar\"}],\"pie\":[{\"automargin\":true,\"type\":\"pie\"}]},\"layout\":{\"autotypenumbers\":\"strict\",\"colorway\":[\"#636efa\",\"#EF553B\",\"#00cc96\",\"#ab63fa\",\"#FFA15A\",\"#19d3f3\",\"#FF6692\",\"#B6E880\",\"#FF97FF\",\"#FECB52\"],\"font\":{\"color\":\"#2a3f5f\"},\"hovermode\":\"closest\",\"hoverlabel\":{\"align\":\"left\"},\"paper_bgcolor\":\"white\",\"plot_bgcolor\":\"#E5ECF6\",\"polar\":{\"bgcolor\":\"#E5ECF6\",\"angularaxis\":{\"gridcolor\":\"white\",\"linecolor\":\"white\",\"ticks\":\"\"},\"radialaxis\":{\"gridcolor\":\"white\",\"linecolor\":\"white\",\"ticks\":\"\"}},\"ternary\":{\"bgcolor\":\"#E5ECF6\",\"aaxis\":{\"gridcolor\":\"white\",\"linecolor\":\"white\",\"ticks\":\"\"},\"baxis\":{\"gridcolor\":\"white\",\"linecolor\":\"white\",\"ticks\":\"\"},\"caxis\":{\"gridcolor\":\"white\",\"linecolor\":\"white\",\"ticks\":\"\"}},\"coloraxis\":{\"colorbar\":{\"outlinewidth\":0,\"ticks\":\"\"}},\"colorscale\":{\"sequential\":[[0.0,\"#0d0887\"],[0.1111111111111111,\"#46039f\"],[0.2222222222222222,\"#7201a8\"],[0.3333333333333333,\"#9c179e\"],[0.4444444444444444,\"#bd3786\"],[0.5555555555555556,\"#d8576b\"],[0.6666666666666666,\"#ed7953\"],[0.7777777777777778,\"#fb9f3a\"],[0.8888888888888888,\"#fdca26\"],[1.0,\"#f0f921\"]],\"sequentialminus\":[[0.0,\"#0d0887\"],[0.1111111111111111,\"#46039f\"],[0.2222222222222222,\"#7201a8\"],[0.3333333333333333,\"#9c179e\"],[0.4444444444444444,\"#bd3786\"],[0.5555555555555556,\"#d8576b\"],[0.6666666666666666,\"#ed7953\"],[0.7777777777777778,\"#fb9f3a\"],[0.8888888888888888,\"#fdca26\"],[1.0,\"#f0f921\"]],\"diverging\":[[0,\"#8e0152\"],[0.1,\"#c51b7d\"],[0.2,\"#de77ae\"],[0.3,\"#f1b6da\"],[0.4,\"#fde0ef\"],[0.5,\"#f7f7f7\"],[0.6,\"#e6f5d0\"],[0.7,\"#b8e186\"],[0.8,\"#7fbc41\"],[0.9,\"#4d9221\"],[1,\"#276419\"]]},\"xaxis\":{\"gridcolor\":\"white\",\"linecolor\":\"white\",\"ticks\":\"\",\"title\":{\"standoff\":15},\"zerolinecolor\":\"white\",\"automargin\":true,\"zerolinewidth\":2},\"yaxis\":{\"gridcolor\":\"white\",\"linecolor\":\"white\",\"ticks\":\"\",\"title\":{\"standoff\":15},\"zerolinecolor\":\"white\",\"automargin\":true,\"zerolinewidth\":2},\"scene\":{\"xaxis\":{\"backgroundcolor\":\"#E5ECF6\",\"gridcolor\":\"white\",\"linecolor\":\"white\",\"showbackground\":true,\"ticks\":\"\",\"zerolinecolor\":\"white\",\"gridwidth\":2},\"yaxis\":{\"backgroundcolor\":\"#E5ECF6\",\"gridcolor\":\"white\",\"linecolor\":\"white\",\"showbackground\":true,\"ticks\":\"\",\"zerolinecolor\":\"white\",\"gridwidth\":2},\"zaxis\":{\"backgroundcolor\":\"#E5ECF6\",\"gridcolor\":\"white\",\"linecolor\":\"white\",\"showbackground\":true,\"ticks\":\"\",\"zerolinecolor\":\"white\",\"gridwidth\":2}},\"shapedefaults\":{\"line\":{\"color\":\"#2a3f5f\"}},\"annotationdefaults\":{\"arrowcolor\":\"#2a3f5f\",\"arrowhead\":0,\"arrowwidth\":1},\"geo\":{\"bgcolor\":\"white\",\"landcolor\":\"#E5ECF6\",\"subunitcolor\":\"white\",\"showland\":true,\"showlakes\":true,\"lakecolor\":\"white\"},\"title\":{\"x\":0.05},\"mapbox\":{\"style\":\"light\"}}},\"xaxis\":{\"anchor\":\"y\",\"domain\":[0.0,1.0],\"title\":{\"text\":\"RTL\"}},\"yaxis\":{\"anchor\":\"x\",\"domain\":[0.0,1.0],\"title\":{\"text\":\"AMS\"}},\"legend\":{\"tracegroupgap\":0},\"title\":{\"text\":\"AMS vs Shifted, RMSE=0.00, SNR=inf\"},\"height\":400,\"width\":400},                        {\"responsive\": true}                    ).then(function(){\n",
       "                            \n",
       "var gd = document.getElementById('756e0fb1-5c8e-4796-9a8a-91eda28173a6');\n",
       "var x = new MutationObserver(function (mutations, observer) {{\n",
       "        var display = window.getComputedStyle(gd).display;\n",
       "        if (!display || display === 'none') {{\n",
       "            console.log([gd, 'removed!']);\n",
       "            Plotly.purge(gd);\n",
       "            observer.disconnect();\n",
       "        }}\n",
       "}});\n",
       "\n",
       "// Listen for the removal of the full notebook cells\n",
       "var notebookContainer = gd.closest('#notebook-container');\n",
       "if (notebookContainer) {{\n",
       "    x.observe(notebookContainer, {childList: true});\n",
       "}}\n",
       "\n",
       "// Listen for the clearing of the current output cell\n",
       "var outputEl = gd.closest('.output');\n",
       "if (outputEl) {{\n",
       "    x.observe(outputEl, {childList: true});\n",
       "}}\n",
       "\n",
       "                        })                };                });            </script>        </div>"
      ]
     },
     "metadata": {},
     "output_type": "display_data"
    }
   ],
   "source": [
    "ams = np.loadtxt('../tb/qracc/inputs/adc_out.txt')\n",
    "rtl = np.loadtxt('../tb/qracc/inputs/adc_out_rtlsims.txt')\n",
    "\n",
    "ams_df = df(ams)\n",
    "rtl_df = df(rtl)\n",
    "\n",
    "# ams_df['Row'] = ams_df.index\n",
    "# rtl_df['Row'] = rtl_df.index\n",
    "\n",
    "ams_df = ams_df.melt(\n",
    "    ignore_index=False,\n",
    "    var_name='Column',\n",
    "    value_name='ADC_OUT_AMS',\n",
    ")\n",
    "rtl_df = rtl_df.melt(\n",
    "    ignore_index=False,\n",
    "    var_name='Column',\n",
    "    value_name='ADC_OUT_RTL',\n",
    ")\n",
    "ams_df['Row'] = ams_df.index\n",
    "rtl_df['Row'] = rtl_df.index\n",
    "# Join the two dataframes\n",
    "adc_df = pd.merge(ams_df, rtl_df)\n",
    "\n",
    "rtl_fp = rtl.flatten()/2**3\n",
    "ams_fp = ams.flatten()/2**3\n",
    "\n",
    "err =   rtl_fp - ams_fp\n",
    "snr = 20*np.log(np.var(rtl_fp) / np.var(err))\n",
    "\n",
    "rmse = np.sqrt(np.mean((rtl.flatten() - ams.flatten())**2))\n",
    "fig = px.scatter(adc_df, y='ADC_OUT_AMS', x='ADC_OUT_RTL', width=400, height=400, title=f'AMS vs Shifted, RMSE={rmse:.2f}, SNR={snr:.2f}', labels={'ADC_OUT_AMS':'AMS','ADC_OUT_RTL':'RTL'})\n",
    "fig.show()\n",
    "fig.write_image('../images/rtl_vs_ams.svg')"
   ]
  },
  {
   "cell_type": "markdown",
   "metadata": {},
   "source": [
    "# Sequential Accelerator Simulations"
   ]
  },
  {
   "cell_type": "code",
   "execution_count": 282,
   "metadata": {},
   "outputs": [
    {
     "name": "stdout",
     "output_type": "stream",
     "text": [
      "[STIM_GEN] Generating random weights\n"
     ]
    },
    {
     "data": {
      "application/vnd.plotly.v1+json": {
       "config": {
        "plotlyServerURL": "https://plot.ly"
       },
       "data": [
        {
         "hovertemplate": "RTL=%{x}<br>AMS=%{y}<extra></extra>",
         "legendgroup": "",
         "marker": {
          "color": "#636efa",
          "symbol": "circle"
         },
         "mode": "markers",
         "name": "",
         "orientation": "v",
         "showlegend": false,
         "type": "scatter",
         "x": [
          -0.4453125,
          0.33203125,
          -0.42578125,
          -0.04296875,
          0.08984375,
          -0.25390625,
          -0.24609375,
          -0.328125,
          -0.35546875,
          0.21484375,
          0.41015625,
          -0.12890625,
          -0.46875,
          0.17578125,
          -0.46875,
          -0.2578125,
          -0.36328125,
          0.05078125,
          -0.3359375,
          -0.4296875,
          0.0703125,
          -0.11328125,
          0.15234375,
          0.12890625,
          0.37890625,
          -0.3359375,
          -0.03515625,
          0.41015625,
          0.39453125,
          0.18359375,
          -0.12109375,
          -0.15234375,
          -0.19921875,
          -0.37109375,
          -0.40234375,
          0.06640625,
          -0.06640625,
          0.41015625,
          0.08203125,
          0.01171875,
          -0.30078125,
          -0.00390625,
          0.14453125,
          0.01953125,
          -0.02734375,
          -0.26171875,
          0.41015625,
          -0.22265625,
          -0.00390625,
          -0.40625,
          0.36328125,
          0.33984375,
          -0.37109375,
          -0.06640625,
          -0.16796875,
          -0.16015625,
          0.37890625,
          -0.11328125,
          0.26953125,
          0.30859375,
          0.05078125,
          0.24609375,
          0.37890625,
          0.09765625,
          0.01171875,
          -0.12109375,
          -0.46875,
          -0.10546875,
          -0.05859375,
          -0.07421875,
          0.16015625,
          -0.14453125,
          0.19921875,
          0.2265625,
          0.28515625,
          -0.015625,
          0.07421875,
          -0.28125,
          0.04296875,
          0.29296875,
          0.15234375,
          0.234375,
          0.41015625,
          0.38671875,
          0.39453125,
          -0.453125,
          -0.30859375,
          -0.18359375,
          -0.03515625,
          -0.140625,
          0.01171875,
          -0.05859375,
          -0.43359375,
          0.09765625,
          -0.12109375,
          0.12109375,
          -0.4296875,
          -0.22265625,
          -0.23828125,
          -0.18359375,
          0.34765625,
          -0.46875,
          0.0546875,
          -0.46875,
          -0.46875,
          -0.1171875,
          0.40234375,
          0.02734375,
          0.24609375,
          0.25390625,
          0.00390625,
          -0.20703125,
          -0.27734375,
          0.01171875,
          0.26953125,
          0.16796875,
          0.10546875,
          0.26953125,
          0.37890625,
          -0.23046875,
          -0.453125,
          0.09765625,
          0.19140625,
          0.41015625,
          0.06640625,
          0.37109375,
          0.06640625,
          0.37890625,
          -0.0546875,
          0.08984375,
          -0.3984375,
          -0.1953125,
          -0.41796875,
          -0.4453125,
          0.05078125,
          -0.01171875,
          -0.12109375,
          0.01171875,
          0.12109375,
          0.23828125,
          0.28515625,
          0.08203125,
          -0.26171875,
          0.34765625,
          -0.4296875,
          -0.37109375,
          -0.16015625,
          0.27734375,
          0.17578125,
          -0.33984375,
          0.33984375,
          -0.09765625,
          0.26953125,
          -0.4140625,
          0.39453125,
          0.15234375,
          0.01953125,
          0.41015625,
          -0.40234375,
          -0.41796875,
          0.03515625,
          -0.328125,
          0.07421875,
          0.18359375,
          0.05859375,
          0.22265625,
          -0.37109375,
          -0.07421875,
          -0.17578125,
          0.31640625,
          0.15234375,
          0.11328125,
          0.16796875,
          0.3203125,
          -0.01171875,
          -0.09765625,
          -0.24609375,
          0.21484375,
          -0.375,
          0.26953125,
          -0.26171875,
          -0.39453125,
          -0.19140625,
          0.21484375,
          0.18359375,
          0.23046875,
          -0.11328125,
          0.23046875,
          -0.08984375,
          0.01171875,
          0.37109375,
          -0.1875,
          -0.078125,
          0.1015625,
          -0.21875,
          0.078125,
          0.37109375,
          -0.3125,
          0.0625,
          -0.109375,
          -0.4296875,
          -0.40625,
          -0.0234375,
          0.40234375,
          0.05078125,
          -0.2265625,
          0.25,
          0.26953125,
          -0.0859375,
          0,
          0.2109375,
          -0.3203125,
          -0.171875,
          -0.265625,
          0.24609375,
          -0.0625,
          0.33984375,
          0.3125,
          -0.046875,
          0.109375,
          -0.078125,
          0.21875,
          0.0625,
          0.0703125,
          -0.421875,
          0.01171875,
          -0.0390625,
          0.21875,
          0.109375,
          -0.328125,
          -0.09375,
          -0.1171875,
          -0.296875,
          0.1171875,
          0.0625,
          -0.46875,
          -0.4609375,
          -0.046875,
          -0.2578125,
          -0.453125,
          -0.3515625,
          0.1953125,
          -0.4453125,
          -0.40625,
          -0.2421875,
          -0.359375,
          0.28515625,
          -0.0703125,
          -0.171875,
          0.0234375,
          -0.2109375,
          0.0234375,
          0.22265625,
          -0.0390625,
          0.22265625,
          -0.46875,
          -0.09765625,
          0.41015625,
          -0.12109375,
          -0.22265625,
          0.20703125,
          -0.01953125,
          -0.26953125,
          -0.07421875,
          0.26953125,
          0.37890625,
          -0.29296875,
          -0.3984375,
          0.40234375,
          0.41015625,
          -0.26953125,
          0.37890625,
          -0.18359375,
          -0.21484375,
          0.26171875,
          -0.24609375,
          -0.04296875,
          -0.17578125,
          -0.3125,
          -0.30859375,
          0.25390625,
          0.16796875,
          -0.07421875,
          -0.01171875,
          0.41015625,
          -0.4140625,
          -0.41796875,
          0.15234375,
          0.22265625,
          -0.33984375,
          0.08203125,
          -0.2734375,
          -0.33203125,
          0.30078125,
          0.23828125,
          -0.1328125,
          -0.30078125,
          0.40234375,
          0.36328125,
          0.31640625,
          -0.4453125,
          0.34765625,
          0.08984375,
          0.27734375,
          0.01171875,
          -0.12890625,
          0.12109375,
          0.12890625,
          -0.14453125,
          -0.0859375,
          -0.19140625,
          -0.46875,
          -0.23828125,
          0.12890625,
          0.26171875,
          0.28515625,
          0.28515625,
          0.41015625,
          -0.3671875,
          -0.12890625
         ],
         "xaxis": "x",
         "y": [
          -0.79296875,
          0.49609375,
          -0.52734375,
          -0.01953125,
          0.10546875,
          -0.26953125,
          -0.24609375,
          -0.41015625,
          -0.44140625,
          0.21484375,
          0.83203125,
          -0.12890625,
          -0.61328125,
          0.28515625,
          -1.01171875,
          -0.32421875,
          -0.37109375,
          0.05078125,
          -0.37109375,
          -0.54296875,
          0.06640625,
          -0.11328125,
          0.15234375,
          0.12890625,
          0.87109375,
          -0.65234375,
          -0.03515625,
          0.68359375,
          0.84765625,
          0.18359375,
          -0.12109375,
          -0.15234375,
          -0.19921875,
          -0.57421875,
          -0.41796875,
          0.03515625,
          -0.06640625,
          0.55859375,
          0.08203125,
          0.01953125,
          -0.30859375,
          -0.05078125,
          0.15234375,
          -0.02734375,
          -0.04296875,
          -0.46484375,
          0.48828125,
          -0.29296875,
          0.01953125,
          -0.53515625,
          0.52734375,
          0.34765625,
          -0.54296875,
          -0.09765625,
          -0.16796875,
          -0.20703125,
          0.82421875,
          -0.11328125,
          0.69921875,
          0.40234375,
          0.19921875,
          0.25390625,
          0.62109375,
          0.09765625,
          0.01171875,
          -0.04296875,
          -0.79296875,
          -0.09765625,
          -0.05859375,
          -0.07421875,
          0.17578125,
          -0.14453125,
          0.26171875,
          0.24609375,
          0.53515625,
          -0.05078125,
          0.07421875,
          -0.33203125,
          0.04296875,
          0.35546875,
          0.21484375,
          0.25390625,
          0.72265625,
          0.66796875,
          0.54296875,
          -0.70703125,
          -0.46484375,
          -0.18359375,
          -0.03515625,
          -0.16796875,
          0.03515625,
          -0.05859375,
          -0.43359375,
          0.09765625,
          -0.15234375,
          0.12109375,
          -0.48046875,
          -0.34765625,
          -0.23828125,
          -0.35546875,
          0.50390625,
          -0.96484375,
          0.05078125,
          -0.64453125,
          -1.15234375,
          -0.24609375,
          0.76171875,
          0.02734375,
          0.32421875,
          0.25390625,
          0.00390625,
          -0.20703125,
          -0.27734375,
          0.16796875,
          0.26953125,
          0.35546875,
          0.08203125,
          0.36328125,
          0.56640625,
          -0.25390625,
          -0.69921875,
          0.09765625,
          0.19921875,
          0.66796875,
          0.08203125,
          0.43359375,
          0.04296875,
          0.88671875,
          -0.05859375,
          0.08984375,
          -0.44921875,
          -0.20703125,
          -0.47265625,
          -0.51953125,
          0.07421875,
          -0.00390625,
          -0.12109375,
          0.01171875,
          0.12109375,
          0.52734375,
          0.33203125,
          0.08203125,
          -0.26171875,
          0.37890625,
          -0.57421875,
          -0.43359375,
          -0.16015625,
          0.27734375,
          0.32421875,
          -0.46484375,
          0.43359375,
          -0.09765625,
          0.26953125,
          -0.51953125,
          0.86328125,
          0.12109375,
          0.01953125,
          0.52734375,
          -0.52734375,
          -0.51953125,
          0.01953125,
          -0.60546875,
          0.07421875,
          0.35546875,
          0.05859375,
          0.22265625,
          -0.43359375,
          -0.07421875,
          -0.16015625,
          0.38671875,
          0.15234375,
          0.11328125,
          0.18359375,
          0.32421875,
          -0.01171875,
          -0.09765625,
          -0.24609375,
          0.21484375,
          -0.58984375,
          0.48828125,
          -0.27734375,
          -0.66015625,
          -0.22265625,
          0.19921875,
          0.19140625,
          0.23046875,
          -0.11328125,
          0.37109375,
          -0.08984375,
          0.01171875,
          0.41015625,
          -0.28515625,
          -0.109375,
          0.1015625,
          -0.21875,
          0.0703125,
          0.421875,
          -0.34375,
          0.0625,
          -0.1796875,
          -0.5546875,
          -0.46875,
          -0.0234375,
          0.4375,
          0.0625,
          -0.2578125,
          0.25,
          0.4609375,
          -0.1171875,
          0,
          0.2109375,
          -0.3515625,
          -0.1640625,
          -0.3984375,
          0.25,
          -0.0625,
          0.5703125,
          0.328125,
          0.0078125,
          0.125,
          -0.109375,
          0.21875,
          0.046875,
          0.0703125,
          -0.5390625,
          0.0390625,
          -0.0390625,
          0.34375,
          0.2109375,
          -0.359375,
          -0.09375,
          -0.1484375,
          -0.3359375,
          0.1171875,
          0.1953125,
          -0.9453125,
          -0.5703125,
          -0.046875,
          -0.2578125,
          -0.71875,
          -0.4609375,
          0.234375,
          -0.7421875,
          -0.5703125,
          -0.2890625,
          -0.4140625,
          0.3359375,
          -0.0703125,
          -0.28125,
          0.0625,
          -0.2265625,
          0.0078125,
          0.234375,
          -0.015625,
          0.421875,
          -0.578125,
          -0.09765625,
          0.76171875,
          -0.13671875,
          -0.23046875,
          0.45703125,
          -0.01953125,
          -0.26953125,
          -0.07421875,
          0.36328125,
          0.72265625,
          -0.29296875,
          -0.51171875,
          0.63671875,
          0.80078125,
          -0.32421875,
          0.72265625,
          -0.18359375,
          -0.21484375,
          0.26953125,
          -0.26171875,
          -0.00390625,
          -0.17578125,
          -0.51953125,
          -0.33984375,
          0.33203125,
          0.16796875,
          -0.13671875,
          -0.01171875,
          0.53515625,
          -0.57421875,
          -0.50390625,
          0.33984375,
          0.27734375,
          -0.43359375,
          0.10546875,
          -0.43359375,
          -0.33203125,
          0.58203125,
          0.23828125,
          -0.16796875,
          -0.31640625,
          0.58984375,
          0.51171875,
          0.59765625,
          -0.56640625,
          0.34765625,
          0.08984375,
          0.33984375,
          0.01171875,
          -0.12890625,
          0.19921875,
          0.26953125,
          -0.14453125,
          -0.10546875,
          -0.19140625,
          -0.98828125,
          -0.33203125,
          0.12890625,
          0.38671875,
          0.29296875,
          0.46484375,
          0.71484375,
          -0.38671875,
          -0.14453125
         ],
         "yaxis": "y"
        }
       ],
       "layout": {
        "height": 400,
        "legend": {
         "tracegroupgap": 0
        },
        "template": {
         "data": {
          "bar": [
           {
            "error_x": {
             "color": "#2a3f5f"
            },
            "error_y": {
             "color": "#2a3f5f"
            },
            "marker": {
             "line": {
              "color": "#E5ECF6",
              "width": 0.5
             },
             "pattern": {
              "fillmode": "overlay",
              "size": 10,
              "solidity": 0.2
             }
            },
            "type": "bar"
           }
          ],
          "barpolar": [
           {
            "marker": {
             "line": {
              "color": "#E5ECF6",
              "width": 0.5
             },
             "pattern": {
              "fillmode": "overlay",
              "size": 10,
              "solidity": 0.2
             }
            },
            "type": "barpolar"
           }
          ],
          "carpet": [
           {
            "aaxis": {
             "endlinecolor": "#2a3f5f",
             "gridcolor": "white",
             "linecolor": "white",
             "minorgridcolor": "white",
             "startlinecolor": "#2a3f5f"
            },
            "baxis": {
             "endlinecolor": "#2a3f5f",
             "gridcolor": "white",
             "linecolor": "white",
             "minorgridcolor": "white",
             "startlinecolor": "#2a3f5f"
            },
            "type": "carpet"
           }
          ],
          "choropleth": [
           {
            "colorbar": {
             "outlinewidth": 0,
             "ticks": ""
            },
            "type": "choropleth"
           }
          ],
          "contour": [
           {
            "colorbar": {
             "outlinewidth": 0,
             "ticks": ""
            },
            "colorscale": [
             [
              0,
              "#0d0887"
             ],
             [
              0.1111111111111111,
              "#46039f"
             ],
             [
              0.2222222222222222,
              "#7201a8"
             ],
             [
              0.3333333333333333,
              "#9c179e"
             ],
             [
              0.4444444444444444,
              "#bd3786"
             ],
             [
              0.5555555555555556,
              "#d8576b"
             ],
             [
              0.6666666666666666,
              "#ed7953"
             ],
             [
              0.7777777777777778,
              "#fb9f3a"
             ],
             [
              0.8888888888888888,
              "#fdca26"
             ],
             [
              1,
              "#f0f921"
             ]
            ],
            "type": "contour"
           }
          ],
          "contourcarpet": [
           {
            "colorbar": {
             "outlinewidth": 0,
             "ticks": ""
            },
            "type": "contourcarpet"
           }
          ],
          "heatmap": [
           {
            "colorbar": {
             "outlinewidth": 0,
             "ticks": ""
            },
            "colorscale": [
             [
              0,
              "#0d0887"
             ],
             [
              0.1111111111111111,
              "#46039f"
             ],
             [
              0.2222222222222222,
              "#7201a8"
             ],
             [
              0.3333333333333333,
              "#9c179e"
             ],
             [
              0.4444444444444444,
              "#bd3786"
             ],
             [
              0.5555555555555556,
              "#d8576b"
             ],
             [
              0.6666666666666666,
              "#ed7953"
             ],
             [
              0.7777777777777778,
              "#fb9f3a"
             ],
             [
              0.8888888888888888,
              "#fdca26"
             ],
             [
              1,
              "#f0f921"
             ]
            ],
            "type": "heatmap"
           }
          ],
          "heatmapgl": [
           {
            "colorbar": {
             "outlinewidth": 0,
             "ticks": ""
            },
            "colorscale": [
             [
              0,
              "#0d0887"
             ],
             [
              0.1111111111111111,
              "#46039f"
             ],
             [
              0.2222222222222222,
              "#7201a8"
             ],
             [
              0.3333333333333333,
              "#9c179e"
             ],
             [
              0.4444444444444444,
              "#bd3786"
             ],
             [
              0.5555555555555556,
              "#d8576b"
             ],
             [
              0.6666666666666666,
              "#ed7953"
             ],
             [
              0.7777777777777778,
              "#fb9f3a"
             ],
             [
              0.8888888888888888,
              "#fdca26"
             ],
             [
              1,
              "#f0f921"
             ]
            ],
            "type": "heatmapgl"
           }
          ],
          "histogram": [
           {
            "marker": {
             "pattern": {
              "fillmode": "overlay",
              "size": 10,
              "solidity": 0.2
             }
            },
            "type": "histogram"
           }
          ],
          "histogram2d": [
           {
            "colorbar": {
             "outlinewidth": 0,
             "ticks": ""
            },
            "colorscale": [
             [
              0,
              "#0d0887"
             ],
             [
              0.1111111111111111,
              "#46039f"
             ],
             [
              0.2222222222222222,
              "#7201a8"
             ],
             [
              0.3333333333333333,
              "#9c179e"
             ],
             [
              0.4444444444444444,
              "#bd3786"
             ],
             [
              0.5555555555555556,
              "#d8576b"
             ],
             [
              0.6666666666666666,
              "#ed7953"
             ],
             [
              0.7777777777777778,
              "#fb9f3a"
             ],
             [
              0.8888888888888888,
              "#fdca26"
             ],
             [
              1,
              "#f0f921"
             ]
            ],
            "type": "histogram2d"
           }
          ],
          "histogram2dcontour": [
           {
            "colorbar": {
             "outlinewidth": 0,
             "ticks": ""
            },
            "colorscale": [
             [
              0,
              "#0d0887"
             ],
             [
              0.1111111111111111,
              "#46039f"
             ],
             [
              0.2222222222222222,
              "#7201a8"
             ],
             [
              0.3333333333333333,
              "#9c179e"
             ],
             [
              0.4444444444444444,
              "#bd3786"
             ],
             [
              0.5555555555555556,
              "#d8576b"
             ],
             [
              0.6666666666666666,
              "#ed7953"
             ],
             [
              0.7777777777777778,
              "#fb9f3a"
             ],
             [
              0.8888888888888888,
              "#fdca26"
             ],
             [
              1,
              "#f0f921"
             ]
            ],
            "type": "histogram2dcontour"
           }
          ],
          "mesh3d": [
           {
            "colorbar": {
             "outlinewidth": 0,
             "ticks": ""
            },
            "type": "mesh3d"
           }
          ],
          "parcoords": [
           {
            "line": {
             "colorbar": {
              "outlinewidth": 0,
              "ticks": ""
             }
            },
            "type": "parcoords"
           }
          ],
          "pie": [
           {
            "automargin": true,
            "type": "pie"
           }
          ],
          "scatter": [
           {
            "fillpattern": {
             "fillmode": "overlay",
             "size": 10,
             "solidity": 0.2
            },
            "type": "scatter"
           }
          ],
          "scatter3d": [
           {
            "line": {
             "colorbar": {
              "outlinewidth": 0,
              "ticks": ""
             }
            },
            "marker": {
             "colorbar": {
              "outlinewidth": 0,
              "ticks": ""
             }
            },
            "type": "scatter3d"
           }
          ],
          "scattercarpet": [
           {
            "marker": {
             "colorbar": {
              "outlinewidth": 0,
              "ticks": ""
             }
            },
            "type": "scattercarpet"
           }
          ],
          "scattergeo": [
           {
            "marker": {
             "colorbar": {
              "outlinewidth": 0,
              "ticks": ""
             }
            },
            "type": "scattergeo"
           }
          ],
          "scattergl": [
           {
            "marker": {
             "colorbar": {
              "outlinewidth": 0,
              "ticks": ""
             }
            },
            "type": "scattergl"
           }
          ],
          "scattermapbox": [
           {
            "marker": {
             "colorbar": {
              "outlinewidth": 0,
              "ticks": ""
             }
            },
            "type": "scattermapbox"
           }
          ],
          "scatterpolar": [
           {
            "marker": {
             "colorbar": {
              "outlinewidth": 0,
              "ticks": ""
             }
            },
            "type": "scatterpolar"
           }
          ],
          "scatterpolargl": [
           {
            "marker": {
             "colorbar": {
              "outlinewidth": 0,
              "ticks": ""
             }
            },
            "type": "scatterpolargl"
           }
          ],
          "scatterternary": [
           {
            "marker": {
             "colorbar": {
              "outlinewidth": 0,
              "ticks": ""
             }
            },
            "type": "scatterternary"
           }
          ],
          "surface": [
           {
            "colorbar": {
             "outlinewidth": 0,
             "ticks": ""
            },
            "colorscale": [
             [
              0,
              "#0d0887"
             ],
             [
              0.1111111111111111,
              "#46039f"
             ],
             [
              0.2222222222222222,
              "#7201a8"
             ],
             [
              0.3333333333333333,
              "#9c179e"
             ],
             [
              0.4444444444444444,
              "#bd3786"
             ],
             [
              0.5555555555555556,
              "#d8576b"
             ],
             [
              0.6666666666666666,
              "#ed7953"
             ],
             [
              0.7777777777777778,
              "#fb9f3a"
             ],
             [
              0.8888888888888888,
              "#fdca26"
             ],
             [
              1,
              "#f0f921"
             ]
            ],
            "type": "surface"
           }
          ],
          "table": [
           {
            "cells": {
             "fill": {
              "color": "#EBF0F8"
             },
             "line": {
              "color": "white"
             }
            },
            "header": {
             "fill": {
              "color": "#C8D4E3"
             },
             "line": {
              "color": "white"
             }
            },
            "type": "table"
           }
          ]
         },
         "layout": {
          "annotationdefaults": {
           "arrowcolor": "#2a3f5f",
           "arrowhead": 0,
           "arrowwidth": 1
          },
          "autotypenumbers": "strict",
          "coloraxis": {
           "colorbar": {
            "outlinewidth": 0,
            "ticks": ""
           }
          },
          "colorscale": {
           "diverging": [
            [
             0,
             "#8e0152"
            ],
            [
             0.1,
             "#c51b7d"
            ],
            [
             0.2,
             "#de77ae"
            ],
            [
             0.3,
             "#f1b6da"
            ],
            [
             0.4,
             "#fde0ef"
            ],
            [
             0.5,
             "#f7f7f7"
            ],
            [
             0.6,
             "#e6f5d0"
            ],
            [
             0.7,
             "#b8e186"
            ],
            [
             0.8,
             "#7fbc41"
            ],
            [
             0.9,
             "#4d9221"
            ],
            [
             1,
             "#276419"
            ]
           ],
           "sequential": [
            [
             0,
             "#0d0887"
            ],
            [
             0.1111111111111111,
             "#46039f"
            ],
            [
             0.2222222222222222,
             "#7201a8"
            ],
            [
             0.3333333333333333,
             "#9c179e"
            ],
            [
             0.4444444444444444,
             "#bd3786"
            ],
            [
             0.5555555555555556,
             "#d8576b"
            ],
            [
             0.6666666666666666,
             "#ed7953"
            ],
            [
             0.7777777777777778,
             "#fb9f3a"
            ],
            [
             0.8888888888888888,
             "#fdca26"
            ],
            [
             1,
             "#f0f921"
            ]
           ],
           "sequentialminus": [
            [
             0,
             "#0d0887"
            ],
            [
             0.1111111111111111,
             "#46039f"
            ],
            [
             0.2222222222222222,
             "#7201a8"
            ],
            [
             0.3333333333333333,
             "#9c179e"
            ],
            [
             0.4444444444444444,
             "#bd3786"
            ],
            [
             0.5555555555555556,
             "#d8576b"
            ],
            [
             0.6666666666666666,
             "#ed7953"
            ],
            [
             0.7777777777777778,
             "#fb9f3a"
            ],
            [
             0.8888888888888888,
             "#fdca26"
            ],
            [
             1,
             "#f0f921"
            ]
           ]
          },
          "colorway": [
           "#636efa",
           "#EF553B",
           "#00cc96",
           "#ab63fa",
           "#FFA15A",
           "#19d3f3",
           "#FF6692",
           "#B6E880",
           "#FF97FF",
           "#FECB52"
          ],
          "font": {
           "color": "#2a3f5f"
          },
          "geo": {
           "bgcolor": "white",
           "lakecolor": "white",
           "landcolor": "#E5ECF6",
           "showlakes": true,
           "showland": true,
           "subunitcolor": "white"
          },
          "hoverlabel": {
           "align": "left"
          },
          "hovermode": "closest",
          "mapbox": {
           "style": "light"
          },
          "paper_bgcolor": "white",
          "plot_bgcolor": "#E5ECF6",
          "polar": {
           "angularaxis": {
            "gridcolor": "white",
            "linecolor": "white",
            "ticks": ""
           },
           "bgcolor": "#E5ECF6",
           "radialaxis": {
            "gridcolor": "white",
            "linecolor": "white",
            "ticks": ""
           }
          },
          "scene": {
           "xaxis": {
            "backgroundcolor": "#E5ECF6",
            "gridcolor": "white",
            "gridwidth": 2,
            "linecolor": "white",
            "showbackground": true,
            "ticks": "",
            "zerolinecolor": "white"
           },
           "yaxis": {
            "backgroundcolor": "#E5ECF6",
            "gridcolor": "white",
            "gridwidth": 2,
            "linecolor": "white",
            "showbackground": true,
            "ticks": "",
            "zerolinecolor": "white"
           },
           "zaxis": {
            "backgroundcolor": "#E5ECF6",
            "gridcolor": "white",
            "gridwidth": 2,
            "linecolor": "white",
            "showbackground": true,
            "ticks": "",
            "zerolinecolor": "white"
           }
          },
          "shapedefaults": {
           "line": {
            "color": "#2a3f5f"
           }
          },
          "ternary": {
           "aaxis": {
            "gridcolor": "white",
            "linecolor": "white",
            "ticks": ""
           },
           "baxis": {
            "gridcolor": "white",
            "linecolor": "white",
            "ticks": ""
           },
           "bgcolor": "#E5ECF6",
           "caxis": {
            "gridcolor": "white",
            "linecolor": "white",
            "ticks": ""
           }
          },
          "title": {
           "x": 0.05
          },
          "xaxis": {
           "automargin": true,
           "gridcolor": "white",
           "linecolor": "white",
           "ticks": "",
           "title": {
            "standoff": 15
           },
           "zerolinecolor": "white",
           "zerolinewidth": 2
          },
          "yaxis": {
           "automargin": true,
           "gridcolor": "white",
           "linecolor": "white",
           "ticks": "",
           "title": {
            "standoff": 15
           },
           "zerolinecolor": "white",
           "zerolinewidth": 2
          }
         }
        },
        "title": {
         "text": "AMS vs Shifted, RMSE=0.15, SNR=23.31"
        },
        "width": 400,
        "xaxis": {
         "anchor": "y",
         "domain": [
          0,
          1
         ],
         "title": {
          "text": "RTL"
         }
        },
        "yaxis": {
         "anchor": "x",
         "domain": [
          0,
          1
         ],
         "title": {
          "text": "AMS"
         }
        }
       }
      },
      "text/html": [
       "<div>                            <div id=\"e73f4017-cef8-47f6-af63-14c91b2305e8\" class=\"plotly-graph-div\" style=\"height:400px; width:400px;\"></div>            <script type=\"text/javascript\">                require([\"plotly\"], function(Plotly) {                    window.PLOTLYENV=window.PLOTLYENV || {};                                    if (document.getElementById(\"e73f4017-cef8-47f6-af63-14c91b2305e8\")) {                    Plotly.newPlot(                        \"e73f4017-cef8-47f6-af63-14c91b2305e8\",                        [{\"hovertemplate\":\"RTL=%{x}\\u003cbr\\u003eAMS=%{y}\\u003cextra\\u003e\\u003c\\u002fextra\\u003e\",\"legendgroup\":\"\",\"marker\":{\"color\":\"#636efa\",\"symbol\":\"circle\"},\"mode\":\"markers\",\"name\":\"\",\"orientation\":\"v\",\"showlegend\":false,\"x\":[-0.4453125,0.33203125,-0.42578125,-0.04296875,0.08984375,-0.25390625,-0.24609375,-0.328125,-0.35546875,0.21484375,0.41015625,-0.12890625,-0.46875,0.17578125,-0.46875,-0.2578125,-0.36328125,0.05078125,-0.3359375,-0.4296875,0.0703125,-0.11328125,0.15234375,0.12890625,0.37890625,-0.3359375,-0.03515625,0.41015625,0.39453125,0.18359375,-0.12109375,-0.15234375,-0.19921875,-0.37109375,-0.40234375,0.06640625,-0.06640625,0.41015625,0.08203125,0.01171875,-0.30078125,-0.00390625,0.14453125,0.01953125,-0.02734375,-0.26171875,0.41015625,-0.22265625,-0.00390625,-0.40625,0.36328125,0.33984375,-0.37109375,-0.06640625,-0.16796875,-0.16015625,0.37890625,-0.11328125,0.26953125,0.30859375,0.05078125,0.24609375,0.37890625,0.09765625,0.01171875,-0.12109375,-0.46875,-0.10546875,-0.05859375,-0.07421875,0.16015625,-0.14453125,0.19921875,0.2265625,0.28515625,-0.015625,0.07421875,-0.28125,0.04296875,0.29296875,0.15234375,0.234375,0.41015625,0.38671875,0.39453125,-0.453125,-0.30859375,-0.18359375,-0.03515625,-0.140625,0.01171875,-0.05859375,-0.43359375,0.09765625,-0.12109375,0.12109375,-0.4296875,-0.22265625,-0.23828125,-0.18359375,0.34765625,-0.46875,0.0546875,-0.46875,-0.46875,-0.1171875,0.40234375,0.02734375,0.24609375,0.25390625,0.00390625,-0.20703125,-0.27734375,0.01171875,0.26953125,0.16796875,0.10546875,0.26953125,0.37890625,-0.23046875,-0.453125,0.09765625,0.19140625,0.41015625,0.06640625,0.37109375,0.06640625,0.37890625,-0.0546875,0.08984375,-0.3984375,-0.1953125,-0.41796875,-0.4453125,0.05078125,-0.01171875,-0.12109375,0.01171875,0.12109375,0.23828125,0.28515625,0.08203125,-0.26171875,0.34765625,-0.4296875,-0.37109375,-0.16015625,0.27734375,0.17578125,-0.33984375,0.33984375,-0.09765625,0.26953125,-0.4140625,0.39453125,0.15234375,0.01953125,0.41015625,-0.40234375,-0.41796875,0.03515625,-0.328125,0.07421875,0.18359375,0.05859375,0.22265625,-0.37109375,-0.07421875,-0.17578125,0.31640625,0.15234375,0.11328125,0.16796875,0.3203125,-0.01171875,-0.09765625,-0.24609375,0.21484375,-0.375,0.26953125,-0.26171875,-0.39453125,-0.19140625,0.21484375,0.18359375,0.23046875,-0.11328125,0.23046875,-0.08984375,0.01171875,0.37109375,-0.1875,-0.078125,0.1015625,-0.21875,0.078125,0.37109375,-0.3125,0.0625,-0.109375,-0.4296875,-0.40625,-0.0234375,0.40234375,0.05078125,-0.2265625,0.25,0.26953125,-0.0859375,0.0,0.2109375,-0.3203125,-0.171875,-0.265625,0.24609375,-0.0625,0.33984375,0.3125,-0.046875,0.109375,-0.078125,0.21875,0.0625,0.0703125,-0.421875,0.01171875,-0.0390625,0.21875,0.109375,-0.328125,-0.09375,-0.1171875,-0.296875,0.1171875,0.0625,-0.46875,-0.4609375,-0.046875,-0.2578125,-0.453125,-0.3515625,0.1953125,-0.4453125,-0.40625,-0.2421875,-0.359375,0.28515625,-0.0703125,-0.171875,0.0234375,-0.2109375,0.0234375,0.22265625,-0.0390625,0.22265625,-0.46875,-0.09765625,0.41015625,-0.12109375,-0.22265625,0.20703125,-0.01953125,-0.26953125,-0.07421875,0.26953125,0.37890625,-0.29296875,-0.3984375,0.40234375,0.41015625,-0.26953125,0.37890625,-0.18359375,-0.21484375,0.26171875,-0.24609375,-0.04296875,-0.17578125,-0.3125,-0.30859375,0.25390625,0.16796875,-0.07421875,-0.01171875,0.41015625,-0.4140625,-0.41796875,0.15234375,0.22265625,-0.33984375,0.08203125,-0.2734375,-0.33203125,0.30078125,0.23828125,-0.1328125,-0.30078125,0.40234375,0.36328125,0.31640625,-0.4453125,0.34765625,0.08984375,0.27734375,0.01171875,-0.12890625,0.12109375,0.12890625,-0.14453125,-0.0859375,-0.19140625,-0.46875,-0.23828125,0.12890625,0.26171875,0.28515625,0.28515625,0.41015625,-0.3671875,-0.12890625],\"xaxis\":\"x\",\"y\":[-0.79296875,0.49609375,-0.52734375,-0.01953125,0.10546875,-0.26953125,-0.24609375,-0.41015625,-0.44140625,0.21484375,0.83203125,-0.12890625,-0.61328125,0.28515625,-1.01171875,-0.32421875,-0.37109375,0.05078125,-0.37109375,-0.54296875,0.06640625,-0.11328125,0.15234375,0.12890625,0.87109375,-0.65234375,-0.03515625,0.68359375,0.84765625,0.18359375,-0.12109375,-0.15234375,-0.19921875,-0.57421875,-0.41796875,0.03515625,-0.06640625,0.55859375,0.08203125,0.01953125,-0.30859375,-0.05078125,0.15234375,-0.02734375,-0.04296875,-0.46484375,0.48828125,-0.29296875,0.01953125,-0.53515625,0.52734375,0.34765625,-0.54296875,-0.09765625,-0.16796875,-0.20703125,0.82421875,-0.11328125,0.69921875,0.40234375,0.19921875,0.25390625,0.62109375,0.09765625,0.01171875,-0.04296875,-0.79296875,-0.09765625,-0.05859375,-0.07421875,0.17578125,-0.14453125,0.26171875,0.24609375,0.53515625,-0.05078125,0.07421875,-0.33203125,0.04296875,0.35546875,0.21484375,0.25390625,0.72265625,0.66796875,0.54296875,-0.70703125,-0.46484375,-0.18359375,-0.03515625,-0.16796875,0.03515625,-0.05859375,-0.43359375,0.09765625,-0.15234375,0.12109375,-0.48046875,-0.34765625,-0.23828125,-0.35546875,0.50390625,-0.96484375,0.05078125,-0.64453125,-1.15234375,-0.24609375,0.76171875,0.02734375,0.32421875,0.25390625,0.00390625,-0.20703125,-0.27734375,0.16796875,0.26953125,0.35546875,0.08203125,0.36328125,0.56640625,-0.25390625,-0.69921875,0.09765625,0.19921875,0.66796875,0.08203125,0.43359375,0.04296875,0.88671875,-0.05859375,0.08984375,-0.44921875,-0.20703125,-0.47265625,-0.51953125,0.07421875,-0.00390625,-0.12109375,0.01171875,0.12109375,0.52734375,0.33203125,0.08203125,-0.26171875,0.37890625,-0.57421875,-0.43359375,-0.16015625,0.27734375,0.32421875,-0.46484375,0.43359375,-0.09765625,0.26953125,-0.51953125,0.86328125,0.12109375,0.01953125,0.52734375,-0.52734375,-0.51953125,0.01953125,-0.60546875,0.07421875,0.35546875,0.05859375,0.22265625,-0.43359375,-0.07421875,-0.16015625,0.38671875,0.15234375,0.11328125,0.18359375,0.32421875,-0.01171875,-0.09765625,-0.24609375,0.21484375,-0.58984375,0.48828125,-0.27734375,-0.66015625,-0.22265625,0.19921875,0.19140625,0.23046875,-0.11328125,0.37109375,-0.08984375,0.01171875,0.41015625,-0.28515625,-0.109375,0.1015625,-0.21875,0.0703125,0.421875,-0.34375,0.0625,-0.1796875,-0.5546875,-0.46875,-0.0234375,0.4375,0.0625,-0.2578125,0.25,0.4609375,-0.1171875,0.0,0.2109375,-0.3515625,-0.1640625,-0.3984375,0.25,-0.0625,0.5703125,0.328125,0.0078125,0.125,-0.109375,0.21875,0.046875,0.0703125,-0.5390625,0.0390625,-0.0390625,0.34375,0.2109375,-0.359375,-0.09375,-0.1484375,-0.3359375,0.1171875,0.1953125,-0.9453125,-0.5703125,-0.046875,-0.2578125,-0.71875,-0.4609375,0.234375,-0.7421875,-0.5703125,-0.2890625,-0.4140625,0.3359375,-0.0703125,-0.28125,0.0625,-0.2265625,0.0078125,0.234375,-0.015625,0.421875,-0.578125,-0.09765625,0.76171875,-0.13671875,-0.23046875,0.45703125,-0.01953125,-0.26953125,-0.07421875,0.36328125,0.72265625,-0.29296875,-0.51171875,0.63671875,0.80078125,-0.32421875,0.72265625,-0.18359375,-0.21484375,0.26953125,-0.26171875,-0.00390625,-0.17578125,-0.51953125,-0.33984375,0.33203125,0.16796875,-0.13671875,-0.01171875,0.53515625,-0.57421875,-0.50390625,0.33984375,0.27734375,-0.43359375,0.10546875,-0.43359375,-0.33203125,0.58203125,0.23828125,-0.16796875,-0.31640625,0.58984375,0.51171875,0.59765625,-0.56640625,0.34765625,0.08984375,0.33984375,0.01171875,-0.12890625,0.19921875,0.26953125,-0.14453125,-0.10546875,-0.19140625,-0.98828125,-0.33203125,0.12890625,0.38671875,0.29296875,0.46484375,0.71484375,-0.38671875,-0.14453125],\"yaxis\":\"y\",\"type\":\"scatter\"}],                        {\"template\":{\"data\":{\"histogram2dcontour\":[{\"type\":\"histogram2dcontour\",\"colorbar\":{\"outlinewidth\":0,\"ticks\":\"\"},\"colorscale\":[[0.0,\"#0d0887\"],[0.1111111111111111,\"#46039f\"],[0.2222222222222222,\"#7201a8\"],[0.3333333333333333,\"#9c179e\"],[0.4444444444444444,\"#bd3786\"],[0.5555555555555556,\"#d8576b\"],[0.6666666666666666,\"#ed7953\"],[0.7777777777777778,\"#fb9f3a\"],[0.8888888888888888,\"#fdca26\"],[1.0,\"#f0f921\"]]}],\"choropleth\":[{\"type\":\"choropleth\",\"colorbar\":{\"outlinewidth\":0,\"ticks\":\"\"}}],\"histogram2d\":[{\"type\":\"histogram2d\",\"colorbar\":{\"outlinewidth\":0,\"ticks\":\"\"},\"colorscale\":[[0.0,\"#0d0887\"],[0.1111111111111111,\"#46039f\"],[0.2222222222222222,\"#7201a8\"],[0.3333333333333333,\"#9c179e\"],[0.4444444444444444,\"#bd3786\"],[0.5555555555555556,\"#d8576b\"],[0.6666666666666666,\"#ed7953\"],[0.7777777777777778,\"#fb9f3a\"],[0.8888888888888888,\"#fdca26\"],[1.0,\"#f0f921\"]]}],\"heatmap\":[{\"type\":\"heatmap\",\"colorbar\":{\"outlinewidth\":0,\"ticks\":\"\"},\"colorscale\":[[0.0,\"#0d0887\"],[0.1111111111111111,\"#46039f\"],[0.2222222222222222,\"#7201a8\"],[0.3333333333333333,\"#9c179e\"],[0.4444444444444444,\"#bd3786\"],[0.5555555555555556,\"#d8576b\"],[0.6666666666666666,\"#ed7953\"],[0.7777777777777778,\"#fb9f3a\"],[0.8888888888888888,\"#fdca26\"],[1.0,\"#f0f921\"]]}],\"heatmapgl\":[{\"type\":\"heatmapgl\",\"colorbar\":{\"outlinewidth\":0,\"ticks\":\"\"},\"colorscale\":[[0.0,\"#0d0887\"],[0.1111111111111111,\"#46039f\"],[0.2222222222222222,\"#7201a8\"],[0.3333333333333333,\"#9c179e\"],[0.4444444444444444,\"#bd3786\"],[0.5555555555555556,\"#d8576b\"],[0.6666666666666666,\"#ed7953\"],[0.7777777777777778,\"#fb9f3a\"],[0.8888888888888888,\"#fdca26\"],[1.0,\"#f0f921\"]]}],\"contourcarpet\":[{\"type\":\"contourcarpet\",\"colorbar\":{\"outlinewidth\":0,\"ticks\":\"\"}}],\"contour\":[{\"type\":\"contour\",\"colorbar\":{\"outlinewidth\":0,\"ticks\":\"\"},\"colorscale\":[[0.0,\"#0d0887\"],[0.1111111111111111,\"#46039f\"],[0.2222222222222222,\"#7201a8\"],[0.3333333333333333,\"#9c179e\"],[0.4444444444444444,\"#bd3786\"],[0.5555555555555556,\"#d8576b\"],[0.6666666666666666,\"#ed7953\"],[0.7777777777777778,\"#fb9f3a\"],[0.8888888888888888,\"#fdca26\"],[1.0,\"#f0f921\"]]}],\"surface\":[{\"type\":\"surface\",\"colorbar\":{\"outlinewidth\":0,\"ticks\":\"\"},\"colorscale\":[[0.0,\"#0d0887\"],[0.1111111111111111,\"#46039f\"],[0.2222222222222222,\"#7201a8\"],[0.3333333333333333,\"#9c179e\"],[0.4444444444444444,\"#bd3786\"],[0.5555555555555556,\"#d8576b\"],[0.6666666666666666,\"#ed7953\"],[0.7777777777777778,\"#fb9f3a\"],[0.8888888888888888,\"#fdca26\"],[1.0,\"#f0f921\"]]}],\"mesh3d\":[{\"type\":\"mesh3d\",\"colorbar\":{\"outlinewidth\":0,\"ticks\":\"\"}}],\"scatter\":[{\"fillpattern\":{\"fillmode\":\"overlay\",\"size\":10,\"solidity\":0.2},\"type\":\"scatter\"}],\"parcoords\":[{\"type\":\"parcoords\",\"line\":{\"colorbar\":{\"outlinewidth\":0,\"ticks\":\"\"}}}],\"scatterpolargl\":[{\"type\":\"scatterpolargl\",\"marker\":{\"colorbar\":{\"outlinewidth\":0,\"ticks\":\"\"}}}],\"bar\":[{\"error_x\":{\"color\":\"#2a3f5f\"},\"error_y\":{\"color\":\"#2a3f5f\"},\"marker\":{\"line\":{\"color\":\"#E5ECF6\",\"width\":0.5},\"pattern\":{\"fillmode\":\"overlay\",\"size\":10,\"solidity\":0.2}},\"type\":\"bar\"}],\"scattergeo\":[{\"type\":\"scattergeo\",\"marker\":{\"colorbar\":{\"outlinewidth\":0,\"ticks\":\"\"}}}],\"scatterpolar\":[{\"type\":\"scatterpolar\",\"marker\":{\"colorbar\":{\"outlinewidth\":0,\"ticks\":\"\"}}}],\"histogram\":[{\"marker\":{\"pattern\":{\"fillmode\":\"overlay\",\"size\":10,\"solidity\":0.2}},\"type\":\"histogram\"}],\"scattergl\":[{\"type\":\"scattergl\",\"marker\":{\"colorbar\":{\"outlinewidth\":0,\"ticks\":\"\"}}}],\"scatter3d\":[{\"type\":\"scatter3d\",\"line\":{\"colorbar\":{\"outlinewidth\":0,\"ticks\":\"\"}},\"marker\":{\"colorbar\":{\"outlinewidth\":0,\"ticks\":\"\"}}}],\"scattermapbox\":[{\"type\":\"scattermapbox\",\"marker\":{\"colorbar\":{\"outlinewidth\":0,\"ticks\":\"\"}}}],\"scatterternary\":[{\"type\":\"scatterternary\",\"marker\":{\"colorbar\":{\"outlinewidth\":0,\"ticks\":\"\"}}}],\"scattercarpet\":[{\"type\":\"scattercarpet\",\"marker\":{\"colorbar\":{\"outlinewidth\":0,\"ticks\":\"\"}}}],\"carpet\":[{\"aaxis\":{\"endlinecolor\":\"#2a3f5f\",\"gridcolor\":\"white\",\"linecolor\":\"white\",\"minorgridcolor\":\"white\",\"startlinecolor\":\"#2a3f5f\"},\"baxis\":{\"endlinecolor\":\"#2a3f5f\",\"gridcolor\":\"white\",\"linecolor\":\"white\",\"minorgridcolor\":\"white\",\"startlinecolor\":\"#2a3f5f\"},\"type\":\"carpet\"}],\"table\":[{\"cells\":{\"fill\":{\"color\":\"#EBF0F8\"},\"line\":{\"color\":\"white\"}},\"header\":{\"fill\":{\"color\":\"#C8D4E3\"},\"line\":{\"color\":\"white\"}},\"type\":\"table\"}],\"barpolar\":[{\"marker\":{\"line\":{\"color\":\"#E5ECF6\",\"width\":0.5},\"pattern\":{\"fillmode\":\"overlay\",\"size\":10,\"solidity\":0.2}},\"type\":\"barpolar\"}],\"pie\":[{\"automargin\":true,\"type\":\"pie\"}]},\"layout\":{\"autotypenumbers\":\"strict\",\"colorway\":[\"#636efa\",\"#EF553B\",\"#00cc96\",\"#ab63fa\",\"#FFA15A\",\"#19d3f3\",\"#FF6692\",\"#B6E880\",\"#FF97FF\",\"#FECB52\"],\"font\":{\"color\":\"#2a3f5f\"},\"hovermode\":\"closest\",\"hoverlabel\":{\"align\":\"left\"},\"paper_bgcolor\":\"white\",\"plot_bgcolor\":\"#E5ECF6\",\"polar\":{\"bgcolor\":\"#E5ECF6\",\"angularaxis\":{\"gridcolor\":\"white\",\"linecolor\":\"white\",\"ticks\":\"\"},\"radialaxis\":{\"gridcolor\":\"white\",\"linecolor\":\"white\",\"ticks\":\"\"}},\"ternary\":{\"bgcolor\":\"#E5ECF6\",\"aaxis\":{\"gridcolor\":\"white\",\"linecolor\":\"white\",\"ticks\":\"\"},\"baxis\":{\"gridcolor\":\"white\",\"linecolor\":\"white\",\"ticks\":\"\"},\"caxis\":{\"gridcolor\":\"white\",\"linecolor\":\"white\",\"ticks\":\"\"}},\"coloraxis\":{\"colorbar\":{\"outlinewidth\":0,\"ticks\":\"\"}},\"colorscale\":{\"sequential\":[[0.0,\"#0d0887\"],[0.1111111111111111,\"#46039f\"],[0.2222222222222222,\"#7201a8\"],[0.3333333333333333,\"#9c179e\"],[0.4444444444444444,\"#bd3786\"],[0.5555555555555556,\"#d8576b\"],[0.6666666666666666,\"#ed7953\"],[0.7777777777777778,\"#fb9f3a\"],[0.8888888888888888,\"#fdca26\"],[1.0,\"#f0f921\"]],\"sequentialminus\":[[0.0,\"#0d0887\"],[0.1111111111111111,\"#46039f\"],[0.2222222222222222,\"#7201a8\"],[0.3333333333333333,\"#9c179e\"],[0.4444444444444444,\"#bd3786\"],[0.5555555555555556,\"#d8576b\"],[0.6666666666666666,\"#ed7953\"],[0.7777777777777778,\"#fb9f3a\"],[0.8888888888888888,\"#fdca26\"],[1.0,\"#f0f921\"]],\"diverging\":[[0,\"#8e0152\"],[0.1,\"#c51b7d\"],[0.2,\"#de77ae\"],[0.3,\"#f1b6da\"],[0.4,\"#fde0ef\"],[0.5,\"#f7f7f7\"],[0.6,\"#e6f5d0\"],[0.7,\"#b8e186\"],[0.8,\"#7fbc41\"],[0.9,\"#4d9221\"],[1,\"#276419\"]]},\"xaxis\":{\"gridcolor\":\"white\",\"linecolor\":\"white\",\"ticks\":\"\",\"title\":{\"standoff\":15},\"zerolinecolor\":\"white\",\"automargin\":true,\"zerolinewidth\":2},\"yaxis\":{\"gridcolor\":\"white\",\"linecolor\":\"white\",\"ticks\":\"\",\"title\":{\"standoff\":15},\"zerolinecolor\":\"white\",\"automargin\":true,\"zerolinewidth\":2},\"scene\":{\"xaxis\":{\"backgroundcolor\":\"#E5ECF6\",\"gridcolor\":\"white\",\"linecolor\":\"white\",\"showbackground\":true,\"ticks\":\"\",\"zerolinecolor\":\"white\",\"gridwidth\":2},\"yaxis\":{\"backgroundcolor\":\"#E5ECF6\",\"gridcolor\":\"white\",\"linecolor\":\"white\",\"showbackground\":true,\"ticks\":\"\",\"zerolinecolor\":\"white\",\"gridwidth\":2},\"zaxis\":{\"backgroundcolor\":\"#E5ECF6\",\"gridcolor\":\"white\",\"linecolor\":\"white\",\"showbackground\":true,\"ticks\":\"\",\"zerolinecolor\":\"white\",\"gridwidth\":2}},\"shapedefaults\":{\"line\":{\"color\":\"#2a3f5f\"}},\"annotationdefaults\":{\"arrowcolor\":\"#2a3f5f\",\"arrowhead\":0,\"arrowwidth\":1},\"geo\":{\"bgcolor\":\"white\",\"landcolor\":\"#E5ECF6\",\"subunitcolor\":\"white\",\"showland\":true,\"showlakes\":true,\"lakecolor\":\"white\"},\"title\":{\"x\":0.05},\"mapbox\":{\"style\":\"light\"}}},\"xaxis\":{\"anchor\":\"y\",\"domain\":[0.0,1.0],\"title\":{\"text\":\"RTL\"}},\"yaxis\":{\"anchor\":\"x\",\"domain\":[0.0,1.0],\"title\":{\"text\":\"AMS\"}},\"legend\":{\"tracegroupgap\":0},\"title\":{\"text\":\"AMS vs Shifted, RMSE=0.15, SNR=23.31\"},\"height\":400,\"width\":400},                        {\"responsive\": true}                    ).then(function(){\n",
       "                            \n",
       "var gd = document.getElementById('e73f4017-cef8-47f6-af63-14c91b2305e8');\n",
       "var x = new MutationObserver(function (mutations, observer) {{\n",
       "        var display = window.getComputedStyle(gd).display;\n",
       "        if (!display || display === 'none') {{\n",
       "            console.log([gd, 'removed!']);\n",
       "            Plotly.purge(gd);\n",
       "            observer.disconnect();\n",
       "        }}\n",
       "}});\n",
       "\n",
       "// Listen for the removal of the full notebook cells\n",
       "var notebookContainer = gd.closest('#notebook-container');\n",
       "if (notebookContainer) {{\n",
       "    x.observe(notebookContainer, {childList: true});\n",
       "}}\n",
       "\n",
       "// Listen for the clearing of the current output cell\n",
       "var outputEl = gd.closest('.output');\n",
       "if (outputEl) {{\n",
       "    x.observe(outputEl, {childList: true});\n",
       "}}\n",
       "\n",
       "                        })                };                });            </script>        </div>"
      ]
     },
     "metadata": {},
     "output_type": "display_data"
    }
   ],
   "source": [
    "w,x,wx_outBits = generate_qracc_inputs(\n",
    "    wDimX = 32, #nColumns\n",
    "    wDimY = 128, #nRows\n",
    "    xBatches = 10,\n",
    "    xTrits = 4,\n",
    "    outBits = 4,\n",
    "    seed = 0,\n",
    "    weight_mode = 'bipolar',\n",
    "    col_symmetric=False\n",
    ")\n",
    "\n",
    "# ams = np.loadtxt('../tb/seq_acc/inputs/adc_out.txt')\n",
    "rtl = np.loadtxt('../tb/seq_acc/inputs/mac_out_rtlsims.txt')\n",
    "\n",
    "wx = w @ x.T\n",
    "\n",
    "# rtl.astype(int), wx[::-1].T\n",
    "\n",
    "rtl_fp = rtl.flatten()/(2**8)\n",
    "wx_fp = wx[::-1].T.flatten()/(2**8)\n",
    "\n",
    "rmse = np.sqrt(np.mean((rtl_fp - wx_fp)**2))\n",
    "# SNR\n",
    "\n",
    "err =   rtl_fp - wx_fp\n",
    "snr = 20*np.log(np.var(rtl_fp) / np.var(err))\n",
    "\n",
    "px.scatter(x=rtl_fp, y=wx_fp, width=400, height=400, title=f'AMS vs Shifted, RMSE={rmse:.2f}, SNR={snr:.2f}', labels={'x':'RTL','y':'AMS'}).show()"
   ]
  },
  {
   "cell_type": "code",
   "execution_count": 283,
   "metadata": {},
   "outputs": [
    {
     "name": "stdout",
     "output_type": "stream",
     "text": [
      "x trits:\n",
      "     0  1  2  3\n",
      "0   -1  0 -1 -1\n",
      "1    1  1  0  0\n",
      "2    0  0  0  0\n",
      "3    0  1  1  0\n",
      "4    1  0  1  0\n",
      "..  .. .. .. ..\n",
      "123 -1 -1 -1 -1\n",
      "124  1  1  1  0\n",
      "125  0  0 -1  0\n",
      "126  0  0 -1 -1\n",
      "127 -1  0  0 -1\n",
      "\n",
      "[128 rows x 4 columns]\n",
      "partials:\n",
      "   0   1   2   3   4   5   6   7   8   9   ...  22  23  24  25  26  27  28  \\\n",
      "0 -16   8 -10  -2  -2  -4  -8  -4 -10   2  ...   4   6  22 -18  -2  12  20   \n",
      "1 -13  15  -7  -1   5  -9  -1  -7  -3   7  ...  -1  -5   5  -1   5  13   7   \n",
      "2  -5  -3 -13   1   9  -1   3 -13 -11   3  ...   3   3   7  -5  -3   7  13   \n",
      "3 -13   9  -1  13   5   1  -1 -19   1   5  ...   5  -1  13  -9  -7  13   3   \n",
      "\n",
      "   29  30  31  \n",
      "0   4  -2  -6  \n",
      "1   5  -3   1  \n",
      "2  -3   1  -1  \n",
      "3   1  -5   7  \n",
      "\n",
      "[4 rows x 32 columns]\n",
      "shifting accumulator:\n",
      "    0    1    2    3   4   5   6    7    8   9   ...  22  23   24   25  26  \\\n",
      "0 -104   72   -8  104  40   8  -8 -152    8  40  ...  40  -8  104  -72 -56   \n",
      "1  -92   12 -108   60  92  -4  20 -180  -84  44  ...  44  20  108  -76 -52   \n",
      "2 -150  126 -110   22  86 -74   2 -146  -66  78  ...  14 -30   94  -46  14   \n",
      "3 -203  127 -135   -5  27 -69 -63 -105 -113  55  ...  39  33  223 -167  -9   \n",
      "\n",
      "    27   28  29  30  31  \n",
      "0  104   24   8 -40  56  \n",
      "1  108  116 -20 -12  20  \n",
      "2  158  114  30 -30  18  \n",
      "3  175  217  47 -31 -39  \n",
      "\n",
      "[4 rows x 32 columns]\n"
     ]
    },
    {
     "data": {
      "text/plain": [
       "array([ -39.,  -31.,   47.,  217.,  175.,   -9., -167.,  223.,   33.,\n",
       "         39.,  -29.,   17., -139.,  -95.,   13.,  -95.,  -83., -259.,\n",
       "         73., -157.,  -33.,  213.,   55., -113., -105.,  -63.,  -69.,\n",
       "         27.,   -5., -135.,  127., -203.])"
      ]
     },
     "execution_count": 283,
     "metadata": {},
     "output_type": "execute_result"
    }
   ],
   "source": [
    "q.simulate_trit_mul(w, x[0], trits = 4, verbose=True)"
   ]
  },
  {
   "cell_type": "code",
   "execution_count": 284,
   "metadata": {},
   "outputs": [
    {
     "data": {
      "text/plain": [
       "array([  25,  159,   65,   51,  103,  179,  -29,  211,  -53,  -43,  -25,\n",
       "       -139,   89,  135, -137,    5,  -75,  125, -119,  -11,   -7,   39,\n",
       "        -13,  -79,    5,   21,  143,  -17,    9, -107, -147,  -51])"
      ]
     },
     "execution_count": 284,
     "metadata": {},
     "output_type": "execute_result"
    }
   ],
   "source": [
    "x[1] @ w.T"
   ]
  },
  {
   "cell_type": "code",
   "execution_count": 285,
   "metadata": {},
   "outputs": [
    {
     "data": {
      "text/html": [
       "<div>\n",
       "<style scoped>\n",
       "    .dataframe tbody tr th:only-of-type {\n",
       "        vertical-align: middle;\n",
       "    }\n",
       "\n",
       "    .dataframe tbody tr th {\n",
       "        vertical-align: top;\n",
       "    }\n",
       "\n",
       "    .dataframe thead th {\n",
       "        text-align: right;\n",
       "    }\n",
       "</style>\n",
       "<table border=\"1\" class=\"dataframe\">\n",
       "  <thead>\n",
       "    <tr style=\"text-align: right;\">\n",
       "      <th></th>\n",
       "      <th>0</th>\n",
       "      <th>1</th>\n",
       "      <th>2</th>\n",
       "      <th>3</th>\n",
       "      <th>4</th>\n",
       "      <th>5</th>\n",
       "      <th>6</th>\n",
       "      <th>7</th>\n",
       "      <th>8</th>\n",
       "      <th>9</th>\n",
       "      <th>...</th>\n",
       "      <th>22</th>\n",
       "      <th>23</th>\n",
       "      <th>24</th>\n",
       "      <th>25</th>\n",
       "      <th>26</th>\n",
       "      <th>27</th>\n",
       "      <th>28</th>\n",
       "      <th>29</th>\n",
       "      <th>30</th>\n",
       "      <th>31</th>\n",
       "    </tr>\n",
       "  </thead>\n",
       "  <tbody>\n",
       "    <tr>\n",
       "      <th>0</th>\n",
       "      <td>-114</td>\n",
       "      <td>85</td>\n",
       "      <td>-109</td>\n",
       "      <td>-11</td>\n",
       "      <td>23</td>\n",
       "      <td>-65</td>\n",
       "      <td>-63</td>\n",
       "      <td>-84</td>\n",
       "      <td>-91</td>\n",
       "      <td>55</td>\n",
       "      <td>...</td>\n",
       "      <td>39</td>\n",
       "      <td>33</td>\n",
       "      <td>97</td>\n",
       "      <td>-86</td>\n",
       "      <td>-9</td>\n",
       "      <td>105</td>\n",
       "      <td>101</td>\n",
       "      <td>47</td>\n",
       "      <td>-31</td>\n",
       "      <td>-39</td>\n",
       "    </tr>\n",
       "    <tr>\n",
       "      <th>1</th>\n",
       "      <td>-51</td>\n",
       "      <td>-95</td>\n",
       "      <td>-103</td>\n",
       "      <td>17</td>\n",
       "      <td>-17</td>\n",
       "      <td>105</td>\n",
       "      <td>21</td>\n",
       "      <td>3</td>\n",
       "      <td>-77</td>\n",
       "      <td>-1</td>\n",
       "      <td>...</td>\n",
       "      <td>-43</td>\n",
       "      <td>-41</td>\n",
       "      <td>97</td>\n",
       "      <td>-29</td>\n",
       "      <td>69</td>\n",
       "      <td>79</td>\n",
       "      <td>13</td>\n",
       "      <td>63</td>\n",
       "      <td>97</td>\n",
       "      <td>25</td>\n",
       "    </tr>\n",
       "    <tr>\n",
       "      <th>2</th>\n",
       "      <td>3</td>\n",
       "      <td>-31</td>\n",
       "      <td>-120</td>\n",
       "      <td>-27</td>\n",
       "      <td>-15</td>\n",
       "      <td>-19</td>\n",
       "      <td>41</td>\n",
       "      <td>-37</td>\n",
       "      <td>51</td>\n",
       "      <td>58</td>\n",
       "      <td>...</td>\n",
       "      <td>-79</td>\n",
       "      <td>-47</td>\n",
       "      <td>-9</td>\n",
       "      <td>-36</td>\n",
       "      <td>3</td>\n",
       "      <td>-15</td>\n",
       "      <td>-111</td>\n",
       "      <td>25</td>\n",
       "      <td>-31</td>\n",
       "      <td>31</td>\n",
       "    </tr>\n",
       "    <tr>\n",
       "      <th>3</th>\n",
       "      <td>-110</td>\n",
       "      <td>-57</td>\n",
       "      <td>-61</td>\n",
       "      <td>-47</td>\n",
       "      <td>89</td>\n",
       "      <td>-120</td>\n",
       "      <td>14</td>\n",
       "      <td>-120</td>\n",
       "      <td>-120</td>\n",
       "      <td>-30</td>\n",
       "      <td>...</td>\n",
       "      <td>97</td>\n",
       "      <td>-59</td>\n",
       "      <td>-116</td>\n",
       "      <td>25</td>\n",
       "      <td>49</td>\n",
       "      <td>105</td>\n",
       "      <td>17</td>\n",
       "      <td>95</td>\n",
       "      <td>17</td>\n",
       "      <td>97</td>\n",
       "    </tr>\n",
       "    <tr>\n",
       "      <th>4</th>\n",
       "      <td>-14</td>\n",
       "      <td>23</td>\n",
       "      <td>-102</td>\n",
       "      <td>-50</td>\n",
       "      <td>-107</td>\n",
       "      <td>-114</td>\n",
       "      <td>13</td>\n",
       "      <td>-3</td>\n",
       "      <td>-31</td>\n",
       "      <td>3</td>\n",
       "      <td>...</td>\n",
       "      <td>87</td>\n",
       "      <td>-25</td>\n",
       "      <td>69</td>\n",
       "      <td>-106</td>\n",
       "      <td>101</td>\n",
       "      <td>39</td>\n",
       "      <td>5</td>\n",
       "      <td>105</td>\n",
       "      <td>-103</td>\n",
       "      <td>-107</td>\n",
       "    </tr>\n",
       "    <tr>\n",
       "      <th>5</th>\n",
       "      <td>9</td>\n",
       "      <td>-84</td>\n",
       "      <td>19</td>\n",
       "      <td>47</td>\n",
       "      <td>15</td>\n",
       "      <td>57</td>\n",
       "      <td>-95</td>\n",
       "      <td>-19</td>\n",
       "      <td>-45</td>\n",
       "      <td>81</td>\n",
       "      <td>...</td>\n",
       "      <td>-49</td>\n",
       "      <td>55</td>\n",
       "      <td>47</td>\n",
       "      <td>59</td>\n",
       "      <td>-29</td>\n",
       "      <td>59</td>\n",
       "      <td>-23</td>\n",
       "      <td>3</td>\n",
       "      <td>95</td>\n",
       "      <td>-48</td>\n",
       "    </tr>\n",
       "    <tr>\n",
       "      <th>6</th>\n",
       "      <td>-20</td>\n",
       "      <td>26</td>\n",
       "      <td>-56</td>\n",
       "      <td>20</td>\n",
       "      <td>95</td>\n",
       "      <td>-80</td>\n",
       "      <td>16</td>\n",
       "      <td>-28</td>\n",
       "      <td>-110</td>\n",
       "      <td>-104</td>\n",
       "      <td>...</td>\n",
       "      <td>63</td>\n",
       "      <td>-16</td>\n",
       "      <td>87</td>\n",
       "      <td>80</td>\n",
       "      <td>-12</td>\n",
       "      <td>28</td>\n",
       "      <td>-20</td>\n",
       "      <td>56</td>\n",
       "      <td>16</td>\n",
       "      <td>18</td>\n",
       "    </tr>\n",
       "    <tr>\n",
       "      <th>7</th>\n",
       "      <td>-108</td>\n",
       "      <td>3</td>\n",
       "      <td>-10</td>\n",
       "      <td>56</td>\n",
       "      <td>28</td>\n",
       "      <td>-84</td>\n",
       "      <td>-24</td>\n",
       "      <td>-30</td>\n",
       "      <td>-76</td>\n",
       "      <td>30</td>\n",
       "      <td>...</td>\n",
       "      <td>73</td>\n",
       "      <td>-18</td>\n",
       "      <td>-44</td>\n",
       "      <td>6</td>\n",
       "      <td>-54</td>\n",
       "      <td>6</td>\n",
       "      <td>57</td>\n",
       "      <td>-10</td>\n",
       "      <td>57</td>\n",
       "      <td>-120</td>\n",
       "    </tr>\n",
       "    <tr>\n",
       "      <th>8</th>\n",
       "      <td>-25</td>\n",
       "      <td>105</td>\n",
       "      <td>-31</td>\n",
       "      <td>-57</td>\n",
       "      <td>53</td>\n",
       "      <td>-5</td>\n",
       "      <td>-69</td>\n",
       "      <td>-19</td>\n",
       "      <td>69</td>\n",
       "      <td>97</td>\n",
       "      <td>...</td>\n",
       "      <td>-80</td>\n",
       "      <td>-79</td>\n",
       "      <td>65</td>\n",
       "      <td>43</td>\n",
       "      <td>-19</td>\n",
       "      <td>-3</td>\n",
       "      <td>105</td>\n",
       "      <td>-106</td>\n",
       "      <td>-107</td>\n",
       "      <td>39</td>\n",
       "    </tr>\n",
       "    <tr>\n",
       "      <th>9</th>\n",
       "      <td>57</td>\n",
       "      <td>-87</td>\n",
       "      <td>21</td>\n",
       "      <td>-70</td>\n",
       "      <td>-85</td>\n",
       "      <td>77</td>\n",
       "      <td>61</td>\n",
       "      <td>-34</td>\n",
       "      <td>-77</td>\n",
       "      <td>103</td>\n",
       "      <td>...</td>\n",
       "      <td>-49</td>\n",
       "      <td>-120</td>\n",
       "      <td>-61</td>\n",
       "      <td>33</td>\n",
       "      <td>67</td>\n",
       "      <td>73</td>\n",
       "      <td>73</td>\n",
       "      <td>105</td>\n",
       "      <td>-94</td>\n",
       "      <td>-33</td>\n",
       "    </tr>\n",
       "  </tbody>\n",
       "</table>\n",
       "<p>10 rows × 32 columns</p>\n",
       "</div>"
      ],
      "text/plain": [
       "    0    1    2   3    4    5   6    7    8    9   ...  22   23   24   25  \\\n",
       "0 -114   85 -109 -11   23  -65 -63  -84  -91   55  ...  39   33   97  -86   \n",
       "1  -51  -95 -103  17  -17  105  21    3  -77   -1  ... -43  -41   97  -29   \n",
       "2    3  -31 -120 -27  -15  -19  41  -37   51   58  ... -79  -47   -9  -36   \n",
       "3 -110  -57  -61 -47   89 -120  14 -120 -120  -30  ...  97  -59 -116   25   \n",
       "4  -14   23 -102 -50 -107 -114  13   -3  -31    3  ...  87  -25   69 -106   \n",
       "5    9  -84   19  47   15   57 -95  -19  -45   81  ... -49   55   47   59   \n",
       "6  -20   26  -56  20   95  -80  16  -28 -110 -104  ...  63  -16   87   80   \n",
       "7 -108    3  -10  56   28  -84 -24  -30  -76   30  ...  73  -18  -44    6   \n",
       "8  -25  105  -31 -57   53   -5 -69  -19   69   97  ... -80  -79   65   43   \n",
       "9   57  -87   21 -70  -85   77  61  -34  -77  103  ... -49 -120  -61   33   \n",
       "\n",
       "    26   27   28   29   30   31  \n",
       "0   -9  105  101   47  -31  -39  \n",
       "1   69   79   13   63   97   25  \n",
       "2    3  -15 -111   25  -31   31  \n",
       "3   49  105   17   95   17   97  \n",
       "4  101   39    5  105 -103 -107  \n",
       "5  -29   59  -23    3   95  -48  \n",
       "6  -12   28  -20   56   16   18  \n",
       "7  -54    6   57  -10   57 -120  \n",
       "8  -19   -3  105 -106 -107   39  \n",
       "9   67   73   73  105  -94  -33  \n",
       "\n",
       "[10 rows x 32 columns]"
      ]
     },
     "execution_count": 285,
     "metadata": {},
     "output_type": "execute_result"
    }
   ],
   "source": [
    "df(rtl.astype(int)) "
   ]
  },
  {
   "cell_type": "code",
   "execution_count": 286,
   "metadata": {},
   "outputs": [
    {
     "data": {
      "text/html": [
       "<div>\n",
       "<style scoped>\n",
       "    .dataframe tbody tr th:only-of-type {\n",
       "        vertical-align: middle;\n",
       "    }\n",
       "\n",
       "    .dataframe tbody tr th {\n",
       "        vertical-align: top;\n",
       "    }\n",
       "\n",
       "    .dataframe thead th {\n",
       "        text-align: right;\n",
       "    }\n",
       "</style>\n",
       "<table border=\"1\" class=\"dataframe\">\n",
       "  <thead>\n",
       "    <tr style=\"text-align: right;\">\n",
       "      <th></th>\n",
       "      <th>0</th>\n",
       "      <th>1</th>\n",
       "      <th>2</th>\n",
       "      <th>3</th>\n",
       "      <th>4</th>\n",
       "      <th>5</th>\n",
       "      <th>6</th>\n",
       "      <th>7</th>\n",
       "      <th>8</th>\n",
       "      <th>9</th>\n",
       "      <th>...</th>\n",
       "      <th>22</th>\n",
       "      <th>23</th>\n",
       "      <th>24</th>\n",
       "      <th>25</th>\n",
       "      <th>26</th>\n",
       "      <th>27</th>\n",
       "      <th>28</th>\n",
       "      <th>29</th>\n",
       "      <th>30</th>\n",
       "      <th>31</th>\n",
       "    </tr>\n",
       "  </thead>\n",
       "  <tbody>\n",
       "    <tr>\n",
       "      <th>0</th>\n",
       "      <td>-203</td>\n",
       "      <td>127</td>\n",
       "      <td>-135</td>\n",
       "      <td>-5</td>\n",
       "      <td>27</td>\n",
       "      <td>-69</td>\n",
       "      <td>-63</td>\n",
       "      <td>-105</td>\n",
       "      <td>-113</td>\n",
       "      <td>55</td>\n",
       "      <td>...</td>\n",
       "      <td>39</td>\n",
       "      <td>33</td>\n",
       "      <td>223</td>\n",
       "      <td>-167</td>\n",
       "      <td>-9</td>\n",
       "      <td>175</td>\n",
       "      <td>217</td>\n",
       "      <td>47</td>\n",
       "      <td>-31</td>\n",
       "      <td>-39</td>\n",
       "    </tr>\n",
       "    <tr>\n",
       "      <th>1</th>\n",
       "      <td>-51</td>\n",
       "      <td>-147</td>\n",
       "      <td>-107</td>\n",
       "      <td>9</td>\n",
       "      <td>-17</td>\n",
       "      <td>143</td>\n",
       "      <td>21</td>\n",
       "      <td>5</td>\n",
       "      <td>-79</td>\n",
       "      <td>-13</td>\n",
       "      <td>...</td>\n",
       "      <td>-43</td>\n",
       "      <td>-53</td>\n",
       "      <td>211</td>\n",
       "      <td>-29</td>\n",
       "      <td>179</td>\n",
       "      <td>103</td>\n",
       "      <td>51</td>\n",
       "      <td>65</td>\n",
       "      <td>159</td>\n",
       "      <td>25</td>\n",
       "    </tr>\n",
       "    <tr>\n",
       "      <th>2</th>\n",
       "      <td>3</td>\n",
       "      <td>-11</td>\n",
       "      <td>-203</td>\n",
       "      <td>-25</td>\n",
       "      <td>-15</td>\n",
       "      <td>-19</td>\n",
       "      <td>45</td>\n",
       "      <td>-37</td>\n",
       "      <td>67</td>\n",
       "      <td>63</td>\n",
       "      <td>...</td>\n",
       "      <td>-119</td>\n",
       "      <td>-47</td>\n",
       "      <td>-9</td>\n",
       "      <td>-43</td>\n",
       "      <td>9</td>\n",
       "      <td>-15</td>\n",
       "      <td>-111</td>\n",
       "      <td>25</td>\n",
       "      <td>-39</td>\n",
       "      <td>31</td>\n",
       "    </tr>\n",
       "    <tr>\n",
       "      <th>3</th>\n",
       "      <td>-123</td>\n",
       "      <td>-89</td>\n",
       "      <td>-61</td>\n",
       "      <td>-91</td>\n",
       "      <td>129</td>\n",
       "      <td>-247</td>\n",
       "      <td>13</td>\n",
       "      <td>-165</td>\n",
       "      <td>-295</td>\n",
       "      <td>-63</td>\n",
       "      <td>...</td>\n",
       "      <td>145</td>\n",
       "      <td>-65</td>\n",
       "      <td>-179</td>\n",
       "      <td>25</td>\n",
       "      <td>51</td>\n",
       "      <td>171</td>\n",
       "      <td>21</td>\n",
       "      <td>111</td>\n",
       "      <td>11</td>\n",
       "      <td>227</td>\n",
       "    </tr>\n",
       "    <tr>\n",
       "      <th>4</th>\n",
       "      <td>-15</td>\n",
       "      <td>23</td>\n",
       "      <td>-115</td>\n",
       "      <td>-53</td>\n",
       "      <td>-121</td>\n",
       "      <td>-133</td>\n",
       "      <td>19</td>\n",
       "      <td>-1</td>\n",
       "      <td>-31</td>\n",
       "      <td>3</td>\n",
       "      <td>...</td>\n",
       "      <td>111</td>\n",
       "      <td>-25</td>\n",
       "      <td>69</td>\n",
       "      <td>-133</td>\n",
       "      <td>221</td>\n",
       "      <td>31</td>\n",
       "      <td>5</td>\n",
       "      <td>135</td>\n",
       "      <td>-135</td>\n",
       "      <td>-133</td>\n",
       "    </tr>\n",
       "    <tr>\n",
       "      <th>5</th>\n",
       "      <td>5</td>\n",
       "      <td>-155</td>\n",
       "      <td>19</td>\n",
       "      <td>91</td>\n",
       "      <td>15</td>\n",
       "      <td>57</td>\n",
       "      <td>-111</td>\n",
       "      <td>-19</td>\n",
       "      <td>-41</td>\n",
       "      <td>99</td>\n",
       "      <td>...</td>\n",
       "      <td>-57</td>\n",
       "      <td>51</td>\n",
       "      <td>49</td>\n",
       "      <td>59</td>\n",
       "      <td>-29</td>\n",
       "      <td>95</td>\n",
       "      <td>-23</td>\n",
       "      <td>3</td>\n",
       "      <td>105</td>\n",
       "      <td>-73</td>\n",
       "    </tr>\n",
       "    <tr>\n",
       "      <th>6</th>\n",
       "      <td>-28</td>\n",
       "      <td>26</td>\n",
       "      <td>-56</td>\n",
       "      <td>18</td>\n",
       "      <td>108</td>\n",
       "      <td>-88</td>\n",
       "      <td>16</td>\n",
       "      <td>-46</td>\n",
       "      <td>-142</td>\n",
       "      <td>-120</td>\n",
       "      <td>...</td>\n",
       "      <td>64</td>\n",
       "      <td>-16</td>\n",
       "      <td>146</td>\n",
       "      <td>84</td>\n",
       "      <td>2</td>\n",
       "      <td>32</td>\n",
       "      <td>-28</td>\n",
       "      <td>56</td>\n",
       "      <td>12</td>\n",
       "      <td>18</td>\n",
       "    </tr>\n",
       "    <tr>\n",
       "      <th>7</th>\n",
       "      <td>-138</td>\n",
       "      <td>10</td>\n",
       "      <td>-10</td>\n",
       "      <td>88</td>\n",
       "      <td>54</td>\n",
       "      <td>-92</td>\n",
       "      <td>-24</td>\n",
       "      <td>-38</td>\n",
       "      <td>-86</td>\n",
       "      <td>30</td>\n",
       "      <td>...</td>\n",
       "      <td>86</td>\n",
       "      <td>-18</td>\n",
       "      <td>-72</td>\n",
       "      <td>16</td>\n",
       "      <td>-58</td>\n",
       "      <td>2</td>\n",
       "      <td>60</td>\n",
       "      <td>-4</td>\n",
       "      <td>108</td>\n",
       "      <td>-148</td>\n",
       "    </tr>\n",
       "    <tr>\n",
       "      <th>8</th>\n",
       "      <td>-25</td>\n",
       "      <td>195</td>\n",
       "      <td>-35</td>\n",
       "      <td>-59</td>\n",
       "      <td>117</td>\n",
       "      <td>-5</td>\n",
       "      <td>-69</td>\n",
       "      <td>-19</td>\n",
       "      <td>93</td>\n",
       "      <td>185</td>\n",
       "      <td>...</td>\n",
       "      <td>-133</td>\n",
       "      <td>-87</td>\n",
       "      <td>85</td>\n",
       "      <td>43</td>\n",
       "      <td>-35</td>\n",
       "      <td>-3</td>\n",
       "      <td>137</td>\n",
       "      <td>-147</td>\n",
       "      <td>-129</td>\n",
       "      <td>87</td>\n",
       "    </tr>\n",
       "    <tr>\n",
       "      <th>9</th>\n",
       "      <td>71</td>\n",
       "      <td>-111</td>\n",
       "      <td>27</td>\n",
       "      <td>-111</td>\n",
       "      <td>-85</td>\n",
       "      <td>149</td>\n",
       "      <td>61</td>\n",
       "      <td>-43</td>\n",
       "      <td>-81</td>\n",
       "      <td>151</td>\n",
       "      <td>...</td>\n",
       "      <td>-49</td>\n",
       "      <td>-253</td>\n",
       "      <td>-85</td>\n",
       "      <td>33</td>\n",
       "      <td>99</td>\n",
       "      <td>75</td>\n",
       "      <td>119</td>\n",
       "      <td>183</td>\n",
       "      <td>-99</td>\n",
       "      <td>-37</td>\n",
       "    </tr>\n",
       "  </tbody>\n",
       "</table>\n",
       "<p>10 rows × 32 columns</p>\n",
       "</div>"
      ],
      "text/plain": [
       "    0    1    2    3    4    5    6    7    8    9   ...   22   23   24   25  \\\n",
       "0 -203  127 -135   -5   27  -69  -63 -105 -113   55  ...   39   33  223 -167   \n",
       "1  -51 -147 -107    9  -17  143   21    5  -79  -13  ...  -43  -53  211  -29   \n",
       "2    3  -11 -203  -25  -15  -19   45  -37   67   63  ... -119  -47   -9  -43   \n",
       "3 -123  -89  -61  -91  129 -247   13 -165 -295  -63  ...  145  -65 -179   25   \n",
       "4  -15   23 -115  -53 -121 -133   19   -1  -31    3  ...  111  -25   69 -133   \n",
       "5    5 -155   19   91   15   57 -111  -19  -41   99  ...  -57   51   49   59   \n",
       "6  -28   26  -56   18  108  -88   16  -46 -142 -120  ...   64  -16  146   84   \n",
       "7 -138   10  -10   88   54  -92  -24  -38  -86   30  ...   86  -18  -72   16   \n",
       "8  -25  195  -35  -59  117   -5  -69  -19   93  185  ... -133  -87   85   43   \n",
       "9   71 -111   27 -111  -85  149   61  -43  -81  151  ...  -49 -253  -85   33   \n",
       "\n",
       "    26   27   28   29   30   31  \n",
       "0   -9  175  217   47  -31  -39  \n",
       "1  179  103   51   65  159   25  \n",
       "2    9  -15 -111   25  -39   31  \n",
       "3   51  171   21  111   11  227  \n",
       "4  221   31    5  135 -135 -133  \n",
       "5  -29   95  -23    3  105  -73  \n",
       "6    2   32  -28   56   12   18  \n",
       "7  -58    2   60   -4  108 -148  \n",
       "8  -35   -3  137 -147 -129   87  \n",
       "9   99   75  119  183  -99  -37  \n",
       "\n",
       "[10 rows x 32 columns]"
      ]
     },
     "execution_count": 286,
     "metadata": {},
     "output_type": "execute_result"
    }
   ],
   "source": [
    "df(wx[::-1].T)"
   ]
  }
 ],
 "metadata": {
  "kernelspec": {
   "display_name": "ic_dec",
   "language": "python",
   "name": "python3"
  },
  "language_info": {
   "codemirror_mode": {
    "name": "ipython",
    "version": 3
   },
   "file_extension": ".py",
   "mimetype": "text/x-python",
   "name": "python",
   "nbconvert_exporter": "python",
   "pygments_lexer": "ipython3",
   "version": "3.12.2"
  }
 },
 "nbformat": 4,
 "nbformat_minor": 2
}
