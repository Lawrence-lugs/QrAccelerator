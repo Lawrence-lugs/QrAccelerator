{
 "cells": [
  {
   "cell_type": "markdown",
   "metadata": {},
   "source": [
    "# Results Notebook"
   ]
  },
  {
   "cell_type": "code",
   "execution_count": 1,
   "metadata": {},
   "outputs": [],
   "source": [
    "%load_ext autoreload\n",
    "%autoreload 2\n",
    "\n",
    "import hwacctools.quantization.quant as q\n",
    "from stim_lib.stimulus_gen import generate_qracc_inputs\n",
    "import numpy as np\n",
    "import plotly.express as px\n",
    "import seaborn as sns\n",
    "import pandas as pd\n",
    "df = pd.DataFrame\n",
    "sns.set_theme()\n",
    "\n",
    "def melt_row_col_data(arr,name):\n",
    "    arr_df = df(arr)\n",
    "    arr_df = arr_df.melt(\n",
    "        ignore_index=False,\n",
    "        var_name='Column',\n",
    "        value_name='ADC_OUT_AMS',\n",
    "    )\n",
    "    arr_df['Row'] = arr_df.index\n",
    "    return arr_df"
   ]
  },
  {
   "cell_type": "code",
   "execution_count": null,
   "metadata": {},
   "outputs": [],
   "source": [
    "# Generate the reference result\n",
    "\n",
    "w,x,wx_outBits = generate_qracc_inputs(\n",
    "    wDimX = 32, #nColumns\n",
    "    wDimY = 128, #nRows\n",
    "    xBatches = 10,\n",
    "    xTrits = 1,\n",
    "    outBits = 4,\n",
    "    seed = 0,\n",
    "    weight_mode = 'bipolar',\n",
    "    col_symmetric=False\n",
    ")\n",
    "wx = w @ x.T\n",
    "wx_rounded = np.round(wx.T / 2**2).astype(int).T[::-1].T"
   ]
  },
  {
   "cell_type": "markdown",
   "metadata": {},
   "source": [
    "### Comparing AMS vs RTL simulations of QRAcc"
   ]
  },
  {
   "cell_type": "code",
   "execution_count": null,
   "metadata": {},
   "outputs": [],
   "source": [
    "ams = np.loadtxt('../tb/qracc/inputs/adc_out.txt')\n",
    "rtl = np.loadtxt('../tb/qracc/inputs/adc_out_rtlsims.txt')\n",
    "\n",
    "ams_df = df(ams)\n",
    "rtl_df = df(rtl)\n",
    "\n",
    "# ams_df['Row'] = ams_df.index\n",
    "# rtl_df['Row'] = rtl_df.index\n",
    "\n",
    "ams_df = ams_df.melt(\n",
    "    ignore_index=False,\n",
    "    var_name='Column',\n",
    "    value_name='ADC_OUT_AMS',\n",
    ")\n",
    "rtl_df = rtl_df.melt(\n",
    "    ignore_index=False,\n",
    "    var_name='Column',\n",
    "    value_name='ADC_OUT_RTL',\n",
    ")\n",
    "ams_df['Row'] = ams_df.index\n",
    "rtl_df['Row'] = rtl_df.index\n",
    "# Join the two dataframes\n",
    "adc_df = pd.merge(ams_df, rtl_df)\n",
    "\n",
    "rmse = np.sqrt(np.mean((rtl.flatten() - ams.flatten())**2))\n",
    "fig = px.scatter(adc_df, y='ADC_OUT_AMS', x='ADC_OUT_RTL', width=400, height=400, title=f'AMS vs Shifted, RMSE={rmse:.2f}', labels={'ADC_OUT_AMS':'AMS','ADC_OUT_RTL':'RTL'})\n",
    "fig.show()\n",
    "fig.write_image('../images/rtl_vs_ams.svg')"
   ]
  },
  {
   "cell_type": "markdown",
   "metadata": {},
   "source": [
    "# Sequential Accelerator Simulations"
   ]
  },
  {
   "cell_type": "code",
   "execution_count": null,
   "metadata": {},
   "outputs": [],
   "source": [
    "w,x,wx_outBits = generate_qracc_inputs(\n",
    "    wDimX = 3, #nColumns\n",
    "    wDimY = 4, #nRows\n",
    "    xBatches = 10,\n",
    "    xTrits = 4,\n",
    "    outBits = 4,\n",
    "    seed = 0,\n",
    "    weight_mode = 'bipolar',\n",
    "    col_symmetric=False\n",
    ")\n",
    "\n",
    "# ams = np.loadtxt('../tb/seq_acc/inputs/adc_out.txt')\n",
    "rtl = np.loadtxt('../tb/seq_acc/inputs/mac_out_rtlsims.txt')\n",
    "\n",
    "wx = w @ x.T\n",
    "\n",
    "rtl.astype(int), wx[::-1].T\n",
    "rmse = np.sqrt(np.mean((rtl.flatten() - wx[::-1].T.flatten())**2))\n",
    "px.scatter(x=rtl.flatten(), y=wx[::-1].T.flatten(), width=400, height=400, title=f'AMS vs Shifted, RMSE={rmse:.2f}')"
   ]
  }
 ],
 "metadata": {
  "kernelspec": {
   "display_name": "ic_dec",
   "language": "python",
   "name": "python3"
  },
  "language_info": {
   "codemirror_mode": {
    "name": "ipython",
    "version": 3
   },
   "file_extension": ".py",
   "mimetype": "text/x-python",
   "name": "python",
   "nbconvert_exporter": "python",
   "pygments_lexer": "ipython3",
   "version": "3.12.2"
  }
 },
 "nbformat": 4,
 "nbformat_minor": 2
}
